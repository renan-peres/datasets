{
 "cells": [
  {
   "cell_type": "markdown",
   "metadata": {},
   "source": [
    "# Commodity List\n",
    "- **Reference**: https://site.financialmodelingprep.com/developer/docs#full-quote-list-commodities"
   ]
  },
  {
   "cell_type": "markdown",
   "metadata": {},
   "source": [
    "## Step 1: Import Libraries"
   ]
  },
  {
   "cell_type": "code",
   "execution_count": 1,
   "metadata": {
    "execution": {
     "iopub.execute_input": "2025-01-17T15:30:40.693048Z",
     "iopub.status.busy": "2025-01-17T15:30:40.692573Z",
     "iopub.status.idle": "2025-01-17T15:30:40.747182Z",
     "shell.execute_reply": "2025-01-17T15:30:40.746476Z"
    }
   },
   "outputs": [],
   "source": [
    "%run ../make_clean_names.py"
   ]
  },
  {
   "cell_type": "code",
   "execution_count": 2,
   "metadata": {
    "execution": {
     "iopub.execute_input": "2025-01-17T15:30:40.749668Z",
     "iopub.status.busy": "2025-01-17T15:30:40.749306Z",
     "iopub.status.idle": "2025-01-17T15:30:40.802067Z",
     "shell.execute_reply": "2025-01-17T15:30:40.801065Z"
    }
   },
   "outputs": [],
   "source": [
    "import os\n",
    "import logging\n",
    "import requests\n",
    "import polars as pl\n",
    "from datetime import datetime\n",
    "from typing import Dict\n",
    "from requests.adapters import HTTPAdapter\n",
    "from requests.packages.urllib3.util.retry import Retry\n",
    "from dotenv import load_dotenv\n",
    "\n",
    "# Load environment variables\n",
    "load_dotenv()\n",
    "\n",
    "# Configure logging\n",
    "logging.basicConfig(level=logging.INFO)\n",
    "logger = logging.getLogger(__name__)\n",
    "\n",
    "def create_session() -> requests.Session:\n",
    "    \"\"\"Create a session with retry strategy.\"\"\"\n",
    "    session = requests.Session()\n",
    "    retries = Retry(\n",
    "        total=3,\n",
    "        backoff_factor=1,\n",
    "        status_forcelist=[429, 500, 502, 503, 504]\n",
    "    )\n",
    "    session.mount('https://', HTTPAdapter(max_retries=retries, pool_maxsize=10))\n",
    "    return session\n",
    "\n",
    "# Get API key from environment variables\n",
    "FMP_API_KEY = os.getenv('FMP_API_KEY')\n",
    "if not FMP_API_KEY:\n",
    "    raise ValueError(\"FMP_API_KEY not found in environment variables\")"
   ]
  },
  {
   "cell_type": "markdown",
   "metadata": {},
   "source": [
    "## Step 2: Extract Data from FMP into Polars"
   ]
  },
  {
   "cell_type": "code",
   "execution_count": 3,
   "metadata": {
    "execution": {
     "iopub.execute_input": "2025-01-17T15:30:40.805540Z",
     "iopub.status.busy": "2025-01-17T15:30:40.805301Z",
     "iopub.status.idle": "2025-01-17T15:30:41.155450Z",
     "shell.execute_reply": "2025-01-17T15:30:41.154540Z"
    }
   },
   "outputs": [],
   "source": [
    "def fetch_data(api_key: str, session: requests.Session) -> Dict:\n",
    "    \"\"\"Fetch historical forex data for a single pair with pair identifier\"\"\"\n",
    "    url = f\"https://financialmodelingprep.com/api/v3/quotes/commodity\"\n",
    "    params = {\n",
    "        \"apikey\": api_key\n",
    "    }\n",
    "        \n",
    "    try:\n",
    "        response = session.get(url, params=params, timeout=10)\n",
    "        response.raise_for_status()\n",
    "        data = response.json()\n",
    "        return data\n",
    "    except Exception as e:\n",
    "        return None\n",
    "\n",
    "# Create a session\n",
    "session = create_session()\n",
    "\n",
    "# Execute fetching\n",
    "data = fetch_data(FMP_API_KEY, session)\n",
    "\n",
    "# Convert to Polars DataFrame if data exists\n",
    "if data:\n",
    "    df = pl.DataFrame(data)"
   ]
  },
  {
   "cell_type": "markdown",
   "metadata": {},
   "source": [
    "## Step 3: Clean Column Names"
   ]
  },
  {
   "cell_type": "code",
   "execution_count": 4,
   "metadata": {
    "execution": {
     "iopub.execute_input": "2025-01-17T15:30:41.157857Z",
     "iopub.status.busy": "2025-01-17T15:30:41.157632Z",
     "iopub.status.idle": "2025-01-17T15:30:41.162623Z",
     "shell.execute_reply": "2025-01-17T15:30:41.162089Z"
    }
   },
   "outputs": [],
   "source": [
    "df = make_clean_names(df)"
   ]
  },
  {
   "cell_type": "markdown",
   "metadata": {},
   "source": [
    "## Step 4: Write Polars to Parquet"
   ]
  },
  {
   "cell_type": "code",
   "execution_count": 5,
   "metadata": {
    "execution": {
     "iopub.execute_input": "2025-01-17T15:30:41.164863Z",
     "iopub.status.busy": "2025-01-17T15:30:41.164655Z",
     "iopub.status.idle": "2025-01-17T15:30:41.187955Z",
     "shell.execute_reply": "2025-01-17T15:30:41.187174Z"
    }
   },
   "outputs": [],
   "source": [
    "# Define the output directory\n",
    "output_dir = \"../../../data/finance\"\n",
    "\n",
    "# Write the processed DataFrame to a Parquet file\n",
    "df.write_parquet(f'{output_dir}/commodity_list.parquet')"
   ]
  },
  {
   "cell_type": "markdown",
   "metadata": {},
   "source": [
    "## Step 5: Read Parquet (Validate)"
   ]
  },
  {
   "cell_type": "code",
   "execution_count": 6,
   "metadata": {
    "execution": {
     "iopub.execute_input": "2025-01-17T15:30:41.190587Z",
     "iopub.status.busy": "2025-01-17T15:30:41.190380Z",
     "iopub.status.idle": "2025-01-17T15:30:41.198354Z",
     "shell.execute_reply": "2025-01-17T15:30:41.197799Z"
    }
   },
   "outputs": [
    {
     "data": {
      "text/html": [
       "<div><style>\n",
       ".dataframe > thead > tr,\n",
       ".dataframe > tbody > tr {\n",
       "  text-align: right;\n",
       "  white-space: pre-wrap;\n",
       "}\n",
       "</style>\n",
       "<small>shape: (5, 22)</small><table border=\"1\" class=\"dataframe\"><thead><tr><th>symbol</th><th>name</th><th>price</th><th>changes_percentage</th><th>change</th><th>day_low</th><th>day_high</th><th>year_high</th><th>year_low</th><th>market_cap</th><th>price_avg_50</th><th>price_avg_200</th><th>exchange</th><th>volume</th><th>avg_volume</th><th>open</th><th>previous_close</th><th>eps</th><th>pe</th><th>earnings_announcement</th><th>shares_outstanding</th><th>timestamp</th></tr><tr><td>str</td><td>str</td><td>f64</td><td>f64</td><td>f64</td><td>f64</td><td>f64</td><td>f64</td><td>f64</td><td>null</td><td>f64</td><td>f64</td><td>str</td><td>i64</td><td>i64</td><td>f64</td><td>f64</td><td>null</td><td>null</td><td>null</td><td>null</td><td>i64</td></tr></thead><tbody><tr><td>&quot;DCUSD&quot;</td><td>&quot;Class III Milk Futures&quot;</td><td>20.27</td><td>-0.14778</td><td>-0.03</td><td>19.27</td><td>20.28</td><td>23.43</td><td>15.17</td><td>null</td><td>null</td><td>null</td><td>&quot;COMMODITY&quot;</td><td>274</td><td>232</td><td>20.28</td><td>20.3</td><td>null</td><td>null</td><td>null</td><td>null</td><td>1737127140</td></tr><tr><td>&quot;RTYUSD&quot;</td><td>&quot;Micro E-mini Russell 2000 Inde…</td><td>2292.7</td><td>0.59231</td><td>13.5</td><td>2273.9</td><td>2307.5</td><td>2477.1</td><td>1915.8</td><td>null</td><td>2336.677</td><td>2182.1152</td><td>&quot;COMMODITY&quot;</td><td>12660</td><td>159874</td><td>2275.3</td><td>2279.2</td><td>null</td><td>null</td><td>null</td><td>null</td><td>1737127238</td></tr><tr><td>&quot;ZLUSX&quot;</td><td>&quot;Soybean Oil Futures&quot;</td><td>45.14</td><td>0.24428</td><td>0.11</td><td>44.95</td><td>45.69</td><td>49.8</td><td>38.6</td><td>null</td><td>42.6814</td><td>43.55505</td><td>&quot;COMMODITY&quot;</td><td>8599</td><td>46734</td><td>45.24</td><td>45.03</td><td>null</td><td>null</td><td>null</td><td>null</td><td>1737127236</td></tr><tr><td>&quot;LEUSX&quot;</td><td>&quot;Live Cattle Futures&quot;</td><td>196.4</td><td>-0.10173</td><td>-0.2</td><td>195.725</td><td>198.525</td><td>199.1</td><td>172.7</td><td>null</td><td>189.8195</td><td>185.00862</td><td>&quot;COMMODITY&quot;</td><td>26049</td><td>15706</td><td>196.925</td><td>196.6</td><td>null</td><td>null</td><td>null</td><td>null</td><td>1737127235</td></tr><tr><td>&quot;DXUSD&quot;</td><td>&quot;US Dollar&quot;</td><td>108.8</td><td>-0.015623</td><td>-0.017</td><td>108.68</td><td>109.255</td><td>110.015</td><td>99.865</td><td>null</td><td>107.04008</td><td>104.4854</td><td>&quot;COMMODITY&quot;</td><td>8240</td><td>19682</td><td>108.785</td><td>108.817</td><td>null</td><td>null</td><td>null</td><td>null</td><td>1737127235</td></tr></tbody></table></div>"
      ],
      "text/plain": [
       "shape: (5, 22)\n",
       "┌────────┬──────────────┬────────┬─────────────┬───┬──────┬─────────────┬─────────────┬────────────┐\n",
       "│ symbol ┆ name         ┆ price  ┆ changes_per ┆ … ┆ pe   ┆ earnings_an ┆ shares_outs ┆ timestamp  │\n",
       "│ ---    ┆ ---          ┆ ---    ┆ centage     ┆   ┆ ---  ┆ nouncement  ┆ tanding     ┆ ---        │\n",
       "│ str    ┆ str          ┆ f64    ┆ ---         ┆   ┆ null ┆ ---         ┆ ---         ┆ i64        │\n",
       "│        ┆              ┆        ┆ f64         ┆   ┆      ┆ null        ┆ null        ┆            │\n",
       "╞════════╪══════════════╪════════╪═════════════╪═══╪══════╪═════════════╪═════════════╪════════════╡\n",
       "│ DCUSD  ┆ Class III    ┆ 20.27  ┆ -0.14778    ┆ … ┆ null ┆ null        ┆ null        ┆ 1737127140 │\n",
       "│        ┆ Milk Futures ┆        ┆             ┆   ┆      ┆             ┆             ┆            │\n",
       "│ RTYUSD ┆ Micro E-mini ┆ 2292.7 ┆ 0.59231     ┆ … ┆ null ┆ null        ┆ null        ┆ 1737127238 │\n",
       "│        ┆ Russell 2000 ┆        ┆             ┆   ┆      ┆             ┆             ┆            │\n",
       "│        ┆ Inde…        ┆        ┆             ┆   ┆      ┆             ┆             ┆            │\n",
       "│ ZLUSX  ┆ Soybean Oil  ┆ 45.14  ┆ 0.24428     ┆ … ┆ null ┆ null        ┆ null        ┆ 1737127236 │\n",
       "│        ┆ Futures      ┆        ┆             ┆   ┆      ┆             ┆             ┆            │\n",
       "│ LEUSX  ┆ Live Cattle  ┆ 196.4  ┆ -0.10173    ┆ … ┆ null ┆ null        ┆ null        ┆ 1737127235 │\n",
       "│        ┆ Futures      ┆        ┆             ┆   ┆      ┆             ┆             ┆            │\n",
       "│ DXUSD  ┆ US Dollar    ┆ 108.8  ┆ -0.015623   ┆ … ┆ null ┆ null        ┆ null        ┆ 1737127235 │\n",
       "└────────┴──────────────┴────────┴─────────────┴───┴──────┴─────────────┴─────────────┴────────────┘"
      ]
     },
     "execution_count": 6,
     "metadata": {},
     "output_type": "execute_result"
    }
   ],
   "source": [
    "# Validate the output by reading the Parquet file and displaying the first few rows\n",
    "pl.scan_parquet(f'{output_dir}/commodity_list.parquet').head().collect()"
   ]
  }
 ],
 "metadata": {
  "kernelspec": {
   "display_name": ".venv",
   "language": "python",
   "name": "python3"
  },
  "language_info": {
   "codemirror_mode": {
    "name": "ipython",
    "version": 3
   },
   "file_extension": ".py",
   "mimetype": "text/x-python",
   "name": "python",
   "nbconvert_exporter": "python",
   "pygments_lexer": "ipython3",
   "version": "3.12.3"
  }
 },
 "nbformat": 4,
 "nbformat_minor": 2
}
