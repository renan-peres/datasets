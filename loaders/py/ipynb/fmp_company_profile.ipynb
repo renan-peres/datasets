{
 "cells": [
  {
   "cell_type": "markdown",
   "metadata": {},
   "source": [
    "## Step 1: Import Libraries"
   ]
  },
  {
   "cell_type": "code",
   "execution_count": 1,
   "metadata": {
    "execution": {
<<<<<<< HEAD
<<<<<<< HEAD
     "iopub.execute_input": "2025-01-17T15:33:58.003099Z",
     "iopub.status.busy": "2025-01-17T15:33:58.002891Z",
     "iopub.status.idle": "2025-01-17T15:33:58.067262Z",
     "shell.execute_reply": "2025-01-17T15:33:58.066620Z"
=======
=======
>>>>>>> e7e3c52 (AAPL Institutional Holders Upload)
     "iopub.execute_input": "2025-01-17T22:58:42.893875Z",
     "iopub.status.busy": "2025-01-17T22:58:42.893738Z",
     "iopub.status.idle": "2025-01-17T22:58:42.937626Z",
     "shell.execute_reply": "2025-01-17T22:58:42.936779Z"
<<<<<<< HEAD
>>>>>>> e7e3c52 (AAPL Institutional Holders Upload)
=======
>>>>>>> e7e3c52 (AAPL Institutional Holders Upload)
    }
   },
   "outputs": [],
   "source": [
    "%run ../make_clean_names.py"
   ]
  },
  {
   "cell_type": "code",
   "execution_count": 2,
   "metadata": {
    "execution": {
<<<<<<< HEAD
<<<<<<< HEAD
     "iopub.execute_input": "2025-01-17T15:33:58.069420Z",
     "iopub.status.busy": "2025-01-17T15:33:58.069239Z",
     "iopub.status.idle": "2025-01-17T15:33:58.135137Z",
     "shell.execute_reply": "2025-01-17T15:33:58.134614Z"
=======
=======
>>>>>>> e7e3c52 (AAPL Institutional Holders Upload)
     "iopub.execute_input": "2025-01-17T22:58:42.940020Z",
     "iopub.status.busy": "2025-01-17T22:58:42.939845Z",
     "iopub.status.idle": "2025-01-17T22:58:42.989982Z",
     "shell.execute_reply": "2025-01-17T22:58:42.988984Z"
<<<<<<< HEAD
>>>>>>> e7e3c52 (AAPL Institutional Holders Upload)
=======
>>>>>>> e7e3c52 (AAPL Institutional Holders Upload)
    }
   },
   "outputs": [],
   "source": [
    "import concurrent.futures\n",
    "from concurrent.futures import ThreadPoolExecutor\n",
    "import requests\n",
    "from requests.adapters import HTTPAdapter\n",
    "from urllib3.util.retry import Retry\n",
    "import logging\n",
    "\n",
    "import polars as pl\n",
    "from datetime import datetime, timedelta\n",
    "from dotenv import load_dotenv\n",
    "import os\n",
    "\n",
    "# Load environment variables\n",
    "load_dotenv()\n",
    "\n",
    "logging.basicConfig(level=logging.INFO)\n",
    "logger = logging.getLogger(__name__)\n",
    "\n",
    "def create_session():\n",
    "    session = requests.Session()\n",
    "    retries = Retry(\n",
    "        total=3,\n",
    "        backoff_factor=1,\n",
    "        status_forcelist=[429, 500, 502, 503, 504]\n",
    "    )\n",
    "    session.mount('https://', HTTPAdapter(max_retries=retries, pool_maxsize=10))\n",
    "    return session\n",
    "\n",
    "# Get API key from environment variables\n",
    "FMP_API_KEY = os.getenv('FMP_API_KEY')\n",
    "if not FMP_API_KEY:\n",
    "    raise ValueError(\"FMP_API_KEY not found in environment variables\")"
   ]
  },
  {
   "cell_type": "markdown",
   "metadata": {},
   "source": [
    "## Step 2: Import Symbols"
   ]
  },
  {
   "cell_type": "code",
   "execution_count": 3,
   "metadata": {
    "execution": {
<<<<<<< HEAD
<<<<<<< HEAD
     "iopub.execute_input": "2025-01-17T15:33:58.137038Z",
     "iopub.status.busy": "2025-01-17T15:33:58.136862Z",
     "iopub.status.idle": "2025-01-17T15:33:58.141676Z",
     "shell.execute_reply": "2025-01-17T15:33:58.141042Z"
=======
=======
>>>>>>> e7e3c52 (AAPL Institutional Holders Upload)
     "iopub.execute_input": "2025-01-17T22:58:42.992439Z",
     "iopub.status.busy": "2025-01-17T22:58:42.992141Z",
     "iopub.status.idle": "2025-01-17T22:58:42.996643Z",
     "shell.execute_reply": "2025-01-17T22:58:42.996139Z"
<<<<<<< HEAD
>>>>>>> e7e3c52 (AAPL Institutional Holders Upload)
=======
>>>>>>> e7e3c52 (AAPL Institutional Holders Upload)
    }
   },
   "outputs": [
    {
     "name": "stdout",
     "output_type": "stream",
     "text": [
      "Loaded 60 symbols from ../tickers.txt\n",
      "Symbols: ['AAPL', 'MSFT', 'GOOGL', 'GOOG', 'META', 'NVDA', 'AVGO', 'ORCL', 'CRM', 'ACN', 'ADBE', 'CSCO', 'INTC', 'NFLX', 'DIS', 'CMCSA', 'VZ', 'T', 'AMZN', 'TSLA', 'HD', 'MCD', 'NKE', 'SBUX', 'TGT', 'LOW', 'WMT', 'PG', 'KO', 'PEP', 'COST', 'BRK-B', 'JPM', 'BAC', 'WFC', 'GS', 'MS', 'BLK', 'UNH', 'JNJ', 'PFE', 'ABBV', 'MRK', 'LLY', 'CAT', 'BA', 'HON', 'UPS', 'RTX', 'GE', 'XOM', 'CVX', 'COP', 'SLB', 'LIN', 'APD', 'ECL', 'PLD', 'AMT', 'CCI']\n"
     ]
    }
   ],
   "source": [
    "def load_symbols(file_path: str) -> List[str]:\n",
    "    \"\"\"Load symbols from a text file\"\"\"\n",
    "    try:\n",
    "        with open(file_path, 'r') as f:\n",
    "            symbols = [line.strip() for line in f if line.strip()]\n",
    "        print(f\"Loaded {len(symbols)} symbols from {file_path}\")\n",
    "        return symbols\n",
    "    except Exception as e:\n",
    "        print(f\"Error loading symbols: {str(e)}\")\n",
    "        return []\n",
    "\n",
    "symbols_file = '../tickers.txt'\n",
    "symbols = load_symbols(symbols_file)\n",
    "\n",
    "if symbols:\n",
    "    print(\"Symbols:\", symbols)\n",
    "else:\n",
    "    print(\"No symbols loaded.\")"
   ]
  },
  {
   "cell_type": "markdown",
   "metadata": {},
   "source": [
    "## Step 3: Extract Data from FMP into Polars"
   ]
  },
  {
   "cell_type": "code",
   "execution_count": 4,
   "metadata": {
    "execution": {
<<<<<<< HEAD
<<<<<<< HEAD
     "iopub.execute_input": "2025-01-17T15:33:58.177386Z",
     "iopub.status.busy": "2025-01-17T15:33:58.177207Z",
     "iopub.status.idle": "2025-01-17T15:34:06.517631Z",
     "shell.execute_reply": "2025-01-17T15:34:06.517008Z"
=======
=======
>>>>>>> e7e3c52 (AAPL Institutional Holders Upload)
     "iopub.execute_input": "2025-01-17T22:58:43.020931Z",
     "iopub.status.busy": "2025-01-17T22:58:43.020403Z",
     "iopub.status.idle": "2025-01-17T22:59:05.709778Z",
     "shell.execute_reply": "2025-01-17T22:59:05.709092Z"
<<<<<<< HEAD
>>>>>>> e7e3c52 (AAPL Institutional Holders Upload)
=======
>>>>>>> e7e3c52 (AAPL Institutional Holders Upload)
    }
   },
   "outputs": [
    {
     "name": "stderr",
     "output_type": "stream",
     "text": [
      "ERROR:__main__:Error fetching AAPL: HTTPSConnectionPool(host='financialmodelingprep.com', port=443): Max retries exceeded with url: /api/v3/profile/AAPL?apikey=PBkrv7HEcbYqq5BmXIRgFjfxzbLzuKmI (Caused by ResponseError('too many 429 error responses'))\n"
     ]
    },
    {
     "name": "stderr",
     "output_type": "stream",
     "text": [
      "ERROR:__main__:Error fetching NVDA: HTTPSConnectionPool(host='financialmodelingprep.com', port=443): Max retries exceeded with url: /api/v3/profile/NVDA?apikey=PBkrv7HEcbYqq5BmXIRgFjfxzbLzuKmI (Caused by ResponseError('too many 429 error responses'))\n"
     ]
    },
    {
     "name": "stderr",
     "output_type": "stream",
     "text": [
      "ERROR:__main__:Error fetching MSFT: HTTPSConnectionPool(host='financialmodelingprep.com', port=443): Max retries exceeded with url: /api/v3/profile/MSFT?apikey=PBkrv7HEcbYqq5BmXIRgFjfxzbLzuKmI (Caused by ResponseError('too many 429 error responses'))\n"
     ]
    },
    {
     "name": "stderr",
     "output_type": "stream",
     "text": [
      "ERROR:__main__:Error fetching GOOGL: HTTPSConnectionPool(host='financialmodelingprep.com', port=443): Max retries exceeded with url: /api/v3/profile/GOOGL?apikey=PBkrv7HEcbYqq5BmXIRgFjfxzbLzuKmI (Caused by ResponseError('too many 429 error responses'))\n"
     ]
    },
    {
     "name": "stderr",
     "output_type": "stream",
     "text": [
      "ERROR:__main__:Error fetching ACN: HTTPSConnectionPool(host='financialmodelingprep.com', port=443): Max retries exceeded with url: /api/v3/profile/ACN?apikey=PBkrv7HEcbYqq5BmXIRgFjfxzbLzuKmI (Caused by ResponseError('too many 429 error responses'))\n"
     ]
    },
    {
     "name": "stderr",
     "output_type": "stream",
     "text": [
      "ERROR:__main__:Error fetching META: HTTPSConnectionPool(host='financialmodelingprep.com', port=443): Max retries exceeded with url: /api/v3/profile/META?apikey=PBkrv7HEcbYqq5BmXIRgFjfxzbLzuKmI (Caused by ResponseError('too many 429 error responses'))\n"
     ]
    },
    {
     "name": "stderr",
     "output_type": "stream",
     "text": [
      "ERROR:__main__:Error fetching GOOG: HTTPSConnectionPool(host='financialmodelingprep.com', port=443): Max retries exceeded with url: /api/v3/profile/GOOG?apikey=PBkrv7HEcbYqq5BmXIRgFjfxzbLzuKmI (Caused by ResponseError('too many 429 error responses'))\n"
     ]
    },
    {
     "name": "stderr",
     "output_type": "stream",
     "text": [
      "ERROR:__main__:Error fetching AVGO: HTTPSConnectionPool(host='financialmodelingprep.com', port=443): Max retries exceeded with url: /api/v3/profile/AVGO?apikey=PBkrv7HEcbYqq5BmXIRgFjfxzbLzuKmI (Caused by ResponseError('too many 429 error responses'))\n"
     ]
    },
    {
     "name": "stderr",
     "output_type": "stream",
     "text": [
      "ERROR:__main__:Error fetching ORCL: HTTPSConnectionPool(host='financialmodelingprep.com', port=443): Max retries exceeded with url: /api/v3/profile/ORCL?apikey=PBkrv7HEcbYqq5BmXIRgFjfxzbLzuKmI (Caused by ResponseError('too many 429 error responses'))\n"
     ]
    },
    {
     "name": "stderr",
     "output_type": "stream",
     "text": [
      "ERROR:__main__:Error fetching CRM: HTTPSConnectionPool(host='financialmodelingprep.com', port=443): Max retries exceeded with url: /api/v3/profile/CRM?apikey=PBkrv7HEcbYqq5BmXIRgFjfxzbLzuKmI (Caused by ResponseError('too many 429 error responses'))\n"
     ]
    },
    {
     "name": "stderr",
     "output_type": "stream",
     "text": [
      "ERROR:__main__:Error fetching ADBE: HTTPSConnectionPool(host='financialmodelingprep.com', port=443): Max retries exceeded with url: /api/v3/profile/ADBE?apikey=PBkrv7HEcbYqq5BmXIRgFjfxzbLzuKmI (Caused by ResponseError('too many 429 error responses'))\n"
     ]
    },
    {
     "name": "stderr",
     "output_type": "stream",
     "text": [
      "ERROR:__main__:Error fetching DIS: HTTPSConnectionPool(host='financialmodelingprep.com', port=443): Max retries exceeded with url: /api/v3/profile/DIS?apikey=PBkrv7HEcbYqq5BmXIRgFjfxzbLzuKmI (Caused by ResponseError('too many 429 error responses'))\n"
     ]
    },
    {
     "name": "stderr",
     "output_type": "stream",
     "text": [
      "ERROR:__main__:Error fetching VZ: HTTPSConnectionPool(host='financialmodelingprep.com', port=443): Max retries exceeded with url: /api/v3/profile/VZ?apikey=PBkrv7HEcbYqq5BmXIRgFjfxzbLzuKmI (Caused by ResponseError('too many 429 error responses'))\n"
     ]
    },
    {
     "name": "stderr",
     "output_type": "stream",
     "text": [
      "ERROR:__main__:Error fetching T: HTTPSConnectionPool(host='financialmodelingprep.com', port=443): Max retries exceeded with url: /api/v3/profile/T?apikey=PBkrv7HEcbYqq5BmXIRgFjfxzbLzuKmI (Caused by ResponseError('too many 429 error responses'))\n"
     ]
    },
    {
     "name": "stderr",
     "output_type": "stream",
     "text": [
      "ERROR:__main__:Error fetching INTC: HTTPSConnectionPool(host='financialmodelingprep.com', port=443): Max retries exceeded with url: /api/v3/profile/INTC?apikey=PBkrv7HEcbYqq5BmXIRgFjfxzbLzuKmI (Caused by ResponseError('too many 429 error responses'))\n"
     ]
    },
    {
     "name": "stderr",
     "output_type": "stream",
     "text": [
      "ERROR:__main__:Error fetching CMCSA: HTTPSConnectionPool(host='financialmodelingprep.com', port=443): Max retries exceeded with url: /api/v3/profile/CMCSA?apikey=PBkrv7HEcbYqq5BmXIRgFjfxzbLzuKmI (Caused by ResponseError('too many 429 error responses'))\n"
     ]
    },
    {
     "name": "stderr",
     "output_type": "stream",
     "text": [
      "ERROR:__main__:Error fetching NFLX: HTTPSConnectionPool(host='financialmodelingprep.com', port=443): Max retries exceeded with url: /api/v3/profile/NFLX?apikey=PBkrv7HEcbYqq5BmXIRgFjfxzbLzuKmI (Caused by ResponseError('too many 429 error responses'))\n"
     ]
    },
    {
     "name": "stderr",
     "output_type": "stream",
     "text": [
      "ERROR:__main__:Error fetching CSCO: HTTPSConnectionPool(host='financialmodelingprep.com', port=443): Max retries exceeded with url: /api/v3/profile/CSCO?apikey=PBkrv7HEcbYqq5BmXIRgFjfxzbLzuKmI (Caused by ResponseError('too many 429 error responses'))\n"
     ]
    },
    {
     "name": "stderr",
     "output_type": "stream",
     "text": [
      "ERROR:__main__:Error fetching AMZN: HTTPSConnectionPool(host='financialmodelingprep.com', port=443): Max retries exceeded with url: /api/v3/profile/AMZN?apikey=PBkrv7HEcbYqq5BmXIRgFjfxzbLzuKmI (Caused by ResponseError('too many 429 error responses'))\n"
     ]
    },
    {
     "name": "stderr",
     "output_type": "stream",
     "text": [
      "ERROR:__main__:Error fetching TSLA: HTTPSConnectionPool(host='financialmodelingprep.com', port=443): Max retries exceeded with url: /api/v3/profile/TSLA?apikey=PBkrv7HEcbYqq5BmXIRgFjfxzbLzuKmI (Caused by ResponseError('too many 429 error responses'))\n"
     ]
    },
    {
     "name": "stderr",
     "output_type": "stream",
     "text": [
      "ERROR:__main__:Error fetching HD: HTTPSConnectionPool(host='financialmodelingprep.com', port=443): Max retries exceeded with url: /api/v3/profile/HD?apikey=PBkrv7HEcbYqq5BmXIRgFjfxzbLzuKmI (Caused by ResponseError('too many 429 error responses'))\n"
     ]
    },
    {
     "name": "stderr",
     "output_type": "stream",
     "text": [
      "ERROR:__main__:Error fetching TGT: HTTPSConnectionPool(host='financialmodelingprep.com', port=443): Max retries exceeded with url: /api/v3/profile/TGT?apikey=PBkrv7HEcbYqq5BmXIRgFjfxzbLzuKmI (Caused by ResponseError('too many 429 error responses'))\n"
     ]
    },
    {
     "name": "stderr",
     "output_type": "stream",
     "text": [
      "ERROR:__main__:Error fetching LOW: HTTPSConnectionPool(host='financialmodelingprep.com', port=443): Max retries exceeded with url: /api/v3/profile/LOW?apikey=PBkrv7HEcbYqq5BmXIRgFjfxzbLzuKmI (Caused by ResponseError('too many 429 error responses'))\n"
     ]
    },
    {
     "name": "stderr",
     "output_type": "stream",
     "text": [
      "ERROR:__main__:Error fetching NKE: HTTPSConnectionPool(host='financialmodelingprep.com', port=443): Max retries exceeded with url: /api/v3/profile/NKE?apikey=PBkrv7HEcbYqq5BmXIRgFjfxzbLzuKmI (Caused by ResponseError('too many 429 error responses'))\n"
     ]
    },
    {
     "name": "stderr",
     "output_type": "stream",
     "text": [
      "ERROR:__main__:Error fetching SBUX: HTTPSConnectionPool(host='financialmodelingprep.com', port=443): Max retries exceeded with url: /api/v3/profile/SBUX?apikey=PBkrv7HEcbYqq5BmXIRgFjfxzbLzuKmI (Caused by ResponseError('too many 429 error responses'))\n"
     ]
    },
    {
     "name": "stderr",
     "output_type": "stream",
     "text": [
      "ERROR:__main__:Error fetching WMT: HTTPSConnectionPool(host='financialmodelingprep.com', port=443): Max retries exceeded with url: /api/v3/profile/WMT?apikey=PBkrv7HEcbYqq5BmXIRgFjfxzbLzuKmI (Caused by ResponseError('too many 429 error responses'))\n"
     ]
    },
    {
     "name": "stderr",
     "output_type": "stream",
     "text": [
      "ERROR:__main__:Error fetching KO: HTTPSConnectionPool(host='financialmodelingprep.com', port=443): Max retries exceeded with url: /api/v3/profile/KO?apikey=PBkrv7HEcbYqq5BmXIRgFjfxzbLzuKmI (Caused by ResponseError('too many 429 error responses'))\n"
     ]
    },
    {
     "name": "stderr",
     "output_type": "stream",
     "text": [
      "ERROR:__main__:Error fetching PG: HTTPSConnectionPool(host='financialmodelingprep.com', port=443): Max retries exceeded with url: /api/v3/profile/PG?apikey=PBkrv7HEcbYqq5BmXIRgFjfxzbLzuKmI (Caused by ResponseError('too many 429 error responses'))\n"
     ]
    },
    {
     "name": "stderr",
     "output_type": "stream",
     "text": [
      "ERROR:__main__:Error fetching MCD: HTTPSConnectionPool(host='financialmodelingprep.com', port=443): Max retries exceeded with url: /api/v3/profile/MCD?apikey=PBkrv7HEcbYqq5BmXIRgFjfxzbLzuKmI (Caused by ResponseError('too many 429 error responses'))\n"
     ]
    },
    {
     "name": "stderr",
     "output_type": "stream",
     "text": [
      "ERROR:__main__:Error fetching PEP: HTTPSConnectionPool(host='financialmodelingprep.com', port=443): Max retries exceeded with url: /api/v3/profile/PEP?apikey=PBkrv7HEcbYqq5BmXIRgFjfxzbLzuKmI (Caused by ResponseError('too many 429 error responses'))\n"
     ]
    }
   ],
   "source": [
    "def fetch_company_profile(symbol: str, api_key: str, session: requests.Session) -> Dict:\n",
    "    \"\"\"Fetch company profile data from FMP API\"\"\"\n",
    "    url = f\"https://financialmodelingprep.com/api/v3/profile/{symbol}\"\n",
    "    params = {\"apikey\": api_key}\n",
    "    \n",
    "    try:\n",
    "        response = session.get(url, params=params, timeout=10)\n",
    "        response.raise_for_status()\n",
    "        return response.json()\n",
    "    except Exception as e:\n",
    "        logger.error(f\"Error fetching {symbol}: {str(e)}\")\n",
    "        return None\n",
    "\n",
    "def fetch_all_profiles(symbols: List[str], api_key: str) -> List[Dict]:\n",
    "    session = create_session()\n",
    "    \n",
    "    with ThreadPoolExecutor(max_workers=10) as executor:\n",
    "        futures = [\n",
    "            executor.submit(fetch_company_profile, symbol, api_key, session)\n",
    "            for symbol in symbols\n",
    "        ]\n",
    "        results = [\n",
    "            f.result() for f in concurrent.futures.as_completed(futures)\n",
    "        ]\n",
    "    \n",
    "    return [r[0] for r in results if r and isinstance(r, list)]\n",
    "\n",
    "# Execute fetching\n",
    "company_profiles = fetch_all_profiles(symbols, FMP_API_KEY)\n",
    "\n",
    "# Convert to Polars DataFrame more efficiently\n",
    "if company_profiles:\n",
    "    df = pl.DataFrame(company_profiles)"
   ]
  },
  {
   "cell_type": "markdown",
   "metadata": {},
   "source": [
    "## Step 4: Clean Column Names"
   ]
  },
  {
   "cell_type": "code",
   "execution_count": 5,
   "metadata": {
    "execution": {
<<<<<<< HEAD
<<<<<<< HEAD
     "iopub.execute_input": "2025-01-17T15:34:06.519808Z",
     "iopub.status.busy": "2025-01-17T15:34:06.519393Z",
     "iopub.status.idle": "2025-01-17T15:34:06.524410Z",
     "shell.execute_reply": "2025-01-17T15:34:06.523835Z"
=======
=======
>>>>>>> e7e3c52 (AAPL Institutional Holders Upload)
     "iopub.execute_input": "2025-01-17T22:59:05.711945Z",
     "iopub.status.busy": "2025-01-17T22:59:05.711804Z",
     "iopub.status.idle": "2025-01-17T22:59:05.715570Z",
     "shell.execute_reply": "2025-01-17T22:59:05.715139Z"
<<<<<<< HEAD
>>>>>>> e7e3c52 (AAPL Institutional Holders Upload)
=======
>>>>>>> e7e3c52 (AAPL Institutional Holders Upload)
    }
   },
   "outputs": [],
   "source": [
    "df = make_clean_names(df)"
   ]
  },
  {
   "cell_type": "markdown",
   "metadata": {},
   "source": [
    "## Step 5: Write Polars to Parquet"
   ]
  },
  {
   "cell_type": "code",
   "execution_count": 6,
   "metadata": {
    "execution": {
<<<<<<< HEAD
<<<<<<< HEAD
     "iopub.execute_input": "2025-01-17T15:34:06.526394Z",
     "iopub.status.busy": "2025-01-17T15:34:06.525982Z",
     "iopub.status.idle": "2025-01-17T15:34:06.532535Z",
     "shell.execute_reply": "2025-01-17T15:34:06.532096Z"
=======
=======
>>>>>>> e7e3c52 (AAPL Institutional Holders Upload)
     "iopub.execute_input": "2025-01-17T22:59:05.717767Z",
     "iopub.status.busy": "2025-01-17T22:59:05.717153Z",
     "iopub.status.idle": "2025-01-17T22:59:05.732524Z",
     "shell.execute_reply": "2025-01-17T22:59:05.731923Z"
<<<<<<< HEAD
>>>>>>> e7e3c52 (AAPL Institutional Holders Upload)
=======
>>>>>>> e7e3c52 (AAPL Institutional Holders Upload)
    }
   },
   "outputs": [],
   "source": [
    "output_dir = \"../../../data/finance\"\n",
    "\n",
    "# Write DataFrame to Parquet\n",
    "df.write_parquet(f'{output_dir}/company_profile.parquet')"
   ]
  },
  {
   "cell_type": "markdown",
   "metadata": {},
   "source": [
    "## Step 6: Read Parquet (Validate)"
   ]
  },
  {
   "cell_type": "code",
   "execution_count": 7,
   "metadata": {
    "execution": {
<<<<<<< HEAD
<<<<<<< HEAD
     "iopub.execute_input": "2025-01-17T15:34:06.534414Z",
     "iopub.status.busy": "2025-01-17T15:34:06.534072Z",
     "iopub.status.idle": "2025-01-17T15:34:06.542499Z",
     "shell.execute_reply": "2025-01-17T15:34:06.541966Z"
=======
=======
>>>>>>> e7e3c52 (AAPL Institutional Holders Upload)
     "iopub.execute_input": "2025-01-17T22:59:05.734381Z",
     "iopub.status.busy": "2025-01-17T22:59:05.734077Z",
     "iopub.status.idle": "2025-01-17T22:59:05.742101Z",
     "shell.execute_reply": "2025-01-17T22:59:05.741583Z"
<<<<<<< HEAD
>>>>>>> e7e3c52 (AAPL Institutional Holders Upload)
=======
>>>>>>> e7e3c52 (AAPL Institutional Holders Upload)
    }
   },
   "outputs": [
    {
     "data": {
      "text/html": [
       "<div><style>\n",
       ".dataframe > thead > tr,\n",
       ".dataframe > tbody > tr {\n",
       "  text-align: right;\n",
       "  white-space: pre-wrap;\n",
       "}\n",
       "</style>\n",
<<<<<<< HEAD
<<<<<<< HEAD
       "<small>shape: (5, 36)</small><table border=\"1\" class=\"dataframe\"><thead><tr><th>symbol</th><th>price</th><th>beta</th><th>vol_avg</th><th>mkt_cap</th><th>last_div</th><th>range</th><th>changes</th><th>company_name</th><th>currency</th><th>cik</th><th>isin</th><th>cusip</th><th>exchange</th><th>exchange_short_name</th><th>industry</th><th>website</th><th>description</th><th>ceo</th><th>sector</th><th>country</th><th>full_time_employees</th><th>phone</th><th>address</th><th>city</th><th>state</th><th>zip</th><th>dcf_diff</th><th>dcf</th><th>image</th><th>ipo_date</th><th>default_image</th><th>is_etf</th><th>is_actively_trading</th><th>is_adr</th><th>is_fund</th></tr><tr><td>str</td><td>f64</td><td>f64</td><td>i64</td><td>i64</td><td>f64</td><td>str</td><td>f64</td><td>str</td><td>str</td><td>str</td><td>str</td><td>str</td><td>str</td><td>str</td><td>str</td><td>str</td><td>str</td><td>str</td><td>str</td><td>str</td><td>str</td><td>str</td><td>str</td><td>str</td><td>str</td><td>str</td><td>f64</td><td>f64</td><td>str</td><td>str</td><td>bool</td><td>bool</td><td>bool</td><td>bool</td><td>bool</td></tr></thead><tbody><tr><td>&quot;CRM&quot;</td><td>324.1379</td><td>1.288</td><td>6005034</td><td>310199970300</td><td>1.6</td><td>&quot;212.0-369.0&quot;</td><td>4.1379</td><td>&quot;Salesforce, Inc.&quot;</td><td>&quot;USD&quot;</td><td>&quot;0001108524&quot;</td><td>&quot;US79466L3024&quot;</td><td>&quot;79466L302&quot;</td><td>&quot;New York Stock Exchange&quot;</td><td>&quot;NYSE&quot;</td><td>&quot;Software - Application&quot;</td><td>&quot;https://www.salesforce.com&quot;</td><td>&quot;Salesforce, Inc. provides cust…</td><td>&quot;Mr. Marc R. Benioff&quot;</td><td>&quot;Technology&quot;</td><td>&quot;US&quot;</td><td>&quot;72682&quot;</td><td>&quot;415 901 7000&quot;</td><td>&quot;Salesforce Tower&quot;</td><td>&quot;San Francisco&quot;</td><td>&quot;CA&quot;</td><td>&quot;94105&quot;</td><td>131.09183</td><td>188.908171</td><td>&quot;https://images.financialmodeli…</td><td>&quot;2004-06-23&quot;</td><td>false</td><td>false</td><td>true</td><td>false</td><td>false</td></tr><tr><td>&quot;ADBE&quot;</td><td>428.16</td><td>1.299</td><td>3672226</td><td>186378048000</td><td>0.0</td><td>&quot;403.75-638.25&quot;</td><td>1.23</td><td>&quot;Adobe Inc.&quot;</td><td>&quot;USD&quot;</td><td>&quot;0000796343&quot;</td><td>&quot;US00724F1012&quot;</td><td>&quot;00724F101&quot;</td><td>&quot;NASDAQ Global Select&quot;</td><td>&quot;NASDAQ&quot;</td><td>&quot;Software - Infrastructure&quot;</td><td>&quot;https://www.adobe.com&quot;</td><td>&quot;Adobe Inc. operates as a diver…</td><td>&quot;Mr. Shantanu&nbsp;&nbsp;Narayen&quot;</td><td>&quot;Technology&quot;</td><td>&quot;US&quot;</td><td>&quot;29945&quot;</td><td>&quot;408 536 6000&quot;</td><td>&quot;345 Park Avenue&quot;</td><td>&quot;San Jose&quot;</td><td>&quot;CA&quot;</td><td>&quot;95110-2704&quot;</td><td>-47.48005</td><td>474.410051</td><td>&quot;https://images.financialmodeli…</td><td>&quot;1986-08-13&quot;</td><td>false</td><td>false</td><td>true</td><td>false</td><td>false</td></tr><tr><td>&quot;CSCO&quot;</td><td>60.49</td><td>0.819</td><td>19021724</td><td>240917152400</td><td>1.6</td><td>&quot;44.5-60.95&quot;</td><td>0.67</td><td>&quot;Cisco Systems, Inc.&quot;</td><td>&quot;USD&quot;</td><td>&quot;0000858877&quot;</td><td>&quot;US17275R1023&quot;</td><td>&quot;17275R102&quot;</td><td>&quot;NASDAQ Global Select&quot;</td><td>&quot;NASDAQ&quot;</td><td>&quot;Communication Equipment&quot;</td><td>&quot;https://www.cisco.com&quot;</td><td>&quot;Cisco Systems, Inc. designs, m…</td><td>&quot;Mr. Charles H. Robbins&quot;</td><td>&quot;Technology&quot;</td><td>&quot;US&quot;</td><td>&quot;90400&quot;</td><td>&quot;(408) 526-4000&quot;</td><td>&quot;170 West Tasman Drive&quot;</td><td>&quot;San Jose&quot;</td><td>&quot;CA&quot;</td><td>&quot;95134-1706&quot;</td><td>0.15665</td><td>59.663353</td><td>&quot;https://images.financialmodeli…</td><td>&quot;1990-02-16&quot;</td><td>false</td><td>false</td><td>true</td><td>false</td><td>false</td></tr><tr><td>&quot;INTC&quot;</td><td>21.125</td><td>1.026</td><td>69633322</td><td>91112125000</td><td>0.375</td><td>&quot;18.51-50.3&quot;</td><td>1.455</td><td>&quot;Intel Corporation&quot;</td><td>&quot;USD&quot;</td><td>&quot;0000050863&quot;</td><td>&quot;US4581401001&quot;</td><td>&quot;458140100&quot;</td><td>&quot;NASDAQ Global Select&quot;</td><td>&quot;NASDAQ&quot;</td><td>&quot;Semiconductors&quot;</td><td>&quot;https://www.intel.com&quot;</td><td>&quot;Intel Corporation engages in t…</td><td>&quot;Ms. Michelle C. Johnston Holth…</td><td>&quot;Technology&quot;</td><td>&quot;US&quot;</td><td>&quot;124100&quot;</td><td>&quot;408 765 8080&quot;</td><td>&quot;2200 Mission College Boulevard&quot;</td><td>&quot;Santa Clara&quot;</td><td>&quot;CA&quot;</td><td>&quot;95054-1549&quot;</td><td>19.43839</td><td>0.23161</td><td>&quot;https://images.financialmodeli…</td><td>&quot;1980-03-17&quot;</td><td>false</td><td>false</td><td>true</td><td>false</td><td>false</td></tr><tr><td>&quot;NFLX&quot;</td><td>855.5499</td><td>1.25</td><td>3257490</td><td>365711649154</td><td>0.0</td><td>&quot;476.06-941.75&quot;</td><td>13.1799</td><td>&quot;Netflix, Inc.&quot;</td><td>&quot;USD&quot;</td><td>&quot;0001065280&quot;</td><td>&quot;US64110L1061&quot;</td><td>&quot;64110L106&quot;</td><td>&quot;NASDAQ Global Select&quot;</td><td>&quot;NASDAQ&quot;</td><td>&quot;Entertainment&quot;</td><td>&quot;https://www.netflix.com&quot;</td><td>&quot;Netflix, Inc. provides enterta…</td><td>&quot;Mr. Theodore A. Sarandos&quot;</td><td>&quot;Communication Services&quot;</td><td>&quot;US&quot;</td><td>&quot;13000&quot;</td><td>&quot;408 540 3700&quot;</td><td>&quot;100 Winchester Circle&quot;</td><td>&quot;Los Gatos&quot;</td><td>&quot;CA&quot;</td><td>&quot;95032&quot;</td><td>791.36052</td><td>51.009481</td><td>&quot;https://images.financialmodeli…</td><td>&quot;2002-05-23&quot;</td><td>false</td><td>false</td><td>true</td><td>false</td><td>false</td></tr></tbody></table></div>"
      ],
      "text/plain": [
       "shape: (5, 36)\n",
       "┌────────┬──────────┬───────┬──────────┬───┬────────┬─────────────────────┬────────┬─────────┐\n",
       "│ symbol ┆ price    ┆ beta  ┆ vol_avg  ┆ … ┆ is_etf ┆ is_actively_trading ┆ is_adr ┆ is_fund │\n",
       "│ ---    ┆ ---      ┆ ---   ┆ ---      ┆   ┆ ---    ┆ ---                 ┆ ---    ┆ ---     │\n",
       "│ str    ┆ f64      ┆ f64   ┆ i64      ┆   ┆ bool   ┆ bool                ┆ bool   ┆ bool    │\n",
       "╞════════╪══════════╪═══════╪══════════╪═══╪════════╪═════════════════════╪════════╪═════════╡\n",
       "│ CRM    ┆ 324.1379 ┆ 1.288 ┆ 6005034  ┆ … ┆ false  ┆ true                ┆ false  ┆ false   │\n",
       "│ ADBE   ┆ 428.16   ┆ 1.299 ┆ 3672226  ┆ … ┆ false  ┆ true                ┆ false  ┆ false   │\n",
       "│ CSCO   ┆ 60.49    ┆ 0.819 ┆ 19021724 ┆ … ┆ false  ┆ true                ┆ false  ┆ false   │\n",
       "│ INTC   ┆ 21.125   ┆ 1.026 ┆ 69633322 ┆ … ┆ false  ┆ true                ┆ false  ┆ false   │\n",
       "│ NFLX   ┆ 855.5499 ┆ 1.25  ┆ 3257490  ┆ … ┆ false  ┆ true                ┆ false  ┆ false   │\n",
       "└────────┴──────────┴───────┴──────────┴───┴────────┴─────────────────────┴────────┴─────────┘"
=======
       "<small>shape: (5, 36)</small><table border=\"1\" class=\"dataframe\"><thead><tr><th>symbol</th><th>price</th><th>beta</th><th>vol_avg</th><th>mkt_cap</th><th>last_div</th><th>range</th><th>changes</th><th>company_name</th><th>currency</th><th>cik</th><th>isin</th><th>cusip</th><th>exchange</th><th>exchange_short_name</th><th>industry</th><th>website</th><th>description</th><th>ceo</th><th>sector</th><th>country</th><th>full_time_employees</th><th>phone</th><th>address</th><th>city</th><th>state</th><th>zip</th><th>dcf_diff</th><th>dcf</th><th>image</th><th>ipo_date</th><th>default_image</th><th>is_etf</th><th>is_actively_trading</th><th>is_adr</th><th>is_fund</th></tr><tr><td>str</td><td>f64</td><td>f64</td><td>i64</td><td>i64</td><td>f64</td><td>str</td><td>f64</td><td>str</td><td>str</td><td>str</td><td>str</td><td>str</td><td>str</td><td>str</td><td>str</td><td>str</td><td>str</td><td>str</td><td>str</td><td>str</td><td>str</td><td>str</td><td>str</td><td>str</td><td>str</td><td>str</td><td>f64</td><td>f64</td><td>str</td><td>str</td><td>bool</td><td>bool</td><td>bool</td><td>bool</td><td>bool</td></tr></thead><tbody><tr><td>&quot;COST&quot;</td><td>943.19</td><td>0.789</td><td>1912567</td><td>418681097810</td><td>4.5</td><td>&quot;675.96-1008.25&quot;</td><td>23.44</td><td>&quot;Costco Wholesale Corporation&quot;</td><td>&quot;USD&quot;</td><td>&quot;0000909832&quot;</td><td>&quot;US22160K1051&quot;</td><td>&quot;22160K105&quot;</td><td>&quot;NASDAQ Global Select&quot;</td><td>&quot;NASDAQ&quot;</td><td>&quot;Discount Stores&quot;</td><td>&quot;https://www.costco.com&quot;</td><td>&quot;Costco Wholesale Corporation, …</td><td>&quot;Mr. Ron M. Vachris&quot;</td><td>&quot;Consumer Defensive&quot;</td><td>&quot;US&quot;</td><td>&quot;333000&quot;</td><td>&quot;425 313 8100&quot;</td><td>&quot;999 Lake Drive&quot;</td><td>&quot;Issaquah&quot;</td><td>&quot;WA&quot;</td><td>&quot;98027&quot;</td><td>490.99915</td><td>449.15585</td><td>&quot;https://images.financialmodeli…</td><td>&quot;1986-07-09&quot;</td><td>false</td><td>false</td><td>true</td><td>false</td><td>false</td></tr><tr><td>&quot;JPM&quot;</td><td>259.16</td><td>1.091</td><td>9048372</td><td>729623514400</td><td>4.8</td><td>&quot;167.08-260.62&quot;</td><td>4.89</td><td>&quot;JPMorgan Chase &amp; Co.&quot;</td><td>&quot;USD&quot;</td><td>&quot;0000019617&quot;</td><td>&quot;US46625H1005&quot;</td><td>&quot;46625H100&quot;</td><td>&quot;New York Stock Exchange&quot;</td><td>&quot;NYSE&quot;</td><td>&quot;Banks - Diversified&quot;</td><td>&quot;https://www.jpmorganchase.com&quot;</td><td>&quot;JPMorgan Chase &amp; Co. operates …</td><td>&quot;Mr. James&nbsp;&nbsp;Dimon&quot;</td><td>&quot;Financial Services&quot;</td><td>&quot;US&quot;</td><td>&quot;316043&quot;</td><td>&quot;212 270 6000&quot;</td><td>&quot;383 Madison Avenue&quot;</td><td>&quot;New York&quot;</td><td>&quot;NY&quot;</td><td>&quot;10179&quot;</td><td>74.90515</td><td>181.559852</td><td>&quot;https://images.financialmodeli…</td><td>&quot;1980-03-17&quot;</td><td>false</td><td>false</td><td>true</td><td>false</td><td>false</td></tr><tr><td>&quot;BAC&quot;</td><td>46.53</td><td>1.325</td><td>34527154</td><td>357019106400</td><td>1.0</td><td>&quot;31.57-48.08&quot;</td><td>-0.11</td><td>&quot;Bank of America Corporation&quot;</td><td>&quot;USD&quot;</td><td>&quot;0000070858&quot;</td><td>&quot;US0605051046&quot;</td><td>&quot;060505104&quot;</td><td>&quot;New York Stock Exchange&quot;</td><td>&quot;NYSE&quot;</td><td>&quot;Banks - Diversified&quot;</td><td>&quot;https://www.bankofamerica.com&quot;</td><td>&quot;Bank of America Corporation, t…</td><td>&quot;Mr. Brian Thomas Moynihan&quot;</td><td>&quot;Financial Services&quot;</td><td>&quot;US&quot;</td><td>&quot;213000&quot;</td><td>&quot;704 386 5681&quot;</td><td>&quot;Bank of America Corporate Cent…</td><td>&quot;Charlotte&quot;</td><td>&quot;NC&quot;</td><td>&quot;28255&quot;</td><td>14.41191</td><td>31.918089</td><td>&quot;https://images.financialmodeli…</td><td>&quot;1973-02-21&quot;</td><td>false</td><td>false</td><td>true</td><td>false</td><td>false</td></tr><tr><td>&quot;WFC&quot;</td><td>77.08</td><td>1.136</td><td>17101678</td><td>256637089200</td><td>1.5</td><td>&quot;46.38-78.13&quot;</td><td>1.13</td><td>&quot;Wells Fargo &amp; Company&quot;</td><td>&quot;USD&quot;</td><td>&quot;0000072971&quot;</td><td>&quot;US9497461015&quot;</td><td>&quot;949746101&quot;</td><td>&quot;New York Stock Exchange&quot;</td><td>&quot;NYSE&quot;</td><td>&quot;Banks - Diversified&quot;</td><td>&quot;https://www.wellsfargo.com&quot;</td><td>&quot;Wells Fargo &amp; Company, a diver…</td><td>&quot;Mr. Charles W. Scharf&quot;</td><td>&quot;Financial Services&quot;</td><td>&quot;US&quot;</td><td>&quot;220167&quot;</td><td>&quot;866 249 3302&quot;</td><td>&quot;420 Montgomery Street&quot;</td><td>&quot;San Francisco&quot;</td><td>&quot;CA&quot;</td><td>&quot;94104&quot;</td><td>36.40942</td><td>39.525581</td><td>&quot;https://images.financialmodeli…</td><td>&quot;1972-06-01&quot;</td><td>false</td><td>false</td><td>true</td><td>false</td><td>false</td></tr><tr><td>&quot;MS&quot;</td><td>137.87</td><td>1.336</td><td>6577588</td><td>222114084800</td><td>3.55</td><td>&quot;83.09-138.0799&quot;</td><td>2.06</td><td>&quot;Morgan Stanley&quot;</td><td>&quot;USD&quot;</td><td>&quot;0000895421&quot;</td><td>&quot;US6174464486&quot;</td><td>&quot;617446448&quot;</td><td>&quot;New York Stock Exchange&quot;</td><td>&quot;NYSE&quot;</td><td>&quot;Financial - Capital Markets&quot;</td><td>&quot;https://www.morganstanley.com&quot;</td><td>&quot;Morgan Stanley, a financial ho…</td><td>&quot;Mr. Edward N. Pick&quot;</td><td>&quot;Financial Services&quot;</td><td>&quot;US&quot;</td><td>&quot;80000&quot;</td><td>&quot;212 761 4000&quot;</td><td>&quot;1585 Broadway&quot;</td><td>&quot;New York&quot;</td><td>&quot;NY&quot;</td><td>&quot;10036&quot;</td><td>265.64675</td><td>-127.906753</td><td>&quot;https://images.financialmodeli…</td><td>&quot;1993-02-23&quot;</td><td>false</td><td>false</td><td>true</td><td>false</td><td>false</td></tr></tbody></table></div>"
      ],
      "text/plain": [
       "shape: (5, 36)\n",
=======
       "<small>shape: (5, 36)</small><table border=\"1\" class=\"dataframe\"><thead><tr><th>symbol</th><th>price</th><th>beta</th><th>vol_avg</th><th>mkt_cap</th><th>last_div</th><th>range</th><th>changes</th><th>company_name</th><th>currency</th><th>cik</th><th>isin</th><th>cusip</th><th>exchange</th><th>exchange_short_name</th><th>industry</th><th>website</th><th>description</th><th>ceo</th><th>sector</th><th>country</th><th>full_time_employees</th><th>phone</th><th>address</th><th>city</th><th>state</th><th>zip</th><th>dcf_diff</th><th>dcf</th><th>image</th><th>ipo_date</th><th>default_image</th><th>is_etf</th><th>is_actively_trading</th><th>is_adr</th><th>is_fund</th></tr><tr><td>str</td><td>f64</td><td>f64</td><td>i64</td><td>i64</td><td>f64</td><td>str</td><td>f64</td><td>str</td><td>str</td><td>str</td><td>str</td><td>str</td><td>str</td><td>str</td><td>str</td><td>str</td><td>str</td><td>str</td><td>str</td><td>str</td><td>str</td><td>str</td><td>str</td><td>str</td><td>str</td><td>str</td><td>f64</td><td>f64</td><td>str</td><td>str</td><td>bool</td><td>bool</td><td>bool</td><td>bool</td><td>bool</td></tr></thead><tbody><tr><td>&quot;COST&quot;</td><td>943.19</td><td>0.789</td><td>1912567</td><td>418681097810</td><td>4.5</td><td>&quot;675.96-1008.25&quot;</td><td>23.44</td><td>&quot;Costco Wholesale Corporation&quot;</td><td>&quot;USD&quot;</td><td>&quot;0000909832&quot;</td><td>&quot;US22160K1051&quot;</td><td>&quot;22160K105&quot;</td><td>&quot;NASDAQ Global Select&quot;</td><td>&quot;NASDAQ&quot;</td><td>&quot;Discount Stores&quot;</td><td>&quot;https://www.costco.com&quot;</td><td>&quot;Costco Wholesale Corporation, …</td><td>&quot;Mr. Ron M. Vachris&quot;</td><td>&quot;Consumer Defensive&quot;</td><td>&quot;US&quot;</td><td>&quot;333000&quot;</td><td>&quot;425 313 8100&quot;</td><td>&quot;999 Lake Drive&quot;</td><td>&quot;Issaquah&quot;</td><td>&quot;WA&quot;</td><td>&quot;98027&quot;</td><td>490.99915</td><td>449.15585</td><td>&quot;https://images.financialmodeli…</td><td>&quot;1986-07-09&quot;</td><td>false</td><td>false</td><td>true</td><td>false</td><td>false</td></tr><tr><td>&quot;JPM&quot;</td><td>259.16</td><td>1.091</td><td>9048372</td><td>729623514400</td><td>4.8</td><td>&quot;167.08-260.62&quot;</td><td>4.89</td><td>&quot;JPMorgan Chase &amp; Co.&quot;</td><td>&quot;USD&quot;</td><td>&quot;0000019617&quot;</td><td>&quot;US46625H1005&quot;</td><td>&quot;46625H100&quot;</td><td>&quot;New York Stock Exchange&quot;</td><td>&quot;NYSE&quot;</td><td>&quot;Banks - Diversified&quot;</td><td>&quot;https://www.jpmorganchase.com&quot;</td><td>&quot;JPMorgan Chase &amp; Co. operates …</td><td>&quot;Mr. James&nbsp;&nbsp;Dimon&quot;</td><td>&quot;Financial Services&quot;</td><td>&quot;US&quot;</td><td>&quot;316043&quot;</td><td>&quot;212 270 6000&quot;</td><td>&quot;383 Madison Avenue&quot;</td><td>&quot;New York&quot;</td><td>&quot;NY&quot;</td><td>&quot;10179&quot;</td><td>74.90515</td><td>181.559852</td><td>&quot;https://images.financialmodeli…</td><td>&quot;1980-03-17&quot;</td><td>false</td><td>false</td><td>true</td><td>false</td><td>false</td></tr><tr><td>&quot;BAC&quot;</td><td>46.53</td><td>1.325</td><td>34527154</td><td>357019106400</td><td>1.0</td><td>&quot;31.57-48.08&quot;</td><td>-0.11</td><td>&quot;Bank of America Corporation&quot;</td><td>&quot;USD&quot;</td><td>&quot;0000070858&quot;</td><td>&quot;US0605051046&quot;</td><td>&quot;060505104&quot;</td><td>&quot;New York Stock Exchange&quot;</td><td>&quot;NYSE&quot;</td><td>&quot;Banks - Diversified&quot;</td><td>&quot;https://www.bankofamerica.com&quot;</td><td>&quot;Bank of America Corporation, t…</td><td>&quot;Mr. Brian Thomas Moynihan&quot;</td><td>&quot;Financial Services&quot;</td><td>&quot;US&quot;</td><td>&quot;213000&quot;</td><td>&quot;704 386 5681&quot;</td><td>&quot;Bank of America Corporate Cent…</td><td>&quot;Charlotte&quot;</td><td>&quot;NC&quot;</td><td>&quot;28255&quot;</td><td>14.41191</td><td>31.918089</td><td>&quot;https://images.financialmodeli…</td><td>&quot;1973-02-21&quot;</td><td>false</td><td>false</td><td>true</td><td>false</td><td>false</td></tr><tr><td>&quot;WFC&quot;</td><td>77.08</td><td>1.136</td><td>17101678</td><td>256637089200</td><td>1.5</td><td>&quot;46.38-78.13&quot;</td><td>1.13</td><td>&quot;Wells Fargo &amp; Company&quot;</td><td>&quot;USD&quot;</td><td>&quot;0000072971&quot;</td><td>&quot;US9497461015&quot;</td><td>&quot;949746101&quot;</td><td>&quot;New York Stock Exchange&quot;</td><td>&quot;NYSE&quot;</td><td>&quot;Banks - Diversified&quot;</td><td>&quot;https://www.wellsfargo.com&quot;</td><td>&quot;Wells Fargo &amp; Company, a diver…</td><td>&quot;Mr. Charles W. Scharf&quot;</td><td>&quot;Financial Services&quot;</td><td>&quot;US&quot;</td><td>&quot;220167&quot;</td><td>&quot;866 249 3302&quot;</td><td>&quot;420 Montgomery Street&quot;</td><td>&quot;San Francisco&quot;</td><td>&quot;CA&quot;</td><td>&quot;94104&quot;</td><td>36.40942</td><td>39.525581</td><td>&quot;https://images.financialmodeli…</td><td>&quot;1972-06-01&quot;</td><td>false</td><td>false</td><td>true</td><td>false</td><td>false</td></tr><tr><td>&quot;MS&quot;</td><td>137.87</td><td>1.336</td><td>6577588</td><td>222114084800</td><td>3.55</td><td>&quot;83.09-138.0799&quot;</td><td>2.06</td><td>&quot;Morgan Stanley&quot;</td><td>&quot;USD&quot;</td><td>&quot;0000895421&quot;</td><td>&quot;US6174464486&quot;</td><td>&quot;617446448&quot;</td><td>&quot;New York Stock Exchange&quot;</td><td>&quot;NYSE&quot;</td><td>&quot;Financial - Capital Markets&quot;</td><td>&quot;https://www.morganstanley.com&quot;</td><td>&quot;Morgan Stanley, a financial ho…</td><td>&quot;Mr. Edward N. Pick&quot;</td><td>&quot;Financial Services&quot;</td><td>&quot;US&quot;</td><td>&quot;80000&quot;</td><td>&quot;212 761 4000&quot;</td><td>&quot;1585 Broadway&quot;</td><td>&quot;New York&quot;</td><td>&quot;NY&quot;</td><td>&quot;10036&quot;</td><td>265.64675</td><td>-127.906753</td><td>&quot;https://images.financialmodeli…</td><td>&quot;1993-02-23&quot;</td><td>false</td><td>false</td><td>true</td><td>false</td><td>false</td></tr></tbody></table></div>"
      ],
      "text/plain": [
       "shape: (5, 36)\n",
>>>>>>> e7e3c52 (AAPL Institutional Holders Upload)
       "┌────────┬────────┬───────┬──────────┬───┬────────┬─────────────────────┬────────┬─────────┐\n",
       "│ symbol ┆ price  ┆ beta  ┆ vol_avg  ┆ … ┆ is_etf ┆ is_actively_trading ┆ is_adr ┆ is_fund │\n",
       "│ ---    ┆ ---    ┆ ---   ┆ ---      ┆   ┆ ---    ┆ ---                 ┆ ---    ┆ ---     │\n",
       "│ str    ┆ f64    ┆ f64   ┆ i64      ┆   ┆ bool   ┆ bool                ┆ bool   ┆ bool    │\n",
       "╞════════╪════════╪═══════╪══════════╪═══╪════════╪═════════════════════╪════════╪═════════╡\n",
       "│ COST   ┆ 943.19 ┆ 0.789 ┆ 1912567  ┆ … ┆ false  ┆ true                ┆ false  ┆ false   │\n",
       "│ JPM    ┆ 259.16 ┆ 1.091 ┆ 9048372  ┆ … ┆ false  ┆ true                ┆ false  ┆ false   │\n",
       "│ BAC    ┆ 46.53  ┆ 1.325 ┆ 34527154 ┆ … ┆ false  ┆ true                ┆ false  ┆ false   │\n",
       "│ WFC    ┆ 77.08  ┆ 1.136 ┆ 17101678 ┆ … ┆ false  ┆ true                ┆ false  ┆ false   │\n",
       "│ MS     ┆ 137.87 ┆ 1.336 ┆ 6577588  ┆ … ┆ false  ┆ true                ┆ false  ┆ false   │\n",
       "└────────┴────────┴───────┴──────────┴───┴────────┴─────────────────────┴────────┴─────────┘"
<<<<<<< HEAD
>>>>>>> e7e3c52 (AAPL Institutional Holders Upload)
=======
>>>>>>> e7e3c52 (AAPL Institutional Holders Upload)
      ]
     },
     "execution_count": 7,
     "metadata": {},
     "output_type": "execute_result"
    }
   ],
   "source": [
    "pl.scan_parquet(f'{output_dir}/company_profile.parquet').head().collect()"
   ]
  }
 ],
 "metadata": {
  "kernelspec": {
   "display_name": ".venv",
   "language": "python",
   "name": "python3"
  },
  "language_info": {
   "codemirror_mode": {
    "name": "ipython",
    "version": 3
   },
   "file_extension": ".py",
   "mimetype": "text/x-python",
   "name": "python",
   "nbconvert_exporter": "python",
   "pygments_lexer": "ipython3",
   "version": "3.12.8"
  }
 },
 "nbformat": 4,
 "nbformat_minor": 2
}
