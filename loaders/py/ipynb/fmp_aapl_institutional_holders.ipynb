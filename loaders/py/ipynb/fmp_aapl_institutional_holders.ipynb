{
 "cells": [
  {
   "cell_type": "markdown",
   "metadata": {},
   "source": [
    "## Step 1: Import Libraries"
   ]
  },
  {
   "cell_type": "code",
   "execution_count": 1,
   "metadata": {
    "execution": {
     "iopub.execute_input": "2025-01-27T10:04:59.012486Z",
     "iopub.status.busy": "2025-01-27T10:04:59.012305Z",
     "iopub.status.idle": "2025-01-27T10:04:59.078665Z",
     "shell.execute_reply": "2025-01-27T10:04:59.078103Z"
    }
   },
   "outputs": [],
   "source": [
    "%run ../make_clean_names.py"
   ]
  },
  {
   "cell_type": "code",
   "execution_count": 2,
   "metadata": {
    "execution": {
     "iopub.execute_input": "2025-01-27T10:04:59.080745Z",
     "iopub.status.busy": "2025-01-27T10:04:59.080562Z",
     "iopub.status.idle": "2025-01-27T10:04:59.148634Z",
     "shell.execute_reply": "2025-01-27T10:04:59.148054Z"
    }
   },
   "outputs": [],
   "source": [
    "import requests\n",
    "from requests.adapters import HTTPAdapter\n",
    "from requests.packages.urllib3.util.retry import Retry\n",
    "import logging\n",
    "import concurrent.futures\n",
    "from typing import Dict, List\n",
    "from concurrent.futures import ThreadPoolExecutor\n",
    "import polars as pl\n",
    "\n",
    "from dotenv import load_dotenv\n",
    "import os\n",
    "\n",
    "# Load environment variables\n",
    "load_dotenv()\n",
    "\n",
    "# Configure logging\n",
    "logging.basicConfig(\n",
    "    level=logging.INFO,\n",
    "    format='%(asctime)s - %(name)s - %(levelname)s - %(message)s',\n",
    "    handlers=[\n",
    "        logging.FileHandler('institutional_holders.log'),\n",
    "        logging.StreamHandler()\n",
    "    ]\n",
    ")\n",
    "\n",
    "# Create logger instance\n",
    "logger = logging.getLogger(__name__)\n",
    "\n",
    "def create_session():\n",
    "    session = requests.Session()\n",
    "    retries = Retry(\n",
    "        total=3,\n",
    "        backoff_factor=1,\n",
    "        status_forcelist=[429, 500, 502, 503, 504]\n",
    "    )\n",
    "    session.mount('https://', HTTPAdapter(max_retries=retries, pool_maxsize=10))\n",
    "    return session\n",
    "\n",
    "# Get API key from environment variables\n",
    "FMP_API_KEY = os.getenv('FMP_API_KEY')\n",
    "if not FMP_API_KEY:\n",
    "    raise ValueError(\"FMP_API_KEY not found in environment variables\")"
   ]
  },
  {
   "cell_type": "markdown",
   "metadata": {},
   "source": [
    "## Step 2: Import Symbols"
   ]
  },
  {
   "cell_type": "code",
   "execution_count": 3,
   "metadata": {
    "execution": {
     "iopub.execute_input": "2025-01-27T10:04:59.150750Z",
     "iopub.status.busy": "2025-01-27T10:04:59.150562Z",
     "iopub.status.idle": "2025-01-27T10:04:59.155425Z",
     "shell.execute_reply": "2025-01-27T10:04:59.154842Z"
    }
   },
   "outputs": [
    {
     "name": "stdout",
     "output_type": "stream",
     "text": [
      "Loaded 61 symbols from ../tickers.txt\n",
      "Symbols: ['AAPL', 'MSFT', 'GOOGL', 'GOOG', 'META', 'NVDA', 'AVGO', 'ORCL', 'CRM', 'ACN', 'ADBE', 'CSCO', 'INTC', 'NFLX', 'DIS', 'CMCSA', 'VZ', 'T', 'AMZN', 'TSLA', 'HD', 'MCD', 'NKE', 'SBUX', 'TGT', 'LOW', 'WMT', 'PG', 'KO', 'PEP', 'COST', 'BRK-B', 'JPM', 'BAC', 'WFC', 'GS', 'MS', 'BLK', 'UNH', 'JNJ', 'PFE', 'ABBV', 'MRK', 'LLY', 'CAT', 'BA', 'HON', 'UPS', 'RTX', 'GE', 'XOM', 'CVX', 'COP', 'SLB', 'LIN', 'APD', 'ECL', 'PLD', 'AMT', 'CCI', 'OSW']\n"
     ]
    }
   ],
   "source": [
    "def load_symbols(file_path: str) -> List[str]:\n",
    "    \"\"\"Load symbols from a text file\"\"\"\n",
    "    try:\n",
    "        with open(file_path, 'r') as f:\n",
    "            symbols = [line.strip() for line in f if line.strip()]\n",
    "        print(f\"Loaded {len(symbols)} symbols from {file_path}\")\n",
    "        return symbols\n",
    "    except Exception as e:\n",
    "        print(f\"Error loading symbols: {str(e)}\")\n",
    "        return []\n",
    "\n",
    "symbols_file = '../tickers.txt'\n",
    "symbols = load_symbols(symbols_file)\n",
    "\n",
    "if symbols:\n",
    "    print(\"Symbols:\", symbols)\n",
    "else:\n",
    "    print(\"No symbols loaded.\")"
   ]
  },
  {
   "cell_type": "markdown",
   "metadata": {},
   "source": [
    "## Step 3: AAPL Institutional Holders\n",
    "- **Reference**: https://site.financialmodelingprep.com/developer/docs/institutional-holders-api"
   ]
  },
  {
   "cell_type": "code",
   "execution_count": 4,
   "metadata": {
    "execution": {
     "iopub.execute_input": "2025-01-27T10:04:59.192068Z",
     "iopub.status.busy": "2025-01-27T10:04:59.191601Z",
     "iopub.status.idle": "2025-01-27T10:04:59.345492Z",
     "shell.execute_reply": "2025-01-27T10:04:59.344983Z"
    }
   },
   "outputs": [],
   "source": [
    "def fetch_data(api_key: str, session: requests.Session) -> Dict:\n",
    "    \"\"\"Fetch historical forex data for a single pair with pair identifier\"\"\"\n",
    "    url = f\"https://financialmodelingprep.com/api/v3/institutional-holder/AAPL\"\n",
    "    params = {\n",
    "        \"apikey\": api_key\n",
    "    }\n",
    "        \n",
    "    try:\n",
    "        response = session.get(url, params=params, timeout=10)\n",
    "        response.raise_for_status()\n",
    "        data = response.json()\n",
    "        return data\n",
    "    except Exception as e:\n",
    "        return None\n",
    "\n",
    "# Create a session\n",
    "session = create_session()\n",
    "\n",
    "# Execute fetching\n",
    "data = fetch_data(FMP_API_KEY, session)\n",
    "\n",
    "# Convert to Polars DataFrame if data exists\n",
    "df = pl.DataFrame(data)"
   ]
  },
  {
   "cell_type": "markdown",
   "metadata": {},
   "source": [
    "## Step 4: Sort and Rank Top 10 Largest Transactions"
   ]
  },
  {
   "cell_type": "code",
   "execution_count": 5,
   "metadata": {
    "execution": {
     "iopub.execute_input": "2025-01-27T10:04:59.347819Z",
     "iopub.status.busy": "2025-01-27T10:04:59.347439Z",
     "iopub.status.idle": "2025-01-27T10:04:59.360701Z",
     "shell.execute_reply": "2025-01-27T10:04:59.360151Z"
    }
   },
   "outputs": [
    {
     "name": "stdout",
     "output_type": "stream",
     "text": [
      "Sorted DataFrame by rank:\n",
      "shape: (5_075, 5)\n",
      "┌─────────────────────────────────┬────────────┬──────────────┬────────────┬──────┐\n",
      "│ holder                          ┆ shares     ┆ dateReported ┆ change     ┆ rank │\n",
      "│ ---                             ┆ ---        ┆ ---          ┆ ---        ┆ ---  │\n",
      "│ str                             ┆ i64        ┆ str          ┆ i64        ┆ f64  │\n",
      "╞═════════════════════════════════╪════════════╪══════════════╪════════════╪══════╡\n",
      "│ BlackRock Funding, Inc. /DE     ┆ 1093618174 ┆ 2024-09-30   ┆ 1093618174 ┆ 0.0  │\n",
      "│ NORGES BANK                     ┆ 177534454  ┆ 2024-06-30   ┆ 177534454  ┆ 1.0  │\n",
      "│ STATE STREET CORP               ┆ 584010284  ┆ 2024-09-30   ┆ 55935105   ┆ 2.0  │\n",
      "│ VANGUARD GROUP INC              ┆ 1346616669 ┆ 2024-09-30   ┆ 21646442   ┆ 3.0  │\n",
      "│ GEODE CAPITAL MANAGEMENT, LLC   ┆ 333857500  ┆ 2024-09-30   ┆ 20483787   ┆ 4.0  │\n",
      "│ …                               ┆ …          ┆ …            ┆ …          ┆ …    │\n",
      "│ RBC Capital Markets, LLC        ┆ 1730       ┆ 2001-03-31   ┆ 1730       ┆ inf  │\n",
      "│ COMERICA INC /NEW/              ┆ 109577     ┆ 2000-09-30   ┆ 109577     ┆ inf  │\n",
      "│ VOYA INVESTMENTS, LLC           ┆ 10600      ┆ 2000-06-30   ┆ 10600      ┆ inf  │\n",
      "│ TRANSAMERICA CORP               ┆ 5098       ┆ 1999-12-31   ┆ 5098       ┆ inf  │\n",
      "│ Allspring Global Investments, … ┆ 200845     ┆ 1999-06-30   ┆ 200845     ┆ inf  │\n",
      "└─────────────────────────────────┴────────────┴──────────────┴────────────┴──────┘\n"
     ]
    }
   ],
   "source": [
    "# Get top 10 holders by change\n",
    "top_10_holders = df.sort(\"change\", descending=True).head(10)\n",
    "\n",
    "# Get bottom 10 holders by change\n",
    "bottom_10_holders = df.sort(\"change\", descending=False).head(10)\n",
    "\n",
    "# Concatenate top and bottom holders\n",
    "combined_holders = pl.concat([top_10_holders, bottom_10_holders])\n",
    "\n",
    "# Extract 'holder' column to a list\n",
    "holder_list = combined_holders[\"holder\"].to_list()\n",
    "\n",
    "# Create a rank dictionary\n",
    "rank_dict = {holder: rank for rank, holder in enumerate(holder_list)}\n",
    "\n",
    "# Add rank column with specified return_dtype\n",
    "df = df.with_columns([\n",
    "    pl.col(\"holder\")\n",
    "    .map_elements(lambda x: rank_dict.get(x, float('inf')), return_dtype=pl.Float64)\n",
    "    .alias(\"rank\")\n",
    "])\n",
    "\n",
    "# Sort the DataFrame by rank\n",
    "sorted_df = df.sort(\"rank\")\n",
    "\n",
    "print(\"Sorted DataFrame by rank:\")\n",
    "print(sorted_df)"
   ]
  },
  {
   "cell_type": "markdown",
   "metadata": {},
   "source": [
    "## Step 5: CIK Mapper By name API\n",
    "- **Reference**: https://site.financialmodelingprep.com/developer/docs/cik-mapper-by-name-insider-trading"
   ]
  },
  {
   "cell_type": "code",
   "execution_count": 6,
   "metadata": {
    "execution": {
     "iopub.execute_input": "2025-01-27T10:04:59.362860Z",
     "iopub.status.busy": "2025-01-27T10:04:59.362494Z",
     "iopub.status.idle": "2025-01-27T10:04:59.369280Z",
     "shell.execute_reply": "2025-01-27T10:04:59.368694Z"
    }
   },
   "outputs": [
    {
     "data": {
      "text/plain": [
       "['APG Asset Management N.V.',\n",
       " 'BANK OF AMERICA CORP /DE/',\n",
       " 'BERKSHIRE HATHAWAY INC',\n",
       " 'BlackRock Funding, Inc. /DE',\n",
       " 'BlackRock Inc.',\n",
       " 'FIRST REPUBLIC INVESTMENT MANAGEMENT, INC.',\n",
       " 'FMR LLC',\n",
       " 'FRANKLIN RESOURCES INC',\n",
       " 'GEODE CAPITAL MANAGEMENT, LLC',\n",
       " 'GQG Partners LLC',\n",
       " 'H&H International Investment, LLC',\n",
       " 'JANE STREET GROUP, LLC',\n",
       " 'Legal & General Group Plc',\n",
       " 'MILLENNIUM MANAGEMENT LLC',\n",
       " 'NORGES BANK',\n",
       " 'PUBLIC EMPLOYEES RETIREMENT SYSTEM OF OHIO',\n",
       " 'STATE STREET CORP',\n",
       " 'Strategic Financial Concepts, LLC',\n",
       " 'VANGUARD GROUP INC',\n",
       " 'WELLINGTON MANAGEMENT GROUP LLP']"
      ]
     },
     "execution_count": 6,
     "metadata": {},
     "output_type": "execute_result"
    }
   ],
   "source": [
    "holders = combined_holders[\"holder\"].str.strip_chars().unique().sort().to_list()\n",
    "holders"
   ]
  },
  {
   "cell_type": "code",
   "execution_count": 7,
   "metadata": {
    "execution": {
     "iopub.execute_input": "2025-01-27T10:04:59.371176Z",
     "iopub.status.busy": "2025-01-27T10:04:59.370980Z",
     "iopub.status.idle": "2025-01-27T10:05:06.843713Z",
     "shell.execute_reply": "2025-01-27T10:05:06.843267Z"
    }
   },
   "outputs": [
    {
     "name": "stderr",
     "output_type": "stream",
     "text": [
      "2025-01-27 10:05:01,899 - __main__ - INFO - Successfully fetched CIK data for APG Asset Management N.V.\n"
     ]
    },
    {
     "name": "stderr",
     "output_type": "stream",
     "text": [
      "2025-01-27 10:05:01,900 - __main__ - INFO - Successfully fetched CIK data for GQG Partners LLC\n"
     ]
    },
    {
     "name": "stderr",
     "output_type": "stream",
     "text": [
      "2025-01-27 10:05:01,900 - __main__ - INFO - Successfully fetched CIK data for GEODE CAPITAL MANAGEMENT, LLC\n"
     ]
    },
    {
     "name": "stderr",
     "output_type": "stream",
     "text": [
      "2025-01-27 10:05:01,902 - __main__ - INFO - Successfully fetched CIK data for FRANKLIN RESOURCES INC\n"
     ]
    },
    {
     "name": "stderr",
     "output_type": "stream",
     "text": [
      "2025-01-27 10:05:01,913 - __main__ - INFO - Successfully fetched CIK data for BlackRock Funding, Inc. /DE\n"
     ]
    },
    {
     "name": "stderr",
     "output_type": "stream",
     "text": [
      "2025-01-27 10:05:01,915 - __main__ - INFO - Successfully fetched CIK data for BlackRock Inc.\n"
     ]
    },
    {
     "name": "stderr",
     "output_type": "stream",
     "text": [
      "2025-01-27 10:05:01,949 - __main__ - INFO - Successfully fetched CIK data for BANK OF AMERICA CORP /DE/\n"
     ]
    },
    {
     "name": "stderr",
     "output_type": "stream",
     "text": [
      "2025-01-27 10:05:02,007 - __main__ - INFO - Successfully fetched CIK data for FIRST REPUBLIC INVESTMENT MANAGEMENT, INC.\n"
     ]
    },
    {
     "name": "stderr",
     "output_type": "stream",
     "text": [
      "2025-01-27 10:05:04,219 - __main__ - INFO - Successfully fetched CIK data for NORGES BANK\n"
     ]
    },
    {
     "name": "stderr",
     "output_type": "stream",
     "text": [
      "2025-01-27 10:05:04,219 - __main__ - INFO - Successfully fetched CIK data for H&H International Investment, LLC\n"
     ]
    },
    {
     "name": "stderr",
     "output_type": "stream",
     "text": [
      "2025-01-27 10:05:04,222 - __main__ - INFO - Successfully fetched CIK data for JANE STREET GROUP, LLC\n"
     ]
    },
    {
     "name": "stderr",
     "output_type": "stream",
     "text": [
      "2025-01-27 10:05:04,250 - __main__ - INFO - Successfully fetched CIK data for Legal & General Group Plc\n"
     ]
    },
    {
     "name": "stderr",
     "output_type": "stream",
     "text": [
      "2025-01-27 10:05:04,252 - __main__ - INFO - Successfully fetched CIK data for PUBLIC EMPLOYEES RETIREMENT SYSTEM OF OHIO\n"
     ]
    },
    {
     "name": "stderr",
     "output_type": "stream",
     "text": [
      "2025-01-27 10:05:04,319 - __main__ - INFO - Successfully fetched CIK data for Strategic Financial Concepts, LLC\n"
     ]
    },
    {
     "name": "stderr",
     "output_type": "stream",
     "text": [
      "2025-01-27 10:05:04,412 - __main__ - INFO - Successfully fetched CIK data for MILLENNIUM MANAGEMENT LLC\n"
     ]
    },
    {
     "name": "stderr",
     "output_type": "stream",
     "text": [
      "2025-01-27 10:05:04,414 - __main__ - INFO - Successfully fetched CIK data for STATE STREET CORP\n"
     ]
    },
    {
     "name": "stderr",
     "output_type": "stream",
     "text": [
      "2025-01-27 10:05:06,433 - __main__ - INFO - Successfully fetched CIK data for BERKSHIRE HATHAWAY INC\n"
     ]
    },
    {
     "name": "stderr",
     "output_type": "stream",
     "text": [
      "2025-01-27 10:05:06,528 - __main__ - INFO - Successfully fetched CIK data for WELLINGTON MANAGEMENT GROUP LLP\n"
     ]
    },
    {
     "name": "stderr",
     "output_type": "stream",
     "text": [
      "2025-01-27 10:05:06,557 - __main__ - INFO - Successfully fetched CIK data for VANGUARD GROUP INC\n"
     ]
    },
    {
     "name": "stderr",
     "output_type": "stream",
     "text": [
      "2025-01-27 10:05:06,839 - __main__ - INFO - Successfully fetched CIK data for FMR LLC\n"
     ]
    }
   ],
   "source": [
    "def fetch_cik(holder_name: str, api_key: str, session: requests.Session) -> Dict:\n",
    "    \"\"\"Fetch CIK data for a single holder name\"\"\"\n",
    "    url = f\"https://financialmodelingprep.com/api/v4/mapper-cik-name\"\n",
    "    params = {\n",
    "        \"name\": holder_name,\n",
    "        \"page\": 0,\n",
    "        \"apikey\": api_key\n",
    "    }\n",
    "    try:\n",
    "        response = session.get(url, params=params, timeout=10)\n",
    "        response.raise_for_status()\n",
    "        logger.info(f\"Successfully fetched CIK data for {holder_name}\")\n",
    "        return response.json()\n",
    "    except requests.exceptions.RequestException as e:\n",
    "        logger.error(f\"Request error fetching {holder_name}: {str(e)}\")\n",
    "        return None\n",
    "    except Exception as e:\n",
    "        logger.error(f\"Unexpected error fetching {holder_name}: {str(e)}\")\n",
    "        return None\n",
    "\n",
    "def fetch_all_cik(holder_names: List[str], api_key: str, session: requests.Session) -> List[Dict]:\n",
    "    \"\"\"Fetch CIK data for multiple holder names in parallel\"\"\"\n",
    "    with ThreadPoolExecutor(max_workers=10) as executor:\n",
    "        futures = [\n",
    "            executor.submit(fetch_cik, holder, api_key, session)\n",
    "            for holder in holder_names\n",
    "        ]\n",
    "        results = [\n",
    "            f.result() for f in concurrent.futures.as_completed(futures)\n",
    "        ]\n",
    "    \n",
    "    return [r[0] for r in results if r and isinstance(r, list)]\n",
    "\n",
    "# Create a session\n",
    "session = create_session()\n",
    "\n",
    "# Execute fetching\n",
    "cik_data = fetch_all_cik(holders, FMP_API_KEY, session)\n",
    "\n",
    "# Convert to Polars DataFrame if data exists\n",
    "df_cik = pl.DataFrame(cik_data)"
   ]
  },
  {
   "cell_type": "code",
   "execution_count": 8,
   "metadata": {
    "execution": {
     "iopub.execute_input": "2025-01-27T10:05:06.845614Z",
     "iopub.status.busy": "2025-01-27T10:05:06.845270Z",
     "iopub.status.idle": "2025-01-27T10:05:06.849546Z",
     "shell.execute_reply": "2025-01-27T10:05:06.849122Z"
    }
   },
   "outputs": [
    {
     "data": {
      "text/html": [
       "<div><style>\n",
       ".dataframe > thead > tr,\n",
       ".dataframe > tbody > tr {\n",
       "  text-align: right;\n",
       "  white-space: pre-wrap;\n",
       "}\n",
       "</style>\n",
       "<small>shape: (6, 2)</small><table border=\"1\" class=\"dataframe\"><thead><tr><th>reportingCik</th><th>reportingName</th></tr><tr><td>str</td><td>str</td></tr></thead><tbody><tr><td>&quot;0000038777&quot;</td><td>&quot;FRANKLIN RESOURCES INC&quot;</td></tr><tr><td>&quot;0001364742&quot;</td><td>&quot;BlackRock Inc.&quot;</td></tr><tr><td>&quot;0000070858&quot;</td><td>&quot;BANK OF AMERICA CORP /DE/&quot;</td></tr><tr><td>&quot;0001273087&quot;</td><td>&quot;MILLENNIUM MANAGEMENT LLC&quot;</td></tr><tr><td>&quot;0001067983&quot;</td><td>&quot;BERKSHIRE HATHAWAY INC&quot;</td></tr><tr><td>&quot;0000315066&quot;</td><td>&quot;FMR LLC&quot;</td></tr></tbody></table></div>"
      ],
      "text/plain": [
       "shape: (6, 2)\n",
       "┌──────────────┬───────────────────────────┐\n",
       "│ reportingCik ┆ reportingName             │\n",
       "│ ---          ┆ ---                       │\n",
       "│ str          ┆ str                       │\n",
       "╞══════════════╪═══════════════════════════╡\n",
       "│ 0000038777   ┆ FRANKLIN RESOURCES INC    │\n",
       "│ 0001364742   ┆ BlackRock Inc.            │\n",
       "│ 0000070858   ┆ BANK OF AMERICA CORP /DE/ │\n",
       "│ 0001273087   ┆ MILLENNIUM MANAGEMENT LLC │\n",
       "│ 0001067983   ┆ BERKSHIRE HATHAWAY INC    │\n",
       "│ 0000315066   ┆ FMR LLC                   │\n",
       "└──────────────┴───────────────────────────┘"
      ]
     },
     "execution_count": 8,
     "metadata": {},
     "output_type": "execute_result"
    }
   ],
   "source": [
    "df_cik"
   ]
  },
  {
   "cell_type": "markdown",
   "metadata": {},
   "source": [
    "## Step 6: Merge DataFrames"
   ]
  },
  {
   "cell_type": "code",
   "execution_count": 9,
   "metadata": {
    "execution": {
     "iopub.execute_input": "2025-01-27T10:05:06.851321Z",
     "iopub.status.busy": "2025-01-27T10:05:06.850953Z",
     "iopub.status.idle": "2025-01-27T10:05:06.854194Z",
     "shell.execute_reply": "2025-01-27T10:05:06.853766Z"
    }
   },
   "outputs": [],
   "source": [
    "df = combined_holders.join(\n",
    "    df_cik,\n",
    "    left_on=\"holder\",\n",
    "    right_on=\"reportingName\",\n",
    "    how=\"inner\"\n",
    ")"
   ]
  },
  {
   "cell_type": "markdown",
   "metadata": {},
   "source": [
    "## Step 7: Clean Column Names"
   ]
  },
  {
   "cell_type": "code",
   "execution_count": 10,
   "metadata": {
    "execution": {
     "iopub.execute_input": "2025-01-27T10:05:06.855918Z",
     "iopub.status.busy": "2025-01-27T10:05:06.855580Z",
     "iopub.status.idle": "2025-01-27T10:05:06.860794Z",
     "shell.execute_reply": "2025-01-27T10:05:06.860360Z"
    }
   },
   "outputs": [
    {
     "data": {
      "text/html": [
       "<div><style>\n",
       ".dataframe > thead > tr,\n",
       ".dataframe > tbody > tr {\n",
       "  text-align: right;\n",
       "  white-space: pre-wrap;\n",
       "}\n",
       "</style>\n",
       "<small>shape: (6, 5)</small><table border=\"1\" class=\"dataframe\"><thead><tr><th>holder</th><th>shares</th><th>date_reported</th><th>change</th><th>reporting_cik</th></tr><tr><td>str</td><td>i64</td><td>str</td><td>i64</td><td>str</td></tr></thead><tbody><tr><td>&quot;FMR LLC&quot;</td><td>363859362</td><td>&quot;2024-09-30&quot;</td><td>18224005</td><td>&quot;0000315066&quot;</td></tr><tr><td>&quot;BlackRock Inc.&quot;</td><td>1050215752</td><td>&quot;2024-06-30&quot;</td><td>9692346</td><td>&quot;0001364742&quot;</td></tr><tr><td>&quot;FRANKLIN RESOURCES INC&quot;</td><td>46376594</td><td>&quot;2024-09-30&quot;</td><td>7273386</td><td>&quot;0000038777&quot;</td></tr><tr><td>&quot;MILLENNIUM MANAGEMENT LLC&quot;</td><td>1224060</td><td>&quot;2024-09-30&quot;</td><td>-11585042</td><td>&quot;0001273087&quot;</td></tr><tr><td>&quot;BANK OF AMERICA CORP /DE/&quot;</td><td>80893112</td><td>&quot;2024-09-30&quot;</td><td>-41754942</td><td>&quot;0000070858&quot;</td></tr><tr><td>&quot;BERKSHIRE HATHAWAY INC&quot;</td><td>300000000</td><td>&quot;2024-09-30&quot;</td><td>-100000000</td><td>&quot;0001067983&quot;</td></tr></tbody></table></div>"
      ],
      "text/plain": [
       "shape: (6, 5)\n",
       "┌───────────────────────────┬────────────┬───────────────┬────────────┬───────────────┐\n",
       "│ holder                    ┆ shares     ┆ date_reported ┆ change     ┆ reporting_cik │\n",
       "│ ---                       ┆ ---        ┆ ---           ┆ ---        ┆ ---           │\n",
       "│ str                       ┆ i64        ┆ str           ┆ i64        ┆ str           │\n",
       "╞═══════════════════════════╪════════════╪═══════════════╪════════════╪═══════════════╡\n",
       "│ FMR LLC                   ┆ 363859362  ┆ 2024-09-30    ┆ 18224005   ┆ 0000315066    │\n",
       "│ BlackRock Inc.            ┆ 1050215752 ┆ 2024-06-30    ┆ 9692346    ┆ 0001364742    │\n",
       "│ FRANKLIN RESOURCES INC    ┆ 46376594   ┆ 2024-09-30    ┆ 7273386    ┆ 0000038777    │\n",
       "│ MILLENNIUM MANAGEMENT LLC ┆ 1224060    ┆ 2024-09-30    ┆ -11585042  ┆ 0001273087    │\n",
       "│ BANK OF AMERICA CORP /DE/ ┆ 80893112   ┆ 2024-09-30    ┆ -41754942  ┆ 0000070858    │\n",
       "│ BERKSHIRE HATHAWAY INC    ┆ 300000000  ┆ 2024-09-30    ┆ -100000000 ┆ 0001067983    │\n",
       "└───────────────────────────┴────────────┴───────────────┴────────────┴───────────────┘"
      ]
     },
     "execution_count": 10,
     "metadata": {},
     "output_type": "execute_result"
    }
   ],
   "source": [
    "df = make_clean_names(df)\n",
    "df = df.sort(\"change\", descending=True)\n",
    "\n",
    "df"
   ]
  },
  {
   "cell_type": "markdown",
   "metadata": {},
   "source": [
    "## Step 8: Write Polars to Parquet"
   ]
  },
  {
   "cell_type": "code",
   "execution_count": 11,
   "metadata": {
    "execution": {
     "iopub.execute_input": "2025-01-27T10:05:06.862682Z",
     "iopub.status.busy": "2025-01-27T10:05:06.862343Z",
     "iopub.status.idle": "2025-01-27T10:05:06.866335Z",
     "shell.execute_reply": "2025-01-27T10:05:06.865766Z"
    }
   },
   "outputs": [],
   "source": [
    "# Define the output directory\n",
    "output_dir = \"../../../data/finance\"\n",
    "\n",
    "# Write the processed DataFrame to a Parquet file\n",
    "df.write_parquet(f'{output_dir}/aapl_institutional_holders_change.parquet')"
   ]
  },
  {
   "cell_type": "markdown",
   "metadata": {},
   "source": [
    "## Step 9: Read Parquet (Validate)"
   ]
  },
  {
   "cell_type": "code",
   "execution_count": 12,
   "metadata": {
    "execution": {
     "iopub.execute_input": "2025-01-27T10:05:06.868067Z",
     "iopub.status.busy": "2025-01-27T10:05:06.867893Z",
     "iopub.status.idle": "2025-01-27T10:05:06.872149Z",
     "shell.execute_reply": "2025-01-27T10:05:06.871686Z"
    }
   },
   "outputs": [
    {
     "data": {
      "text/html": [
       "<div><style>\n",
       ".dataframe > thead > tr,\n",
       ".dataframe > tbody > tr {\n",
       "  text-align: right;\n",
       "  white-space: pre-wrap;\n",
       "}\n",
       "</style>\n",
       "<small>shape: (6, 5)</small><table border=\"1\" class=\"dataframe\"><thead><tr><th>holder</th><th>shares</th><th>date_reported</th><th>change</th><th>reporting_cik</th></tr><tr><td>str</td><td>i64</td><td>str</td><td>i64</td><td>str</td></tr></thead><tbody><tr><td>&quot;FMR LLC&quot;</td><td>363859362</td><td>&quot;2024-09-30&quot;</td><td>18224005</td><td>&quot;0000315066&quot;</td></tr><tr><td>&quot;BlackRock Inc.&quot;</td><td>1050215752</td><td>&quot;2024-06-30&quot;</td><td>9692346</td><td>&quot;0001364742&quot;</td></tr><tr><td>&quot;FRANKLIN RESOURCES INC&quot;</td><td>46376594</td><td>&quot;2024-09-30&quot;</td><td>7273386</td><td>&quot;0000038777&quot;</td></tr><tr><td>&quot;MILLENNIUM MANAGEMENT LLC&quot;</td><td>1224060</td><td>&quot;2024-09-30&quot;</td><td>-11585042</td><td>&quot;0001273087&quot;</td></tr><tr><td>&quot;BANK OF AMERICA CORP /DE/&quot;</td><td>80893112</td><td>&quot;2024-09-30&quot;</td><td>-41754942</td><td>&quot;0000070858&quot;</td></tr><tr><td>&quot;BERKSHIRE HATHAWAY INC&quot;</td><td>300000000</td><td>&quot;2024-09-30&quot;</td><td>-100000000</td><td>&quot;0001067983&quot;</td></tr></tbody></table></div>"
      ],
      "text/plain": [
       "shape: (6, 5)\n",
       "┌───────────────────────────┬────────────┬───────────────┬────────────┬───────────────┐\n",
       "│ holder                    ┆ shares     ┆ date_reported ┆ change     ┆ reporting_cik │\n",
       "│ ---                       ┆ ---        ┆ ---           ┆ ---        ┆ ---           │\n",
       "│ str                       ┆ i64        ┆ str           ┆ i64        ┆ str           │\n",
       "╞═══════════════════════════╪════════════╪═══════════════╪════════════╪═══════════════╡\n",
       "│ FMR LLC                   ┆ 363859362  ┆ 2024-09-30    ┆ 18224005   ┆ 0000315066    │\n",
       "│ BlackRock Inc.            ┆ 1050215752 ┆ 2024-06-30    ┆ 9692346    ┆ 0001364742    │\n",
       "│ FRANKLIN RESOURCES INC    ┆ 46376594   ┆ 2024-09-30    ┆ 7273386    ┆ 0000038777    │\n",
       "│ MILLENNIUM MANAGEMENT LLC ┆ 1224060    ┆ 2024-09-30    ┆ -11585042  ┆ 0001273087    │\n",
       "│ BANK OF AMERICA CORP /DE/ ┆ 80893112   ┆ 2024-09-30    ┆ -41754942  ┆ 0000070858    │\n",
       "│ BERKSHIRE HATHAWAY INC    ┆ 300000000  ┆ 2024-09-30    ┆ -100000000 ┆ 0001067983    │\n",
       "└───────────────────────────┴────────────┴───────────────┴────────────┴───────────────┘"
      ]
     },
     "execution_count": 12,
     "metadata": {},
     "output_type": "execute_result"
    }
   ],
   "source": [
    "# Validate the output by reading the Parquet file and displaying the first few rows\n",
    "pl.scan_parquet(f'{output_dir}/aapl_institutional_holders_change.parquet').collect()"
   ]
  }
 ],
 "metadata": {
  "kernelspec": {
   "display_name": ".venv",
   "language": "python",
   "name": "python3"
  },
  "language_info": {
   "codemirror_mode": {
    "name": "ipython",
    "version": 3
   },
   "file_extension": ".py",
   "mimetype": "text/x-python",
   "name": "python",
   "nbconvert_exporter": "python",
   "pygments_lexer": "ipython3",
   "version": "3.12.8"
  }
 },
 "nbformat": 4,
 "nbformat_minor": 2
}
