{
 "cells": [
  {
   "cell_type": "markdown",
   "metadata": {},
   "source": [
    "# Financial Statements\n",
    "- **Reference**: https://site.financialmodelingprep.com/developer/docs#income-statements-financial-statements"
   ]
  },
  {
   "cell_type": "markdown",
   "metadata": {},
   "source": [
    "## Step 1: Import Libraries"
   ]
  },
  {
   "cell_type": "code",
   "execution_count": 1,
   "metadata": {
    "execution": {
<<<<<<< HEAD
<<<<<<< HEAD
     "iopub.execute_input": "2025-01-17T15:33:47.130291Z",
     "iopub.status.busy": "2025-01-17T15:33:47.130111Z",
     "iopub.status.idle": "2025-01-17T15:33:47.193877Z",
     "shell.execute_reply": "2025-01-17T15:33:47.193365Z"
=======
=======
>>>>>>> e7e3c52 (AAPL Institutional Holders Upload)
     "iopub.execute_input": "2025-01-17T22:58:20.566100Z",
     "iopub.status.busy": "2025-01-17T22:58:20.565957Z",
     "iopub.status.idle": "2025-01-17T22:58:20.608162Z",
     "shell.execute_reply": "2025-01-17T22:58:20.607299Z"
<<<<<<< HEAD
>>>>>>> e7e3c52 (AAPL Institutional Holders Upload)
=======
>>>>>>> e7e3c52 (AAPL Institutional Holders Upload)
    }
   },
   "outputs": [],
   "source": [
    "%run ../make_clean_names.py"
   ]
  },
  {
   "cell_type": "code",
   "execution_count": 2,
   "metadata": {
    "execution": {
<<<<<<< HEAD
<<<<<<< HEAD
     "iopub.execute_input": "2025-01-17T15:33:47.195661Z",
     "iopub.status.busy": "2025-01-17T15:33:47.195481Z",
     "iopub.status.idle": "2025-01-17T15:33:47.261421Z",
     "shell.execute_reply": "2025-01-17T15:33:47.260810Z"
=======
=======
>>>>>>> e7e3c52 (AAPL Institutional Holders Upload)
     "iopub.execute_input": "2025-01-17T22:58:20.610235Z",
     "iopub.status.busy": "2025-01-17T22:58:20.610085Z",
     "iopub.status.idle": "2025-01-17T22:58:20.658520Z",
     "shell.execute_reply": "2025-01-17T22:58:20.657691Z"
<<<<<<< HEAD
>>>>>>> e7e3c52 (AAPL Institutional Holders Upload)
=======
>>>>>>> e7e3c52 (AAPL Institutional Holders Upload)
    }
   },
   "outputs": [],
   "source": [
    "import concurrent.futures\n",
    "from concurrent.futures import ThreadPoolExecutor\n",
    "import requests\n",
    "from requests.adapters import HTTPAdapter\n",
    "from urllib3.util.retry import Retry\n",
    "import logging\n",
    "\n",
    "import polars as pl\n",
    "from datetime import datetime, timedelta\n",
    "from dotenv import load_dotenv\n",
    "import os\n",
    "\n",
    "# Load environment variables\n",
    "load_dotenv()\n",
    "\n",
    "logging.basicConfig(level=logging.INFO)\n",
    "logger = logging.getLogger(__name__)\n",
    "\n",
    "def create_session():\n",
    "    session = requests.Session()\n",
    "    retries = Retry(\n",
    "        total=3,\n",
    "        backoff_factor=1,\n",
    "        status_forcelist=[429, 500, 502, 503, 504]\n",
    "    )\n",
    "    session.mount('https://', HTTPAdapter(max_retries=retries, pool_maxsize=10))\n",
    "    return session\n",
    "\n",
    "# Get API key from environment variables\n",
    "FMP_API_KEY = os.getenv('FMP_API_KEY')\n",
    "if not FMP_API_KEY:\n",
    "    raise ValueError(\"FMP_API_KEY not found in environment variables\")"
   ]
  },
  {
   "cell_type": "markdown",
   "metadata": {},
   "source": [
    "## Step 2: Import Symbols"
   ]
  },
  {
   "cell_type": "code",
   "execution_count": 3,
   "metadata": {
    "execution": {
<<<<<<< HEAD
<<<<<<< HEAD
     "iopub.execute_input": "2025-01-17T15:33:47.263587Z",
     "iopub.status.busy": "2025-01-17T15:33:47.263417Z",
     "iopub.status.idle": "2025-01-17T15:33:47.267443Z",
     "shell.execute_reply": "2025-01-17T15:33:47.266931Z"
=======
=======
>>>>>>> e7e3c52 (AAPL Institutional Holders Upload)
     "iopub.execute_input": "2025-01-17T22:58:20.660595Z",
     "iopub.status.busy": "2025-01-17T22:58:20.660454Z",
     "iopub.status.idle": "2025-01-17T22:58:20.664957Z",
     "shell.execute_reply": "2025-01-17T22:58:20.664318Z"
<<<<<<< HEAD
>>>>>>> e7e3c52 (AAPL Institutional Holders Upload)
=======
>>>>>>> e7e3c52 (AAPL Institutional Holders Upload)
    }
   },
   "outputs": [
    {
     "name": "stdout",
     "output_type": "stream",
     "text": [
      "Loaded 60 symbols from ../tickers.txt\n",
      "Symbols: ['AAPL', 'MSFT', 'GOOGL', 'GOOG', 'META', 'NVDA', 'AVGO', 'ORCL', 'CRM', 'ACN', 'ADBE', 'CSCO', 'INTC', 'NFLX', 'DIS', 'CMCSA', 'VZ', 'T', 'AMZN', 'TSLA', 'HD', 'MCD', 'NKE', 'SBUX', 'TGT', 'LOW', 'WMT', 'PG', 'KO', 'PEP', 'COST', 'BRK-B', 'JPM', 'BAC', 'WFC', 'GS', 'MS', 'BLK', 'UNH', 'JNJ', 'PFE', 'ABBV', 'MRK', 'LLY', 'CAT', 'BA', 'HON', 'UPS', 'RTX', 'GE', 'XOM', 'CVX', 'COP', 'SLB', 'LIN', 'APD', 'ECL', 'PLD', 'AMT', 'CCI']\n"
     ]
    }
   ],
   "source": [
    "def load_symbols(file_path: str) -> List[str]:\n",
    "    \"\"\"Load symbols from a text file\"\"\"\n",
    "    try:\n",
    "        with open(file_path, 'r') as f:\n",
    "            symbols = [line.strip() for line in f if line.strip()]\n",
    "        print(f\"Loaded {len(symbols)} symbols from {file_path}\")\n",
    "        return symbols\n",
    "    except Exception as e:\n",
    "        print(f\"Error loading symbols: {str(e)}\")\n",
    "        return []\n",
    "\n",
    "symbols_file = '../tickers.txt'\n",
    "symbols = load_symbols(symbols_file)\n",
    "\n",
    "if symbols:\n",
    "    print(\"Symbols:\", symbols)\n",
    "else:\n",
    "    print(\"No symbols loaded.\")"
   ]
  },
  {
   "cell_type": "markdown",
   "metadata": {},
   "source": [
    "## **Income Statement**"
   ]
  },
  {
   "cell_type": "code",
   "execution_count": 4,
   "metadata": {
    "execution": {
<<<<<<< HEAD
<<<<<<< HEAD
     "iopub.execute_input": "2025-01-17T15:33:47.304043Z",
     "iopub.status.busy": "2025-01-17T15:33:47.303849Z",
     "iopub.status.idle": "2025-01-17T15:33:47.916637Z",
     "shell.execute_reply": "2025-01-17T15:33:47.916002Z"
=======
=======
>>>>>>> e7e3c52 (AAPL Institutional Holders Upload)
     "iopub.execute_input": "2025-01-17T22:58:20.687821Z",
     "iopub.status.busy": "2025-01-17T22:58:20.687583Z",
     "iopub.status.idle": "2025-01-17T22:58:21.148888Z",
     "shell.execute_reply": "2025-01-17T22:58:21.147867Z"
<<<<<<< HEAD
>>>>>>> e7e3c52 (AAPL Institutional Holders Upload)
=======
>>>>>>> e7e3c52 (AAPL Institutional Holders Upload)
    }
   },
   "outputs": [],
   "source": [
    "def fetch_data(symbol: str, api_key: str, session: requests.Session) -> Dict:\n",
    "    \"\"\"Fetch company profile data from FMP API\"\"\"\n",
    "    url = f\"https://financialmodelingprep.com/api/v3/income-statement/{symbol}\"\n",
    "    params = {\"apikey\": api_key,\n",
    "              \"period\": \"annual\"}\n",
    "\n",
    "    try:\n",
    "        response = session.get(url, params=params, timeout=10)\n",
    "        response.raise_for_status()\n",
    "        return response.json()\n",
    "    except Exception as e:\n",
    "        logger.error(f\"Error fetching {symbol}: {str(e)}\")\n",
    "        return None\n",
    "\n",
    "def fetch_all_data(symbols: List[str], api_key: str) -> List[Dict]:\n",
    "    session = create_session()\n",
    "    \n",
    "    with ThreadPoolExecutor(max_workers=10) as executor:\n",
    "        futures = [\n",
    "            executor.submit(fetch_data, symbol, api_key, session)\n",
    "            for symbol in symbols\n",
    "        ]\n",
    "        results = [\n",
    "            f.result() for f in concurrent.futures.as_completed(futures)\n",
    "        ]\n",
    "    \n",
    "    return [r[0] for r in results if r and isinstance(r, list)]\n",
    "\n",
    "# Execute fetching\n",
    "data = fetch_all_data(symbols, FMP_API_KEY)\n",
    "\n",
    "# Convert to Polars DataFrame more efficiently\n",
    "if data:\n",
    "    df = pl.DataFrame(data)"
   ]
  },
  {
   "cell_type": "code",
   "execution_count": 5,
   "metadata": {
    "execution": {
<<<<<<< HEAD
<<<<<<< HEAD
     "iopub.execute_input": "2025-01-17T15:33:47.918741Z",
     "iopub.status.busy": "2025-01-17T15:33:47.918561Z",
     "iopub.status.idle": "2025-01-17T15:33:47.923754Z",
     "shell.execute_reply": "2025-01-17T15:33:47.923176Z"
=======
=======
>>>>>>> e7e3c52 (AAPL Institutional Holders Upload)
     "iopub.execute_input": "2025-01-17T22:58:21.151220Z",
     "iopub.status.busy": "2025-01-17T22:58:21.150983Z",
     "iopub.status.idle": "2025-01-17T22:58:21.155113Z",
     "shell.execute_reply": "2025-01-17T22:58:21.154473Z"
<<<<<<< HEAD
>>>>>>> e7e3c52 (AAPL Institutional Holders Upload)
=======
>>>>>>> e7e3c52 (AAPL Institutional Holders Upload)
    }
   },
   "outputs": [],
   "source": [
    "df = make_clean_names(df)"
   ]
  },
  {
   "cell_type": "code",
   "execution_count": 6,
   "metadata": {
    "execution": {
<<<<<<< HEAD
<<<<<<< HEAD
     "iopub.execute_input": "2025-01-17T15:33:47.925570Z",
     "iopub.status.busy": "2025-01-17T15:33:47.925233Z",
     "iopub.status.idle": "2025-01-17T15:33:47.930978Z",
     "shell.execute_reply": "2025-01-17T15:33:47.930425Z"
=======
=======
>>>>>>> e7e3c52 (AAPL Institutional Holders Upload)
     "iopub.execute_input": "2025-01-17T22:58:21.156853Z",
     "iopub.status.busy": "2025-01-17T22:58:21.156563Z",
     "iopub.status.idle": "2025-01-17T22:58:21.170041Z",
     "shell.execute_reply": "2025-01-17T22:58:21.169562Z"
<<<<<<< HEAD
>>>>>>> e7e3c52 (AAPL Institutional Holders Upload)
=======
>>>>>>> e7e3c52 (AAPL Institutional Holders Upload)
    }
   },
   "outputs": [],
   "source": [
    "output_dir = \"../../../data/finance\"\n",
    "\n",
    "# Write DataFrame to Parquet\n",
    "df.write_parquet(f'{output_dir}/company_income_statement.parquet')"
   ]
  },
  {
   "cell_type": "code",
   "execution_count": 7,
   "metadata": {
    "execution": {
<<<<<<< HEAD
<<<<<<< HEAD
     "iopub.execute_input": "2025-01-17T15:33:47.932814Z",
     "iopub.status.busy": "2025-01-17T15:33:47.932472Z",
     "iopub.status.idle": "2025-01-17T15:33:47.940613Z",
     "shell.execute_reply": "2025-01-17T15:33:47.940120Z"
=======
=======
>>>>>>> e7e3c52 (AAPL Institutional Holders Upload)
     "iopub.execute_input": "2025-01-17T22:58:21.171557Z",
     "iopub.status.busy": "2025-01-17T22:58:21.171409Z",
     "iopub.status.idle": "2025-01-17T22:58:21.179229Z",
     "shell.execute_reply": "2025-01-17T22:58:21.178771Z"
<<<<<<< HEAD
>>>>>>> e7e3c52 (AAPL Institutional Holders Upload)
=======
>>>>>>> e7e3c52 (AAPL Institutional Holders Upload)
    }
   },
   "outputs": [
    {
     "data": {
      "text/html": [
       "<div><style>\n",
       ".dataframe > thead > tr,\n",
       ".dataframe > tbody > tr {\n",
       "  text-align: right;\n",
       "  white-space: pre-wrap;\n",
       "}\n",
       "</style>\n",
<<<<<<< HEAD
<<<<<<< HEAD
       "<small>shape: (5, 38)</small><table border=\"1\" class=\"dataframe\"><thead><tr><th>date</th><th>symbol</th><th>reported_currency</th><th>cik</th><th>filling_date</th><th>accepted_date</th><th>calendar_year</th><th>period</th><th>revenue</th><th>cost_of_revenue</th><th>gross_profit</th><th>gross_profit_ratio</th><th>research_and_development_expenses</th><th>general_and_administrative_expenses</th><th>selling_and_marketing_expenses</th><th>selling_general_and_administrative_expenses</th><th>other_expenses</th><th>operating_expenses</th><th>cost_and_expenses</th><th>interest_income</th><th>interest_expense</th><th>depreciation_and_amortization</th><th>ebitda</th><th>ebitdaratio</th><th>operating_income</th><th>operating_income_ratio</th><th>total_other_income_expenses_net</th><th>income_before_tax</th><th>income_before_tax_ratio</th><th>income_tax_expense</th><th>net_income</th><th>net_income_ratio</th><th>eps</th><th>epsdiluted</th><th>weighted_average_shs_out</th><th>weighted_average_shs_out_dil</th><th>link</th><th>final_link</th></tr><tr><td>str</td><td>str</td><td>str</td><td>str</td><td>str</td><td>str</td><td>str</td><td>str</td><td>i64</td><td>i64</td><td>i64</td><td>f64</td><td>i64</td><td>i64</td><td>i64</td><td>i64</td><td>i64</td><td>i64</td><td>i64</td><td>i64</td><td>i64</td><td>i64</td><td>i64</td><td>f64</td><td>i64</td><td>f64</td><td>i64</td><td>i64</td><td>f64</td><td>i64</td><td>i64</td><td>f64</td><td>f64</td><td>f64</td><td>i64</td><td>i64</td><td>str</td><td>str</td></tr></thead><tbody><tr><td>&quot;2024-11-03&quot;</td><td>&quot;AVGO&quot;</td><td>&quot;USD&quot;</td><td>&quot;0001730168&quot;</td><td>&quot;2024-12-20&quot;</td><td>&quot;2024-12-20 17:26:46&quot;</td><td>&quot;2024&quot;</td><td>&quot;FY&quot;</td><td>51574000000</td><td>19065000000</td><td>32509000000</td><td>0.630337</td><td>9310000000</td><td>0</td><td>0</td><td>4959000000</td><td>4777000000</td><td>19046000000</td><td>38111000000</td><td>304000000</td><td>3796000000</td><td>10010000000</td><td>23722000000</td><td>0.45996</td><td>13463000000</td><td>0.261042</td><td>-3547000000</td><td>9916000000</td><td>0.192267</td><td>3748000000</td><td>5895000000</td><td>0.114302</td><td>1.33</td><td>1.29</td><td>4624000000</td><td>4778000000</td><td>&quot;https://www.sec.gov/Archives/e…</td><td>&quot;https://www.sec.gov/Archives/e…</td></tr><tr><td>&quot;2024-06-30&quot;</td><td>&quot;MSFT&quot;</td><td>&quot;USD&quot;</td><td>&quot;0000789019&quot;</td><td>&quot;2024-07-30&quot;</td><td>&quot;2024-07-30 16:06:22&quot;</td><td>&quot;2024&quot;</td><td>&quot;FY&quot;</td><td>245122000000</td><td>74114000000</td><td>171008000000</td><td>0.697644</td><td>29510000000</td><td>7609000000</td><td>24456000000</td><td>32065000000</td><td>0</td><td>61575000000</td><td>135689000000</td><td>3157000000</td><td>2935000000</td><td>22287000000</td><td>133009000000</td><td>0.542624</td><td>109433000000</td><td>0.446443</td><td>-1646000000</td><td>107787000000</td><td>0.439728</td><td>19651000000</td><td>88136000000</td><td>0.35956</td><td>11.86</td><td>11.8</td><td>7431000000</td><td>7469000000</td><td>&quot;https://www.sec.gov/Archives/e…</td><td>&quot;https://www.sec.gov/Archives/e…</td></tr><tr><td>&quot;2024-09-28&quot;</td><td>&quot;AAPL&quot;</td><td>&quot;USD&quot;</td><td>&quot;0000320193&quot;</td><td>&quot;2024-11-01&quot;</td><td>&quot;2024-11-01 06:01:36&quot;</td><td>&quot;2024&quot;</td><td>&quot;FY&quot;</td><td>391035000000</td><td>210352000000</td><td>180683000000</td><td>0.462063</td><td>31370000000</td><td>0</td><td>0</td><td>26097000000</td><td>0</td><td>57467000000</td><td>267819000000</td><td>0</td><td>0</td><td>11445000000</td><td>134661000000</td><td>0.344371</td><td>123216000000</td><td>0.315102</td><td>269000000</td><td>123485000000</td><td>0.31579</td><td>29749000000</td><td>93736000000</td><td>0.239713</td><td>6.11</td><td>6.08</td><td>15343783000</td><td>15408095000</td><td>&quot;https://www.sec.gov/Archives/e…</td><td>&quot;https://www.sec.gov/Archives/e…</td></tr><tr><td>&quot;2024-05-31&quot;</td><td>&quot;ORCL&quot;</td><td>&quot;USD&quot;</td><td>&quot;0001341439&quot;</td><td>&quot;2024-06-20&quot;</td><td>&quot;2024-06-20 16:21:35&quot;</td><td>&quot;2024&quot;</td><td>&quot;FY&quot;</td><td>52961000000</td><td>15143000000</td><td>37818000000</td><td>0.714073</td><td>8915000000</td><td>1548000000</td><td>8274000000</td><td>9822000000</td><td>3728000000</td><td>22465000000</td><td>37608000000</td><td>451000000</td><td>3514000000</td><td>6139000000</td><td>21580000000</td><td>0.40747</td><td>15353000000</td><td>0.289893</td><td>-3612000000</td><td>11741000000</td><td>0.221691</td><td>1274000000</td><td>10467000000</td><td>0.197636</td><td>3.81</td><td>3.71</td><td>2744000000</td><td>2823000000</td><td>&quot;https://www.sec.gov/Archives/e…</td><td>&quot;https://www.sec.gov/Archives/e…</td></tr><tr><td>&quot;2023-12-31&quot;</td><td>&quot;GOOG&quot;</td><td>&quot;USD&quot;</td><td>&quot;0001652044&quot;</td><td>&quot;2024-01-31&quot;</td><td>&quot;2024-01-30 21:43:43&quot;</td><td>&quot;2023&quot;</td><td>&quot;FY&quot;</td><td>307394000000</td><td>133332000000</td><td>174062000000</td><td>0.56625</td><td>45427000000</td><td>16425000000</td><td>27917000000</td><td>44342000000</td><td>0</td><td>89769000000</td><td>223101000000</td><td>3865000000</td><td>308000000</td><td>11946000000</td><td>97971000000</td><td>0.318715</td><td>84293000000</td><td>0.274218</td><td>1424000000</td><td>85717000000</td><td>0.278851</td><td>11922000000</td><td>73795000000</td><td>0.240066</td><td>5.84</td><td>5.8</td><td>12630000000</td><td>12722000000</td><td>&quot;https://www.sec.gov/Archives/e…</td><td>&quot;https://www.sec.gov/Archives/e…</td></tr></tbody></table></div>"
=======
       "<small>shape: (5, 38)</small><table border=\"1\" class=\"dataframe\"><thead><tr><th>date</th><th>symbol</th><th>reported_currency</th><th>cik</th><th>filling_date</th><th>accepted_date</th><th>calendar_year</th><th>period</th><th>revenue</th><th>cost_of_revenue</th><th>gross_profit</th><th>gross_profit_ratio</th><th>research_and_development_expenses</th><th>general_and_administrative_expenses</th><th>selling_and_marketing_expenses</th><th>selling_general_and_administrative_expenses</th><th>other_expenses</th><th>operating_expenses</th><th>cost_and_expenses</th><th>interest_income</th><th>interest_expense</th><th>depreciation_and_amortization</th><th>ebitda</th><th>ebitdaratio</th><th>operating_income</th><th>operating_income_ratio</th><th>total_other_income_expenses_net</th><th>income_before_tax</th><th>income_before_tax_ratio</th><th>income_tax_expense</th><th>net_income</th><th>net_income_ratio</th><th>eps</th><th>epsdiluted</th><th>weighted_average_shs_out</th><th>weighted_average_shs_out_dil</th><th>link</th><th>final_link</th></tr><tr><td>str</td><td>str</td><td>str</td><td>str</td><td>str</td><td>str</td><td>str</td><td>str</td><td>i64</td><td>i64</td><td>i64</td><td>f64</td><td>i64</td><td>i64</td><td>i64</td><td>i64</td><td>i64</td><td>i64</td><td>i64</td><td>i64</td><td>i64</td><td>i64</td><td>i64</td><td>f64</td><td>i64</td><td>f64</td><td>i64</td><td>i64</td><td>f64</td><td>i64</td><td>i64</td><td>f64</td><td>f64</td><td>f64</td><td>i64</td><td>i64</td><td>str</td><td>str</td></tr></thead><tbody><tr><td>&quot;2024-11-03&quot;</td><td>&quot;AVGO&quot;</td><td>&quot;USD&quot;</td><td>&quot;0001730168&quot;</td><td>&quot;2024-12-20&quot;</td><td>&quot;2024-12-20 17:26:46&quot;</td><td>&quot;2024&quot;</td><td>&quot;FY&quot;</td><td>51574000000</td><td>19065000000</td><td>32509000000</td><td>0.630337</td><td>9310000000</td><td>0</td><td>0</td><td>4959000000</td><td>4777000000</td><td>19046000000</td><td>38111000000</td><td>304000000</td><td>3796000000</td><td>10010000000</td><td>23722000000</td><td>0.45996</td><td>13463000000</td><td>0.261042</td><td>-3547000000</td><td>9916000000</td><td>0.192267</td><td>3748000000</td><td>5895000000</td><td>0.114302</td><td>1.33</td><td>1.29</td><td>4624000000</td><td>4778000000</td><td>&quot;https://www.sec.gov/Archives/e…</td><td>&quot;https://www.sec.gov/Archives/e…</td></tr><tr><td>&quot;2024-06-30&quot;</td><td>&quot;MSFT&quot;</td><td>&quot;USD&quot;</td><td>&quot;0000789019&quot;</td><td>&quot;2024-07-30&quot;</td><td>&quot;2024-07-30 16:06:22&quot;</td><td>&quot;2024&quot;</td><td>&quot;FY&quot;</td><td>245122000000</td><td>74114000000</td><td>171008000000</td><td>0.697644</td><td>29510000000</td><td>7609000000</td><td>24456000000</td><td>32065000000</td><td>0</td><td>61575000000</td><td>135689000000</td><td>3157000000</td><td>2935000000</td><td>22287000000</td><td>133009000000</td><td>0.542624</td><td>109433000000</td><td>0.446443</td><td>-1646000000</td><td>107787000000</td><td>0.439728</td><td>19651000000</td><td>88136000000</td><td>0.35956</td><td>11.86</td><td>11.8</td><td>7431000000</td><td>7469000000</td><td>&quot;https://www.sec.gov/Archives/e…</td><td>&quot;https://www.sec.gov/Archives/e…</td></tr><tr><td>&quot;2024-08-31&quot;</td><td>&quot;ACN&quot;</td><td>&quot;USD&quot;</td><td>&quot;0001467373&quot;</td><td>&quot;2024-10-10&quot;</td><td>&quot;2024-10-10 06:43:59&quot;</td><td>&quot;2024&quot;</td><td>&quot;FY&quot;</td><td>64896464000</td><td>43734147000</td><td>21162317000</td><td>0.326094</td><td>1150430000</td><td>4281316000</td><td>6846714000</td><td>11128030000</td><td>-711990000</td><td>11566470000</td><td>55300617000</td><td>272256000</td><td>58969000</td><td>1430042000</td><td>11188334000</td><td>0.172403</td><td>9595847000</td><td>0.147864</td><td>103476000</td><td>9699323000</td><td>0.149458</td><td>2280126000</td><td>7264787000</td><td>0.111944</td><td>11.58</td><td>11.44</td><td>627852613</td><td>635940044</td><td>&quot;https://www.sec.gov/Archives/e…</td><td>&quot;https://www.sec.gov/Archives/e…</td></tr><tr><td>&quot;2024-05-31&quot;</td><td>&quot;ORCL&quot;</td><td>&quot;USD&quot;</td><td>&quot;0001341439&quot;</td><td>&quot;2024-06-20&quot;</td><td>&quot;2024-06-20 16:21:35&quot;</td><td>&quot;2024&quot;</td><td>&quot;FY&quot;</td><td>52961000000</td><td>15143000000</td><td>37818000000</td><td>0.714073</td><td>8915000000</td><td>1548000000</td><td>8274000000</td><td>9822000000</td><td>3728000000</td><td>22465000000</td><td>37608000000</td><td>451000000</td><td>3514000000</td><td>6139000000</td><td>21580000000</td><td>0.40747</td><td>15353000000</td><td>0.289893</td><td>-3612000000</td><td>11741000000</td><td>0.221691</td><td>1274000000</td><td>10467000000</td><td>0.197636</td><td>3.81</td><td>3.71</td><td>2744000000</td><td>2823000000</td><td>&quot;https://www.sec.gov/Archives/e…</td><td>&quot;https://www.sec.gov/Archives/e…</td></tr><tr><td>&quot;2023-12-31&quot;</td><td>&quot;GOOG&quot;</td><td>&quot;USD&quot;</td><td>&quot;0001652044&quot;</td><td>&quot;2024-01-31&quot;</td><td>&quot;2024-01-30 21:43:43&quot;</td><td>&quot;2023&quot;</td><td>&quot;FY&quot;</td><td>307394000000</td><td>133332000000</td><td>174062000000</td><td>0.56625</td><td>45427000000</td><td>16425000000</td><td>27917000000</td><td>44342000000</td><td>0</td><td>89769000000</td><td>223101000000</td><td>3865000000</td><td>308000000</td><td>11946000000</td><td>97971000000</td><td>0.318715</td><td>84293000000</td><td>0.274218</td><td>1424000000</td><td>85717000000</td><td>0.278851</td><td>11922000000</td><td>73795000000</td><td>0.240066</td><td>5.84</td><td>5.8</td><td>12630000000</td><td>12722000000</td><td>&quot;https://www.sec.gov/Archives/e…</td><td>&quot;https://www.sec.gov/Archives/e…</td></tr></tbody></table></div>"
>>>>>>> e7e3c52 (AAPL Institutional Holders Upload)
=======
       "<small>shape: (5, 38)</small><table border=\"1\" class=\"dataframe\"><thead><tr><th>date</th><th>symbol</th><th>reported_currency</th><th>cik</th><th>filling_date</th><th>accepted_date</th><th>calendar_year</th><th>period</th><th>revenue</th><th>cost_of_revenue</th><th>gross_profit</th><th>gross_profit_ratio</th><th>research_and_development_expenses</th><th>general_and_administrative_expenses</th><th>selling_and_marketing_expenses</th><th>selling_general_and_administrative_expenses</th><th>other_expenses</th><th>operating_expenses</th><th>cost_and_expenses</th><th>interest_income</th><th>interest_expense</th><th>depreciation_and_amortization</th><th>ebitda</th><th>ebitdaratio</th><th>operating_income</th><th>operating_income_ratio</th><th>total_other_income_expenses_net</th><th>income_before_tax</th><th>income_before_tax_ratio</th><th>income_tax_expense</th><th>net_income</th><th>net_income_ratio</th><th>eps</th><th>epsdiluted</th><th>weighted_average_shs_out</th><th>weighted_average_shs_out_dil</th><th>link</th><th>final_link</th></tr><tr><td>str</td><td>str</td><td>str</td><td>str</td><td>str</td><td>str</td><td>str</td><td>str</td><td>i64</td><td>i64</td><td>i64</td><td>f64</td><td>i64</td><td>i64</td><td>i64</td><td>i64</td><td>i64</td><td>i64</td><td>i64</td><td>i64</td><td>i64</td><td>i64</td><td>i64</td><td>f64</td><td>i64</td><td>f64</td><td>i64</td><td>i64</td><td>f64</td><td>i64</td><td>i64</td><td>f64</td><td>f64</td><td>f64</td><td>i64</td><td>i64</td><td>str</td><td>str</td></tr></thead><tbody><tr><td>&quot;2024-11-03&quot;</td><td>&quot;AVGO&quot;</td><td>&quot;USD&quot;</td><td>&quot;0001730168&quot;</td><td>&quot;2024-12-20&quot;</td><td>&quot;2024-12-20 17:26:46&quot;</td><td>&quot;2024&quot;</td><td>&quot;FY&quot;</td><td>51574000000</td><td>19065000000</td><td>32509000000</td><td>0.630337</td><td>9310000000</td><td>0</td><td>0</td><td>4959000000</td><td>4777000000</td><td>19046000000</td><td>38111000000</td><td>304000000</td><td>3796000000</td><td>10010000000</td><td>23722000000</td><td>0.45996</td><td>13463000000</td><td>0.261042</td><td>-3547000000</td><td>9916000000</td><td>0.192267</td><td>3748000000</td><td>5895000000</td><td>0.114302</td><td>1.33</td><td>1.29</td><td>4624000000</td><td>4778000000</td><td>&quot;https://www.sec.gov/Archives/e…</td><td>&quot;https://www.sec.gov/Archives/e…</td></tr><tr><td>&quot;2024-06-30&quot;</td><td>&quot;MSFT&quot;</td><td>&quot;USD&quot;</td><td>&quot;0000789019&quot;</td><td>&quot;2024-07-30&quot;</td><td>&quot;2024-07-30 16:06:22&quot;</td><td>&quot;2024&quot;</td><td>&quot;FY&quot;</td><td>245122000000</td><td>74114000000</td><td>171008000000</td><td>0.697644</td><td>29510000000</td><td>7609000000</td><td>24456000000</td><td>32065000000</td><td>0</td><td>61575000000</td><td>135689000000</td><td>3157000000</td><td>2935000000</td><td>22287000000</td><td>133009000000</td><td>0.542624</td><td>109433000000</td><td>0.446443</td><td>-1646000000</td><td>107787000000</td><td>0.439728</td><td>19651000000</td><td>88136000000</td><td>0.35956</td><td>11.86</td><td>11.8</td><td>7431000000</td><td>7469000000</td><td>&quot;https://www.sec.gov/Archives/e…</td><td>&quot;https://www.sec.gov/Archives/e…</td></tr><tr><td>&quot;2024-08-31&quot;</td><td>&quot;ACN&quot;</td><td>&quot;USD&quot;</td><td>&quot;0001467373&quot;</td><td>&quot;2024-10-10&quot;</td><td>&quot;2024-10-10 06:43:59&quot;</td><td>&quot;2024&quot;</td><td>&quot;FY&quot;</td><td>64896464000</td><td>43734147000</td><td>21162317000</td><td>0.326094</td><td>1150430000</td><td>4281316000</td><td>6846714000</td><td>11128030000</td><td>-711990000</td><td>11566470000</td><td>55300617000</td><td>272256000</td><td>58969000</td><td>1430042000</td><td>11188334000</td><td>0.172403</td><td>9595847000</td><td>0.147864</td><td>103476000</td><td>9699323000</td><td>0.149458</td><td>2280126000</td><td>7264787000</td><td>0.111944</td><td>11.58</td><td>11.44</td><td>627852613</td><td>635940044</td><td>&quot;https://www.sec.gov/Archives/e…</td><td>&quot;https://www.sec.gov/Archives/e…</td></tr><tr><td>&quot;2024-05-31&quot;</td><td>&quot;ORCL&quot;</td><td>&quot;USD&quot;</td><td>&quot;0001341439&quot;</td><td>&quot;2024-06-20&quot;</td><td>&quot;2024-06-20 16:21:35&quot;</td><td>&quot;2024&quot;</td><td>&quot;FY&quot;</td><td>52961000000</td><td>15143000000</td><td>37818000000</td><td>0.714073</td><td>8915000000</td><td>1548000000</td><td>8274000000</td><td>9822000000</td><td>3728000000</td><td>22465000000</td><td>37608000000</td><td>451000000</td><td>3514000000</td><td>6139000000</td><td>21580000000</td><td>0.40747</td><td>15353000000</td><td>0.289893</td><td>-3612000000</td><td>11741000000</td><td>0.221691</td><td>1274000000</td><td>10467000000</td><td>0.197636</td><td>3.81</td><td>3.71</td><td>2744000000</td><td>2823000000</td><td>&quot;https://www.sec.gov/Archives/e…</td><td>&quot;https://www.sec.gov/Archives/e…</td></tr><tr><td>&quot;2023-12-31&quot;</td><td>&quot;GOOG&quot;</td><td>&quot;USD&quot;</td><td>&quot;0001652044&quot;</td><td>&quot;2024-01-31&quot;</td><td>&quot;2024-01-30 21:43:43&quot;</td><td>&quot;2023&quot;</td><td>&quot;FY&quot;</td><td>307394000000</td><td>133332000000</td><td>174062000000</td><td>0.56625</td><td>45427000000</td><td>16425000000</td><td>27917000000</td><td>44342000000</td><td>0</td><td>89769000000</td><td>223101000000</td><td>3865000000</td><td>308000000</td><td>11946000000</td><td>97971000000</td><td>0.318715</td><td>84293000000</td><td>0.274218</td><td>1424000000</td><td>85717000000</td><td>0.278851</td><td>11922000000</td><td>73795000000</td><td>0.240066</td><td>5.84</td><td>5.8</td><td>12630000000</td><td>12722000000</td><td>&quot;https://www.sec.gov/Archives/e…</td><td>&quot;https://www.sec.gov/Archives/e…</td></tr></tbody></table></div>"
>>>>>>> e7e3c52 (AAPL Institutional Holders Upload)
      ],
      "text/plain": [
       "shape: (5, 38)\n",
       "┌────────────┬────────┬────────────┬───────────┬───┬───────────┬───────────┬───────────┬───────────┐\n",
       "│ date       ┆ symbol ┆ reported_c ┆ cik       ┆ … ┆ weighted_ ┆ weighted_ ┆ link      ┆ final_lin │\n",
       "│ ---        ┆ ---    ┆ urrency    ┆ ---       ┆   ┆ average_s ┆ average_s ┆ ---       ┆ k         │\n",
       "│ str        ┆ str    ┆ ---        ┆ str       ┆   ┆ hs_out    ┆ hs_out_di ┆ str       ┆ ---       │\n",
       "│            ┆        ┆ str        ┆           ┆   ┆ ---       ┆ l         ┆           ┆ str       │\n",
       "│            ┆        ┆            ┆           ┆   ┆ i64       ┆ ---       ┆           ┆           │\n",
       "│            ┆        ┆            ┆           ┆   ┆           ┆ i64       ┆           ┆           │\n",
       "╞════════════╪════════╪════════════╪═══════════╪═══╪═══════════╪═══════════╪═══════════╪═══════════╡\n",
       "│ 2024-11-03 ┆ AVGO   ┆ USD        ┆ 000173016 ┆ … ┆ 462400000 ┆ 477800000 ┆ https://w ┆ https://w │\n",
       "│            ┆        ┆            ┆ 8         ┆   ┆ 0         ┆ 0         ┆ ww.sec.go ┆ ww.sec.go │\n",
       "│            ┆        ┆            ┆           ┆   ┆           ┆           ┆ v/Archive ┆ v/Archive │\n",
       "│            ┆        ┆            ┆           ┆   ┆           ┆           ┆ s/e…      ┆ s/e…      │\n",
       "│ 2024-06-30 ┆ MSFT   ┆ USD        ┆ 000078901 ┆ … ┆ 743100000 ┆ 746900000 ┆ https://w ┆ https://w │\n",
       "│            ┆        ┆            ┆ 9         ┆   ┆ 0         ┆ 0         ┆ ww.sec.go ┆ ww.sec.go │\n",
<<<<<<< HEAD
<<<<<<< HEAD
       "│            ┆        ┆            ┆           ┆   ┆           ┆           ┆ v/Archive ┆ v/Archive │\n",
       "│            ┆        ┆            ┆           ┆   ┆           ┆           ┆ s/e…      ┆ s/e…      │\n",
       "│ 2024-09-28 ┆ AAPL   ┆ USD        ┆ 000032019 ┆ … ┆ 153437830 ┆ 154080950 ┆ https://w ┆ https://w │\n",
       "│            ┆        ┆            ┆ 3         ┆   ┆ 00        ┆ 00        ┆ ww.sec.go ┆ ww.sec.go │\n",
       "│            ┆        ┆            ┆           ┆   ┆           ┆           ┆ v/Archive ┆ v/Archive │\n",
       "│            ┆        ┆            ┆           ┆   ┆           ┆           ┆ s/e…      ┆ s/e…      │\n",
       "│ 2024-05-31 ┆ ORCL   ┆ USD        ┆ 000134143 ┆ … ┆ 274400000 ┆ 282300000 ┆ https://w ┆ https://w │\n",
       "│            ┆        ┆            ┆ 9         ┆   ┆ 0         ┆ 0         ┆ ww.sec.go ┆ ww.sec.go │\n",
       "│            ┆        ┆            ┆           ┆   ┆           ┆           ┆ v/Archive ┆ v/Archive │\n",
       "│            ┆        ┆            ┆           ┆   ┆           ┆           ┆ s/e…      ┆ s/e…      │\n",
       "│ 2023-12-31 ┆ GOOG   ┆ USD        ┆ 000165204 ┆ … ┆ 126300000 ┆ 127220000 ┆ https://w ┆ https://w │\n",
       "│            ┆        ┆            ┆ 4         ┆   ┆ 00        ┆ 00        ┆ ww.sec.go ┆ ww.sec.go │\n",
       "│            ┆        ┆            ┆           ┆   ┆           ┆           ┆ v/Archive ┆ v/Archive │\n",
       "│            ┆        ┆            ┆           ┆   ┆           ┆           ┆ s/e…      ┆ s/e…      │\n",
=======
       "│            ┆        ┆            ┆           ┆   ┆           ┆           ┆ v/Archive ┆ v/Archive │\n",
       "│            ┆        ┆            ┆           ┆   ┆           ┆           ┆ s/e…      ┆ s/e…      │\n",
       "│ 2024-08-31 ┆ ACN    ┆ USD        ┆ 000146737 ┆ … ┆ 627852613 ┆ 635940044 ┆ https://w ┆ https://w │\n",
       "│            ┆        ┆            ┆ 3         ┆   ┆           ┆           ┆ ww.sec.go ┆ ww.sec.go │\n",
       "│            ┆        ┆            ┆           ┆   ┆           ┆           ┆ v/Archive ┆ v/Archive │\n",
       "│            ┆        ┆            ┆           ┆   ┆           ┆           ┆ s/e…      ┆ s/e…      │\n",
       "│ 2024-05-31 ┆ ORCL   ┆ USD        ┆ 000134143 ┆ … ┆ 274400000 ┆ 282300000 ┆ https://w ┆ https://w │\n",
       "│            ┆        ┆            ┆ 9         ┆   ┆ 0         ┆ 0         ┆ ww.sec.go ┆ ww.sec.go │\n",
       "│            ┆        ┆            ┆           ┆   ┆           ┆           ┆ v/Archive ┆ v/Archive │\n",
       "│            ┆        ┆            ┆           ┆   ┆           ┆           ┆ s/e…      ┆ s/e…      │\n",
       "│ 2023-12-31 ┆ GOOG   ┆ USD        ┆ 000165204 ┆ … ┆ 126300000 ┆ 127220000 ┆ https://w ┆ https://w │\n",
       "│            ┆        ┆            ┆ 4         ┆   ┆ 00        ┆ 00        ┆ ww.sec.go ┆ ww.sec.go │\n",
       "│            ┆        ┆            ┆           ┆   ┆           ┆           ┆ v/Archive ┆ v/Archive │\n",
       "│            ┆        ┆            ┆           ┆   ┆           ┆           ┆ s/e…      ┆ s/e…      │\n",
>>>>>>> e7e3c52 (AAPL Institutional Holders Upload)
=======
       "│            ┆        ┆            ┆           ┆   ┆           ┆           ┆ v/Archive ┆ v/Archive │\n",
       "│            ┆        ┆            ┆           ┆   ┆           ┆           ┆ s/e…      ┆ s/e…      │\n",
       "│ 2024-08-31 ┆ ACN    ┆ USD        ┆ 000146737 ┆ … ┆ 627852613 ┆ 635940044 ┆ https://w ┆ https://w │\n",
       "│            ┆        ┆            ┆ 3         ┆   ┆           ┆           ┆ ww.sec.go ┆ ww.sec.go │\n",
       "│            ┆        ┆            ┆           ┆   ┆           ┆           ┆ v/Archive ┆ v/Archive │\n",
       "│            ┆        ┆            ┆           ┆   ┆           ┆           ┆ s/e…      ┆ s/e…      │\n",
       "│ 2024-05-31 ┆ ORCL   ┆ USD        ┆ 000134143 ┆ … ┆ 274400000 ┆ 282300000 ┆ https://w ┆ https://w │\n",
       "│            ┆        ┆            ┆ 9         ┆   ┆ 0         ┆ 0         ┆ ww.sec.go ┆ ww.sec.go │\n",
       "│            ┆        ┆            ┆           ┆   ┆           ┆           ┆ v/Archive ┆ v/Archive │\n",
       "│            ┆        ┆            ┆           ┆   ┆           ┆           ┆ s/e…      ┆ s/e…      │\n",
       "│ 2023-12-31 ┆ GOOG   ┆ USD        ┆ 000165204 ┆ … ┆ 126300000 ┆ 127220000 ┆ https://w ┆ https://w │\n",
       "│            ┆        ┆            ┆ 4         ┆   ┆ 00        ┆ 00        ┆ ww.sec.go ┆ ww.sec.go │\n",
       "│            ┆        ┆            ┆           ┆   ┆           ┆           ┆ v/Archive ┆ v/Archive │\n",
       "│            ┆        ┆            ┆           ┆   ┆           ┆           ┆ s/e…      ┆ s/e…      │\n",
>>>>>>> e7e3c52 (AAPL Institutional Holders Upload)
       "└────────────┴────────┴────────────┴───────────┴───┴───────────┴───────────┴───────────┴───────────┘"
      ]
     },
     "execution_count": 7,
     "metadata": {},
     "output_type": "execute_result"
    }
   ],
   "source": [
    "pl.scan_parquet(f'{output_dir}/company_income_statement.parquet').head().collect()"
   ]
  },
  {
   "cell_type": "markdown",
   "metadata": {},
   "source": [
    "## **Balance Sheet**"
   ]
  },
  {
   "cell_type": "code",
   "execution_count": 8,
   "metadata": {
    "execution": {
<<<<<<< HEAD
<<<<<<< HEAD
     "iopub.execute_input": "2025-01-17T15:33:47.942506Z",
     "iopub.status.busy": "2025-01-17T15:33:47.942176Z",
     "iopub.status.idle": "2025-01-17T15:33:48.823576Z",
     "shell.execute_reply": "2025-01-17T15:33:48.823120Z"
=======
=======
>>>>>>> e7e3c52 (AAPL Institutional Holders Upload)
     "iopub.execute_input": "2025-01-17T22:58:21.180885Z",
     "iopub.status.busy": "2025-01-17T22:58:21.180495Z",
     "iopub.status.idle": "2025-01-17T22:58:22.124384Z",
     "shell.execute_reply": "2025-01-17T22:58:22.123561Z"
<<<<<<< HEAD
>>>>>>> e7e3c52 (AAPL Institutional Holders Upload)
=======
>>>>>>> e7e3c52 (AAPL Institutional Holders Upload)
    }
   },
   "outputs": [],
   "source": [
    "def fetch_data(symbol: str, api_key: str, session: requests.Session) -> Dict:\n",
    "    \"\"\"Fetch company profile data from FMP API\"\"\"\n",
    "    url = f\"https://financialmodelingprep.com/api/v3/balance-sheet-statement/{symbol}\"\n",
    "    params = {\"apikey\": api_key,\n",
    "              \"period\": \"annual\"}\n",
    "\n",
    "    try:\n",
    "        response = session.get(url, params=params, timeout=10)\n",
    "        response.raise_for_status()\n",
    "        return response.json()\n",
    "    except Exception as e:\n",
    "        logger.error(f\"Error fetching {symbol}: {str(e)}\")\n",
    "        return None\n",
    "\n",
    "def fetch_all_data(symbols: List[str], api_key: str) -> List[Dict]:\n",
    "    session = create_session()\n",
    "    \n",
    "    with ThreadPoolExecutor(max_workers=10) as executor:\n",
    "        futures = [\n",
    "            executor.submit(fetch_data, symbol, api_key, session)\n",
    "            for symbol in symbols\n",
    "        ]\n",
    "        results = [\n",
    "            f.result() for f in concurrent.futures.as_completed(futures)\n",
    "        ]\n",
    "    \n",
    "    return [r[0] for r in results if r and isinstance(r, list)]\n",
    "\n",
    "# Execute fetching\n",
    "data = fetch_all_data(symbols, FMP_API_KEY)\n",
    "\n",
    "# Convert to Polars DataFrame more efficiently\n",
    "if data:\n",
    "    df = pl.DataFrame(data)"
   ]
  },
  {
   "cell_type": "code",
   "execution_count": 9,
   "metadata": {
    "execution": {
<<<<<<< HEAD
<<<<<<< HEAD
     "iopub.execute_input": "2025-01-17T15:33:48.825555Z",
     "iopub.status.busy": "2025-01-17T15:33:48.825373Z",
     "iopub.status.idle": "2025-01-17T15:33:48.828857Z",
     "shell.execute_reply": "2025-01-17T15:33:48.828453Z"
=======
=======
>>>>>>> e7e3c52 (AAPL Institutional Holders Upload)
     "iopub.execute_input": "2025-01-17T22:58:22.126896Z",
     "iopub.status.busy": "2025-01-17T22:58:22.126681Z",
     "iopub.status.idle": "2025-01-17T22:58:22.130383Z",
     "shell.execute_reply": "2025-01-17T22:58:22.129924Z"
<<<<<<< HEAD
>>>>>>> e7e3c52 (AAPL Institutional Holders Upload)
=======
>>>>>>> e7e3c52 (AAPL Institutional Holders Upload)
    }
   },
   "outputs": [],
   "source": [
    "df = make_clean_names(df)"
   ]
  },
  {
   "cell_type": "code",
   "execution_count": 10,
   "metadata": {
    "execution": {
<<<<<<< HEAD
<<<<<<< HEAD
     "iopub.execute_input": "2025-01-17T15:33:48.830549Z",
     "iopub.status.busy": "2025-01-17T15:33:48.830371Z",
     "iopub.status.idle": "2025-01-17T15:33:48.835176Z",
     "shell.execute_reply": "2025-01-17T15:33:48.834600Z"
=======
=======
>>>>>>> e7e3c52 (AAPL Institutional Holders Upload)
     "iopub.execute_input": "2025-01-17T22:58:22.132013Z",
     "iopub.status.busy": "2025-01-17T22:58:22.131847Z",
     "iopub.status.idle": "2025-01-17T22:58:22.137424Z",
     "shell.execute_reply": "2025-01-17T22:58:22.136892Z"
<<<<<<< HEAD
>>>>>>> e7e3c52 (AAPL Institutional Holders Upload)
=======
>>>>>>> e7e3c52 (AAPL Institutional Holders Upload)
    }
   },
   "outputs": [],
   "source": [
    "output_dir = \"../../../data/finance\"\n",
    "\n",
    "# Write DataFrame to Parquet\n",
    "df.write_parquet(f'{output_dir}/company_balance_sheet.parquet')"
   ]
  },
  {
   "cell_type": "code",
   "execution_count": 11,
   "metadata": {
    "execution": {
<<<<<<< HEAD
<<<<<<< HEAD
     "iopub.execute_input": "2025-01-17T15:33:48.836879Z",
     "iopub.status.busy": "2025-01-17T15:33:48.836707Z",
     "iopub.status.idle": "2025-01-17T15:33:48.843293Z",
     "shell.execute_reply": "2025-01-17T15:33:48.842814Z"
=======
=======
>>>>>>> e7e3c52 (AAPL Institutional Holders Upload)
     "iopub.execute_input": "2025-01-17T22:58:22.139681Z",
     "iopub.status.busy": "2025-01-17T22:58:22.139517Z",
     "iopub.status.idle": "2025-01-17T22:58:22.146060Z",
     "shell.execute_reply": "2025-01-17T22:58:22.145634Z"
<<<<<<< HEAD
>>>>>>> e7e3c52 (AAPL Institutional Holders Upload)
=======
>>>>>>> e7e3c52 (AAPL Institutional Holders Upload)
    }
   },
   "outputs": [
    {
     "data": {
      "text/html": [
       "<div><style>\n",
       ".dataframe > thead > tr,\n",
       ".dataframe > tbody > tr {\n",
       "  text-align: right;\n",
       "  white-space: pre-wrap;\n",
       "}\n",
       "</style>\n",
<<<<<<< HEAD
<<<<<<< HEAD
       "<small>shape: (5, 54)</small><table border=\"1\" class=\"dataframe\"><thead><tr><th>date</th><th>symbol</th><th>reported_currency</th><th>cik</th><th>filling_date</th><th>accepted_date</th><th>calendar_year</th><th>period</th><th>cash_and_cash_equivalents</th><th>short_term_investments</th><th>cash_and_short_term_investments</th><th>net_receivables</th><th>inventory</th><th>other_current_assets</th><th>total_current_assets</th><th>property_plant_equipment_net</th><th>goodwill</th><th>intangible_assets</th><th>goodwill_and_intangible_assets</th><th>long_term_investments</th><th>tax_assets</th><th>other_non_current_assets</th><th>total_non_current_assets</th><th>other_assets</th><th>total_assets</th><th>account_payables</th><th>short_term_debt</th><th>tax_payables</th><th>deferred_revenue</th><th>other_current_liabilities</th><th>total_current_liabilities</th><th>long_term_debt</th><th>deferred_revenue_non_current</th><th>deferred_tax_liabilities_non_current</th><th>other_non_current_liabilities</th><th>total_non_current_liabilities</th><th>other_liabilities</th><th>capital_lease_obligations</th><th>total_liabilities</th><th>preferred_stock</th><th>common_stock</th><th>retained_earnings</th><th>accumulated_other_comprehensive_income_loss</th><th>othertotal_stockholders_equity</th><th>total_stockholders_equity</th><th>total_equity</th><th>total_liabilities_and_stockholders_equity</th><th>minority_interest</th><th>total_liabilities_and_total_equity</th><th>total_investments</th><th>total_debt</th><th>net_debt</th><th>link</th><th>final_link</th></tr><tr><td>str</td><td>str</td><td>str</td><td>str</td><td>str</td><td>str</td><td>str</td><td>str</td><td>i64</td><td>i64</td><td>i64</td><td>i64</td><td>i64</td><td>i64</td><td>i64</td><td>i64</td><td>i64</td><td>i64</td><td>i64</td><td>i64</td><td>i64</td><td>i64</td><td>i64</td><td>i64</td><td>i64</td><td>i64</td><td>i64</td><td>i64</td><td>i64</td><td>i64</td><td>i64</td><td>i64</td><td>i64</td><td>i64</td><td>i64</td><td>i64</td><td>i64</td><td>i64</td><td>i64</td><td>i64</td><td>i64</td><td>i64</td><td>i64</td><td>i64</td><td>i64</td><td>i64</td><td>i64</td><td>i64</td><td>i64</td><td>i64</td><td>i64</td><td>i64</td><td>str</td><td>str</td></tr></thead><tbody><tr><td>&quot;2024-11-03&quot;</td><td>&quot;AVGO&quot;</td><td>&quot;USD&quot;</td><td>&quot;0001730168&quot;</td><td>&quot;2024-12-20&quot;</td><td>&quot;2024-12-20 17:26:46&quot;</td><td>&quot;2024&quot;</td><td>&quot;FY&quot;</td><td>9348000000</td><td>0</td><td>9348000000</td><td>4416000000</td><td>1760000000</td><td>4071000000</td><td>19595000000</td><td>2521000000</td><td>97873000000</td><td>40583000000</td><td>138456000000</td><td>0</td><td>0</td><td>5073000000</td><td>146050000000</td><td>0</td><td>165645000000</td><td>1662000000</td><td>1271000000</td><td>0</td><td>0</td><td>13764000000</td><td>16697000000</td><td>66295000000</td><td>0</td><td>0</td><td>14975000000</td><td>81270000000</td><td>0</td><td>0</td><td>97967000000</td><td>0</td><td>5000000</td><td>0</td><td>207000000</td><td>67466000000</td><td>67678000000</td><td>67678000000</td><td>165645000000</td><td>0</td><td>165645000000</td><td>0</td><td>67566000000</td><td>58218000000</td><td>&quot;https://www.sec.gov/Archives/e…</td><td>&quot;https://www.sec.gov/Archives/e…</td></tr><tr><td>&quot;2024-08-31&quot;</td><td>&quot;ACN&quot;</td><td>&quot;USD&quot;</td><td>&quot;0001467373&quot;</td><td>&quot;2024-10-10&quot;</td><td>&quot;2024-10-10 06:43:59&quot;</td><td>&quot;2024&quot;</td><td>&quot;FY&quot;</td><td>5004469000</td><td>5396000</td><td>5009865000</td><td>13664847000</td><td>0</td><td>2183069000</td><td>20857781000</td><td>4278515000</td><td>21120179000</td><td>2904031000</td><td>24024210000</td><td>334664000</td><td>4147496000</td><td>2289697000</td><td>35074582000</td><td>0</td><td>55932363000</td><td>2743807000</td><td>1672431000</td><td>719084000</td><td>5174923000</td><td>8665882000</td><td>18976127000</td><td>2448118000</td><td>641091000</td><td>428845000</td><td>4269934000</td><td>7787988000</td><td>0</td><td>3095692000</td><td>26764115000</td><td>0</td><td>72000</td><td>23082423000</td><td>-1554742000</td><td>6760893000</td><td>28288646000</td><td>29168248000</td><td>55932363000</td><td>879602000</td><td>55932363000</td><td>340060000</td><td>4120549000</td><td>-883920000</td><td>&quot;https://www.sec.gov/Archives/e…</td><td>&quot;https://www.sec.gov/Archives/e…</td></tr><tr><td>&quot;2024-01-31&quot;</td><td>&quot;CRM&quot;</td><td>&quot;USD&quot;</td><td>&quot;0001108524&quot;</td><td>&quot;2024-03-06&quot;</td><td>&quot;2024-03-06 16:32:48&quot;</td><td>&quot;2024&quot;</td><td>&quot;FY&quot;</td><td>8472000000</td><td>5722000000</td><td>14194000000</td><td>11414000000</td><td>0</td><td>3466000000</td><td>29074000000</td><td>6055000000</td><td>48620000000</td><td>5278000000</td><td>53898000000</td><td>4848000000</td><td>3433000000</td><td>2515000000</td><td>70749000000</td><td>0</td><td>99823000000</td><td>3239000000</td><td>1517000000</td><td>0</td><td>19003000000</td><td>3244000000</td><td>26631000000</td><td>11673000000</td><td>0</td><td>0</td><td>1873000000</td><td>13546000000</td><td>0</td><td>3764000000</td><td>40177000000</td><td>0</td><td>1000000</td><td>11721000000</td><td>-225000000</td><td>48149000000</td><td>59646000000</td><td>59646000000</td><td>99823000000</td><td>0</td><td>99823000000</td><td>10570000000</td><td>13562000000</td><td>5090000000</td><td>&quot;https://www.sec.gov/Archives/e…</td><td>&quot;https://www.sec.gov/Archives/e…</td></tr><tr><td>&quot;2024-09-28&quot;</td><td>&quot;AAPL&quot;</td><td>&quot;USD&quot;</td><td>&quot;0000320193&quot;</td><td>&quot;2024-11-01&quot;</td><td>&quot;2024-11-01 06:01:36&quot;</td><td>&quot;2024&quot;</td><td>&quot;FY&quot;</td><td>29943000000</td><td>35228000000</td><td>65171000000</td><td>66243000000</td><td>7286000000</td><td>14287000000</td><td>152987000000</td><td>45680000000</td><td>0</td><td>0</td><td>0</td><td>91479000000</td><td>19499000000</td><td>55335000000</td><td>211993000000</td><td>0</td><td>364980000000</td><td>68960000000</td><td>22511000000</td><td>26601000000</td><td>8249000000</td><td>50071000000</td><td>176392000000</td><td>96548000000</td><td>0</td><td>0</td><td>35090000000</td><td>131638000000</td><td>0</td><td>12430000000</td><td>308030000000</td><td>0</td><td>83276000000</td><td>-19154000000</td><td>-7172000000</td><td>0</td><td>56950000000</td><td>56950000000</td><td>364980000000</td><td>0</td><td>364980000000</td><td>126707000000</td><td>106629000000</td><td>76686000000</td><td>&quot;https://www.sec.gov/Archives/e…</td><td>&quot;https://www.sec.gov/Archives/e…</td></tr><tr><td>&quot;2023-12-31&quot;</td><td>&quot;GOOG&quot;</td><td>&quot;USD&quot;</td><td>&quot;0001652044&quot;</td><td>&quot;2024-01-31&quot;</td><td>&quot;2024-01-30 21:43:43&quot;</td><td>&quot;2023&quot;</td><td>&quot;FY&quot;</td><td>24048000000</td><td>86868000000</td><td>110916000000</td><td>47964000000</td><td>0</td><td>12650000000</td><td>171530000000</td><td>148436000000</td><td>29198000000</td><td>0</td><td>29198000000</td><td>31008000000</td><td>12169000000</td><td>10051000000</td><td>230862000000</td><td>0</td><td>402392000000</td><td>7493000000</td><td>2791000000</td><td>2748000000</td><td>4137000000</td><td>64645000000</td><td>81814000000</td><td>25350000000</td><td>911000000</td><td>485000000</td><td>10453000000</td><td>37199000000</td><td>0</td><td>16634000000</td><td>119013000000</td><td>0</td><td>76534000000</td><td>211247000000</td><td>-4402000000</td><td>0</td><td>283379000000</td><td>283379000000</td><td>402392000000</td><td>0</td><td>402392000000</td><td>117876000000</td><td>28504000000</td><td>4456000000</td><td>&quot;https://www.sec.gov/Archives/e…</td><td>&quot;https://www.sec.gov/Archives/e…</td></tr></tbody></table></div>"
=======
       "<small>shape: (5, 54)</small><table border=\"1\" class=\"dataframe\"><thead><tr><th>date</th><th>symbol</th><th>reported_currency</th><th>cik</th><th>filling_date</th><th>accepted_date</th><th>calendar_year</th><th>period</th><th>cash_and_cash_equivalents</th><th>short_term_investments</th><th>cash_and_short_term_investments</th><th>net_receivables</th><th>inventory</th><th>other_current_assets</th><th>total_current_assets</th><th>property_plant_equipment_net</th><th>goodwill</th><th>intangible_assets</th><th>goodwill_and_intangible_assets</th><th>long_term_investments</th><th>tax_assets</th><th>other_non_current_assets</th><th>total_non_current_assets</th><th>other_assets</th><th>total_assets</th><th>account_payables</th><th>short_term_debt</th><th>tax_payables</th><th>deferred_revenue</th><th>other_current_liabilities</th><th>total_current_liabilities</th><th>long_term_debt</th><th>deferred_revenue_non_current</th><th>deferred_tax_liabilities_non_current</th><th>other_non_current_liabilities</th><th>total_non_current_liabilities</th><th>other_liabilities</th><th>capital_lease_obligations</th><th>total_liabilities</th><th>preferred_stock</th><th>common_stock</th><th>retained_earnings</th><th>accumulated_other_comprehensive_income_loss</th><th>othertotal_stockholders_equity</th><th>total_stockholders_equity</th><th>total_equity</th><th>total_liabilities_and_stockholders_equity</th><th>minority_interest</th><th>total_liabilities_and_total_equity</th><th>total_investments</th><th>total_debt</th><th>net_debt</th><th>link</th><th>final_link</th></tr><tr><td>str</td><td>str</td><td>str</td><td>str</td><td>str</td><td>str</td><td>str</td><td>str</td><td>i64</td><td>i64</td><td>i64</td><td>i64</td><td>i64</td><td>i64</td><td>i64</td><td>i64</td><td>i64</td><td>i64</td><td>i64</td><td>i64</td><td>i64</td><td>i64</td><td>i64</td><td>i64</td><td>i64</td><td>i64</td><td>i64</td><td>i64</td><td>i64</td><td>i64</td><td>i64</td><td>i64</td><td>i64</td><td>i64</td><td>i64</td><td>i64</td><td>i64</td><td>i64</td><td>i64</td><td>i64</td><td>i64</td><td>i64</td><td>i64</td><td>i64</td><td>i64</td><td>i64</td><td>i64</td><td>i64</td><td>i64</td><td>i64</td><td>i64</td><td>i64</td><td>str</td><td>str</td></tr></thead><tbody><tr><td>&quot;2024-11-03&quot;</td><td>&quot;AVGO&quot;</td><td>&quot;USD&quot;</td><td>&quot;0001730168&quot;</td><td>&quot;2024-12-20&quot;</td><td>&quot;2024-12-20 17:26:46&quot;</td><td>&quot;2024&quot;</td><td>&quot;FY&quot;</td><td>9348000000</td><td>0</td><td>9348000000</td><td>4416000000</td><td>1760000000</td><td>4071000000</td><td>19595000000</td><td>2521000000</td><td>97873000000</td><td>40583000000</td><td>138456000000</td><td>0</td><td>0</td><td>5073000000</td><td>146050000000</td><td>0</td><td>165645000000</td><td>1662000000</td><td>1271000000</td><td>0</td><td>0</td><td>13764000000</td><td>16697000000</td><td>66295000000</td><td>0</td><td>0</td><td>14975000000</td><td>81270000000</td><td>0</td><td>0</td><td>97967000000</td><td>0</td><td>5000000</td><td>0</td><td>207000000</td><td>67466000000</td><td>67678000000</td><td>67678000000</td><td>165645000000</td><td>0</td><td>165645000000</td><td>0</td><td>67566000000</td><td>58218000000</td><td>&quot;https://www.sec.gov/Archives/e…</td><td>&quot;https://www.sec.gov/Archives/e…</td></tr><tr><td>&quot;2023-12-31&quot;</td><td>&quot;META&quot;</td><td>&quot;USD&quot;</td><td>&quot;0001326801&quot;</td><td>&quot;2024-02-02&quot;</td><td>&quot;2024-02-01 19:39:02&quot;</td><td>&quot;2023&quot;</td><td>&quot;FY&quot;</td><td>41862000000</td><td>23541000000</td><td>65403000000</td><td>16169000000</td><td>0</td><td>3793000000</td><td>85365000000</td><td>109881000000</td><td>20654000000</td><td>788000000</td><td>21442000000</td><td>6141000000</td><td>0</td><td>6794000000</td><td>144258000000</td><td>0</td><td>229623000000</td><td>4849000000</td><td>1623000000</td><td>3655000000</td><td>0</td><td>21833000000</td><td>31960000000</td><td>35611000000</td><td>0</td><td>0</td><td>8884000000</td><td>44495000000</td><td>0</td><td>18849000000</td><td>76455000000</td><td>0</td><td>0</td><td>82070000000</td><td>-2155000000</td><td>73253000000</td><td>153168000000</td><td>153168000000</td><td>229623000000</td><td>0</td><td>229623000000</td><td>29682000000</td><td>37234000000</td><td>-4628000000</td><td>&quot;https://www.sec.gov/Archives/e…</td><td>&quot;https://www.sec.gov/Archives/e…</td></tr><tr><td>&quot;2023-12-31&quot;</td><td>&quot;GOOGL&quot;</td><td>&quot;USD&quot;</td><td>&quot;0001652044&quot;</td><td>&quot;2024-01-31&quot;</td><td>&quot;2024-01-30 21:43:43&quot;</td><td>&quot;2023&quot;</td><td>&quot;FY&quot;</td><td>24048000000</td><td>86868000000</td><td>110916000000</td><td>47964000000</td><td>0</td><td>12650000000</td><td>171530000000</td><td>148436000000</td><td>29198000000</td><td>0</td><td>29198000000</td><td>31008000000</td><td>12169000000</td><td>10051000000</td><td>230862000000</td><td>0</td><td>402392000000</td><td>7493000000</td><td>2791000000</td><td>2748000000</td><td>4137000000</td><td>64645000000</td><td>81814000000</td><td>25350000000</td><td>911000000</td><td>485000000</td><td>10453000000</td><td>37199000000</td><td>0</td><td>16634000000</td><td>119013000000</td><td>0</td><td>76534000000</td><td>211247000000</td><td>-4402000000</td><td>0</td><td>283379000000</td><td>283379000000</td><td>402392000000</td><td>0</td><td>402392000000</td><td>117876000000</td><td>28504000000</td><td>4456000000</td><td>&quot;https://www.sec.gov/Archives/e…</td><td>&quot;https://www.sec.gov/Archives/e…</td></tr><tr><td>&quot;2023-12-31&quot;</td><td>&quot;GOOG&quot;</td><td>&quot;USD&quot;</td><td>&quot;0001652044&quot;</td><td>&quot;2024-01-31&quot;</td><td>&quot;2024-01-30 21:43:43&quot;</td><td>&quot;2023&quot;</td><td>&quot;FY&quot;</td><td>24048000000</td><td>86868000000</td><td>110916000000</td><td>47964000000</td><td>0</td><td>12650000000</td><td>171530000000</td><td>148436000000</td><td>29198000000</td><td>0</td><td>29198000000</td><td>31008000000</td><td>12169000000</td><td>10051000000</td><td>230862000000</td><td>0</td><td>402392000000</td><td>7493000000</td><td>2791000000</td><td>2748000000</td><td>4137000000</td><td>64645000000</td><td>81814000000</td><td>25350000000</td><td>911000000</td><td>485000000</td><td>10453000000</td><td>37199000000</td><td>0</td><td>16634000000</td><td>119013000000</td><td>0</td><td>76534000000</td><td>211247000000</td><td>-4402000000</td><td>0</td><td>283379000000</td><td>283379000000</td><td>402392000000</td><td>0</td><td>402392000000</td><td>117876000000</td><td>28504000000</td><td>4456000000</td><td>&quot;https://www.sec.gov/Archives/e…</td><td>&quot;https://www.sec.gov/Archives/e…</td></tr><tr><td>&quot;2024-01-31&quot;</td><td>&quot;CRM&quot;</td><td>&quot;USD&quot;</td><td>&quot;0001108524&quot;</td><td>&quot;2024-03-06&quot;</td><td>&quot;2024-03-06 16:32:48&quot;</td><td>&quot;2024&quot;</td><td>&quot;FY&quot;</td><td>8472000000</td><td>5722000000</td><td>14194000000</td><td>11414000000</td><td>0</td><td>3466000000</td><td>29074000000</td><td>6055000000</td><td>48620000000</td><td>5278000000</td><td>53898000000</td><td>4848000000</td><td>3433000000</td><td>2515000000</td><td>70749000000</td><td>0</td><td>99823000000</td><td>3239000000</td><td>1517000000</td><td>0</td><td>19003000000</td><td>3244000000</td><td>26631000000</td><td>11673000000</td><td>0</td><td>0</td><td>1873000000</td><td>13546000000</td><td>0</td><td>3764000000</td><td>40177000000</td><td>0</td><td>1000000</td><td>11721000000</td><td>-225000000</td><td>48149000000</td><td>59646000000</td><td>59646000000</td><td>99823000000</td><td>0</td><td>99823000000</td><td>10570000000</td><td>13562000000</td><td>5090000000</td><td>&quot;https://www.sec.gov/Archives/e…</td><td>&quot;https://www.sec.gov/Archives/e…</td></tr></tbody></table></div>"
>>>>>>> e7e3c52 (AAPL Institutional Holders Upload)
=======
       "<small>shape: (5, 54)</small><table border=\"1\" class=\"dataframe\"><thead><tr><th>date</th><th>symbol</th><th>reported_currency</th><th>cik</th><th>filling_date</th><th>accepted_date</th><th>calendar_year</th><th>period</th><th>cash_and_cash_equivalents</th><th>short_term_investments</th><th>cash_and_short_term_investments</th><th>net_receivables</th><th>inventory</th><th>other_current_assets</th><th>total_current_assets</th><th>property_plant_equipment_net</th><th>goodwill</th><th>intangible_assets</th><th>goodwill_and_intangible_assets</th><th>long_term_investments</th><th>tax_assets</th><th>other_non_current_assets</th><th>total_non_current_assets</th><th>other_assets</th><th>total_assets</th><th>account_payables</th><th>short_term_debt</th><th>tax_payables</th><th>deferred_revenue</th><th>other_current_liabilities</th><th>total_current_liabilities</th><th>long_term_debt</th><th>deferred_revenue_non_current</th><th>deferred_tax_liabilities_non_current</th><th>other_non_current_liabilities</th><th>total_non_current_liabilities</th><th>other_liabilities</th><th>capital_lease_obligations</th><th>total_liabilities</th><th>preferred_stock</th><th>common_stock</th><th>retained_earnings</th><th>accumulated_other_comprehensive_income_loss</th><th>othertotal_stockholders_equity</th><th>total_stockholders_equity</th><th>total_equity</th><th>total_liabilities_and_stockholders_equity</th><th>minority_interest</th><th>total_liabilities_and_total_equity</th><th>total_investments</th><th>total_debt</th><th>net_debt</th><th>link</th><th>final_link</th></tr><tr><td>str</td><td>str</td><td>str</td><td>str</td><td>str</td><td>str</td><td>str</td><td>str</td><td>i64</td><td>i64</td><td>i64</td><td>i64</td><td>i64</td><td>i64</td><td>i64</td><td>i64</td><td>i64</td><td>i64</td><td>i64</td><td>i64</td><td>i64</td><td>i64</td><td>i64</td><td>i64</td><td>i64</td><td>i64</td><td>i64</td><td>i64</td><td>i64</td><td>i64</td><td>i64</td><td>i64</td><td>i64</td><td>i64</td><td>i64</td><td>i64</td><td>i64</td><td>i64</td><td>i64</td><td>i64</td><td>i64</td><td>i64</td><td>i64</td><td>i64</td><td>i64</td><td>i64</td><td>i64</td><td>i64</td><td>i64</td><td>i64</td><td>i64</td><td>i64</td><td>str</td><td>str</td></tr></thead><tbody><tr><td>&quot;2024-11-03&quot;</td><td>&quot;AVGO&quot;</td><td>&quot;USD&quot;</td><td>&quot;0001730168&quot;</td><td>&quot;2024-12-20&quot;</td><td>&quot;2024-12-20 17:26:46&quot;</td><td>&quot;2024&quot;</td><td>&quot;FY&quot;</td><td>9348000000</td><td>0</td><td>9348000000</td><td>4416000000</td><td>1760000000</td><td>4071000000</td><td>19595000000</td><td>2521000000</td><td>97873000000</td><td>40583000000</td><td>138456000000</td><td>0</td><td>0</td><td>5073000000</td><td>146050000000</td><td>0</td><td>165645000000</td><td>1662000000</td><td>1271000000</td><td>0</td><td>0</td><td>13764000000</td><td>16697000000</td><td>66295000000</td><td>0</td><td>0</td><td>14975000000</td><td>81270000000</td><td>0</td><td>0</td><td>97967000000</td><td>0</td><td>5000000</td><td>0</td><td>207000000</td><td>67466000000</td><td>67678000000</td><td>67678000000</td><td>165645000000</td><td>0</td><td>165645000000</td><td>0</td><td>67566000000</td><td>58218000000</td><td>&quot;https://www.sec.gov/Archives/e…</td><td>&quot;https://www.sec.gov/Archives/e…</td></tr><tr><td>&quot;2023-12-31&quot;</td><td>&quot;META&quot;</td><td>&quot;USD&quot;</td><td>&quot;0001326801&quot;</td><td>&quot;2024-02-02&quot;</td><td>&quot;2024-02-01 19:39:02&quot;</td><td>&quot;2023&quot;</td><td>&quot;FY&quot;</td><td>41862000000</td><td>23541000000</td><td>65403000000</td><td>16169000000</td><td>0</td><td>3793000000</td><td>85365000000</td><td>109881000000</td><td>20654000000</td><td>788000000</td><td>21442000000</td><td>6141000000</td><td>0</td><td>6794000000</td><td>144258000000</td><td>0</td><td>229623000000</td><td>4849000000</td><td>1623000000</td><td>3655000000</td><td>0</td><td>21833000000</td><td>31960000000</td><td>35611000000</td><td>0</td><td>0</td><td>8884000000</td><td>44495000000</td><td>0</td><td>18849000000</td><td>76455000000</td><td>0</td><td>0</td><td>82070000000</td><td>-2155000000</td><td>73253000000</td><td>153168000000</td><td>153168000000</td><td>229623000000</td><td>0</td><td>229623000000</td><td>29682000000</td><td>37234000000</td><td>-4628000000</td><td>&quot;https://www.sec.gov/Archives/e…</td><td>&quot;https://www.sec.gov/Archives/e…</td></tr><tr><td>&quot;2023-12-31&quot;</td><td>&quot;GOOGL&quot;</td><td>&quot;USD&quot;</td><td>&quot;0001652044&quot;</td><td>&quot;2024-01-31&quot;</td><td>&quot;2024-01-30 21:43:43&quot;</td><td>&quot;2023&quot;</td><td>&quot;FY&quot;</td><td>24048000000</td><td>86868000000</td><td>110916000000</td><td>47964000000</td><td>0</td><td>12650000000</td><td>171530000000</td><td>148436000000</td><td>29198000000</td><td>0</td><td>29198000000</td><td>31008000000</td><td>12169000000</td><td>10051000000</td><td>230862000000</td><td>0</td><td>402392000000</td><td>7493000000</td><td>2791000000</td><td>2748000000</td><td>4137000000</td><td>64645000000</td><td>81814000000</td><td>25350000000</td><td>911000000</td><td>485000000</td><td>10453000000</td><td>37199000000</td><td>0</td><td>16634000000</td><td>119013000000</td><td>0</td><td>76534000000</td><td>211247000000</td><td>-4402000000</td><td>0</td><td>283379000000</td><td>283379000000</td><td>402392000000</td><td>0</td><td>402392000000</td><td>117876000000</td><td>28504000000</td><td>4456000000</td><td>&quot;https://www.sec.gov/Archives/e…</td><td>&quot;https://www.sec.gov/Archives/e…</td></tr><tr><td>&quot;2023-12-31&quot;</td><td>&quot;GOOG&quot;</td><td>&quot;USD&quot;</td><td>&quot;0001652044&quot;</td><td>&quot;2024-01-31&quot;</td><td>&quot;2024-01-30 21:43:43&quot;</td><td>&quot;2023&quot;</td><td>&quot;FY&quot;</td><td>24048000000</td><td>86868000000</td><td>110916000000</td><td>47964000000</td><td>0</td><td>12650000000</td><td>171530000000</td><td>148436000000</td><td>29198000000</td><td>0</td><td>29198000000</td><td>31008000000</td><td>12169000000</td><td>10051000000</td><td>230862000000</td><td>0</td><td>402392000000</td><td>7493000000</td><td>2791000000</td><td>2748000000</td><td>4137000000</td><td>64645000000</td><td>81814000000</td><td>25350000000</td><td>911000000</td><td>485000000</td><td>10453000000</td><td>37199000000</td><td>0</td><td>16634000000</td><td>119013000000</td><td>0</td><td>76534000000</td><td>211247000000</td><td>-4402000000</td><td>0</td><td>283379000000</td><td>283379000000</td><td>402392000000</td><td>0</td><td>402392000000</td><td>117876000000</td><td>28504000000</td><td>4456000000</td><td>&quot;https://www.sec.gov/Archives/e…</td><td>&quot;https://www.sec.gov/Archives/e…</td></tr><tr><td>&quot;2024-01-31&quot;</td><td>&quot;CRM&quot;</td><td>&quot;USD&quot;</td><td>&quot;0001108524&quot;</td><td>&quot;2024-03-06&quot;</td><td>&quot;2024-03-06 16:32:48&quot;</td><td>&quot;2024&quot;</td><td>&quot;FY&quot;</td><td>8472000000</td><td>5722000000</td><td>14194000000</td><td>11414000000</td><td>0</td><td>3466000000</td><td>29074000000</td><td>6055000000</td><td>48620000000</td><td>5278000000</td><td>53898000000</td><td>4848000000</td><td>3433000000</td><td>2515000000</td><td>70749000000</td><td>0</td><td>99823000000</td><td>3239000000</td><td>1517000000</td><td>0</td><td>19003000000</td><td>3244000000</td><td>26631000000</td><td>11673000000</td><td>0</td><td>0</td><td>1873000000</td><td>13546000000</td><td>0</td><td>3764000000</td><td>40177000000</td><td>0</td><td>1000000</td><td>11721000000</td><td>-225000000</td><td>48149000000</td><td>59646000000</td><td>59646000000</td><td>99823000000</td><td>0</td><td>99823000000</td><td>10570000000</td><td>13562000000</td><td>5090000000</td><td>&quot;https://www.sec.gov/Archives/e…</td><td>&quot;https://www.sec.gov/Archives/e…</td></tr></tbody></table></div>"
>>>>>>> e7e3c52 (AAPL Institutional Holders Upload)
      ],
      "text/plain": [
       "shape: (5, 54)\n",
       "┌────────────┬────────┬────────────┬───────────┬───┬───────────┬───────────┬───────────┬───────────┐\n",
       "│ date       ┆ symbol ┆ reported_c ┆ cik       ┆ … ┆ total_deb ┆ net_debt  ┆ link      ┆ final_lin │\n",
       "│ ---        ┆ ---    ┆ urrency    ┆ ---       ┆   ┆ t         ┆ ---       ┆ ---       ┆ k         │\n",
       "│ str        ┆ str    ┆ ---        ┆ str       ┆   ┆ ---       ┆ i64       ┆ str       ┆ ---       │\n",
       "│            ┆        ┆ str        ┆           ┆   ┆ i64       ┆           ┆           ┆ str       │\n",
       "╞════════════╪════════╪════════════╪═══════════╪═══╪═══════════╪═══════════╪═══════════╪═══════════╡\n",
       "│ 2024-11-03 ┆ AVGO   ┆ USD        ┆ 000173016 ┆ … ┆ 675660000 ┆ 582180000 ┆ https://w ┆ https://w │\n",
       "│            ┆        ┆            ┆ 8         ┆   ┆ 00        ┆ 00        ┆ ww.sec.go ┆ ww.sec.go │\n",
       "│            ┆        ┆            ┆           ┆   ┆           ┆           ┆ v/Archive ┆ v/Archive │\n",
       "│            ┆        ┆            ┆           ┆   ┆           ┆           ┆ s/e…      ┆ s/e…      │\n",
<<<<<<< HEAD
<<<<<<< HEAD
       "│ 2024-08-31 ┆ ACN    ┆ USD        ┆ 000146737 ┆ … ┆ 412054900 ┆ -88392000 ┆ https://w ┆ https://w │\n",
       "│            ┆        ┆            ┆ 3         ┆   ┆ 0         ┆ 0         ┆ ww.sec.go ┆ ww.sec.go │\n",
=======
       "│ 2023-12-31 ┆ META   ┆ USD        ┆ 000132680 ┆ … ┆ 372340000 ┆ -46280000 ┆ https://w ┆ https://w │\n",
       "│            ┆        ┆            ┆ 1         ┆   ┆ 00        ┆ 00        ┆ ww.sec.go ┆ ww.sec.go │\n",
>>>>>>> e7e3c52 (AAPL Institutional Holders Upload)
=======
       "│ 2023-12-31 ┆ META   ┆ USD        ┆ 000132680 ┆ … ┆ 372340000 ┆ -46280000 ┆ https://w ┆ https://w │\n",
       "│            ┆        ┆            ┆ 1         ┆   ┆ 00        ┆ 00        ┆ ww.sec.go ┆ ww.sec.go │\n",
>>>>>>> e7e3c52 (AAPL Institutional Holders Upload)
       "│            ┆        ┆            ┆           ┆   ┆           ┆           ┆ v/Archive ┆ v/Archive │\n",
       "│            ┆        ┆            ┆           ┆   ┆           ┆           ┆ s/e…      ┆ s/e…      │\n",
       "│ 2024-01-31 ┆ CRM    ┆ USD        ┆ 000110852 ┆ … ┆ 135620000 ┆ 509000000 ┆ https://w ┆ https://w │\n",
       "│            ┆        ┆            ┆ 4         ┆   ┆ 00        ┆ 0         ┆ ww.sec.go ┆ ww.sec.go │\n",
       "│            ┆        ┆            ┆           ┆   ┆           ┆           ┆ v/Archive ┆ v/Archive │\n",
       "│            ┆        ┆            ┆           ┆   ┆           ┆           ┆ s/e…      ┆ s/e…      │\n",
       "│ 2024-09-28 ┆ AAPL   ┆ USD        ┆ 000032019 ┆ … ┆ 106629000 ┆ 766860000 ┆ https://w ┆ https://w │\n",
       "│            ┆        ┆            ┆ 3         ┆   ┆ 000       ┆ 00        ┆ ww.sec.go ┆ ww.sec.go │\n",
       "│            ┆        ┆            ┆           ┆   ┆           ┆           ┆ v/Archive ┆ v/Archive │\n",
       "│            ┆        ┆            ┆           ┆   ┆           ┆           ┆ s/e…      ┆ s/e…      │\n",
       "│ 2023-12-31 ┆ GOOG   ┆ USD        ┆ 000165204 ┆ … ┆ 285040000 ┆ 445600000 ┆ https://w ┆ https://w │\n",
       "│            ┆        ┆            ┆ 4         ┆   ┆ 00        ┆ 0         ┆ ww.sec.go ┆ ww.sec.go │\n",
       "│            ┆        ┆            ┆           ┆   ┆           ┆           ┆ v/Archive ┆ v/Archive │\n",
       "│            ┆        ┆            ┆           ┆   ┆           ┆           ┆ s/e…      ┆ s/e…      │\n",
       "│ 2023-12-31 ┆ GOOG   ┆ USD        ┆ 000165204 ┆ … ┆ 285040000 ┆ 445600000 ┆ https://w ┆ https://w │\n",
       "│            ┆        ┆            ┆ 4         ┆   ┆ 00        ┆ 0         ┆ ww.sec.go ┆ ww.sec.go │\n",
       "│            ┆        ┆            ┆           ┆   ┆           ┆           ┆ v/Archive ┆ v/Archive │\n",
       "│            ┆        ┆            ┆           ┆   ┆           ┆           ┆ s/e…      ┆ s/e…      │\n",
       "│ 2024-01-31 ┆ CRM    ┆ USD        ┆ 000110852 ┆ … ┆ 135620000 ┆ 509000000 ┆ https://w ┆ https://w │\n",
       "│            ┆        ┆            ┆ 4         ┆   ┆ 00        ┆ 0         ┆ ww.sec.go ┆ ww.sec.go │\n",
       "│            ┆        ┆            ┆           ┆   ┆           ┆           ┆ v/Archive ┆ v/Archive │\n",
       "│            ┆        ┆            ┆           ┆   ┆           ┆           ┆ s/e…      ┆ s/e…      │\n",
       "│ 2023-12-31 ┆ GOOG   ┆ USD        ┆ 000165204 ┆ … ┆ 285040000 ┆ 445600000 ┆ https://w ┆ https://w │\n",
       "│            ┆        ┆            ┆ 4         ┆   ┆ 00        ┆ 0         ┆ ww.sec.go ┆ ww.sec.go │\n",
       "│            ┆        ┆            ┆           ┆   ┆           ┆           ┆ v/Archive ┆ v/Archive │\n",
       "│            ┆        ┆            ┆           ┆   ┆           ┆           ┆ s/e…      ┆ s/e…      │\n",
       "│ 2024-01-31 ┆ CRM    ┆ USD        ┆ 000110852 ┆ … ┆ 135620000 ┆ 509000000 ┆ https://w ┆ https://w │\n",
       "│            ┆        ┆            ┆ 4         ┆   ┆ 00        ┆ 0         ┆ ww.sec.go ┆ ww.sec.go │\n",
       "│            ┆        ┆            ┆           ┆   ┆           ┆           ┆ v/Archive ┆ v/Archive │\n",
       "│            ┆        ┆            ┆           ┆   ┆           ┆           ┆ s/e…      ┆ s/e…      │\n",
       "└────────────┴────────┴────────────┴───────────┴───┴───────────┴───────────┴───────────┴───────────┘"
      ]
     },
     "execution_count": 11,
     "metadata": {},
     "output_type": "execute_result"
    }
   ],
   "source": [
    "pl.scan_parquet(f'{output_dir}/company_balance_sheet.parquet').head().collect()"
   ]
  },
  {
   "cell_type": "markdown",
   "metadata": {},
   "source": [
    "## **Cash Flow Statement**"
   ]
  },
  {
   "cell_type": "code",
   "execution_count": 12,
   "metadata": {
    "execution": {
<<<<<<< HEAD
<<<<<<< HEAD
     "iopub.execute_input": "2025-01-17T15:33:48.845120Z",
     "iopub.status.busy": "2025-01-17T15:33:48.844759Z",
     "iopub.status.idle": "2025-01-17T15:33:55.454913Z",
     "shell.execute_reply": "2025-01-17T15:33:55.454464Z"
=======
=======
>>>>>>> e7e3c52 (AAPL Institutional Holders Upload)
     "iopub.execute_input": "2025-01-17T22:58:22.147724Z",
     "iopub.status.busy": "2025-01-17T22:58:22.147424Z",
     "iopub.status.idle": "2025-01-17T22:58:40.957333Z",
     "shell.execute_reply": "2025-01-17T22:58:40.956829Z"
<<<<<<< HEAD
>>>>>>> e7e3c52 (AAPL Institutional Holders Upload)
=======
>>>>>>> e7e3c52 (AAPL Institutional Holders Upload)
    }
   },
   "outputs": [
    {
     "name": "stderr",
     "output_type": "stream",
     "text": [
<<<<<<< HEAD
<<<<<<< HEAD
      "ERROR:__main__:Error fetching BA: HTTPSConnectionPool(host='financialmodelingprep.com', port=443): Max retries exceeded with url: /api/v3/cash-flow-statement/BA?apikey=PBkrv7HEcbYqq5BmXIRgFjfxzbLzuKmI&period=annual (Caused by ResponseError('too many 429 error responses'))\n"
=======
=======
>>>>>>> e7e3c52 (AAPL Institutional Holders Upload)
      "ERROR:__main__:Error fetching PFE: HTTPSConnectionPool(host='financialmodelingprep.com', port=443): Max retries exceeded with url: /api/v3/cash-flow-statement/PFE?apikey=PBkrv7HEcbYqq5BmXIRgFjfxzbLzuKmI&period=annual (Caused by ResponseError('too many 429 error responses'))\n"
     ]
    },
    {
     "name": "stderr",
     "output_type": "stream",
     "text": [
      "ERROR:__main__:Error fetching CAT: HTTPSConnectionPool(host='financialmodelingprep.com', port=443): Max retries exceeded with url: /api/v3/cash-flow-statement/CAT?apikey=PBkrv7HEcbYqq5BmXIRgFjfxzbLzuKmI&period=annual (Caused by ResponseError('too many 429 error responses'))\n"
     ]
    },
    {
     "name": "stderr",
     "output_type": "stream",
     "text": [
      "ERROR:__main__:Error fetching LLY: HTTPSConnectionPool(host='financialmodelingprep.com', port=443): Max retries exceeded with url: /api/v3/cash-flow-statement/LLY?apikey=PBkrv7HEcbYqq5BmXIRgFjfxzbLzuKmI&period=annual (Caused by ResponseError('too many 429 error responses'))\n"
     ]
    },
    {
     "name": "stderr",
     "output_type": "stream",
     "text": [
      "ERROR:__main__:Error fetching UPS: HTTPSConnectionPool(host='financialmodelingprep.com', port=443): Max retries exceeded with url: /api/v3/cash-flow-statement/UPS?apikey=PBkrv7HEcbYqq5BmXIRgFjfxzbLzuKmI&period=annual (Caused by ResponseError('too many 429 error responses'))\n"
     ]
    },
    {
     "name": "stderr",
     "output_type": "stream",
     "text": [
      "ERROR:__main__:Error fetching HON: HTTPSConnectionPool(host='financialmodelingprep.com', port=443): Max retries exceeded with url: /api/v3/cash-flow-statement/HON?apikey=PBkrv7HEcbYqq5BmXIRgFjfxzbLzuKmI&period=annual (Caused by ResponseError('too many 429 error responses'))\n"
     ]
    },
    {
     "name": "stderr",
     "output_type": "stream",
     "text": [
      "ERROR:__main__:Error fetching WMT: HTTPSConnectionPool(host='financialmodelingprep.com', port=443): Max retries exceeded with url: /api/v3/cash-flow-statement/WMT?apikey=PBkrv7HEcbYqq5BmXIRgFjfxzbLzuKmI&period=annual (Caused by ResponseError('too many 429 error responses'))\n"
     ]
    },
    {
     "name": "stderr",
     "output_type": "stream",
     "text": [
      "ERROR:__main__:Error fetching BA: HTTPSConnectionPool(host='financialmodelingprep.com', port=443): Max retries exceeded with url: /api/v3/cash-flow-statement/BA?apikey=PBkrv7HEcbYqq5BmXIRgFjfxzbLzuKmI&period=annual (Caused by ResponseError('too many 429 error responses'))\n"
     ]
    },
    {
     "name": "stderr",
     "output_type": "stream",
     "text": [
      "ERROR:__main__:Error fetching MRK: HTTPSConnectionPool(host='financialmodelingprep.com', port=443): Max retries exceeded with url: /api/v3/cash-flow-statement/MRK?apikey=PBkrv7HEcbYqq5BmXIRgFjfxzbLzuKmI&period=annual (Caused by ResponseError('too many 429 error responses'))\n"
     ]
    },
    {
     "name": "stderr",
     "output_type": "stream",
     "text": [
      "ERROR:__main__:Error fetching T: HTTPSConnectionPool(host='financialmodelingprep.com', port=443): Max retries exceeded with url: /api/v3/cash-flow-statement/T?apikey=PBkrv7HEcbYqq5BmXIRgFjfxzbLzuKmI&period=annual (Caused by ResponseError('too many 429 error responses'))\n"
     ]
    },
    {
     "name": "stderr",
     "output_type": "stream",
     "text": [
      "ERROR:__main__:Error fetching ABBV: HTTPSConnectionPool(host='financialmodelingprep.com', port=443): Max retries exceeded with url: /api/v3/cash-flow-statement/ABBV?apikey=PBkrv7HEcbYqq5BmXIRgFjfxzbLzuKmI&period=annual (Caused by ResponseError('too many 429 error responses'))\n"
     ]
    },
    {
     "name": "stderr",
     "output_type": "stream",
     "text": [
      "ERROR:__main__:Error fetching CVX: HTTPSConnectionPool(host='financialmodelingprep.com', port=443): Max retries exceeded with url: /api/v3/cash-flow-statement/CVX?apikey=PBkrv7HEcbYqq5BmXIRgFjfxzbLzuKmI&period=annual (Caused by ResponseError('too many 429 error responses'))\n"
     ]
    },
    {
     "name": "stderr",
     "output_type": "stream",
     "text": [
      "ERROR:__main__:Error fetching SLB: HTTPSConnectionPool(host='financialmodelingprep.com', port=443): Max retries exceeded with url: /api/v3/cash-flow-statement/SLB?apikey=PBkrv7HEcbYqq5BmXIRgFjfxzbLzuKmI&period=annual (Caused by ResponseError('too many 429 error responses'))\n"
     ]
    },
    {
     "name": "stderr",
     "output_type": "stream",
     "text": [
      "ERROR:__main__:Error fetching COP: HTTPSConnectionPool(host='financialmodelingprep.com', port=443): Max retries exceeded with url: /api/v3/cash-flow-statement/COP?apikey=PBkrv7HEcbYqq5BmXIRgFjfxzbLzuKmI&period=annual (Caused by ResponseError('too many 429 error responses'))\n"
>>>>>>> e7e3c52 (AAPL Institutional Holders Upload)
     ]
    },
    {
     "name": "stderr",
     "output_type": "stream",
     "text": [
      "ERROR:__main__:Error fetching GE: HTTPSConnectionPool(host='financialmodelingprep.com', port=443): Max retries exceeded with url: /api/v3/cash-flow-statement/GE?apikey=PBkrv7HEcbYqq5BmXIRgFjfxzbLzuKmI&period=annual (Caused by ResponseError('too many 429 error responses'))\n"
     ]
    },
    {
     "name": "stderr",
     "output_type": "stream",
     "text": [
      "ERROR:__main__:Error fetching LIN: HTTPSConnectionPool(host='financialmodelingprep.com', port=443): Max retries exceeded with url: /api/v3/cash-flow-statement/LIN?apikey=PBkrv7HEcbYqq5BmXIRgFjfxzbLzuKmI&period=annual (Caused by ResponseError('too many 429 error responses'))\n"
     ]
    },
    {
     "name": "stderr",
     "output_type": "stream",
     "text": [
      "ERROR:__main__:Error fetching XOM: HTTPSConnectionPool(host='financialmodelingprep.com', port=443): Max retries exceeded with url: /api/v3/cash-flow-statement/XOM?apikey=PBkrv7HEcbYqq5BmXIRgFjfxzbLzuKmI&period=annual (Caused by ResponseError('too many 429 error responses'))\n"
     ]
    },
    {
     "name": "stderr",
     "output_type": "stream",
     "text": [
      "ERROR:__main__:Error fetching APD: HTTPSConnectionPool(host='financialmodelingprep.com', port=443): Max retries exceeded with url: /api/v3/cash-flow-statement/APD?apikey=PBkrv7HEcbYqq5BmXIRgFjfxzbLzuKmI&period=annual (Caused by ResponseError('too many 429 error responses'))\n"
     ]
    },
    {
     "name": "stderr",
     "output_type": "stream",
     "text": [
      "ERROR:__main__:Error fetching PLD: HTTPSConnectionPool(host='financialmodelingprep.com', port=443): Max retries exceeded with url: /api/v3/cash-flow-statement/PLD?apikey=PBkrv7HEcbYqq5BmXIRgFjfxzbLzuKmI&period=annual (Caused by ResponseError('too many 429 error responses'))\n"
     ]
    },
    {
     "name": "stderr",
     "output_type": "stream",
     "text": [
      "ERROR:__main__:Error fetching ECL: HTTPSConnectionPool(host='financialmodelingprep.com', port=443): Max retries exceeded with url: /api/v3/cash-flow-statement/ECL?apikey=PBkrv7HEcbYqq5BmXIRgFjfxzbLzuKmI&period=annual (Caused by ResponseError('too many 429 error responses'))\n"
     ]
    },
    {
     "name": "stderr",
     "output_type": "stream",
     "text": [
      "ERROR:__main__:Error fetching RTX: HTTPSConnectionPool(host='financialmodelingprep.com', port=443): Max retries exceeded with url: /api/v3/cash-flow-statement/RTX?apikey=PBkrv7HEcbYqq5BmXIRgFjfxzbLzuKmI&period=annual (Caused by ResponseError('too many 429 error responses'))\n"
     ]
    },
    {
     "name": "stderr",
     "output_type": "stream",
     "text": [
      "ERROR:__main__:Error fetching CCI: HTTPSConnectionPool(host='financialmodelingprep.com', port=443): Max retries exceeded with url: /api/v3/cash-flow-statement/CCI?apikey=PBkrv7HEcbYqq5BmXIRgFjfxzbLzuKmI&period=annual (Caused by ResponseError('too many 429 error responses'))\n"
     ]
    },
    {
     "name": "stderr",
     "output_type": "stream",
     "text": [
      "ERROR:__main__:Error fetching AMT: HTTPSConnectionPool(host='financialmodelingprep.com', port=443): Max retries exceeded with url: /api/v3/cash-flow-statement/AMT?apikey=PBkrv7HEcbYqq5BmXIRgFjfxzbLzuKmI&period=annual (Caused by ResponseError('too many 429 error responses'))\n"
     ]
    },
    {
     "name": "stderr",
     "output_type": "stream",
     "text": [
      "ERROR:__main__:Error fetching GE: HTTPSConnectionPool(host='financialmodelingprep.com', port=443): Max retries exceeded with url: /api/v3/cash-flow-statement/GE?apikey=PBkrv7HEcbYqq5BmXIRgFjfxzbLzuKmI&period=annual (Caused by ResponseError('too many 429 error responses'))\n"
     ]
    },
    {
     "name": "stderr",
     "output_type": "stream",
     "text": [
      "ERROR:__main__:Error fetching LIN: HTTPSConnectionPool(host='financialmodelingprep.com', port=443): Max retries exceeded with url: /api/v3/cash-flow-statement/LIN?apikey=PBkrv7HEcbYqq5BmXIRgFjfxzbLzuKmI&period=annual (Caused by ResponseError('too many 429 error responses'))\n"
     ]
    },
    {
     "name": "stderr",
     "output_type": "stream",
     "text": [
      "ERROR:__main__:Error fetching XOM: HTTPSConnectionPool(host='financialmodelingprep.com', port=443): Max retries exceeded with url: /api/v3/cash-flow-statement/XOM?apikey=PBkrv7HEcbYqq5BmXIRgFjfxzbLzuKmI&period=annual (Caused by ResponseError('too many 429 error responses'))\n"
     ]
    },
    {
     "name": "stderr",
     "output_type": "stream",
     "text": [
      "ERROR:__main__:Error fetching APD: HTTPSConnectionPool(host='financialmodelingprep.com', port=443): Max retries exceeded with url: /api/v3/cash-flow-statement/APD?apikey=PBkrv7HEcbYqq5BmXIRgFjfxzbLzuKmI&period=annual (Caused by ResponseError('too many 429 error responses'))\n"
     ]
    },
    {
     "name": "stderr",
     "output_type": "stream",
     "text": [
      "ERROR:__main__:Error fetching PLD: HTTPSConnectionPool(host='financialmodelingprep.com', port=443): Max retries exceeded with url: /api/v3/cash-flow-statement/PLD?apikey=PBkrv7HEcbYqq5BmXIRgFjfxzbLzuKmI&period=annual (Caused by ResponseError('too many 429 error responses'))\n"
     ]
    },
    {
     "name": "stderr",
     "output_type": "stream",
     "text": [
      "ERROR:__main__:Error fetching ECL: HTTPSConnectionPool(host='financialmodelingprep.com', port=443): Max retries exceeded with url: /api/v3/cash-flow-statement/ECL?apikey=PBkrv7HEcbYqq5BmXIRgFjfxzbLzuKmI&period=annual (Caused by ResponseError('too many 429 error responses'))\n"
     ]
    },
    {
     "name": "stderr",
     "output_type": "stream",
     "text": [
      "ERROR:__main__:Error fetching RTX: HTTPSConnectionPool(host='financialmodelingprep.com', port=443): Max retries exceeded with url: /api/v3/cash-flow-statement/RTX?apikey=PBkrv7HEcbYqq5BmXIRgFjfxzbLzuKmI&period=annual (Caused by ResponseError('too many 429 error responses'))\n"
     ]
    },
    {
     "name": "stderr",
     "output_type": "stream",
     "text": [
      "ERROR:__main__:Error fetching CCI: HTTPSConnectionPool(host='financialmodelingprep.com', port=443): Max retries exceeded with url: /api/v3/cash-flow-statement/CCI?apikey=PBkrv7HEcbYqq5BmXIRgFjfxzbLzuKmI&period=annual (Caused by ResponseError('too many 429 error responses'))\n"
     ]
    },
    {
     "name": "stderr",
     "output_type": "stream",
     "text": [
      "ERROR:__main__:Error fetching AMT: HTTPSConnectionPool(host='financialmodelingprep.com', port=443): Max retries exceeded with url: /api/v3/cash-flow-statement/AMT?apikey=PBkrv7HEcbYqq5BmXIRgFjfxzbLzuKmI&period=annual (Caused by ResponseError('too many 429 error responses'))\n"
     ]
    }
   ],
   "source": [
    "def fetch_data(symbol: str, api_key: str, session: requests.Session) -> Dict:\n",
    "    \"\"\"Fetch company profile data from FMP API\"\"\"\n",
    "    url = f\"https://financialmodelingprep.com/api/v3/cash-flow-statement/{symbol}\"\n",
    "    params = {\"apikey\": api_key,\n",
    "              \"period\": \"annual\"}\n",
    "\n",
    "    try:\n",
    "        response = session.get(url, params=params, timeout=10)\n",
    "        response.raise_for_status()\n",
    "        return response.json()\n",
    "    except Exception as e:\n",
    "        logger.error(f\"Error fetching {symbol}: {str(e)}\")\n",
    "        return None\n",
    "\n",
    "def fetch_all_data(symbols: List[str], api_key: str) -> List[Dict]:\n",
    "    session = create_session()\n",
    "    \n",
    "    with ThreadPoolExecutor(max_workers=10) as executor:\n",
    "        futures = [\n",
    "            executor.submit(fetch_data, symbol, api_key, session)\n",
    "            for symbol in symbols\n",
    "        ]\n",
    "        results = [\n",
    "            f.result() for f in concurrent.futures.as_completed(futures)\n",
    "        ]\n",
    "    \n",
    "    return [r[0] for r in results if r and isinstance(r, list)]\n",
    "\n",
    "# Execute fetching\n",
    "data = fetch_all_data(symbols, FMP_API_KEY)\n",
    "\n",
    "# Convert to Polars DataFrame more efficiently\n",
    "if data:\n",
    "    df = pl.DataFrame(data)"
   ]
  },
  {
   "cell_type": "code",
   "execution_count": 13,
   "metadata": {
    "execution": {
<<<<<<< HEAD
<<<<<<< HEAD
     "iopub.execute_input": "2025-01-17T15:33:55.456929Z",
     "iopub.status.busy": "2025-01-17T15:33:55.456617Z",
     "iopub.status.idle": "2025-01-17T15:33:55.460166Z",
     "shell.execute_reply": "2025-01-17T15:33:55.459693Z"
=======
=======
>>>>>>> e7e3c52 (AAPL Institutional Holders Upload)
     "iopub.execute_input": "2025-01-17T22:58:40.959191Z",
     "iopub.status.busy": "2025-01-17T22:58:40.958922Z",
     "iopub.status.idle": "2025-01-17T22:58:40.962092Z",
     "shell.execute_reply": "2025-01-17T22:58:40.961626Z"
<<<<<<< HEAD
>>>>>>> e7e3c52 (AAPL Institutional Holders Upload)
=======
>>>>>>> e7e3c52 (AAPL Institutional Holders Upload)
    }
   },
   "outputs": [],
   "source": [
    "df = make_clean_names(df)"
   ]
  },
  {
   "cell_type": "code",
   "execution_count": 14,
   "metadata": {
    "execution": {
<<<<<<< HEAD
<<<<<<< HEAD
     "iopub.execute_input": "2025-01-17T15:33:55.461903Z",
     "iopub.status.busy": "2025-01-17T15:33:55.461725Z",
     "iopub.status.idle": "2025-01-17T15:33:55.466124Z",
     "shell.execute_reply": "2025-01-17T15:33:55.465698Z"
=======
=======
>>>>>>> e7e3c52 (AAPL Institutional Holders Upload)
     "iopub.execute_input": "2025-01-17T22:58:40.963729Z",
     "iopub.status.busy": "2025-01-17T22:58:40.963455Z",
     "iopub.status.idle": "2025-01-17T22:58:40.967914Z",
     "shell.execute_reply": "2025-01-17T22:58:40.967302Z"
<<<<<<< HEAD
>>>>>>> e7e3c52 (AAPL Institutional Holders Upload)
=======
>>>>>>> e7e3c52 (AAPL Institutional Holders Upload)
    }
   },
   "outputs": [],
   "source": [
    "output_dir = \"../../../data/finance\"\n",
    "\n",
    "# Write DataFrame to Parquet\n",
    "df.write_parquet(f'{output_dir}/company_cash_flow_statement.parquet')"
   ]
  },
  {
   "cell_type": "code",
   "execution_count": 15,
   "metadata": {
    "execution": {
<<<<<<< HEAD
<<<<<<< HEAD
     "iopub.execute_input": "2025-01-17T15:33:55.467742Z",
     "iopub.status.busy": "2025-01-17T15:33:55.467571Z",
     "iopub.status.idle": "2025-01-17T15:33:55.473596Z",
     "shell.execute_reply": "2025-01-17T15:33:55.473020Z"
=======
=======
>>>>>>> e7e3c52 (AAPL Institutional Holders Upload)
     "iopub.execute_input": "2025-01-17T22:58:40.969608Z",
     "iopub.status.busy": "2025-01-17T22:58:40.969253Z",
     "iopub.status.idle": "2025-01-17T22:58:40.974830Z",
     "shell.execute_reply": "2025-01-17T22:58:40.974347Z"
<<<<<<< HEAD
>>>>>>> e7e3c52 (AAPL Institutional Holders Upload)
=======
>>>>>>> e7e3c52 (AAPL Institutional Holders Upload)
    }
   },
   "outputs": [
    {
     "data": {
      "text/html": [
       "<div><style>\n",
       ".dataframe > thead > tr,\n",
       ".dataframe > tbody > tr {\n",
       "  text-align: right;\n",
       "  white-space: pre-wrap;\n",
       "}\n",
       "</style>\n",
<<<<<<< HEAD
<<<<<<< HEAD
       "<small>shape: (5, 40)</small><table border=\"1\" class=\"dataframe\"><thead><tr><th>date</th><th>symbol</th><th>reported_currency</th><th>cik</th><th>filling_date</th><th>accepted_date</th><th>calendar_year</th><th>period</th><th>net_income</th><th>depreciation_and_amortization</th><th>deferred_income_tax</th><th>stock_based_compensation</th><th>change_in_working_capital</th><th>accounts_receivables</th><th>inventory</th><th>accounts_payables</th><th>other_working_capital</th><th>other_non_cash_items</th><th>net_cash_provided_by_operating_activities</th><th>investments_in_property_plant_and_equipment</th><th>acquisitions_net</th><th>purchases_of_investments</th><th>sales_maturities_of_investments</th><th>other_investing_activites</th><th>net_cash_used_for_investing_activites</th><th>debt_repayment</th><th>common_stock_issued</th><th>common_stock_repurchased</th><th>dividends_paid</th><th>other_financing_activites</th><th>net_cash_used_provided_by_financing_activities</th><th>effect_of_forex_changes_on_cash</th><th>net_change_in_cash</th><th>cash_at_end_of_period</th><th>cash_at_beginning_of_period</th><th>operating_cash_flow</th><th>capital_expenditure</th><th>free_cash_flow</th><th>link</th><th>final_link</th></tr><tr><td>str</td><td>str</td><td>str</td><td>str</td><td>str</td><td>str</td><td>str</td><td>str</td><td>i64</td><td>i64</td><td>i64</td><td>i64</td><td>i64</td><td>i64</td><td>i64</td><td>i64</td><td>i64</td><td>i64</td><td>i64</td><td>i64</td><td>i64</td><td>i64</td><td>i64</td><td>i64</td><td>i64</td><td>i64</td><td>i64</td><td>i64</td><td>i64</td><td>i64</td><td>i64</td><td>i64</td><td>i64</td><td>i64</td><td>i64</td><td>i64</td><td>i64</td><td>i64</td><td>str</td><td>str</td></tr></thead><tbody><tr><td>&quot;2024-08-31&quot;</td><td>&quot;ACN&quot;</td><td>&quot;USD&quot;</td><td>&quot;0001467373&quot;</td><td>&quot;2024-10-10&quot;</td><td>&quot;2024-10-10 06:43:59&quot;</td><td>&quot;2024&quot;</td><td>&quot;FY&quot;</td><td>7419197000</td><td>1430042000</td><td>-93988000</td><td>1941590000</td><td>-2158890000</td><td>0</td><td>0</td><td>46512000</td><td>-2205402000</td><td>593076000</td><td>9131027000</td><td>-516509000</td><td>-6553981000</td><td>0</td><td>0</td><td>8672000</td><td>-7061818000</td><td>827787000</td><td>1418131000</td><td>-4524646000</td><td>-3238259000</td><td>-546521000</td><td>-6063508000</td><td>-46264000</td><td>-4040563000</td><td>5004469000</td><td>9045032000</td><td>9131027000</td><td>-516509000</td><td>8614518000</td><td>&quot;https://www.sec.gov/Archives/e…</td><td>&quot;https://www.sec.gov/Archives/e…</td></tr><tr><td>&quot;2024-11-03&quot;</td><td>&quot;AVGO&quot;</td><td>&quot;USD&quot;</td><td>&quot;0001730168&quot;</td><td>&quot;2024-12-20&quot;</td><td>&quot;2024-12-20 17:26:46&quot;</td><td>&quot;2024&quot;</td><td>&quot;FY&quot;</td><td>5895000000</td><td>10010000000</td><td>0</td><td>5741000000</td><td>-4637000000</td><td>2327000000</td><td>150000000</td><td>121000000</td><td>-7235000000</td><td>2953000000</td><td>19962000000</td><td>-548000000</td><td>-25978000000</td><td>-175000000</td><td>156000000</td><td>3475000000</td><td>-23070000000</td><td>20346000000</td><td>190000000</td><td>-12392000000</td><td>-9814000000</td><td>-253000000</td><td>-1733000000</td><td>0</td><td>-4841000000</td><td>9348000000</td><td>14189000000</td><td>19962000000</td><td>-548000000</td><td>19414000000</td><td>&quot;https://www.sec.gov/Archives/e…</td><td>&quot;https://www.sec.gov/Archives/e…</td></tr><tr><td>&quot;2024-01-28&quot;</td><td>&quot;NVDA&quot;</td><td>&quot;USD&quot;</td><td>&quot;0001045810&quot;</td><td>&quot;2024-02-21&quot;</td><td>&quot;2024-02-21 16:36:57&quot;</td><td>&quot;2024&quot;</td><td>&quot;FY&quot;</td><td>29760000000</td><td>1508000000</td><td>-2489000000</td><td>3549000000</td><td>-3722000000</td><td>-6172000000</td><td>-98000000</td><td>1531000000</td><td>1017000000</td><td>-516000000</td><td>28090000000</td><td>-1069000000</td><td>-83000000</td><td>-18211000000</td><td>9782000000</td><td>-985000000</td><td>-10566000000</td><td>-1250000000</td><td>0</td><td>-9533000000</td><td>-395000000</td><td>-2455000000</td><td>-13633000000</td><td>0</td><td>3891000000</td><td>7280000000</td><td>3389000000</td><td>28090000000</td><td>-1069000000</td><td>27021000000</td><td>&quot;https://www.sec.gov/Archives/e…</td><td>&quot;https://www.sec.gov/Archives/e…</td></tr><tr><td>&quot;2023-12-31&quot;</td><td>&quot;META&quot;</td><td>&quot;USD&quot;</td><td>&quot;0001326801&quot;</td><td>&quot;2024-02-02&quot;</td><td>&quot;2024-02-01 19:39:02&quot;</td><td>&quot;2023&quot;</td><td>&quot;FY&quot;</td><td>39098000000</td><td>11178000000</td><td>131000000</td><td>14027000000</td><td>3836000000</td><td>-2399000000</td><td>0</td><td>51000000</td><td>6184000000</td><td>2843000000</td><td>71113000000</td><td>-27266000000</td><td>-629000000</td><td>-2982000000</td><td>6184000000</td><td>198000000</td><td>-24495000000</td><td>7397000000</td><td>0</td><td>-19774000000</td><td>0</td><td>-7123000000</td><td>-19500000000</td><td>113000000</td><td>27231000000</td><td>42827000000</td><td>15596000000</td><td>71113000000</td><td>-27266000000</td><td>43847000000</td><td>&quot;https://www.sec.gov/Archives/e…</td><td>&quot;https://www.sec.gov/Archives/e…</td></tr><tr><td>&quot;2023-12-31&quot;</td><td>&quot;GOOG&quot;</td><td>&quot;USD&quot;</td><td>&quot;0001652044&quot;</td><td>&quot;2024-01-31&quot;</td><td>&quot;2024-01-30 21:43:43&quot;</td><td>&quot;2023&quot;</td><td>&quot;FY&quot;</td><td>73795000000</td><td>11946000000</td><td>-7763000000</td><td>22460000000</td><td>-3845000000</td><td>-7833000000</td><td>2276000000</td><td>664000000</td><td>1048000000</td><td>5153000000</td><td>101746000000</td><td>-32251000000</td><td>-495000000</td><td>-80885000000</td><td>87619000000</td><td>-1051000000</td><td>-27063000000</td><td>-760000000</td><td>0</td><td>-61504000000</td><td>0</td><td>-9829000000</td><td>-72093000000</td><td>-421000000</td><td>2169000000</td><td>24048000000</td><td>21879000000</td><td>101746000000</td><td>-32251000000</td><td>69495000000</td><td>&quot;https://www.sec.gov/Archives/e…</td><td>&quot;https://www.sec.gov/Archives/e…</td></tr></tbody></table></div>"
=======
       "<small>shape: (5, 40)</small><table border=\"1\" class=\"dataframe\"><thead><tr><th>date</th><th>symbol</th><th>reported_currency</th><th>cik</th><th>filling_date</th><th>accepted_date</th><th>calendar_year</th><th>period</th><th>net_income</th><th>depreciation_and_amortization</th><th>deferred_income_tax</th><th>stock_based_compensation</th><th>change_in_working_capital</th><th>accounts_receivables</th><th>inventory</th><th>accounts_payables</th><th>other_working_capital</th><th>other_non_cash_items</th><th>net_cash_provided_by_operating_activities</th><th>investments_in_property_plant_and_equipment</th><th>acquisitions_net</th><th>purchases_of_investments</th><th>sales_maturities_of_investments</th><th>other_investing_activites</th><th>net_cash_used_for_investing_activites</th><th>debt_repayment</th><th>common_stock_issued</th><th>common_stock_repurchased</th><th>dividends_paid</th><th>other_financing_activites</th><th>net_cash_used_provided_by_financing_activities</th><th>effect_of_forex_changes_on_cash</th><th>net_change_in_cash</th><th>cash_at_end_of_period</th><th>cash_at_beginning_of_period</th><th>operating_cash_flow</th><th>capital_expenditure</th><th>free_cash_flow</th><th>link</th><th>final_link</th></tr><tr><td>str</td><td>str</td><td>str</td><td>str</td><td>str</td><td>str</td><td>str</td><td>str</td><td>i64</td><td>i64</td><td>i64</td><td>i64</td><td>i64</td><td>i64</td><td>i64</td><td>i64</td><td>i64</td><td>i64</td><td>i64</td><td>i64</td><td>i64</td><td>i64</td><td>i64</td><td>i64</td><td>i64</td><td>i64</td><td>i64</td><td>i64</td><td>i64</td><td>i64</td><td>i64</td><td>i64</td><td>i64</td><td>i64</td><td>i64</td><td>i64</td><td>i64</td><td>i64</td><td>str</td><td>str</td></tr></thead><tbody><tr><td>&quot;2024-01-28&quot;</td><td>&quot;NVDA&quot;</td><td>&quot;USD&quot;</td><td>&quot;0001045810&quot;</td><td>&quot;2024-02-21&quot;</td><td>&quot;2024-02-21 16:36:57&quot;</td><td>&quot;2024&quot;</td><td>&quot;FY&quot;</td><td>29760000000</td><td>1508000000</td><td>-2489000000</td><td>3549000000</td><td>-3722000000</td><td>-6172000000</td><td>-98000000</td><td>1531000000</td><td>1017000000</td><td>-516000000</td><td>28090000000</td><td>-1069000000</td><td>-83000000</td><td>-18211000000</td><td>9782000000</td><td>-985000000</td><td>-10566000000</td><td>-1250000000</td><td>0</td><td>-9533000000</td><td>-395000000</td><td>-2455000000</td><td>-13633000000</td><td>0</td><td>3891000000</td><td>7280000000</td><td>3389000000</td><td>28090000000</td><td>-1069000000</td><td>27021000000</td><td>&quot;https://www.sec.gov/Archives/e…</td><td>&quot;https://www.sec.gov/Archives/e…</td></tr><tr><td>&quot;2024-06-30&quot;</td><td>&quot;MSFT&quot;</td><td>&quot;USD&quot;</td><td>&quot;0000789019&quot;</td><td>&quot;2024-07-30&quot;</td><td>&quot;2024-07-30 16:06:22&quot;</td><td>&quot;2024&quot;</td><td>&quot;FY&quot;</td><td>88136000000</td><td>22287000000</td><td>-4738000000</td><td>10734000000</td><td>1824000000</td><td>-7191000000</td><td>1284000000</td><td>3545000000</td><td>4186000000</td><td>305000000</td><td>118548000000</td><td>-44477000000</td><td>-69132000000</td><td>-17732000000</td><td>35669000000</td><td>-1298000000</td><td>-96970000000</td><td>575000000</td><td>2002000000</td><td>-17254000000</td><td>-21771000000</td><td>-1309000000</td><td>-37757000000</td><td>-210000000</td><td>-16389000000</td><td>18315000000</td><td>34704000000</td><td>118548000000</td><td>-44477000000</td><td>74071000000</td><td>&quot;https://www.sec.gov/Archives/e…</td><td>&quot;https://www.sec.gov/Archives/e…</td></tr><tr><td>&quot;2023-12-31&quot;</td><td>&quot;GOOGL&quot;</td><td>&quot;USD&quot;</td><td>&quot;0001652044&quot;</td><td>&quot;2024-01-31&quot;</td><td>&quot;2024-01-30 21:43:43&quot;</td><td>&quot;2023&quot;</td><td>&quot;FY&quot;</td><td>73795000000</td><td>11946000000</td><td>-7763000000</td><td>22460000000</td><td>-3845000000</td><td>-7833000000</td><td>2276000000</td><td>664000000</td><td>1048000000</td><td>5153000000</td><td>101746000000</td><td>-32251000000</td><td>-495000000</td><td>-80885000000</td><td>87619000000</td><td>-1051000000</td><td>-27063000000</td><td>-760000000</td><td>0</td><td>-61504000000</td><td>0</td><td>-9829000000</td><td>-72093000000</td><td>-421000000</td><td>2169000000</td><td>24048000000</td><td>21879000000</td><td>101746000000</td><td>-32251000000</td><td>69495000000</td><td>&quot;https://www.sec.gov/Archives/e…</td><td>&quot;https://www.sec.gov/Archives/e…</td></tr><tr><td>&quot;2024-08-31&quot;</td><td>&quot;ACN&quot;</td><td>&quot;USD&quot;</td><td>&quot;0001467373&quot;</td><td>&quot;2024-10-10&quot;</td><td>&quot;2024-10-10 06:43:59&quot;</td><td>&quot;2024&quot;</td><td>&quot;FY&quot;</td><td>7419197000</td><td>1430042000</td><td>-93988000</td><td>1941590000</td><td>-2158890000</td><td>0</td><td>0</td><td>46512000</td><td>-2205402000</td><td>593076000</td><td>9131027000</td><td>-516509000</td><td>-6553981000</td><td>0</td><td>0</td><td>8672000</td><td>-7061818000</td><td>827787000</td><td>1418131000</td><td>-4524646000</td><td>-3238259000</td><td>-546521000</td><td>-6063508000</td><td>-46264000</td><td>-4040563000</td><td>5004469000</td><td>9045032000</td><td>9131027000</td><td>-516509000</td><td>8614518000</td><td>&quot;https://www.sec.gov/Archives/e…</td><td>&quot;https://www.sec.gov/Archives/e…</td></tr><tr><td>&quot;2024-11-03&quot;</td><td>&quot;AVGO&quot;</td><td>&quot;USD&quot;</td><td>&quot;0001730168&quot;</td><td>&quot;2024-12-20&quot;</td><td>&quot;2024-12-20 17:26:46&quot;</td><td>&quot;2024&quot;</td><td>&quot;FY&quot;</td><td>5895000000</td><td>10010000000</td><td>0</td><td>5741000000</td><td>-4637000000</td><td>2327000000</td><td>150000000</td><td>121000000</td><td>-7235000000</td><td>2953000000</td><td>19962000000</td><td>-548000000</td><td>-25978000000</td><td>-175000000</td><td>156000000</td><td>3475000000</td><td>-23070000000</td><td>20346000000</td><td>190000000</td><td>-12392000000</td><td>-9814000000</td><td>-253000000</td><td>-1733000000</td><td>0</td><td>-4841000000</td><td>9348000000</td><td>14189000000</td><td>19962000000</td><td>-548000000</td><td>19414000000</td><td>&quot;https://www.sec.gov/Archives/e…</td><td>&quot;https://www.sec.gov/Archives/e…</td></tr></tbody></table></div>"
>>>>>>> e7e3c52 (AAPL Institutional Holders Upload)
=======
       "<small>shape: (5, 40)</small><table border=\"1\" class=\"dataframe\"><thead><tr><th>date</th><th>symbol</th><th>reported_currency</th><th>cik</th><th>filling_date</th><th>accepted_date</th><th>calendar_year</th><th>period</th><th>net_income</th><th>depreciation_and_amortization</th><th>deferred_income_tax</th><th>stock_based_compensation</th><th>change_in_working_capital</th><th>accounts_receivables</th><th>inventory</th><th>accounts_payables</th><th>other_working_capital</th><th>other_non_cash_items</th><th>net_cash_provided_by_operating_activities</th><th>investments_in_property_plant_and_equipment</th><th>acquisitions_net</th><th>purchases_of_investments</th><th>sales_maturities_of_investments</th><th>other_investing_activites</th><th>net_cash_used_for_investing_activites</th><th>debt_repayment</th><th>common_stock_issued</th><th>common_stock_repurchased</th><th>dividends_paid</th><th>other_financing_activites</th><th>net_cash_used_provided_by_financing_activities</th><th>effect_of_forex_changes_on_cash</th><th>net_change_in_cash</th><th>cash_at_end_of_period</th><th>cash_at_beginning_of_period</th><th>operating_cash_flow</th><th>capital_expenditure</th><th>free_cash_flow</th><th>link</th><th>final_link</th></tr><tr><td>str</td><td>str</td><td>str</td><td>str</td><td>str</td><td>str</td><td>str</td><td>str</td><td>i64</td><td>i64</td><td>i64</td><td>i64</td><td>i64</td><td>i64</td><td>i64</td><td>i64</td><td>i64</td><td>i64</td><td>i64</td><td>i64</td><td>i64</td><td>i64</td><td>i64</td><td>i64</td><td>i64</td><td>i64</td><td>i64</td><td>i64</td><td>i64</td><td>i64</td><td>i64</td><td>i64</td><td>i64</td><td>i64</td><td>i64</td><td>i64</td><td>i64</td><td>i64</td><td>str</td><td>str</td></tr></thead><tbody><tr><td>&quot;2024-01-28&quot;</td><td>&quot;NVDA&quot;</td><td>&quot;USD&quot;</td><td>&quot;0001045810&quot;</td><td>&quot;2024-02-21&quot;</td><td>&quot;2024-02-21 16:36:57&quot;</td><td>&quot;2024&quot;</td><td>&quot;FY&quot;</td><td>29760000000</td><td>1508000000</td><td>-2489000000</td><td>3549000000</td><td>-3722000000</td><td>-6172000000</td><td>-98000000</td><td>1531000000</td><td>1017000000</td><td>-516000000</td><td>28090000000</td><td>-1069000000</td><td>-83000000</td><td>-18211000000</td><td>9782000000</td><td>-985000000</td><td>-10566000000</td><td>-1250000000</td><td>0</td><td>-9533000000</td><td>-395000000</td><td>-2455000000</td><td>-13633000000</td><td>0</td><td>3891000000</td><td>7280000000</td><td>3389000000</td><td>28090000000</td><td>-1069000000</td><td>27021000000</td><td>&quot;https://www.sec.gov/Archives/e…</td><td>&quot;https://www.sec.gov/Archives/e…</td></tr><tr><td>&quot;2024-06-30&quot;</td><td>&quot;MSFT&quot;</td><td>&quot;USD&quot;</td><td>&quot;0000789019&quot;</td><td>&quot;2024-07-30&quot;</td><td>&quot;2024-07-30 16:06:22&quot;</td><td>&quot;2024&quot;</td><td>&quot;FY&quot;</td><td>88136000000</td><td>22287000000</td><td>-4738000000</td><td>10734000000</td><td>1824000000</td><td>-7191000000</td><td>1284000000</td><td>3545000000</td><td>4186000000</td><td>305000000</td><td>118548000000</td><td>-44477000000</td><td>-69132000000</td><td>-17732000000</td><td>35669000000</td><td>-1298000000</td><td>-96970000000</td><td>575000000</td><td>2002000000</td><td>-17254000000</td><td>-21771000000</td><td>-1309000000</td><td>-37757000000</td><td>-210000000</td><td>-16389000000</td><td>18315000000</td><td>34704000000</td><td>118548000000</td><td>-44477000000</td><td>74071000000</td><td>&quot;https://www.sec.gov/Archives/e…</td><td>&quot;https://www.sec.gov/Archives/e…</td></tr><tr><td>&quot;2023-12-31&quot;</td><td>&quot;GOOGL&quot;</td><td>&quot;USD&quot;</td><td>&quot;0001652044&quot;</td><td>&quot;2024-01-31&quot;</td><td>&quot;2024-01-30 21:43:43&quot;</td><td>&quot;2023&quot;</td><td>&quot;FY&quot;</td><td>73795000000</td><td>11946000000</td><td>-7763000000</td><td>22460000000</td><td>-3845000000</td><td>-7833000000</td><td>2276000000</td><td>664000000</td><td>1048000000</td><td>5153000000</td><td>101746000000</td><td>-32251000000</td><td>-495000000</td><td>-80885000000</td><td>87619000000</td><td>-1051000000</td><td>-27063000000</td><td>-760000000</td><td>0</td><td>-61504000000</td><td>0</td><td>-9829000000</td><td>-72093000000</td><td>-421000000</td><td>2169000000</td><td>24048000000</td><td>21879000000</td><td>101746000000</td><td>-32251000000</td><td>69495000000</td><td>&quot;https://www.sec.gov/Archives/e…</td><td>&quot;https://www.sec.gov/Archives/e…</td></tr><tr><td>&quot;2024-08-31&quot;</td><td>&quot;ACN&quot;</td><td>&quot;USD&quot;</td><td>&quot;0001467373&quot;</td><td>&quot;2024-10-10&quot;</td><td>&quot;2024-10-10 06:43:59&quot;</td><td>&quot;2024&quot;</td><td>&quot;FY&quot;</td><td>7419197000</td><td>1430042000</td><td>-93988000</td><td>1941590000</td><td>-2158890000</td><td>0</td><td>0</td><td>46512000</td><td>-2205402000</td><td>593076000</td><td>9131027000</td><td>-516509000</td><td>-6553981000</td><td>0</td><td>0</td><td>8672000</td><td>-7061818000</td><td>827787000</td><td>1418131000</td><td>-4524646000</td><td>-3238259000</td><td>-546521000</td><td>-6063508000</td><td>-46264000</td><td>-4040563000</td><td>5004469000</td><td>9045032000</td><td>9131027000</td><td>-516509000</td><td>8614518000</td><td>&quot;https://www.sec.gov/Archives/e…</td><td>&quot;https://www.sec.gov/Archives/e…</td></tr><tr><td>&quot;2024-11-03&quot;</td><td>&quot;AVGO&quot;</td><td>&quot;USD&quot;</td><td>&quot;0001730168&quot;</td><td>&quot;2024-12-20&quot;</td><td>&quot;2024-12-20 17:26:46&quot;</td><td>&quot;2024&quot;</td><td>&quot;FY&quot;</td><td>5895000000</td><td>10010000000</td><td>0</td><td>5741000000</td><td>-4637000000</td><td>2327000000</td><td>150000000</td><td>121000000</td><td>-7235000000</td><td>2953000000</td><td>19962000000</td><td>-548000000</td><td>-25978000000</td><td>-175000000</td><td>156000000</td><td>3475000000</td><td>-23070000000</td><td>20346000000</td><td>190000000</td><td>-12392000000</td><td>-9814000000</td><td>-253000000</td><td>-1733000000</td><td>0</td><td>-4841000000</td><td>9348000000</td><td>14189000000</td><td>19962000000</td><td>-548000000</td><td>19414000000</td><td>&quot;https://www.sec.gov/Archives/e…</td><td>&quot;https://www.sec.gov/Archives/e…</td></tr></tbody></table></div>"
>>>>>>> e7e3c52 (AAPL Institutional Holders Upload)
      ],
      "text/plain": [
       "shape: (5, 40)\n",
       "┌────────────┬────────┬────────────┬───────────┬───┬───────────┬───────────┬───────────┬───────────┐\n",
       "│ date       ┆ symbol ┆ reported_c ┆ cik       ┆ … ┆ capital_e ┆ free_cash ┆ link      ┆ final_lin │\n",
       "│ ---        ┆ ---    ┆ urrency    ┆ ---       ┆   ┆ xpenditur ┆ _flow     ┆ ---       ┆ k         │\n",
       "│ str        ┆ str    ┆ ---        ┆ str       ┆   ┆ e         ┆ ---       ┆ str       ┆ ---       │\n",
       "│            ┆        ┆ str        ┆           ┆   ┆ ---       ┆ i64       ┆           ┆ str       │\n",
       "│            ┆        ┆            ┆           ┆   ┆ i64       ┆           ┆           ┆           │\n",
       "╞════════════╪════════╪════════════╪═══════════╪═══╪═══════════╪═══════════╪═══════════╪═══════════╡\n",
<<<<<<< HEAD
<<<<<<< HEAD
       "│ 2024-08-31 ┆ ACN    ┆ USD        ┆ 000146737 ┆ … ┆ -51650900 ┆ 861451800 ┆ https://w ┆ https://w │\n",
       "│            ┆        ┆            ┆ 3         ┆   ┆ 0         ┆ 0         ┆ ww.sec.go ┆ ww.sec.go │\n",
       "│            ┆        ┆            ┆           ┆   ┆           ┆           ┆ v/Archive ┆ v/Archive │\n",
       "│            ┆        ┆            ┆           ┆   ┆           ┆           ┆ s/e…      ┆ s/e…      │\n",
       "│ 2024-11-03 ┆ AVGO   ┆ USD        ┆ 000173016 ┆ … ┆ -54800000 ┆ 194140000 ┆ https://w ┆ https://w │\n",
       "│            ┆        ┆            ┆ 8         ┆   ┆ 0         ┆ 00        ┆ ww.sec.go ┆ ww.sec.go │\n",
       "│            ┆        ┆            ┆           ┆   ┆           ┆           ┆ v/Archive ┆ v/Archive │\n",
       "│            ┆        ┆            ┆           ┆   ┆           ┆           ┆ s/e…      ┆ s/e…      │\n",
       "│ 2024-01-28 ┆ NVDA   ┆ USD        ┆ 000104581 ┆ … ┆ -10690000 ┆ 270210000 ┆ https://w ┆ https://w │\n",
       "│            ┆        ┆            ┆ 0         ┆   ┆ 00        ┆ 00        ┆ ww.sec.go ┆ ww.sec.go │\n",
=======
       "│ 2024-01-28 ┆ NVDA   ┆ USD        ┆ 000104581 ┆ … ┆ -10690000 ┆ 270210000 ┆ https://w ┆ https://w │\n",
       "│            ┆        ┆            ┆ 0         ┆   ┆ 00        ┆ 00        ┆ ww.sec.go ┆ ww.sec.go │\n",
       "│            ┆        ┆            ┆           ┆   ┆           ┆           ┆ v/Archive ┆ v/Archive │\n",
       "│            ┆        ┆            ┆           ┆   ┆           ┆           ┆ s/e…      ┆ s/e…      │\n",
       "│ 2024-06-30 ┆ MSFT   ┆ USD        ┆ 000078901 ┆ … ┆ -44477000 ┆ 740710000 ┆ https://w ┆ https://w │\n",
       "│            ┆        ┆            ┆ 9         ┆   ┆ 000       ┆ 00        ┆ ww.sec.go ┆ ww.sec.go │\n",
       "│            ┆        ┆            ┆           ┆   ┆           ┆           ┆ v/Archive ┆ v/Archive │\n",
       "│            ┆        ┆            ┆           ┆   ┆           ┆           ┆ s/e…      ┆ s/e…      │\n",
       "│ 2023-12-31 ┆ GOOGL  ┆ USD        ┆ 000165204 ┆ … ┆ -32251000 ┆ 694950000 ┆ https://w ┆ https://w │\n",
       "│            ┆        ┆            ┆ 4         ┆   ┆ 000       ┆ 00        ┆ ww.sec.go ┆ ww.sec.go │\n",
       "│            ┆        ┆            ┆           ┆   ┆           ┆           ┆ v/Archive ┆ v/Archive │\n",
       "│            ┆        ┆            ┆           ┆   ┆           ┆           ┆ s/e…      ┆ s/e…      │\n",
       "│ 2024-08-31 ┆ ACN    ┆ USD        ┆ 000146737 ┆ … ┆ -51650900 ┆ 861451800 ┆ https://w ┆ https://w │\n",
       "│            ┆        ┆            ┆ 3         ┆   ┆ 0         ┆ 0         ┆ ww.sec.go ┆ ww.sec.go │\n",
>>>>>>> e7e3c52 (AAPL Institutional Holders Upload)
       "│            ┆        ┆            ┆           ┆   ┆           ┆           ┆ v/Archive ┆ v/Archive │\n",
       "│            ┆        ┆            ┆           ┆   ┆           ┆           ┆ s/e…      ┆ s/e…      │\n",
       "│ 2023-12-31 ┆ META   ┆ USD        ┆ 000132680 ┆ … ┆ -27266000 ┆ 438470000 ┆ https://w ┆ https://w │\n",
       "│            ┆        ┆            ┆ 1         ┆   ┆ 000       ┆ 00        ┆ ww.sec.go ┆ ww.sec.go │\n",
=======
       "│ 2024-01-28 ┆ NVDA   ┆ USD        ┆ 000104581 ┆ … ┆ -10690000 ┆ 270210000 ┆ https://w ┆ https://w │\n",
       "│            ┆        ┆            ┆ 0         ┆   ┆ 00        ┆ 00        ┆ ww.sec.go ┆ ww.sec.go │\n",
>>>>>>> e7e3c52 (AAPL Institutional Holders Upload)
       "│            ┆        ┆            ┆           ┆   ┆           ┆           ┆ v/Archive ┆ v/Archive │\n",
       "│            ┆        ┆            ┆           ┆   ┆           ┆           ┆ s/e…      ┆ s/e…      │\n",
       "│ 2024-06-30 ┆ MSFT   ┆ USD        ┆ 000078901 ┆ … ┆ -44477000 ┆ 740710000 ┆ https://w ┆ https://w │\n",
       "│            ┆        ┆            ┆ 9         ┆   ┆ 000       ┆ 00        ┆ ww.sec.go ┆ ww.sec.go │\n",
       "│            ┆        ┆            ┆           ┆   ┆           ┆           ┆ v/Archive ┆ v/Archive │\n",
       "│            ┆        ┆            ┆           ┆   ┆           ┆           ┆ s/e…      ┆ s/e…      │\n",
       "│ 2023-12-31 ┆ GOOGL  ┆ USD        ┆ 000165204 ┆ … ┆ -32251000 ┆ 694950000 ┆ https://w ┆ https://w │\n",
       "│            ┆        ┆            ┆ 4         ┆   ┆ 000       ┆ 00        ┆ ww.sec.go ┆ ww.sec.go │\n",
       "│            ┆        ┆            ┆           ┆   ┆           ┆           ┆ v/Archive ┆ v/Archive │\n",
       "│            ┆        ┆            ┆           ┆   ┆           ┆           ┆ s/e…      ┆ s/e…      │\n",
<<<<<<< HEAD
=======
       "│ 2024-08-31 ┆ ACN    ┆ USD        ┆ 000146737 ┆ … ┆ -51650900 ┆ 861451800 ┆ https://w ┆ https://w │\n",
       "│            ┆        ┆            ┆ 3         ┆   ┆ 0         ┆ 0         ┆ ww.sec.go ┆ ww.sec.go │\n",
       "│            ┆        ┆            ┆           ┆   ┆           ┆           ┆ v/Archive ┆ v/Archive │\n",
       "│            ┆        ┆            ┆           ┆   ┆           ┆           ┆ s/e…      ┆ s/e…      │\n",
       "│ 2024-11-03 ┆ AVGO   ┆ USD        ┆ 000173016 ┆ … ┆ -54800000 ┆ 194140000 ┆ https://w ┆ https://w │\n",
       "│            ┆        ┆            ┆ 8         ┆   ┆ 0         ┆ 00        ┆ ww.sec.go ┆ ww.sec.go │\n",
       "│            ┆        ┆            ┆           ┆   ┆           ┆           ┆ v/Archive ┆ v/Archive │\n",
       "│            ┆        ┆            ┆           ┆   ┆           ┆           ┆ s/e…      ┆ s/e…      │\n",
>>>>>>> e7e3c52 (AAPL Institutional Holders Upload)
       "└────────────┴────────┴────────────┴───────────┴───┴───────────┴───────────┴───────────┴───────────┘"
      ]
     },
     "execution_count": 15,
     "metadata": {},
     "output_type": "execute_result"
    }
   ],
   "source": [
    "pl.scan_parquet(f'{output_dir}/company_cash_flow_statement.parquet').head().collect()"
   ]
  }
 ],
 "metadata": {
  "kernelspec": {
   "display_name": ".venv",
   "language": "python",
   "name": "python3"
  },
  "language_info": {
   "codemirror_mode": {
    "name": "ipython",
    "version": 3
   },
   "file_extension": ".py",
   "mimetype": "text/x-python",
   "name": "python",
   "nbconvert_exporter": "python",
   "pygments_lexer": "ipython3",
   "version": "3.12.8"
  }
 },
 "nbformat": 4,
 "nbformat_minor": 2
}
