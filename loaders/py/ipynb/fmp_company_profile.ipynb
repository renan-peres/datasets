{
 "cells": [
  {
   "cell_type": "markdown",
   "metadata": {},
   "source": [
    "## Step 1: Import Libraries"
   ]
  },
  {
   "cell_type": "code",
   "execution_count": 1,
   "metadata": {
    "execution": {
     "iopub.execute_input": "2025-01-28T13:39:06.751374Z",
     "iopub.status.busy": "2025-01-28T13:39:06.751161Z",
     "iopub.status.idle": "2025-01-28T13:39:06.798061Z",
     "shell.execute_reply": "2025-01-28T13:39:06.797266Z"
    }
   },
   "outputs": [],
   "source": [
    "%run ../make_clean_names.py"
   ]
  },
  {
   "cell_type": "code",
   "execution_count": 2,
   "metadata": {
    "execution": {
     "iopub.execute_input": "2025-01-28T13:39:06.800720Z",
     "iopub.status.busy": "2025-01-28T13:39:06.800229Z",
     "iopub.status.idle": "2025-01-28T13:39:06.849684Z",
     "shell.execute_reply": "2025-01-28T13:39:06.849004Z"
    }
   },
   "outputs": [],
   "source": [
    "import concurrent.futures\n",
    "from concurrent.futures import ThreadPoolExecutor\n",
    "import requests\n",
    "from requests.adapters import HTTPAdapter\n",
    "from urllib3.util.retry import Retry\n",
    "import logging\n",
    "\n",
    "import polars as pl\n",
    "from datetime import datetime, timedelta\n",
    "from dotenv import load_dotenv\n",
    "import os\n",
    "\n",
    "# Load environment variables\n",
    "load_dotenv()\n",
    "\n",
    "logging.basicConfig(level=logging.INFO)\n",
    "logger = logging.getLogger(__name__)\n",
    "\n",
    "def create_session():\n",
    "    session = requests.Session()\n",
    "    retries = Retry(\n",
    "        total=3,\n",
    "        backoff_factor=1,\n",
    "        status_forcelist=[429, 500, 502, 503, 504]\n",
    "    )\n",
    "    session.mount('https://', HTTPAdapter(max_retries=retries, pool_maxsize=10))\n",
    "    return session\n",
    "\n",
    "# Get API key from environment variables\n",
    "FMP_API_KEY = os.getenv('FMP_API_KEY')\n",
    "if not FMP_API_KEY:\n",
    "    raise ValueError(\"FMP_API_KEY not found in environment variables\")"
   ]
  },
  {
   "cell_type": "markdown",
   "metadata": {},
   "source": [
    "## Step 2: Import Symbols"
   ]
  },
  {
   "cell_type": "code",
   "execution_count": 3,
   "metadata": {
    "execution": {
     "iopub.execute_input": "2025-01-28T13:39:06.852704Z",
     "iopub.status.busy": "2025-01-28T13:39:06.852402Z",
     "iopub.status.idle": "2025-01-28T13:39:06.858545Z",
     "shell.execute_reply": "2025-01-28T13:39:06.857533Z"
    }
   },
   "outputs": [
    {
     "name": "stdout",
     "output_type": "stream",
     "text": [
      "Loaded 61 symbols from ../tickers.txt\n",
      "Symbols: ['AAPL', 'MSFT', 'GOOGL', 'GOOG', 'META', 'NVDA', 'AVGO', 'ORCL', 'CRM', 'ACN', 'ADBE', 'CSCO', 'INTC', 'NFLX', 'DIS', 'CMCSA', 'VZ', 'T', 'AMZN', 'TSLA', 'HD', 'MCD', 'NKE', 'SBUX', 'TGT', 'LOW', 'WMT', 'PG', 'KO', 'PEP', 'COST', 'BRK-B', 'JPM', 'BAC', 'WFC', 'GS', 'MS', 'BLK', 'UNH', 'JNJ', 'PFE', 'ABBV', 'MRK', 'LLY', 'CAT', 'BA', 'HON', 'UPS', 'RTX', 'GE', 'XOM', 'CVX', 'COP', 'SLB', 'LIN', 'APD', 'ECL', 'PLD', 'AMT', 'CCI', 'OSW']\n"
     ]
    }
   ],
   "source": [
    "def load_symbols(file_path: str) -> List[str]:\n",
    "    \"\"\"Load symbols from a text file\"\"\"\n",
    "    try:\n",
    "        with open(file_path, 'r') as f:\n",
    "            symbols = [line.strip() for line in f if line.strip()]\n",
    "        print(f\"Loaded {len(symbols)} symbols from {file_path}\")\n",
    "        return symbols\n",
    "    except Exception as e:\n",
    "        print(f\"Error loading symbols: {str(e)}\")\n",
    "        return []\n",
    "\n",
    "symbols_file = '../tickers.txt'\n",
    "symbols = load_symbols(symbols_file)\n",
    "\n",
    "if symbols:\n",
    "    print(\"Symbols:\", symbols)\n",
    "else:\n",
    "    print(\"No symbols loaded.\")"
   ]
  },
  {
   "cell_type": "markdown",
   "metadata": {},
   "source": [
    "## Step 3: Extract Data from FMP into Polars"
   ]
  },
  {
   "cell_type": "code",
   "execution_count": 4,
   "metadata": {
    "execution": {
     "iopub.execute_input": "2025-01-28T13:39:06.882079Z",
     "iopub.status.busy": "2025-01-28T13:39:06.881890Z",
     "iopub.status.idle": "2025-01-28T13:39:09.771576Z",
     "shell.execute_reply": "2025-01-28T13:39:09.770354Z"
    }
   },
   "outputs": [],
   "source": [
    "def fetch_company_profile(symbol: str, api_key: str, session: requests.Session) -> Dict:\n",
    "    \"\"\"Fetch company profile data from FMP API\"\"\"\n",
    "    url = f\"https://financialmodelingprep.com/api/v3/profile/{symbol}\"\n",
    "    params = {\"apikey\": api_key}\n",
    "    \n",
    "    try:\n",
    "        response = session.get(url, params=params, timeout=10)\n",
    "        response.raise_for_status()\n",
    "        return response.json()\n",
    "    except Exception as e:\n",
    "        logger.error(f\"Error fetching {symbol}: {str(e)}\")\n",
    "        return None\n",
    "\n",
    "def fetch_all_profiles(symbols: List[str], api_key: str) -> List[Dict]:\n",
    "    session = create_session()\n",
    "    \n",
    "    with ThreadPoolExecutor(max_workers=10) as executor:\n",
    "        futures = [\n",
    "            executor.submit(fetch_company_profile, symbol, api_key, session)\n",
    "            for symbol in symbols\n",
    "        ]\n",
    "        results = [\n",
    "            f.result() for f in concurrent.futures.as_completed(futures)\n",
    "        ]\n",
    "    \n",
    "    return [r[0] for r in results if r and isinstance(r, list)]\n",
    "\n",
    "# Execute fetching\n",
    "company_profiles = fetch_all_profiles(symbols, FMP_API_KEY)\n",
    "\n",
    "# Convert to Polars DataFrame more efficiently\n",
    "if company_profiles:\n",
    "    df = pl.DataFrame(company_profiles)"
   ]
  },
  {
   "cell_type": "markdown",
   "metadata": {},
   "source": [
    "## Step 4: Clean Column Names"
   ]
  },
  {
   "cell_type": "code",
   "execution_count": 5,
   "metadata": {
    "execution": {
     "iopub.execute_input": "2025-01-28T13:39:09.773328Z",
     "iopub.status.busy": "2025-01-28T13:39:09.773158Z",
     "iopub.status.idle": "2025-01-28T13:39:09.777100Z",
     "shell.execute_reply": "2025-01-28T13:39:09.776556Z"
    }
   },
   "outputs": [],
   "source": [
    "df = make_clean_names(df)"
   ]
  },
  {
   "cell_type": "markdown",
   "metadata": {},
   "source": [
    "## Step 5: Write Polars to Parquet"
   ]
  },
  {
   "cell_type": "code",
   "execution_count": 6,
   "metadata": {
    "execution": {
     "iopub.execute_input": "2025-01-28T13:39:09.779137Z",
     "iopub.status.busy": "2025-01-28T13:39:09.778777Z",
     "iopub.status.idle": "2025-01-28T13:39:09.806113Z",
     "shell.execute_reply": "2025-01-28T13:39:09.805521Z"
    }
   },
   "outputs": [],
   "source": [
    "output_dir = \"../../../data/finance\"\n",
    "\n",
    "# Write DataFrame to Parquet\n",
    "df.write_parquet(f'{output_dir}/company_profile.parquet')"
   ]
  },
  {
   "cell_type": "markdown",
   "metadata": {},
   "source": [
    "## Step 6: Read Parquet (Validate)"
   ]
  },
  {
   "cell_type": "code",
   "execution_count": 7,
   "metadata": {
    "execution": {
     "iopub.execute_input": "2025-01-28T13:39:09.808557Z",
     "iopub.status.busy": "2025-01-28T13:39:09.808049Z",
     "iopub.status.idle": "2025-01-28T13:39:09.817662Z",
     "shell.execute_reply": "2025-01-28T13:39:09.817020Z"
    }
   },
   "outputs": [
    {
     "data": {
      "text/html": [
       "<div><style>\n",
       ".dataframe > thead > tr,\n",
       ".dataframe > tbody > tr {\n",
       "  text-align: right;\n",
       "  white-space: pre-wrap;\n",
       "}\n",
       "</style>\n",
       "<small>shape: (5, 36)</small><table border=\"1\" class=\"dataframe\"><thead><tr><th>symbol</th><th>price</th><th>beta</th><th>vol_avg</th><th>mkt_cap</th><th>last_div</th><th>range</th><th>changes</th><th>company_name</th><th>currency</th><th>cik</th><th>isin</th><th>cusip</th><th>exchange</th><th>exchange_short_name</th><th>industry</th><th>website</th><th>description</th><th>ceo</th><th>sector</th><th>country</th><th>full_time_employees</th><th>phone</th><th>address</th><th>city</th><th>state</th><th>zip</th><th>dcf_diff</th><th>dcf</th><th>image</th><th>ipo_date</th><th>default_image</th><th>is_etf</th><th>is_actively_trading</th><th>is_adr</th><th>is_fund</th></tr><tr><td>str</td><td>f64</td><td>f64</td><td>i64</td><td>i64</td><td>f64</td><td>str</td><td>f64</td><td>str</td><td>str</td><td>str</td><td>str</td><td>str</td><td>str</td><td>str</td><td>str</td><td>str</td><td>str</td><td>str</td><td>str</td><td>str</td><td>str</td><td>str</td><td>str</td><td>str</td><td>str</td><td>str</td><td>f64</td><td>f64</td><td>str</td><td>str</td><td>bool</td><td>bool</td><td>bool</td><td>bool</td><td>bool</td></tr></thead><tbody><tr><td>&quot;CRM&quot;</td><td>347.1</td><td>1.288</td><td>6294298</td><td>332174700000</td><td>1.6</td><td>&quot;212.0-369.0&quot;</td><td>13.22</td><td>&quot;Salesforce, Inc.&quot;</td><td>&quot;USD&quot;</td><td>&quot;0001108524&quot;</td><td>&quot;US79466L3024&quot;</td><td>&quot;79466L302&quot;</td><td>&quot;New York Stock Exchange&quot;</td><td>&quot;NYSE&quot;</td><td>&quot;Software - Application&quot;</td><td>&quot;https://www.salesforce.com&quot;</td><td>&quot;Salesforce, Inc. provides cust…</td><td>&quot;Mr. Marc R. Benioff&quot;</td><td>&quot;Technology&quot;</td><td>&quot;US&quot;</td><td>&quot;72682&quot;</td><td>&quot;415 901 7000&quot;</td><td>&quot;Salesforce Tower&quot;</td><td>&quot;San Francisco&quot;</td><td>&quot;CA&quot;</td><td>&quot;94105&quot;</td><td>157.01406</td><td>190.085943</td><td>&quot;https://images.financialmodeli…</td><td>&quot;2004-06-23&quot;</td><td>false</td><td>false</td><td>true</td><td>false</td><td>false</td></tr><tr><td>&quot;META&quot;</td><td>659.88</td><td>1.215</td><td>12988028</td><td>1665859413970</td><td>2.0</td><td>&quot;387.1-663.87&quot;</td><td>12.39</td><td>&quot;Meta Platforms, Inc.&quot;</td><td>&quot;USD&quot;</td><td>&quot;0001326801&quot;</td><td>&quot;US30303M1027&quot;</td><td>&quot;30303M102&quot;</td><td>&quot;NASDAQ Global Select&quot;</td><td>&quot;NASDAQ&quot;</td><td>&quot;Internet Content &amp; Information&quot;</td><td>&quot;https://investor.fb.com&quot;</td><td>&quot;Meta Platforms, Inc. engages i…</td><td>&quot;Mr. Mark Elliot Zuckerberg&quot;</td><td>&quot;Communication Services&quot;</td><td>&quot;US&quot;</td><td>&quot;72404&quot;</td><td>&quot;650 543 4800&quot;</td><td>&quot;1601 Willow Road&quot;</td><td>&quot;Menlo Park&quot;</td><td>&quot;CA&quot;</td><td>&quot;94025&quot;</td><td>204.425</td><td>455.455004</td><td>&quot;https://images.financialmodeli…</td><td>&quot;2012-05-18&quot;</td><td>false</td><td>false</td><td>true</td><td>false</td><td>false</td></tr><tr><td>&quot;ORCL&quot;</td><td>158.28</td><td>1.013</td><td>9641288</td><td>442702828800</td><td>1.6</td><td>&quot;106.51-198.31&quot;</td><td>-25.32</td><td>&quot;Oracle Corporation&quot;</td><td>&quot;USD&quot;</td><td>&quot;0001341439&quot;</td><td>&quot;US68389X1054&quot;</td><td>&quot;68389X105&quot;</td><td>&quot;New York Stock Exchange&quot;</td><td>&quot;NYSE&quot;</td><td>&quot;Software - Infrastructure&quot;</td><td>&quot;https://www.oracle.com&quot;</td><td>&quot;Oracle Corporation offers prod…</td><td>&quot;Ms. Safra Ada Catz&quot;</td><td>&quot;Technology&quot;</td><td>&quot;US&quot;</td><td>&quot;159000&quot;</td><td>&quot;737 867 1000&quot;</td><td>&quot;2300 Oracle Way&quot;</td><td>&quot;Austin&quot;</td><td>&quot;TX&quot;</td><td>&quot;78741&quot;</td><td>60.74207</td><td>97.537934</td><td>&quot;https://images.financialmodeli…</td><td>&quot;1986-03-12&quot;</td><td>false</td><td>false</td><td>true</td><td>false</td><td>false</td></tr><tr><td>&quot;AAPL&quot;</td><td>229.86</td><td>1.24</td><td>48200638</td><td>3456611694000</td><td>0.99</td><td>&quot;164.08-260.1&quot;</td><td>7.08</td><td>&quot;Apple Inc.&quot;</td><td>&quot;USD&quot;</td><td>&quot;0000320193&quot;</td><td>&quot;US0378331005&quot;</td><td>&quot;037833100&quot;</td><td>&quot;NASDAQ Global Select&quot;</td><td>&quot;NASDAQ&quot;</td><td>&quot;Consumer Electronics&quot;</td><td>&quot;https://www.apple.com&quot;</td><td>&quot;Apple Inc. designs, manufactur…</td><td>&quot;Mr. Timothy D. Cook&quot;</td><td>&quot;Technology&quot;</td><td>&quot;US&quot;</td><td>&quot;164000&quot;</td><td>&quot;(408) 996-1010&quot;</td><td>&quot;One Apple Park Way&quot;</td><td>&quot;Cupertino&quot;</td><td>&quot;CA&quot;</td><td>&quot;95014&quot;</td><td>81.77363</td><td>148.086367</td><td>&quot;https://images.financialmodeli…</td><td>&quot;1980-12-12&quot;</td><td>false</td><td>false</td><td>true</td><td>false</td><td>false</td></tr><tr><td>&quot;NVDA&quot;</td><td>118.42</td><td>1.657</td><td>211726086</td><td>2900105800000</td><td>0.04</td><td>&quot;60.7-153.13&quot;</td><td>-24.2</td><td>&quot;NVIDIA Corporation&quot;</td><td>&quot;USD&quot;</td><td>&quot;0001045810&quot;</td><td>&quot;US67066G1040&quot;</td><td>&quot;67066G104&quot;</td><td>&quot;NASDAQ Global Select&quot;</td><td>&quot;NASDAQ&quot;</td><td>&quot;Semiconductors&quot;</td><td>&quot;https://www.nvidia.com&quot;</td><td>&quot;NVIDIA Corporation provides gr…</td><td>&quot;Mr. Jen-Hsun&nbsp;&nbsp;Huang&quot;</td><td>&quot;Technology&quot;</td><td>&quot;US&quot;</td><td>&quot;29600&quot;</td><td>&quot;408 486 2000&quot;</td><td>&quot;2788 San Tomas Expressway&quot;</td><td>&quot;Santa Clara&quot;</td><td>&quot;CA&quot;</td><td>&quot;95051&quot;</td><td>60.63257</td><td>57.787425</td><td>&quot;https://images.financialmodeli…</td><td>&quot;1999-01-22&quot;</td><td>false</td><td>false</td><td>true</td><td>false</td><td>false</td></tr></tbody></table></div>"
      ],
      "text/plain": [
       "shape: (5, 36)\n",
       "┌────────┬────────┬───────┬───────────┬───┬────────┬─────────────────────┬────────┬─────────┐\n",
       "│ symbol ┆ price  ┆ beta  ┆ vol_avg   ┆ … ┆ is_etf ┆ is_actively_trading ┆ is_adr ┆ is_fund │\n",
       "│ ---    ┆ ---    ┆ ---   ┆ ---       ┆   ┆ ---    ┆ ---                 ┆ ---    ┆ ---     │\n",
       "│ str    ┆ f64    ┆ f64   ┆ i64       ┆   ┆ bool   ┆ bool                ┆ bool   ┆ bool    │\n",
       "╞════════╪════════╪═══════╪═══════════╪═══╪════════╪═════════════════════╪════════╪═════════╡\n",
       "│ CRM    ┆ 347.1  ┆ 1.288 ┆ 6294298   ┆ … ┆ false  ┆ true                ┆ false  ┆ false   │\n",
       "│ META   ┆ 659.88 ┆ 1.215 ┆ 12988028  ┆ … ┆ false  ┆ true                ┆ false  ┆ false   │\n",
       "│ ORCL   ┆ 158.28 ┆ 1.013 ┆ 9641288   ┆ … ┆ false  ┆ true                ┆ false  ┆ false   │\n",
       "│ AAPL   ┆ 229.86 ┆ 1.24  ┆ 48200638  ┆ … ┆ false  ┆ true                ┆ false  ┆ false   │\n",
       "│ NVDA   ┆ 118.42 ┆ 1.657 ┆ 211726086 ┆ … ┆ false  ┆ true                ┆ false  ┆ false   │\n",
       "└────────┴────────┴───────┴───────────┴───┴────────┴─────────────────────┴────────┴─────────┘"
      ]
     },
     "execution_count": 7,
     "metadata": {},
     "output_type": "execute_result"
    }
   ],
   "source": [
    "pl.scan_parquet(f'{output_dir}/company_profile.parquet').head().collect()"
   ]
  }
 ],
 "metadata": {
  "kernelspec": {
   "display_name": ".venv",
   "language": "python",
   "name": "python3"
  },
  "language_info": {
   "codemirror_mode": {
    "name": "ipython",
    "version": 3
   },
   "file_extension": ".py",
   "mimetype": "text/x-python",
   "name": "python",
   "nbconvert_exporter": "python",
   "pygments_lexer": "ipython3",
   "version": "3.12.3"
  }
 },
 "nbformat": 4,
 "nbformat_minor": 2
}
