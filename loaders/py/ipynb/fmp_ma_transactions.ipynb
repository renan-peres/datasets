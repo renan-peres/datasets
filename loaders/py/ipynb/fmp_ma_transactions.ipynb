{
 "cells": [
  {
   "cell_type": "markdown",
   "metadata": {},
   "source": [
    "## Step 1: Import Libraries"
   ]
  },
  {
   "cell_type": "code",
   "execution_count": 1,
   "metadata": {
    "execution": {
     "iopub.execute_input": "2025-01-20T18:12:08.603098Z",
     "iopub.status.busy": "2025-01-20T18:12:08.602633Z",
     "iopub.status.idle": "2025-01-20T18:12:08.643424Z",
     "shell.execute_reply": "2025-01-20T18:12:08.642866Z"
    }
   },
   "outputs": [],
   "source": [
    "%run ../make_clean_names.py"
   ]
  },
  {
   "cell_type": "code",
   "execution_count": 2,
   "metadata": {
    "execution": {
     "iopub.execute_input": "2025-01-20T18:12:08.646419Z",
     "iopub.status.busy": "2025-01-20T18:12:08.645568Z",
     "iopub.status.idle": "2025-01-20T18:12:08.694685Z",
     "shell.execute_reply": "2025-01-20T18:12:08.694035Z"
    }
   },
   "outputs": [],
   "source": [
    "import requests\n",
    "from requests.adapters import HTTPAdapter\n",
    "from urllib3.util.retry import Retry\n",
    "import logging\n",
    "\n",
    "import polars as pl\n",
    "from typing import List, Dict, Any\n",
    "from dotenv import load_dotenv\n",
    "import os\n",
    "\n",
    "# Load environment variables\n",
    "load_dotenv()\n",
    "\n",
    "logging.basicConfig(level=logging.INFO)\n",
    "logger = logging.getLogger(__name__)\n",
    "\n",
    "def create_session():\n",
    "    session = requests.Session()\n",
    "    retries = Retry(\n",
    "        total=3,\n",
    "        backoff_factor=1,\n",
    "        status_forcelist=[429, 500, 502, 503, 504]\n",
    "    )\n",
    "    session.mount('https://', HTTPAdapter(max_retries=retries, pool_maxsize=10))\n",
    "    return session\n",
    "\n",
    "# Get API key from environment variables\n",
    "FMP_API_KEY = os.getenv('FMP_API_KEY')\n",
    "if not FMP_API_KEY:\n",
    "    raise ValueError(\"FMP_API_KEY not found in environment variables\")"
   ]
  },
  {
   "cell_type": "markdown",
   "metadata": {},
   "source": [
    "## Step 2: Extract Data from FMP into Polars"
   ]
  },
  {
   "cell_type": "code",
   "execution_count": 3,
   "metadata": {
    "execution": {
     "iopub.execute_input": "2025-01-20T18:12:08.697366Z",
     "iopub.status.busy": "2025-01-20T18:12:08.697224Z",
     "iopub.status.idle": "2025-01-20T18:12:09.830329Z",
     "shell.execute_reply": "2025-01-20T18:12:09.829622Z"
    }
   },
   "outputs": [
    {
     "name": "stderr",
     "output_type": "stream",
     "text": [
      "INFO:__main__:Fetching page 0\n"
     ]
    },
    {
     "name": "stderr",
     "output_type": "stream",
     "text": [
      "INFO:__main__:Fetching page 1\n"
     ]
    },
    {
     "name": "stderr",
     "output_type": "stream",
     "text": [
      "INFO:__main__:Fetching page 2\n"
     ]
    },
    {
     "name": "stderr",
     "output_type": "stream",
     "text": [
      "INFO:__main__:Fetching page 3\n"
     ]
    },
    {
     "name": "stderr",
     "output_type": "stream",
     "text": [
      "INFO:__main__:Fetching page 4\n"
     ]
    },
    {
     "name": "stderr",
     "output_type": "stream",
     "text": [
      "INFO:__main__:Fetching page 5\n"
     ]
    }
   ],
   "source": [
    "def fetch_ma_data(api_key: str, session: requests.Session, start_page: int = 0, end_page: int = 5) -> List[Dict]:\n",
    "    \"\"\"\n",
    "    Fetch historical M&A data from FMP API with pagination\n",
    "    Args:\n",
    "        api_key: FMP API key\n",
    "        session: requests session\n",
    "        start_page: starting page number (default 0)\n",
    "        end_page: ending page number (default 5)\n",
    "    \"\"\"\n",
    "    all_results = []\n",
    "    url = \"https://financialmodelingprep.com/api/v4/mergers-acquisitions-rss-feed\"\n",
    "    \n",
    "    for page in range(start_page, end_page + 1):\n",
    "        params = {\n",
    "            \"page\": page,\n",
    "            \"apikey\": api_key\n",
    "        }\n",
    "        \n",
    "        try:\n",
    "            logger.info(f\"Fetching page {page}\")\n",
    "            response = session.get(url, params=params, timeout=10)\n",
    "            response.raise_for_status()\n",
    "            page_data = response.json()\n",
    "            all_results.extend(page_data)\n",
    "        except Exception as e:\n",
    "            logger.error(f\"Error fetching page {page}: {str(e)}\")\n",
    "            continue\n",
    "            \n",
    "    return all_results\n",
    "\n",
    "session = create_session()\n",
    "\n",
    "# Fetch data from all pages\n",
    "ma_data = fetch_ma_data(FMP_API_KEY, session)\n",
    "\n",
    "# Convert to Polars DataFrame if data exists\n",
    "if ma_data:\n",
    "    df = pl.DataFrame(ma_data)"
   ]
  },
  {
   "cell_type": "markdown",
   "metadata": {},
   "source": [
    "## Step 3: Clean Column Names"
   ]
  },
  {
   "cell_type": "code",
   "execution_count": 4,
   "metadata": {
    "execution": {
     "iopub.execute_input": "2025-01-20T18:12:09.832362Z",
     "iopub.status.busy": "2025-01-20T18:12:09.832228Z",
     "iopub.status.idle": "2025-01-20T18:12:09.836436Z",
     "shell.execute_reply": "2025-01-20T18:12:09.835664Z"
    }
   },
   "outputs": [],
   "source": [
    "df = make_clean_names(df)"
   ]
  },
  {
   "cell_type": "markdown",
   "metadata": {},
   "source": [
    "## Step 4: Write Polars to Parquet"
   ]
  },
  {
   "cell_type": "code",
   "execution_count": 5,
   "metadata": {
    "execution": {
     "iopub.execute_input": "2025-01-20T18:12:09.838531Z",
     "iopub.status.busy": "2025-01-20T18:12:09.838409Z",
     "iopub.status.idle": "2025-01-20T18:12:09.858647Z",
     "shell.execute_reply": "2025-01-20T18:12:09.857962Z"
    }
   },
   "outputs": [],
   "source": [
    "# Define the output directory\n",
    "output_dir = \"../../../data/finance\"\n",
    "\n",
    "# Write the processed DataFrame to a Parquet file\n",
    "df.write_parquet(f'{output_dir}/historical_ma_transactions.parquet')"
   ]
  },
  {
   "cell_type": "markdown",
   "metadata": {},
   "source": [
    "## Step 5: Read Parquet (Validate)"
   ]
  },
  {
   "cell_type": "code",
   "execution_count": 6,
   "metadata": {
    "execution": {
     "iopub.execute_input": "2025-01-20T18:12:09.861286Z",
     "iopub.status.busy": "2025-01-20T18:12:09.860838Z",
     "iopub.status.idle": "2025-01-20T18:12:09.867955Z",
     "shell.execute_reply": "2025-01-20T18:12:09.867456Z"
    }
   },
   "outputs": [
    {
     "data": {
      "text/html": [
       "<div><style>\n",
       ".dataframe > thead > tr,\n",
       ".dataframe > tbody > tr {\n",
       "  text-align: right;\n",
       "  white-space: pre-wrap;\n",
       "}\n",
       "</style>\n",
       "<small>shape: (5, 9)</small><table border=\"1\" class=\"dataframe\"><thead><tr><th>company_name</th><th>cik</th><th>symbol</th><th>targeted_company_name</th><th>targeted_cik</th><th>targeted_symbol</th><th>transaction_date</th><th>acceptance_time</th><th>url</th></tr><tr><td>str</td><td>str</td><td>str</td><td>str</td><td>str</td><td>str</td><td>str</td><td>str</td><td>str</td></tr></thead><tbody><tr><td>&quot;OMNICOM GROUP INC.&quot;</td><td>&quot;0000029989&quot;</td><td>&quot;OMC&quot;</td><td>&quot;THE INTERPUBLIC GROUP OF COMPA…</td><td>&quot;0000051644&quot;</td><td>&quot;IPG&quot;</td><td>&quot;2025-01-17&quot;</td><td>&quot;2025-01-17 17:28:22&quot;</td><td>&quot;https://www.sec.gov/Archives/e…</td></tr><tr><td>&quot;MID PENN BANCORP INC&quot;</td><td>&quot;0000879635&quot;</td><td>&quot;MPB&quot;</td><td>&quot;WILLIAM PENN BANCORPORATION&quot;</td><td>&quot;0001828376&quot;</td><td>&quot;WMPN&quot;</td><td>&quot;2025-01-17&quot;</td><td>&quot;2025-01-17 16:17:08&quot;</td><td>&quot;https://www.sec.gov/Archives/e…</td></tr><tr><td>&quot;AMCOR PLC&quot;</td><td>&quot;0001748790&quot;</td><td>&quot;AMCCF&quot;</td><td>&quot;AMC ENTERTAINMENT HOLDINGS, IN…</td><td>&quot;0001411579&quot;</td><td>&quot;AMC&quot;</td><td>&quot;2025-01-13&quot;</td><td>&quot;2025-01-13 16:06:00&quot;</td><td>&quot;https://www.sec.gov/Archives/e…</td></tr><tr><td>&quot;AMCOR PLC&quot;</td><td>&quot;0001748790&quot;</td><td>&quot;AMCR&quot;</td><td>&quot;AMC ENTERTAINMENT HOLDINGS, IN…</td><td>&quot;0001411579&quot;</td><td>&quot;AMC&quot;</td><td>&quot;2025-01-13&quot;</td><td>&quot;2025-01-13 16:06:00&quot;</td><td>&quot;https://www.sec.gov/Archives/e…</td></tr><tr><td>&quot;ATLANTIC INTERNATIONAL CORP.&quot;</td><td>&quot;0001605888&quot;</td><td>&quot;ATLN&quot;</td><td>&quot;STAFFING 360 SOLUTIONS, INC.&quot;</td><td>&quot;0001499717&quot;</td><td>&quot;STAF&quot;</td><td>&quot;2024-12-26&quot;</td><td>&quot;2024-12-26 16:13:15&quot;</td><td>&quot;https://www.sec.gov/Archives/e…</td></tr></tbody></table></div>"
      ],
      "text/plain": [
       "shape: (5, 9)\n",
       "┌────────────┬────────────┬────────┬───────────┬───┬───────────┬───────────┬───────────┬───────────┐\n",
       "│ company_na ┆ cik        ┆ symbol ┆ targeted_ ┆ … ┆ targeted_ ┆ transacti ┆ acceptanc ┆ url       │\n",
       "│ me         ┆ ---        ┆ ---    ┆ company_n ┆   ┆ symbol    ┆ on_date   ┆ e_time    ┆ ---       │\n",
       "│ ---        ┆ str        ┆ str    ┆ ame       ┆   ┆ ---       ┆ ---       ┆ ---       ┆ str       │\n",
       "│ str        ┆            ┆        ┆ ---       ┆   ┆ str       ┆ str       ┆ str       ┆           │\n",
       "│            ┆            ┆        ┆ str       ┆   ┆           ┆           ┆           ┆           │\n",
       "╞════════════╪════════════╪════════╪═══════════╪═══╪═══════════╪═══════════╪═══════════╪═══════════╡\n",
       "│ OMNICOM    ┆ 0000029989 ┆ OMC    ┆ THE INTER ┆ … ┆ IPG       ┆ 2025-01-1 ┆ 2025-01-1 ┆ https://w │\n",
       "│ GROUP INC. ┆            ┆        ┆ PUBLIC    ┆   ┆           ┆ 7         ┆ 7         ┆ ww.sec.go │\n",
       "│            ┆            ┆        ┆ GROUP OF  ┆   ┆           ┆           ┆ 17:28:22  ┆ v/Archive │\n",
       "│            ┆            ┆        ┆ COMPA…    ┆   ┆           ┆           ┆           ┆ s/e…      │\n",
       "│ MID PENN   ┆ 0000879635 ┆ MPB    ┆ WILLIAM   ┆ … ┆ WMPN      ┆ 2025-01-1 ┆ 2025-01-1 ┆ https://w │\n",
       "│ BANCORP    ┆            ┆        ┆ PENN BANC ┆   ┆           ┆ 7         ┆ 7         ┆ ww.sec.go │\n",
       "│ INC        ┆            ┆        ┆ ORPORATIO ┆   ┆           ┆           ┆ 16:17:08  ┆ v/Archive │\n",
       "│            ┆            ┆        ┆ N         ┆   ┆           ┆           ┆           ┆ s/e…      │\n",
       "│ AMCOR PLC  ┆ 0001748790 ┆ AMCCF  ┆ AMC ENTER ┆ … ┆ AMC       ┆ 2025-01-1 ┆ 2025-01-1 ┆ https://w │\n",
       "│            ┆            ┆        ┆ TAINMENT  ┆   ┆           ┆ 3         ┆ 3         ┆ ww.sec.go │\n",
       "│            ┆            ┆        ┆ HOLDINGS, ┆   ┆           ┆           ┆ 16:06:00  ┆ v/Archive │\n",
       "│            ┆            ┆        ┆ IN…       ┆   ┆           ┆           ┆           ┆ s/e…      │\n",
       "│ AMCOR PLC  ┆ 0001748790 ┆ AMCR   ┆ AMC ENTER ┆ … ┆ AMC       ┆ 2025-01-1 ┆ 2025-01-1 ┆ https://w │\n",
       "│            ┆            ┆        ┆ TAINMENT  ┆   ┆           ┆ 3         ┆ 3         ┆ ww.sec.go │\n",
       "│            ┆            ┆        ┆ HOLDINGS, ┆   ┆           ┆           ┆ 16:06:00  ┆ v/Archive │\n",
       "│            ┆            ┆        ┆ IN…       ┆   ┆           ┆           ┆           ┆ s/e…      │\n",
       "│ ATLANTIC   ┆ 0001605888 ┆ ATLN   ┆ STAFFING  ┆ … ┆ STAF      ┆ 2024-12-2 ┆ 2024-12-2 ┆ https://w │\n",
       "│ INTERNATIO ┆            ┆        ┆ 360 SOLUT ┆   ┆           ┆ 6         ┆ 6         ┆ ww.sec.go │\n",
       "│ NAL CORP.  ┆            ┆        ┆ IONS,     ┆   ┆           ┆           ┆ 16:13:15  ┆ v/Archive │\n",
       "│            ┆            ┆        ┆ INC.      ┆   ┆           ┆           ┆           ┆ s/e…      │\n",
       "└────────────┴────────────┴────────┴───────────┴───┴───────────┴───────────┴───────────┴───────────┘"
      ]
     },
     "execution_count": 6,
     "metadata": {},
     "output_type": "execute_result"
    }
   ],
   "source": [
    "# Validate the output by reading the Parquet file and displaying the first few rows\n",
    "pl.scan_parquet(f'{output_dir}/historical_ma_transactions.parquet').head().collect()"
   ]
  }
 ],
 "metadata": {
  "kernelspec": {
   "display_name": ".venv",
   "language": "python",
   "name": "python3"
  },
  "language_info": {
   "codemirror_mode": {
    "name": "ipython",
    "version": 3
   },
   "file_extension": ".py",
   "mimetype": "text/x-python",
   "name": "python",
   "nbconvert_exporter": "python",
   "pygments_lexer": "ipython3",
   "version": "3.12.3"
  }
 },
 "nbformat": 4,
 "nbformat_minor": 2
}
