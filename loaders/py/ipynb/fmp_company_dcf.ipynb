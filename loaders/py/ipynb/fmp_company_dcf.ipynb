{
 "cells": [
  {
   "cell_type": "markdown",
   "metadata": {},
   "source": [
    "## Step 1: Import Libraries"
   ]
  },
  {
   "cell_type": "code",
   "execution_count": 1,
   "metadata": {
    "execution": {
     "iopub.execute_input": "2025-01-06T10:05:12.688748Z",
     "iopub.status.busy": "2025-01-06T10:05:12.688216Z",
     "iopub.status.idle": "2025-01-06T10:05:12.751130Z",
     "shell.execute_reply": "2025-01-06T10:05:12.750613Z"
    }
   },
   "outputs": [],
   "source": [
    "%run ../make_clean_names.py"
   ]
  },
  {
   "cell_type": "code",
   "execution_count": 2,
   "metadata": {
    "execution": {
     "iopub.execute_input": "2025-01-06T10:05:12.752980Z",
     "iopub.status.busy": "2025-01-06T10:05:12.752816Z",
     "iopub.status.idle": "2025-01-06T10:05:12.817881Z",
     "shell.execute_reply": "2025-01-06T10:05:12.817305Z"
    }
   },
   "outputs": [],
   "source": [
    "import concurrent.futures\n",
    "from concurrent.futures import ThreadPoolExecutor\n",
    "import requests\n",
    "from requests.adapters import HTTPAdapter\n",
    "from urllib3.util.retry import Retry\n",
    "import logging\n",
    "\n",
    "import polars as pl\n",
    "from datetime import datetime, timedelta\n",
    "from dotenv import load_dotenv\n",
    "import os\n",
    "\n",
    "# Load environment variables\n",
    "load_dotenv()\n",
    "\n",
    "logging.basicConfig(level=logging.INFO)\n",
    "logger = logging.getLogger(__name__)\n",
    "\n",
    "def create_session():\n",
    "    session = requests.Session()\n",
    "    retries = Retry(\n",
    "        total=3,\n",
    "        backoff_factor=1,\n",
    "        status_forcelist=[429, 500, 502, 503, 504]\n",
    "    )\n",
    "    session.mount('https://', HTTPAdapter(max_retries=retries, pool_maxsize=10))\n",
    "    return session\n",
    "\n",
    "# Get API key from environment variables\n",
    "FMP_API_KEY = os.getenv('FMP_API_KEY')\n",
    "if not FMP_API_KEY:\n",
    "    raise ValueError(\"FMP_API_KEY not found in environment variables\")"
   ]
  },
  {
   "cell_type": "markdown",
   "metadata": {},
   "source": [
    "## Step 2: Import Symbols"
   ]
  },
  {
   "cell_type": "code",
   "execution_count": 3,
   "metadata": {
    "execution": {
     "iopub.execute_input": "2025-01-06T10:05:12.819859Z",
     "iopub.status.busy": "2025-01-06T10:05:12.819674Z",
     "iopub.status.idle": "2025-01-06T10:05:12.824280Z",
     "shell.execute_reply": "2025-01-06T10:05:12.823767Z"
    }
   },
   "outputs": [
    {
     "name": "stdout",
     "output_type": "stream",
     "text": [
      "Loaded 60 symbols from ../tickers.txt\n",
      "Symbols: ['AAPL', 'MSFT', 'GOOGL', 'GOOG', 'META', 'NVDA', 'AVGO', 'ORCL', 'CRM', 'ACN', 'ADBE', 'CSCO', 'INTC', 'NFLX', 'DIS', 'CMCSA', 'VZ', 'T', 'AMZN', 'TSLA', 'HD', 'MCD', 'NKE', 'SBUX', 'TGT', 'LOW', 'WMT', 'PG', 'KO', 'PEP', 'COST', 'BRK-B', 'JPM', 'BAC', 'WFC', 'GS', 'MS', 'BLK', 'UNH', 'JNJ', 'PFE', 'ABBV', 'MRK', 'LLY', 'CAT', 'BA', 'HON', 'UPS', 'RTX', 'GE', 'XOM', 'CVX', 'COP', 'SLB', 'LIN', 'APD', 'ECL', 'PLD', 'AMT', 'CCI']\n"
     ]
    }
   ],
   "source": [
    "def load_symbols(file_path: str) -> List[str]:\n",
    "    \"\"\"Load symbols from a text file\"\"\"\n",
    "    try:\n",
    "        with open(file_path, 'r') as f:\n",
    "            symbols = [line.strip() for line in f if line.strip()]\n",
    "        print(f\"Loaded {len(symbols)} symbols from {file_path}\")\n",
    "        return symbols\n",
    "    except Exception as e:\n",
    "        print(f\"Error loading symbols: {str(e)}\")\n",
    "        return []\n",
    "\n",
    "symbols_file = '../tickers.txt'\n",
    "symbols = load_symbols(symbols_file)\n",
    "\n",
    "if symbols:\n",
    "    print(\"Symbols:\", symbols)\n",
    "else:\n",
    "    print(\"No symbols loaded.\")"
   ]
  },
  {
   "cell_type": "markdown",
   "metadata": {},
   "source": [
    "## Step 3: Extract Data from FMP into Polars"
   ]
  },
  {
   "cell_type": "code",
   "execution_count": 4,
   "metadata": {
    "execution": {
     "iopub.execute_input": "2025-01-06T10:05:12.860523Z",
     "iopub.status.busy": "2025-01-06T10:05:12.860034Z",
     "iopub.status.idle": "2025-01-06T10:05:13.645251Z",
     "shell.execute_reply": "2025-01-06T10:05:13.644779Z"
    }
   },
   "outputs": [],
   "source": [
    "def fetch_dcf(symbol: str, api_key: str, session: requests.Session) -> Dict:\n",
    "    \"\"\"Fetch company profile data from FMP API\"\"\"\n",
    "    url = f\"https://financialmodelingprep.com/api/v3/discounted-cash-flow/{symbol}\"\n",
    "    params = {\"apikey\": api_key}\n",
    "    \n",
    "    try:\n",
    "        response = session.get(url, params=params, timeout=10)\n",
    "        response.raise_for_status()\n",
    "        return response.json()\n",
    "    except Exception as e:\n",
    "        logger.error(f\"Error fetching {symbol}: {str(e)}\")\n",
    "        return None\n",
    "\n",
    "def fetch_all_dcf(symbols: List[str], api_key: str) -> List[Dict]:\n",
    "    session = create_session()\n",
    "    \n",
    "    with ThreadPoolExecutor(max_workers=10) as executor:\n",
    "        futures = [\n",
    "            executor.submit(fetch_dcf, symbol, api_key, session)\n",
    "            for symbol in symbols\n",
    "        ]\n",
    "        results = [\n",
    "            f.result() for f in concurrent.futures.as_completed(futures)\n",
    "        ]\n",
    "    \n",
    "    return [r[0] for r in results if r and isinstance(r, list)]\n",
    "\n",
    "# Execute fetching\n",
    "company_profiles = fetch_all_dcf(symbols, FMP_API_KEY)\n",
    "\n",
    "# Convert to Polars DataFrame more efficiently\n",
    "if company_profiles:\n",
    "    df_dcf = pl.DataFrame(company_profiles)"
   ]
  },
  {
   "cell_type": "code",
   "execution_count": 5,
   "metadata": {
    "execution": {
     "iopub.execute_input": "2025-01-06T10:05:13.647450Z",
     "iopub.status.busy": "2025-01-06T10:05:13.647060Z",
     "iopub.status.idle": "2025-01-06T10:05:15.060134Z",
     "shell.execute_reply": "2025-01-06T10:05:15.059540Z"
    }
   },
   "outputs": [],
   "source": [
    "def fetch_dcf_advanced(symbol: str, api_key: str, session: requests.Session) -> Dict:\n",
    "    \"\"\"Fetch company profile data from FMP API\"\"\"\n",
    "    url = f\"https://financialmodelingprep.com/api/v4/advanced_discounted_cash_flow\"\n",
    "    params = {\n",
    "        \"symbol\": symbol,\n",
    "        \"apikey\": api_key}\n",
    "    \n",
    "    try:\n",
    "        response = session.get(url, params=params, timeout=10)\n",
    "        response.raise_for_status()\n",
    "        return response.json()\n",
    "    except Exception as e:\n",
    "        logger.error(f\"Error fetching {symbol}: {str(e)}\")\n",
    "        return None\n",
    "\n",
    "def fetch_all_dcf_advanced(symbols: List[str], api_key: str) -> List[Dict]:\n",
    "    session = create_session()\n",
    "    \n",
    "    with ThreadPoolExecutor(max_workers=10) as executor:\n",
    "        futures = [\n",
    "            executor.submit(fetch_dcf_advanced, symbol, api_key, session)\n",
    "            for symbol in symbols\n",
    "        ]\n",
    "        results = [\n",
    "            f.result() for f in concurrent.futures.as_completed(futures)\n",
    "        ]\n",
    "    \n",
    "    return [r[0] for r in results if r and isinstance(r, list)]\n",
    "\n",
    "# Execute fetching\n",
    "company_profiles = fetch_all_dcf_advanced(symbols, FMP_API_KEY)\n",
    "\n",
    "# Convert to Polars DataFrame more efficiently\n",
    "if company_profiles:\n",
    "    df_dcf_advanced = pl.DataFrame(company_profiles)"
   ]
  },
  {
   "cell_type": "markdown",
   "metadata": {},
   "source": [
    "## Step 4: Clean Column Names"
   ]
  },
  {
   "cell_type": "code",
   "execution_count": 6,
   "metadata": {
    "execution": {
     "iopub.execute_input": "2025-01-06T10:05:15.062379Z",
     "iopub.status.busy": "2025-01-06T10:05:15.062000Z",
     "iopub.status.idle": "2025-01-06T10:05:15.067552Z",
     "shell.execute_reply": "2025-01-06T10:05:15.067088Z"
    }
   },
   "outputs": [],
   "source": [
    "df = df_dcf.join(df_dcf_advanced, on=\"symbol\", how=\"left\")"
   ]
  },
  {
   "cell_type": "code",
   "execution_count": 7,
   "metadata": {
    "execution": {
     "iopub.execute_input": "2025-01-06T10:05:15.069457Z",
     "iopub.status.busy": "2025-01-06T10:05:15.069101Z",
     "iopub.status.idle": "2025-01-06T10:05:15.073273Z",
     "shell.execute_reply": "2025-01-06T10:05:15.072803Z"
    }
   },
   "outputs": [],
   "source": [
    "df = make_clean_names(df)"
   ]
  },
  {
   "cell_type": "markdown",
   "metadata": {},
   "source": [
    "## Step 5: Write Polars to Parquet"
   ]
  },
  {
   "cell_type": "code",
   "execution_count": 8,
   "metadata": {
    "execution": {
     "iopub.execute_input": "2025-01-06T10:05:15.075074Z",
     "iopub.status.busy": "2025-01-06T10:05:15.074758Z",
     "iopub.status.idle": "2025-01-06T10:05:15.079689Z",
     "shell.execute_reply": "2025-01-06T10:05:15.079273Z"
    }
   },
   "outputs": [],
   "source": [
    "output_dir = \"../../../data/finance\"\n",
    "\n",
    "# Write DataFrame to Parquet\n",
    "df.write_parquet(f'{output_dir}/company_dfc_advanced.parquet')"
   ]
  },
  {
   "cell_type": "markdown",
   "metadata": {},
   "source": [
    "## Step 6: Read Parquet (Validate)"
   ]
  },
  {
   "cell_type": "code",
   "execution_count": 9,
   "metadata": {
    "execution": {
     "iopub.execute_input": "2025-01-06T10:05:15.081496Z",
     "iopub.status.busy": "2025-01-06T10:05:15.081127Z",
     "iopub.status.idle": "2025-01-06T10:05:15.089800Z",
     "shell.execute_reply": "2025-01-06T10:05:15.089278Z"
    }
   },
   "outputs": [
    {
     "data": {
      "text/html": [
       "<div><style>\n",
       ".dataframe > thead > tr,\n",
       ".dataframe > tbody > tr {\n",
       "  text-align: right;\n",
       "  white-space: pre-wrap;\n",
       "}\n",
       "</style>\n",
       "<small>shape: (5, 50)</small><table border=\"1\" class=\"dataframe\"><thead><tr><th>symbol</th><th>date</th><th>dcf</th><th>stock_price</th><th>year</th><th>revenue</th><th>revenue_percentage</th><th>ebitda</th><th>ebitda_percentage</th><th>ebit</th><th>ebit_percentage</th><th>depreciation</th><th>depreciation_percentage</th><th>total_cash</th><th>total_cash_percentage</th><th>receivables</th><th>receivables_percentage</th><th>inventories</th><th>inventories_percentage</th><th>payable</th><th>payable_percentage</th><th>capital_expenditure</th><th>capital_expenditure_percentage</th><th>price</th><th>beta</th><th>diluted_shares_outstanding</th><th>costof_debt</th><th>tax_rate</th><th>after_tax_cost_of_debt</th><th>risk_free_rate</th><th>market_risk_premium</th><th>cost_of_equity</th><th>total_debt</th><th>total_equity</th><th>total_capital</th><th>debt_weighting</th><th>equity_weighting</th><th>wacc</th><th>tax_rate_cash</th><th>ebiat</th><th>ufcf</th><th>sum_pv_ufcf</th><th>long_term_growth_rate</th><th>terminal_value</th><th>present_terminal_value</th><th>enterprise_value</th><th>net_debt</th><th>equity_value</th><th>equity_value_per_share</th><th>free_cash_flowt1</th></tr><tr><td>str</td><td>str</td><td>f64</td><td>f64</td><td>str</td><td>i64</td><td>f64</td><td>i64</td><td>f64</td><td>i64</td><td>f64</td><td>i64</td><td>f64</td><td>i64</td><td>f64</td><td>i64</td><td>f64</td><td>f64</td><td>f64</td><td>i64</td><td>f64</td><td>i64</td><td>f64</td><td>f64</td><td>f64</td><td>i64</td><td>f64</td><td>f64</td><td>f64</td><td>f64</td><td>f64</td><td>f64</td><td>i64</td><td>i64</td><td>i64</td><td>f64</td><td>f64</td><td>f64</td><td>i64</td><td>i64</td><td>i64</td><td>i64</td><td>f64</td><td>i64</td><td>i64</td><td>i64</td><td>i64</td><td>i64</td><td>f64</td><td>i64</td></tr></thead><tbody><tr><td>&quot;META&quot;</td><td>&quot;2025-01-06&quot;</td><td>449.297781</td><td>604.63</td><td>&quot;2028&quot;</td><td>313052449124</td><td>18.34</td><td>138686926174</td><td>44.3</td><td>114523353776</td><td>36.58</td><td>24163572398</td><td>7.72</td><td>171414206869</td><td>54.76</td><td>38872999762</td><td>12.42</td><td>0.0</td><td>0.0</td><td>9274005045</td><td>2.96</td><td>-63771558124</td><td>-20.37</td><td>604.63</td><td>1.215</td><td>2629000000</td><td>4.41</td><td>17.56</td><td>3.64</td><td>4.41</td><td>4.72</td><td>10.14</td><td>37234000000</td><td>1589572270000</td><td>1626806270000</td><td>2.29</td><td>97.71</td><td>10.0</td><td>18291174</td><td>93575688865</td><td>49381215107</td><td>131891231800</td><td>4.0</td><td>856643383899</td><td>532027092022</td><td>663918323823</td><td>-4628000000</td><td>668546323823</td><td>254.3</td><td>51356463711</td></tr><tr><td>&quot;AVGO&quot;</td><td>&quot;2025-01-06&quot;</td><td>177.62379</td><td>232.55</td><td>&quot;2029&quot;</td><td>139008851482</td><td>21.93</td><td>72607157198</td><td>52.23</td><td>45906526818</td><td>33.02</td><td>26700630380</td><td>19.21</td><td>47633557276</td><td>34.27</td><td>12076255889</td><td>8.69</td><td>6.5147e9</td><td>4.69</td><td>4743635680</td><td>3.41</td><td>-1988799375</td><td>-1.43</td><td>232.55</td><td>1.187</td><td>4778000000</td><td>5.62</td><td>40.55</td><td>3.34</td><td>4.41</td><td>4.72</td><td>10.01</td><td>67566000000</td><td>1111123900000</td><td>1178689900000</td><td>5.73</td><td>94.27</td><td>9.73</td><td>11050874</td><td>40833454730</td><td>63054429826</td><td>161741327545</td><td>4.0</td><td>1145413176387</td><td>720163796948</td><td>881905124494</td><td>58218000000</td><td>823687124494</td><td>172.39</td><td>65576607019</td></tr><tr><td>&quot;ORCL&quot;</td><td>&quot;2025-01-06&quot;</td><td>93.811188</td><td>166.32</td><td>&quot;2029&quot;</td><td>77979944616</td><td>8.05</td><td>33211898875</td><td>42.59</td><td>26041516507</td><td>33.4</td><td>7170382367</td><td>9.2</td><td>45560506733</td><td>58.43</td><td>10965256666</td><td>14.06</td><td>4.45725995e8</td><td>0.57159</td><td>2095292649</td><td>2.69</td><td>-7841196885</td><td>-10.06</td><td>166.32</td><td>1.013</td><td>2823000000</td><td>4.41</td><td>10.85</td><td>3.93</td><td>4.41</td><td>4.72</td><td>9.19</td><td>94469000000</td><td>469521360000</td><td>563990360000</td><td>16.75</td><td>83.25</td><td>8.32</td><td>9168975</td><td>23653776623</td><td>22289305066</td><td>74671034556</td><td>4.0</td><td>536253310572</td><td>359560229595</td><td>434231264151</td><td>84015000000</td><td>350216264151</td><td>124.06</td><td>23180877269</td></tr><tr><td>&quot;CRM&quot;</td><td>&quot;2025-01-06&quot;</td><td>188.103525</td><td>332.9</td><td>&quot;2029&quot;</td><td>85367530420</td><td>19.62</td><td>15315079034</td><td>17.94</td><td>5131274276</td><td>6.01</td><td>10183804758</td><td>11.93</td><td>38103749554</td><td>44.63</td><td>30144526056</td><td>35.31</td><td>3.7496e9</td><td>4.39</td><td>9582770514</td><td>11.23</td><td>-2469646707</td><td>-2.89</td><td>332.9</td><td>1.288</td><td>984000000</td><td>4.41</td><td>16.44</td><td>3.68</td><td>4.41</td><td>4.72</td><td>10.49</td><td>13562000000</td><td>327573600000</td><td>341135600000</td><td>3.98</td><td>96.02</td><td>10.19</td><td>34565279</td><td>3357635029</td><td>7084413861</td><td>17039941369</td><td>2.0</td><td>88262350857</td><td>54340330908</td><td>71380272278</td><td>5090000000</td><td>66290272278</td><td>67.37</td><td>7226102138</td></tr><tr><td>&quot;AAPL&quot;</td><td>&quot;2025-01-06&quot;</td><td>145.50885</td><td>243.36</td><td>&quot;2029&quot;</td><td>631734147383</td><td>10.07</td><td>203936738085</td><td>32.28</td><td>183897900530</td><td>29.11</td><td>20038837554</td><td>3.17</td><td>120316909203</td><td>19.05</td><td>96053677011</td><td>15.2</td><td>1.0168e10</td><td>1.61</td><td>101845034847</td><td>16.12</td><td>-17288478562</td><td>-2.74</td><td>243.36</td><td>1.24</td><td>15408095000</td><td>4.41</td><td>24.09</td><td>3.35</td><td>4.41</td><td>4.72</td><td>10.26</td><td>106629000000</td><td>3749713999200</td><td>3856342999200</td><td>2.77</td><td>97.23</td><td>10.08</td><td>16549050</td><td>153464546253</td><td>155814583110</td><td>483766389225</td><td>4.0</td><td>2664903692743</td><td>1648632485893</td><td>2132398875119</td><td>76686000000</td><td>2055712875119</td><td>133.42</td><td>162047166435</td></tr></tbody></table></div>"
      ],
      "text/plain": [
       "shape: (5, 50)\n",
       "┌────────┬────────────┬────────────┬───────────┬───┬───────────┬───────────┬───────────┬───────────┐\n",
       "│ symbol ┆ date       ┆ dcf        ┆ stock_pri ┆ … ┆ net_debt  ┆ equity_va ┆ equity_va ┆ free_cash │\n",
       "│ ---    ┆ ---        ┆ ---        ┆ ce        ┆   ┆ ---       ┆ lue       ┆ lue_per_s ┆ _flowt1   │\n",
       "│ str    ┆ str        ┆ f64        ┆ ---       ┆   ┆ i64       ┆ ---       ┆ hare      ┆ ---       │\n",
       "│        ┆            ┆            ┆ f64       ┆   ┆           ┆ i64       ┆ ---       ┆ i64       │\n",
       "│        ┆            ┆            ┆           ┆   ┆           ┆           ┆ f64       ┆           │\n",
       "╞════════╪════════════╪════════════╪═══════════╪═══╪═══════════╪═══════════╪═══════════╪═══════════╡\n",
       "│ META   ┆ 2025-01-06 ┆ 449.297781 ┆ 604.63    ┆ … ┆ -46280000 ┆ 668546323 ┆ 254.3     ┆ 513564637 │\n",
       "│        ┆            ┆            ┆           ┆   ┆ 00        ┆ 823       ┆           ┆ 11        │\n",
       "│ AVGO   ┆ 2025-01-06 ┆ 177.62379  ┆ 232.55    ┆ … ┆ 582180000 ┆ 823687124 ┆ 172.39    ┆ 655766070 │\n",
       "│        ┆            ┆            ┆           ┆   ┆ 00        ┆ 494       ┆           ┆ 19        │\n",
       "│ ORCL   ┆ 2025-01-06 ┆ 93.811188  ┆ 166.32    ┆ … ┆ 840150000 ┆ 350216264 ┆ 124.06    ┆ 231808772 │\n",
       "│        ┆            ┆            ┆           ┆   ┆ 00        ┆ 151       ┆           ┆ 69        │\n",
       "│ CRM    ┆ 2025-01-06 ┆ 188.103525 ┆ 332.9     ┆ … ┆ 509000000 ┆ 662902722 ┆ 67.37     ┆ 722610213 │\n",
       "│        ┆            ┆            ┆           ┆   ┆ 0         ┆ 78        ┆           ┆ 8         │\n",
       "│ AAPL   ┆ 2025-01-06 ┆ 145.50885  ┆ 243.36    ┆ … ┆ 766860000 ┆ 205571287 ┆ 133.42    ┆ 162047166 │\n",
       "│        ┆            ┆            ┆           ┆   ┆ 00        ┆ 5119      ┆           ┆ 435       │\n",
       "└────────┴────────────┴────────────┴───────────┴───┴───────────┴───────────┴───────────┴───────────┘"
      ]
     },
     "execution_count": 9,
     "metadata": {},
     "output_type": "execute_result"
    }
   ],
   "source": [
    "pl.scan_parquet(f'{output_dir}/company_dfc_advanced.parquet').head().collect()"
   ]
  }
 ],
 "metadata": {
  "kernelspec": {
   "display_name": ".venv",
   "language": "python",
   "name": "python3"
  },
  "language_info": {
   "codemirror_mode": {
    "name": "ipython",
    "version": 3
   },
   "file_extension": ".py",
   "mimetype": "text/x-python",
   "name": "python",
   "nbconvert_exporter": "python",
   "pygments_lexer": "ipython3",
   "version": "3.12.8"
  }
 },
 "nbformat": 4,
 "nbformat_minor": 2
}
