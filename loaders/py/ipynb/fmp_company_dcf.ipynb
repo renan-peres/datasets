{
 "cells": [
  {
   "cell_type": "markdown",
   "metadata": {},
   "source": [
    "## Step 1: Import Libraries"
   ]
  },
  {
   "cell_type": "code",
   "execution_count": 1,
   "metadata": {
    "execution": {
     "iopub.execute_input": "2025-01-17T15:12:38.237931Z",
     "iopub.status.busy": "2025-01-17T15:12:38.237752Z",
     "iopub.status.idle": "2025-01-17T15:12:38.305523Z",
     "shell.execute_reply": "2025-01-17T15:12:38.304862Z"
    }
   },
   "outputs": [],
   "source": [
    "%run ../make_clean_names.py"
   ]
  },
  {
   "cell_type": "code",
   "execution_count": 2,
   "metadata": {
    "execution": {
     "iopub.execute_input": "2025-01-17T15:12:38.307603Z",
     "iopub.status.busy": "2025-01-17T15:12:38.307433Z",
     "iopub.status.idle": "2025-01-17T15:12:38.375154Z",
     "shell.execute_reply": "2025-01-17T15:12:38.374571Z"
    }
   },
   "outputs": [],
   "source": [
    "import concurrent.futures\n",
    "from concurrent.futures import ThreadPoolExecutor\n",
    "import requests\n",
    "from requests.adapters import HTTPAdapter\n",
    "from urllib3.util.retry import Retry\n",
    "import logging\n",
    "\n",
    "import polars as pl\n",
    "from datetime import datetime, timedelta\n",
    "from dotenv import load_dotenv\n",
    "import os\n",
    "\n",
    "# Load environment variables\n",
    "load_dotenv()\n",
    "\n",
    "logging.basicConfig(level=logging.INFO)\n",
    "logger = logging.getLogger(__name__)\n",
    "\n",
    "def create_session():\n",
    "    session = requests.Session()\n",
    "    retries = Retry(\n",
    "        total=3,\n",
    "        backoff_factor=1,\n",
    "        status_forcelist=[429, 500, 502, 503, 504]\n",
    "    )\n",
    "    session.mount('https://', HTTPAdapter(max_retries=retries, pool_maxsize=10))\n",
    "    return session\n",
    "\n",
    "# Get API key from environment variables\n",
    "FMP_API_KEY = os.getenv('FMP_API_KEY')\n",
    "if not FMP_API_KEY:\n",
    "    raise ValueError(\"FMP_API_KEY not found in environment variables\")"
   ]
  },
  {
   "cell_type": "markdown",
   "metadata": {},
   "source": [
    "## Step 2: Import Symbols"
   ]
  },
  {
   "cell_type": "code",
   "execution_count": 3,
   "metadata": {
    "execution": {
     "iopub.execute_input": "2025-01-17T15:12:38.377501Z",
     "iopub.status.busy": "2025-01-17T15:12:38.377124Z",
     "iopub.status.idle": "2025-01-17T15:12:38.381858Z",
     "shell.execute_reply": "2025-01-17T15:12:38.381324Z"
    }
   },
   "outputs": [
    {
     "name": "stdout",
     "output_type": "stream",
     "text": [
      "Loaded 60 symbols from ../tickers.txt\n",
      "Symbols: ['AAPL', 'MSFT', 'GOOGL', 'GOOG', 'META', 'NVDA', 'AVGO', 'ORCL', 'CRM', 'ACN', 'ADBE', 'CSCO', 'INTC', 'NFLX', 'DIS', 'CMCSA', 'VZ', 'T', 'AMZN', 'TSLA', 'HD', 'MCD', 'NKE', 'SBUX', 'TGT', 'LOW', 'WMT', 'PG', 'KO', 'PEP', 'COST', 'BRK-B', 'JPM', 'BAC', 'WFC', 'GS', 'MS', 'BLK', 'UNH', 'JNJ', 'PFE', 'ABBV', 'MRK', 'LLY', 'CAT', 'BA', 'HON', 'UPS', 'RTX', 'GE', 'XOM', 'CVX', 'COP', 'SLB', 'LIN', 'APD', 'ECL', 'PLD', 'AMT', 'CCI']\n"
     ]
    }
   ],
   "source": [
    "def load_symbols(file_path: str) -> List[str]:\n",
    "    \"\"\"Load symbols from a text file\"\"\"\n",
    "    try:\n",
    "        with open(file_path, 'r') as f:\n",
    "            symbols = [line.strip() for line in f if line.strip()]\n",
    "        print(f\"Loaded {len(symbols)} symbols from {file_path}\")\n",
    "        return symbols\n",
    "    except Exception as e:\n",
    "        print(f\"Error loading symbols: {str(e)}\")\n",
    "        return []\n",
    "\n",
    "symbols_file = '../tickers.txt'\n",
    "symbols = load_symbols(symbols_file)\n",
    "\n",
    "if symbols:\n",
    "    print(\"Symbols:\", symbols)\n",
    "else:\n",
    "    print(\"No symbols loaded.\")"
   ]
  },
  {
   "cell_type": "markdown",
   "metadata": {},
   "source": [
    "## Step 3: Extract Data from FMP into Polars"
   ]
  },
  {
   "cell_type": "code",
   "execution_count": 4,
   "metadata": {
    "execution": {
     "iopub.execute_input": "2025-01-17T15:12:38.421997Z",
     "iopub.status.busy": "2025-01-17T15:12:38.421553Z",
     "iopub.status.idle": "2025-01-17T15:12:40.872272Z",
     "shell.execute_reply": "2025-01-17T15:12:40.871766Z"
    }
   },
   "outputs": [],
   "source": [
    "def fetch_dcf(symbol: str, api_key: str, session: requests.Session) -> Dict:\n",
    "    \"\"\"Fetch company profile data from FMP API\"\"\"\n",
    "    url = f\"https://financialmodelingprep.com/api/v3/discounted-cash-flow/{symbol}\"\n",
    "    params = {\"apikey\": api_key}\n",
    "    \n",
    "    try:\n",
    "        response = session.get(url, params=params, timeout=10)\n",
    "        response.raise_for_status()\n",
    "        return response.json()\n",
    "    except Exception as e:\n",
    "        logger.error(f\"Error fetching {symbol}: {str(e)}\")\n",
    "        return None\n",
    "\n",
    "def fetch_all_dcf(symbols: List[str], api_key: str) -> List[Dict]:\n",
    "    session = create_session()\n",
    "    \n",
    "    with ThreadPoolExecutor(max_workers=10) as executor:\n",
    "        futures = [\n",
    "            executor.submit(fetch_dcf, symbol, api_key, session)\n",
    "            for symbol in symbols\n",
    "        ]\n",
    "        results = [\n",
    "            f.result() for f in concurrent.futures.as_completed(futures)\n",
    "        ]\n",
    "    \n",
    "    return [r[0] for r in results if r and isinstance(r, list)]\n",
    "\n",
    "# Execute fetching\n",
    "company_profiles = fetch_all_dcf(symbols, FMP_API_KEY)\n",
    "\n",
    "# Convert to Polars DataFrame more efficiently\n",
    "if company_profiles:\n",
    "    df_dcf = pl.DataFrame(company_profiles)"
   ]
  },
  {
   "cell_type": "code",
   "execution_count": 5,
   "metadata": {
    "execution": {
     "iopub.execute_input": "2025-01-17T15:12:40.874715Z",
     "iopub.status.busy": "2025-01-17T15:12:40.874230Z",
     "iopub.status.idle": "2025-01-17T15:12:42.882199Z",
     "shell.execute_reply": "2025-01-17T15:12:42.881587Z"
    }
   },
   "outputs": [],
   "source": [
    "def fetch_dcf_advanced(symbol: str, api_key: str, session: requests.Session) -> Dict:\n",
    "    \"\"\"Fetch company profile data from FMP API\"\"\"\n",
    "    url = f\"https://financialmodelingprep.com/api/v4/advanced_discounted_cash_flow\"\n",
    "    params = {\n",
    "        \"symbol\": symbol,\n",
    "        \"apikey\": api_key}\n",
    "    \n",
    "    try:\n",
    "        response = session.get(url, params=params, timeout=10)\n",
    "        response.raise_for_status()\n",
    "        return response.json()\n",
    "    except Exception as e:\n",
    "        logger.error(f\"Error fetching {symbol}: {str(e)}\")\n",
    "        return None\n",
    "\n",
    "def fetch_all_dcf_advanced(symbols: List[str], api_key: str) -> List[Dict]:\n",
    "    session = create_session()\n",
    "    \n",
    "    with ThreadPoolExecutor(max_workers=10) as executor:\n",
    "        futures = [\n",
    "            executor.submit(fetch_dcf_advanced, symbol, api_key, session)\n",
    "            for symbol in symbols\n",
    "        ]\n",
    "        results = [\n",
    "            f.result() for f in concurrent.futures.as_completed(futures)\n",
    "        ]\n",
    "    \n",
    "    return [r[0] for r in results if r and isinstance(r, list)]\n",
    "\n",
    "# Execute fetching\n",
    "company_profiles = fetch_all_dcf_advanced(symbols, FMP_API_KEY)\n",
    "\n",
    "# Convert to Polars DataFrame more efficiently\n",
    "if company_profiles:\n",
    "    df_dcf_advanced = pl.DataFrame(company_profiles)"
   ]
  },
  {
   "cell_type": "markdown",
   "metadata": {},
   "source": [
    "## Step 4: Clean Column Names"
   ]
  },
  {
   "cell_type": "code",
   "execution_count": 6,
   "metadata": {
    "execution": {
     "iopub.execute_input": "2025-01-17T15:12:42.884203Z",
     "iopub.status.busy": "2025-01-17T15:12:42.883992Z",
     "iopub.status.idle": "2025-01-17T15:12:42.889414Z",
     "shell.execute_reply": "2025-01-17T15:12:42.888946Z"
    }
   },
   "outputs": [],
   "source": [
    "df = df_dcf.join(df_dcf_advanced, on=\"symbol\", how=\"left\")"
   ]
  },
  {
   "cell_type": "code",
   "execution_count": 7,
   "metadata": {
    "execution": {
     "iopub.execute_input": "2025-01-17T15:12:42.891476Z",
     "iopub.status.busy": "2025-01-17T15:12:42.891010Z",
     "iopub.status.idle": "2025-01-17T15:12:42.895480Z",
     "shell.execute_reply": "2025-01-17T15:12:42.895003Z"
    }
   },
   "outputs": [],
   "source": [
    "df = make_clean_names(df)"
   ]
  },
  {
   "cell_type": "markdown",
   "metadata": {},
   "source": [
    "## Step 5: Write Polars to Parquet"
   ]
  },
  {
   "cell_type": "code",
   "execution_count": 8,
   "metadata": {
    "execution": {
     "iopub.execute_input": "2025-01-17T15:12:42.897253Z",
     "iopub.status.busy": "2025-01-17T15:12:42.897065Z",
     "iopub.status.idle": "2025-01-17T15:12:42.902149Z",
     "shell.execute_reply": "2025-01-17T15:12:42.901686Z"
    }
   },
   "outputs": [],
   "source": [
    "output_dir = \"../../../data/finance\"\n",
    "\n",
    "# Write DataFrame to Parquet\n",
    "df.write_parquet(f'{output_dir}/company_dfc_advanced.parquet')"
   ]
  },
  {
   "cell_type": "markdown",
   "metadata": {},
   "source": [
    "## Step 6: Read Parquet (Validate)"
   ]
  },
  {
   "cell_type": "code",
   "execution_count": 9,
   "metadata": {
    "execution": {
     "iopub.execute_input": "2025-01-17T15:12:42.903800Z",
     "iopub.status.busy": "2025-01-17T15:12:42.903626Z",
     "iopub.status.idle": "2025-01-17T15:12:42.912419Z",
     "shell.execute_reply": "2025-01-17T15:12:42.911929Z"
    }
   },
   "outputs": [
    {
     "data": {
      "text/html": [
       "<div><style>\n",
       ".dataframe > thead > tr,\n",
       ".dataframe > tbody > tr {\n",
       "  text-align: right;\n",
       "  white-space: pre-wrap;\n",
       "}\n",
       "</style>\n",
       "<small>shape: (5, 50)</small><table border=\"1\" class=\"dataframe\"><thead><tr><th>symbol</th><th>date</th><th>dcf</th><th>stock_price</th><th>year</th><th>revenue</th><th>revenue_percentage</th><th>ebitda</th><th>ebitda_percentage</th><th>ebit</th><th>ebit_percentage</th><th>depreciation</th><th>depreciation_percentage</th><th>total_cash</th><th>total_cash_percentage</th><th>receivables</th><th>receivables_percentage</th><th>inventories</th><th>inventories_percentage</th><th>payable</th><th>payable_percentage</th><th>capital_expenditure</th><th>capital_expenditure_percentage</th><th>price</th><th>beta</th><th>diluted_shares_outstanding</th><th>costof_debt</th><th>tax_rate</th><th>after_tax_cost_of_debt</th><th>risk_free_rate</th><th>market_risk_premium</th><th>cost_of_equity</th><th>total_debt</th><th>total_equity</th><th>total_capital</th><th>debt_weighting</th><th>equity_weighting</th><th>wacc</th><th>tax_rate_cash</th><th>ebiat</th><th>ufcf</th><th>sum_pv_ufcf</th><th>long_term_growth_rate</th><th>terminal_value</th><th>present_terminal_value</th><th>enterprise_value</th><th>net_debt</th><th>equity_value</th><th>equity_value_per_share</th><th>free_cash_flowt1</th></tr><tr><td>str</td><td>str</td><td>f64</td><td>f64</td><td>str</td><td>i64</td><td>f64</td><td>i64</td><td>f64</td><td>i64</td><td>f64</td><td>i64</td><td>f64</td><td>i64</td><td>f64</td><td>i64</td><td>f64</td><td>f64</td><td>f64</td><td>i64</td><td>f64</td><td>i64</td><td>f64</td><td>f64</td><td>f64</td><td>i64</td><td>f64</td><td>f64</td><td>f64</td><td>f64</td><td>f64</td><td>f64</td><td>i64</td><td>i64</td><td>i64</td><td>f64</td><td>f64</td><td>f64</td><td>i64</td><td>i64</td><td>i64</td><td>i64</td><td>f64</td><td>i64</td><td>i64</td><td>i64</td><td>i64</td><td>i64</td><td>f64</td><td>i64</td></tr></thead><tbody><tr><td>&quot;GOOG&quot;</td><td>&quot;2025-01-17&quot;</td><td>194.724093</td><td>192.91</td><td>&quot;2028&quot;</td><td>706109768075</td><td>18.1</td><td>240199708049</td><td>34.02</td><td>200287429124</td><td>28.36</td><td>39912278924</td><td>5.65</td><td>394484923413</td><td>55.87</td><td>111949781484</td><td>15.85</td><td>3.4094e9</td><td>0.48284</td><td>18488261260</td><td>2.62</td><td>-81828362399</td><td>-11.59</td><td>194.6</td><td>1.034</td><td>12722000000</td><td>4.39</td><td>13.91</td><td>3.78</td><td>4.39</td><td>4.72</td><td>9.27</td><td>28504000000</td><td>2475701200000</td><td>2504205200000</td><td>1.14</td><td>98.86</td><td>9.21</td><td>15122195</td><td>169999573836</td><td>113239806868</td><td>312059090495</td><td>4.0</td><td>2261590004508</td><td>1455975609433</td><td>1768034699929</td><td>4456000000</td><td>1763578699929</td><td>138.62</td><td>117769399143</td></tr><tr><td>&quot;MSFT&quot;</td><td>&quot;2025-01-17&quot;</td><td>359.266415</td><td>424.58</td><td>&quot;2029&quot;</td><td>482612279172</td><td>14.51</td><td>243343429409</td><td>50.42</td><td>206653972432</td><td>42.82</td><td>36689456977</td><td>7.6</td><td>298328812038</td><td>61.82</td><td>109589014184</td><td>22.71</td><td>6.2437e9</td><td>1.29</td><td>43316742017</td><td>8.98</td><td>-64207442622</td><td>-13.3</td><td>429.13</td><td>0.904</td><td>7469000000</td><td>4.39</td><td>18.23</td><td>3.59</td><td>4.39</td><td>4.72</td><td>8.66</td><td>97852000000</td><td>3205171970000</td><td>3303023970000</td><td>2.96</td><td>97.04</td><td>8.51</td><td>16131522</td><td>173317543200</td><td>136610813702</td><td>408299580366</td><td>4.0</td><td>3150580557556</td><td>2094362696873</td><td>2502662277239</td><td>79537000000</td><td>2423125277239</td><td>324.42</td><td>142075246250</td></tr><tr><td>&quot;ORCL&quot;</td><td>&quot;2025-01-17&quot;</td><td>95.281707</td><td>159.54</td><td>&quot;2029&quot;</td><td>77979944616</td><td>8.05</td><td>33211898875</td><td>42.59</td><td>26041516507</td><td>33.4</td><td>7170382367</td><td>9.2</td><td>45560506733</td><td>58.43</td><td>10965256666</td><td>14.06</td><td>4.45725995e8</td><td>0.57159</td><td>2095292649</td><td>2.69</td><td>-7841196885</td><td>-10.06</td><td>162.0</td><td>1.013</td><td>2823000000</td><td>4.39</td><td>10.85</td><td>3.91</td><td>4.39</td><td>4.72</td><td>9.17</td><td>94469000000</td><td>457326000000</td><td>551795000000</td><td>17.12</td><td>82.88</td><td>8.28</td><td>9168975</td><td>23653776623</td><td>22289305066</td><td>74751690756</td><td>4.0</td><td>541120735920</td><td>363475756968</td><td>438227447725</td><td>84015000000</td><td>354212447725</td><td>125.47</td><td>23180877269</td></tr><tr><td>&quot;AAPL&quot;</td><td>&quot;2025-01-17&quot;</td><td>146.3143</td><td>228.26</td><td>&quot;2029&quot;</td><td>631734147383</td><td>10.07</td><td>203936738085</td><td>32.28</td><td>183897900530</td><td>29.11</td><td>20038837554</td><td>3.17</td><td>120316909203</td><td>19.05</td><td>96053677011</td><td>15.2</td><td>1.0168e10</td><td>1.61</td><td>101845034847</td><td>16.12</td><td>-17288478562</td><td>-2.74</td><td>230.71</td><td>1.24</td><td>15408095000</td><td>4.39</td><td>24.09</td><td>3.33</td><td>4.39</td><td>4.72</td><td>10.24</td><td>106629000000</td><td>3554801597450</td><td>3661430597450</td><td>2.91</td><td>97.09</td><td>10.05</td><td>16549050</td><td>153464546253</td><td>155814583110</td><td>484155845916</td><td>4.0</td><td>2677936143927</td><td>1658923587875</td><td>2143079433791</td><td>76686000000</td><td>2066393433791</td><td>134.11</td><td>162047166435</td></tr><tr><td>&quot;NVDA&quot;</td><td>&quot;2025-01-17&quot;</td><td>57.186829</td><td>133.57</td><td>&quot;2029&quot;</td><td>520683174055</td><td>53.59</td><td>195855645765</td><td>37.62</td><td>172283561763</td><td>33.09</td><td>23572084002</td><td>4.53</td><td>353940947259</td><td>67.98</td><td>80832177311</td><td>15.52</td><td>5.9766e10</td><td>11.48</td><td>29846344169</td><td>5.73</td><td>-24388759055</td><td>-4.68</td><td>137.08</td><td>1.657</td><td>24940000000</td><td>4.39</td><td>12.0</td><td>3.86</td><td>4.39</td><td>4.72</td><td>12.21</td><td>11056000000</td><td>3418775200000</td><td>3429831200000</td><td>0.32235</td><td>99.68</td><td>12.19</td><td>4301152</td><td>164873384699</td><td>125414004138</td><td>207042204724</td><td>4.0</td><td>1593488734827</td><td>896748731305</td><td>1103790936030</td><td>3776000000</td><td>1100014936030</td><td>44.11</td><td>130430564304</td></tr></tbody></table></div>"
      ],
      "text/plain": [
       "shape: (5, 50)\n",
       "┌────────┬────────────┬────────────┬───────────┬───┬───────────┬───────────┬───────────┬───────────┐\n",
       "│ symbol ┆ date       ┆ dcf        ┆ stock_pri ┆ … ┆ net_debt  ┆ equity_va ┆ equity_va ┆ free_cash │\n",
       "│ ---    ┆ ---        ┆ ---        ┆ ce        ┆   ┆ ---       ┆ lue       ┆ lue_per_s ┆ _flowt1   │\n",
       "│ str    ┆ str        ┆ f64        ┆ ---       ┆   ┆ i64       ┆ ---       ┆ hare      ┆ ---       │\n",
       "│        ┆            ┆            ┆ f64       ┆   ┆           ┆ i64       ┆ ---       ┆ i64       │\n",
       "│        ┆            ┆            ┆           ┆   ┆           ┆           ┆ f64       ┆           │\n",
       "╞════════╪════════════╪════════════╪═══════════╪═══╪═══════════╪═══════════╪═══════════╪═══════════╡\n",
       "│ GOOG   ┆ 2025-01-17 ┆ 194.724093 ┆ 192.91    ┆ … ┆ 445600000 ┆ 176357869 ┆ 138.62    ┆ 117769399 │\n",
       "│        ┆            ┆            ┆           ┆   ┆ 0         ┆ 9929      ┆           ┆ 143       │\n",
       "│ MSFT   ┆ 2025-01-17 ┆ 359.266415 ┆ 424.58    ┆ … ┆ 795370000 ┆ 242312527 ┆ 324.42    ┆ 142075246 │\n",
       "│        ┆            ┆            ┆           ┆   ┆ 00        ┆ 7239      ┆           ┆ 250       │\n",
       "│ ORCL   ┆ 2025-01-17 ┆ 95.281707  ┆ 159.54    ┆ … ┆ 840150000 ┆ 354212447 ┆ 125.47    ┆ 231808772 │\n",
       "│        ┆            ┆            ┆           ┆   ┆ 00        ┆ 725       ┆           ┆ 69        │\n",
       "│ AAPL   ┆ 2025-01-17 ┆ 146.3143   ┆ 228.26    ┆ … ┆ 766860000 ┆ 206639343 ┆ 134.11    ┆ 162047166 │\n",
       "│        ┆            ┆            ┆           ┆   ┆ 00        ┆ 3791      ┆           ┆ 435       │\n",
       "│ NVDA   ┆ 2025-01-17 ┆ 57.186829  ┆ 133.57    ┆ … ┆ 377600000 ┆ 110001493 ┆ 44.11     ┆ 130430564 │\n",
       "│        ┆            ┆            ┆           ┆   ┆ 0         ┆ 6030      ┆           ┆ 304       │\n",
       "└────────┴────────────┴────────────┴───────────┴───┴───────────┴───────────┴───────────┴───────────┘"
      ]
     },
     "execution_count": 9,
     "metadata": {},
     "output_type": "execute_result"
    }
   ],
   "source": [
    "pl.scan_parquet(f'{output_dir}/company_dfc_advanced.parquet').head().collect()"
   ]
  }
 ],
 "metadata": {
  "kernelspec": {
   "display_name": ".venv",
   "language": "python",
   "name": "python3"
  },
  "language_info": {
   "codemirror_mode": {
    "name": "ipython",
    "version": 3
   },
   "file_extension": ".py",
   "mimetype": "text/x-python",
   "name": "python",
   "nbconvert_exporter": "python",
   "pygments_lexer": "ipython3",
   "version": "3.12.8"
  }
 },
 "nbformat": 4,
 "nbformat_minor": 2
}
