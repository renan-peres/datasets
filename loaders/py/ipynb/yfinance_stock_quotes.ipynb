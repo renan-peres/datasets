{
 "cells": [
  {
   "cell_type": "markdown",
   "metadata": {},
   "source": [
    "## Step 1: Import Libraries"
   ]
  },
  {
   "cell_type": "code",
   "execution_count": 1,
   "metadata": {
    "execution": {
     "iopub.execute_input": "2025-01-21T10:06:16.603227Z",
     "iopub.status.busy": "2025-01-21T10:06:16.603050Z",
     "iopub.status.idle": "2025-01-21T10:06:17.199405Z",
     "shell.execute_reply": "2025-01-21T10:06:17.198825Z"
    }
   },
   "outputs": [],
   "source": [
    "from datetime import datetime\n",
    "import polars as pl\n",
    "import pandas as pd\n",
    "import pyarrow as pa\n",
    "from typing import List\n",
    "import duckdb\n",
    "import yfinance as yf"
   ]
  },
  {
   "cell_type": "markdown",
   "metadata": {},
   "source": [
    "## Step 2: Import Symbols"
   ]
  },
  {
   "cell_type": "code",
   "execution_count": 2,
   "metadata": {
    "execution": {
     "iopub.execute_input": "2025-01-21T10:06:17.201614Z",
     "iopub.status.busy": "2025-01-21T10:06:17.201362Z",
     "iopub.status.idle": "2025-01-21T10:06:17.206545Z",
     "shell.execute_reply": "2025-01-21T10:06:17.205918Z"
    }
   },
   "outputs": [
    {
     "name": "stdout",
     "output_type": "stream",
     "text": [
      "Loaded 61 symbols from ../tickers.txt\n",
      "Symbols: ['AAPL', 'MSFT', 'GOOGL', 'GOOG', 'META', 'NVDA', 'AVGO', 'ORCL', 'CRM', 'ACN', 'ADBE', 'CSCO', 'INTC', 'NFLX', 'DIS', 'CMCSA', 'VZ', 'T', 'AMZN', 'TSLA', 'HD', 'MCD', 'NKE', 'SBUX', 'TGT', 'LOW', 'WMT', 'PG', 'KO', 'PEP', 'COST', 'BRK-B', 'JPM', 'BAC', 'WFC', 'GS', 'MS', 'BLK', 'UNH', 'JNJ', 'PFE', 'ABBV', 'MRK', 'LLY', 'CAT', 'BA', 'HON', 'UPS', 'RTX', 'GE', 'XOM', 'CVX', 'COP', 'SLB', 'LIN', 'APD', 'ECL', 'PLD', 'AMT', 'CCI', 'OSW']\n"
     ]
    }
   ],
   "source": [
    "def load_symbols(file_path: str) -> List[str]:\n",
    "    \"\"\"Load symbols from a text file\"\"\"\n",
    "    try:\n",
    "        with open(file_path, 'r') as f:\n",
    "            symbols = [line.strip() for line in f if line.strip()]\n",
    "        print(f\"Loaded {len(symbols)} symbols from {file_path}\")\n",
    "        return symbols\n",
    "    except Exception as e:\n",
    "        print(f\"Error loading symbols: {str(e)}\")\n",
    "        return []\n",
    "\n",
    "symbols_file = '../tickers.txt'\n",
    "symbols = load_symbols(symbols_file)\n",
    "\n",
    "if symbols:\n",
    "    print(\"Symbols:\", symbols)\n",
    "else:\n",
    "    print(\"No symbols loaded.\")"
   ]
  },
  {
   "cell_type": "markdown",
   "metadata": {},
   "source": [
    "## Step 3: Extract Data from Yfinance into Pandas"
   ]
  },
  {
   "cell_type": "code",
   "execution_count": 3,
   "metadata": {
    "execution": {
     "iopub.execute_input": "2025-01-21T10:06:17.242599Z",
     "iopub.status.busy": "2025-01-21T10:06:17.242373Z",
     "iopub.status.idle": "2025-01-21T10:06:21.544012Z",
     "shell.execute_reply": "2025-01-21T10:06:21.543478Z"
    }
   },
   "outputs": [
    {
     "name": "stderr",
     "output_type": "stream",
     "text": [
      "\r",
      "[                       0%                       ]"
     ]
    },
    {
     "name": "stderr",
     "output_type": "stream",
     "text": [
      "\r",
      "[*                      3%                       ]  2 of 61 completed"
     ]
    },
    {
     "name": "stderr",
     "output_type": "stream",
     "text": [
      "\r",
      "[**                     5%                       ]  3 of 61 completed"
     ]
    },
    {
     "name": "stderr",
     "output_type": "stream",
     "text": [
      "\r",
      "[***                    7%                       ]  4 of 61 completed"
     ]
    },
    {
     "name": "stderr",
     "output_type": "stream",
     "text": [
      "\r",
      "[****                   8%                       ]  5 of 61 completed"
     ]
    },
    {
     "name": "stderr",
     "output_type": "stream",
     "text": [
      "\r",
      "[*****                 10%                       ]  6 of 61 completed"
     ]
    },
    {
     "name": "stderr",
     "output_type": "stream",
     "text": [
      "\r",
      "[*****                 11%                       ]  7 of 61 completed"
     ]
    },
    {
     "name": "stderr",
     "output_type": "stream",
     "text": [
      "\r",
      "[******                13%                       ]  8 of 61 completed"
     ]
    },
    {
     "name": "stderr",
     "output_type": "stream",
     "text": [
      "\r",
      "[*******               15%                       ]  9 of 61 completed"
     ]
    },
    {
     "name": "stderr",
     "output_type": "stream",
     "text": [
      "\r",
      "[********              16%                       ]  10 of 61 completed"
     ]
    },
    {
     "name": "stderr",
     "output_type": "stream",
     "text": [
      "\r",
      "[*********             18%                       ]  11 of 61 completed"
     ]
    },
    {
     "name": "stderr",
     "output_type": "stream",
     "text": [
      "\r",
      "[**********            20%                       ]  12 of 61 completed"
     ]
    },
    {
     "name": "stderr",
     "output_type": "stream",
     "text": [
      "\r",
      "[**********            21%                       ]  13 of 61 completed"
     ]
    },
    {
     "name": "stderr",
     "output_type": "stream",
     "text": [
      "\r",
      "[***********           23%                       ]  14 of 61 completed"
     ]
    },
    {
     "name": "stderr",
     "output_type": "stream",
     "text": [
      "\r",
      "[************          25%                       ]  15 of 61 completed"
     ]
    },
    {
     "name": "stderr",
     "output_type": "stream",
     "text": [
      "\r",
      "[************          26%                       ]  16 of 61 completed"
     ]
    },
    {
     "name": "stderr",
     "output_type": "stream",
     "text": [
      "\r",
      "[*************         28%                       ]  17 of 61 completed"
     ]
    },
    {
     "name": "stderr",
     "output_type": "stream",
     "text": [
      "\r",
      "[**************        30%                       ]  18 of 61 completed"
     ]
    },
    {
     "name": "stderr",
     "output_type": "stream",
     "text": [
      "\r",
      "[***************       31%                       ]  19 of 61 completed"
     ]
    },
    {
     "name": "stderr",
     "output_type": "stream",
     "text": [
      "\r",
      "[****************      33%                       ]  20 of 61 completed"
     ]
    },
    {
     "name": "stderr",
     "output_type": "stream",
     "text": [
      "\r",
      "[****************      34%                       ]  21 of 61 completed"
     ]
    },
    {
     "name": "stderr",
     "output_type": "stream",
     "text": [
      "\r",
      "[*****************     36%                       ]  22 of 61 completed"
     ]
    },
    {
     "name": "stderr",
     "output_type": "stream",
     "text": [
      "\r",
      "[******************    38%                       ]  23 of 61 completed"
     ]
    },
    {
     "name": "stderr",
     "output_type": "stream",
     "text": [
      "\r",
      "[*******************   39%                       ]  24 of 61 completed"
     ]
    },
    {
     "name": "stderr",
     "output_type": "stream",
     "text": [
      "\r",
      "[********************  41%                       ]  25 of 61 completed"
     ]
    },
    {
     "name": "stderr",
     "output_type": "stream",
     "text": [
      "\r",
      "[********************* 43%                       ]  26 of 61 completed"
     ]
    },
    {
     "name": "stderr",
     "output_type": "stream",
     "text": [
      "\r",
      "[********************* 44%                       ]  27 of 61 completed"
     ]
    },
    {
     "name": "stderr",
     "output_type": "stream",
     "text": [
      "\r",
      "[**********************46%                       ]  28 of 61 completed"
     ]
    },
    {
     "name": "stderr",
     "output_type": "stream",
     "text": [
      "\r",
      "[**********************48%                       ]  29 of 61 completed"
     ]
    },
    {
     "name": "stderr",
     "output_type": "stream",
     "text": [
      "\r",
      "[**********************49%                       ]  30 of 61 completed"
     ]
    },
    {
     "name": "stderr",
     "output_type": "stream",
     "text": [
      "\r",
      "[**********************51%                       ]  31 of 61 completed"
     ]
    },
    {
     "name": "stderr",
     "output_type": "stream",
     "text": [
      "\r",
      "[**********************52%                       ]  32 of 61 completed"
     ]
    },
    {
     "name": "stderr",
     "output_type": "stream",
     "text": [
      "\r",
      "[**********************54%*                      ]  33 of 61 completed"
     ]
    },
    {
     "name": "stderr",
     "output_type": "stream",
     "text": [
      "\r",
      "[**********************56%**                     ]  34 of 61 completed"
     ]
    },
    {
     "name": "stderr",
     "output_type": "stream",
     "text": [
      "\r",
      "[**********************57%**                     ]  35 of 61 completed"
     ]
    },
    {
     "name": "stderr",
     "output_type": "stream",
     "text": [
      "\r",
      "[**********************59%***                    ]  36 of 61 completed"
     ]
    },
    {
     "name": "stderr",
     "output_type": "stream",
     "text": [
      "\r",
      "[**********************61%****                   ]  37 of 61 completed"
     ]
    },
    {
     "name": "stderr",
     "output_type": "stream",
     "text": [
      "\r",
      "[**********************62%*****                  ]  38 of 61 completed"
     ]
    },
    {
     "name": "stderr",
     "output_type": "stream",
     "text": [
      "\r",
      "[**********************64%******                 ]  39 of 61 completed"
     ]
    },
    {
     "name": "stderr",
     "output_type": "stream",
     "text": [
      "\r",
      "[**********************66%*******                ]  40 of 61 completed"
     ]
    },
    {
     "name": "stderr",
     "output_type": "stream",
     "text": [
      "\r",
      "[**********************67%*******                ]  41 of 61 completed"
     ]
    },
    {
     "name": "stderr",
     "output_type": "stream",
     "text": [
      "\r",
      "[**********************69%********               ]  42 of 61 completed"
     ]
    },
    {
     "name": "stderr",
     "output_type": "stream",
     "text": [
      "\r",
      "[**********************70%*********              ]  43 of 61 completed"
     ]
    },
    {
     "name": "stderr",
     "output_type": "stream",
     "text": [
      "\r",
      "[**********************72%**********             ]  44 of 61 completed"
     ]
    },
    {
     "name": "stderr",
     "output_type": "stream",
     "text": [
      "\r",
      "[**********************74%***********            ]  45 of 61 completed"
     ]
    },
    {
     "name": "stderr",
     "output_type": "stream",
     "text": [
      "\r",
      "[**********************75%***********            ]  46 of 61 completed"
     ]
    },
    {
     "name": "stderr",
     "output_type": "stream",
     "text": [
      "\r",
      "[**********************77%************           ]  47 of 61 completed"
     ]
    },
    {
     "name": "stderr",
     "output_type": "stream",
     "text": [
      "\r",
      "[**********************79%*************          ]  48 of 61 completed"
     ]
    },
    {
     "name": "stderr",
     "output_type": "stream",
     "text": [
      "\r",
      "[**********************80%*************          ]  49 of 61 completed"
     ]
    },
    {
     "name": "stderr",
     "output_type": "stream",
     "text": [
      "\r",
      "[**********************82%**************         ]  50 of 61 completed"
     ]
    },
    {
     "name": "stderr",
     "output_type": "stream",
     "text": [
      "\r",
      "[**********************84%***************        ]  51 of 61 completed"
     ]
    },
    {
     "name": "stderr",
     "output_type": "stream",
     "text": [
      "\r",
      "[**********************85%****************       ]  52 of 61 completed"
     ]
    },
    {
     "name": "stderr",
     "output_type": "stream",
     "text": [
      "\r",
      "[**********************87%*****************      ]  53 of 61 completed"
     ]
    },
    {
     "name": "stderr",
     "output_type": "stream",
     "text": [
      "\r",
      "[**********************89%******************     ]  54 of 61 completed"
     ]
    },
    {
     "name": "stderr",
     "output_type": "stream",
     "text": [
      "\r",
      "[**********************90%******************     ]  55 of 61 completed"
     ]
    },
    {
     "name": "stderr",
     "output_type": "stream",
     "text": [
      "\r",
      "[**********************92%*******************    ]  56 of 61 completed"
     ]
    },
    {
     "name": "stderr",
     "output_type": "stream",
     "text": [
      "\r",
      "[**********************93%********************   ]  57 of 61 completed"
     ]
    },
    {
     "name": "stderr",
     "output_type": "stream",
     "text": [
      "\r",
      "[**********************95%*********************  ]  58 of 61 completed"
     ]
    },
    {
     "name": "stderr",
     "output_type": "stream",
     "text": [
      "\r",
      "[**********************97%********************** ]  59 of 61 completed"
     ]
    },
    {
     "name": "stderr",
     "output_type": "stream",
     "text": [
      "\r",
      "[**********************98%********************** ]  60 of 61 completed"
     ]
    },
    {
     "name": "stderr",
     "output_type": "stream",
     "text": [
      "\r",
      "[*********************100%***********************]  61 of 61 completed"
     ]
    },
    {
     "name": "stderr",
     "output_type": "stream",
     "text": [
      "\n"
     ]
    },
    {
     "data": {
      "text/html": [
       "<div>\n",
       "<style scoped>\n",
       "    .dataframe tbody tr th:only-of-type {\n",
       "        vertical-align: middle;\n",
       "    }\n",
       "\n",
       "    .dataframe tbody tr th {\n",
       "        vertical-align: top;\n",
       "    }\n",
       "\n",
       "    .dataframe thead th {\n",
       "        text-align: right;\n",
       "    }\n",
       "</style>\n",
       "<table border=\"1\" class=\"dataframe\">\n",
       "  <thead>\n",
       "    <tr style=\"text-align: right;\">\n",
       "      <th>Metric</th>\n",
       "      <th>Date</th>\n",
       "      <th>Symbol</th>\n",
       "      <th>Close</th>\n",
       "      <th>High</th>\n",
       "      <th>Low</th>\n",
       "      <th>Open</th>\n",
       "      <th>Volume</th>\n",
       "    </tr>\n",
       "  </thead>\n",
       "  <tbody>\n",
       "    <tr>\n",
       "      <th>0</th>\n",
       "      <td>2020-01-02</td>\n",
       "      <td>AAPL</td>\n",
       "      <td>72.796028</td>\n",
       "      <td>72.856621</td>\n",
       "      <td>71.545395</td>\n",
       "      <td>71.799881</td>\n",
       "      <td>135480400.0</td>\n",
       "    </tr>\n",
       "    <tr>\n",
       "      <th>1</th>\n",
       "      <td>2020-01-02</td>\n",
       "      <td>ABBV</td>\n",
       "      <td>71.589783</td>\n",
       "      <td>71.605769</td>\n",
       "      <td>70.758365</td>\n",
       "      <td>71.214045</td>\n",
       "      <td>5639200.0</td>\n",
       "    </tr>\n",
       "    <tr>\n",
       "      <th>2</th>\n",
       "      <td>2020-01-02</td>\n",
       "      <td>ACN</td>\n",
       "      <td>195.263565</td>\n",
       "      <td>196.908187</td>\n",
       "      <td>194.018490</td>\n",
       "      <td>195.923277</td>\n",
       "      <td>2431100.0</td>\n",
       "    </tr>\n",
       "    <tr>\n",
       "      <th>3</th>\n",
       "      <td>2020-01-02</td>\n",
       "      <td>ADBE</td>\n",
       "      <td>334.429993</td>\n",
       "      <td>334.480011</td>\n",
       "      <td>329.170013</td>\n",
       "      <td>330.000000</td>\n",
       "      <td>1990100.0</td>\n",
       "    </tr>\n",
       "    <tr>\n",
       "      <th>4</th>\n",
       "      <td>2020-01-02</td>\n",
       "      <td>AMT</td>\n",
       "      <td>200.433929</td>\n",
       "      <td>202.758431</td>\n",
       "      <td>200.004110</td>\n",
       "      <td>201.468987</td>\n",
       "      <td>1426000.0</td>\n",
       "    </tr>\n",
       "    <tr>\n",
       "      <th>...</th>\n",
       "      <td>...</td>\n",
       "      <td>...</td>\n",
       "      <td>...</td>\n",
       "      <td>...</td>\n",
       "      <td>...</td>\n",
       "      <td>...</td>\n",
       "      <td>...</td>\n",
       "    </tr>\n",
       "    <tr>\n",
       "      <th>77404</th>\n",
       "      <td>2025-01-17</td>\n",
       "      <td>UPS</td>\n",
       "      <td>129.729996</td>\n",
       "      <td>130.580002</td>\n",
       "      <td>129.429993</td>\n",
       "      <td>130.149994</td>\n",
       "      <td>4260300.0</td>\n",
       "    </tr>\n",
       "    <tr>\n",
       "      <th>77405</th>\n",
       "      <td>2025-01-17</td>\n",
       "      <td>VZ</td>\n",
       "      <td>38.779999</td>\n",
       "      <td>38.970001</td>\n",
       "      <td>38.349998</td>\n",
       "      <td>38.419998</td>\n",
       "      <td>23988300.0</td>\n",
       "    </tr>\n",
       "    <tr>\n",
       "      <th>77406</th>\n",
       "      <td>2025-01-17</td>\n",
       "      <td>WFC</td>\n",
       "      <td>77.080002</td>\n",
       "      <td>77.250000</td>\n",
       "      <td>75.500000</td>\n",
       "      <td>75.980003</td>\n",
       "      <td>20610100.0</td>\n",
       "    </tr>\n",
       "    <tr>\n",
       "      <th>77407</th>\n",
       "      <td>2025-01-17</td>\n",
       "      <td>WMT</td>\n",
       "      <td>91.940002</td>\n",
       "      <td>92.260002</td>\n",
       "      <td>91.050003</td>\n",
       "      <td>92.070000</td>\n",
       "      <td>15706100.0</td>\n",
       "    </tr>\n",
       "    <tr>\n",
       "      <th>77408</th>\n",
       "      <td>2025-01-17</td>\n",
       "      <td>XOM</td>\n",
       "      <td>112.320000</td>\n",
       "      <td>112.870003</td>\n",
       "      <td>110.820000</td>\n",
       "      <td>111.029999</td>\n",
       "      <td>19229100.0</td>\n",
       "    </tr>\n",
       "  </tbody>\n",
       "</table>\n",
       "<p>77409 rows × 7 columns</p>\n",
       "</div>"
      ],
      "text/plain": [
       "Metric       Date Symbol       Close        High         Low        Open  \\\n",
       "0      2020-01-02   AAPL   72.796028   72.856621   71.545395   71.799881   \n",
       "1      2020-01-02   ABBV   71.589783   71.605769   70.758365   71.214045   \n",
       "2      2020-01-02    ACN  195.263565  196.908187  194.018490  195.923277   \n",
       "3      2020-01-02   ADBE  334.429993  334.480011  329.170013  330.000000   \n",
       "4      2020-01-02    AMT  200.433929  202.758431  200.004110  201.468987   \n",
       "...           ...    ...         ...         ...         ...         ...   \n",
       "77404  2025-01-17    UPS  129.729996  130.580002  129.429993  130.149994   \n",
       "77405  2025-01-17     VZ   38.779999   38.970001   38.349998   38.419998   \n",
       "77406  2025-01-17    WFC   77.080002   77.250000   75.500000   75.980003   \n",
       "77407  2025-01-17    WMT   91.940002   92.260002   91.050003   92.070000   \n",
       "77408  2025-01-17    XOM  112.320000  112.870003  110.820000  111.029999   \n",
       "\n",
       "Metric       Volume  \n",
       "0       135480400.0  \n",
       "1         5639200.0  \n",
       "2         2431100.0  \n",
       "3         1990100.0  \n",
       "4         1426000.0  \n",
       "...             ...  \n",
       "77404     4260300.0  \n",
       "77405    23988300.0  \n",
       "77406    20610100.0  \n",
       "77407    15706100.0  \n",
       "77408    19229100.0  \n",
       "\n",
       "[77409 rows x 7 columns]"
      ]
     },
     "metadata": {},
     "output_type": "display_data"
    }
   ],
   "source": [
    "start_date = '2020-01-01'\n",
    "end_date = datetime.today().strftime('%Y-%m-%d')\n",
    "\n",
    "# Download prices from yfinance\n",
    "prices = yf.download(symbols, start=start_date, end=end_date, group_by='ticker')\n",
    "\n",
    "# Check if the data has a MultiIndex (due to multiple symbols)\n",
    "if isinstance(prices.columns, pd.MultiIndex):\n",
    "    # Flatten the MultiIndex columns\n",
    "    prices.columns = ['_'.join(filter(None, map(str, col))) for col in prices.columns]\n",
    "\n",
    "# Reset index and melt the DataFrame to include a \"symbol\" column\n",
    "prices = prices.copy()  # Avoid fragmentation issues\n",
    "prices.reset_index(inplace=True)\n",
    "prices = prices.melt(id_vars=[\"Date\"], var_name=\"Metric\", value_name=\"Value\")\n",
    "prices[[\"Symbol\", \"Metric\"]] = prices[\"Metric\"].str.extract(r'([^_]+)_(.+)')\n",
    "prices = prices.pivot(index=[\"Date\", \"Symbol\"], columns=\"Metric\", values=\"Value\").reset_index()\n",
    "\n",
    "display(prices)"
   ]
  },
  {
   "cell_type": "markdown",
   "metadata": {},
   "source": [
    "## Step 4: Convert Pandas to Polars"
   ]
  },
  {
   "cell_type": "code",
   "execution_count": 4,
   "metadata": {
    "execution": {
     "iopub.execute_input": "2025-01-21T10:06:21.546071Z",
     "iopub.status.busy": "2025-01-21T10:06:21.545678Z",
     "iopub.status.idle": "2025-01-21T10:06:21.591707Z",
     "shell.execute_reply": "2025-01-21T10:06:21.591192Z"
    }
   },
   "outputs": [
    {
     "name": "stdout",
     "output_type": "stream",
     "text": [
      "shape: (77_409, 7)\n",
      "┌─────────────────────┬────────┬────────────┬────────────┬────────────┬────────────┬────────────┐\n",
      "│ Date                ┆ Symbol ┆ Close      ┆ High       ┆ Low        ┆ Open       ┆ Volume     │\n",
      "│ ---                 ┆ ---    ┆ ---        ┆ ---        ┆ ---        ┆ ---        ┆ ---        │\n",
      "│ datetime[ns]        ┆ str    ┆ f64        ┆ f64        ┆ f64        ┆ f64        ┆ f64        │\n",
      "╞═════════════════════╪════════╪════════════╪════════════╪════════════╪════════════╪════════════╡\n",
      "│ 2020-01-02 00:00:00 ┆ AAPL   ┆ 72.796028  ┆ 72.856621  ┆ 71.545395  ┆ 71.799881  ┆ 1.354804e8 │\n",
      "│ 2020-01-02 00:00:00 ┆ ABBV   ┆ 71.589783  ┆ 71.605769  ┆ 70.758365  ┆ 71.214045  ┆ 5.6392e6   │\n",
      "│ 2020-01-02 00:00:00 ┆ ACN    ┆ 195.263565 ┆ 196.908187 ┆ 194.01849  ┆ 195.923277 ┆ 2.4311e6   │\n",
      "│ 2020-01-02 00:00:00 ┆ ADBE   ┆ 334.429993 ┆ 334.480011 ┆ 329.170013 ┆ 330.0      ┆ 1.9901e6   │\n",
      "│ 2020-01-02 00:00:00 ┆ AMT    ┆ 200.433929 ┆ 202.758431 ┆ 200.00411  ┆ 201.468987 ┆ 1.426e6    │\n",
      "│ …                   ┆ …      ┆ …          ┆ …          ┆ …          ┆ …          ┆ …          │\n",
      "│ 2025-01-17 00:00:00 ┆ UPS    ┆ 129.729996 ┆ 130.580002 ┆ 129.429993 ┆ 130.149994 ┆ 4.2603e6   │\n",
      "│ 2025-01-17 00:00:00 ┆ VZ     ┆ 38.779999  ┆ 38.970001  ┆ 38.349998  ┆ 38.419998  ┆ 2.39883e7  │\n",
      "│ 2025-01-17 00:00:00 ┆ WFC    ┆ 77.080002  ┆ 77.25      ┆ 75.5       ┆ 75.980003  ┆ 2.06101e7  │\n",
      "│ 2025-01-17 00:00:00 ┆ WMT    ┆ 91.940002  ┆ 92.260002  ┆ 91.050003  ┆ 92.07      ┆ 1.57061e7  │\n",
      "│ 2025-01-17 00:00:00 ┆ XOM    ┆ 112.32     ┆ 112.870003 ┆ 110.82     ┆ 111.029999 ┆ 1.92291e7  │\n",
      "└─────────────────────┴────────┴────────────┴────────────┴────────────┴────────────┴────────────┘\n"
     ]
    }
   ],
   "source": [
    "# Convert to Polars DataFrame\n",
    "df = pl.from_pandas(prices)\n",
    "\n",
    "# View the Polars DataFrame\n",
    "print(df)"
   ]
  },
  {
   "cell_type": "markdown",
   "metadata": {},
   "source": [
    "## Step 5: Write Polars to Parquet"
   ]
  },
  {
   "cell_type": "code",
   "execution_count": 5,
   "metadata": {
    "execution": {
     "iopub.execute_input": "2025-01-21T10:06:21.593768Z",
     "iopub.status.busy": "2025-01-21T10:06:21.593419Z",
     "iopub.status.idle": "2025-01-21T10:06:21.625528Z",
     "shell.execute_reply": "2025-01-21T10:06:21.625091Z"
    }
   },
   "outputs": [],
   "source": [
    "output_dir = \"../../../data/finance\"\n",
    "\n",
    "# Write DataFrame to Parquet\n",
    "df.write_parquet(f'{output_dir}/historical_stock_quotes_{start_date}_to_{end_date}.parquet')"
   ]
  },
  {
   "cell_type": "markdown",
   "metadata": {},
   "source": [
    "## Step 6: Read Parquet (Validate)"
   ]
  },
  {
   "cell_type": "code",
   "execution_count": 6,
   "metadata": {
    "execution": {
     "iopub.execute_input": "2025-01-21T10:06:21.627306Z",
     "iopub.status.busy": "2025-01-21T10:06:21.627125Z",
     "iopub.status.idle": "2025-01-21T10:06:21.636461Z",
     "shell.execute_reply": "2025-01-21T10:06:21.635955Z"
    }
   },
   "outputs": [
    {
     "data": {
      "text/html": [
       "<div><style>\n",
       ".dataframe > thead > tr,\n",
       ".dataframe > tbody > tr {\n",
       "  text-align: right;\n",
       "  white-space: pre-wrap;\n",
       "}\n",
       "</style>\n",
       "<small>shape: (5, 7)</small><table border=\"1\" class=\"dataframe\"><thead><tr><th>Date</th><th>Symbol</th><th>Close</th><th>High</th><th>Low</th><th>Open</th><th>Volume</th></tr><tr><td>datetime[ns]</td><td>str</td><td>f64</td><td>f64</td><td>f64</td><td>f64</td><td>f64</td></tr></thead><tbody><tr><td>2020-01-02 00:00:00</td><td>&quot;AAPL&quot;</td><td>72.796028</td><td>72.856621</td><td>71.545395</td><td>71.799881</td><td>1.354804e8</td></tr><tr><td>2020-01-02 00:00:00</td><td>&quot;ABBV&quot;</td><td>71.589783</td><td>71.605769</td><td>70.758365</td><td>71.214045</td><td>5.6392e6</td></tr><tr><td>2020-01-02 00:00:00</td><td>&quot;ACN&quot;</td><td>195.263565</td><td>196.908187</td><td>194.01849</td><td>195.923277</td><td>2.4311e6</td></tr><tr><td>2020-01-02 00:00:00</td><td>&quot;ADBE&quot;</td><td>334.429993</td><td>334.480011</td><td>329.170013</td><td>330.0</td><td>1.9901e6</td></tr><tr><td>2020-01-02 00:00:00</td><td>&quot;AMT&quot;</td><td>200.433929</td><td>202.758431</td><td>200.00411</td><td>201.468987</td><td>1.426e6</td></tr></tbody></table></div>"
      ],
      "text/plain": [
       "shape: (5, 7)\n",
       "┌─────────────────────┬────────┬────────────┬────────────┬────────────┬────────────┬────────────┐\n",
       "│ Date                ┆ Symbol ┆ Close      ┆ High       ┆ Low        ┆ Open       ┆ Volume     │\n",
       "│ ---                 ┆ ---    ┆ ---        ┆ ---        ┆ ---        ┆ ---        ┆ ---        │\n",
       "│ datetime[ns]        ┆ str    ┆ f64        ┆ f64        ┆ f64        ┆ f64        ┆ f64        │\n",
       "╞═════════════════════╪════════╪════════════╪════════════╪════════════╪════════════╪════════════╡\n",
       "│ 2020-01-02 00:00:00 ┆ AAPL   ┆ 72.796028  ┆ 72.856621  ┆ 71.545395  ┆ 71.799881  ┆ 1.354804e8 │\n",
       "│ 2020-01-02 00:00:00 ┆ ABBV   ┆ 71.589783  ┆ 71.605769  ┆ 70.758365  ┆ 71.214045  ┆ 5.6392e6   │\n",
       "│ 2020-01-02 00:00:00 ┆ ACN    ┆ 195.263565 ┆ 196.908187 ┆ 194.01849  ┆ 195.923277 ┆ 2.4311e6   │\n",
       "│ 2020-01-02 00:00:00 ┆ ADBE   ┆ 334.429993 ┆ 334.480011 ┆ 329.170013 ┆ 330.0      ┆ 1.9901e6   │\n",
       "│ 2020-01-02 00:00:00 ┆ AMT    ┆ 200.433929 ┆ 202.758431 ┆ 200.00411  ┆ 201.468987 ┆ 1.426e6    │\n",
       "└─────────────────────┴────────┴────────────┴────────────┴────────────┴────────────┴────────────┘"
      ]
     },
     "execution_count": 6,
     "metadata": {},
     "output_type": "execute_result"
    }
   ],
   "source": [
    "pl.scan_parquet(f'{output_dir}/historical_stock_quotes_{start_date}_to_{end_date}.parquet').head().collect()"
   ]
  }
 ],
 "metadata": {
  "kernelspec": {
   "display_name": ".venv",
   "language": "python",
   "name": "python3"
  },
  "language_info": {
   "codemirror_mode": {
    "name": "ipython",
    "version": 3
   },
   "file_extension": ".py",
   "mimetype": "text/x-python",
   "name": "python",
   "nbconvert_exporter": "python",
   "pygments_lexer": "ipython3",
   "version": "3.12.8"
  }
 },
 "nbformat": 4,
 "nbformat_minor": 2
}
