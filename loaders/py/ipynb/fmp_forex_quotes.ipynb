{
 "cells": [
  {
   "cell_type": "markdown",
   "metadata": {},
   "source": [
    "## Step 1: Import Libraries"
   ]
  },
  {
   "cell_type": "code",
   "execution_count": 1,
   "metadata": {
    "execution": {
     "iopub.execute_input": "2025-01-09T10:05:37.901018Z",
     "iopub.status.busy": "2025-01-09T10:05:37.900837Z",
     "iopub.status.idle": "2025-01-09T10:05:37.964532Z",
     "shell.execute_reply": "2025-01-09T10:05:37.963905Z"
    }
   },
   "outputs": [],
   "source": [
    "%run ../make_clean_names.py"
   ]
  },
  {
   "cell_type": "code",
   "execution_count": 2,
   "metadata": {
    "execution": {
     "iopub.execute_input": "2025-01-09T10:05:37.966769Z",
     "iopub.status.busy": "2025-01-09T10:05:37.966585Z",
     "iopub.status.idle": "2025-01-09T10:05:38.032711Z",
     "shell.execute_reply": "2025-01-09T10:05:38.032101Z"
    }
   },
   "outputs": [],
   "source": [
    "import requests\n",
    "from requests.adapters import HTTPAdapter\n",
    "from requests.packages.urllib3.util.retry import Retry\n",
    "import logging\n",
    "import concurrent.futures\n",
    "from datetime import datetime\n",
    "from typing import Dict, List\n",
    "from concurrent.futures import ThreadPoolExecutor\n",
    "import polars as pl\n",
    "\n",
    "from dotenv import load_dotenv\n",
    "import os\n",
    "\n",
    "# Load environment variables\n",
    "load_dotenv()\n",
    "\n",
    "logging.basicConfig(level=logging.INFO)\n",
    "logger = logging.getLogger(__name__)\n",
    "\n",
    "def create_session():\n",
    "    session = requests.Session()\n",
    "    retries = Retry(\n",
    "        total=3,\n",
    "        backoff_factor=1,\n",
    "        status_forcelist=[429, 500, 502, 503, 504]\n",
    "    )\n",
    "    session.mount('https://', HTTPAdapter(max_retries=retries, pool_maxsize=10))\n",
    "    return session\n",
    "\n",
    "# Get API key from environment variables\n",
    "FMP_API_KEY = os.getenv('FMP_API_KEY')\n",
    "if not FMP_API_KEY:\n",
    "    raise ValueError(\"FMP_API_KEY not found in environment variables\")"
   ]
  },
  {
   "cell_type": "markdown",
   "metadata": {},
   "source": [
    "## Step 2: Import Forex Pairs"
   ]
  },
  {
   "cell_type": "code",
   "execution_count": 3,
   "metadata": {
    "execution": {
     "iopub.execute_input": "2025-01-09T10:05:38.034540Z",
     "iopub.status.busy": "2025-01-09T10:05:38.034344Z",
     "iopub.status.idle": "2025-01-09T10:05:38.039266Z",
     "shell.execute_reply": "2025-01-09T10:05:38.038660Z"
    }
   },
   "outputs": [
    {
     "name": "stdout",
     "output_type": "stream",
     "text": [
      "Loaded 4 pairs from ../fx_pairs.txt\n",
      "pairs: ['USDEUR', 'USDBRL', 'USDGBP', 'USDJPY']\n"
     ]
    }
   ],
   "source": [
    "def load_pairs(file_path: str) -> List[str]:\n",
    "    \"\"\"Load pairs from a text file\"\"\"\n",
    "    try:\n",
    "        with open(file_path, 'r') as f:\n",
    "            pairs = [line.strip() for line in f if line.strip()]\n",
    "        print(f\"Loaded {len(pairs)} pairs from {file_path}\")\n",
    "        return pairs\n",
    "    except Exception as e:\n",
    "        print(f\"Error loading pairs: {str(e)}\")\n",
    "        return []\n",
    "\n",
    "pairs_file = '../fx_pairs.txt'\n",
    "pairs = load_pairs(pairs_file)\n",
    "\n",
    "if pairs:\n",
    "    print(\"pairs:\", pairs)\n",
    "else:\n",
    "    print(\"No pairs loaded.\")"
   ]
  },
  {
   "cell_type": "markdown",
   "metadata": {},
   "source": [
    "## Step 2: Extract Data from FMP into Polars"
   ]
  },
  {
   "cell_type": "code",
   "execution_count": 4,
   "metadata": {
    "execution": {
     "iopub.execute_input": "2025-01-09T10:05:38.074994Z",
     "iopub.status.busy": "2025-01-09T10:05:38.074821Z",
     "iopub.status.idle": "2025-01-09T10:05:38.525641Z",
     "shell.execute_reply": "2025-01-09T10:05:38.525135Z"
    }
   },
   "outputs": [],
   "source": [
    "start_date = '2020-01-01'\n",
    "end_date = datetime.today().strftime('%Y-%m-%d')\n",
    "\n",
    "def fetch_forex_data(pair: str, api_key: str, session: requests.Session) -> Dict:\n",
    "    \"\"\"Fetch historical forex data for a single pair with pair identifier\"\"\"\n",
    "    url = f\"https://financialmodelingprep.com/api/v3/historical-chart/1day/{pair}\"\n",
    "    params = {\n",
    "        \"from\": start_date,\n",
    "        \"to\": end_date,\n",
    "        \"apikey\": api_key\n",
    "    }\n",
    "        \n",
    "    try:\n",
    "        response = session.get(url, params=params, timeout=10)\n",
    "        response.raise_for_status()\n",
    "        data = response.json()\n",
    "        # Add pair identifier to each record\n",
    "        return [{\"pair\": pair, **record} for record in data] if data else None\n",
    "    except Exception as e:\n",
    "        logger.error(f\"Error fetching {pair}: {str(e)}\")\n",
    "        return None\n",
    "\n",
    "def fetch_all_forex_data(pairs: List[str], api_key: str) -> List[Dict]:\n",
    "    \"\"\"Fetch and combine forex data for multiple pairs\"\"\"\n",
    "    session = create_session()\n",
    "    \n",
    "    with ThreadPoolExecutor(max_workers=10) as executor:\n",
    "        futures = [\n",
    "            executor.submit(fetch_forex_data, pair, api_key, session)\n",
    "            for pair in pairs\n",
    "        ]\n",
    "        results = [\n",
    "            f.result() for f in concurrent.futures.as_completed(futures)\n",
    "        ]\n",
    "    \n",
    "    # Flatten results list and remove None values\n",
    "    all_data = []\n",
    "    for result in results:\n",
    "        if result:\n",
    "            all_data.extend(result)\n",
    "    return all_data\n",
    "\n",
    "# Execute fetching\n",
    "fx_data = fetch_all_forex_data(pairs, FMP_API_KEY)\n",
    "\n",
    "# Convert to Polars DataFrame if data exists\n",
    "if fx_data:\n",
    "    df = pl.DataFrame(fx_data)"
   ]
  },
  {
   "cell_type": "markdown",
   "metadata": {},
   "source": [
    "## Step 3: Clean Column Names"
   ]
  },
  {
   "cell_type": "code",
   "execution_count": 5,
   "metadata": {
    "execution": {
     "iopub.execute_input": "2025-01-09T10:05:38.527904Z",
     "iopub.status.busy": "2025-01-09T10:05:38.527552Z",
     "iopub.status.idle": "2025-01-09T10:05:38.532010Z",
     "shell.execute_reply": "2025-01-09T10:05:38.531593Z"
    }
   },
   "outputs": [],
   "source": [
    "df = make_clean_names(df)"
   ]
  },
  {
   "cell_type": "code",
   "execution_count": 6,
   "metadata": {
    "execution": {
     "iopub.execute_input": "2025-01-09T10:05:38.533821Z",
     "iopub.status.busy": "2025-01-09T10:05:38.533484Z",
     "iopub.status.idle": "2025-01-09T10:05:38.540032Z",
     "shell.execute_reply": "2025-01-09T10:05:38.539491Z"
    }
   },
   "outputs": [
    {
     "data": {
      "text/html": [
       "<div><style>\n",
       ".dataframe > thead > tr,\n",
       ".dataframe > tbody > tr {\n",
       "  text-align: right;\n",
       "  white-space: pre-wrap;\n",
       "}\n",
       "</style>\n",
       "<small>shape: (5_370, 7)</small><table border=\"1\" class=\"dataframe\"><thead><tr><th>pair</th><th>date</th><th>open</th><th>low</th><th>high</th><th>close</th><th>volume</th></tr><tr><td>str</td><td>str</td><td>f64</td><td>f64</td><td>f64</td><td>f64</td><td>i64</td></tr></thead><tbody><tr><td>&quot;USDJPY&quot;</td><td>&quot;2025-01-09 00:00:00&quot;</td><td>158.258</td><td>157.756</td><td>158.398</td><td>158.082</td><td>44033</td></tr><tr><td>&quot;USDJPY&quot;</td><td>&quot;2025-01-08 00:00:00&quot;</td><td>158.036</td><td>157.897</td><td>158.549</td><td>158.401</td><td>287235</td></tr><tr><td>&quot;USDJPY&quot;</td><td>&quot;2025-01-07 00:00:00&quot;</td><td>157.573</td><td>157.363</td><td>158.421</td><td>158.036</td><td>351392</td></tr><tr><td>&quot;USDJPY&quot;</td><td>&quot;2025-01-06 00:00:00&quot;</td><td>157.145</td><td>156.233</td><td>157.958</td><td>157.573</td><td>494962</td></tr><tr><td>&quot;USDJPY&quot;</td><td>&quot;2025-01-05 00:00:00&quot;</td><td>156.976</td><td>156.976</td><td>156.976</td><td>156.976</td><td>0</td></tr><tr><td>&hellip;</td><td>&hellip;</td><td>&hellip;</td><td>&hellip;</td><td>&hellip;</td><td>&hellip;</td><td>&hellip;</td></tr><tr><td>&quot;USDGBP&quot;</td><td>&quot;2020-01-17 00:00:00&quot;</td><td>0.76459</td><td>0.76249</td><td>0.7687</td><td>0.76854</td><td>0</td></tr><tr><td>&quot;USDGBP&quot;</td><td>&quot;2020-01-16 00:00:00&quot;</td><td>0.76697</td><td>0.76441</td><td>0.76756</td><td>0.76459</td><td>0</td></tr><tr><td>&quot;USDGBP&quot;</td><td>&quot;2020-01-15 00:00:00&quot;</td><td>0.768</td><td>0.76677</td><td>0.76997</td><td>0.76699</td><td>0</td></tr><tr><td>&quot;USDGBP&quot;</td><td>&quot;2020-01-14 00:00:00&quot;</td><td>0.76995</td><td>0.7673</td><td>0.77185</td><td>0.76834</td><td>0</td></tr><tr><td>&quot;USDGBP&quot;</td><td>&quot;2020-01-13 00:00:00&quot;</td><td>0.76556</td><td>0.7655</td><td>0.77156</td><td>0.76988</td><td>0</td></tr></tbody></table></div>"
      ],
      "text/plain": [
       "shape: (5_370, 7)\n",
       "┌────────┬─────────────────────┬─────────┬─────────┬─────────┬─────────┬────────┐\n",
       "│ pair   ┆ date                ┆ open    ┆ low     ┆ high    ┆ close   ┆ volume │\n",
       "│ ---    ┆ ---                 ┆ ---     ┆ ---     ┆ ---     ┆ ---     ┆ ---    │\n",
       "│ str    ┆ str                 ┆ f64     ┆ f64     ┆ f64     ┆ f64     ┆ i64    │\n",
       "╞════════╪═════════════════════╪═════════╪═════════╪═════════╪═════════╪════════╡\n",
       "│ USDJPY ┆ 2025-01-09 00:00:00 ┆ 158.258 ┆ 157.756 ┆ 158.398 ┆ 158.082 ┆ 44033  │\n",
       "│ USDJPY ┆ 2025-01-08 00:00:00 ┆ 158.036 ┆ 157.897 ┆ 158.549 ┆ 158.401 ┆ 287235 │\n",
       "│ USDJPY ┆ 2025-01-07 00:00:00 ┆ 157.573 ┆ 157.363 ┆ 158.421 ┆ 158.036 ┆ 351392 │\n",
       "│ USDJPY ┆ 2025-01-06 00:00:00 ┆ 157.145 ┆ 156.233 ┆ 157.958 ┆ 157.573 ┆ 494962 │\n",
       "│ USDJPY ┆ 2025-01-05 00:00:00 ┆ 156.976 ┆ 156.976 ┆ 156.976 ┆ 156.976 ┆ 0      │\n",
       "│ …      ┆ …                   ┆ …       ┆ …       ┆ …       ┆ …       ┆ …      │\n",
       "│ USDGBP ┆ 2020-01-17 00:00:00 ┆ 0.76459 ┆ 0.76249 ┆ 0.7687  ┆ 0.76854 ┆ 0      │\n",
       "│ USDGBP ┆ 2020-01-16 00:00:00 ┆ 0.76697 ┆ 0.76441 ┆ 0.76756 ┆ 0.76459 ┆ 0      │\n",
       "│ USDGBP ┆ 2020-01-15 00:00:00 ┆ 0.768   ┆ 0.76677 ┆ 0.76997 ┆ 0.76699 ┆ 0      │\n",
       "│ USDGBP ┆ 2020-01-14 00:00:00 ┆ 0.76995 ┆ 0.7673  ┆ 0.77185 ┆ 0.76834 ┆ 0      │\n",
       "│ USDGBP ┆ 2020-01-13 00:00:00 ┆ 0.76556 ┆ 0.7655  ┆ 0.77156 ┆ 0.76988 ┆ 0      │\n",
       "└────────┴─────────────────────┴─────────┴─────────┴─────────┴─────────┴────────┘"
      ]
     },
     "execution_count": 6,
     "metadata": {},
     "output_type": "execute_result"
    }
   ],
   "source": [
    "df"
   ]
  },
  {
   "cell_type": "markdown",
   "metadata": {},
   "source": [
    "## Step 4: Write Polars to Parquet"
   ]
  },
  {
   "cell_type": "code",
   "execution_count": 7,
   "metadata": {
    "execution": {
     "iopub.execute_input": "2025-01-09T10:05:38.541869Z",
     "iopub.status.busy": "2025-01-09T10:05:38.541550Z",
     "iopub.status.idle": "2025-01-09T10:05:38.548904Z",
     "shell.execute_reply": "2025-01-09T10:05:38.548460Z"
    }
   },
   "outputs": [],
   "source": [
    "# Define the output directory\n",
    "output_dir = \"../../../data/finance\"\n",
    "\n",
    "# Write the processed DataFrame to a Parquet file\n",
    "df.write_parquet(f'{output_dir}/historical_fx_quotes.parquet')"
   ]
  },
  {
   "cell_type": "markdown",
   "metadata": {},
   "source": [
    "## Step 5: Read Parquet (Validate)"
   ]
  },
  {
   "cell_type": "code",
   "execution_count": 8,
   "metadata": {
    "execution": {
     "iopub.execute_input": "2025-01-09T10:05:38.550876Z",
     "iopub.status.busy": "2025-01-09T10:05:38.550467Z",
     "iopub.status.idle": "2025-01-09T10:05:38.555640Z",
     "shell.execute_reply": "2025-01-09T10:05:38.555105Z"
    }
   },
   "outputs": [
    {
     "data": {
      "text/html": [
       "<div><style>\n",
       ".dataframe > thead > tr,\n",
       ".dataframe > tbody > tr {\n",
       "  text-align: right;\n",
       "  white-space: pre-wrap;\n",
       "}\n",
       "</style>\n",
       "<small>shape: (5, 7)</small><table border=\"1\" class=\"dataframe\"><thead><tr><th>pair</th><th>date</th><th>open</th><th>low</th><th>high</th><th>close</th><th>volume</th></tr><tr><td>str</td><td>str</td><td>f64</td><td>f64</td><td>f64</td><td>f64</td><td>i64</td></tr></thead><tbody><tr><td>&quot;USDJPY&quot;</td><td>&quot;2025-01-09 00:00:00&quot;</td><td>158.258</td><td>157.756</td><td>158.398</td><td>158.082</td><td>44033</td></tr><tr><td>&quot;USDJPY&quot;</td><td>&quot;2025-01-08 00:00:00&quot;</td><td>158.036</td><td>157.897</td><td>158.549</td><td>158.401</td><td>287235</td></tr><tr><td>&quot;USDJPY&quot;</td><td>&quot;2025-01-07 00:00:00&quot;</td><td>157.573</td><td>157.363</td><td>158.421</td><td>158.036</td><td>351392</td></tr><tr><td>&quot;USDJPY&quot;</td><td>&quot;2025-01-06 00:00:00&quot;</td><td>157.145</td><td>156.233</td><td>157.958</td><td>157.573</td><td>494962</td></tr><tr><td>&quot;USDJPY&quot;</td><td>&quot;2025-01-05 00:00:00&quot;</td><td>156.976</td><td>156.976</td><td>156.976</td><td>156.976</td><td>0</td></tr></tbody></table></div>"
      ],
      "text/plain": [
       "shape: (5, 7)\n",
       "┌────────┬─────────────────────┬─────────┬─────────┬─────────┬─────────┬────────┐\n",
       "│ pair   ┆ date                ┆ open    ┆ low     ┆ high    ┆ close   ┆ volume │\n",
       "│ ---    ┆ ---                 ┆ ---     ┆ ---     ┆ ---     ┆ ---     ┆ ---    │\n",
       "│ str    ┆ str                 ┆ f64     ┆ f64     ┆ f64     ┆ f64     ┆ i64    │\n",
       "╞════════╪═════════════════════╪═════════╪═════════╪═════════╪═════════╪════════╡\n",
       "│ USDJPY ┆ 2025-01-09 00:00:00 ┆ 158.258 ┆ 157.756 ┆ 158.398 ┆ 158.082 ┆ 44033  │\n",
       "│ USDJPY ┆ 2025-01-08 00:00:00 ┆ 158.036 ┆ 157.897 ┆ 158.549 ┆ 158.401 ┆ 287235 │\n",
       "│ USDJPY ┆ 2025-01-07 00:00:00 ┆ 157.573 ┆ 157.363 ┆ 158.421 ┆ 158.036 ┆ 351392 │\n",
       "│ USDJPY ┆ 2025-01-06 00:00:00 ┆ 157.145 ┆ 156.233 ┆ 157.958 ┆ 157.573 ┆ 494962 │\n",
       "│ USDJPY ┆ 2025-01-05 00:00:00 ┆ 156.976 ┆ 156.976 ┆ 156.976 ┆ 156.976 ┆ 0      │\n",
       "└────────┴─────────────────────┴─────────┴─────────┴─────────┴─────────┴────────┘"
      ]
     },
     "execution_count": 8,
     "metadata": {},
     "output_type": "execute_result"
    }
   ],
   "source": [
    "# Validate the output by reading the Parquet file and displaying the first few rows\n",
    "pl.scan_parquet(f'{output_dir}/historical_fx_quotes.parquet').head().collect()"
   ]
  }
 ],
 "metadata": {
  "kernelspec": {
   "display_name": ".venv",
   "language": "python",
   "name": "python3"
  },
  "language_info": {
   "codemirror_mode": {
    "name": "ipython",
    "version": 3
   },
   "file_extension": ".py",
   "mimetype": "text/x-python",
   "name": "python",
   "nbconvert_exporter": "python",
   "pygments_lexer": "ipython3",
   "version": "3.12.8"
  }
 },
 "nbformat": 4,
 "nbformat_minor": 2
}
