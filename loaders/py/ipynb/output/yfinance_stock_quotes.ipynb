{
 "cells": [
  {
   "cell_type": "markdown",
   "metadata": {},
   "source": [
    "## Step 1: Import Libraries"
   ]
  },
  {
   "cell_type": "code",
   "execution_count": 1,
   "metadata": {
    "execution": {
     "iopub.execute_input": "2025-01-05T19:18:21.251647Z",
     "iopub.status.busy": "2025-01-05T19:18:21.251469Z",
     "iopub.status.idle": "2025-01-05T19:18:21.859729Z",
     "shell.execute_reply": "2025-01-05T19:18:21.859163Z"
    }
   },
   "outputs": [],
   "source": [
    "from datetime import datetime\n",
    "import polars as pl\n",
    "import pandas as pd\n",
    "import pyarrow as pa\n",
    "from typing import List\n",
    "import duckdb\n",
    "import yfinance as yf"
   ]
  },
  {
   "cell_type": "markdown",
   "metadata": {},
   "source": [
    "## Step 2: Import Symbols"
   ]
  },
  {
   "cell_type": "code",
   "execution_count": 2,
   "metadata": {
    "execution": {
     "iopub.execute_input": "2025-01-05T19:18:21.862154Z",
     "iopub.status.busy": "2025-01-05T19:18:21.861669Z",
     "iopub.status.idle": "2025-01-05T19:18:21.866811Z",
     "shell.execute_reply": "2025-01-05T19:18:21.866175Z"
    }
   },
   "outputs": [
    {
     "name": "stdout",
     "output_type": "stream",
     "text": [
      "Loaded 60 symbols from ../tickers.txt\n",
      "Symbols: ['AAPL', 'MSFT', 'GOOGL', 'GOOG', 'META', 'NVDA', 'AVGO', 'ORCL', 'CRM', 'ACN', 'ADBE', 'CSCO', 'INTC', 'NFLX', 'DIS', 'CMCSA', 'VZ', 'T', 'AMZN', 'TSLA', 'HD', 'MCD', 'NKE', 'SBUX', 'TGT', 'LOW', 'WMT', 'PG', 'KO', 'PEP', 'COST', 'BRK-B', 'JPM', 'BAC', 'WFC', 'GS', 'MS', 'BLK', 'UNH', 'JNJ', 'PFE', 'ABBV', 'MRK', 'LLY', 'CAT', 'BA', 'HON', 'UPS', 'RTX', 'GE', 'XOM', 'CVX', 'COP', 'SLB', 'LIN', 'APD', 'ECL', 'PLD', 'AMT', 'CCI']\n"
     ]
    }
   ],
   "source": [
    "def load_symbols(file_path: str) -> List[str]:\n",
    "    \"\"\"Load symbols from a text file\"\"\"\n",
    "    try:\n",
    "        with open(file_path, 'r') as f:\n",
    "            symbols = [line.strip() for line in f if line.strip()]\n",
    "        print(f\"Loaded {len(symbols)} symbols from {file_path}\")\n",
    "        return symbols\n",
    "    except Exception as e:\n",
    "        print(f\"Error loading symbols: {str(e)}\")\n",
    "        return []\n",
    "\n",
    "symbols_file = '../tickers.txt'\n",
    "symbols = load_symbols(symbols_file)\n",
    "\n",
    "if symbols:\n",
    "    print(\"Symbols:\", symbols)\n",
    "else:\n",
    "    print(\"No symbols loaded.\")"
   ]
  },
  {
   "cell_type": "markdown",
   "metadata": {},
   "source": [
    "## Step 3: Extract Data from Yfinance into Pandas"
   ]
  },
  {
   "cell_type": "code",
   "execution_count": 3,
   "metadata": {
    "execution": {
     "iopub.execute_input": "2025-01-05T19:18:21.905722Z",
     "iopub.status.busy": "2025-01-05T19:18:21.905239Z",
     "iopub.status.idle": "2025-01-05T19:18:26.238593Z",
     "shell.execute_reply": "2025-01-05T19:18:26.238088Z"
    }
   },
   "outputs": [
    {
     "name": "stderr",
     "output_type": "stream",
     "text": [
      "\r",
      "[                       0%                       ]"
     ]
    },
    {
     "name": "stderr",
     "output_type": "stream",
     "text": [
      "\r",
      "[*                      3%                       ]  2 of 60 completed"
     ]
    },
    {
     "name": "stderr",
     "output_type": "stream",
     "text": [
      "\r",
      "[*                      3%                       ]  2 of 60 completed"
     ]
    },
    {
     "name": "stderr",
     "output_type": "stream",
     "text": [
      "\r",
      "[***                    7%                       ]  4 of 60 completed"
     ]
    },
    {
     "name": "stderr",
     "output_type": "stream",
     "text": [
      "\r",
      "[****                   8%                       ]  5 of 60 completed"
     ]
    },
    {
     "name": "stderr",
     "output_type": "stream",
     "text": [
      "\r",
      "[*****                 10%                       ]  6 of 60 completed"
     ]
    },
    {
     "name": "stderr",
     "output_type": "stream",
     "text": [
      "\r",
      "[******                12%                       ]  7 of 60 completed"
     ]
    },
    {
     "name": "stderr",
     "output_type": "stream",
     "text": [
      "\r",
      "[******                13%                       ]  8 of 60 completed"
     ]
    },
    {
     "name": "stderr",
     "output_type": "stream",
     "text": [
      "\r",
      "[*******               15%                       ]  9 of 60 completed"
     ]
    },
    {
     "name": "stderr",
     "output_type": "stream",
     "text": [
      "\r",
      "[********              17%                       ]  10 of 60 completed"
     ]
    },
    {
     "name": "stderr",
     "output_type": "stream",
     "text": [
      "\r",
      "[*********             18%                       ]  11 of 60 completed"
     ]
    },
    {
     "name": "stderr",
     "output_type": "stream",
     "text": [
      "\r",
      "[**********            20%                       ]  12 of 60 completed"
     ]
    },
    {
     "name": "stderr",
     "output_type": "stream",
     "text": [
      "\r",
      "[***********           22%                       ]  13 of 60 completed"
     ]
    },
    {
     "name": "stderr",
     "output_type": "stream",
     "text": [
      "\r",
      "[***********           22%                       ]  13 of 60 completed"
     ]
    },
    {
     "name": "stderr",
     "output_type": "stream",
     "text": [
      "\r",
      "[************          25%                       ]  15 of 60 completed"
     ]
    },
    {
     "name": "stderr",
     "output_type": "stream",
     "text": [
      "\r",
      "[*************         27%                       ]  16 of 60 completed"
     ]
    },
    {
     "name": "stderr",
     "output_type": "stream",
     "text": [
      "\r",
      "[*************         28%                       ]  17 of 60 completed"
     ]
    },
    {
     "name": "stderr",
     "output_type": "stream",
     "text": [
      "\r",
      "[**************        30%                       ]  18 of 60 completed"
     ]
    },
    {
     "name": "stderr",
     "output_type": "stream",
     "text": [
      "\r",
      "[***************       32%                       ]  19 of 60 completed"
     ]
    },
    {
     "name": "stderr",
     "output_type": "stream",
     "text": [
      "\r",
      "[****************      33%                       ]  20 of 60 completed"
     ]
    },
    {
     "name": "stderr",
     "output_type": "stream",
     "text": [
      "\r",
      "[*****************     35%                       ]  21 of 60 completed"
     ]
    },
    {
     "name": "stderr",
     "output_type": "stream",
     "text": [
      "\r",
      "[******************    37%                       ]  22 of 60 completed"
     ]
    },
    {
     "name": "stderr",
     "output_type": "stream",
     "text": [
      "\r",
      "[******************    38%                       ]  23 of 60 completed"
     ]
    },
    {
     "name": "stderr",
     "output_type": "stream",
     "text": [
      "\r",
      "[*******************   40%                       ]  24 of 60 completed"
     ]
    },
    {
     "name": "stderr",
     "output_type": "stream",
     "text": [
      "\r",
      "[********************  42%                       ]  25 of 60 completed"
     ]
    },
    {
     "name": "stderr",
     "output_type": "stream",
     "text": [
      "\r",
      "[********************* 43%                       ]  26 of 60 completed"
     ]
    },
    {
     "name": "stderr",
     "output_type": "stream",
     "text": [
      "\r",
      "[**********************45%                       ]  27 of 60 completed"
     ]
    },
    {
     "name": "stderr",
     "output_type": "stream",
     "text": [
      "\r",
      "[**********************47%                       ]  28 of 60 completed"
     ]
    },
    {
     "name": "stderr",
     "output_type": "stream",
     "text": [
      "\r",
      "[**********************48%                       ]  29 of 60 completed"
     ]
    },
    {
     "name": "stderr",
     "output_type": "stream",
     "text": [
      "\r",
      "[**********************50%                       ]  30 of 60 completed"
     ]
    },
    {
     "name": "stderr",
     "output_type": "stream",
     "text": [
      "\r",
      "[**********************52%                       ]  31 of 60 completed"
     ]
    },
    {
     "name": "stderr",
     "output_type": "stream",
     "text": [
      "\r",
      "[**********************53%                       ]  32 of 60 completed"
     ]
    },
    {
     "name": "stderr",
     "output_type": "stream",
     "text": [
      "\r",
      "[**********************55%*                      ]  33 of 60 completed"
     ]
    },
    {
     "name": "stderr",
     "output_type": "stream",
     "text": [
      "\r",
      "[**********************57%**                     ]  34 of 60 completed"
     ]
    },
    {
     "name": "stderr",
     "output_type": "stream",
     "text": [
      "\r",
      "[**********************58%***                    ]  35 of 60 completed"
     ]
    },
    {
     "name": "stderr",
     "output_type": "stream",
     "text": [
      "\r",
      "[**********************60%****                   ]  36 of 60 completed"
     ]
    },
    {
     "name": "stderr",
     "output_type": "stream",
     "text": [
      "\r",
      "[**********************62%*****                  ]  37 of 60 completed"
     ]
    },
    {
     "name": "stderr",
     "output_type": "stream",
     "text": [
      "\r",
      "[**********************63%*****                  ]  38 of 60 completed"
     ]
    },
    {
     "name": "stderr",
     "output_type": "stream",
     "text": [
      "\r",
      "[**********************65%******                 ]  39 of 60 completed"
     ]
    },
    {
     "name": "stderr",
     "output_type": "stream",
     "text": [
      "\r",
      "[**********************67%*******                ]  40 of 60 completed"
     ]
    },
    {
     "name": "stderr",
     "output_type": "stream",
     "text": [
      "\r",
      "[**********************68%********               ]  41 of 60 completed"
     ]
    },
    {
     "name": "stderr",
     "output_type": "stream",
     "text": [
      "\r",
      "[**********************70%*********              ]  42 of 60 completed"
     ]
    },
    {
     "name": "stderr",
     "output_type": "stream",
     "text": [
      "\r",
      "[**********************72%**********             ]  43 of 60 completed"
     ]
    },
    {
     "name": "stderr",
     "output_type": "stream",
     "text": [
      "\r",
      "[**********************73%**********             ]  44 of 60 completed"
     ]
    },
    {
     "name": "stderr",
     "output_type": "stream",
     "text": [
      "\r",
      "[**********************75%***********            ]  45 of 60 completed"
     ]
    },
    {
     "name": "stderr",
     "output_type": "stream",
     "text": [
      "\r",
      "[**********************77%************           ]  46 of 60 completed"
     ]
    },
    {
     "name": "stderr",
     "output_type": "stream",
     "text": [
      "\r",
      "[**********************78%************           ]  47 of 60 completed"
     ]
    },
    {
     "name": "stderr",
     "output_type": "stream",
     "text": [
      "\r",
      "[**********************80%*************          ]  48 of 60 completed"
     ]
    },
    {
     "name": "stderr",
     "output_type": "stream",
     "text": [
      "\r",
      "[**********************82%**************         ]  49 of 60 completed"
     ]
    },
    {
     "name": "stderr",
     "output_type": "stream",
     "text": [
      "\r",
      "[**********************83%***************        ]  50 of 60 completed"
     ]
    },
    {
     "name": "stderr",
     "output_type": "stream",
     "text": [
      "\r",
      "[**********************85%****************       ]  51 of 60 completed"
     ]
    },
    {
     "name": "stderr",
     "output_type": "stream",
     "text": [
      "\r",
      "[**********************87%*****************      ]  52 of 60 completed"
     ]
    },
    {
     "name": "stderr",
     "output_type": "stream",
     "text": [
      "\r",
      "[**********************88%*****************      ]  53 of 60 completed"
     ]
    },
    {
     "name": "stderr",
     "output_type": "stream",
     "text": [
      "\r",
      "[**********************90%******************     ]  54 of 60 completed"
     ]
    },
    {
     "name": "stderr",
     "output_type": "stream",
     "text": [
      "\r",
      "[**********************92%*******************    ]  55 of 60 completed"
     ]
    },
    {
     "name": "stderr",
     "output_type": "stream",
     "text": [
      "\r",
      "[**********************93%********************   ]  56 of 60 completed"
     ]
    },
    {
     "name": "stderr",
     "output_type": "stream",
     "text": [
      "\r",
      "[**********************95%*********************  ]  57 of 60 completed"
     ]
    },
    {
     "name": "stderr",
     "output_type": "stream",
     "text": [
      "\r",
      "[**********************97%********************** ]  58 of 60 completed"
     ]
    },
    {
     "name": "stderr",
     "output_type": "stream",
     "text": [
      "\r",
      "[**********************98%********************** ]  59 of 60 completed"
     ]
    },
    {
     "name": "stderr",
     "output_type": "stream",
     "text": [
      "\r",
      "[*********************100%***********************]  60 of 60 completed"
     ]
    },
    {
     "name": "stderr",
     "output_type": "stream",
     "text": [
      "\n"
     ]
    },
    {
     "data": {
      "text/html": [
       "<div>\n",
       "<style scoped>\n",
       "    .dataframe tbody tr th:only-of-type {\n",
       "        vertical-align: middle;\n",
       "    }\n",
       "\n",
       "    .dataframe tbody tr th {\n",
       "        vertical-align: top;\n",
       "    }\n",
       "\n",
       "    .dataframe thead th {\n",
       "        text-align: right;\n",
       "    }\n",
       "</style>\n",
       "<table border=\"1\" class=\"dataframe\">\n",
       "  <thead>\n",
       "    <tr style=\"text-align: right;\">\n",
       "      <th>Metric</th>\n",
       "      <th>Date</th>\n",
       "      <th>Symbol</th>\n",
       "      <th>Close</th>\n",
       "      <th>High</th>\n",
       "      <th>Low</th>\n",
       "      <th>Open</th>\n",
       "      <th>Volume</th>\n",
       "    </tr>\n",
       "  </thead>\n",
       "  <tbody>\n",
       "    <tr>\n",
       "      <th>0</th>\n",
       "      <td>2020-01-02</td>\n",
       "      <td>AAPL</td>\n",
       "      <td>72.796005</td>\n",
       "      <td>72.856598</td>\n",
       "      <td>71.545372</td>\n",
       "      <td>71.799858</td>\n",
       "      <td>135480400.0</td>\n",
       "    </tr>\n",
       "    <tr>\n",
       "      <th>1</th>\n",
       "      <td>2020-01-02</td>\n",
       "      <td>ABBV</td>\n",
       "      <td>72.264893</td>\n",
       "      <td>72.281029</td>\n",
       "      <td>71.425635</td>\n",
       "      <td>71.885612</td>\n",
       "      <td>5639200.0</td>\n",
       "    </tr>\n",
       "    <tr>\n",
       "      <th>2</th>\n",
       "      <td>2020-01-02</td>\n",
       "      <td>ACN</td>\n",
       "      <td>195.263596</td>\n",
       "      <td>196.908218</td>\n",
       "      <td>194.018521</td>\n",
       "      <td>195.923308</td>\n",
       "      <td>2431100.0</td>\n",
       "    </tr>\n",
       "    <tr>\n",
       "      <th>3</th>\n",
       "      <td>2020-01-02</td>\n",
       "      <td>ADBE</td>\n",
       "      <td>334.429993</td>\n",
       "      <td>334.480011</td>\n",
       "      <td>329.170013</td>\n",
       "      <td>330.000000</td>\n",
       "      <td>1990100.0</td>\n",
       "    </tr>\n",
       "    <tr>\n",
       "      <th>4</th>\n",
       "      <td>2020-01-02</td>\n",
       "      <td>AMT</td>\n",
       "      <td>200.433960</td>\n",
       "      <td>202.758462</td>\n",
       "      <td>200.004141</td>\n",
       "      <td>201.469017</td>\n",
       "      <td>1426000.0</td>\n",
       "    </tr>\n",
       "    <tr>\n",
       "      <th>...</th>\n",
       "      <td>...</td>\n",
       "      <td>...</td>\n",
       "      <td>...</td>\n",
       "      <td>...</td>\n",
       "      <td>...</td>\n",
       "      <td>...</td>\n",
       "      <td>...</td>\n",
       "    </tr>\n",
       "    <tr>\n",
       "      <th>75595</th>\n",
       "      <td>2025-01-03</td>\n",
       "      <td>UPS</td>\n",
       "      <td>123.790001</td>\n",
       "      <td>124.330002</td>\n",
       "      <td>122.760002</td>\n",
       "      <td>123.959999</td>\n",
       "      <td>3490400.0</td>\n",
       "    </tr>\n",
       "    <tr>\n",
       "      <th>75596</th>\n",
       "      <td>2025-01-03</td>\n",
       "      <td>VZ</td>\n",
       "      <td>40.259998</td>\n",
       "      <td>40.630001</td>\n",
       "      <td>40.110001</td>\n",
       "      <td>40.320000</td>\n",
       "      <td>15223400.0</td>\n",
       "    </tr>\n",
       "    <tr>\n",
       "      <th>75597</th>\n",
       "      <td>2025-01-03</td>\n",
       "      <td>WFC</td>\n",
       "      <td>71.309998</td>\n",
       "      <td>71.419998</td>\n",
       "      <td>69.739998</td>\n",
       "      <td>70.349998</td>\n",
       "      <td>9152800.0</td>\n",
       "    </tr>\n",
       "    <tr>\n",
       "      <th>75598</th>\n",
       "      <td>2025-01-03</td>\n",
       "      <td>WMT</td>\n",
       "      <td>90.779999</td>\n",
       "      <td>91.300003</td>\n",
       "      <td>90.139999</td>\n",
       "      <td>90.150002</td>\n",
       "      <td>10815200.0</td>\n",
       "    </tr>\n",
       "    <tr>\n",
       "      <th>75599</th>\n",
       "      <td>2025-01-03</td>\n",
       "      <td>XOM</td>\n",
       "      <td>107.860001</td>\n",
       "      <td>108.489998</td>\n",
       "      <td>107.459999</td>\n",
       "      <td>108.000000</td>\n",
       "      <td>14230000.0</td>\n",
       "    </tr>\n",
       "  </tbody>\n",
       "</table>\n",
       "<p>75600 rows × 7 columns</p>\n",
       "</div>"
      ],
      "text/plain": [
       "Metric       Date Symbol       Close        High         Low        Open  \\\n",
       "0      2020-01-02   AAPL   72.796005   72.856598   71.545372   71.799858   \n",
       "1      2020-01-02   ABBV   72.264893   72.281029   71.425635   71.885612   \n",
       "2      2020-01-02    ACN  195.263596  196.908218  194.018521  195.923308   \n",
       "3      2020-01-02   ADBE  334.429993  334.480011  329.170013  330.000000   \n",
       "4      2020-01-02    AMT  200.433960  202.758462  200.004141  201.469017   \n",
       "...           ...    ...         ...         ...         ...         ...   \n",
       "75595  2025-01-03    UPS  123.790001  124.330002  122.760002  123.959999   \n",
       "75596  2025-01-03     VZ   40.259998   40.630001   40.110001   40.320000   \n",
       "75597  2025-01-03    WFC   71.309998   71.419998   69.739998   70.349998   \n",
       "75598  2025-01-03    WMT   90.779999   91.300003   90.139999   90.150002   \n",
       "75599  2025-01-03    XOM  107.860001  108.489998  107.459999  108.000000   \n",
       "\n",
       "Metric       Volume  \n",
       "0       135480400.0  \n",
       "1         5639200.0  \n",
       "2         2431100.0  \n",
       "3         1990100.0  \n",
       "4         1426000.0  \n",
       "...             ...  \n",
       "75595     3490400.0  \n",
       "75596    15223400.0  \n",
       "75597     9152800.0  \n",
       "75598    10815200.0  \n",
       "75599    14230000.0  \n",
       "\n",
       "[75600 rows x 7 columns]"
      ]
     },
     "metadata": {},
     "output_type": "display_data"
    }
   ],
   "source": [
    "start_date = '2020-01-01'\n",
    "end_date = datetime.today().strftime('%Y-%m-%d')\n",
    "\n",
    "# Download prices from yfinance\n",
    "prices = yf.download(symbols, start=start_date, end=end_date, group_by='ticker')\n",
    "\n",
    "# Check if the data has a MultiIndex (due to multiple symbols)\n",
    "if isinstance(prices.columns, pd.MultiIndex):\n",
    "    # Flatten the MultiIndex columns\n",
    "    prices.columns = ['_'.join(filter(None, map(str, col))) for col in prices.columns]\n",
    "\n",
    "# Reset index and melt the DataFrame to include a \"symbol\" column\n",
    "prices = prices.copy()  # Avoid fragmentation issues\n",
    "prices.reset_index(inplace=True)\n",
    "prices = prices.melt(id_vars=[\"Date\"], var_name=\"Metric\", value_name=\"Value\")\n",
    "prices[[\"Symbol\", \"Metric\"]] = prices[\"Metric\"].str.extract(r'([^_]+)_(.+)')\n",
    "prices = prices.pivot(index=[\"Date\", \"Symbol\"], columns=\"Metric\", values=\"Value\").reset_index()\n",
    "\n",
    "display(prices)"
   ]
  },
  {
   "cell_type": "markdown",
   "metadata": {},
   "source": [
    "## Step 4: Convert Pandas to Polars"
   ]
  },
  {
   "cell_type": "code",
   "execution_count": 4,
   "metadata": {
    "execution": {
     "iopub.execute_input": "2025-01-05T19:18:26.240619Z",
     "iopub.status.busy": "2025-01-05T19:18:26.240254Z",
     "iopub.status.idle": "2025-01-05T19:18:26.305911Z",
     "shell.execute_reply": "2025-01-05T19:18:26.305357Z"
    }
   },
   "outputs": [
    {
     "name": "stdout",
     "output_type": "stream",
     "text": [
      "shape: (75_600, 7)\n",
      "┌─────────────────────┬────────┬────────────┬────────────┬────────────┬────────────┬────────────┐\n",
      "│ Date                ┆ Symbol ┆ Close      ┆ High       ┆ Low        ┆ Open       ┆ Volume     │\n",
      "│ ---                 ┆ ---    ┆ ---        ┆ ---        ┆ ---        ┆ ---        ┆ ---        │\n",
      "│ datetime[ns]        ┆ str    ┆ f64        ┆ f64        ┆ f64        ┆ f64        ┆ f64        │\n",
      "╞═════════════════════╪════════╪════════════╪════════════╪════════════╪════════════╪════════════╡\n",
      "│ 2020-01-02 00:00:00 ┆ AAPL   ┆ 72.796005  ┆ 72.856598  ┆ 71.545372  ┆ 71.799858  ┆ 1.354804e8 │\n",
      "│ 2020-01-02 00:00:00 ┆ ABBV   ┆ 72.264893  ┆ 72.281029  ┆ 71.425635  ┆ 71.885612  ┆ 5.6392e6   │\n",
      "│ 2020-01-02 00:00:00 ┆ ACN    ┆ 195.263596 ┆ 196.908218 ┆ 194.018521 ┆ 195.923308 ┆ 2.4311e6   │\n",
      "│ 2020-01-02 00:00:00 ┆ ADBE   ┆ 334.429993 ┆ 334.480011 ┆ 329.170013 ┆ 330.0      ┆ 1.9901e6   │\n",
      "│ 2020-01-02 00:00:00 ┆ AMT    ┆ 200.43396  ┆ 202.758462 ┆ 200.004141 ┆ 201.469017 ┆ 1.426e6    │\n",
      "│ …                   ┆ …      ┆ …          ┆ …          ┆ …          ┆ …          ┆ …          │\n",
      "│ 2025-01-03 00:00:00 ┆ UPS    ┆ 123.790001 ┆ 124.330002 ┆ 122.760002 ┆ 123.959999 ┆ 3.4904e6   │\n",
      "│ 2025-01-03 00:00:00 ┆ VZ     ┆ 40.259998  ┆ 40.630001  ┆ 40.110001  ┆ 40.32      ┆ 1.52234e7  │\n",
      "│ 2025-01-03 00:00:00 ┆ WFC    ┆ 71.309998  ┆ 71.419998  ┆ 69.739998  ┆ 70.349998  ┆ 9.1528e6   │\n",
      "│ 2025-01-03 00:00:00 ┆ WMT    ┆ 90.779999  ┆ 91.300003  ┆ 90.139999  ┆ 90.150002  ┆ 1.08152e7  │\n",
      "│ 2025-01-03 00:00:00 ┆ XOM    ┆ 107.860001 ┆ 108.489998 ┆ 107.459999 ┆ 108.0      ┆ 1.423e7    │\n",
      "└─────────────────────┴────────┴────────────┴────────────┴────────────┴────────────┴────────────┘\n"
     ]
    }
   ],
   "source": [
    "# Convert to Polars DataFrame\n",
    "df = pl.from_pandas(prices)\n",
    "\n",
    "# View the Polars DataFrame\n",
    "print(df)"
   ]
  },
  {
   "cell_type": "markdown",
   "metadata": {},
   "source": [
    "## Step 5: Write Polars to Parquet"
   ]
  },
  {
   "cell_type": "code",
   "execution_count": 5,
   "metadata": {
    "execution": {
     "iopub.execute_input": "2025-01-05T19:18:26.308089Z",
     "iopub.status.busy": "2025-01-05T19:18:26.307610Z",
     "iopub.status.idle": "2025-01-05T19:18:26.339126Z",
     "shell.execute_reply": "2025-01-05T19:18:26.338539Z"
    }
   },
   "outputs": [],
   "source": [
    "output_dir = \"../../../data/finance\"\n",
    "\n",
    "# Write DataFrame to Parquet\n",
    "df.write_parquet(f'{output_dir}/historical_stock_quotes_{start_date}_to_{end_date}.parquet')"
   ]
  },
  {
   "cell_type": "markdown",
   "metadata": {},
   "source": [
    "## Step 6: Read Parquet (Validate)"
   ]
  },
  {
   "cell_type": "code",
   "execution_count": 6,
   "metadata": {
    "execution": {
     "iopub.execute_input": "2025-01-05T19:18:26.341344Z",
     "iopub.status.busy": "2025-01-05T19:18:26.341003Z",
     "iopub.status.idle": "2025-01-05T19:18:26.351135Z",
     "shell.execute_reply": "2025-01-05T19:18:26.350544Z"
    }
   },
   "outputs": [
    {
     "data": {
      "text/html": [
       "<div><style>\n",
       ".dataframe > thead > tr,\n",
       ".dataframe > tbody > tr {\n",
       "  text-align: right;\n",
       "  white-space: pre-wrap;\n",
       "}\n",
       "</style>\n",
       "<small>shape: (5, 7)</small><table border=\"1\" class=\"dataframe\"><thead><tr><th>Date</th><th>Symbol</th><th>Close</th><th>High</th><th>Low</th><th>Open</th><th>Volume</th></tr><tr><td>datetime[ns]</td><td>str</td><td>f64</td><td>f64</td><td>f64</td><td>f64</td><td>f64</td></tr></thead><tbody><tr><td>2020-01-02 00:00:00</td><td>&quot;AAPL&quot;</td><td>72.796005</td><td>72.856598</td><td>71.545372</td><td>71.799858</td><td>1.354804e8</td></tr><tr><td>2020-01-02 00:00:00</td><td>&quot;ABBV&quot;</td><td>72.264893</td><td>72.281029</td><td>71.425635</td><td>71.885612</td><td>5.6392e6</td></tr><tr><td>2020-01-02 00:00:00</td><td>&quot;ACN&quot;</td><td>195.263596</td><td>196.908218</td><td>194.018521</td><td>195.923308</td><td>2.4311e6</td></tr><tr><td>2020-01-02 00:00:00</td><td>&quot;ADBE&quot;</td><td>334.429993</td><td>334.480011</td><td>329.170013</td><td>330.0</td><td>1.9901e6</td></tr><tr><td>2020-01-02 00:00:00</td><td>&quot;AMT&quot;</td><td>200.43396</td><td>202.758462</td><td>200.004141</td><td>201.469017</td><td>1.426e6</td></tr></tbody></table></div>"
      ],
      "text/plain": [
       "shape: (5, 7)\n",
       "┌─────────────────────┬────────┬────────────┬────────────┬────────────┬────────────┬────────────┐\n",
       "│ Date                ┆ Symbol ┆ Close      ┆ High       ┆ Low        ┆ Open       ┆ Volume     │\n",
       "│ ---                 ┆ ---    ┆ ---        ┆ ---        ┆ ---        ┆ ---        ┆ ---        │\n",
       "│ datetime[ns]        ┆ str    ┆ f64        ┆ f64        ┆ f64        ┆ f64        ┆ f64        │\n",
       "╞═════════════════════╪════════╪════════════╪════════════╪════════════╪════════════╪════════════╡\n",
       "│ 2020-01-02 00:00:00 ┆ AAPL   ┆ 72.796005  ┆ 72.856598  ┆ 71.545372  ┆ 71.799858  ┆ 1.354804e8 │\n",
       "│ 2020-01-02 00:00:00 ┆ ABBV   ┆ 72.264893  ┆ 72.281029  ┆ 71.425635  ┆ 71.885612  ┆ 5.6392e6   │\n",
       "│ 2020-01-02 00:00:00 ┆ ACN    ┆ 195.263596 ┆ 196.908218 ┆ 194.018521 ┆ 195.923308 ┆ 2.4311e6   │\n",
       "│ 2020-01-02 00:00:00 ┆ ADBE   ┆ 334.429993 ┆ 334.480011 ┆ 329.170013 ┆ 330.0      ┆ 1.9901e6   │\n",
       "│ 2020-01-02 00:00:00 ┆ AMT    ┆ 200.43396  ┆ 202.758462 ┆ 200.004141 ┆ 201.469017 ┆ 1.426e6    │\n",
       "└─────────────────────┴────────┴────────────┴────────────┴────────────┴────────────┴────────────┘"
      ]
     },
     "execution_count": 6,
     "metadata": {},
     "output_type": "execute_result"
    }
   ],
   "source": [
    "pl.scan_parquet(f'{output_dir}/historical_stock_quotes_{start_date}_to_{end_date}.parquet').head().collect()"
   ]
  }
 ],
 "metadata": {
  "kernelspec": {
   "display_name": ".venv",
   "language": "python",
   "name": "python3"
  },
  "language_info": {
   "codemirror_mode": {
    "name": "ipython",
    "version": 3
   },
   "file_extension": ".py",
   "mimetype": "text/x-python",
   "name": "python",
   "nbconvert_exporter": "python",
   "pygments_lexer": "ipython3",
   "version": "3.12.8"
  }
 },
 "nbformat": 4,
 "nbformat_minor": 2
}
