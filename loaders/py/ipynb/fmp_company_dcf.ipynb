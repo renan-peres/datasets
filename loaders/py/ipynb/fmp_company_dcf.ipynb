{
 "cells": [
  {
   "cell_type": "markdown",
   "metadata": {},
   "source": [
    "## Step 1: Import Libraries"
   ]
  },
  {
   "cell_type": "code",
   "execution_count": 1,
   "metadata": {
    "execution": {
     "iopub.execute_input": "2025-01-14T10:04:49.356958Z",
     "iopub.status.busy": "2025-01-14T10:04:49.356527Z",
     "iopub.status.idle": "2025-01-14T10:04:49.419337Z",
     "shell.execute_reply": "2025-01-14T10:04:49.418813Z"
    }
   },
   "outputs": [],
   "source": [
    "%run ../make_clean_names.py"
   ]
  },
  {
   "cell_type": "code",
   "execution_count": 2,
   "metadata": {
    "execution": {
     "iopub.execute_input": "2025-01-14T10:04:49.421429Z",
     "iopub.status.busy": "2025-01-14T10:04:49.421077Z",
     "iopub.status.idle": "2025-01-14T10:04:49.486340Z",
     "shell.execute_reply": "2025-01-14T10:04:49.485752Z"
    }
   },
   "outputs": [],
   "source": [
    "import concurrent.futures\n",
    "from concurrent.futures import ThreadPoolExecutor\n",
    "import requests\n",
    "from requests.adapters import HTTPAdapter\n",
    "from urllib3.util.retry import Retry\n",
    "import logging\n",
    "\n",
    "import polars as pl\n",
    "from datetime import datetime, timedelta\n",
    "from dotenv import load_dotenv\n",
    "import os\n",
    "\n",
    "# Load environment variables\n",
    "load_dotenv()\n",
    "\n",
    "logging.basicConfig(level=logging.INFO)\n",
    "logger = logging.getLogger(__name__)\n",
    "\n",
    "def create_session():\n",
    "    session = requests.Session()\n",
    "    retries = Retry(\n",
    "        total=3,\n",
    "        backoff_factor=1,\n",
    "        status_forcelist=[429, 500, 502, 503, 504]\n",
    "    )\n",
    "    session.mount('https://', HTTPAdapter(max_retries=retries, pool_maxsize=10))\n",
    "    return session\n",
    "\n",
    "# Get API key from environment variables\n",
    "FMP_API_KEY = os.getenv('FMP_API_KEY')\n",
    "if not FMP_API_KEY:\n",
    "    raise ValueError(\"FMP_API_KEY not found in environment variables\")"
   ]
  },
  {
   "cell_type": "markdown",
   "metadata": {},
   "source": [
    "## Step 2: Import Symbols"
   ]
  },
  {
   "cell_type": "code",
   "execution_count": 3,
   "metadata": {
    "execution": {
     "iopub.execute_input": "2025-01-14T10:04:49.488333Z",
     "iopub.status.busy": "2025-01-14T10:04:49.488153Z",
     "iopub.status.idle": "2025-01-14T10:04:49.492695Z",
     "shell.execute_reply": "2025-01-14T10:04:49.492193Z"
    }
   },
   "outputs": [
    {
     "name": "stdout",
     "output_type": "stream",
     "text": [
      "Loaded 60 symbols from ../tickers.txt\n",
      "Symbols: ['AAPL', 'MSFT', 'GOOGL', 'GOOG', 'META', 'NVDA', 'AVGO', 'ORCL', 'CRM', 'ACN', 'ADBE', 'CSCO', 'INTC', 'NFLX', 'DIS', 'CMCSA', 'VZ', 'T', 'AMZN', 'TSLA', 'HD', 'MCD', 'NKE', 'SBUX', 'TGT', 'LOW', 'WMT', 'PG', 'KO', 'PEP', 'COST', 'BRK-B', 'JPM', 'BAC', 'WFC', 'GS', 'MS', 'BLK', 'UNH', 'JNJ', 'PFE', 'ABBV', 'MRK', 'LLY', 'CAT', 'BA', 'HON', 'UPS', 'RTX', 'GE', 'XOM', 'CVX', 'COP', 'SLB', 'LIN', 'APD', 'ECL', 'PLD', 'AMT', 'CCI']\n"
     ]
    }
   ],
   "source": [
    "def load_symbols(file_path: str) -> List[str]:\n",
    "    \"\"\"Load symbols from a text file\"\"\"\n",
    "    try:\n",
    "        with open(file_path, 'r') as f:\n",
    "            symbols = [line.strip() for line in f if line.strip()]\n",
    "        print(f\"Loaded {len(symbols)} symbols from {file_path}\")\n",
    "        return symbols\n",
    "    except Exception as e:\n",
    "        print(f\"Error loading symbols: {str(e)}\")\n",
    "        return []\n",
    "\n",
    "symbols_file = '../tickers.txt'\n",
    "symbols = load_symbols(symbols_file)\n",
    "\n",
    "if symbols:\n",
    "    print(\"Symbols:\", symbols)\n",
    "else:\n",
    "    print(\"No symbols loaded.\")"
   ]
  },
  {
   "cell_type": "markdown",
   "metadata": {},
   "source": [
    "## Step 3: Extract Data from FMP into Polars"
   ]
  },
  {
   "cell_type": "code",
   "execution_count": 4,
   "metadata": {
    "execution": {
     "iopub.execute_input": "2025-01-14T10:04:49.529635Z",
     "iopub.status.busy": "2025-01-14T10:04:49.529397Z",
     "iopub.status.idle": "2025-01-14T10:04:49.873197Z",
     "shell.execute_reply": "2025-01-14T10:04:49.872626Z"
    }
   },
   "outputs": [],
   "source": [
    "def fetch_dcf(symbol: str, api_key: str, session: requests.Session) -> Dict:\n",
    "    \"\"\"Fetch company profile data from FMP API\"\"\"\n",
    "    url = f\"https://financialmodelingprep.com/api/v3/discounted-cash-flow/{symbol}\"\n",
    "    params = {\"apikey\": api_key}\n",
    "    \n",
    "    try:\n",
    "        response = session.get(url, params=params, timeout=10)\n",
    "        response.raise_for_status()\n",
    "        return response.json()\n",
    "    except Exception as e:\n",
    "        logger.error(f\"Error fetching {symbol}: {str(e)}\")\n",
    "        return None\n",
    "\n",
    "def fetch_all_dcf(symbols: List[str], api_key: str) -> List[Dict]:\n",
    "    session = create_session()\n",
    "    \n",
    "    with ThreadPoolExecutor(max_workers=10) as executor:\n",
    "        futures = [\n",
    "            executor.submit(fetch_dcf, symbol, api_key, session)\n",
    "            for symbol in symbols\n",
    "        ]\n",
    "        results = [\n",
    "            f.result() for f in concurrent.futures.as_completed(futures)\n",
    "        ]\n",
    "    \n",
    "    return [r[0] for r in results if r and isinstance(r, list)]\n",
    "\n",
    "# Execute fetching\n",
    "company_profiles = fetch_all_dcf(symbols, FMP_API_KEY)\n",
    "\n",
    "# Convert to Polars DataFrame more efficiently\n",
    "if company_profiles:\n",
    "    df_dcf = pl.DataFrame(company_profiles)"
   ]
  },
  {
   "cell_type": "code",
   "execution_count": 5,
   "metadata": {
    "execution": {
     "iopub.execute_input": "2025-01-14T10:04:49.875395Z",
     "iopub.status.busy": "2025-01-14T10:04:49.875080Z",
     "iopub.status.idle": "2025-01-14T10:04:50.487311Z",
     "shell.execute_reply": "2025-01-14T10:04:50.486807Z"
    }
   },
   "outputs": [],
   "source": [
    "def fetch_dcf_advanced(symbol: str, api_key: str, session: requests.Session) -> Dict:\n",
    "    \"\"\"Fetch company profile data from FMP API\"\"\"\n",
    "    url = f\"https://financialmodelingprep.com/api/v4/advanced_discounted_cash_flow\"\n",
    "    params = {\n",
    "        \"symbol\": symbol,\n",
    "        \"apikey\": api_key}\n",
    "    \n",
    "    try:\n",
    "        response = session.get(url, params=params, timeout=10)\n",
    "        response.raise_for_status()\n",
    "        return response.json()\n",
    "    except Exception as e:\n",
    "        logger.error(f\"Error fetching {symbol}: {str(e)}\")\n",
    "        return None\n",
    "\n",
    "def fetch_all_dcf_advanced(symbols: List[str], api_key: str) -> List[Dict]:\n",
    "    session = create_session()\n",
    "    \n",
    "    with ThreadPoolExecutor(max_workers=10) as executor:\n",
    "        futures = [\n",
    "            executor.submit(fetch_dcf_advanced, symbol, api_key, session)\n",
    "            for symbol in symbols\n",
    "        ]\n",
    "        results = [\n",
    "            f.result() for f in concurrent.futures.as_completed(futures)\n",
    "        ]\n",
    "    \n",
    "    return [r[0] for r in results if r and isinstance(r, list)]\n",
    "\n",
    "# Execute fetching\n",
    "company_profiles = fetch_all_dcf_advanced(symbols, FMP_API_KEY)\n",
    "\n",
    "# Convert to Polars DataFrame more efficiently\n",
    "if company_profiles:\n",
    "    df_dcf_advanced = pl.DataFrame(company_profiles)"
   ]
  },
  {
   "cell_type": "markdown",
   "metadata": {},
   "source": [
    "## Step 4: Clean Column Names"
   ]
  },
  {
   "cell_type": "code",
   "execution_count": 6,
   "metadata": {
    "execution": {
     "iopub.execute_input": "2025-01-14T10:04:50.489341Z",
     "iopub.status.busy": "2025-01-14T10:04:50.489161Z",
     "iopub.status.idle": "2025-01-14T10:04:50.494421Z",
     "shell.execute_reply": "2025-01-14T10:04:50.493884Z"
    }
   },
   "outputs": [],
   "source": [
    "df = df_dcf.join(df_dcf_advanced, on=\"symbol\", how=\"left\")"
   ]
  },
  {
   "cell_type": "code",
   "execution_count": 7,
   "metadata": {
    "execution": {
     "iopub.execute_input": "2025-01-14T10:04:50.496300Z",
     "iopub.status.busy": "2025-01-14T10:04:50.495962Z",
     "iopub.status.idle": "2025-01-14T10:04:50.500084Z",
     "shell.execute_reply": "2025-01-14T10:04:50.499543Z"
    }
   },
   "outputs": [],
   "source": [
    "df = make_clean_names(df)"
   ]
  },
  {
   "cell_type": "markdown",
   "metadata": {},
   "source": [
    "## Step 5: Write Polars to Parquet"
   ]
  },
  {
   "cell_type": "code",
   "execution_count": 8,
   "metadata": {
    "execution": {
     "iopub.execute_input": "2025-01-14T10:04:50.501970Z",
     "iopub.status.busy": "2025-01-14T10:04:50.501649Z",
     "iopub.status.idle": "2025-01-14T10:04:50.506520Z",
     "shell.execute_reply": "2025-01-14T10:04:50.506080Z"
    }
   },
   "outputs": [],
   "source": [
    "output_dir = \"../../../data/finance\"\n",
    "\n",
    "# Write DataFrame to Parquet\n",
    "df.write_parquet(f'{output_dir}/company_dfc_advanced.parquet')"
   ]
  },
  {
   "cell_type": "markdown",
   "metadata": {},
   "source": [
    "## Step 6: Read Parquet (Validate)"
   ]
  },
  {
   "cell_type": "code",
   "execution_count": 9,
   "metadata": {
    "execution": {
     "iopub.execute_input": "2025-01-14T10:04:50.508302Z",
     "iopub.status.busy": "2025-01-14T10:04:50.508107Z",
     "iopub.status.idle": "2025-01-14T10:04:50.516949Z",
     "shell.execute_reply": "2025-01-14T10:04:50.516491Z"
    }
   },
   "outputs": [
    {
     "data": {
      "text/html": [
       "<div><style>\n",
       ".dataframe > thead > tr,\n",
       ".dataframe > tbody > tr {\n",
       "  text-align: right;\n",
       "  white-space: pre-wrap;\n",
       "}\n",
       "</style>\n",
       "<small>shape: (5, 50)</small><table border=\"1\" class=\"dataframe\"><thead><tr><th>symbol</th><th>date</th><th>dcf</th><th>stock_price</th><th>year</th><th>revenue</th><th>revenue_percentage</th><th>ebitda</th><th>ebitda_percentage</th><th>ebit</th><th>ebit_percentage</th><th>depreciation</th><th>depreciation_percentage</th><th>total_cash</th><th>total_cash_percentage</th><th>receivables</th><th>receivables_percentage</th><th>inventories</th><th>inventories_percentage</th><th>payable</th><th>payable_percentage</th><th>capital_expenditure</th><th>capital_expenditure_percentage</th><th>price</th><th>beta</th><th>diluted_shares_outstanding</th><th>costof_debt</th><th>tax_rate</th><th>after_tax_cost_of_debt</th><th>risk_free_rate</th><th>market_risk_premium</th><th>cost_of_equity</th><th>total_debt</th><th>total_equity</th><th>total_capital</th><th>debt_weighting</th><th>equity_weighting</th><th>wacc</th><th>tax_rate_cash</th><th>ebiat</th><th>ufcf</th><th>sum_pv_ufcf</th><th>long_term_growth_rate</th><th>terminal_value</th><th>present_terminal_value</th><th>enterprise_value</th><th>net_debt</th><th>equity_value</th><th>equity_value_per_share</th><th>free_cash_flowt1</th></tr><tr><td>str</td><td>str</td><td>f64</td><td>f64</td><td>str</td><td>i64</td><td>f64</td><td>i64</td><td>f64</td><td>i64</td><td>f64</td><td>i64</td><td>f64</td><td>i64</td><td>f64</td><td>i64</td><td>f64</td><td>f64</td><td>f64</td><td>i64</td><td>f64</td><td>i64</td><td>f64</td><td>f64</td><td>f64</td><td>i64</td><td>f64</td><td>f64</td><td>f64</td><td>f64</td><td>f64</td><td>f64</td><td>i64</td><td>i64</td><td>i64</td><td>f64</td><td>f64</td><td>f64</td><td>i64</td><td>i64</td><td>i64</td><td>i64</td><td>f64</td><td>i64</td><td>i64</td><td>i64</td><td>i64</td><td>i64</td><td>f64</td><td>i64</td></tr></thead><tbody><tr><td>&quot;AAPL&quot;</td><td>&quot;2025-01-14&quot;</td><td>140.781233</td><td>234.4</td><td>&quot;2029&quot;</td><td>631734147383</td><td>10.07</td><td>203936738085</td><td>32.28</td><td>183897900530</td><td>29.11</td><td>20038837554</td><td>3.17</td><td>120316909203</td><td>19.05</td><td>96053677011</td><td>15.2</td><td>1.0168e10</td><td>1.61</td><td>101845034847</td><td>16.12</td><td>-17288478562</td><td>-2.74</td><td>234.4</td><td>1.24</td><td>15408095000</td><td>4.61</td><td>24.09</td><td>3.5</td><td>4.61</td><td>4.72</td><td>10.46</td><td>106629000000</td><td>3611657468000</td><td>3718286468000</td><td>2.87</td><td>97.13</td><td>10.27</td><td>16549050</td><td>153464546253</td><td>155814583110</td><td>481247563785</td><td>4.0</td><td>2583214629679</td><td>1584210662701</td><td>2065458226487</td><td>76686000000</td><td>1988772226487</td><td>129.07</td><td>162047166435</td></tr><tr><td>&quot;MSFT&quot;</td><td>&quot;2025-01-14&quot;</td><td>341.792269</td><td>417.19</td><td>&quot;2029&quot;</td><td>482612279172</td><td>14.51</td><td>243343429409</td><td>50.42</td><td>206653972432</td><td>42.82</td><td>36689456977</td><td>7.6</td><td>298328812038</td><td>61.82</td><td>109589014184</td><td>22.71</td><td>6.2437e9</td><td>1.29</td><td>43316742017</td><td>8.98</td><td>-64207442622</td><td>-13.3</td><td>417.19</td><td>0.904</td><td>7469000000</td><td>4.61</td><td>18.23</td><td>3.77</td><td>4.61</td><td>4.72</td><td>8.88</td><td>97852000000</td><td>3115992110000</td><td>3213844110000</td><td>3.04</td><td>96.96</td><td>8.72</td><td>16131522</td><td>173317543200</td><td>136610813702</td><td>405796835761</td><td>4.0</td><td>3007313863094</td><td>1979452928723</td><td>2385249764484</td><td>79537000000</td><td>2305712764484</td><td>308.7</td><td>142075246250</td></tr><tr><td>&quot;ACN&quot;</td><td>&quot;2025-01-14&quot;</td><td>293.141958</td><td>349.14</td><td>&quot;2029&quot;</td><td>105950291348</td><td>10.3</td><td>17797130243</td><td>16.8</td><td>14775615976</td><td>13.95</td><td>3021514267</td><td>2.85</td><td>14837440631</td><td>14.0</td><td>20385110820</td><td>19.24</td><td>0.47804</td><td>4.5100e-10</td><td>4198685139</td><td>3.96</td><td>-1119905369</td><td>-1.06</td><td>349.14</td><td>1.245</td><td>635940044</td><td>4.61</td><td>25.1</td><td>3.45</td><td>4.61</td><td>4.72</td><td>10.49</td><td>4120549000</td><td>222032106962</td><td>226152655962</td><td>1.82</td><td>98.18</td><td>10.36</td><td>24724559</td><td>11122410139</td><td>11512479260</td><td>36114171614</td><td>3.0</td><td>161143597238</td><td>98442552041</td><td>134556723655</td><td>-883920000</td><td>135440643655</td><td>212.98</td><td>11857853638</td></tr><tr><td>&quot;CRM&quot;</td><td>&quot;2025-01-14&quot;</td><td>183.496626</td><td>319.07</td><td>&quot;2029&quot;</td><td>85367530420</td><td>19.62</td><td>15315079034</td><td>17.94</td><td>5131274276</td><td>6.01</td><td>10183804758</td><td>11.93</td><td>38103749554</td><td>44.63</td><td>30144526056</td><td>35.31</td><td>3.7496e9</td><td>4.39</td><td>9582770514</td><td>11.23</td><td>-2469646707</td><td>-2.89</td><td>319.07</td><td>1.288</td><td>984000000</td><td>4.61</td><td>16.44</td><td>3.85</td><td>4.61</td><td>4.72</td><td>10.69</td><td>13562000000</td><td>313964880000</td><td>327526880000</td><td>4.14</td><td>95.86</td><td>10.37</td><td>34565279</td><td>3357635029</td><td>7084413861</td><td>16944261958</td><td>2.0</td><td>86316349753</td><td>52699367566</td><td>69643629525</td><td>5090000000</td><td>64553629525</td><td>65.6</td><td>7226102138</td></tr><tr><td>&quot;GOOG&quot;</td><td>&quot;2025-01-14&quot;</td><td>186.493198</td><td>191.01</td><td>&quot;2028&quot;</td><td>706109768075</td><td>18.1</td><td>240199708049</td><td>34.02</td><td>200287429124</td><td>28.36</td><td>39912278924</td><td>5.65</td><td>394484923413</td><td>55.87</td><td>111949781484</td><td>15.85</td><td>3.4094e9</td><td>0.48284</td><td>18488261260</td><td>2.62</td><td>-81828362399</td><td>-11.59</td><td>191.01</td><td>1.034</td><td>12722000000</td><td>4.61</td><td>13.91</td><td>3.97</td><td>4.61</td><td>4.72</td><td>9.49</td><td>28504000000</td><td>2430029220000</td><td>2458533220000</td><td>1.16</td><td>98.84</td><td>9.43</td><td>15122195</td><td>169999573836</td><td>113239806868</td><td>310091790167</td><td>4.0</td><td>2170538945909</td><td>1383466538174</td><td>1693558328341</td><td>4456000000</td><td>1689102328341</td><td>132.77</td><td>117769399143</td></tr></tbody></table></div>"
      ],
      "text/plain": [
       "shape: (5, 50)\n",
       "┌────────┬────────────┬────────────┬───────────┬───┬───────────┬───────────┬───────────┬───────────┐\n",
       "│ symbol ┆ date       ┆ dcf        ┆ stock_pri ┆ … ┆ net_debt  ┆ equity_va ┆ equity_va ┆ free_cash │\n",
       "│ ---    ┆ ---        ┆ ---        ┆ ce        ┆   ┆ ---       ┆ lue       ┆ lue_per_s ┆ _flowt1   │\n",
       "│ str    ┆ str        ┆ f64        ┆ ---       ┆   ┆ i64       ┆ ---       ┆ hare      ┆ ---       │\n",
       "│        ┆            ┆            ┆ f64       ┆   ┆           ┆ i64       ┆ ---       ┆ i64       │\n",
       "│        ┆            ┆            ┆           ┆   ┆           ┆           ┆ f64       ┆           │\n",
       "╞════════╪════════════╪════════════╪═══════════╪═══╪═══════════╪═══════════╪═══════════╪═══════════╡\n",
       "│ AAPL   ┆ 2025-01-14 ┆ 140.781233 ┆ 234.4     ┆ … ┆ 766860000 ┆ 198877222 ┆ 129.07    ┆ 162047166 │\n",
       "│        ┆            ┆            ┆           ┆   ┆ 00        ┆ 6487      ┆           ┆ 435       │\n",
       "│ MSFT   ┆ 2025-01-14 ┆ 341.792269 ┆ 417.19    ┆ … ┆ 795370000 ┆ 230571276 ┆ 308.7     ┆ 142075246 │\n",
       "│        ┆            ┆            ┆           ┆   ┆ 00        ┆ 4484      ┆           ┆ 250       │\n",
       "│ ACN    ┆ 2025-01-14 ┆ 293.141958 ┆ 349.14    ┆ … ┆ -88392000 ┆ 135440643 ┆ 212.98    ┆ 118578536 │\n",
       "│        ┆            ┆            ┆           ┆   ┆ 0         ┆ 655       ┆           ┆ 38        │\n",
       "│ CRM    ┆ 2025-01-14 ┆ 183.496626 ┆ 319.07    ┆ … ┆ 509000000 ┆ 645536295 ┆ 65.6      ┆ 722610213 │\n",
       "│        ┆            ┆            ┆           ┆   ┆ 0         ┆ 25        ┆           ┆ 8         │\n",
       "│ GOOG   ┆ 2025-01-14 ┆ 186.493198 ┆ 191.01    ┆ … ┆ 445600000 ┆ 168910232 ┆ 132.77    ┆ 117769399 │\n",
       "│        ┆            ┆            ┆           ┆   ┆ 0         ┆ 8341      ┆           ┆ 143       │\n",
       "└────────┴────────────┴────────────┴───────────┴───┴───────────┴───────────┴───────────┴───────────┘"
      ]
     },
     "execution_count": 9,
     "metadata": {},
     "output_type": "execute_result"
    }
   ],
   "source": [
    "pl.scan_parquet(f'{output_dir}/company_dfc_advanced.parquet').head().collect()"
   ]
  }
 ],
 "metadata": {
  "kernelspec": {
   "display_name": ".venv",
   "language": "python",
   "name": "python3"
  },
  "language_info": {
   "codemirror_mode": {
    "name": "ipython",
    "version": 3
   },
   "file_extension": ".py",
   "mimetype": "text/x-python",
   "name": "python",
   "nbconvert_exporter": "python",
   "pygments_lexer": "ipython3",
   "version": "3.12.8"
  }
 },
 "nbformat": 4,
 "nbformat_minor": 2
}
