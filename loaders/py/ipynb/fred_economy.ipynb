{
 "cells": [
  {
   "cell_type": "markdown",
   "metadata": {},
   "source": [
    "## Step 1: Import Libraries"
   ]
  },
  {
   "cell_type": "code",
   "execution_count": 1,
   "metadata": {
    "execution": {
     "iopub.execute_input": "2025-01-20T18:21:18.682890Z",
     "iopub.status.busy": "2025-01-20T18:21:18.682694Z",
     "iopub.status.idle": "2025-01-20T18:21:18.725067Z",
     "shell.execute_reply": "2025-01-20T18:21:18.724421Z"
    }
   },
   "outputs": [],
   "source": [
    "%run ../make_clean_names.py"
   ]
  },
  {
   "cell_type": "code",
   "execution_count": 2,
   "metadata": {
    "execution": {
     "iopub.execute_input": "2025-01-20T18:21:18.727337Z",
     "iopub.status.busy": "2025-01-20T18:21:18.727136Z",
     "iopub.status.idle": "2025-01-20T18:21:18.778042Z",
     "shell.execute_reply": "2025-01-20T18:21:18.777195Z"
    }
   },
   "outputs": [],
   "source": [
    "import concurrent.futures\n",
    "from concurrent.futures import ThreadPoolExecutor\n",
    "import requests\n",
    "from requests.adapters import HTTPAdapter\n",
    "from urllib3.util.retry import Retry\n",
    "import logging\n",
    "\n",
    "import polars as pl\n",
    "from datetime import datetime, timedelta\n",
    "from dotenv import load_dotenv\n",
    "import os\n",
    "\n",
    "# Load environment variables\n",
    "load_dotenv()\n",
    "\n",
    "logging.basicConfig(level=logging.INFO)\n",
    "logger = logging.getLogger(__name__)\n",
    "\n",
    "def create_session():\n",
    "    session = requests.Session()\n",
    "    retries = Retry(\n",
    "        total=3,\n",
    "        backoff_factor=1,\n",
    "        status_forcelist=[429, 500, 502, 503, 504]\n",
    "    )\n",
    "    session.mount('https://', HTTPAdapter(max_retries=retries, pool_maxsize=10))\n",
    "    return session\n",
    "\n",
    "# Get API key from environment variables\n",
    "FRED_API_KEY = os.getenv('FRED_API_KEY')\n",
    "if not FRED_API_KEY:\n",
    "    raise ValueError(\"FRED_API_KEY not found in environment variables\")"
   ]
  },
  {
   "cell_type": "markdown",
   "metadata": {},
   "source": [
    "## Step 2: Extract Data from FRED into Polars"
   ]
  },
  {
   "cell_type": "code",
   "execution_count": 3,
   "metadata": {
    "execution": {
     "iopub.execute_input": "2025-01-20T18:21:18.780418Z",
     "iopub.status.busy": "2025-01-20T18:21:18.780273Z",
     "iopub.status.idle": "2025-01-20T18:21:18.785815Z",
     "shell.execute_reply": "2025-01-20T18:21:18.785348Z"
    }
   },
   "outputs": [],
   "source": [
    "# Constants\n",
    "FRED_API_BASE_URL = \"https://api.stlouisfed.org/fred/series/observations\"\n",
    "REQUEST_TIMEOUT = 10\n",
    "\n",
    "# Series configurations with direct mapping\n",
    "FRED_SERIES_DESCRIPTIONS = {\n",
    "    'UNRATE': 'Unemployment Rate',\n",
    "    'GDP': 'Gross Domestic Product',\n",
    "    'FPCPITOTLZGUSA': 'Inflation Rate',\n",
    "    'DFF': 'Federal Funds Rate',\n",
    "    'DEXUSEU': 'USD/EUR Exchange Rate'\n",
    "}\n",
    "\n",
    "start_date = '2020-01-01'\n",
    "end_date = datetime.today().strftime('%Y-%m-%d')\n",
    "\n",
    "def fetch_data(series_id: str, api_key: str, session: requests.Session) -> Optional[List[Dict]]:\n",
    "    \"\"\"\n",
    "    Fetch economic data from FRED API for a single series.\n",
    "    \"\"\"\n",
    "    params = {\n",
    "        \"api_key\": api_key,\n",
    "        \"series_id\": series_id,\n",
    "        \"file_type\": \"json\",\n",
    "        \"sort_order\": \"desc\",\n",
    "        \"observation_start\": start_date,\n",
    "    }\n",
    "    \n",
    "    try:\n",
    "        response = session.get(\n",
    "            FRED_API_BASE_URL, \n",
    "            params=params, \n",
    "            timeout=REQUEST_TIMEOUT\n",
    "        )\n",
    "        response.raise_for_status()\n",
    "        \n",
    "        observations = response.json().get('observations', [])\n",
    "        description = FRED_SERIES_DESCRIPTIONS.get(series_id, 'Unknown')\n",
    "        \n",
    "        for obs in observations:\n",
    "            obs['series_id'] = series_id\n",
    "            obs['series_description'] = description\n",
    "                \n",
    "        return observations\n",
    "        \n",
    "    except requests.exceptions.RequestException as e:\n",
    "        logger.error(f\"Error fetching {series_id}: {str(e)}\")\n",
    "        return None\n",
    "    \n",
    "def fetch_all_data(series_ids: List[str], api_key: str) -> List[Dict]:\n",
    "    \"\"\"Fetch data for multiple series concurrently\"\"\"\n",
    "    session = requests.Session()\n",
    "    \n",
    "    with ThreadPoolExecutor(max_workers=min(10, len(series_ids))) as executor:\n",
    "        futures = [\n",
    "            executor.submit(fetch_data, series_id, api_key, session)\n",
    "            for series_id in series_ids\n",
    "        ]\n",
    "        results = []\n",
    "        for f in concurrent.futures.as_completed(futures):\n",
    "            if f.result():\n",
    "                results.extend(f.result())\n",
    "    \n",
    "    return results"
   ]
  },
  {
   "cell_type": "code",
   "execution_count": 4,
   "metadata": {
    "execution": {
     "iopub.execute_input": "2025-01-20T18:21:18.787946Z",
     "iopub.status.busy": "2025-01-20T18:21:18.787817Z",
     "iopub.status.idle": "2025-01-20T18:21:19.080246Z",
     "shell.execute_reply": "2025-01-20T18:21:19.079505Z"
    }
   },
   "outputs": [
    {
     "name": "stderr",
     "output_type": "stream",
     "text": [
      "INFO:__main__:Successfully created DataFrame with 3239 rows\n"
     ]
    },
    {
     "name": "stdout",
     "output_type": "stream",
     "text": [
      "shape: (3_239, 6)\n",
      "┌────────────────┬──────────────┬────────────┬──────────────────┬────────────────┬─────────────────┐\n",
      "│ realtime_start ┆ realtime_end ┆ date       ┆ value            ┆ series_id      ┆ series_descript │\n",
      "│ ---            ┆ ---          ┆ ---        ┆ ---              ┆ ---            ┆ ion             │\n",
      "│ str            ┆ str          ┆ str        ┆ str              ┆ str            ┆ ---             │\n",
      "│                ┆              ┆            ┆                  ┆                ┆ str             │\n",
      "╞════════════════╪══════════════╪════════════╪══════════════════╪════════════════╪═════════════════╡\n",
      "│ 2025-01-17     ┆ 2025-01-17   ┆ 2024-12-01 ┆ 4.1              ┆ UNRATE         ┆ Unemployment    │\n",
      "│                ┆              ┆            ┆                  ┆                ┆ Rate            │\n",
      "│ 2025-01-17     ┆ 2025-01-17   ┆ 2024-11-01 ┆ 4.2              ┆ UNRATE         ┆ Unemployment    │\n",
      "│                ┆              ┆            ┆                  ┆                ┆ Rate            │\n",
      "│ 2025-01-17     ┆ 2025-01-17   ┆ 2024-10-01 ┆ 4.1              ┆ UNRATE         ┆ Unemployment    │\n",
      "│                ┆              ┆            ┆                  ┆                ┆ Rate            │\n",
      "│ 2025-01-17     ┆ 2025-01-17   ┆ 2024-09-01 ┆ 4.1              ┆ UNRATE         ┆ Unemployment    │\n",
      "│                ┆              ┆            ┆                  ┆                ┆ Rate            │\n",
      "│ 2025-01-17     ┆ 2025-01-17   ┆ 2024-08-01 ┆ 4.2              ┆ UNRATE         ┆ Unemployment    │\n",
      "│                ┆              ┆            ┆                  ┆                ┆ Rate            │\n",
      "│ …              ┆ …            ┆ …          ┆ …                ┆ …              ┆ …               │\n",
      "│ 2025-01-08     ┆ 2025-01-08   ┆ 2020-01-01 ┆ 21727.657        ┆ GDP            ┆ Gross Domestic  │\n",
      "│                ┆              ┆            ┆                  ┆                ┆ Product         │\n",
      "│ 2025-01-08     ┆ 2025-01-08   ┆ 2023-01-01 ┆ 4.11633838374488 ┆ FPCPITOTLZGUSA ┆ Inflation Rate  │\n",
      "│ 2025-01-08     ┆ 2025-01-08   ┆ 2022-01-01 ┆ 8.00279982052121 ┆ FPCPITOTLZGUSA ┆ Inflation Rate  │\n",
      "│ 2025-01-08     ┆ 2025-01-08   ┆ 2021-01-01 ┆ 4.69785886363742 ┆ FPCPITOTLZGUSA ┆ Inflation Rate  │\n",
      "│ 2025-01-08     ┆ 2025-01-08   ┆ 2020-01-01 ┆ 1.23358439630629 ┆ FPCPITOTLZGUSA ┆ Inflation Rate  │\n",
      "└────────────────┴──────────────┴────────────┴──────────────────┴────────────────┴─────────────────┘\n"
     ]
    }
   ],
   "source": [
    "# Execute fetching and create DataFrame\n",
    "try:\n",
    "    data = fetch_all_data(list(FRED_SERIES_DESCRIPTIONS.keys()), FRED_API_KEY)\n",
    "    if data:\n",
    "        df = pl.DataFrame(data)\n",
    "        logger.info(f\"Successfully created DataFrame with {len(df)} rows\")\n",
    "        print(df)\n",
    "    else:\n",
    "        logger.error(\"No data received from FRED API\")\n",
    "except Exception as e:\n",
    "    logger.error(f\"Error processing data: {str(e)}\")"
   ]
  },
  {
   "cell_type": "markdown",
   "metadata": {},
   "source": [
    "## Step 4: Clean Column Names"
   ]
  },
  {
   "cell_type": "code",
   "execution_count": 5,
   "metadata": {
    "execution": {
     "iopub.execute_input": "2025-01-20T18:21:19.102074Z",
     "iopub.status.busy": "2025-01-20T18:21:19.101899Z",
     "iopub.status.idle": "2025-01-20T18:21:19.105982Z",
     "shell.execute_reply": "2025-01-20T18:21:19.105558Z"
    }
   },
   "outputs": [],
   "source": [
    "df = make_clean_names(df)"
   ]
  },
  {
   "cell_type": "code",
   "execution_count": 6,
   "metadata": {
    "execution": {
     "iopub.execute_input": "2025-01-20T18:21:19.108056Z",
     "iopub.status.busy": "2025-01-20T18:21:19.107685Z",
     "iopub.status.idle": "2025-01-20T18:21:19.111506Z",
     "shell.execute_reply": "2025-01-20T18:21:19.111100Z"
    }
   },
   "outputs": [],
   "source": [
    "df = df.select(\"date\", \"series_id\", \"series_description\", \"value\")"
   ]
  },
  {
   "cell_type": "markdown",
   "metadata": {},
   "source": [
    "## Step 5: Write Polars to Parquet"
   ]
  },
  {
   "cell_type": "code",
   "execution_count": 7,
   "metadata": {
    "execution": {
     "iopub.execute_input": "2025-01-20T18:21:19.113412Z",
     "iopub.status.busy": "2025-01-20T18:21:19.113111Z",
     "iopub.status.idle": "2025-01-20T18:21:19.125963Z",
     "shell.execute_reply": "2025-01-20T18:21:19.125344Z"
    }
   },
   "outputs": [],
   "source": [
    "output_dir = \"../../../data/finance\"\n",
    "\n",
    "# Write DataFrame to Parquet\n",
    "df.write_parquet(f'{output_dir}/fred_macro_economy.parquet')"
   ]
  },
  {
   "cell_type": "markdown",
   "metadata": {},
   "source": [
    "## Step 6: Read Parquet (Validate)"
   ]
  },
  {
   "cell_type": "code",
   "execution_count": 8,
   "metadata": {
    "execution": {
     "iopub.execute_input": "2025-01-20T18:21:19.127872Z",
     "iopub.status.busy": "2025-01-20T18:21:19.127722Z",
     "iopub.status.idle": "2025-01-20T18:21:19.134348Z",
     "shell.execute_reply": "2025-01-20T18:21:19.133866Z"
    }
   },
   "outputs": [
    {
     "data": {
      "text/html": [
       "<div><style>\n",
       ".dataframe > thead > tr,\n",
       ".dataframe > tbody > tr {\n",
       "  text-align: right;\n",
       "  white-space: pre-wrap;\n",
       "}\n",
       "</style>\n",
       "<small>shape: (5, 4)</small><table border=\"1\" class=\"dataframe\"><thead><tr><th>date</th><th>series_id</th><th>series_description</th><th>value</th></tr><tr><td>str</td><td>str</td><td>str</td><td>str</td></tr></thead><tbody><tr><td>&quot;2024-12-01&quot;</td><td>&quot;UNRATE&quot;</td><td>&quot;Unemployment Rate&quot;</td><td>&quot;4.1&quot;</td></tr><tr><td>&quot;2024-11-01&quot;</td><td>&quot;UNRATE&quot;</td><td>&quot;Unemployment Rate&quot;</td><td>&quot;4.2&quot;</td></tr><tr><td>&quot;2024-10-01&quot;</td><td>&quot;UNRATE&quot;</td><td>&quot;Unemployment Rate&quot;</td><td>&quot;4.1&quot;</td></tr><tr><td>&quot;2024-09-01&quot;</td><td>&quot;UNRATE&quot;</td><td>&quot;Unemployment Rate&quot;</td><td>&quot;4.1&quot;</td></tr><tr><td>&quot;2024-08-01&quot;</td><td>&quot;UNRATE&quot;</td><td>&quot;Unemployment Rate&quot;</td><td>&quot;4.2&quot;</td></tr></tbody></table></div>"
      ],
      "text/plain": [
       "shape: (5, 4)\n",
       "┌────────────┬───────────┬────────────────────┬───────┐\n",
       "│ date       ┆ series_id ┆ series_description ┆ value │\n",
       "│ ---        ┆ ---       ┆ ---                ┆ ---   │\n",
       "│ str        ┆ str       ┆ str                ┆ str   │\n",
       "╞════════════╪═══════════╪════════════════════╪═══════╡\n",
       "│ 2024-12-01 ┆ UNRATE    ┆ Unemployment Rate  ┆ 4.1   │\n",
       "│ 2024-11-01 ┆ UNRATE    ┆ Unemployment Rate  ┆ 4.2   │\n",
       "│ 2024-10-01 ┆ UNRATE    ┆ Unemployment Rate  ┆ 4.1   │\n",
       "│ 2024-09-01 ┆ UNRATE    ┆ Unemployment Rate  ┆ 4.1   │\n",
       "│ 2024-08-01 ┆ UNRATE    ┆ Unemployment Rate  ┆ 4.2   │\n",
       "└────────────┴───────────┴────────────────────┴───────┘"
      ]
     },
     "execution_count": 8,
     "metadata": {},
     "output_type": "execute_result"
    }
   ],
   "source": [
    "pl.scan_parquet(f'{output_dir}/fred_macro_economy.parquet').head().collect()"
   ]
  }
 ],
 "metadata": {
  "kernelspec": {
   "display_name": ".venv",
   "language": "python",
   "name": "python3"
  },
  "language_info": {
   "codemirror_mode": {
    "name": "ipython",
    "version": 3
   },
   "file_extension": ".py",
   "mimetype": "text/x-python",
   "name": "python",
   "nbconvert_exporter": "python",
   "pygments_lexer": "ipython3",
   "version": "3.12.3"
  }
 },
 "nbformat": 4,
 "nbformat_minor": 2
}
