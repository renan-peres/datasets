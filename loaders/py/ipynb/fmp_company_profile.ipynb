{
 "cells": [
  {
   "cell_type": "markdown",
   "metadata": {},
   "source": [
    "## Step 1: Import Libraries"
   ]
  },
  {
   "cell_type": "code",
   "execution_count": 1,
   "metadata": {
    "execution": {
     "iopub.execute_input": "2025-01-08T17:37:20.208869Z",
     "iopub.status.busy": "2025-01-08T17:37:20.208548Z",
     "iopub.status.idle": "2025-01-08T17:37:20.259464Z",
     "shell.execute_reply": "2025-01-08T17:37:20.258865Z"
    }
   },
   "outputs": [],
   "source": [
    "%run ../make_clean_names.py"
   ]
  },
  {
   "cell_type": "code",
   "execution_count": 2,
   "metadata": {
    "execution": {
     "iopub.execute_input": "2025-01-08T17:37:20.262398Z",
     "iopub.status.busy": "2025-01-08T17:37:20.261266Z",
     "iopub.status.idle": "2025-01-08T17:37:20.313212Z",
     "shell.execute_reply": "2025-01-08T17:37:20.312701Z"
    }
   },
   "outputs": [],
   "source": [
    "import concurrent.futures\n",
    "from concurrent.futures import ThreadPoolExecutor\n",
    "import requests\n",
    "from requests.adapters import HTTPAdapter\n",
    "from urllib3.util.retry import Retry\n",
    "import logging\n",
    "\n",
    "import polars as pl\n",
    "from datetime import datetime, timedelta\n",
    "from dotenv import load_dotenv\n",
    "import os\n",
    "\n",
    "# Load environment variables\n",
    "load_dotenv()\n",
    "\n",
    "logging.basicConfig(level=logging.INFO)\n",
    "logger = logging.getLogger(__name__)\n",
    "\n",
    "def create_session():\n",
    "    session = requests.Session()\n",
    "    retries = Retry(\n",
    "        total=3,\n",
    "        backoff_factor=1,\n",
    "        status_forcelist=[429, 500, 502, 503, 504]\n",
    "    )\n",
    "    session.mount('https://', HTTPAdapter(max_retries=retries, pool_maxsize=10))\n",
    "    return session\n",
    "\n",
    "# Get API key from environment variables\n",
    "FMP_API_KEY = os.getenv('FMP_API_KEY')\n",
    "if not FMP_API_KEY:\n",
    "    raise ValueError(\"FMP_API_KEY not found in environment variables\")"
   ]
  },
  {
   "cell_type": "markdown",
   "metadata": {},
   "source": [
    "## Step 2: Import Symbols"
   ]
  },
  {
   "cell_type": "code",
   "execution_count": 3,
   "metadata": {
    "execution": {
     "iopub.execute_input": "2025-01-08T17:37:20.316786Z",
     "iopub.status.busy": "2025-01-08T17:37:20.316030Z",
     "iopub.status.idle": "2025-01-08T17:37:20.320131Z",
     "shell.execute_reply": "2025-01-08T17:37:20.319682Z"
    }
   },
   "outputs": [
    {
     "name": "stdout",
     "output_type": "stream",
     "text": [
      "Loaded 60 symbols from ../tickers.txt\n",
      "Symbols: ['AAPL', 'MSFT', 'GOOGL', 'GOOG', 'META', 'NVDA', 'AVGO', 'ORCL', 'CRM', 'ACN', 'ADBE', 'CSCO', 'INTC', 'NFLX', 'DIS', 'CMCSA', 'VZ', 'T', 'AMZN', 'TSLA', 'HD', 'MCD', 'NKE', 'SBUX', 'TGT', 'LOW', 'WMT', 'PG', 'KO', 'PEP', 'COST', 'BRK-B', 'JPM', 'BAC', 'WFC', 'GS', 'MS', 'BLK', 'UNH', 'JNJ', 'PFE', 'ABBV', 'MRK', 'LLY', 'CAT', 'BA', 'HON', 'UPS', 'RTX', 'GE', 'XOM', 'CVX', 'COP', 'SLB', 'LIN', 'APD', 'ECL', 'PLD', 'AMT', 'CCI']\n"
     ]
    }
   ],
   "source": [
    "def load_symbols(file_path: str) -> List[str]:\n",
    "    \"\"\"Load symbols from a text file\"\"\"\n",
    "    try:\n",
    "        with open(file_path, 'r') as f:\n",
    "            symbols = [line.strip() for line in f if line.strip()]\n",
    "        print(f\"Loaded {len(symbols)} symbols from {file_path}\")\n",
    "        return symbols\n",
    "    except Exception as e:\n",
    "        print(f\"Error loading symbols: {str(e)}\")\n",
    "        return []\n",
    "\n",
    "symbols_file = '../tickers.txt'\n",
    "symbols = load_symbols(symbols_file)\n",
    "\n",
    "if symbols:\n",
    "    print(\"Symbols:\", symbols)\n",
    "else:\n",
    "    print(\"No symbols loaded.\")"
   ]
  },
  {
   "cell_type": "markdown",
   "metadata": {},
   "source": [
    "## Step 3: Extract Data from FMP into Polars"
   ]
  },
  {
   "cell_type": "code",
   "execution_count": 4,
   "metadata": {
    "execution": {
     "iopub.execute_input": "2025-01-08T17:37:20.345738Z",
     "iopub.status.busy": "2025-01-08T17:37:20.345555Z",
     "iopub.status.idle": "2025-01-08T17:37:22.945892Z",
     "shell.execute_reply": "2025-01-08T17:37:22.945329Z"
    }
   },
   "outputs": [],
   "source": [
    "def fetch_company_profile(symbol: str, api_key: str, session: requests.Session) -> Dict:\n",
    "    \"\"\"Fetch company profile data from FMP API\"\"\"\n",
    "    url = f\"https://financialmodelingprep.com/api/v3/profile/{symbol}\"\n",
    "    params = {\"apikey\": api_key}\n",
    "    \n",
    "    try:\n",
    "        response = session.get(url, params=params, timeout=10)\n",
    "        response.raise_for_status()\n",
    "        return response.json()\n",
    "    except Exception as e:\n",
    "        logger.error(f\"Error fetching {symbol}: {str(e)}\")\n",
    "        return None\n",
    "\n",
    "def fetch_all_profiles(symbols: List[str], api_key: str) -> List[Dict]:\n",
    "    session = create_session()\n",
    "    \n",
    "    with ThreadPoolExecutor(max_workers=10) as executor:\n",
    "        futures = [\n",
    "            executor.submit(fetch_company_profile, symbol, api_key, session)\n",
    "            for symbol in symbols\n",
    "        ]\n",
    "        results = [\n",
    "            f.result() for f in concurrent.futures.as_completed(futures)\n",
    "        ]\n",
    "    \n",
    "    return [r[0] for r in results if r and isinstance(r, list)]\n",
    "\n",
    "# Execute fetching\n",
    "company_profiles = fetch_all_profiles(symbols, FMP_API_KEY)\n",
    "\n",
    "# Convert to Polars DataFrame more efficiently\n",
    "if company_profiles:\n",
    "    df = pl.DataFrame(company_profiles)"
   ]
  },
  {
   "cell_type": "markdown",
   "metadata": {},
   "source": [
    "## Step 4: Clean Column Names"
   ]
  },
  {
   "cell_type": "code",
   "execution_count": 5,
   "metadata": {
    "execution": {
     "iopub.execute_input": "2025-01-08T17:37:22.948177Z",
     "iopub.status.busy": "2025-01-08T17:37:22.947980Z",
     "iopub.status.idle": "2025-01-08T17:37:22.952312Z",
     "shell.execute_reply": "2025-01-08T17:37:22.951750Z"
    }
   },
   "outputs": [],
   "source": [
    "df = make_clean_names(df)"
   ]
  },
  {
   "cell_type": "markdown",
   "metadata": {},
   "source": [
    "## Step 5: Write Polars to Parquet"
   ]
  },
  {
   "cell_type": "code",
   "execution_count": 6,
   "metadata": {
    "execution": {
     "iopub.execute_input": "2025-01-08T17:37:22.954323Z",
     "iopub.status.busy": "2025-01-08T17:37:22.953964Z",
     "iopub.status.idle": "2025-01-08T17:37:22.971936Z",
     "shell.execute_reply": "2025-01-08T17:37:22.971388Z"
    }
   },
   "outputs": [],
   "source": [
    "output_dir = \"../../../data/finance\"\n",
    "\n",
    "# Write DataFrame to Parquet\n",
    "df.write_parquet(f'{output_dir}/company_profile.parquet')"
   ]
  },
  {
   "cell_type": "markdown",
   "metadata": {},
   "source": [
    "## Step 6: Read Parquet (Validate)"
   ]
  },
  {
   "cell_type": "code",
   "execution_count": 7,
   "metadata": {
    "execution": {
     "iopub.execute_input": "2025-01-08T17:37:22.973859Z",
     "iopub.status.busy": "2025-01-08T17:37:22.973541Z",
     "iopub.status.idle": "2025-01-08T17:37:22.982102Z",
     "shell.execute_reply": "2025-01-08T17:37:22.981601Z"
    }
   },
   "outputs": [
    {
     "data": {
      "text/html": [
       "<div><style>\n",
       ".dataframe > thead > tr,\n",
       ".dataframe > tbody > tr {\n",
       "  text-align: right;\n",
       "  white-space: pre-wrap;\n",
       "}\n",
       "</style>\n",
       "<small>shape: (5, 36)</small><table border=\"1\" class=\"dataframe\"><thead><tr><th>symbol</th><th>price</th><th>beta</th><th>vol_avg</th><th>mkt_cap</th><th>last_div</th><th>range</th><th>changes</th><th>company_name</th><th>currency</th><th>cik</th><th>isin</th><th>cusip</th><th>exchange</th><th>exchange_short_name</th><th>industry</th><th>website</th><th>description</th><th>ceo</th><th>sector</th><th>country</th><th>full_time_employees</th><th>phone</th><th>address</th><th>city</th><th>state</th><th>zip</th><th>dcf_diff</th><th>dcf</th><th>image</th><th>ipo_date</th><th>default_image</th><th>is_etf</th><th>is_actively_trading</th><th>is_adr</th><th>is_fund</th></tr><tr><td>str</td><td>f64</td><td>f64</td><td>i64</td><td>i64</td><td>f64</td><td>str</td><td>f64</td><td>str</td><td>str</td><td>str</td><td>str</td><td>str</td><td>str</td><td>str</td><td>str</td><td>str</td><td>str</td><td>str</td><td>str</td><td>str</td><td>str</td><td>str</td><td>str</td><td>str</td><td>str</td><td>str</td><td>f64</td><td>f64</td><td>str</td><td>str</td><td>bool</td><td>bool</td><td>bool</td><td>bool</td><td>bool</td></tr></thead><tbody><tr><td>&quot;CRM&quot;</td><td>323.705</td><td>1.288</td><td>5816082</td><td>309785685000</td><td>1.6</td><td>&quot;212.0-369.0&quot;</td><td>-1.225</td><td>&quot;Salesforce, Inc.&quot;</td><td>&quot;USD&quot;</td><td>&quot;0001108524&quot;</td><td>&quot;US79466L3024&quot;</td><td>&quot;79466L302&quot;</td><td>&quot;New York Stock Exchange&quot;</td><td>&quot;NYSE&quot;</td><td>&quot;Software - Application&quot;</td><td>&quot;https://www.salesforce.com&quot;</td><td>&quot;Salesforce, Inc. provides cust…</td><td>&quot;Mr. Marc R. Benioff&quot;</td><td>&quot;Technology&quot;</td><td>&quot;US&quot;</td><td>&quot;72682&quot;</td><td>&quot;415 901 7000&quot;</td><td>&quot;Salesforce Tower&quot;</td><td>&quot;San Francisco&quot;</td><td>&quot;CA&quot;</td><td>&quot;94105&quot;</td><td>137.89778</td><td>187.032222</td><td>&quot;https://images.financialmodeli…</td><td>&quot;2004-06-23&quot;</td><td>false</td><td>false</td><td>true</td><td>false</td><td>false</td></tr><tr><td>&quot;GOOGL&quot;</td><td>194.15</td><td>1.034</td><td>27647703</td><td>2382538873965</td><td>0.6</td><td>&quot;130.67-201.42&quot;</td><td>-1.34</td><td>&quot;Alphabet Inc.&quot;</td><td>&quot;USD&quot;</td><td>&quot;0001652044&quot;</td><td>&quot;US02079K3059&quot;</td><td>&quot;02079K305&quot;</td><td>&quot;NASDAQ Global Select&quot;</td><td>&quot;NASDAQ&quot;</td><td>&quot;Internet Content &amp; Information&quot;</td><td>&quot;https://www.abc.xyz&quot;</td><td>&quot;Alphabet Inc. provides various…</td><td>&quot;Mr. Sundar&nbsp;&nbsp;Pichai&quot;</td><td>&quot;Communication Services&quot;</td><td>&quot;US&quot;</td><td>&quot;181269&quot;</td><td>&quot;650 253 0000&quot;</td><td>&quot;1600 Amphitheatre Parkway&quot;</td><td>&quot;Mountain View&quot;</td><td>&quot;CA&quot;</td><td>&quot;94043&quot;</td><td>3.49863</td><td>191.991365</td><td>&quot;https://images.financialmodeli…</td><td>&quot;2004-08-19&quot;</td><td>false</td><td>false</td><td>true</td><td>false</td><td>false</td></tr><tr><td>&quot;ACN&quot;</td><td>357.38</td><td>1.245</td><td>2447369</td><td>223534042400</td><td>5.92</td><td>&quot;278.69-387.51&quot;</td><td>0.99</td><td>&quot;Accenture plc&quot;</td><td>&quot;USD&quot;</td><td>&quot;0001467373&quot;</td><td>&quot;IE00B4BNMY34&quot;</td><td>&quot;G1151C101&quot;</td><td>&quot;New York Stock Exchange&quot;</td><td>&quot;NYSE&quot;</td><td>&quot;Information Technology Service…</td><td>&quot;https://www.accenture.com&quot;</td><td>&quot;Accenture plc, a professional …</td><td>&quot;Ms. Julie T. Spellman Sweet J.…</td><td>&quot;Technology&quot;</td><td>&quot;IE&quot;</td><td>&quot;774000&quot;</td><td>&quot;353 1 646 2000&quot;</td><td>&quot;1 Grand Canal Square&quot;</td><td>&quot;Dublin&quot;</td><td>null</td><td>&quot;2&quot;</td><td>57.10244</td><td>299.287561</td><td>&quot;https://images.financialmodeli…</td><td>&quot;2001-07-19&quot;</td><td>false</td><td>false</td><td>true</td><td>false</td><td>false</td></tr><tr><td>&quot;AAPL&quot;</td><td>241.25</td><td>1.24</td><td>44246854</td><td>3646686750000</td><td>0.99</td><td>&quot;164.08-260.1&quot;</td><td>-0.96</td><td>&quot;Apple Inc.&quot;</td><td>&quot;USD&quot;</td><td>&quot;0000320193&quot;</td><td>&quot;US0378331005&quot;</td><td>&quot;037833100&quot;</td><td>&quot;NASDAQ Global Select&quot;</td><td>&quot;NASDAQ&quot;</td><td>&quot;Consumer Electronics&quot;</td><td>&quot;https://www.apple.com&quot;</td><td>&quot;Apple Inc. designs, manufactur…</td><td>&quot;Mr. Timothy D. Cook&quot;</td><td>&quot;Technology&quot;</td><td>&quot;US&quot;</td><td>&quot;164000&quot;</td><td>&quot;(408) 996-1010&quot;</td><td>&quot;One Apple Park Way&quot;</td><td>&quot;Cupertino&quot;</td><td>&quot;CA&quot;</td><td>&quot;95014&quot;</td><td>97.93233</td><td>144.277669</td><td>&quot;https://images.financialmodeli…</td><td>&quot;1980-12-12&quot;</td><td>false</td><td>false</td><td>true</td><td>false</td><td>false</td></tr><tr><td>&quot;META&quot;</td><td>606.75</td><td>1.215</td><td>12100661</td><td>1531437473872</td><td>2.0</td><td>&quot;358.61-638.4&quot;</td><td>-11.14</td><td>&quot;Meta Platforms, Inc.&quot;</td><td>&quot;USD&quot;</td><td>&quot;0001326801&quot;</td><td>&quot;US30303M1027&quot;</td><td>&quot;30303M102&quot;</td><td>&quot;NASDAQ Global Select&quot;</td><td>&quot;NASDAQ&quot;</td><td>&quot;Internet Content &amp; Information&quot;</td><td>&quot;https://investor.fb.com&quot;</td><td>&quot;Meta Platforms, Inc. engages i…</td><td>&quot;Mr. Mark Elliot Zuckerberg&quot;</td><td>&quot;Communication Services&quot;</td><td>&quot;US&quot;</td><td>&quot;72404&quot;</td><td>&quot;650 543 4800&quot;</td><td>&quot;1601 Willow Road&quot;</td><td>&quot;Menlo Park&quot;</td><td>&quot;CA&quot;</td><td>&quot;94025&quot;</td><td>172.71305</td><td>445.176946</td><td>&quot;https://images.financialmodeli…</td><td>&quot;2012-05-18&quot;</td><td>false</td><td>false</td><td>true</td><td>false</td><td>false</td></tr></tbody></table></div>"
      ],
      "text/plain": [
       "shape: (5, 36)\n",
       "┌────────┬─────────┬───────┬──────────┬───┬────────┬─────────────────────┬────────┬─────────┐\n",
       "│ symbol ┆ price   ┆ beta  ┆ vol_avg  ┆ … ┆ is_etf ┆ is_actively_trading ┆ is_adr ┆ is_fund │\n",
       "│ ---    ┆ ---     ┆ ---   ┆ ---      ┆   ┆ ---    ┆ ---                 ┆ ---    ┆ ---     │\n",
       "│ str    ┆ f64     ┆ f64   ┆ i64      ┆   ┆ bool   ┆ bool                ┆ bool   ┆ bool    │\n",
       "╞════════╪═════════╪═══════╪══════════╪═══╪════════╪═════════════════════╪════════╪═════════╡\n",
       "│ CRM    ┆ 323.705 ┆ 1.288 ┆ 5816082  ┆ … ┆ false  ┆ true                ┆ false  ┆ false   │\n",
       "│ GOOGL  ┆ 194.15  ┆ 1.034 ┆ 27647703 ┆ … ┆ false  ┆ true                ┆ false  ┆ false   │\n",
       "│ ACN    ┆ 357.38  ┆ 1.245 ┆ 2447369  ┆ … ┆ false  ┆ true                ┆ false  ┆ false   │\n",
       "│ AAPL   ┆ 241.25  ┆ 1.24  ┆ 44246854 ┆ … ┆ false  ┆ true                ┆ false  ┆ false   │\n",
       "│ META   ┆ 606.75  ┆ 1.215 ┆ 12100661 ┆ … ┆ false  ┆ true                ┆ false  ┆ false   │\n",
       "└────────┴─────────┴───────┴──────────┴───┴────────┴─────────────────────┴────────┴─────────┘"
      ]
     },
     "execution_count": 7,
     "metadata": {},
     "output_type": "execute_result"
    }
   ],
   "source": [
    "pl.scan_parquet(f'{output_dir}/company_profile.parquet').head().collect()"
   ]
  }
 ],
 "metadata": {
  "kernelspec": {
   "display_name": ".venv",
   "language": "python",
   "name": "python3"
  },
  "language_info": {
   "codemirror_mode": {
    "name": "ipython",
    "version": 3
   },
   "file_extension": ".py",
   "mimetype": "text/x-python",
   "name": "python",
   "nbconvert_exporter": "python",
   "pygments_lexer": "ipython3",
   "version": "3.12.3"
  }
 },
 "nbformat": 4,
 "nbformat_minor": 2
}
