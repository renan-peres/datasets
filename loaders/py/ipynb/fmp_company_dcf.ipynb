{
 "cells": [
  {
   "cell_type": "markdown",
   "metadata": {},
   "source": [
    "## Step 1: Import Libraries"
   ]
  },
  {
   "cell_type": "code",
   "execution_count": 1,
   "metadata": {
    "execution": {
     "iopub.execute_input": "2025-01-21T10:05:07.158171Z",
     "iopub.status.busy": "2025-01-21T10:05:07.157994Z",
     "iopub.status.idle": "2025-01-21T10:05:07.221688Z",
     "shell.execute_reply": "2025-01-21T10:05:07.221087Z"
    }
   },
   "outputs": [],
   "source": [
    "%run ../make_clean_names.py"
   ]
  },
  {
   "cell_type": "code",
   "execution_count": 2,
   "metadata": {
    "execution": {
     "iopub.execute_input": "2025-01-21T10:05:07.223789Z",
     "iopub.status.busy": "2025-01-21T10:05:07.223604Z",
     "iopub.status.idle": "2025-01-21T10:05:07.289674Z",
     "shell.execute_reply": "2025-01-21T10:05:07.289098Z"
    }
   },
   "outputs": [],
   "source": [
    "import concurrent.futures\n",
    "from concurrent.futures import ThreadPoolExecutor\n",
    "import requests\n",
    "from requests.adapters import HTTPAdapter\n",
    "from urllib3.util.retry import Retry\n",
    "import logging\n",
    "\n",
    "import polars as pl\n",
    "from datetime import datetime, timedelta\n",
    "from dotenv import load_dotenv\n",
    "import os\n",
    "\n",
    "# Load environment variables\n",
    "load_dotenv()\n",
    "\n",
    "logging.basicConfig(level=logging.INFO)\n",
    "logger = logging.getLogger(__name__)\n",
    "\n",
    "def create_session():\n",
    "    session = requests.Session()\n",
    "    retries = Retry(\n",
    "        total=3,\n",
    "        backoff_factor=1,\n",
    "        status_forcelist=[429, 500, 502, 503, 504]\n",
    "    )\n",
    "    session.mount('https://', HTTPAdapter(max_retries=retries, pool_maxsize=10))\n",
    "    return session\n",
    "\n",
    "# Get API key from environment variables\n",
    "FMP_API_KEY = os.getenv('FMP_API_KEY')\n",
    "if not FMP_API_KEY:\n",
    "    raise ValueError(\"FMP_API_KEY not found in environment variables\")"
   ]
  },
  {
   "cell_type": "markdown",
   "metadata": {},
   "source": [
    "## Step 2: Import Symbols"
   ]
  },
  {
   "cell_type": "code",
   "execution_count": 3,
   "metadata": {
    "execution": {
     "iopub.execute_input": "2025-01-21T10:05:07.292113Z",
     "iopub.status.busy": "2025-01-21T10:05:07.291693Z",
     "iopub.status.idle": "2025-01-21T10:05:07.296535Z",
     "shell.execute_reply": "2025-01-21T10:05:07.295903Z"
    }
   },
   "outputs": [
    {
     "name": "stdout",
     "output_type": "stream",
     "text": [
      "Loaded 61 symbols from ../tickers.txt\n",
      "Symbols: ['AAPL', 'MSFT', 'GOOGL', 'GOOG', 'META', 'NVDA', 'AVGO', 'ORCL', 'CRM', 'ACN', 'ADBE', 'CSCO', 'INTC', 'NFLX', 'DIS', 'CMCSA', 'VZ', 'T', 'AMZN', 'TSLA', 'HD', 'MCD', 'NKE', 'SBUX', 'TGT', 'LOW', 'WMT', 'PG', 'KO', 'PEP', 'COST', 'BRK-B', 'JPM', 'BAC', 'WFC', 'GS', 'MS', 'BLK', 'UNH', 'JNJ', 'PFE', 'ABBV', 'MRK', 'LLY', 'CAT', 'BA', 'HON', 'UPS', 'RTX', 'GE', 'XOM', 'CVX', 'COP', 'SLB', 'LIN', 'APD', 'ECL', 'PLD', 'AMT', 'CCI', 'OSW']\n"
     ]
    }
   ],
   "source": [
    "def load_symbols(file_path: str) -> List[str]:\n",
    "    \"\"\"Load symbols from a text file\"\"\"\n",
    "    try:\n",
    "        with open(file_path, 'r') as f:\n",
    "            symbols = [line.strip() for line in f if line.strip()]\n",
    "        print(f\"Loaded {len(symbols)} symbols from {file_path}\")\n",
    "        return symbols\n",
    "    except Exception as e:\n",
    "        print(f\"Error loading symbols: {str(e)}\")\n",
    "        return []\n",
    "\n",
    "symbols_file = '../tickers.txt'\n",
    "symbols = load_symbols(symbols_file)\n",
    "\n",
    "if symbols:\n",
    "    print(\"Symbols:\", symbols)\n",
    "else:\n",
    "    print(\"No symbols loaded.\")"
   ]
  },
  {
   "cell_type": "markdown",
   "metadata": {},
   "source": [
    "## Step 3: Extract Data from FMP into Polars"
   ]
  },
  {
   "cell_type": "code",
   "execution_count": 4,
   "metadata": {
    "execution": {
     "iopub.execute_input": "2025-01-21T10:05:07.332538Z",
     "iopub.status.busy": "2025-01-21T10:05:07.332318Z",
     "iopub.status.idle": "2025-01-21T10:05:08.778555Z",
     "shell.execute_reply": "2025-01-21T10:05:08.778058Z"
    }
   },
   "outputs": [],
   "source": [
    "def fetch_dcf(symbol: str, api_key: str, session: requests.Session) -> Dict:\n",
    "    \"\"\"Fetch company profile data from FMP API\"\"\"\n",
    "    url = f\"https://financialmodelingprep.com/api/v3/discounted-cash-flow/{symbol}\"\n",
    "    params = {\"apikey\": api_key}\n",
    "    \n",
    "    try:\n",
    "        response = session.get(url, params=params, timeout=10)\n",
    "        response.raise_for_status()\n",
    "        return response.json()\n",
    "    except Exception as e:\n",
    "        logger.error(f\"Error fetching {symbol}: {str(e)}\")\n",
    "        return None\n",
    "\n",
    "def fetch_all_dcf(symbols: List[str], api_key: str) -> List[Dict]:\n",
    "    session = create_session()\n",
    "    \n",
    "    with ThreadPoolExecutor(max_workers=10) as executor:\n",
    "        futures = [\n",
    "            executor.submit(fetch_dcf, symbol, api_key, session)\n",
    "            for symbol in symbols\n",
    "        ]\n",
    "        results = [\n",
    "            f.result() for f in concurrent.futures.as_completed(futures)\n",
    "        ]\n",
    "    \n",
    "    return [r[0] for r in results if r and isinstance(r, list)]\n",
    "\n",
    "# Execute fetching\n",
    "company_profiles = fetch_all_dcf(symbols, FMP_API_KEY)\n",
    "\n",
    "# Convert to Polars DataFrame more efficiently\n",
    "if company_profiles:\n",
    "    df_dcf = pl.DataFrame(company_profiles)"
   ]
  },
  {
   "cell_type": "code",
   "execution_count": 5,
   "metadata": {
    "execution": {
     "iopub.execute_input": "2025-01-21T10:05:08.780521Z",
     "iopub.status.busy": "2025-01-21T10:05:08.780353Z",
     "iopub.status.idle": "2025-01-21T10:05:09.180435Z",
     "shell.execute_reply": "2025-01-21T10:05:09.179898Z"
    }
   },
   "outputs": [],
   "source": [
    "def fetch_dcf_advanced(symbol: str, api_key: str, session: requests.Session) -> Dict:\n",
    "    \"\"\"Fetch company profile data from FMP API\"\"\"\n",
    "    url = f\"https://financialmodelingprep.com/api/v4/advanced_discounted_cash_flow\"\n",
    "    params = {\n",
    "        \"symbol\": symbol,\n",
    "        \"apikey\": api_key}\n",
    "    \n",
    "    try:\n",
    "        response = session.get(url, params=params, timeout=10)\n",
    "        response.raise_for_status()\n",
    "        return response.json()\n",
    "    except Exception as e:\n",
    "        logger.error(f\"Error fetching {symbol}: {str(e)}\")\n",
    "        return None\n",
    "\n",
    "def fetch_all_dcf_advanced(symbols: List[str], api_key: str) -> List[Dict]:\n",
    "    session = create_session()\n",
    "    \n",
    "    with ThreadPoolExecutor(max_workers=10) as executor:\n",
    "        futures = [\n",
    "            executor.submit(fetch_dcf_advanced, symbol, api_key, session)\n",
    "            for symbol in symbols\n",
    "        ]\n",
    "        results = [\n",
    "            f.result() for f in concurrent.futures.as_completed(futures)\n",
    "        ]\n",
    "    \n",
    "    return [r[0] for r in results if r and isinstance(r, list)]\n",
    "\n",
    "# Execute fetching\n",
    "company_profiles = fetch_all_dcf_advanced(symbols, FMP_API_KEY)\n",
    "\n",
    "# Convert to Polars DataFrame more efficiently\n",
    "if company_profiles:\n",
    "    df_dcf_advanced = pl.DataFrame(company_profiles)"
   ]
  },
  {
   "cell_type": "markdown",
   "metadata": {},
   "source": [
    "## Step 4: Clean Column Names"
   ]
  },
  {
   "cell_type": "code",
   "execution_count": 6,
   "metadata": {
    "execution": {
     "iopub.execute_input": "2025-01-21T10:05:09.182799Z",
     "iopub.status.busy": "2025-01-21T10:05:09.182362Z",
     "iopub.status.idle": "2025-01-21T10:05:09.187810Z",
     "shell.execute_reply": "2025-01-21T10:05:09.187376Z"
    }
   },
   "outputs": [],
   "source": [
    "df = df_dcf.join(df_dcf_advanced, on=\"symbol\", how=\"left\")"
   ]
  },
  {
   "cell_type": "code",
   "execution_count": 7,
   "metadata": {
    "execution": {
     "iopub.execute_input": "2025-01-21T10:05:09.189737Z",
     "iopub.status.busy": "2025-01-21T10:05:09.189419Z",
     "iopub.status.idle": "2025-01-21T10:05:09.193640Z",
     "shell.execute_reply": "2025-01-21T10:05:09.193179Z"
    }
   },
   "outputs": [],
   "source": [
    "df = make_clean_names(df)"
   ]
  },
  {
   "cell_type": "markdown",
   "metadata": {},
   "source": [
    "## Step 5: Write Polars to Parquet"
   ]
  },
  {
   "cell_type": "code",
   "execution_count": 8,
   "metadata": {
    "execution": {
     "iopub.execute_input": "2025-01-21T10:05:09.195440Z",
     "iopub.status.busy": "2025-01-21T10:05:09.195100Z",
     "iopub.status.idle": "2025-01-21T10:05:09.199849Z",
     "shell.execute_reply": "2025-01-21T10:05:09.199436Z"
    }
   },
   "outputs": [],
   "source": [
    "output_dir = \"../../../data/finance\"\n",
    "\n",
    "# Write DataFrame to Parquet\n",
    "df.write_parquet(f'{output_dir}/company_dfc_advanced.parquet')"
   ]
  },
  {
   "cell_type": "markdown",
   "metadata": {},
   "source": [
    "## Step 6: Read Parquet (Validate)"
   ]
  },
  {
   "cell_type": "code",
   "execution_count": 9,
   "metadata": {
    "execution": {
     "iopub.execute_input": "2025-01-21T10:05:09.201582Z",
     "iopub.status.busy": "2025-01-21T10:05:09.201262Z",
     "iopub.status.idle": "2025-01-21T10:05:09.209909Z",
     "shell.execute_reply": "2025-01-21T10:05:09.209384Z"
    }
   },
   "outputs": [
    {
     "data": {
      "text/html": [
       "<div><style>\n",
       ".dataframe > thead > tr,\n",
       ".dataframe > tbody > tr {\n",
       "  text-align: right;\n",
       "  white-space: pre-wrap;\n",
       "}\n",
       "</style>\n",
       "<small>shape: (5, 50)</small><table border=\"1\" class=\"dataframe\"><thead><tr><th>symbol</th><th>date</th><th>dcf</th><th>stock_price</th><th>year</th><th>revenue</th><th>revenue_percentage</th><th>ebitda</th><th>ebitda_percentage</th><th>ebit</th><th>ebit_percentage</th><th>depreciation</th><th>depreciation_percentage</th><th>total_cash</th><th>total_cash_percentage</th><th>receivables</th><th>receivables_percentage</th><th>inventories</th><th>inventories_percentage</th><th>payable</th><th>payable_percentage</th><th>capital_expenditure</th><th>capital_expenditure_percentage</th><th>price</th><th>beta</th><th>diluted_shares_outstanding</th><th>costof_debt</th><th>tax_rate</th><th>after_tax_cost_of_debt</th><th>risk_free_rate</th><th>market_risk_premium</th><th>cost_of_equity</th><th>total_debt</th><th>total_equity</th><th>total_capital</th><th>debt_weighting</th><th>equity_weighting</th><th>wacc</th><th>tax_rate_cash</th><th>ebiat</th><th>ufcf</th><th>sum_pv_ufcf</th><th>long_term_growth_rate</th><th>terminal_value</th><th>present_terminal_value</th><th>enterprise_value</th><th>net_debt</th><th>equity_value</th><th>equity_value_per_share</th><th>free_cash_flowt1</th></tr><tr><td>str</td><td>str</td><td>f64</td><td>f64</td><td>str</td><td>i64</td><td>f64</td><td>i64</td><td>f64</td><td>i64</td><td>f64</td><td>i64</td><td>f64</td><td>i64</td><td>f64</td><td>i64</td><td>f64</td><td>f64</td><td>f64</td><td>i64</td><td>f64</td><td>i64</td><td>f64</td><td>f64</td><td>f64</td><td>i64</td><td>f64</td><td>f64</td><td>f64</td><td>f64</td><td>f64</td><td>f64</td><td>i64</td><td>i64</td><td>i64</td><td>f64</td><td>f64</td><td>f64</td><td>i64</td><td>i64</td><td>i64</td><td>i64</td><td>f64</td><td>i64</td><td>i64</td><td>i64</td><td>i64</td><td>i64</td><td>f64</td><td>i64</td></tr></thead><tbody><tr><td>&quot;AAPL&quot;</td><td>&quot;2025-01-21&quot;</td><td>145.517176</td><td>229.98</td><td>&quot;2029&quot;</td><td>631734147383</td><td>10.07</td><td>203936738085</td><td>32.28</td><td>183897900530</td><td>29.11</td><td>20038837554</td><td>3.17</td><td>120316909203</td><td>19.05</td><td>96053677011</td><td>15.2</td><td>1.0168e10</td><td>1.61</td><td>101845034847</td><td>16.12</td><td>-17288478562</td><td>-2.74</td><td>229.98</td><td>1.24</td><td>15408095000</td><td>4.42</td><td>24.09</td><td>3.36</td><td>4.42</td><td>4.72</td><td>10.27</td><td>106629000000</td><td>3543553688100</td><td>3650182688100</td><td>2.92</td><td>97.08</td><td>10.08</td><td>16549050</td><td>153464546253</td><td>155814583110</td><td>483770706269</td><td>4.0</td><td>2665047548540</td><td>1648746062304</td><td>2132516768573</td><td>76686000000</td><td>2055830768573</td><td>133.43</td><td>162047166435</td></tr><tr><td>&quot;MSFT&quot;</td><td>&quot;2025-01-21&quot;</td><td>356.630551</td><td>429.03</td><td>&quot;2029&quot;</td><td>482612279172</td><td>14.51</td><td>243343429409</td><td>50.42</td><td>206653972432</td><td>42.82</td><td>36689456977</td><td>7.6</td><td>298328812038</td><td>61.82</td><td>109589014184</td><td>22.71</td><td>6.2437e9</td><td>1.29</td><td>43316742017</td><td>8.98</td><td>-64207442622</td><td>-13.3</td><td>429.03</td><td>0.904</td><td>7469000000</td><td>4.42</td><td>18.23</td><td>3.61</td><td>4.42</td><td>4.72</td><td>8.69</td><td>97852000000</td><td>3204425070000</td><td>3302277070000</td><td>2.96</td><td>97.04</td><td>8.54</td><td>16131522</td><td>173317543200</td><td>136610813702</td><td>407950735216</td><td>4.0</td><td>3129881279381</td><td>2077745900354</td><td>2485696635571</td><td>79537000000</td><td>2406159635571</td><td>322.15</td><td>142075246250</td></tr><tr><td>&quot;ACN&quot;</td><td>&quot;2025-01-21&quot;</td><td>301.055387</td><td>352.59</td><td>&quot;2029&quot;</td><td>105950291348</td><td>10.3</td><td>17797130243</td><td>16.8</td><td>14775615976</td><td>13.95</td><td>3021514267</td><td>2.85</td><td>14837440631</td><td>14.0</td><td>20385110820</td><td>19.24</td><td>0.47804</td><td>4.5100e-10</td><td>4198685139</td><td>3.96</td><td>-1119905369</td><td>-1.06</td><td>352.59</td><td>1.245</td><td>635940044</td><td>4.42</td><td>25.1</td><td>3.31</td><td>4.42</td><td>4.72</td><td>10.3</td><td>4120549000</td><td>224226100113</td><td>228346649113</td><td>1.8</td><td>98.2</td><td>10.17</td><td>24724559</td><td>11122410139</td><td>11512479260</td><td>36296212125</td><td>3.0</td><td>165366756679</td><td>101887020181</td><td>138183232307</td><td>-883920000</td><td>139067152307</td><td>218.68</td><td>11857853638</td></tr><tr><td>&quot;NVDA&quot;</td><td>&quot;2025-01-21&quot;</td><td>56.938037</td><td>137.71</td><td>&quot;2029&quot;</td><td>520683174055</td><td>53.59</td><td>195855645765</td><td>37.62</td><td>172283561763</td><td>33.09</td><td>23572084002</td><td>4.53</td><td>353940947259</td><td>67.98</td><td>80832177311</td><td>15.52</td><td>5.9766e10</td><td>11.48</td><td>29846344169</td><td>5.73</td><td>-24388759055</td><td>-4.68</td><td>137.71</td><td>1.657</td><td>24940000000</td><td>4.42</td><td>12.0</td><td>3.89</td><td>4.42</td><td>4.72</td><td>12.24</td><td>11056000000</td><td>3434487400000</td><td>3445543400000</td><td>0.32088</td><td>99.68</td><td>12.22</td><td>4301152</td><td>164873384699</td><td>125414004138</td><td>206841874168</td><td>4.0</td><td>1587647744761</td><td>892263483222</td><td>1099105357390</td><td>3776000000</td><td>1095329357390</td><td>43.92</td><td>130430564304</td></tr><tr><td>&quot;ADBE&quot;</td><td>&quot;2025-01-21&quot;</td><td>471.99545</td><td>429.99</td><td>&quot;2029&quot;</td><td>41064323524</td><td>13.81</td><td>15892825334</td><td>38.7</td><td>14140858672</td><td>34.44</td><td>1751966662</td><td>4.27</td><td>16014694786</td><td>39.0</td><td>4565043350</td><td>11.12</td><td>0.0</td><td>0.0</td><td>805165661</td><td>1.96</td><td>-886239379</td><td>-2.16</td><td>429.99</td><td>1.299</td><td>450000000</td><td>4.42</td><td>19.78</td><td>3.55</td><td>4.42</td><td>4.72</td><td>10.55</td><td>6056000000</td><td>193495500000</td><td>199551500000</td><td>3.03</td><td>96.97</td><td>10.34</td><td>15252392</td><td>11984039525</td><td>12393498359</td><td>35407534600</td><td>4.0</td><td>203148143434</td><td>124180818100</td><td>159588352701</td><td>-1557000000</td><td>161145352701</td><td>358.1</td><td>12889238294</td></tr></tbody></table></div>"
      ],
      "text/plain": [
       "shape: (5, 50)\n",
       "┌────────┬────────────┬────────────┬───────────┬───┬───────────┬───────────┬───────────┬───────────┐\n",
       "│ symbol ┆ date       ┆ dcf        ┆ stock_pri ┆ … ┆ net_debt  ┆ equity_va ┆ equity_va ┆ free_cash │\n",
       "│ ---    ┆ ---        ┆ ---        ┆ ce        ┆   ┆ ---       ┆ lue       ┆ lue_per_s ┆ _flowt1   │\n",
       "│ str    ┆ str        ┆ f64        ┆ ---       ┆   ┆ i64       ┆ ---       ┆ hare      ┆ ---       │\n",
       "│        ┆            ┆            ┆ f64       ┆   ┆           ┆ i64       ┆ ---       ┆ i64       │\n",
       "│        ┆            ┆            ┆           ┆   ┆           ┆           ┆ f64       ┆           │\n",
       "╞════════╪════════════╪════════════╪═══════════╪═══╪═══════════╪═══════════╪═══════════╪═══════════╡\n",
       "│ AAPL   ┆ 2025-01-21 ┆ 145.517176 ┆ 229.98    ┆ … ┆ 766860000 ┆ 205583076 ┆ 133.43    ┆ 162047166 │\n",
       "│        ┆            ┆            ┆           ┆   ┆ 00        ┆ 8573      ┆           ┆ 435       │\n",
       "│ MSFT   ┆ 2025-01-21 ┆ 356.630551 ┆ 429.03    ┆ … ┆ 795370000 ┆ 240615963 ┆ 322.15    ┆ 142075246 │\n",
       "│        ┆            ┆            ┆           ┆   ┆ 00        ┆ 5571      ┆           ┆ 250       │\n",
       "│ ACN    ┆ 2025-01-21 ┆ 301.055387 ┆ 352.59    ┆ … ┆ -88392000 ┆ 139067152 ┆ 218.68    ┆ 118578536 │\n",
       "│        ┆            ┆            ┆           ┆   ┆ 0         ┆ 307       ┆           ┆ 38        │\n",
       "│ NVDA   ┆ 2025-01-21 ┆ 56.938037  ┆ 137.71    ┆ … ┆ 377600000 ┆ 109532935 ┆ 43.92     ┆ 130430564 │\n",
       "│        ┆            ┆            ┆           ┆   ┆ 0         ┆ 7390      ┆           ┆ 304       │\n",
       "│ ADBE   ┆ 2025-01-21 ┆ 471.99545  ┆ 429.99    ┆ … ┆ -15570000 ┆ 161145352 ┆ 358.1     ┆ 128892382 │\n",
       "│        ┆            ┆            ┆           ┆   ┆ 00        ┆ 701       ┆           ┆ 94        │\n",
       "└────────┴────────────┴────────────┴───────────┴───┴───────────┴───────────┴───────────┴───────────┘"
      ]
     },
     "execution_count": 9,
     "metadata": {},
     "output_type": "execute_result"
    }
   ],
   "source": [
    "pl.scan_parquet(f'{output_dir}/company_dfc_advanced.parquet').head().collect()"
   ]
  }
 ],
 "metadata": {
  "kernelspec": {
   "display_name": ".venv",
   "language": "python",
   "name": "python3"
  },
  "language_info": {
   "codemirror_mode": {
    "name": "ipython",
    "version": 3
   },
   "file_extension": ".py",
   "mimetype": "text/x-python",
   "name": "python",
   "nbconvert_exporter": "python",
   "pygments_lexer": "ipython3",
   "version": "3.12.8"
  }
 },
 "nbformat": 4,
 "nbformat_minor": 2
}
