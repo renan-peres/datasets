{
 "cells": [
  {
   "cell_type": "markdown",
   "metadata": {},
   "source": [
    "## Step 1: Import Libraries"
   ]
  },
  {
   "cell_type": "code",
   "execution_count": 1,
   "metadata": {
    "execution": {
     "iopub.execute_input": "2025-01-28T10:05:14.149759Z",
     "iopub.status.busy": "2025-01-28T10:05:14.149323Z",
     "iopub.status.idle": "2025-01-28T10:05:14.213772Z",
     "shell.execute_reply": "2025-01-28T10:05:14.213300Z"
    }
   },
   "outputs": [],
   "source": [
    "%run ../make_clean_names.py"
   ]
  },
  {
   "cell_type": "code",
   "execution_count": 2,
   "metadata": {
    "execution": {
     "iopub.execute_input": "2025-01-28T10:05:14.215901Z",
     "iopub.status.busy": "2025-01-28T10:05:14.215537Z",
     "iopub.status.idle": "2025-01-28T10:05:14.281233Z",
     "shell.execute_reply": "2025-01-28T10:05:14.280713Z"
    }
   },
   "outputs": [],
   "source": [
    "import concurrent.futures\n",
    "from concurrent.futures import ThreadPoolExecutor\n",
    "import requests\n",
    "from requests.adapters import HTTPAdapter\n",
    "from urllib3.util.retry import Retry\n",
    "import logging\n",
    "\n",
    "import polars as pl\n",
    "from datetime import datetime, timedelta\n",
    "from dotenv import load_dotenv\n",
    "import os\n",
    "\n",
    "# Load environment variables\n",
    "load_dotenv()\n",
    "\n",
    "logging.basicConfig(level=logging.INFO)\n",
    "logger = logging.getLogger(__name__)\n",
    "\n",
    "def create_session():\n",
    "    session = requests.Session()\n",
    "    retries = Retry(\n",
    "        total=3,\n",
    "        backoff_factor=1,\n",
    "        status_forcelist=[429, 500, 502, 503, 504]\n",
    "    )\n",
    "    session.mount('https://', HTTPAdapter(max_retries=retries, pool_maxsize=10))\n",
    "    return session\n",
    "\n",
    "# Get API key from environment variables\n",
    "FMP_API_KEY = os.getenv('FMP_API_KEY')\n",
    "if not FMP_API_KEY:\n",
    "    raise ValueError(\"FMP_API_KEY not found in environment variables\")"
   ]
  },
  {
   "cell_type": "markdown",
   "metadata": {},
   "source": [
    "## Step 2: Import Symbols"
   ]
  },
  {
   "cell_type": "code",
   "execution_count": 3,
   "metadata": {
    "execution": {
     "iopub.execute_input": "2025-01-28T10:05:14.283324Z",
     "iopub.status.busy": "2025-01-28T10:05:14.282927Z",
     "iopub.status.idle": "2025-01-28T10:05:14.287934Z",
     "shell.execute_reply": "2025-01-28T10:05:14.287217Z"
    }
   },
   "outputs": [
    {
     "name": "stdout",
     "output_type": "stream",
     "text": [
      "Loaded 61 symbols from ../tickers.txt\n",
      "Symbols: ['AAPL', 'MSFT', 'GOOGL', 'GOOG', 'META', 'NVDA', 'AVGO', 'ORCL', 'CRM', 'ACN', 'ADBE', 'CSCO', 'INTC', 'NFLX', 'DIS', 'CMCSA', 'VZ', 'T', 'AMZN', 'TSLA', 'HD', 'MCD', 'NKE', 'SBUX', 'TGT', 'LOW', 'WMT', 'PG', 'KO', 'PEP', 'COST', 'BRK-B', 'JPM', 'BAC', 'WFC', 'GS', 'MS', 'BLK', 'UNH', 'JNJ', 'PFE', 'ABBV', 'MRK', 'LLY', 'CAT', 'BA', 'HON', 'UPS', 'RTX', 'GE', 'XOM', 'CVX', 'COP', 'SLB', 'LIN', 'APD', 'ECL', 'PLD', 'AMT', 'CCI', 'OSW']\n"
     ]
    }
   ],
   "source": [
    "def load_symbols(file_path: str) -> List[str]:\n",
    "    \"\"\"Load symbols from a text file\"\"\"\n",
    "    try:\n",
    "        with open(file_path, 'r') as f:\n",
    "            symbols = [line.strip() for line in f if line.strip()]\n",
    "        print(f\"Loaded {len(symbols)} symbols from {file_path}\")\n",
    "        return symbols\n",
    "    except Exception as e:\n",
    "        print(f\"Error loading symbols: {str(e)}\")\n",
    "        return []\n",
    "\n",
    "symbols_file = '../tickers.txt'\n",
    "symbols = load_symbols(symbols_file)\n",
    "\n",
    "if symbols:\n",
    "    print(\"Symbols:\", symbols)\n",
    "else:\n",
    "    print(\"No symbols loaded.\")"
   ]
  },
  {
   "cell_type": "markdown",
   "metadata": {},
   "source": [
    "## Step 3: Extract Data from FMP into Polars"
   ]
  },
  {
   "cell_type": "code",
   "execution_count": 4,
   "metadata": {
    "execution": {
     "iopub.execute_input": "2025-01-28T10:05:14.326958Z",
     "iopub.status.busy": "2025-01-28T10:05:14.326537Z",
     "iopub.status.idle": "2025-01-28T10:05:15.185005Z",
     "shell.execute_reply": "2025-01-28T10:05:15.184527Z"
    }
   },
   "outputs": [],
   "source": [
    "def fetch_dcf(symbol: str, api_key: str, session: requests.Session) -> Dict:\n",
    "    \"\"\"Fetch company profile data from FMP API\"\"\"\n",
    "    url = f\"https://financialmodelingprep.com/api/v3/discounted-cash-flow/{symbol}\"\n",
    "    params = {\"apikey\": api_key}\n",
    "    \n",
    "    try:\n",
    "        response = session.get(url, params=params, timeout=10)\n",
    "        response.raise_for_status()\n",
    "        return response.json()\n",
    "    except Exception as e:\n",
    "        logger.error(f\"Error fetching {symbol}: {str(e)}\")\n",
    "        return None\n",
    "\n",
    "def fetch_all_dcf(symbols: List[str], api_key: str) -> List[Dict]:\n",
    "    session = create_session()\n",
    "    \n",
    "    with ThreadPoolExecutor(max_workers=10) as executor:\n",
    "        futures = [\n",
    "            executor.submit(fetch_dcf, symbol, api_key, session)\n",
    "            for symbol in symbols\n",
    "        ]\n",
    "        results = [\n",
    "            f.result() for f in concurrent.futures.as_completed(futures)\n",
    "        ]\n",
    "    \n",
    "    return [r[0] for r in results if r and isinstance(r, list)]\n",
    "\n",
    "# Execute fetching\n",
    "company_profiles = fetch_all_dcf(symbols, FMP_API_KEY)\n",
    "\n",
    "# Convert to Polars DataFrame more efficiently\n",
    "if company_profiles:\n",
    "    df_dcf = pl.DataFrame(company_profiles)"
   ]
  },
  {
   "cell_type": "code",
   "execution_count": 5,
   "metadata": {
    "execution": {
     "iopub.execute_input": "2025-01-28T10:05:15.187099Z",
     "iopub.status.busy": "2025-01-28T10:05:15.186779Z",
     "iopub.status.idle": "2025-01-28T10:05:16.338790Z",
     "shell.execute_reply": "2025-01-28T10:05:16.338177Z"
    }
   },
   "outputs": [],
   "source": [
    "def fetch_dcf_advanced(symbol: str, api_key: str, session: requests.Session) -> Dict:\n",
    "    \"\"\"Fetch company profile data from FMP API\"\"\"\n",
    "    url = f\"https://financialmodelingprep.com/api/v4/advanced_discounted_cash_flow\"\n",
    "    params = {\n",
    "        \"symbol\": symbol,\n",
    "        \"apikey\": api_key}\n",
    "    \n",
    "    try:\n",
    "        response = session.get(url, params=params, timeout=10)\n",
    "        response.raise_for_status()\n",
    "        return response.json()\n",
    "    except Exception as e:\n",
    "        logger.error(f\"Error fetching {symbol}: {str(e)}\")\n",
    "        return None\n",
    "\n",
    "def fetch_all_dcf_advanced(symbols: List[str], api_key: str) -> List[Dict]:\n",
    "    session = create_session()\n",
    "    \n",
    "    with ThreadPoolExecutor(max_workers=10) as executor:\n",
    "        futures = [\n",
    "            executor.submit(fetch_dcf_advanced, symbol, api_key, session)\n",
    "            for symbol in symbols\n",
    "        ]\n",
    "        results = [\n",
    "            f.result() for f in concurrent.futures.as_completed(futures)\n",
    "        ]\n",
    "    \n",
    "    return [r[0] for r in results if r and isinstance(r, list)]\n",
    "\n",
    "# Execute fetching\n",
    "company_profiles = fetch_all_dcf_advanced(symbols, FMP_API_KEY)\n",
    "\n",
    "# Convert to Polars DataFrame more efficiently\n",
    "if company_profiles:\n",
    "    df_dcf_advanced = pl.DataFrame(company_profiles)"
   ]
  },
  {
   "cell_type": "markdown",
   "metadata": {},
   "source": [
    "## Step 4: Clean Column Names"
   ]
  },
  {
   "cell_type": "code",
   "execution_count": 6,
   "metadata": {
    "execution": {
     "iopub.execute_input": "2025-01-28T10:05:16.341093Z",
     "iopub.status.busy": "2025-01-28T10:05:16.340683Z",
     "iopub.status.idle": "2025-01-28T10:05:16.346104Z",
     "shell.execute_reply": "2025-01-28T10:05:16.345565Z"
    }
   },
   "outputs": [],
   "source": [
    "df = df_dcf.join(df_dcf_advanced, on=\"symbol\", how=\"left\")"
   ]
  },
  {
   "cell_type": "code",
   "execution_count": 7,
   "metadata": {
    "execution": {
     "iopub.execute_input": "2025-01-28T10:05:16.347879Z",
     "iopub.status.busy": "2025-01-28T10:05:16.347573Z",
     "iopub.status.idle": "2025-01-28T10:05:16.351731Z",
     "shell.execute_reply": "2025-01-28T10:05:16.351193Z"
    }
   },
   "outputs": [],
   "source": [
    "df = make_clean_names(df)"
   ]
  },
  {
   "cell_type": "markdown",
   "metadata": {},
   "source": [
    "## Step 5: Write Polars to Parquet"
   ]
  },
  {
   "cell_type": "code",
   "execution_count": 8,
   "metadata": {
    "execution": {
     "iopub.execute_input": "2025-01-28T10:05:16.353567Z",
     "iopub.status.busy": "2025-01-28T10:05:16.353174Z",
     "iopub.status.idle": "2025-01-28T10:05:16.358183Z",
     "shell.execute_reply": "2025-01-28T10:05:16.357628Z"
    }
   },
   "outputs": [],
   "source": [
    "output_dir = \"../../../data/finance\"\n",
    "\n",
    "# Write DataFrame to Parquet\n",
    "df.write_parquet(f'{output_dir}/company_dfc_advanced.parquet')"
   ]
  },
  {
   "cell_type": "markdown",
   "metadata": {},
   "source": [
    "## Step 6: Read Parquet (Validate)"
   ]
  },
  {
   "cell_type": "code",
   "execution_count": 9,
   "metadata": {
    "execution": {
     "iopub.execute_input": "2025-01-28T10:05:16.360116Z",
     "iopub.status.busy": "2025-01-28T10:05:16.359803Z",
     "iopub.status.idle": "2025-01-28T10:05:16.368514Z",
     "shell.execute_reply": "2025-01-28T10:05:16.367984Z"
    }
   },
   "outputs": [
    {
     "data": {
      "text/html": [
       "<div><style>\n",
       ".dataframe > thead > tr,\n",
       ".dataframe > tbody > tr {\n",
       "  text-align: right;\n",
       "  white-space: pre-wrap;\n",
       "}\n",
       "</style>\n",
       "<small>shape: (5, 50)</small><table border=\"1\" class=\"dataframe\"><thead><tr><th>symbol</th><th>date</th><th>dcf</th><th>stock_price</th><th>year</th><th>revenue</th><th>revenue_percentage</th><th>ebitda</th><th>ebitda_percentage</th><th>ebit</th><th>ebit_percentage</th><th>depreciation</th><th>depreciation_percentage</th><th>total_cash</th><th>total_cash_percentage</th><th>receivables</th><th>receivables_percentage</th><th>inventories</th><th>inventories_percentage</th><th>payable</th><th>payable_percentage</th><th>capital_expenditure</th><th>capital_expenditure_percentage</th><th>price</th><th>beta</th><th>diluted_shares_outstanding</th><th>costof_debt</th><th>tax_rate</th><th>after_tax_cost_of_debt</th><th>risk_free_rate</th><th>market_risk_premium</th><th>cost_of_equity</th><th>total_debt</th><th>total_equity</th><th>total_capital</th><th>debt_weighting</th><th>equity_weighting</th><th>wacc</th><th>tax_rate_cash</th><th>ebiat</th><th>ufcf</th><th>sum_pv_ufcf</th><th>long_term_growth_rate</th><th>terminal_value</th><th>present_terminal_value</th><th>enterprise_value</th><th>net_debt</th><th>equity_value</th><th>equity_value_per_share</th><th>free_cash_flowt1</th></tr><tr><td>str</td><td>str</td><td>f64</td><td>f64</td><td>str</td><td>i64</td><td>f64</td><td>i64</td><td>f64</td><td>i64</td><td>f64</td><td>i64</td><td>f64</td><td>i64</td><td>f64</td><td>i64</td><td>f64</td><td>f64</td><td>f64</td><td>i64</td><td>f64</td><td>i64</td><td>f64</td><td>f64</td><td>f64</td><td>i64</td><td>f64</td><td>f64</td><td>f64</td><td>f64</td><td>f64</td><td>f64</td><td>i64</td><td>i64</td><td>i64</td><td>f64</td><td>f64</td><td>f64</td><td>i64</td><td>i64</td><td>i64</td><td>i64</td><td>f64</td><td>i64</td><td>i64</td><td>i64</td><td>i64</td><td>i64</td><td>f64</td><td>i64</td></tr></thead><tbody><tr><td>&quot;MSFT&quot;</td><td>&quot;2025-01-28&quot;</td><td>364.967042</td><td>434.56</td><td>&quot;2029&quot;</td><td>482612279172</td><td>14.51</td><td>243343429409</td><td>50.42</td><td>206653972432</td><td>42.82</td><td>36689456977</td><td>7.6</td><td>298328812038</td><td>61.82</td><td>109589014184</td><td>22.71</td><td>6.2437e9</td><td>1.29</td><td>43316742017</td><td>8.98</td><td>-64207442622</td><td>-13.3</td><td>434.56</td><td>0.904</td><td>7469000000</td><td>4.32</td><td>18.23</td><td>3.53</td><td>4.32</td><td>4.72</td><td>8.59</td><td>97852000000</td><td>3245728640000</td><td>3343580640000</td><td>2.93</td><td>97.07</td><td>8.44</td><td>16131522</td><td>173317543200</td><td>136610813702</td><td>409095299469</td><td>4.0</td><td>3198731320603</td><td>2133034752236</td><td>2542130051706</td><td>79537000000</td><td>2462593051706</td><td>329.71</td><td>142075246250</td></tr><tr><td>&quot;NVDA&quot;</td><td>&quot;2025-01-28&quot;</td><td>57.787425</td><td>118.42</td><td>&quot;2029&quot;</td><td>520683174055</td><td>53.59</td><td>195855645765</td><td>37.62</td><td>172283561763</td><td>33.09</td><td>23572084002</td><td>4.53</td><td>353940947259</td><td>67.98</td><td>80832177311</td><td>15.52</td><td>5.9766e10</td><td>11.48</td><td>29846344169</td><td>5.73</td><td>-24388759055</td><td>-4.68</td><td>118.42</td><td>1.657</td><td>24940000000</td><td>4.32</td><td>12.0</td><td>3.8</td><td>4.32</td><td>4.72</td><td>12.14</td><td>11056000000</td><td>2953394800000</td><td>2964450800000</td><td>0.37295</td><td>99.63</td><td>12.11</td><td>4301152</td><td>164873384699</td><td>125414004138</td><td>207535936168</td><td>4.0</td><td>1608034745541</td><td>907926818162</td><td>1115462754331</td><td>3776000000</td><td>1111686754331</td><td>44.57</td><td>130430564304</td></tr><tr><td>&quot;META&quot;</td><td>&quot;2025-01-28&quot;</td><td>455.455004</td><td>659.88</td><td>&quot;2028&quot;</td><td>313052449124</td><td>18.34</td><td>138686926174</td><td>44.3</td><td>114523353776</td><td>36.58</td><td>24163572398</td><td>7.72</td><td>171414206869</td><td>54.76</td><td>38872999762</td><td>12.42</td><td>0.0</td><td>0.0</td><td>9274005045</td><td>2.96</td><td>-63771558124</td><td>-20.37</td><td>659.88</td><td>1.215</td><td>2629000000</td><td>4.32</td><td>17.56</td><td>3.56</td><td>4.32</td><td>4.72</td><td>10.05</td><td>37234000000</td><td>1734824520000</td><td>1772058520000</td><td>2.1</td><td>97.9</td><td>9.92</td><td>18291174</td><td>93575688865</td><td>49381215107</td><td>132185588167</td><td>4.0</td><td>867845154180</td><td>540883958944</td><td>673069547112</td><td>-4628000000</td><td>677697547112</td><td>257.78</td><td>51356463711</td></tr><tr><td>&quot;GOOG&quot;</td><td>&quot;2025-01-28&quot;</td><td>197.513386</td><td>191.81</td><td>&quot;2028&quot;</td><td>706109768075</td><td>18.1</td><td>240199708049</td><td>34.02</td><td>200287429124</td><td>28.36</td><td>39912278924</td><td>5.65</td><td>394484923413</td><td>55.87</td><td>111949781484</td><td>15.85</td><td>3.4094e9</td><td>0.48284</td><td>18488261260</td><td>2.62</td><td>-81828362399</td><td>-11.59</td><td>191.81</td><td>1.034</td><td>12722000000</td><td>4.32</td><td>13.91</td><td>3.72</td><td>4.32</td><td>4.72</td><td>9.2</td><td>28504000000</td><td>2440206820000</td><td>2468710820000</td><td>1.15</td><td>98.85</td><td>9.14</td><td>15122195</td><td>169999573836</td><td>113239806868</td><td>312700636534</td><td>4.0</td><td>2292756020602</td><td>1480832746176</td><td>1793533382711</td><td>4456000000</td><td>1789077382711</td><td>140.63</td><td>117769399143</td></tr><tr><td>&quot;GOOGL&quot;</td><td>&quot;2025-01-28&quot;</td><td>197.513386</td><td>191.81</td><td>&quot;2028&quot;</td><td>706109768075</td><td>18.1</td><td>240199708049</td><td>34.02</td><td>200287429124</td><td>28.36</td><td>39912278924</td><td>5.65</td><td>394484923413</td><td>55.87</td><td>111949781484</td><td>15.85</td><td>3.4094e9</td><td>0.48284</td><td>18488261260</td><td>2.62</td><td>-81828362399</td><td>-11.59</td><td>191.81</td><td>1.034</td><td>12722000000</td><td>4.32</td><td>13.91</td><td>3.72</td><td>4.32</td><td>4.72</td><td>9.2</td><td>28504000000</td><td>2440206820000</td><td>2468710820000</td><td>1.15</td><td>98.85</td><td>9.14</td><td>15122195</td><td>169999573836</td><td>113239806868</td><td>312700636534</td><td>4.0</td><td>2292756020602</td><td>1480832746176</td><td>1793533382711</td><td>4456000000</td><td>1789077382711</td><td>140.63</td><td>117769399143</td></tr></tbody></table></div>"
      ],
      "text/plain": [
       "shape: (5, 50)\n",
       "┌────────┬────────────┬────────────┬───────────┬───┬───────────┬───────────┬───────────┬───────────┐\n",
       "│ symbol ┆ date       ┆ dcf        ┆ stock_pri ┆ … ┆ net_debt  ┆ equity_va ┆ equity_va ┆ free_cash │\n",
       "│ ---    ┆ ---        ┆ ---        ┆ ce        ┆   ┆ ---       ┆ lue       ┆ lue_per_s ┆ _flowt1   │\n",
       "│ str    ┆ str        ┆ f64        ┆ ---       ┆   ┆ i64       ┆ ---       ┆ hare      ┆ ---       │\n",
       "│        ┆            ┆            ┆ f64       ┆   ┆           ┆ i64       ┆ ---       ┆ i64       │\n",
       "│        ┆            ┆            ┆           ┆   ┆           ┆           ┆ f64       ┆           │\n",
       "╞════════╪════════════╪════════════╪═══════════╪═══╪═══════════╪═══════════╪═══════════╪═══════════╡\n",
       "│ MSFT   ┆ 2025-01-28 ┆ 364.967042 ┆ 434.56    ┆ … ┆ 795370000 ┆ 246259305 ┆ 329.71    ┆ 142075246 │\n",
       "│        ┆            ┆            ┆           ┆   ┆ 00        ┆ 1706      ┆           ┆ 250       │\n",
       "│ NVDA   ┆ 2025-01-28 ┆ 57.787425  ┆ 118.42    ┆ … ┆ 377600000 ┆ 111168675 ┆ 44.57     ┆ 130430564 │\n",
       "│        ┆            ┆            ┆           ┆   ┆ 0         ┆ 4331      ┆           ┆ 304       │\n",
       "│ META   ┆ 2025-01-28 ┆ 455.455004 ┆ 659.88    ┆ … ┆ -46280000 ┆ 677697547 ┆ 257.78    ┆ 513564637 │\n",
       "│        ┆            ┆            ┆           ┆   ┆ 00        ┆ 112       ┆           ┆ 11        │\n",
       "│ GOOG   ┆ 2025-01-28 ┆ 197.513386 ┆ 191.81    ┆ … ┆ 445600000 ┆ 178907738 ┆ 140.63    ┆ 117769399 │\n",
       "│        ┆            ┆            ┆           ┆   ┆ 0         ┆ 2711      ┆           ┆ 143       │\n",
       "│ GOOGL  ┆ 2025-01-28 ┆ 197.513386 ┆ 191.81    ┆ … ┆ 445600000 ┆ 178907738 ┆ 140.63    ┆ 117769399 │\n",
       "│        ┆            ┆            ┆           ┆   ┆ 0         ┆ 2711      ┆           ┆ 143       │\n",
       "└────────┴────────────┴────────────┴───────────┴───┴───────────┴───────────┴───────────┴───────────┘"
      ]
     },
     "execution_count": 9,
     "metadata": {},
     "output_type": "execute_result"
    }
   ],
   "source": [
    "pl.scan_parquet(f'{output_dir}/company_dfc_advanced.parquet').head().collect()"
   ]
  }
 ],
 "metadata": {
  "kernelspec": {
   "display_name": ".venv",
   "language": "python",
   "name": "python3"
  },
  "language_info": {
   "codemirror_mode": {
    "name": "ipython",
    "version": 3
   },
   "file_extension": ".py",
   "mimetype": "text/x-python",
   "name": "python",
   "nbconvert_exporter": "python",
   "pygments_lexer": "ipython3",
   "version": "3.12.8"
  }
 },
 "nbformat": 4,
 "nbformat_minor": 2
}
