{
 "cells": [
  {
   "cell_type": "markdown",
   "metadata": {},
   "source": [
    "## Step 1: Import Libraries"
   ]
  },
  {
   "cell_type": "code",
   "execution_count": 1,
   "metadata": {
    "execution": {
     "iopub.execute_input": "2025-01-29T10:06:03.389291Z",
     "iopub.status.busy": "2025-01-29T10:06:03.388791Z",
     "iopub.status.idle": "2025-01-29T10:06:03.455278Z",
     "shell.execute_reply": "2025-01-29T10:06:03.454705Z"
    }
   },
   "outputs": [],
   "source": [
    "%run ../make_clean_names.py"
   ]
  },
  {
   "cell_type": "code",
   "execution_count": 2,
   "metadata": {
    "execution": {
     "iopub.execute_input": "2025-01-29T10:06:03.457592Z",
     "iopub.status.busy": "2025-01-29T10:06:03.457209Z",
     "iopub.status.idle": "2025-01-29T10:06:03.523557Z",
     "shell.execute_reply": "2025-01-29T10:06:03.523018Z"
    }
   },
   "outputs": [],
   "source": [
    "import requests\n",
    "from requests.adapters import HTTPAdapter\n",
    "from requests.packages.urllib3.util.retry import Retry\n",
    "import logging\n",
    "import concurrent.futures\n",
    "from datetime import datetime\n",
    "from typing import Dict, List\n",
    "from concurrent.futures import ThreadPoolExecutor\n",
    "import polars as pl\n",
    "\n",
    "from dotenv import load_dotenv\n",
    "import os\n",
    "\n",
    "# Load environment variables\n",
    "load_dotenv()\n",
    "\n",
    "logging.basicConfig(level=logging.INFO)\n",
    "logger = logging.getLogger(__name__)\n",
    "\n",
    "def create_session():\n",
    "    session = requests.Session()\n",
    "    retries = Retry(\n",
    "        total=3,\n",
    "        backoff_factor=1,\n",
    "        status_forcelist=[429, 500, 502, 503, 504]\n",
    "    )\n",
    "    session.mount('https://', HTTPAdapter(max_retries=retries, pool_maxsize=10))\n",
    "    return session\n",
    "\n",
    "# Get API key from environment variables\n",
    "FMP_API_KEY = os.getenv('FMP_API_KEY')\n",
    "if not FMP_API_KEY:\n",
    "    raise ValueError(\"FMP_API_KEY not found in environment variables\")"
   ]
  },
  {
   "cell_type": "markdown",
   "metadata": {},
   "source": [
    "## Step 2: Import Forex Pairs"
   ]
  },
  {
   "cell_type": "code",
   "execution_count": 3,
   "metadata": {
    "execution": {
     "iopub.execute_input": "2025-01-29T10:06:03.525702Z",
     "iopub.status.busy": "2025-01-29T10:06:03.525321Z",
     "iopub.status.idle": "2025-01-29T10:06:03.529781Z",
     "shell.execute_reply": "2025-01-29T10:06:03.529361Z"
    }
   },
   "outputs": [
    {
     "name": "stdout",
     "output_type": "stream",
     "text": [
      "Loaded 4 pairs from ../fx_pairs.txt\n",
      "pairs: ['USDEUR', 'USDBRL', 'USDGBP', 'USDJPY']\n"
     ]
    }
   ],
   "source": [
    "def load_pairs(file_path: str) -> List[str]:\n",
    "    \"\"\"Load pairs from a text file\"\"\"\n",
    "    try:\n",
    "        with open(file_path, 'r') as f:\n",
    "            pairs = [line.strip() for line in f if line.strip()]\n",
    "        print(f\"Loaded {len(pairs)} pairs from {file_path}\")\n",
    "        return pairs\n",
    "    except Exception as e:\n",
    "        print(f\"Error loading pairs: {str(e)}\")\n",
    "        return []\n",
    "\n",
    "pairs_file = '../fx_pairs.txt'\n",
    "pairs = load_pairs(pairs_file)\n",
    "\n",
    "if pairs:\n",
    "    print(\"pairs:\", pairs)\n",
    "else:\n",
    "    print(\"No pairs loaded.\")"
   ]
  },
  {
   "cell_type": "markdown",
   "metadata": {},
   "source": [
    "## Step 2: Extract Data from FMP into Polars"
   ]
  },
  {
   "cell_type": "code",
   "execution_count": 4,
   "metadata": {
    "execution": {
     "iopub.execute_input": "2025-01-29T10:06:03.567651Z",
     "iopub.status.busy": "2025-01-29T10:06:03.567457Z",
     "iopub.status.idle": "2025-01-29T10:06:03.813941Z",
     "shell.execute_reply": "2025-01-29T10:06:03.813395Z"
    }
   },
   "outputs": [],
   "source": [
    "start_date = '2020-01-01'\n",
    "end_date = datetime.today().strftime('%Y-%m-%d')\n",
    "\n",
    "def fetch_forex_data(pair: str, api_key: str, session: requests.Session) -> Dict:\n",
    "    \"\"\"Fetch historical forex data for a single pair with pair identifier\"\"\"\n",
    "    url = f\"https://financialmodelingprep.com/api/v3/historical-chart/1day/{pair}\"\n",
    "    params = {\n",
    "        \"from\": start_date,\n",
    "        \"to\": end_date,\n",
    "        \"apikey\": api_key\n",
    "    }\n",
    "        \n",
    "    try:\n",
    "        response = session.get(url, params=params, timeout=10)\n",
    "        response.raise_for_status()\n",
    "        data = response.json()\n",
    "        # Add pair identifier to each record\n",
    "        return [{\"pair\": pair, **record} for record in data] if data else None\n",
    "    except Exception as e:\n",
    "        logger.error(f\"Error fetching {pair}: {str(e)}\")\n",
    "        return None\n",
    "\n",
    "def fetch_all_forex_data(pairs: List[str], api_key: str) -> List[Dict]:\n",
    "    \"\"\"Fetch and combine forex data for multiple pairs\"\"\"\n",
    "    session = create_session()\n",
    "    \n",
    "    with ThreadPoolExecutor(max_workers=10) as executor:\n",
    "        futures = [\n",
    "            executor.submit(fetch_forex_data, pair, api_key, session)\n",
    "            for pair in pairs\n",
    "        ]\n",
    "        results = [\n",
    "            f.result() for f in concurrent.futures.as_completed(futures)\n",
    "        ]\n",
    "    \n",
    "    # Flatten results list and remove None values\n",
    "    all_data = []\n",
    "    for result in results:\n",
    "        if result:\n",
    "            all_data.extend(result)\n",
    "    return all_data\n",
    "\n",
    "# Execute fetching\n",
    "fx_data = fetch_all_forex_data(pairs, FMP_API_KEY)\n",
    "\n",
    "# Convert to Polars DataFrame if data exists\n",
    "if fx_data:\n",
    "    df = pl.DataFrame(fx_data)"
   ]
  },
  {
   "cell_type": "markdown",
   "metadata": {},
   "source": [
    "## Step 3: Clean Column Names"
   ]
  },
  {
   "cell_type": "code",
   "execution_count": 5,
   "metadata": {
    "execution": {
     "iopub.execute_input": "2025-01-29T10:06:03.815877Z",
     "iopub.status.busy": "2025-01-29T10:06:03.815511Z",
     "iopub.status.idle": "2025-01-29T10:06:03.820050Z",
     "shell.execute_reply": "2025-01-29T10:06:03.819475Z"
    }
   },
   "outputs": [],
   "source": [
    "df = make_clean_names(df)"
   ]
  },
  {
   "cell_type": "code",
   "execution_count": 6,
   "metadata": {
    "execution": {
     "iopub.execute_input": "2025-01-29T10:06:03.821817Z",
     "iopub.status.busy": "2025-01-29T10:06:03.821481Z",
     "iopub.status.idle": "2025-01-29T10:06:03.828309Z",
     "shell.execute_reply": "2025-01-29T10:06:03.827849Z"
    }
   },
   "outputs": [
    {
     "data": {
      "text/html": [
       "<div><style>\n",
       ".dataframe > thead > tr,\n",
       ".dataframe > tbody > tr {\n",
       "  text-align: right;\n",
       "  white-space: pre-wrap;\n",
       "}\n",
       "</style>\n",
       "<small>shape: (5_380, 7)</small><table border=\"1\" class=\"dataframe\"><thead><tr><th>pair</th><th>date</th><th>open</th><th>low</th><th>high</th><th>close</th><th>volume</th></tr><tr><td>str</td><td>str</td><td>f64</td><td>f64</td><td>f64</td><td>f64</td><td>i64</td></tr></thead><tbody><tr><td>&quot;USDJPY&quot;</td><td>&quot;2025-01-29 00:00:00&quot;</td><td>155.521</td><td>154.996</td><td>155.792</td><td>155.3515</td><td>49489</td></tr><tr><td>&quot;USDJPY&quot;</td><td>&quot;2025-01-28 00:00:00&quot;</td><td>154.489</td><td>154.426</td><td>155.973</td><td>155.52</td><td>370040</td></tr><tr><td>&quot;USDJPY&quot;</td><td>&quot;2025-01-27 00:00:00&quot;</td><td>155.675</td><td>153.708</td><td>156.242</td><td>154.489</td><td>509024</td></tr><tr><td>&quot;USDJPY&quot;</td><td>&quot;2025-01-26 00:00:00&quot;</td><td>155.651</td><td>155.601</td><td>155.651</td><td>155.638</td><td>0</td></tr><tr><td>&quot;USDJPY&quot;</td><td>&quot;2025-01-24 00:00:00&quot;</td><td>156.034</td><td>154.832</td><td>156.572</td><td>155.948</td><td>456249</td></tr><tr><td>&hellip;</td><td>&hellip;</td><td>&hellip;</td><td>&hellip;</td><td>&hellip;</td><td>&hellip;</td><td>&hellip;</td></tr><tr><td>&quot;USDBRL&quot;</td><td>&quot;2020-02-07 00:00:00&quot;</td><td>4.282</td><td>4.2796</td><td>4.3231</td><td>4.3201</td><td>0</td></tr><tr><td>&quot;USDBRL&quot;</td><td>&quot;2020-02-06 00:00:00&quot;</td><td>4.2351</td><td>4.2097</td><td>4.2851</td><td>4.282</td><td>0</td></tr><tr><td>&quot;USDBRL&quot;</td><td>&quot;2020-02-05 00:00:00&quot;</td><td>4.2551</td><td>4.2278</td><td>4.2605</td><td>4.2351</td><td>0</td></tr><tr><td>&quot;USDBRL&quot;</td><td>&quot;2020-02-04 00:00:00&quot;</td><td>4.2474</td><td>4.2247</td><td>4.2614</td><td>4.2539</td><td>0</td></tr><tr><td>&quot;USDBRL&quot;</td><td>&quot;2020-02-03 00:00:00&quot;</td><td>4.2818</td><td>4.2313</td><td>4.2826</td><td>4.2474</td><td>0</td></tr></tbody></table></div>"
      ],
      "text/plain": [
       "shape: (5_380, 7)\n",
       "┌────────┬─────────────────────┬─────────┬─────────┬─────────┬──────────┬────────┐\n",
       "│ pair   ┆ date                ┆ open    ┆ low     ┆ high    ┆ close    ┆ volume │\n",
       "│ ---    ┆ ---                 ┆ ---     ┆ ---     ┆ ---     ┆ ---      ┆ ---    │\n",
       "│ str    ┆ str                 ┆ f64     ┆ f64     ┆ f64     ┆ f64      ┆ i64    │\n",
       "╞════════╪═════════════════════╪═════════╪═════════╪═════════╪══════════╪════════╡\n",
       "│ USDJPY ┆ 2025-01-29 00:00:00 ┆ 155.521 ┆ 154.996 ┆ 155.792 ┆ 155.3515 ┆ 49489  │\n",
       "│ USDJPY ┆ 2025-01-28 00:00:00 ┆ 154.489 ┆ 154.426 ┆ 155.973 ┆ 155.52   ┆ 370040 │\n",
       "│ USDJPY ┆ 2025-01-27 00:00:00 ┆ 155.675 ┆ 153.708 ┆ 156.242 ┆ 154.489  ┆ 509024 │\n",
       "│ USDJPY ┆ 2025-01-26 00:00:00 ┆ 155.651 ┆ 155.601 ┆ 155.651 ┆ 155.638  ┆ 0      │\n",
       "│ USDJPY ┆ 2025-01-24 00:00:00 ┆ 156.034 ┆ 154.832 ┆ 156.572 ┆ 155.948  ┆ 456249 │\n",
       "│ …      ┆ …                   ┆ …       ┆ …       ┆ …       ┆ …        ┆ …      │\n",
       "│ USDBRL ┆ 2020-02-07 00:00:00 ┆ 4.282   ┆ 4.2796  ┆ 4.3231  ┆ 4.3201   ┆ 0      │\n",
       "│ USDBRL ┆ 2020-02-06 00:00:00 ┆ 4.2351  ┆ 4.2097  ┆ 4.2851  ┆ 4.282    ┆ 0      │\n",
       "│ USDBRL ┆ 2020-02-05 00:00:00 ┆ 4.2551  ┆ 4.2278  ┆ 4.2605  ┆ 4.2351   ┆ 0      │\n",
       "│ USDBRL ┆ 2020-02-04 00:00:00 ┆ 4.2474  ┆ 4.2247  ┆ 4.2614  ┆ 4.2539   ┆ 0      │\n",
       "│ USDBRL ┆ 2020-02-03 00:00:00 ┆ 4.2818  ┆ 4.2313  ┆ 4.2826  ┆ 4.2474   ┆ 0      │\n",
       "└────────┴─────────────────────┴─────────┴─────────┴─────────┴──────────┴────────┘"
      ]
     },
     "execution_count": 6,
     "metadata": {},
     "output_type": "execute_result"
    }
   ],
   "source": [
    "df"
   ]
  },
  {
   "cell_type": "markdown",
   "metadata": {},
   "source": [
    "## Step 4: Write Polars to Parquet"
   ]
  },
  {
   "cell_type": "code",
   "execution_count": 7,
   "metadata": {
    "execution": {
     "iopub.execute_input": "2025-01-29T10:06:03.830104Z",
     "iopub.status.busy": "2025-01-29T10:06:03.829762Z",
     "iopub.status.idle": "2025-01-29T10:06:03.837207Z",
     "shell.execute_reply": "2025-01-29T10:06:03.836662Z"
    }
   },
   "outputs": [],
   "source": [
    "# Define the output directory\n",
    "output_dir = \"../../../data/finance\"\n",
    "\n",
    "# Write the processed DataFrame to a Parquet file\n",
    "df.write_parquet(f'{output_dir}/historical_fx_quotes.parquet')"
   ]
  },
  {
   "cell_type": "markdown",
   "metadata": {},
   "source": [
    "## Step 5: Read Parquet (Validate)"
   ]
  },
  {
   "cell_type": "code",
   "execution_count": 8,
   "metadata": {
    "execution": {
     "iopub.execute_input": "2025-01-29T10:06:03.839146Z",
     "iopub.status.busy": "2025-01-29T10:06:03.838801Z",
     "iopub.status.idle": "2025-01-29T10:06:03.843739Z",
     "shell.execute_reply": "2025-01-29T10:06:03.843298Z"
    }
   },
   "outputs": [
    {
     "data": {
      "text/html": [
       "<div><style>\n",
       ".dataframe > thead > tr,\n",
       ".dataframe > tbody > tr {\n",
       "  text-align: right;\n",
       "  white-space: pre-wrap;\n",
       "}\n",
       "</style>\n",
       "<small>shape: (5, 7)</small><table border=\"1\" class=\"dataframe\"><thead><tr><th>pair</th><th>date</th><th>open</th><th>low</th><th>high</th><th>close</th><th>volume</th></tr><tr><td>str</td><td>str</td><td>f64</td><td>f64</td><td>f64</td><td>f64</td><td>i64</td></tr></thead><tbody><tr><td>&quot;USDJPY&quot;</td><td>&quot;2025-01-29 00:00:00&quot;</td><td>155.521</td><td>154.996</td><td>155.792</td><td>155.3515</td><td>49489</td></tr><tr><td>&quot;USDJPY&quot;</td><td>&quot;2025-01-28 00:00:00&quot;</td><td>154.489</td><td>154.426</td><td>155.973</td><td>155.52</td><td>370040</td></tr><tr><td>&quot;USDJPY&quot;</td><td>&quot;2025-01-27 00:00:00&quot;</td><td>155.675</td><td>153.708</td><td>156.242</td><td>154.489</td><td>509024</td></tr><tr><td>&quot;USDJPY&quot;</td><td>&quot;2025-01-26 00:00:00&quot;</td><td>155.651</td><td>155.601</td><td>155.651</td><td>155.638</td><td>0</td></tr><tr><td>&quot;USDJPY&quot;</td><td>&quot;2025-01-24 00:00:00&quot;</td><td>156.034</td><td>154.832</td><td>156.572</td><td>155.948</td><td>456249</td></tr></tbody></table></div>"
      ],
      "text/plain": [
       "shape: (5, 7)\n",
       "┌────────┬─────────────────────┬─────────┬─────────┬─────────┬──────────┬────────┐\n",
       "│ pair   ┆ date                ┆ open    ┆ low     ┆ high    ┆ close    ┆ volume │\n",
       "│ ---    ┆ ---                 ┆ ---     ┆ ---     ┆ ---     ┆ ---      ┆ ---    │\n",
       "│ str    ┆ str                 ┆ f64     ┆ f64     ┆ f64     ┆ f64      ┆ i64    │\n",
       "╞════════╪═════════════════════╪═════════╪═════════╪═════════╪══════════╪════════╡\n",
       "│ USDJPY ┆ 2025-01-29 00:00:00 ┆ 155.521 ┆ 154.996 ┆ 155.792 ┆ 155.3515 ┆ 49489  │\n",
       "│ USDJPY ┆ 2025-01-28 00:00:00 ┆ 154.489 ┆ 154.426 ┆ 155.973 ┆ 155.52   ┆ 370040 │\n",
       "│ USDJPY ┆ 2025-01-27 00:00:00 ┆ 155.675 ┆ 153.708 ┆ 156.242 ┆ 154.489  ┆ 509024 │\n",
       "│ USDJPY ┆ 2025-01-26 00:00:00 ┆ 155.651 ┆ 155.601 ┆ 155.651 ┆ 155.638  ┆ 0      │\n",
       "│ USDJPY ┆ 2025-01-24 00:00:00 ┆ 156.034 ┆ 154.832 ┆ 156.572 ┆ 155.948  ┆ 456249 │\n",
       "└────────┴─────────────────────┴─────────┴─────────┴─────────┴──────────┴────────┘"
      ]
     },
     "execution_count": 8,
     "metadata": {},
     "output_type": "execute_result"
    }
   ],
   "source": [
    "# Validate the output by reading the Parquet file and displaying the first few rows\n",
    "pl.scan_parquet(f'{output_dir}/historical_fx_quotes.parquet').head().collect()"
   ]
  }
 ],
 "metadata": {
  "kernelspec": {
   "display_name": ".venv",
   "language": "python",
   "name": "python3"
  },
  "language_info": {
   "codemirror_mode": {
    "name": "ipython",
    "version": 3
   },
   "file_extension": ".py",
   "mimetype": "text/x-python",
   "name": "python",
   "nbconvert_exporter": "python",
   "pygments_lexer": "ipython3",
   "version": "3.12.8"
  }
 },
 "nbformat": 4,
 "nbformat_minor": 2
}
