{
 "cells": [
  {
   "cell_type": "markdown",
   "metadata": {},
   "source": [
    "## Step 1: Import Libraries"
   ]
  },
  {
   "cell_type": "code",
   "execution_count": 1,
   "metadata": {
    "execution": {
     "iopub.execute_input": "2025-01-28T10:05:43.406950Z",
     "iopub.status.busy": "2025-01-28T10:05:43.406517Z",
     "iopub.status.idle": "2025-01-28T10:05:43.471420Z",
     "shell.execute_reply": "2025-01-28T10:05:43.470870Z"
    }
   },
   "outputs": [],
   "source": [
    "%run ../make_clean_names.py"
   ]
  },
  {
   "cell_type": "code",
   "execution_count": 2,
   "metadata": {
    "execution": {
     "iopub.execute_input": "2025-01-28T10:05:43.473655Z",
     "iopub.status.busy": "2025-01-28T10:05:43.473297Z",
     "iopub.status.idle": "2025-01-28T10:05:43.539060Z",
     "shell.execute_reply": "2025-01-28T10:05:43.538441Z"
    }
   },
   "outputs": [],
   "source": [
    "import concurrent.futures\n",
    "from concurrent.futures import ThreadPoolExecutor\n",
    "import requests\n",
    "from requests.adapters import HTTPAdapter\n",
    "from urllib3.util.retry import Retry\n",
    "import logging\n",
    "\n",
    "import polars as pl\n",
    "from datetime import datetime, timedelta\n",
    "from dotenv import load_dotenv\n",
    "import os\n",
    "\n",
    "# Load environment variables\n",
    "load_dotenv()\n",
    "\n",
    "logging.basicConfig(level=logging.INFO)\n",
    "logger = logging.getLogger(__name__)\n",
    "\n",
    "def create_session():\n",
    "    session = requests.Session()\n",
    "    retries = Retry(\n",
    "        total=3,\n",
    "        backoff_factor=1,\n",
    "        status_forcelist=[429, 500, 502, 503, 504]\n",
    "    )\n",
    "    session.mount('https://', HTTPAdapter(max_retries=retries, pool_maxsize=10))\n",
    "    return session\n",
    "\n",
    "# Get API key from environment variables\n",
    "FMP_API_KEY = os.getenv('FMP_API_KEY')\n",
    "if not FMP_API_KEY:\n",
    "    raise ValueError(\"FMP_API_KEY not found in environment variables\")"
   ]
  },
  {
   "cell_type": "markdown",
   "metadata": {},
   "source": [
    "## Step 2: Import Symbols"
   ]
  },
  {
   "cell_type": "code",
   "execution_count": 3,
   "metadata": {
    "execution": {
     "iopub.execute_input": "2025-01-28T10:05:43.541410Z",
     "iopub.status.busy": "2025-01-28T10:05:43.541045Z",
     "iopub.status.idle": "2025-01-28T10:05:43.545911Z",
     "shell.execute_reply": "2025-01-28T10:05:43.545307Z"
    }
   },
   "outputs": [
    {
     "name": "stdout",
     "output_type": "stream",
     "text": [
      "Loaded 61 symbols from ../tickers.txt\n",
      "Symbols: ['AAPL', 'MSFT', 'GOOGL', 'GOOG', 'META', 'NVDA', 'AVGO', 'ORCL', 'CRM', 'ACN', 'ADBE', 'CSCO', 'INTC', 'NFLX', 'DIS', 'CMCSA', 'VZ', 'T', 'AMZN', 'TSLA', 'HD', 'MCD', 'NKE', 'SBUX', 'TGT', 'LOW', 'WMT', 'PG', 'KO', 'PEP', 'COST', 'BRK-B', 'JPM', 'BAC', 'WFC', 'GS', 'MS', 'BLK', 'UNH', 'JNJ', 'PFE', 'ABBV', 'MRK', 'LLY', 'CAT', 'BA', 'HON', 'UPS', 'RTX', 'GE', 'XOM', 'CVX', 'COP', 'SLB', 'LIN', 'APD', 'ECL', 'PLD', 'AMT', 'CCI', 'OSW']\n"
     ]
    }
   ],
   "source": [
    "def load_symbols(file_path: str) -> List[str]:\n",
    "    \"\"\"Load symbols from a text file\"\"\"\n",
    "    try:\n",
    "        with open(file_path, 'r') as f:\n",
    "            symbols = [line.strip() for line in f if line.strip()]\n",
    "        print(f\"Loaded {len(symbols)} symbols from {file_path}\")\n",
    "        return symbols\n",
    "    except Exception as e:\n",
    "        print(f\"Error loading symbols: {str(e)}\")\n",
    "        return []\n",
    "\n",
    "symbols_file = '../tickers.txt'\n",
    "symbols = load_symbols(symbols_file)\n",
    "\n",
    "if symbols:\n",
    "    print(\"Symbols:\", symbols)\n",
    "else:\n",
    "    print(\"No symbols loaded.\")"
   ]
  },
  {
   "cell_type": "markdown",
   "metadata": {},
   "source": [
    "## Step 3: Extract Data from FMP into Polars"
   ]
  },
  {
   "cell_type": "code",
   "execution_count": 4,
   "metadata": {
    "execution": {
     "iopub.execute_input": "2025-01-28T10:05:43.584069Z",
     "iopub.status.busy": "2025-01-28T10:05:43.583718Z",
     "iopub.status.idle": "2025-01-28T10:06:04.173950Z",
     "shell.execute_reply": "2025-01-28T10:06:04.173477Z"
    }
   },
   "outputs": [
    {
     "name": "stderr",
     "output_type": "stream",
     "text": [
      "ERROR:__main__:Error fetching GOOGL: HTTPSConnectionPool(host='financialmodelingprep.com', port=443): Max retries exceeded with url: /api/v3/profile/GOOGL?apikey=PBkrv7HEcbYqq5BmXIRgFjfxzbLzuKmI (Caused by ResponseError('too many 429 error responses'))\n"
     ]
    },
    {
     "name": "stderr",
     "output_type": "stream",
     "text": [
      "ERROR:__main__:Error fetching AAPL: HTTPSConnectionPool(host='financialmodelingprep.com', port=443): Max retries exceeded with url: /api/v3/profile/AAPL?apikey=PBkrv7HEcbYqq5BmXIRgFjfxzbLzuKmI (Caused by ResponseError('too many 429 error responses'))\n"
     ]
    },
    {
     "name": "stderr",
     "output_type": "stream",
     "text": [
      "ERROR:__main__:Error fetching GOOG: HTTPSConnectionPool(host='financialmodelingprep.com', port=443): Max retries exceeded with url: /api/v3/profile/GOOG?apikey=PBkrv7HEcbYqq5BmXIRgFjfxzbLzuKmI (Caused by ResponseError('too many 429 error responses'))\n"
     ]
    },
    {
     "name": "stderr",
     "output_type": "stream",
     "text": [
      "ERROR:__main__:Error fetching MSFT: HTTPSConnectionPool(host='financialmodelingprep.com', port=443): Max retries exceeded with url: /api/v3/profile/MSFT?apikey=PBkrv7HEcbYqq5BmXIRgFjfxzbLzuKmI (Caused by ResponseError('too many 429 error responses'))\n"
     ]
    },
    {
     "name": "stderr",
     "output_type": "stream",
     "text": [
      "ERROR:__main__:Error fetching NVDA: HTTPSConnectionPool(host='financialmodelingprep.com', port=443): Max retries exceeded with url: /api/v3/profile/NVDA?apikey=PBkrv7HEcbYqq5BmXIRgFjfxzbLzuKmI (Caused by ResponseError('too many 429 error responses'))\n"
     ]
    },
    {
     "name": "stderr",
     "output_type": "stream",
     "text": [
      "ERROR:__main__:Error fetching CRM: HTTPSConnectionPool(host='financialmodelingprep.com', port=443): Max retries exceeded with url: /api/v3/profile/CRM?apikey=PBkrv7HEcbYqq5BmXIRgFjfxzbLzuKmI (Caused by ResponseError('too many 429 error responses'))\n"
     ]
    },
    {
     "name": "stderr",
     "output_type": "stream",
     "text": [
      "ERROR:__main__:Error fetching ACN: HTTPSConnectionPool(host='financialmodelingprep.com', port=443): Max retries exceeded with url: /api/v3/profile/ACN?apikey=PBkrv7HEcbYqq5BmXIRgFjfxzbLzuKmI (Caused by ResponseError('too many 429 error responses'))\n"
     ]
    },
    {
     "name": "stderr",
     "output_type": "stream",
     "text": [
      "ERROR:__main__:Error fetching AVGO: HTTPSConnectionPool(host='financialmodelingprep.com', port=443): Max retries exceeded with url: /api/v3/profile/AVGO?apikey=PBkrv7HEcbYqq5BmXIRgFjfxzbLzuKmI (Caused by ResponseError('too many 429 error responses'))\n"
     ]
    },
    {
     "name": "stderr",
     "output_type": "stream",
     "text": [
      "ERROR:__main__:Error fetching ORCL: HTTPSConnectionPool(host='financialmodelingprep.com', port=443): Max retries exceeded with url: /api/v3/profile/ORCL?apikey=PBkrv7HEcbYqq5BmXIRgFjfxzbLzuKmI (Caused by ResponseError('too many 429 error responses'))\n"
     ]
    },
    {
     "name": "stderr",
     "output_type": "stream",
     "text": [
      "ERROR:__main__:Error fetching META: HTTPSConnectionPool(host='financialmodelingprep.com', port=443): Max retries exceeded with url: /api/v3/profile/META?apikey=PBkrv7HEcbYqq5BmXIRgFjfxzbLzuKmI (Caused by ResponseError('too many 429 error responses'))\n"
     ]
    },
    {
     "name": "stderr",
     "output_type": "stream",
     "text": [
      "ERROR:__main__:Error fetching ADBE: HTTPSConnectionPool(host='financialmodelingprep.com', port=443): Max retries exceeded with url: /api/v3/profile/ADBE?apikey=PBkrv7HEcbYqq5BmXIRgFjfxzbLzuKmI (Caused by ResponseError('too many 429 error responses'))\n"
     ]
    },
    {
     "name": "stderr",
     "output_type": "stream",
     "text": [
      "ERROR:__main__:Error fetching NFLX: HTTPSConnectionPool(host='financialmodelingprep.com', port=443): Max retries exceeded with url: /api/v3/profile/NFLX?apikey=PBkrv7HEcbYqq5BmXIRgFjfxzbLzuKmI (Caused by ResponseError('too many 429 error responses'))\n"
     ]
    },
    {
     "name": "stderr",
     "output_type": "stream",
     "text": [
      "ERROR:__main__:Error fetching CSCO: HTTPSConnectionPool(host='financialmodelingprep.com', port=443): Max retries exceeded with url: /api/v3/profile/CSCO?apikey=PBkrv7HEcbYqq5BmXIRgFjfxzbLzuKmI (Caused by ResponseError('too many 429 error responses'))\n"
     ]
    },
    {
     "name": "stderr",
     "output_type": "stream",
     "text": [
      "ERROR:__main__:Error fetching VZ: HTTPSConnectionPool(host='financialmodelingprep.com', port=443): Max retries exceeded with url: /api/v3/profile/VZ?apikey=PBkrv7HEcbYqq5BmXIRgFjfxzbLzuKmI (Caused by ResponseError('too many 429 error responses'))\n"
     ]
    },
    {
     "name": "stderr",
     "output_type": "stream",
     "text": [
      "ERROR:__main__:Error fetching DIS: HTTPSConnectionPool(host='financialmodelingprep.com', port=443): Max retries exceeded with url: /api/v3/profile/DIS?apikey=PBkrv7HEcbYqq5BmXIRgFjfxzbLzuKmI (Caused by ResponseError('too many 429 error responses'))\n"
     ]
    },
    {
     "name": "stderr",
     "output_type": "stream",
     "text": [
      "ERROR:__main__:Error fetching TSLA: HTTPSConnectionPool(host='financialmodelingprep.com', port=443): Max retries exceeded with url: /api/v3/profile/TSLA?apikey=PBkrv7HEcbYqq5BmXIRgFjfxzbLzuKmI (Caused by ResponseError('too many 429 error responses'))\n"
     ]
    },
    {
     "name": "stderr",
     "output_type": "stream",
     "text": [
      "ERROR:__main__:Error fetching INTC: HTTPSConnectionPool(host='financialmodelingprep.com', port=443): Max retries exceeded with url: /api/v3/profile/INTC?apikey=PBkrv7HEcbYqq5BmXIRgFjfxzbLzuKmI (Caused by ResponseError('too many 429 error responses'))\n"
     ]
    },
    {
     "name": "stderr",
     "output_type": "stream",
     "text": [
      "ERROR:__main__:Error fetching CMCSA: HTTPSConnectionPool(host='financialmodelingprep.com', port=443): Max retries exceeded with url: /api/v3/profile/CMCSA?apikey=PBkrv7HEcbYqq5BmXIRgFjfxzbLzuKmI (Caused by ResponseError('too many 429 error responses'))\n"
     ]
    },
    {
     "name": "stderr",
     "output_type": "stream",
     "text": [
      "ERROR:__main__:Error fetching T: HTTPSConnectionPool(host='financialmodelingprep.com', port=443): Max retries exceeded with url: /api/v3/profile/T?apikey=PBkrv7HEcbYqq5BmXIRgFjfxzbLzuKmI (Caused by ResponseError('too many 429 error responses'))\n"
     ]
    },
    {
     "name": "stderr",
     "output_type": "stream",
     "text": [
      "ERROR:__main__:Error fetching AMZN: HTTPSConnectionPool(host='financialmodelingprep.com', port=443): Max retries exceeded with url: /api/v3/profile/AMZN?apikey=PBkrv7HEcbYqq5BmXIRgFjfxzbLzuKmI (Caused by ResponseError('too many 429 error responses'))\n"
     ]
    }
   ],
   "source": [
    "def fetch_company_profile(symbol: str, api_key: str, session: requests.Session) -> Dict:\n",
    "    \"\"\"Fetch company profile data from FMP API\"\"\"\n",
    "    url = f\"https://financialmodelingprep.com/api/v3/profile/{symbol}\"\n",
    "    params = {\"apikey\": api_key}\n",
    "    \n",
    "    try:\n",
    "        response = session.get(url, params=params, timeout=10)\n",
    "        response.raise_for_status()\n",
    "        return response.json()\n",
    "    except Exception as e:\n",
    "        logger.error(f\"Error fetching {symbol}: {str(e)}\")\n",
    "        return None\n",
    "\n",
    "def fetch_all_profiles(symbols: List[str], api_key: str) -> List[Dict]:\n",
    "    session = create_session()\n",
    "    \n",
    "    with ThreadPoolExecutor(max_workers=10) as executor:\n",
    "        futures = [\n",
    "            executor.submit(fetch_company_profile, symbol, api_key, session)\n",
    "            for symbol in symbols\n",
    "        ]\n",
    "        results = [\n",
    "            f.result() for f in concurrent.futures.as_completed(futures)\n",
    "        ]\n",
    "    \n",
    "    return [r[0] for r in results if r and isinstance(r, list)]\n",
    "\n",
    "# Execute fetching\n",
    "company_profiles = fetch_all_profiles(symbols, FMP_API_KEY)\n",
    "\n",
    "# Convert to Polars DataFrame more efficiently\n",
    "if company_profiles:\n",
    "    df = pl.DataFrame(company_profiles)"
   ]
  },
  {
   "cell_type": "markdown",
   "metadata": {},
   "source": [
    "## Step 4: Clean Column Names"
   ]
  },
  {
   "cell_type": "code",
   "execution_count": 5,
   "metadata": {
    "execution": {
     "iopub.execute_input": "2025-01-28T10:06:04.176190Z",
     "iopub.status.busy": "2025-01-28T10:06:04.175853Z",
     "iopub.status.idle": "2025-01-28T10:06:04.180620Z",
     "shell.execute_reply": "2025-01-28T10:06:04.180202Z"
    }
   },
   "outputs": [],
   "source": [
    "df = make_clean_names(df)"
   ]
  },
  {
   "cell_type": "markdown",
   "metadata": {},
   "source": [
    "## Step 5: Write Polars to Parquet"
   ]
  },
  {
   "cell_type": "code",
   "execution_count": 6,
   "metadata": {
    "execution": {
     "iopub.execute_input": "2025-01-28T10:06:04.182420Z",
     "iopub.status.busy": "2025-01-28T10:06:04.182058Z",
     "iopub.status.idle": "2025-01-28T10:06:04.188173Z",
     "shell.execute_reply": "2025-01-28T10:06:04.187668Z"
    }
   },
   "outputs": [],
   "source": [
    "output_dir = \"../../../data/finance\"\n",
    "\n",
    "# Write DataFrame to Parquet\n",
    "df.write_parquet(f'{output_dir}/company_profile.parquet')"
   ]
  },
  {
   "cell_type": "markdown",
   "metadata": {},
   "source": [
    "## Step 6: Read Parquet (Validate)"
   ]
  },
  {
   "cell_type": "code",
   "execution_count": 7,
   "metadata": {
    "execution": {
     "iopub.execute_input": "2025-01-28T10:06:04.190198Z",
     "iopub.status.busy": "2025-01-28T10:06:04.189858Z",
     "iopub.status.idle": "2025-01-28T10:06:04.198401Z",
     "shell.execute_reply": "2025-01-28T10:06:04.197860Z"
    }
   },
   "outputs": [
    {
     "data": {
      "text/html": [
       "<div><style>\n",
       ".dataframe > thead > tr,\n",
       ".dataframe > tbody > tr {\n",
       "  text-align: right;\n",
       "  white-space: pre-wrap;\n",
       "}\n",
       "</style>\n",
       "<small>shape: (5, 36)</small><table border=\"1\" class=\"dataframe\"><thead><tr><th>symbol</th><th>price</th><th>beta</th><th>vol_avg</th><th>mkt_cap</th><th>last_div</th><th>range</th><th>changes</th><th>company_name</th><th>currency</th><th>cik</th><th>isin</th><th>cusip</th><th>exchange</th><th>exchange_short_name</th><th>industry</th><th>website</th><th>description</th><th>ceo</th><th>sector</th><th>country</th><th>full_time_employees</th><th>phone</th><th>address</th><th>city</th><th>state</th><th>zip</th><th>dcf_diff</th><th>dcf</th><th>image</th><th>ipo_date</th><th>default_image</th><th>is_etf</th><th>is_actively_trading</th><th>is_adr</th><th>is_fund</th></tr><tr><td>str</td><td>f64</td><td>f64</td><td>i64</td><td>i64</td><td>f64</td><td>str</td><td>f64</td><td>str</td><td>str</td><td>str</td><td>str</td><td>str</td><td>str</td><td>str</td><td>str</td><td>str</td><td>str</td><td>str</td><td>str</td><td>str</td><td>str</td><td>str</td><td>str</td><td>str</td><td>str</td><td>str</td><td>f64</td><td>f64</td><td>str</td><td>str</td><td>bool</td><td>bool</td><td>bool</td><td>bool</td><td>bool</td></tr></thead><tbody><tr><td>&quot;TGT&quot;</td><td>142.5</td><td>1.242</td><td>6800786</td><td>65295210000</td><td>4.44</td><td>&quot;120.21-181.86&quot;</td><td>4.61</td><td>&quot;Target Corporation&quot;</td><td>&quot;USD&quot;</td><td>&quot;0000027419&quot;</td><td>&quot;US87612E1064&quot;</td><td>&quot;87612E106&quot;</td><td>&quot;New York Stock Exchange&quot;</td><td>&quot;NYSE&quot;</td><td>&quot;Discount Stores&quot;</td><td>&quot;https://corporate.target.com&quot;</td><td>&quot;Target Corporation operates as…</td><td>&quot;Mr. Brian C. Cornell&quot;</td><td>&quot;Consumer Defensive&quot;</td><td>&quot;US&quot;</td><td>&quot;415000&quot;</td><td>&quot;612 304 6073&quot;</td><td>&quot;1000 Nicollet Mall&quot;</td><td>&quot;Minneapolis&quot;</td><td>&quot;MN&quot;</td><td>&quot;55403&quot;</td><td>-46.12602</td><td>188.626018</td><td>&quot;https://images.financialmodeli…</td><td>&quot;1967-10-18&quot;</td><td>false</td><td>false</td><td>true</td><td>false</td><td>false</td></tr><tr><td>&quot;SBUX&quot;</td><td>100.02</td><td>0.962</td><td>7920991</td><td>113402676000</td><td>2.32</td><td>&quot;71.55-103.32&quot;</td><td>1.21</td><td>&quot;Starbucks Corporation&quot;</td><td>&quot;USD&quot;</td><td>&quot;0000829224&quot;</td><td>&quot;US8552441094&quot;</td><td>&quot;855244109&quot;</td><td>&quot;NASDAQ Global Select&quot;</td><td>&quot;NASDAQ&quot;</td><td>&quot;Restaurants&quot;</td><td>&quot;https://www.starbucks.com&quot;</td><td>&quot;Starbucks Corporation, togethe…</td><td>&quot;Mr. Brian R. Niccol&quot;</td><td>&quot;Consumer Cyclical&quot;</td><td>&quot;US&quot;</td><td>&quot;381000&quot;</td><td>&quot;206 447 1575&quot;</td><td>&quot;2401 Utah Avenue South&quot;</td><td>&quot;Seattle&quot;</td><td>&quot;WA&quot;</td><td>&quot;98134&quot;</td><td>26.2477</td><td>73.772298</td><td>&quot;https://images.financialmodeli…</td><td>&quot;1992-06-26&quot;</td><td>false</td><td>false</td><td>true</td><td>false</td><td>false</td></tr><tr><td>&quot;HD&quot;</td><td>424.87</td><td>1.011</td><td>3339346</td><td>422050137810</td><td>9.0</td><td>&quot;323.77-439.37&quot;</td><td>10.37</td><td>&quot;The Home Depot, Inc.&quot;</td><td>&quot;USD&quot;</td><td>&quot;0000354950&quot;</td><td>&quot;US4370761029&quot;</td><td>&quot;437076102&quot;</td><td>&quot;New York Stock Exchange&quot;</td><td>&quot;NYSE&quot;</td><td>&quot;Home Improvement&quot;</td><td>&quot;https://www.homedepot.com&quot;</td><td>&quot;The Home Depot, Inc. operates …</td><td>&quot;Mr. Edward P. Decker&quot;</td><td>&quot;Consumer Cyclical&quot;</td><td>&quot;US&quot;</td><td>&quot;465000&quot;</td><td>&quot;770 433 8211&quot;</td><td>&quot;2455 Paces Ferry Road&quot;</td><td>&quot;Atlanta&quot;</td><td>&quot;GA&quot;</td><td>&quot;30339&quot;</td><td>97.94146</td><td>326.928537</td><td>&quot;https://images.financialmodeli…</td><td>&quot;1981-09-22&quot;</td><td>false</td><td>false</td><td>true</td><td>false</td><td>false</td></tr><tr><td>&quot;LOW&quot;</td><td>268.42</td><td>1.098</td><td>2401258</td><td>151563353000</td><td>4.55</td><td>&quot;209.81-287.01&quot;</td><td>6.22</td><td>&quot;Lowe&#x27;s Companies, Inc.&quot;</td><td>&quot;USD&quot;</td><td>&quot;0000060667&quot;</td><td>&quot;US5486611073&quot;</td><td>&quot;548661107&quot;</td><td>&quot;New York Stock Exchange&quot;</td><td>&quot;NYSE&quot;</td><td>&quot;Home Improvement&quot;</td><td>&quot;https://www.lowes.com&quot;</td><td>&quot;Lowe&#x27;s Companies, Inc., togeth…</td><td>&quot;Mr. Marvin R. Ellison&quot;</td><td>&quot;Consumer Cyclical&quot;</td><td>&quot;US&quot;</td><td>&quot;300000&quot;</td><td>&quot;704 758 1000&quot;</td><td>&quot;1000 Lowe&#x27;s Boulevard&quot;</td><td>&quot;Mooresville&quot;</td><td>&quot;NC&quot;</td><td>&quot;28117&quot;</td><td>128.59156</td><td>139.828445</td><td>&quot;https://images.financialmodeli…</td><td>&quot;1980-03-17&quot;</td><td>false</td><td>false</td><td>true</td><td>false</td><td>false</td></tr><tr><td>&quot;PG&quot;</td><td>169.66</td><td>0.414</td><td>7068540</td><td>397827251000</td><td>4.026</td><td>&quot;153.52-180.43&quot;</td><td>5.54</td><td>&quot;The Procter &amp; Gamble Company&quot;</td><td>&quot;USD&quot;</td><td>&quot;0000080424&quot;</td><td>&quot;US7427181091&quot;</td><td>&quot;742718109&quot;</td><td>&quot;New York Stock Exchange&quot;</td><td>&quot;NYSE&quot;</td><td>&quot;Household &amp; Personal Products&quot;</td><td>&quot;https://www.pginvestor.com&quot;</td><td>&quot;The Procter &amp; Gamble Company p…</td><td>&quot;Mr. Jon R. Moeller&quot;</td><td>&quot;Consumer Defensive&quot;</td><td>&quot;US&quot;</td><td>&quot;108000&quot;</td><td>&quot;513 983 1100&quot;</td><td>&quot;One Procter &amp; Gamble Plaza&quot;</td><td>&quot;Cincinnati&quot;</td><td>&quot;OH&quot;</td><td>&quot;45202&quot;</td><td>-48.86974</td><td>218.529741</td><td>&quot;https://images.financialmodeli…</td><td>&quot;1978-01-13&quot;</td><td>false</td><td>false</td><td>true</td><td>false</td><td>false</td></tr></tbody></table></div>"
      ],
      "text/plain": [
       "shape: (5, 36)\n",
       "┌────────┬────────┬───────┬─────────┬───┬────────┬─────────────────────┬────────┬─────────┐\n",
       "│ symbol ┆ price  ┆ beta  ┆ vol_avg ┆ … ┆ is_etf ┆ is_actively_trading ┆ is_adr ┆ is_fund │\n",
       "│ ---    ┆ ---    ┆ ---   ┆ ---     ┆   ┆ ---    ┆ ---                 ┆ ---    ┆ ---     │\n",
       "│ str    ┆ f64    ┆ f64   ┆ i64     ┆   ┆ bool   ┆ bool                ┆ bool   ┆ bool    │\n",
       "╞════════╪════════╪═══════╪═════════╪═══╪════════╪═════════════════════╪════════╪═════════╡\n",
       "│ TGT    ┆ 142.5  ┆ 1.242 ┆ 6800786 ┆ … ┆ false  ┆ true                ┆ false  ┆ false   │\n",
       "│ SBUX   ┆ 100.02 ┆ 0.962 ┆ 7920991 ┆ … ┆ false  ┆ true                ┆ false  ┆ false   │\n",
       "│ HD     ┆ 424.87 ┆ 1.011 ┆ 3339346 ┆ … ┆ false  ┆ true                ┆ false  ┆ false   │\n",
       "│ LOW    ┆ 268.42 ┆ 1.098 ┆ 2401258 ┆ … ┆ false  ┆ true                ┆ false  ┆ false   │\n",
       "│ PG     ┆ 169.66 ┆ 0.414 ┆ 7068540 ┆ … ┆ false  ┆ true                ┆ false  ┆ false   │\n",
       "└────────┴────────┴───────┴─────────┴───┴────────┴─────────────────────┴────────┴─────────┘"
      ]
     },
     "execution_count": 7,
     "metadata": {},
     "output_type": "execute_result"
    }
   ],
   "source": [
    "pl.scan_parquet(f'{output_dir}/company_profile.parquet').head().collect()"
   ]
  }
 ],
 "metadata": {
  "kernelspec": {
   "display_name": ".venv",
   "language": "python",
   "name": "python3"
  },
  "language_info": {
   "codemirror_mode": {
    "name": "ipython",
    "version": 3
   },
   "file_extension": ".py",
   "mimetype": "text/x-python",
   "name": "python",
   "nbconvert_exporter": "python",
   "pygments_lexer": "ipython3",
   "version": "3.12.8"
  }
 },
 "nbformat": 4,
 "nbformat_minor": 2
}
