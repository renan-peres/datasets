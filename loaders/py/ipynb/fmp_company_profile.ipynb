{
 "cells": [
  {
   "cell_type": "markdown",
   "metadata": {},
   "source": [
    "## Step 1: Import Libraries"
   ]
  },
  {
   "cell_type": "code",
   "execution_count": 1,
   "metadata": {
    "execution": {
     "iopub.execute_input": "2025-01-16T10:04:56.293127Z",
     "iopub.status.busy": "2025-01-16T10:04:56.292950Z",
     "iopub.status.idle": "2025-01-16T10:04:56.356385Z",
     "shell.execute_reply": "2025-01-16T10:04:56.355834Z"
    }
   },
   "outputs": [],
   "source": [
    "%run ../make_clean_names.py"
   ]
  },
  {
   "cell_type": "code",
   "execution_count": 2,
   "metadata": {
    "execution": {
     "iopub.execute_input": "2025-01-16T10:04:56.358325Z",
     "iopub.status.busy": "2025-01-16T10:04:56.358119Z",
     "iopub.status.idle": "2025-01-16T10:04:56.423575Z",
     "shell.execute_reply": "2025-01-16T10:04:56.422984Z"
    }
   },
   "outputs": [],
   "source": [
    "import concurrent.futures\n",
    "from concurrent.futures import ThreadPoolExecutor\n",
    "import requests\n",
    "from requests.adapters import HTTPAdapter\n",
    "from urllib3.util.retry import Retry\n",
    "import logging\n",
    "\n",
    "import polars as pl\n",
    "from datetime import datetime, timedelta\n",
    "from dotenv import load_dotenv\n",
    "import os\n",
    "\n",
    "# Load environment variables\n",
    "load_dotenv()\n",
    "\n",
    "logging.basicConfig(level=logging.INFO)\n",
    "logger = logging.getLogger(__name__)\n",
    "\n",
    "def create_session():\n",
    "    session = requests.Session()\n",
    "    retries = Retry(\n",
    "        total=3,\n",
    "        backoff_factor=1,\n",
    "        status_forcelist=[429, 500, 502, 503, 504]\n",
    "    )\n",
    "    session.mount('https://', HTTPAdapter(max_retries=retries, pool_maxsize=10))\n",
    "    return session\n",
    "\n",
    "# Get API key from environment variables\n",
    "FMP_API_KEY = os.getenv('FMP_API_KEY')\n",
    "if not FMP_API_KEY:\n",
    "    raise ValueError(\"FMP_API_KEY not found in environment variables\")"
   ]
  },
  {
   "cell_type": "markdown",
   "metadata": {},
   "source": [
    "## Step 2: Import Symbols"
   ]
  },
  {
   "cell_type": "code",
   "execution_count": 3,
   "metadata": {
    "execution": {
     "iopub.execute_input": "2025-01-16T10:04:56.425470Z",
     "iopub.status.busy": "2025-01-16T10:04:56.425291Z",
     "iopub.status.idle": "2025-01-16T10:04:56.430182Z",
     "shell.execute_reply": "2025-01-16T10:04:56.429585Z"
    }
   },
   "outputs": [
    {
     "name": "stdout",
     "output_type": "stream",
     "text": [
      "Loaded 60 symbols from ../tickers.txt\n",
      "Symbols: ['AAPL', 'MSFT', 'GOOGL', 'GOOG', 'META', 'NVDA', 'AVGO', 'ORCL', 'CRM', 'ACN', 'ADBE', 'CSCO', 'INTC', 'NFLX', 'DIS', 'CMCSA', 'VZ', 'T', 'AMZN', 'TSLA', 'HD', 'MCD', 'NKE', 'SBUX', 'TGT', 'LOW', 'WMT', 'PG', 'KO', 'PEP', 'COST', 'BRK-B', 'JPM', 'BAC', 'WFC', 'GS', 'MS', 'BLK', 'UNH', 'JNJ', 'PFE', 'ABBV', 'MRK', 'LLY', 'CAT', 'BA', 'HON', 'UPS', 'RTX', 'GE', 'XOM', 'CVX', 'COP', 'SLB', 'LIN', 'APD', 'ECL', 'PLD', 'AMT', 'CCI']\n"
     ]
    }
   ],
   "source": [
    "def load_symbols(file_path: str) -> List[str]:\n",
    "    \"\"\"Load symbols from a text file\"\"\"\n",
    "    try:\n",
    "        with open(file_path, 'r') as f:\n",
    "            symbols = [line.strip() for line in f if line.strip()]\n",
    "        print(f\"Loaded {len(symbols)} symbols from {file_path}\")\n",
    "        return symbols\n",
    "    except Exception as e:\n",
    "        print(f\"Error loading symbols: {str(e)}\")\n",
    "        return []\n",
    "\n",
    "symbols_file = '../tickers.txt'\n",
    "symbols = load_symbols(symbols_file)\n",
    "\n",
    "if symbols:\n",
    "    print(\"Symbols:\", symbols)\n",
    "else:\n",
    "    print(\"No symbols loaded.\")"
   ]
  },
  {
   "cell_type": "markdown",
   "metadata": {},
   "source": [
    "## Step 3: Extract Data from FMP into Polars"
   ]
  },
  {
   "cell_type": "code",
   "execution_count": 4,
   "metadata": {
    "execution": {
     "iopub.execute_input": "2025-01-16T10:04:56.466804Z",
     "iopub.status.busy": "2025-01-16T10:04:56.466580Z",
     "iopub.status.idle": "2025-01-16T10:04:57.906486Z",
     "shell.execute_reply": "2025-01-16T10:04:57.905936Z"
    }
   },
   "outputs": [],
   "source": [
    "def fetch_company_profile(symbol: str, api_key: str, session: requests.Session) -> Dict:\n",
    "    \"\"\"Fetch company profile data from FMP API\"\"\"\n",
    "    url = f\"https://financialmodelingprep.com/api/v3/profile/{symbol}\"\n",
    "    params = {\"apikey\": api_key}\n",
    "    \n",
    "    try:\n",
    "        response = session.get(url, params=params, timeout=10)\n",
    "        response.raise_for_status()\n",
    "        return response.json()\n",
    "    except Exception as e:\n",
    "        logger.error(f\"Error fetching {symbol}: {str(e)}\")\n",
    "        return None\n",
    "\n",
    "def fetch_all_profiles(symbols: List[str], api_key: str) -> List[Dict]:\n",
    "    session = create_session()\n",
    "    \n",
    "    with ThreadPoolExecutor(max_workers=10) as executor:\n",
    "        futures = [\n",
    "            executor.submit(fetch_company_profile, symbol, api_key, session)\n",
    "            for symbol in symbols\n",
    "        ]\n",
    "        results = [\n",
    "            f.result() for f in concurrent.futures.as_completed(futures)\n",
    "        ]\n",
    "    \n",
    "    return [r[0] for r in results if r and isinstance(r, list)]\n",
    "\n",
    "# Execute fetching\n",
    "company_profiles = fetch_all_profiles(symbols, FMP_API_KEY)\n",
    "\n",
    "# Convert to Polars DataFrame more efficiently\n",
    "if company_profiles:\n",
    "    df = pl.DataFrame(company_profiles)"
   ]
  },
  {
   "cell_type": "markdown",
   "metadata": {},
   "source": [
    "## Step 4: Clean Column Names"
   ]
  },
  {
   "cell_type": "code",
   "execution_count": 5,
   "metadata": {
    "execution": {
     "iopub.execute_input": "2025-01-16T10:04:57.908696Z",
     "iopub.status.busy": "2025-01-16T10:04:57.908351Z",
     "iopub.status.idle": "2025-01-16T10:04:57.913229Z",
     "shell.execute_reply": "2025-01-16T10:04:57.912781Z"
    }
   },
   "outputs": [],
   "source": [
    "df = make_clean_names(df)"
   ]
  },
  {
   "cell_type": "markdown",
   "metadata": {},
   "source": [
    "## Step 5: Write Polars to Parquet"
   ]
  },
  {
   "cell_type": "code",
   "execution_count": 6,
   "metadata": {
    "execution": {
     "iopub.execute_input": "2025-01-16T10:04:57.914924Z",
     "iopub.status.busy": "2025-01-16T10:04:57.914752Z",
     "iopub.status.idle": "2025-01-16T10:04:57.921646Z",
     "shell.execute_reply": "2025-01-16T10:04:57.921164Z"
    }
   },
   "outputs": [],
   "source": [
    "output_dir = \"../../../data/finance\"\n",
    "\n",
    "# Write DataFrame to Parquet\n",
    "df.write_parquet(f'{output_dir}/company_profile.parquet')"
   ]
  },
  {
   "cell_type": "markdown",
   "metadata": {},
   "source": [
    "## Step 6: Read Parquet (Validate)"
   ]
  },
  {
   "cell_type": "code",
   "execution_count": 7,
   "metadata": {
    "execution": {
     "iopub.execute_input": "2025-01-16T10:04:57.923722Z",
     "iopub.status.busy": "2025-01-16T10:04:57.923387Z",
     "iopub.status.idle": "2025-01-16T10:04:57.931731Z",
     "shell.execute_reply": "2025-01-16T10:04:57.931282Z"
    }
   },
   "outputs": [
    {
     "data": {
      "text/html": [
       "<div><style>\n",
       ".dataframe > thead > tr,\n",
       ".dataframe > tbody > tr {\n",
       "  text-align: right;\n",
       "  white-space: pre-wrap;\n",
       "}\n",
       "</style>\n",
       "<small>shape: (5, 36)</small><table border=\"1\" class=\"dataframe\"><thead><tr><th>symbol</th><th>price</th><th>beta</th><th>vol_avg</th><th>mkt_cap</th><th>last_div</th><th>range</th><th>changes</th><th>company_name</th><th>currency</th><th>cik</th><th>isin</th><th>cusip</th><th>exchange</th><th>exchange_short_name</th><th>industry</th><th>website</th><th>description</th><th>ceo</th><th>sector</th><th>country</th><th>full_time_employees</th><th>phone</th><th>address</th><th>city</th><th>state</th><th>zip</th><th>dcf_diff</th><th>dcf</th><th>image</th><th>ipo_date</th><th>default_image</th><th>is_etf</th><th>is_actively_trading</th><th>is_adr</th><th>is_fund</th></tr><tr><td>str</td><td>f64</td><td>f64</td><td>i64</td><td>i64</td><td>f64</td><td>str</td><td>f64</td><td>str</td><td>str</td><td>str</td><td>str</td><td>str</td><td>str</td><td>str</td><td>str</td><td>str</td><td>str</td><td>str</td><td>str</td><td>str</td><td>str</td><td>str</td><td>str</td><td>str</td><td>str</td><td>str</td><td>f64</td><td>f64</td><td>str</td><td>str</td><td>bool</td><td>bool</td><td>bool</td><td>bool</td><td>bool</td></tr></thead><tbody><tr><td>&quot;MSFT&quot;</td><td>426.31</td><td>0.904</td><td>20947704</td><td>3169563692800</td><td>3.08</td><td>&quot;384.81-468.35&quot;</td><td>10.64</td><td>&quot;Microsoft Corporation&quot;</td><td>&quot;USD&quot;</td><td>&quot;0000789019&quot;</td><td>&quot;US5949181045&quot;</td><td>&quot;594918104&quot;</td><td>&quot;NASDAQ Global Select&quot;</td><td>&quot;NASDAQ&quot;</td><td>&quot;Software - Infrastructure&quot;</td><td>&quot;https://www.microsoft.com&quot;</td><td>&quot;Microsoft Corporation develops…</td><td>&quot;Mr. Satya&nbsp;&nbsp;Nadella&quot;</td><td>&quot;Technology&quot;</td><td>&quot;US&quot;</td><td>&quot;228000&quot;</td><td>&quot;425 882 8080&quot;</td><td>&quot;One Microsoft Way&quot;</td><td>&quot;Redmond&quot;</td><td>&quot;WA&quot;</td><td>&quot;98052-6399&quot;</td><td>72.08026</td><td>354.229744</td><td>&quot;https://images.financialmodeli…</td><td>&quot;1986-03-13&quot;</td><td>false</td><td>false</td><td>true</td><td>false</td><td>false</td></tr><tr><td>&quot;META&quot;</td><td>617.12</td><td>1.215</td><td>12463793</td><td>1557611375547</td><td>2.0</td><td>&quot;358.61-638.4&quot;</td><td>22.87</td><td>&quot;Meta Platforms, Inc.&quot;</td><td>&quot;USD&quot;</td><td>&quot;0001326801&quot;</td><td>&quot;US30303M1027&quot;</td><td>&quot;30303M102&quot;</td><td>&quot;NASDAQ Global Select&quot;</td><td>&quot;NASDAQ&quot;</td><td>&quot;Internet Content &amp; Information&quot;</td><td>&quot;https://investor.fb.com&quot;</td><td>&quot;Meta Platforms, Inc. engages i…</td><td>&quot;Mr. Mark Elliot Zuckerberg&quot;</td><td>&quot;Communication Services&quot;</td><td>&quot;US&quot;</td><td>&quot;72404&quot;</td><td>&quot;650 543 4800&quot;</td><td>&quot;1601 Willow Road&quot;</td><td>&quot;Menlo Park&quot;</td><td>&quot;CA&quot;</td><td>&quot;94025&quot;</td><td>171.15948</td><td>445.960519</td><td>&quot;https://images.financialmodeli…</td><td>&quot;2012-05-18&quot;</td><td>false</td><td>false</td><td>true</td><td>false</td><td>false</td></tr><tr><td>&quot;AVGO&quot;</td><td>228.0</td><td>1.187</td><td>28518349</td><td>1068718080000</td><td>2.17</td><td>&quot;109.021-251.88&quot;</td><td>3.3</td><td>&quot;Broadcom Inc.&quot;</td><td>&quot;USD&quot;</td><td>&quot;0001730168&quot;</td><td>&quot;US11135F1012&quot;</td><td>&quot;11135F101&quot;</td><td>&quot;NASDAQ Global Select&quot;</td><td>&quot;NASDAQ&quot;</td><td>&quot;Semiconductors&quot;</td><td>&quot;https://www.broadcom.com&quot;</td><td>&quot;Broadcom Inc. designs, develop…</td><td>&quot;Mr. Hock E. Tan&quot;</td><td>&quot;Technology&quot;</td><td>&quot;US&quot;</td><td>&quot;20000&quot;</td><td>&quot;408 433 8000&quot;</td><td>&quot;1320 Ridder Park Drive&quot;</td><td>&quot;San Jose&quot;</td><td>&quot;CA&quot;</td><td>&quot;95131-2313&quot;</td><td>51.50335</td><td>176.496648</td><td>&quot;https://images.financialmodeli…</td><td>&quot;2009-08-06&quot;</td><td>false</td><td>false</td><td>true</td><td>false</td><td>false</td></tr><tr><td>&quot;GOOGL&quot;</td><td>195.55</td><td>1.034</td><td>27946608</td><td>2401658740231</td><td>0.6</td><td>&quot;130.67-201.42&quot;</td><td>5.89</td><td>&quot;Alphabet Inc.&quot;</td><td>&quot;USD&quot;</td><td>&quot;0001652044&quot;</td><td>&quot;US02079K3059&quot;</td><td>&quot;02079K305&quot;</td><td>&quot;NASDAQ Global Select&quot;</td><td>&quot;NASDAQ&quot;</td><td>&quot;Internet Content &amp; Information&quot;</td><td>&quot;https://www.abc.xyz&quot;</td><td>&quot;Alphabet Inc. provides various…</td><td>&quot;Mr. Sundar&nbsp;&nbsp;Pichai&quot;</td><td>&quot;Communication Services&quot;</td><td>&quot;US&quot;</td><td>&quot;181269&quot;</td><td>&quot;650 253 0000&quot;</td><td>&quot;1600 Amphitheatre Parkway&quot;</td><td>&quot;Mountain View&quot;</td><td>&quot;CA&quot;</td><td>&quot;94043&quot;</td><td>3.17803</td><td>192.371972</td><td>&quot;https://images.financialmodeli…</td><td>&quot;2004-08-19&quot;</td><td>false</td><td>false</td><td>true</td><td>false</td><td>false</td></tr><tr><td>&quot;NVDA&quot;</td><td>136.24</td><td>1.657</td><td>215502601</td><td>3336517600000</td><td>0.04</td><td>&quot;54.74-153.13&quot;</td><td>4.48</td><td>&quot;NVIDIA Corporation&quot;</td><td>&quot;USD&quot;</td><td>&quot;0001045810&quot;</td><td>&quot;US67066G1040&quot;</td><td>&quot;67066G104&quot;</td><td>&quot;NASDAQ Global Select&quot;</td><td>&quot;NASDAQ&quot;</td><td>&quot;Semiconductors&quot;</td><td>&quot;https://www.nvidia.com&quot;</td><td>&quot;NVIDIA Corporation provides gr…</td><td>&quot;Mr. Jen-Hsun&nbsp;&nbsp;Huang&quot;</td><td>&quot;Technology&quot;</td><td>&quot;US&quot;</td><td>&quot;29600&quot;</td><td>&quot;408 486 2000&quot;</td><td>&quot;2788 San Tomas Expressway&quot;</td><td>&quot;Santa Clara&quot;</td><td>&quot;CA&quot;</td><td>&quot;95051&quot;</td><td>79.54031</td><td>56.699694</td><td>&quot;https://images.financialmodeli…</td><td>&quot;1999-01-22&quot;</td><td>false</td><td>false</td><td>true</td><td>false</td><td>false</td></tr></tbody></table></div>"
      ],
      "text/plain": [
       "shape: (5, 36)\n",
       "┌────────┬────────┬───────┬───────────┬───┬────────┬─────────────────────┬────────┬─────────┐\n",
       "│ symbol ┆ price  ┆ beta  ┆ vol_avg   ┆ … ┆ is_etf ┆ is_actively_trading ┆ is_adr ┆ is_fund │\n",
       "│ ---    ┆ ---    ┆ ---   ┆ ---       ┆   ┆ ---    ┆ ---                 ┆ ---    ┆ ---     │\n",
       "│ str    ┆ f64    ┆ f64   ┆ i64       ┆   ┆ bool   ┆ bool                ┆ bool   ┆ bool    │\n",
       "╞════════╪════════╪═══════╪═══════════╪═══╪════════╪═════════════════════╪════════╪═════════╡\n",
       "│ MSFT   ┆ 426.31 ┆ 0.904 ┆ 20947704  ┆ … ┆ false  ┆ true                ┆ false  ┆ false   │\n",
       "│ META   ┆ 617.12 ┆ 1.215 ┆ 12463793  ┆ … ┆ false  ┆ true                ┆ false  ┆ false   │\n",
       "│ AVGO   ┆ 228.0  ┆ 1.187 ┆ 28518349  ┆ … ┆ false  ┆ true                ┆ false  ┆ false   │\n",
       "│ GOOGL  ┆ 195.55 ┆ 1.034 ┆ 27946608  ┆ … ┆ false  ┆ true                ┆ false  ┆ false   │\n",
       "│ NVDA   ┆ 136.24 ┆ 1.657 ┆ 215502601 ┆ … ┆ false  ┆ true                ┆ false  ┆ false   │\n",
       "└────────┴────────┴───────┴───────────┴───┴────────┴─────────────────────┴────────┴─────────┘"
      ]
     },
     "execution_count": 7,
     "metadata": {},
     "output_type": "execute_result"
    }
   ],
   "source": [
    "pl.scan_parquet(f'{output_dir}/company_profile.parquet').head().collect()"
   ]
  }
 ],
 "metadata": {
  "kernelspec": {
   "display_name": ".venv",
   "language": "python",
   "name": "python3"
  },
  "language_info": {
   "codemirror_mode": {
    "name": "ipython",
    "version": 3
   },
   "file_extension": ".py",
   "mimetype": "text/x-python",
   "name": "python",
   "nbconvert_exporter": "python",
   "pygments_lexer": "ipython3",
   "version": "3.12.8"
  }
 },
 "nbformat": 4,
 "nbformat_minor": 2
}
