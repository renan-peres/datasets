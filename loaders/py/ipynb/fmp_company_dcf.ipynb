{
 "cells": [
  {
   "cell_type": "markdown",
   "metadata": {},
   "source": [
    "## Step 1: Import Libraries"
   ]
  },
  {
   "cell_type": "code",
   "execution_count": 1,
   "metadata": {
    "execution": {
     "iopub.execute_input": "2025-01-16T10:04:49.266937Z",
     "iopub.status.busy": "2025-01-16T10:04:49.266443Z",
     "iopub.status.idle": "2025-01-16T10:04:49.329577Z",
     "shell.execute_reply": "2025-01-16T10:04:49.329030Z"
    }
   },
   "outputs": [],
   "source": [
    "%run ../make_clean_names.py"
   ]
  },
  {
   "cell_type": "code",
   "execution_count": 2,
   "metadata": {
    "execution": {
     "iopub.execute_input": "2025-01-16T10:04:49.331776Z",
     "iopub.status.busy": "2025-01-16T10:04:49.331436Z",
     "iopub.status.idle": "2025-01-16T10:04:49.396590Z",
     "shell.execute_reply": "2025-01-16T10:04:49.396080Z"
    }
   },
   "outputs": [],
   "source": [
    "import concurrent.futures\n",
    "from concurrent.futures import ThreadPoolExecutor\n",
    "import requests\n",
    "from requests.adapters import HTTPAdapter\n",
    "from urllib3.util.retry import Retry\n",
    "import logging\n",
    "\n",
    "import polars as pl\n",
    "from datetime import datetime, timedelta\n",
    "from dotenv import load_dotenv\n",
    "import os\n",
    "\n",
    "# Load environment variables\n",
    "load_dotenv()\n",
    "\n",
    "logging.basicConfig(level=logging.INFO)\n",
    "logger = logging.getLogger(__name__)\n",
    "\n",
    "def create_session():\n",
    "    session = requests.Session()\n",
    "    retries = Retry(\n",
    "        total=3,\n",
    "        backoff_factor=1,\n",
    "        status_forcelist=[429, 500, 502, 503, 504]\n",
    "    )\n",
    "    session.mount('https://', HTTPAdapter(max_retries=retries, pool_maxsize=10))\n",
    "    return session\n",
    "\n",
    "# Get API key from environment variables\n",
    "FMP_API_KEY = os.getenv('FMP_API_KEY')\n",
    "if not FMP_API_KEY:\n",
    "    raise ValueError(\"FMP_API_KEY not found in environment variables\")"
   ]
  },
  {
   "cell_type": "markdown",
   "metadata": {},
   "source": [
    "## Step 2: Import Symbols"
   ]
  },
  {
   "cell_type": "code",
   "execution_count": 3,
   "metadata": {
    "execution": {
     "iopub.execute_input": "2025-01-16T10:04:49.398545Z",
     "iopub.status.busy": "2025-01-16T10:04:49.398306Z",
     "iopub.status.idle": "2025-01-16T10:04:49.402464Z",
     "shell.execute_reply": "2025-01-16T10:04:49.401958Z"
    }
   },
   "outputs": [
    {
     "name": "stdout",
     "output_type": "stream",
     "text": [
      "Loaded 60 symbols from ../tickers.txt\n",
      "Symbols: ['AAPL', 'MSFT', 'GOOGL', 'GOOG', 'META', 'NVDA', 'AVGO', 'ORCL', 'CRM', 'ACN', 'ADBE', 'CSCO', 'INTC', 'NFLX', 'DIS', 'CMCSA', 'VZ', 'T', 'AMZN', 'TSLA', 'HD', 'MCD', 'NKE', 'SBUX', 'TGT', 'LOW', 'WMT', 'PG', 'KO', 'PEP', 'COST', 'BRK-B', 'JPM', 'BAC', 'WFC', 'GS', 'MS', 'BLK', 'UNH', 'JNJ', 'PFE', 'ABBV', 'MRK', 'LLY', 'CAT', 'BA', 'HON', 'UPS', 'RTX', 'GE', 'XOM', 'CVX', 'COP', 'SLB', 'LIN', 'APD', 'ECL', 'PLD', 'AMT', 'CCI']\n"
     ]
    }
   ],
   "source": [
    "def load_symbols(file_path: str) -> List[str]:\n",
    "    \"\"\"Load symbols from a text file\"\"\"\n",
    "    try:\n",
    "        with open(file_path, 'r') as f:\n",
    "            symbols = [line.strip() for line in f if line.strip()]\n",
    "        print(f\"Loaded {len(symbols)} symbols from {file_path}\")\n",
    "        return symbols\n",
    "    except Exception as e:\n",
    "        print(f\"Error loading symbols: {str(e)}\")\n",
    "        return []\n",
    "\n",
    "symbols_file = '../tickers.txt'\n",
    "symbols = load_symbols(symbols_file)\n",
    "\n",
    "if symbols:\n",
    "    print(\"Symbols:\", symbols)\n",
    "else:\n",
    "    print(\"No symbols loaded.\")"
   ]
  },
  {
   "cell_type": "markdown",
   "metadata": {},
   "source": [
    "## Step 3: Extract Data from FMP into Polars"
   ]
  },
  {
   "cell_type": "code",
   "execution_count": 4,
   "metadata": {
    "execution": {
     "iopub.execute_input": "2025-01-16T10:04:49.437054Z",
     "iopub.status.busy": "2025-01-16T10:04:49.436690Z",
     "iopub.status.idle": "2025-01-16T10:04:50.956603Z",
     "shell.execute_reply": "2025-01-16T10:04:50.955941Z"
    }
   },
   "outputs": [],
   "source": [
    "def fetch_dcf(symbol: str, api_key: str, session: requests.Session) -> Dict:\n",
    "    \"\"\"Fetch company profile data from FMP API\"\"\"\n",
    "    url = f\"https://financialmodelingprep.com/api/v3/discounted-cash-flow/{symbol}\"\n",
    "    params = {\"apikey\": api_key}\n",
    "    \n",
    "    try:\n",
    "        response = session.get(url, params=params, timeout=10)\n",
    "        response.raise_for_status()\n",
    "        return response.json()\n",
    "    except Exception as e:\n",
    "        logger.error(f\"Error fetching {symbol}: {str(e)}\")\n",
    "        return None\n",
    "\n",
    "def fetch_all_dcf(symbols: List[str], api_key: str) -> List[Dict]:\n",
    "    session = create_session()\n",
    "    \n",
    "    with ThreadPoolExecutor(max_workers=10) as executor:\n",
    "        futures = [\n",
    "            executor.submit(fetch_dcf, symbol, api_key, session)\n",
    "            for symbol in symbols\n",
    "        ]\n",
    "        results = [\n",
    "            f.result() for f in concurrent.futures.as_completed(futures)\n",
    "        ]\n",
    "    \n",
    "    return [r[0] for r in results if r and isinstance(r, list)]\n",
    "\n",
    "# Execute fetching\n",
    "company_profiles = fetch_all_dcf(symbols, FMP_API_KEY)\n",
    "\n",
    "# Convert to Polars DataFrame more efficiently\n",
    "if company_profiles:\n",
    "    df_dcf = pl.DataFrame(company_profiles)"
   ]
  },
  {
   "cell_type": "code",
   "execution_count": 5,
   "metadata": {
    "execution": {
     "iopub.execute_input": "2025-01-16T10:04:50.958848Z",
     "iopub.status.busy": "2025-01-16T10:04:50.958451Z",
     "iopub.status.idle": "2025-01-16T10:04:53.756827Z",
     "shell.execute_reply": "2025-01-16T10:04:53.756325Z"
    }
   },
   "outputs": [],
   "source": [
    "def fetch_dcf_advanced(symbol: str, api_key: str, session: requests.Session) -> Dict:\n",
    "    \"\"\"Fetch company profile data from FMP API\"\"\"\n",
    "    url = f\"https://financialmodelingprep.com/api/v4/advanced_discounted_cash_flow\"\n",
    "    params = {\n",
    "        \"symbol\": symbol,\n",
    "        \"apikey\": api_key}\n",
    "    \n",
    "    try:\n",
    "        response = session.get(url, params=params, timeout=10)\n",
    "        response.raise_for_status()\n",
    "        return response.json()\n",
    "    except Exception as e:\n",
    "        logger.error(f\"Error fetching {symbol}: {str(e)}\")\n",
    "        return None\n",
    "\n",
    "def fetch_all_dcf_advanced(symbols: List[str], api_key: str) -> List[Dict]:\n",
    "    session = create_session()\n",
    "    \n",
    "    with ThreadPoolExecutor(max_workers=10) as executor:\n",
    "        futures = [\n",
    "            executor.submit(fetch_dcf_advanced, symbol, api_key, session)\n",
    "            for symbol in symbols\n",
    "        ]\n",
    "        results = [\n",
    "            f.result() for f in concurrent.futures.as_completed(futures)\n",
    "        ]\n",
    "    \n",
    "    return [r[0] for r in results if r and isinstance(r, list)]\n",
    "\n",
    "# Execute fetching\n",
    "company_profiles = fetch_all_dcf_advanced(symbols, FMP_API_KEY)\n",
    "\n",
    "# Convert to Polars DataFrame more efficiently\n",
    "if company_profiles:\n",
    "    df_dcf_advanced = pl.DataFrame(company_profiles)"
   ]
  },
  {
   "cell_type": "markdown",
   "metadata": {},
   "source": [
    "## Step 4: Clean Column Names"
   ]
  },
  {
   "cell_type": "code",
   "execution_count": 6,
   "metadata": {
    "execution": {
     "iopub.execute_input": "2025-01-16T10:04:53.759152Z",
     "iopub.status.busy": "2025-01-16T10:04:53.758738Z",
     "iopub.status.idle": "2025-01-16T10:04:53.764147Z",
     "shell.execute_reply": "2025-01-16T10:04:53.763617Z"
    }
   },
   "outputs": [],
   "source": [
    "df = df_dcf.join(df_dcf_advanced, on=\"symbol\", how=\"left\")"
   ]
  },
  {
   "cell_type": "code",
   "execution_count": 7,
   "metadata": {
    "execution": {
     "iopub.execute_input": "2025-01-16T10:04:53.765932Z",
     "iopub.status.busy": "2025-01-16T10:04:53.765620Z",
     "iopub.status.idle": "2025-01-16T10:04:53.769882Z",
     "shell.execute_reply": "2025-01-16T10:04:53.769346Z"
    }
   },
   "outputs": [],
   "source": [
    "df = make_clean_names(df)"
   ]
  },
  {
   "cell_type": "markdown",
   "metadata": {},
   "source": [
    "## Step 5: Write Polars to Parquet"
   ]
  },
  {
   "cell_type": "code",
   "execution_count": 8,
   "metadata": {
    "execution": {
     "iopub.execute_input": "2025-01-16T10:04:53.771825Z",
     "iopub.status.busy": "2025-01-16T10:04:53.771505Z",
     "iopub.status.idle": "2025-01-16T10:04:53.776748Z",
     "shell.execute_reply": "2025-01-16T10:04:53.776184Z"
    }
   },
   "outputs": [],
   "source": [
    "output_dir = \"../../../data/finance\"\n",
    "\n",
    "# Write DataFrame to Parquet\n",
    "df.write_parquet(f'{output_dir}/company_dfc_advanced.parquet')"
   ]
  },
  {
   "cell_type": "markdown",
   "metadata": {},
   "source": [
    "## Step 6: Read Parquet (Validate)"
   ]
  },
  {
   "cell_type": "code",
   "execution_count": 9,
   "metadata": {
    "execution": {
     "iopub.execute_input": "2025-01-16T10:04:53.778423Z",
     "iopub.status.busy": "2025-01-16T10:04:53.778249Z",
     "iopub.status.idle": "2025-01-16T10:04:53.786714Z",
     "shell.execute_reply": "2025-01-16T10:04:53.786240Z"
    }
   },
   "outputs": [
    {
     "data": {
      "text/html": [
       "<div><style>\n",
       ".dataframe > thead > tr,\n",
       ".dataframe > tbody > tr {\n",
       "  text-align: right;\n",
       "  white-space: pre-wrap;\n",
       "}\n",
       "</style>\n",
       "<small>shape: (5, 50)</small><table border=\"1\" class=\"dataframe\"><thead><tr><th>symbol</th><th>date</th><th>dcf</th><th>stock_price</th><th>year</th><th>revenue</th><th>revenue_percentage</th><th>ebitda</th><th>ebitda_percentage</th><th>ebit</th><th>ebit_percentage</th><th>depreciation</th><th>depreciation_percentage</th><th>total_cash</th><th>total_cash_percentage</th><th>receivables</th><th>receivables_percentage</th><th>inventories</th><th>inventories_percentage</th><th>payable</th><th>payable_percentage</th><th>capital_expenditure</th><th>capital_expenditure_percentage</th><th>price</th><th>beta</th><th>diluted_shares_outstanding</th><th>costof_debt</th><th>tax_rate</th><th>after_tax_cost_of_debt</th><th>risk_free_rate</th><th>market_risk_premium</th><th>cost_of_equity</th><th>total_debt</th><th>total_equity</th><th>total_capital</th><th>debt_weighting</th><th>equity_weighting</th><th>wacc</th><th>tax_rate_cash</th><th>ebiat</th><th>ufcf</th><th>sum_pv_ufcf</th><th>long_term_growth_rate</th><th>terminal_value</th><th>present_terminal_value</th><th>enterprise_value</th><th>net_debt</th><th>equity_value</th><th>equity_value_per_share</th><th>free_cash_flowt1</th></tr><tr><td>str</td><td>str</td><td>f64</td><td>f64</td><td>str</td><td>i64</td><td>f64</td><td>i64</td><td>f64</td><td>i64</td><td>f64</td><td>i64</td><td>f64</td><td>i64</td><td>f64</td><td>i64</td><td>f64</td><td>f64</td><td>f64</td><td>i64</td><td>f64</td><td>i64</td><td>f64</td><td>f64</td><td>f64</td><td>i64</td><td>f64</td><td>f64</td><td>f64</td><td>f64</td><td>f64</td><td>f64</td><td>i64</td><td>i64</td><td>i64</td><td>f64</td><td>f64</td><td>f64</td><td>i64</td><td>i64</td><td>i64</td><td>i64</td><td>f64</td><td>i64</td><td>i64</td><td>i64</td><td>i64</td><td>i64</td><td>f64</td><td>i64</td></tr></thead><tbody><tr><td>&quot;GOOG&quot;</td><td>&quot;2025-01-16&quot;</td><td>192.371972</td><td>195.55</td><td>&quot;2028&quot;</td><td>706109768075</td><td>18.1</td><td>240199708049</td><td>34.02</td><td>200287429124</td><td>28.36</td><td>39912278924</td><td>5.65</td><td>394484923413</td><td>55.87</td><td>111949781484</td><td>15.85</td><td>3.4094e9</td><td>0.48284</td><td>18488261260</td><td>2.62</td><td>-81828362399</td><td>-11.59</td><td>195.55</td><td>1.034</td><td>12722000000</td><td>4.45</td><td>13.91</td><td>3.83</td><td>4.45</td><td>4.72</td><td>9.33</td><td>28504000000</td><td>2487787100000</td><td>2516291100000</td><td>1.13</td><td>98.87</td><td>9.27</td><td>15122195</td><td>169999573836</td><td>113239806868</td><td>311515042461</td><td>4.0</td><td>2235743472701</td><td>1435375421653</td><td>1746890464114</td><td>4456000000</td><td>1742434464114</td><td>136.96</td><td>117769399143</td></tr><tr><td>&quot;GOOGL&quot;</td><td>&quot;2025-01-16&quot;</td><td>192.371972</td><td>195.55</td><td>&quot;2028&quot;</td><td>706109768075</td><td>18.1</td><td>240199708049</td><td>34.02</td><td>200287429124</td><td>28.36</td><td>39912278924</td><td>5.65</td><td>394484923413</td><td>55.87</td><td>111949781484</td><td>15.85</td><td>3.4094e9</td><td>0.48284</td><td>18488261260</td><td>2.62</td><td>-81828362399</td><td>-11.59</td><td>195.55</td><td>1.034</td><td>12722000000</td><td>4.45</td><td>13.91</td><td>3.83</td><td>4.45</td><td>4.72</td><td>9.33</td><td>28504000000</td><td>2487787100000</td><td>2516291100000</td><td>1.13</td><td>98.87</td><td>9.27</td><td>15122195</td><td>169999573836</td><td>113239806868</td><td>311515042461</td><td>4.0</td><td>2235743472701</td><td>1435375421653</td><td>1746890464114</td><td>4456000000</td><td>1742434464114</td><td>136.96</td><td>117769399143</td></tr><tr><td>&quot;AAPL&quot;</td><td>&quot;2025-01-16&quot;</td><td>144.607842</td><td>237.87</td><td>&quot;2029&quot;</td><td>631734147383</td><td>10.07</td><td>203936738085</td><td>32.28</td><td>183897900530</td><td>29.11</td><td>20038837554</td><td>3.17</td><td>120316909203</td><td>19.05</td><td>96053677011</td><td>15.2</td><td>1.0168e10</td><td>1.61</td><td>101845034847</td><td>16.12</td><td>-17288478562</td><td>-2.74</td><td>237.87</td><td>1.24</td><td>15408095000</td><td>4.45</td><td>24.09</td><td>3.38</td><td>4.45</td><td>4.72</td><td>10.3</td><td>106629000000</td><td>3665123557650</td><td>3771752557650</td><td>2.83</td><td>97.17</td><td>10.12</td><td>16549050</td><td>153464546253</td><td>155814583110</td><td>483296802740</td><td>4.0</td><td>2649336142954</td><td>1636344272896</td><td>2119641075637</td><td>76686000000</td><td>2042955075637</td><td>132.59</td><td>162047166435</td></tr><tr><td>&quot;MSFT&quot;</td><td>&quot;2025-01-16&quot;</td><td>354.229744</td><td>426.31</td><td>&quot;2029&quot;</td><td>482612279172</td><td>14.51</td><td>243343429409</td><td>50.42</td><td>206653972432</td><td>42.82</td><td>36689456977</td><td>7.6</td><td>298328812038</td><td>61.82</td><td>109589014184</td><td>22.71</td><td>6.2437e9</td><td>1.29</td><td>43316742017</td><td>8.98</td><td>-64207442622</td><td>-13.3</td><td>426.31</td><td>0.904</td><td>7469000000</td><td>4.45</td><td>18.23</td><td>3.64</td><td>4.45</td><td>4.72</td><td>8.72</td><td>97852000000</td><td>3184109390000</td><td>3281961390000</td><td>2.98</td><td>97.02</td><td>8.57</td><td>16131522</td><td>173317543200</td><td>136610813702</td><td>407612629968</td><td>4.0</td><td>3110051865718</td><td>2061831877612</td><td>2469444507581</td><td>79537000000</td><td>2389907507581</td><td>319.98</td><td>142075246250</td></tr><tr><td>&quot;AVGO&quot;</td><td>&quot;2025-01-16&quot;</td><td>176.496648</td><td>228.0</td><td>&quot;2029&quot;</td><td>139008851482</td><td>21.93</td><td>72607157198</td><td>52.23</td><td>45906526818</td><td>33.02</td><td>26700630380</td><td>19.21</td><td>47633557276</td><td>34.27</td><td>12076255889</td><td>8.69</td><td>6.5147e9</td><td>4.69</td><td>4743635680</td><td>3.41</td><td>-1988799375</td><td>-1.43</td><td>228.0</td><td>1.187</td><td>4778000000</td><td>5.62</td><td>40.55</td><td>3.34</td><td>4.45</td><td>4.72</td><td>10.05</td><td>67566000000</td><td>1089384000000</td><td>1156950000000</td><td>5.84</td><td>94.16</td><td>9.76</td><td>11050874</td><td>40833454730</td><td>63054429826</td><td>161588413505</td><td>4.0</td><td>1138994817324</td><td>715076469517</td><td>876664883023</td><td>58218000000</td><td>818446883023</td><td>171.29</td><td>65576607019</td></tr></tbody></table></div>"
      ],
      "text/plain": [
       "shape: (5, 50)\n",
       "┌────────┬────────────┬────────────┬───────────┬───┬───────────┬───────────┬───────────┬───────────┐\n",
       "│ symbol ┆ date       ┆ dcf        ┆ stock_pri ┆ … ┆ net_debt  ┆ equity_va ┆ equity_va ┆ free_cash │\n",
       "│ ---    ┆ ---        ┆ ---        ┆ ce        ┆   ┆ ---       ┆ lue       ┆ lue_per_s ┆ _flowt1   │\n",
       "│ str    ┆ str        ┆ f64        ┆ ---       ┆   ┆ i64       ┆ ---       ┆ hare      ┆ ---       │\n",
       "│        ┆            ┆            ┆ f64       ┆   ┆           ┆ i64       ┆ ---       ┆ i64       │\n",
       "│        ┆            ┆            ┆           ┆   ┆           ┆           ┆ f64       ┆           │\n",
       "╞════════╪════════════╪════════════╪═══════════╪═══╪═══════════╪═══════════╪═══════════╪═══════════╡\n",
       "│ GOOG   ┆ 2025-01-16 ┆ 192.371972 ┆ 195.55    ┆ … ┆ 445600000 ┆ 174243446 ┆ 136.96    ┆ 117769399 │\n",
       "│        ┆            ┆            ┆           ┆   ┆ 0         ┆ 4114      ┆           ┆ 143       │\n",
       "│ GOOGL  ┆ 2025-01-16 ┆ 192.371972 ┆ 195.55    ┆ … ┆ 445600000 ┆ 174243446 ┆ 136.96    ┆ 117769399 │\n",
       "│        ┆            ┆            ┆           ┆   ┆ 0         ┆ 4114      ┆           ┆ 143       │\n",
       "│ AAPL   ┆ 2025-01-16 ┆ 144.607842 ┆ 237.87    ┆ … ┆ 766860000 ┆ 204295507 ┆ 132.59    ┆ 162047166 │\n",
       "│        ┆            ┆            ┆           ┆   ┆ 00        ┆ 5637      ┆           ┆ 435       │\n",
       "│ MSFT   ┆ 2025-01-16 ┆ 354.229744 ┆ 426.31    ┆ … ┆ 795370000 ┆ 238990750 ┆ 319.98    ┆ 142075246 │\n",
       "│        ┆            ┆            ┆           ┆   ┆ 00        ┆ 7581      ┆           ┆ 250       │\n",
       "│ AVGO   ┆ 2025-01-16 ┆ 176.496648 ┆ 228.0     ┆ … ┆ 582180000 ┆ 818446883 ┆ 171.29    ┆ 655766070 │\n",
       "│        ┆            ┆            ┆           ┆   ┆ 00        ┆ 023       ┆           ┆ 19        │\n",
       "└────────┴────────────┴────────────┴───────────┴───┴───────────┴───────────┴───────────┴───────────┘"
      ]
     },
     "execution_count": 9,
     "metadata": {},
     "output_type": "execute_result"
    }
   ],
   "source": [
    "pl.scan_parquet(f'{output_dir}/company_dfc_advanced.parquet').head().collect()"
   ]
  }
 ],
 "metadata": {
  "kernelspec": {
   "display_name": ".venv",
   "language": "python",
   "name": "python3"
  },
  "language_info": {
   "codemirror_mode": {
    "name": "ipython",
    "version": 3
   },
   "file_extension": ".py",
   "mimetype": "text/x-python",
   "name": "python",
   "nbconvert_exporter": "python",
   "pygments_lexer": "ipython3",
   "version": "3.12.8"
  }
 },
 "nbformat": 4,
 "nbformat_minor": 2
}
