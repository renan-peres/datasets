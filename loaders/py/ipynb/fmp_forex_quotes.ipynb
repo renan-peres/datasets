{
 "cells": [
  {
   "cell_type": "markdown",
   "metadata": {},
   "source": [
    "## Step 1: Import Libraries"
   ]
  },
  {
   "cell_type": "code",
   "execution_count": 1,
   "metadata": {
    "execution": {
     "iopub.execute_input": "2025-01-16T10:05:00.448886Z",
     "iopub.status.busy": "2025-01-16T10:05:00.448454Z",
     "iopub.status.idle": "2025-01-16T10:05:00.511968Z",
     "shell.execute_reply": "2025-01-16T10:05:00.511452Z"
    }
   },
   "outputs": [],
   "source": [
    "%run ../make_clean_names.py"
   ]
  },
  {
   "cell_type": "code",
   "execution_count": 2,
   "metadata": {
    "execution": {
     "iopub.execute_input": "2025-01-16T10:05:00.514082Z",
     "iopub.status.busy": "2025-01-16T10:05:00.513725Z",
     "iopub.status.idle": "2025-01-16T10:05:00.580704Z",
     "shell.execute_reply": "2025-01-16T10:05:00.580235Z"
    }
   },
   "outputs": [],
   "source": [
    "import requests\n",
    "from requests.adapters import HTTPAdapter\n",
    "from requests.packages.urllib3.util.retry import Retry\n",
    "import logging\n",
    "import concurrent.futures\n",
    "from datetime import datetime\n",
    "from typing import Dict, List\n",
    "from concurrent.futures import ThreadPoolExecutor\n",
    "import polars as pl\n",
    "\n",
    "from dotenv import load_dotenv\n",
    "import os\n",
    "\n",
    "# Load environment variables\n",
    "load_dotenv()\n",
    "\n",
    "logging.basicConfig(level=logging.INFO)\n",
    "logger = logging.getLogger(__name__)\n",
    "\n",
    "def create_session():\n",
    "    session = requests.Session()\n",
    "    retries = Retry(\n",
    "        total=3,\n",
    "        backoff_factor=1,\n",
    "        status_forcelist=[429, 500, 502, 503, 504]\n",
    "    )\n",
    "    session.mount('https://', HTTPAdapter(max_retries=retries, pool_maxsize=10))\n",
    "    return session\n",
    "\n",
    "# Get API key from environment variables\n",
    "FMP_API_KEY = os.getenv('FMP_API_KEY')\n",
    "if not FMP_API_KEY:\n",
    "    raise ValueError(\"FMP_API_KEY not found in environment variables\")"
   ]
  },
  {
   "cell_type": "markdown",
   "metadata": {},
   "source": [
    "## Step 2: Import Forex Pairs"
   ]
  },
  {
   "cell_type": "code",
   "execution_count": 3,
   "metadata": {
    "execution": {
     "iopub.execute_input": "2025-01-16T10:05:00.582677Z",
     "iopub.status.busy": "2025-01-16T10:05:00.582328Z",
     "iopub.status.idle": "2025-01-16T10:05:00.587069Z",
     "shell.execute_reply": "2025-01-16T10:05:00.586467Z"
    }
   },
   "outputs": [
    {
     "name": "stdout",
     "output_type": "stream",
     "text": [
      "Loaded 4 pairs from ../fx_pairs.txt\n",
      "pairs: ['USDEUR', 'USDBRL', 'USDGBP', 'USDJPY']\n"
     ]
    }
   ],
   "source": [
    "def load_pairs(file_path: str) -> List[str]:\n",
    "    \"\"\"Load pairs from a text file\"\"\"\n",
    "    try:\n",
    "        with open(file_path, 'r') as f:\n",
    "            pairs = [line.strip() for line in f if line.strip()]\n",
    "        print(f\"Loaded {len(pairs)} pairs from {file_path}\")\n",
    "        return pairs\n",
    "    except Exception as e:\n",
    "        print(f\"Error loading pairs: {str(e)}\")\n",
    "        return []\n",
    "\n",
    "pairs_file = '../fx_pairs.txt'\n",
    "pairs = load_pairs(pairs_file)\n",
    "\n",
    "if pairs:\n",
    "    print(\"pairs:\", pairs)\n",
    "else:\n",
    "    print(\"No pairs loaded.\")"
   ]
  },
  {
   "cell_type": "markdown",
   "metadata": {},
   "source": [
    "## Step 2: Extract Data from FMP into Polars"
   ]
  },
  {
   "cell_type": "code",
   "execution_count": 4,
   "metadata": {
    "execution": {
     "iopub.execute_input": "2025-01-16T10:05:00.623022Z",
     "iopub.status.busy": "2025-01-16T10:05:00.622859Z",
     "iopub.status.idle": "2025-01-16T10:05:01.116021Z",
     "shell.execute_reply": "2025-01-16T10:05:01.115458Z"
    }
   },
   "outputs": [],
   "source": [
    "start_date = '2020-01-01'\n",
    "end_date = datetime.today().strftime('%Y-%m-%d')\n",
    "\n",
    "def fetch_forex_data(pair: str, api_key: str, session: requests.Session) -> Dict:\n",
    "    \"\"\"Fetch historical forex data for a single pair with pair identifier\"\"\"\n",
    "    url = f\"https://financialmodelingprep.com/api/v3/historical-chart/1day/{pair}\"\n",
    "    params = {\n",
    "        \"from\": start_date,\n",
    "        \"to\": end_date,\n",
    "        \"apikey\": api_key\n",
    "    }\n",
    "        \n",
    "    try:\n",
    "        response = session.get(url, params=params, timeout=10)\n",
    "        response.raise_for_status()\n",
    "        data = response.json()\n",
    "        # Add pair identifier to each record\n",
    "        return [{\"pair\": pair, **record} for record in data] if data else None\n",
    "    except Exception as e:\n",
    "        logger.error(f\"Error fetching {pair}: {str(e)}\")\n",
    "        return None\n",
    "\n",
    "def fetch_all_forex_data(pairs: List[str], api_key: str) -> List[Dict]:\n",
    "    \"\"\"Fetch and combine forex data for multiple pairs\"\"\"\n",
    "    session = create_session()\n",
    "    \n",
    "    with ThreadPoolExecutor(max_workers=10) as executor:\n",
    "        futures = [\n",
    "            executor.submit(fetch_forex_data, pair, api_key, session)\n",
    "            for pair in pairs\n",
    "        ]\n",
    "        results = [\n",
    "            f.result() for f in concurrent.futures.as_completed(futures)\n",
    "        ]\n",
    "    \n",
    "    # Flatten results list and remove None values\n",
    "    all_data = []\n",
    "    for result in results:\n",
    "        if result:\n",
    "            all_data.extend(result)\n",
    "    return all_data\n",
    "\n",
    "# Execute fetching\n",
    "fx_data = fetch_all_forex_data(pairs, FMP_API_KEY)\n",
    "\n",
    "# Convert to Polars DataFrame if data exists\n",
    "if fx_data:\n",
    "    df = pl.DataFrame(fx_data)"
   ]
  },
  {
   "cell_type": "markdown",
   "metadata": {},
   "source": [
    "## Step 3: Clean Column Names"
   ]
  },
  {
   "cell_type": "code",
   "execution_count": 5,
   "metadata": {
    "execution": {
     "iopub.execute_input": "2025-01-16T10:05:01.118338Z",
     "iopub.status.busy": "2025-01-16T10:05:01.117985Z",
     "iopub.status.idle": "2025-01-16T10:05:01.122383Z",
     "shell.execute_reply": "2025-01-16T10:05:01.121932Z"
    }
   },
   "outputs": [],
   "source": [
    "df = make_clean_names(df)"
   ]
  },
  {
   "cell_type": "code",
   "execution_count": 6,
   "metadata": {
    "execution": {
     "iopub.execute_input": "2025-01-16T10:05:01.123964Z",
     "iopub.status.busy": "2025-01-16T10:05:01.123810Z",
     "iopub.status.idle": "2025-01-16T10:05:01.130438Z",
     "shell.execute_reply": "2025-01-16T10:05:01.129961Z"
    }
   },
   "outputs": [
    {
     "data": {
      "text/html": [
       "<div><style>\n",
       ".dataframe > thead > tr,\n",
       ".dataframe > tbody > tr {\n",
       "  text-align: right;\n",
       "  white-space: pre-wrap;\n",
       "}\n",
       "</style>\n",
       "<small>shape: (5_375, 7)</small><table border=\"1\" class=\"dataframe\"><thead><tr><th>pair</th><th>date</th><th>open</th><th>low</th><th>high</th><th>close</th><th>volume</th></tr><tr><td>str</td><td>str</td><td>f64</td><td>f64</td><td>f64</td><td>f64</td><td>i64</td></tr></thead><tbody><tr><td>&quot;USDJPY&quot;</td><td>&quot;2025-01-16 00:00:00&quot;</td><td>156.335</td><td>155.202</td><td>156.528</td><td>155.687</td><td>57263</td></tr><tr><td>&quot;USDJPY&quot;</td><td>&quot;2025-01-15 00:00:00&quot;</td><td>157.941</td><td>155.927</td><td>158.077</td><td>156.518</td><td>344478</td></tr><tr><td>&quot;USDJPY&quot;</td><td>&quot;2025-01-14 00:00:00&quot;</td><td>157.452</td><td>157.078</td><td>158.194</td><td>157.941</td><td>358759</td></tr><tr><td>&quot;USDJPY&quot;</td><td>&quot;2025-01-13 00:00:00&quot;</td><td>157.692</td><td>156.905</td><td>157.961</td><td>157.452</td><td>311826</td></tr><tr><td>&quot;USDJPY&quot;</td><td>&quot;2025-01-12 00:00:00&quot;</td><td>157.72501</td><td>157.72501</td><td>157.75</td><td>157.75</td><td>0</td></tr><tr><td>&hellip;</td><td>&hellip;</td><td>&hellip;</td><td>&hellip;</td><td>&hellip;</td><td>&hellip;</td><td>&hellip;</td></tr><tr><td>&quot;USDEUR&quot;</td><td>&quot;2020-01-24 00:00:00&quot;</td><td>0.9043</td><td>0.9042</td><td>0.9072</td><td>0.9066</td><td>0</td></tr><tr><td>&quot;USDEUR&quot;</td><td>&quot;2020-01-23 00:00:00&quot;</td><td>0.9014</td><td>0.9004</td><td>0.9059</td><td>0.9041</td><td>0</td></tr><tr><td>&quot;USDEUR&quot;</td><td>&quot;2020-01-22 00:00:00&quot;</td><td>0.9016</td><td>0.9011</td><td>0.903</td><td>0.9014</td><td>0</td></tr><tr><td>&quot;USDEUR&quot;</td><td>&quot;2020-01-21 00:00:00&quot;</td><td>0.9011</td><td>0.8996</td><td>0.9022</td><td>0.9021</td><td>0</td></tr><tr><td>&quot;USDEUR&quot;</td><td>&quot;2020-01-20 00:00:00&quot;</td><td>0.9014</td><td>0.9007</td><td>0.9026</td><td>0.9011</td><td>0</td></tr></tbody></table></div>"
      ],
      "text/plain": [
       "shape: (5_375, 7)\n",
       "┌────────┬─────────────────────┬───────────┬───────────┬─────────┬─────────┬────────┐\n",
       "│ pair   ┆ date                ┆ open      ┆ low       ┆ high    ┆ close   ┆ volume │\n",
       "│ ---    ┆ ---                 ┆ ---       ┆ ---       ┆ ---     ┆ ---     ┆ ---    │\n",
       "│ str    ┆ str                 ┆ f64       ┆ f64       ┆ f64     ┆ f64     ┆ i64    │\n",
       "╞════════╪═════════════════════╪═══════════╪═══════════╪═════════╪═════════╪════════╡\n",
       "│ USDJPY ┆ 2025-01-16 00:00:00 ┆ 156.335   ┆ 155.202   ┆ 156.528 ┆ 155.687 ┆ 57263  │\n",
       "│ USDJPY ┆ 2025-01-15 00:00:00 ┆ 157.941   ┆ 155.927   ┆ 158.077 ┆ 156.518 ┆ 344478 │\n",
       "│ USDJPY ┆ 2025-01-14 00:00:00 ┆ 157.452   ┆ 157.078   ┆ 158.194 ┆ 157.941 ┆ 358759 │\n",
       "│ USDJPY ┆ 2025-01-13 00:00:00 ┆ 157.692   ┆ 156.905   ┆ 157.961 ┆ 157.452 ┆ 311826 │\n",
       "│ USDJPY ┆ 2025-01-12 00:00:00 ┆ 157.72501 ┆ 157.72501 ┆ 157.75  ┆ 157.75  ┆ 0      │\n",
       "│ …      ┆ …                   ┆ …         ┆ …         ┆ …       ┆ …       ┆ …      │\n",
       "│ USDEUR ┆ 2020-01-24 00:00:00 ┆ 0.9043    ┆ 0.9042    ┆ 0.9072  ┆ 0.9066  ┆ 0      │\n",
       "│ USDEUR ┆ 2020-01-23 00:00:00 ┆ 0.9014    ┆ 0.9004    ┆ 0.9059  ┆ 0.9041  ┆ 0      │\n",
       "│ USDEUR ┆ 2020-01-22 00:00:00 ┆ 0.9016    ┆ 0.9011    ┆ 0.903   ┆ 0.9014  ┆ 0      │\n",
       "│ USDEUR ┆ 2020-01-21 00:00:00 ┆ 0.9011    ┆ 0.8996    ┆ 0.9022  ┆ 0.9021  ┆ 0      │\n",
       "│ USDEUR ┆ 2020-01-20 00:00:00 ┆ 0.9014    ┆ 0.9007    ┆ 0.9026  ┆ 0.9011  ┆ 0      │\n",
       "└────────┴─────────────────────┴───────────┴───────────┴─────────┴─────────┴────────┘"
      ]
     },
     "execution_count": 6,
     "metadata": {},
     "output_type": "execute_result"
    }
   ],
   "source": [
    "df"
   ]
  },
  {
   "cell_type": "markdown",
   "metadata": {},
   "source": [
    "## Step 4: Write Polars to Parquet"
   ]
  },
  {
   "cell_type": "code",
   "execution_count": 7,
   "metadata": {
    "execution": {
     "iopub.execute_input": "2025-01-16T10:05:01.132134Z",
     "iopub.status.busy": "2025-01-16T10:05:01.131961Z",
     "iopub.status.idle": "2025-01-16T10:05:01.139648Z",
     "shell.execute_reply": "2025-01-16T10:05:01.139161Z"
    }
   },
   "outputs": [],
   "source": [
    "# Define the output directory\n",
    "output_dir = \"../../../data/finance\"\n",
    "\n",
    "# Write the processed DataFrame to a Parquet file\n",
    "df.write_parquet(f'{output_dir}/historical_fx_quotes.parquet')"
   ]
  },
  {
   "cell_type": "markdown",
   "metadata": {},
   "source": [
    "## Step 5: Read Parquet (Validate)"
   ]
  },
  {
   "cell_type": "code",
   "execution_count": 8,
   "metadata": {
    "execution": {
     "iopub.execute_input": "2025-01-16T10:05:01.141503Z",
     "iopub.status.busy": "2025-01-16T10:05:01.141342Z",
     "iopub.status.idle": "2025-01-16T10:05:01.146102Z",
     "shell.execute_reply": "2025-01-16T10:05:01.145628Z"
    }
   },
   "outputs": [
    {
     "data": {
      "text/html": [
       "<div><style>\n",
       ".dataframe > thead > tr,\n",
       ".dataframe > tbody > tr {\n",
       "  text-align: right;\n",
       "  white-space: pre-wrap;\n",
       "}\n",
       "</style>\n",
       "<small>shape: (5, 7)</small><table border=\"1\" class=\"dataframe\"><thead><tr><th>pair</th><th>date</th><th>open</th><th>low</th><th>high</th><th>close</th><th>volume</th></tr><tr><td>str</td><td>str</td><td>f64</td><td>f64</td><td>f64</td><td>f64</td><td>i64</td></tr></thead><tbody><tr><td>&quot;USDJPY&quot;</td><td>&quot;2025-01-16 00:00:00&quot;</td><td>156.335</td><td>155.202</td><td>156.528</td><td>155.687</td><td>57263</td></tr><tr><td>&quot;USDJPY&quot;</td><td>&quot;2025-01-15 00:00:00&quot;</td><td>157.941</td><td>155.927</td><td>158.077</td><td>156.518</td><td>344478</td></tr><tr><td>&quot;USDJPY&quot;</td><td>&quot;2025-01-14 00:00:00&quot;</td><td>157.452</td><td>157.078</td><td>158.194</td><td>157.941</td><td>358759</td></tr><tr><td>&quot;USDJPY&quot;</td><td>&quot;2025-01-13 00:00:00&quot;</td><td>157.692</td><td>156.905</td><td>157.961</td><td>157.452</td><td>311826</td></tr><tr><td>&quot;USDJPY&quot;</td><td>&quot;2025-01-12 00:00:00&quot;</td><td>157.72501</td><td>157.72501</td><td>157.75</td><td>157.75</td><td>0</td></tr></tbody></table></div>"
      ],
      "text/plain": [
       "shape: (5, 7)\n",
       "┌────────┬─────────────────────┬───────────┬───────────┬─────────┬─────────┬────────┐\n",
       "│ pair   ┆ date                ┆ open      ┆ low       ┆ high    ┆ close   ┆ volume │\n",
       "│ ---    ┆ ---                 ┆ ---       ┆ ---       ┆ ---     ┆ ---     ┆ ---    │\n",
       "│ str    ┆ str                 ┆ f64       ┆ f64       ┆ f64     ┆ f64     ┆ i64    │\n",
       "╞════════╪═════════════════════╪═══════════╪═══════════╪═════════╪═════════╪════════╡\n",
       "│ USDJPY ┆ 2025-01-16 00:00:00 ┆ 156.335   ┆ 155.202   ┆ 156.528 ┆ 155.687 ┆ 57263  │\n",
       "│ USDJPY ┆ 2025-01-15 00:00:00 ┆ 157.941   ┆ 155.927   ┆ 158.077 ┆ 156.518 ┆ 344478 │\n",
       "│ USDJPY ┆ 2025-01-14 00:00:00 ┆ 157.452   ┆ 157.078   ┆ 158.194 ┆ 157.941 ┆ 358759 │\n",
       "│ USDJPY ┆ 2025-01-13 00:00:00 ┆ 157.692   ┆ 156.905   ┆ 157.961 ┆ 157.452 ┆ 311826 │\n",
       "│ USDJPY ┆ 2025-01-12 00:00:00 ┆ 157.72501 ┆ 157.72501 ┆ 157.75  ┆ 157.75  ┆ 0      │\n",
       "└────────┴─────────────────────┴───────────┴───────────┴─────────┴─────────┴────────┘"
      ]
     },
     "execution_count": 8,
     "metadata": {},
     "output_type": "execute_result"
    }
   ],
   "source": [
    "# Validate the output by reading the Parquet file and displaying the first few rows\n",
    "pl.scan_parquet(f'{output_dir}/historical_fx_quotes.parquet').head().collect()"
   ]
  }
 ],
 "metadata": {
  "kernelspec": {
   "display_name": ".venv",
   "language": "python",
   "name": "python3"
  },
  "language_info": {
   "codemirror_mode": {
    "name": "ipython",
    "version": 3
   },
   "file_extension": ".py",
   "mimetype": "text/x-python",
   "name": "python",
   "nbconvert_exporter": "python",
   "pygments_lexer": "ipython3",
   "version": "3.12.8"
  }
 },
 "nbformat": 4,
 "nbformat_minor": 2
}
