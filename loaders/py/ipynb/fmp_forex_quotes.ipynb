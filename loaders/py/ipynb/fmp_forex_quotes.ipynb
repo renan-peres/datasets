{
 "cells": [
  {
   "cell_type": "markdown",
   "metadata": {},
   "source": [
    "## Step 1: Import Libraries"
   ]
  },
  {
   "cell_type": "code",
   "execution_count": 1,
   "metadata": {
    "execution": {
     "iopub.execute_input": "2025-01-28T13:39:11.787551Z",
     "iopub.status.busy": "2025-01-28T13:39:11.787324Z",
     "iopub.status.idle": "2025-01-28T13:39:11.835602Z",
     "shell.execute_reply": "2025-01-28T13:39:11.834120Z"
    }
   },
   "outputs": [],
   "source": [
    "%run ../make_clean_names.py"
   ]
  },
  {
   "cell_type": "code",
   "execution_count": 2,
   "metadata": {
    "execution": {
     "iopub.execute_input": "2025-01-28T13:39:11.838199Z",
     "iopub.status.busy": "2025-01-28T13:39:11.837925Z",
     "iopub.status.idle": "2025-01-28T13:39:11.887638Z",
     "shell.execute_reply": "2025-01-28T13:39:11.886993Z"
    }
   },
   "outputs": [],
   "source": [
    "import requests\n",
    "from requests.adapters import HTTPAdapter\n",
    "from requests.packages.urllib3.util.retry import Retry\n",
    "import logging\n",
    "import concurrent.futures\n",
    "from datetime import datetime\n",
    "from typing import Dict, List\n",
    "from concurrent.futures import ThreadPoolExecutor\n",
    "import polars as pl\n",
    "\n",
    "from dotenv import load_dotenv\n",
    "import os\n",
    "\n",
    "# Load environment variables\n",
    "load_dotenv()\n",
    "\n",
    "logging.basicConfig(level=logging.INFO)\n",
    "logger = logging.getLogger(__name__)\n",
    "\n",
    "def create_session():\n",
    "    session = requests.Session()\n",
    "    retries = Retry(\n",
    "        total=3,\n",
    "        backoff_factor=1,\n",
    "        status_forcelist=[429, 500, 502, 503, 504]\n",
    "    )\n",
    "    session.mount('https://', HTTPAdapter(max_retries=retries, pool_maxsize=10))\n",
    "    return session\n",
    "\n",
    "# Get API key from environment variables\n",
    "FMP_API_KEY = os.getenv('FMP_API_KEY')\n",
    "if not FMP_API_KEY:\n",
    "    raise ValueError(\"FMP_API_KEY not found in environment variables\")"
   ]
  },
  {
   "cell_type": "markdown",
   "metadata": {},
   "source": [
    "## Step 2: Import Forex Pairs"
   ]
  },
  {
   "cell_type": "code",
   "execution_count": 3,
   "metadata": {
    "execution": {
     "iopub.execute_input": "2025-01-28T13:39:11.889804Z",
     "iopub.status.busy": "2025-01-28T13:39:11.889660Z",
     "iopub.status.idle": "2025-01-28T13:39:11.894547Z",
     "shell.execute_reply": "2025-01-28T13:39:11.893881Z"
    }
   },
   "outputs": [
    {
     "name": "stdout",
     "output_type": "stream",
     "text": [
      "Loaded 4 pairs from ../fx_pairs.txt\n",
      "pairs: ['USDEUR', 'USDBRL', 'USDGBP', 'USDJPY']\n"
     ]
    }
   ],
   "source": [
    "def load_pairs(file_path: str) -> List[str]:\n",
    "    \"\"\"Load pairs from a text file\"\"\"\n",
    "    try:\n",
    "        with open(file_path, 'r') as f:\n",
    "            pairs = [line.strip() for line in f if line.strip()]\n",
    "        print(f\"Loaded {len(pairs)} pairs from {file_path}\")\n",
    "        return pairs\n",
    "    except Exception as e:\n",
    "        print(f\"Error loading pairs: {str(e)}\")\n",
    "        return []\n",
    "\n",
    "pairs_file = '../fx_pairs.txt'\n",
    "pairs = load_pairs(pairs_file)\n",
    "\n",
    "if pairs:\n",
    "    print(\"pairs:\", pairs)\n",
    "else:\n",
    "    print(\"No pairs loaded.\")"
   ]
  },
  {
   "cell_type": "markdown",
   "metadata": {},
   "source": [
    "## Step 2: Extract Data from FMP into Polars"
   ]
  },
  {
   "cell_type": "code",
   "execution_count": 4,
   "metadata": {
    "execution": {
     "iopub.execute_input": "2025-01-28T13:39:11.918764Z",
     "iopub.status.busy": "2025-01-28T13:39:11.918559Z",
     "iopub.status.idle": "2025-01-28T13:39:12.727386Z",
     "shell.execute_reply": "2025-01-28T13:39:12.726923Z"
    }
   },
   "outputs": [],
   "source": [
    "start_date = '2020-01-01'\n",
    "end_date = datetime.today().strftime('%Y-%m-%d')\n",
    "\n",
    "def fetch_forex_data(pair: str, api_key: str, session: requests.Session) -> Dict:\n",
    "    \"\"\"Fetch historical forex data for a single pair with pair identifier\"\"\"\n",
    "    url = f\"https://financialmodelingprep.com/api/v3/historical-chart/1day/{pair}\"\n",
    "    params = {\n",
    "        \"from\": start_date,\n",
    "        \"to\": end_date,\n",
    "        \"apikey\": api_key\n",
    "    }\n",
    "        \n",
    "    try:\n",
    "        response = session.get(url, params=params, timeout=10)\n",
    "        response.raise_for_status()\n",
    "        data = response.json()\n",
    "        # Add pair identifier to each record\n",
    "        return [{\"pair\": pair, **record} for record in data] if data else None\n",
    "    except Exception as e:\n",
    "        logger.error(f\"Error fetching {pair}: {str(e)}\")\n",
    "        return None\n",
    "\n",
    "def fetch_all_forex_data(pairs: List[str], api_key: str) -> List[Dict]:\n",
    "    \"\"\"Fetch and combine forex data for multiple pairs\"\"\"\n",
    "    session = create_session()\n",
    "    \n",
    "    with ThreadPoolExecutor(max_workers=10) as executor:\n",
    "        futures = [\n",
    "            executor.submit(fetch_forex_data, pair, api_key, session)\n",
    "            for pair in pairs\n",
    "        ]\n",
    "        results = [\n",
    "            f.result() for f in concurrent.futures.as_completed(futures)\n",
    "        ]\n",
    "    \n",
    "    # Flatten results list and remove None values\n",
    "    all_data = []\n",
    "    for result in results:\n",
    "        if result:\n",
    "            all_data.extend(result)\n",
    "    return all_data\n",
    "\n",
    "# Execute fetching\n",
    "fx_data = fetch_all_forex_data(pairs, FMP_API_KEY)\n",
    "\n",
    "# Convert to Polars DataFrame if data exists\n",
    "if fx_data:\n",
    "    df = pl.DataFrame(fx_data)"
   ]
  },
  {
   "cell_type": "markdown",
   "metadata": {},
   "source": [
    "## Step 3: Clean Column Names"
   ]
  },
  {
   "cell_type": "code",
   "execution_count": 5,
   "metadata": {
    "execution": {
     "iopub.execute_input": "2025-01-28T13:39:12.730534Z",
     "iopub.status.busy": "2025-01-28T13:39:12.730010Z",
     "iopub.status.idle": "2025-01-28T13:39:12.734307Z",
     "shell.execute_reply": "2025-01-28T13:39:12.733548Z"
    }
   },
   "outputs": [],
   "source": [
    "df = make_clean_names(df)"
   ]
  },
  {
   "cell_type": "code",
   "execution_count": 6,
   "metadata": {
    "execution": {
     "iopub.execute_input": "2025-01-28T13:39:12.736698Z",
     "iopub.status.busy": "2025-01-28T13:39:12.736254Z",
     "iopub.status.idle": "2025-01-28T13:39:12.741997Z",
     "shell.execute_reply": "2025-01-28T13:39:12.741395Z"
    }
   },
   "outputs": [
    {
     "data": {
      "text/html": [
       "<div><style>\n",
       ".dataframe > thead > tr,\n",
       ".dataframe > tbody > tr {\n",
       "  text-align: right;\n",
       "  white-space: pre-wrap;\n",
       "}\n",
       "</style>\n",
       "<small>shape: (5_380, 7)</small><table border=\"1\" class=\"dataframe\"><thead><tr><th>pair</th><th>date</th><th>open</th><th>low</th><th>high</th><th>close</th><th>volume</th></tr><tr><td>str</td><td>str</td><td>f64</td><td>f64</td><td>f64</td><td>f64</td><td>i64</td></tr></thead><tbody><tr><td>&quot;USDBRL&quot;</td><td>&quot;2025-01-28 00:00:00&quot;</td><td>5.9129</td><td>5.8926</td><td>5.9197</td><td>5.9077</td><td>2153</td></tr><tr><td>&quot;USDBRL&quot;</td><td>&quot;2025-01-27 00:00:00&quot;</td><td>5.9109</td><td>5.8926</td><td>5.9552</td><td>5.8926</td><td>7220</td></tr><tr><td>&quot;USDBRL&quot;</td><td>&quot;2025-01-26 00:00:00&quot;</td><td>5.9109</td><td>5.9026</td><td>5.9109</td><td>5.9026</td><td>0</td></tr><tr><td>&quot;USDBRL&quot;</td><td>&quot;2025-01-24 00:00:00&quot;</td><td>5.9206</td><td>5.8692</td><td>5.9244</td><td>5.9109</td><td>7122</td></tr><tr><td>&quot;USDBRL&quot;</td><td>&quot;2025-01-23 00:00:00&quot;</td><td>5.9418</td><td>5.875</td><td>5.9697</td><td>5.9243</td><td>7499</td></tr><tr><td>&hellip;</td><td>&hellip;</td><td>&hellip;</td><td>&hellip;</td><td>&hellip;</td><td>&hellip;</td><td>&hellip;</td></tr><tr><td>&quot;USDGBP&quot;</td><td>&quot;2020-02-06 00:00:00&quot;</td><td>0.76917</td><td>0.76913</td><td>0.77394</td><td>0.7733</td><td>0</td></tr><tr><td>&quot;USDGBP&quot;</td><td>&quot;2020-02-05 00:00:00&quot;</td><td>0.76767</td><td>0.76522</td><td>0.77166</td><td>0.76911</td><td>0</td></tr><tr><td>&quot;USDGBP&quot;</td><td>&quot;2020-02-04 00:00:00&quot;</td><td>0.76947</td><td>0.76666</td><td>0.77262</td><td>0.76767</td><td>0</td></tr><tr><td>&quot;USDGBP&quot;</td><td>&quot;2020-02-03 00:00:00&quot;</td><td>0.75734</td><td>0.75716</td><td>0.77018</td><td>0.76967</td><td>0</td></tr><tr><td>&quot;USDGBP&quot;</td><td>&quot;2020-01-31 00:00:00&quot;</td><td>0.76377</td><td>0.75714</td><td>0.76444</td><td>0.75728</td><td>0</td></tr></tbody></table></div>"
      ],
      "text/plain": [
       "shape: (5_380, 7)\n",
       "┌────────┬─────────────────────┬─────────┬─────────┬─────────┬─────────┬────────┐\n",
       "│ pair   ┆ date                ┆ open    ┆ low     ┆ high    ┆ close   ┆ volume │\n",
       "│ ---    ┆ ---                 ┆ ---     ┆ ---     ┆ ---     ┆ ---     ┆ ---    │\n",
       "│ str    ┆ str                 ┆ f64     ┆ f64     ┆ f64     ┆ f64     ┆ i64    │\n",
       "╞════════╪═════════════════════╪═════════╪═════════╪═════════╪═════════╪════════╡\n",
       "│ USDBRL ┆ 2025-01-28 00:00:00 ┆ 5.9129  ┆ 5.8926  ┆ 5.9197  ┆ 5.9077  ┆ 2153   │\n",
       "│ USDBRL ┆ 2025-01-27 00:00:00 ┆ 5.9109  ┆ 5.8926  ┆ 5.9552  ┆ 5.8926  ┆ 7220   │\n",
       "│ USDBRL ┆ 2025-01-26 00:00:00 ┆ 5.9109  ┆ 5.9026  ┆ 5.9109  ┆ 5.9026  ┆ 0      │\n",
       "│ USDBRL ┆ 2025-01-24 00:00:00 ┆ 5.9206  ┆ 5.8692  ┆ 5.9244  ┆ 5.9109  ┆ 7122   │\n",
       "│ USDBRL ┆ 2025-01-23 00:00:00 ┆ 5.9418  ┆ 5.875   ┆ 5.9697  ┆ 5.9243  ┆ 7499   │\n",
       "│ …      ┆ …                   ┆ …       ┆ …       ┆ …       ┆ …       ┆ …      │\n",
       "│ USDGBP ┆ 2020-02-06 00:00:00 ┆ 0.76917 ┆ 0.76913 ┆ 0.77394 ┆ 0.7733  ┆ 0      │\n",
       "│ USDGBP ┆ 2020-02-05 00:00:00 ┆ 0.76767 ┆ 0.76522 ┆ 0.77166 ┆ 0.76911 ┆ 0      │\n",
       "│ USDGBP ┆ 2020-02-04 00:00:00 ┆ 0.76947 ┆ 0.76666 ┆ 0.77262 ┆ 0.76767 ┆ 0      │\n",
       "│ USDGBP ┆ 2020-02-03 00:00:00 ┆ 0.75734 ┆ 0.75716 ┆ 0.77018 ┆ 0.76967 ┆ 0      │\n",
       "│ USDGBP ┆ 2020-01-31 00:00:00 ┆ 0.76377 ┆ 0.75714 ┆ 0.76444 ┆ 0.75728 ┆ 0      │\n",
       "└────────┴─────────────────────┴─────────┴─────────┴─────────┴─────────┴────────┘"
      ]
     },
     "execution_count": 6,
     "metadata": {},
     "output_type": "execute_result"
    }
   ],
   "source": [
    "df"
   ]
  },
  {
   "cell_type": "markdown",
   "metadata": {},
   "source": [
    "## Step 4: Write Polars to Parquet"
   ]
  },
  {
   "cell_type": "code",
   "execution_count": 7,
   "metadata": {
    "execution": {
     "iopub.execute_input": "2025-01-28T13:39:12.744620Z",
     "iopub.status.busy": "2025-01-28T13:39:12.744141Z",
     "iopub.status.idle": "2025-01-28T13:39:12.766073Z",
     "shell.execute_reply": "2025-01-28T13:39:12.765478Z"
    }
   },
   "outputs": [],
   "source": [
    "# Define the output directory\n",
    "output_dir = \"../../../data/finance\"\n",
    "\n",
    "# Write the processed DataFrame to a Parquet file\n",
    "df.write_parquet(f'{output_dir}/historical_fx_quotes.parquet')"
   ]
  },
  {
   "cell_type": "markdown",
   "metadata": {},
   "source": [
    "## Step 5: Read Parquet (Validate)"
   ]
  },
  {
   "cell_type": "code",
   "execution_count": 8,
   "metadata": {
    "execution": {
     "iopub.execute_input": "2025-01-28T13:39:12.768751Z",
     "iopub.status.busy": "2025-01-28T13:39:12.768365Z",
     "iopub.status.idle": "2025-01-28T13:39:12.773457Z",
     "shell.execute_reply": "2025-01-28T13:39:12.773023Z"
    }
   },
   "outputs": [
    {
     "data": {
      "text/html": [
       "<div><style>\n",
       ".dataframe > thead > tr,\n",
       ".dataframe > tbody > tr {\n",
       "  text-align: right;\n",
       "  white-space: pre-wrap;\n",
       "}\n",
       "</style>\n",
       "<small>shape: (5, 7)</small><table border=\"1\" class=\"dataframe\"><thead><tr><th>pair</th><th>date</th><th>open</th><th>low</th><th>high</th><th>close</th><th>volume</th></tr><tr><td>str</td><td>str</td><td>f64</td><td>f64</td><td>f64</td><td>f64</td><td>i64</td></tr></thead><tbody><tr><td>&quot;USDBRL&quot;</td><td>&quot;2025-01-28 00:00:00&quot;</td><td>5.9129</td><td>5.8926</td><td>5.9197</td><td>5.9077</td><td>2153</td></tr><tr><td>&quot;USDBRL&quot;</td><td>&quot;2025-01-27 00:00:00&quot;</td><td>5.9109</td><td>5.8926</td><td>5.9552</td><td>5.8926</td><td>7220</td></tr><tr><td>&quot;USDBRL&quot;</td><td>&quot;2025-01-26 00:00:00&quot;</td><td>5.9109</td><td>5.9026</td><td>5.9109</td><td>5.9026</td><td>0</td></tr><tr><td>&quot;USDBRL&quot;</td><td>&quot;2025-01-24 00:00:00&quot;</td><td>5.9206</td><td>5.8692</td><td>5.9244</td><td>5.9109</td><td>7122</td></tr><tr><td>&quot;USDBRL&quot;</td><td>&quot;2025-01-23 00:00:00&quot;</td><td>5.9418</td><td>5.875</td><td>5.9697</td><td>5.9243</td><td>7499</td></tr></tbody></table></div>"
      ],
      "text/plain": [
       "shape: (5, 7)\n",
       "┌────────┬─────────────────────┬────────┬────────┬────────┬────────┬────────┐\n",
       "│ pair   ┆ date                ┆ open   ┆ low    ┆ high   ┆ close  ┆ volume │\n",
       "│ ---    ┆ ---                 ┆ ---    ┆ ---    ┆ ---    ┆ ---    ┆ ---    │\n",
       "│ str    ┆ str                 ┆ f64    ┆ f64    ┆ f64    ┆ f64    ┆ i64    │\n",
       "╞════════╪═════════════════════╪════════╪════════╪════════╪════════╪════════╡\n",
       "│ USDBRL ┆ 2025-01-28 00:00:00 ┆ 5.9129 ┆ 5.8926 ┆ 5.9197 ┆ 5.9077 ┆ 2153   │\n",
       "│ USDBRL ┆ 2025-01-27 00:00:00 ┆ 5.9109 ┆ 5.8926 ┆ 5.9552 ┆ 5.8926 ┆ 7220   │\n",
       "│ USDBRL ┆ 2025-01-26 00:00:00 ┆ 5.9109 ┆ 5.9026 ┆ 5.9109 ┆ 5.9026 ┆ 0      │\n",
       "│ USDBRL ┆ 2025-01-24 00:00:00 ┆ 5.9206 ┆ 5.8692 ┆ 5.9244 ┆ 5.9109 ┆ 7122   │\n",
       "│ USDBRL ┆ 2025-01-23 00:00:00 ┆ 5.9418 ┆ 5.875  ┆ 5.9697 ┆ 5.9243 ┆ 7499   │\n",
       "└────────┴─────────────────────┴────────┴────────┴────────┴────────┴────────┘"
      ]
     },
     "execution_count": 8,
     "metadata": {},
     "output_type": "execute_result"
    }
   ],
   "source": [
    "# Validate the output by reading the Parquet file and displaying the first few rows\n",
    "pl.scan_parquet(f'{output_dir}/historical_fx_quotes.parquet').head().collect()"
   ]
  }
 ],
 "metadata": {
  "kernelspec": {
   "display_name": ".venv",
   "language": "python",
   "name": "python3"
  },
  "language_info": {
   "codemirror_mode": {
    "name": "ipython",
    "version": 3
   },
   "file_extension": ".py",
   "mimetype": "text/x-python",
   "name": "python",
   "nbconvert_exporter": "python",
   "pygments_lexer": "ipython3",
   "version": "3.12.3"
  }
 },
 "nbformat": 4,
 "nbformat_minor": 2
}
