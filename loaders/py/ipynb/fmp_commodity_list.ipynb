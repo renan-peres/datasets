{
 "cells": [
  {
   "cell_type": "markdown",
   "metadata": {},
   "source": [
    "# Commodity List\n",
    "- **Reference**: https://site.financialmodelingprep.com/developer/docs#full-quote-list-commodities"
   ]
  },
  {
   "cell_type": "markdown",
   "metadata": {},
   "source": [
    "## Step 1: Import Libraries"
   ]
  },
  {
   "cell_type": "code",
   "execution_count": 1,
   "metadata": {
    "execution": {
     "iopub.execute_input": "2025-01-16T10:05:00.448886Z",
     "iopub.status.busy": "2025-01-16T10:05:00.448454Z",
     "iopub.status.idle": "2025-01-16T10:05:00.511968Z",
     "shell.execute_reply": "2025-01-16T10:05:00.511452Z"
    }
   },
   "outputs": [],
   "source": [
    "%run ../make_clean_names.py"
   ]
  },
  {
   "cell_type": "code",
   "execution_count": 2,
   "metadata": {
    "execution": {
     "iopub.execute_input": "2025-01-16T10:05:00.514082Z",
     "iopub.status.busy": "2025-01-16T10:05:00.513725Z",
     "iopub.status.idle": "2025-01-16T10:05:00.580704Z",
     "shell.execute_reply": "2025-01-16T10:05:00.580235Z"
    }
   },
   "outputs": [],
   "source": [
    "import requests\n",
    "from requests.adapters import HTTPAdapter\n",
    "from requests.packages.urllib3.util.retry import Retry\n",
    "import logging\n",
    "import concurrent.futures\n",
    "from datetime import datetime\n",
    "from typing import Dict, List\n",
    "from concurrent.futures import ThreadPoolExecutor\n",
    "import polars as pl\n",
    "\n",
    "from dotenv import load_dotenv\n",
    "import os\n",
    "\n",
    "# Load environment variables\n",
    "load_dotenv()\n",
    "\n",
    "logging.basicConfig(level=logging.INFO)\n",
    "logger = logging.getLogger(__name__)\n",
    "\n",
    "def create_session():\n",
    "    session = requests.Session()\n",
    "    retries = Retry(\n",
    "        total=3,\n",
    "        backoff_factor=1,\n",
    "        status_forcelist=[429, 500, 502, 503, 504]\n",
    "    )\n",
    "    session.mount('https://', HTTPAdapter(max_retries=retries, pool_maxsize=10))\n",
    "    return session\n",
    "\n",
    "# Get API key from environment variables\n",
    "FMP_API_KEY = os.getenv('FMP_API_KEY')\n",
    "if not FMP_API_KEY:\n",
    "    raise ValueError(\"FMP_API_KEY not found in environment variables\")"
   ]
  },
  {
   "cell_type": "markdown",
   "metadata": {},
   "source": [
    "## Step 2: Extract Data from FMP into Polars"
   ]
  },
  {
   "cell_type": "code",
   "execution_count": 4,
   "metadata": {
    "execution": {
     "iopub.execute_input": "2025-01-16T10:05:00.623022Z",
     "iopub.status.busy": "2025-01-16T10:05:00.622859Z",
     "iopub.status.idle": "2025-01-16T10:05:01.116021Z",
     "shell.execute_reply": "2025-01-16T10:05:01.115458Z"
    }
   },
   "outputs": [
    {
     "ename": "TypeError",
     "evalue": "fetch_data() missing 1 required positional argument: 'session'",
     "output_type": "error",
     "traceback": [
      "\u001b[0;31m---------------------------------------------------------------------------\u001b[0m",
      "\u001b[0;31mTypeError\u001b[0m                                 Traceback (most recent call last)",
      "Cell \u001b[0;32mIn[4], line 22\u001b[0m\n\u001b[1;32m     19\u001b[0m         \u001b[38;5;28;01mreturn\u001b[39;00m \u001b[38;5;28;01mNone\u001b[39;00m\n\u001b[1;32m     21\u001b[0m \u001b[38;5;66;03m# Execute fetching\u001b[39;00m\n\u001b[0;32m---> 22\u001b[0m data \u001b[38;5;241m=\u001b[39m \u001b[43mfetch_data\u001b[49m\u001b[43m(\u001b[49m\u001b[43mFMP_API_KEY\u001b[49m\u001b[43m)\u001b[49m\n\u001b[1;32m     24\u001b[0m \u001b[38;5;66;03m# Convert to Polars DataFrame if data exists\u001b[39;00m\n\u001b[1;32m     25\u001b[0m \u001b[38;5;28;01mif\u001b[39;00m data:\n",
      "\u001b[0;31mTypeError\u001b[0m: fetch_data() missing 1 required positional argument: 'session'"
     ]
    }
   ],
   "source": [
    "start_date = '2020-01-01'\n",
    "end_date = datetime.today().strftime('%Y-%m-%d')\n",
    "\n",
    "def fetch_data(api_key: str, session: requests.Session) -> Dict:\n",
    "    \"\"\"Fetch historical forex data for a single pair with pair identifier\"\"\"\n",
    "    url = f\"https://financialmodelingprep.com/api/v3/quotes/commodity\"\n",
    "    params = {\n",
    "        \"apikey\": api_key\n",
    "    }\n",
    "        \n",
    "    try:\n",
    "        response = session.get(url, params=params, timeout=10)\n",
    "        response.raise_for_status()\n",
    "        data = response.json()\n",
    "    except Exception as e:\n",
    "        return None\n",
    "\n",
    "# Execute fetching\n",
    "data = fetch_data(FMP_API_KEY)\n",
    "\n",
    "# Convert to Polars DataFrame if data exists\n",
    "if data:\n",
    "    df = pl.DataFrame(data)"
   ]
  },
  {
   "cell_type": "markdown",
   "metadata": {},
   "source": [
    "## Step 3: Clean Column Names"
   ]
  },
  {
   "cell_type": "code",
   "execution_count": 5,
   "metadata": {
    "execution": {
     "iopub.execute_input": "2025-01-16T10:05:01.118338Z",
     "iopub.status.busy": "2025-01-16T10:05:01.117985Z",
     "iopub.status.idle": "2025-01-16T10:05:01.122383Z",
     "shell.execute_reply": "2025-01-16T10:05:01.121932Z"
    }
   },
   "outputs": [],
   "source": [
    "df = make_clean_names(df)"
   ]
  },
  {
   "cell_type": "markdown",
   "metadata": {},
   "source": [
    "## Step 4: Write Polars to Parquet"
   ]
  },
  {
   "cell_type": "code",
   "execution_count": 6,
   "metadata": {
    "execution": {
     "iopub.execute_input": "2025-01-16T10:05:01.132134Z",
     "iopub.status.busy": "2025-01-16T10:05:01.131961Z",
     "iopub.status.idle": "2025-01-16T10:05:01.139648Z",
     "shell.execute_reply": "2025-01-16T10:05:01.139161Z"
    }
   },
   "outputs": [],
   "source": [
    "# Define the output directory\n",
    "output_dir = \"../../../data/finance\"\n",
    "\n",
    "# Write the processed DataFrame to a Parquet file\n",
    "df.write_parquet(f'{output_dir}/commodity_list.parquet')"
   ]
  },
  {
   "cell_type": "markdown",
   "metadata": {},
   "source": [
    "## Step 5: Read Parquet (Validate)"
   ]
  },
  {
   "cell_type": "code",
   "execution_count": 7,
   "metadata": {
    "execution": {
     "iopub.execute_input": "2025-01-16T10:05:01.141503Z",
     "iopub.status.busy": "2025-01-16T10:05:01.141342Z",
     "iopub.status.idle": "2025-01-16T10:05:01.146102Z",
     "shell.execute_reply": "2025-01-16T10:05:01.145628Z"
    }
   },
   "outputs": [
    {
     "data": {
      "text/html": [
       "<div><style>\n",
       ".dataframe > thead > tr,\n",
       ".dataframe > tbody > tr {\n",
       "  text-align: right;\n",
       "  white-space: pre-wrap;\n",
       "}\n",
       "</style>\n",
       "<small>shape: (5, 7)</small><table border=\"1\" class=\"dataframe\"><thead><tr><th>pair</th><th>date</th><th>open</th><th>low</th><th>high</th><th>close</th><th>volume</th></tr><tr><td>str</td><td>str</td><td>f64</td><td>f64</td><td>f64</td><td>f64</td><td>i64</td></tr></thead><tbody><tr><td>&quot;USDGBP&quot;</td><td>&quot;2025-01-17 00:00:00&quot;</td><td>0.81722</td><td>0.81653</td><td>0.8223</td><td>0.8203</td><td>41811</td></tr><tr><td>&quot;USDGBP&quot;</td><td>&quot;2025-01-16 00:00:00&quot;</td><td>0.81723</td><td>0.81567</td><td>0.82118</td><td>0.81748</td><td>68409</td></tr><tr><td>&quot;USDGBP&quot;</td><td>&quot;2025-01-15 00:00:00&quot;</td><td>0.81845</td><td>0.81281</td><td>0.82138</td><td>0.81678</td><td>69302</td></tr><tr><td>&quot;USDGBP&quot;</td><td>&quot;2025-01-14 00:00:00&quot;</td><td>0.81907</td><td>0.81649</td><td>0.82366</td><td>0.81865</td><td>74711</td></tr><tr><td>&quot;USDGBP&quot;</td><td>&quot;2025-01-13 00:00:00&quot;</td><td>0.81919</td><td>0.81865</td><td>0.82634</td><td>0.81943</td><td>0</td></tr></tbody></table></div>"
      ],
      "text/plain": [
       "shape: (5, 7)\n",
       "┌────────┬─────────────────────┬─────────┬─────────┬─────────┬─────────┬────────┐\n",
       "│ pair   ┆ date                ┆ open    ┆ low     ┆ high    ┆ close   ┆ volume │\n",
       "│ ---    ┆ ---                 ┆ ---     ┆ ---     ┆ ---     ┆ ---     ┆ ---    │\n",
       "│ str    ┆ str                 ┆ f64     ┆ f64     ┆ f64     ┆ f64     ┆ i64    │\n",
       "╞════════╪═════════════════════╪═════════╪═════════╪═════════╪═════════╪════════╡\n",
       "│ USDGBP ┆ 2025-01-17 00:00:00 ┆ 0.81722 ┆ 0.81653 ┆ 0.8223  ┆ 0.8203  ┆ 41811  │\n",
       "│ USDGBP ┆ 2025-01-16 00:00:00 ┆ 0.81723 ┆ 0.81567 ┆ 0.82118 ┆ 0.81748 ┆ 68409  │\n",
       "│ USDGBP ┆ 2025-01-15 00:00:00 ┆ 0.81845 ┆ 0.81281 ┆ 0.82138 ┆ 0.81678 ┆ 69302  │\n",
       "│ USDGBP ┆ 2025-01-14 00:00:00 ┆ 0.81907 ┆ 0.81649 ┆ 0.82366 ┆ 0.81865 ┆ 74711  │\n",
       "│ USDGBP ┆ 2025-01-13 00:00:00 ┆ 0.81919 ┆ 0.81865 ┆ 0.82634 ┆ 0.81943 ┆ 0      │\n",
       "└────────┴─────────────────────┴─────────┴─────────┴─────────┴─────────┴────────┘"
      ]
     },
     "execution_count": 7,
     "metadata": {},
     "output_type": "execute_result"
    }
   ],
   "source": [
    "# Validate the output by reading the Parquet file and displaying the first few rows\n",
    "pl.scan_parquet(f'{output_dir}/commodity_list.parquet').head().collect()"
   ]
  }
 ],
 "metadata": {
  "kernelspec": {
   "display_name": ".venv",
   "language": "python",
   "name": "python3"
  },
  "language_info": {
   "codemirror_mode": {
    "name": "ipython",
    "version": 3
   },
   "file_extension": ".py",
   "mimetype": "text/x-python",
   "name": "python",
   "nbconvert_exporter": "python",
   "pygments_lexer": "ipython3",
   "version": "3.12.3"
  }
 },
 "nbformat": 4,
 "nbformat_minor": 2
}
