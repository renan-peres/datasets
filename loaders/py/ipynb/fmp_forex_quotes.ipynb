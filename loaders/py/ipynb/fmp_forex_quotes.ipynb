{
 "cells": [
  {
   "cell_type": "markdown",
   "metadata": {},
   "source": [
    "## Step 1: Import Libraries"
   ]
  },
  {
   "cell_type": "code",
   "execution_count": 1,
   "metadata": {
    "execution": {
     "iopub.execute_input": "2025-01-22T10:05:08.224703Z",
     "iopub.status.busy": "2025-01-22T10:05:08.224281Z",
     "iopub.status.idle": "2025-01-22T10:05:08.289028Z",
     "shell.execute_reply": "2025-01-22T10:05:08.288532Z"
    }
   },
   "outputs": [],
   "source": [
    "%run ../make_clean_names.py"
   ]
  },
  {
   "cell_type": "code",
   "execution_count": 2,
   "metadata": {
    "execution": {
     "iopub.execute_input": "2025-01-22T10:05:08.291222Z",
     "iopub.status.busy": "2025-01-22T10:05:08.290838Z",
     "iopub.status.idle": "2025-01-22T10:05:08.357350Z",
     "shell.execute_reply": "2025-01-22T10:05:08.356769Z"
    }
   },
   "outputs": [],
   "source": [
    "import requests\n",
    "from requests.adapters import HTTPAdapter\n",
    "from requests.packages.urllib3.util.retry import Retry\n",
    "import logging\n",
    "import concurrent.futures\n",
    "from datetime import datetime\n",
    "from typing import Dict, List\n",
    "from concurrent.futures import ThreadPoolExecutor\n",
    "import polars as pl\n",
    "\n",
    "from dotenv import load_dotenv\n",
    "import os\n",
    "\n",
    "# Load environment variables\n",
    "load_dotenv()\n",
    "\n",
    "logging.basicConfig(level=logging.INFO)\n",
    "logger = logging.getLogger(__name__)\n",
    "\n",
    "def create_session():\n",
    "    session = requests.Session()\n",
    "    retries = Retry(\n",
    "        total=3,\n",
    "        backoff_factor=1,\n",
    "        status_forcelist=[429, 500, 502, 503, 504]\n",
    "    )\n",
    "    session.mount('https://', HTTPAdapter(max_retries=retries, pool_maxsize=10))\n",
    "    return session\n",
    "\n",
    "# Get API key from environment variables\n",
    "FMP_API_KEY = os.getenv('FMP_API_KEY')\n",
    "if not FMP_API_KEY:\n",
    "    raise ValueError(\"FMP_API_KEY not found in environment variables\")"
   ]
  },
  {
   "cell_type": "markdown",
   "metadata": {},
   "source": [
    "## Step 2: Import Forex Pairs"
   ]
  },
  {
   "cell_type": "code",
   "execution_count": 3,
   "metadata": {
    "execution": {
     "iopub.execute_input": "2025-01-22T10:05:08.359435Z",
     "iopub.status.busy": "2025-01-22T10:05:08.359247Z",
     "iopub.status.idle": "2025-01-22T10:05:08.364120Z",
     "shell.execute_reply": "2025-01-22T10:05:08.363535Z"
    }
   },
   "outputs": [
    {
     "name": "stdout",
     "output_type": "stream",
     "text": [
      "Loaded 4 pairs from ../fx_pairs.txt\n",
      "pairs: ['USDEUR', 'USDBRL', 'USDGBP', 'USDJPY']\n"
     ]
    }
   ],
   "source": [
    "def load_pairs(file_path: str) -> List[str]:\n",
    "    \"\"\"Load pairs from a text file\"\"\"\n",
    "    try:\n",
    "        with open(file_path, 'r') as f:\n",
    "            pairs = [line.strip() for line in f if line.strip()]\n",
    "        print(f\"Loaded {len(pairs)} pairs from {file_path}\")\n",
    "        return pairs\n",
    "    except Exception as e:\n",
    "        print(f\"Error loading pairs: {str(e)}\")\n",
    "        return []\n",
    "\n",
    "pairs_file = '../fx_pairs.txt'\n",
    "pairs = load_pairs(pairs_file)\n",
    "\n",
    "if pairs:\n",
    "    print(\"pairs:\", pairs)\n",
    "else:\n",
    "    print(\"No pairs loaded.\")"
   ]
  },
  {
   "cell_type": "markdown",
   "metadata": {},
   "source": [
    "## Step 2: Extract Data from FMP into Polars"
   ]
  },
  {
   "cell_type": "code",
   "execution_count": 4,
   "metadata": {
    "execution": {
     "iopub.execute_input": "2025-01-22T10:05:08.403293Z",
     "iopub.status.busy": "2025-01-22T10:05:08.402898Z",
     "iopub.status.idle": "2025-01-22T10:05:08.607395Z",
     "shell.execute_reply": "2025-01-22T10:05:08.606909Z"
    }
   },
   "outputs": [],
   "source": [
    "start_date = '2020-01-01'\n",
    "end_date = datetime.today().strftime('%Y-%m-%d')\n",
    "\n",
    "def fetch_forex_data(pair: str, api_key: str, session: requests.Session) -> Dict:\n",
    "    \"\"\"Fetch historical forex data for a single pair with pair identifier\"\"\"\n",
    "    url = f\"https://financialmodelingprep.com/api/v3/historical-chart/1day/{pair}\"\n",
    "    params = {\n",
    "        \"from\": start_date,\n",
    "        \"to\": end_date,\n",
    "        \"apikey\": api_key\n",
    "    }\n",
    "        \n",
    "    try:\n",
    "        response = session.get(url, params=params, timeout=10)\n",
    "        response.raise_for_status()\n",
    "        data = response.json()\n",
    "        # Add pair identifier to each record\n",
    "        return [{\"pair\": pair, **record} for record in data] if data else None\n",
    "    except Exception as e:\n",
    "        logger.error(f\"Error fetching {pair}: {str(e)}\")\n",
    "        return None\n",
    "\n",
    "def fetch_all_forex_data(pairs: List[str], api_key: str) -> List[Dict]:\n",
    "    \"\"\"Fetch and combine forex data for multiple pairs\"\"\"\n",
    "    session = create_session()\n",
    "    \n",
    "    with ThreadPoolExecutor(max_workers=10) as executor:\n",
    "        futures = [\n",
    "            executor.submit(fetch_forex_data, pair, api_key, session)\n",
    "            for pair in pairs\n",
    "        ]\n",
    "        results = [\n",
    "            f.result() for f in concurrent.futures.as_completed(futures)\n",
    "        ]\n",
    "    \n",
    "    # Flatten results list and remove None values\n",
    "    all_data = []\n",
    "    for result in results:\n",
    "        if result:\n",
    "            all_data.extend(result)\n",
    "    return all_data\n",
    "\n",
    "# Execute fetching\n",
    "fx_data = fetch_all_forex_data(pairs, FMP_API_KEY)\n",
    "\n",
    "# Convert to Polars DataFrame if data exists\n",
    "if fx_data:\n",
    "    df = pl.DataFrame(fx_data)"
   ]
  },
  {
   "cell_type": "markdown",
   "metadata": {},
   "source": [
    "## Step 3: Clean Column Names"
   ]
  },
  {
   "cell_type": "code",
   "execution_count": 5,
   "metadata": {
    "execution": {
     "iopub.execute_input": "2025-01-22T10:05:08.609533Z",
     "iopub.status.busy": "2025-01-22T10:05:08.609177Z",
     "iopub.status.idle": "2025-01-22T10:05:08.613830Z",
     "shell.execute_reply": "2025-01-22T10:05:08.613377Z"
    }
   },
   "outputs": [],
   "source": [
    "df = make_clean_names(df)"
   ]
  },
  {
   "cell_type": "code",
   "execution_count": 6,
   "metadata": {
    "execution": {
     "iopub.execute_input": "2025-01-22T10:05:08.615681Z",
     "iopub.status.busy": "2025-01-22T10:05:08.615354Z",
     "iopub.status.idle": "2025-01-22T10:05:08.621852Z",
     "shell.execute_reply": "2025-01-22T10:05:08.621318Z"
    }
   },
   "outputs": [
    {
     "data": {
      "text/html": [
       "<div><style>\n",
       ".dataframe > thead > tr,\n",
       ".dataframe > tbody > tr {\n",
       "  text-align: right;\n",
       "  white-space: pre-wrap;\n",
       "}\n",
       "</style>\n",
       "<small>shape: (5_375, 7)</small><table border=\"1\" class=\"dataframe\"><thead><tr><th>pair</th><th>date</th><th>open</th><th>low</th><th>high</th><th>close</th><th>volume</th></tr><tr><td>str</td><td>str</td><td>f64</td><td>f64</td><td>f64</td><td>f64</td><td>i64</td></tr></thead><tbody><tr><td>&quot;USDEUR&quot;</td><td>&quot;2025-01-22 00:00:00&quot;</td><td>0.9586</td><td>0.957</td><td>0.9617</td><td>0.95733</td><td>29237</td></tr><tr><td>&quot;USDEUR&quot;</td><td>&quot;2025-01-21 00:00:00&quot;</td><td>0.9601</td><td>0.9586</td><td>0.9667</td><td>0.959</td><td>90399</td></tr><tr><td>&quot;USDEUR&quot;</td><td>&quot;2025-01-20 00:00:00&quot;</td><td>0.9734</td><td>0.9587</td><td>0.9738</td><td>0.9599</td><td>0</td></tr><tr><td>&quot;USDEUR&quot;</td><td>&quot;2025-01-19 00:00:00&quot;</td><td>0.9728</td><td>0.9678</td><td>0.9739</td><td>0.9724</td><td>null</td></tr><tr><td>&quot;USDEUR&quot;</td><td>&quot;2025-01-17 00:00:00&quot;</td><td>0.9706</td><td>0.9685</td><td>0.9738</td><td>0.9735</td><td>76186</td></tr><tr><td>&hellip;</td><td>&hellip;</td><td>&hellip;</td><td>&hellip;</td><td>&hellip;</td><td>&hellip;</td><td>&hellip;</td></tr><tr><td>&quot;USDJPY&quot;</td><td>&quot;2020-01-31 00:00:00&quot;</td><td>108.939</td><td>108.311</td><td>109.135</td><td>108.351</td><td>285730</td></tr><tr><td>&quot;USDJPY&quot;</td><td>&quot;2020-01-30 00:00:00&quot;</td><td>109.012</td><td>108.583</td><td>109.063</td><td>108.939</td><td>322242</td></tr><tr><td>&quot;USDJPY&quot;</td><td>&quot;2020-01-29 00:00:00&quot;</td><td>109.146</td><td>108.975</td><td>109.267</td><td>109.012</td><td>199021</td></tr><tr><td>&quot;USDJPY&quot;</td><td>&quot;2020-01-28 00:00:00&quot;</td><td>108.892</td><td>108.757</td><td>109.204</td><td>109.146</td><td>208395</td></tr><tr><td>&quot;USDJPY&quot;</td><td>&quot;2020-01-27 00:00:00&quot;</td><td>108.894</td><td>108.729</td><td>109.139</td><td>108.892</td><td>282587</td></tr></tbody></table></div>"
      ],
      "text/plain": [
       "shape: (5_375, 7)\n",
       "┌────────┬─────────────────────┬─────────┬─────────┬─────────┬─────────┬────────┐\n",
       "│ pair   ┆ date                ┆ open    ┆ low     ┆ high    ┆ close   ┆ volume │\n",
       "│ ---    ┆ ---                 ┆ ---     ┆ ---     ┆ ---     ┆ ---     ┆ ---    │\n",
       "│ str    ┆ str                 ┆ f64     ┆ f64     ┆ f64     ┆ f64     ┆ i64    │\n",
       "╞════════╪═════════════════════╪═════════╪═════════╪═════════╪═════════╪════════╡\n",
       "│ USDEUR ┆ 2025-01-22 00:00:00 ┆ 0.9586  ┆ 0.957   ┆ 0.9617  ┆ 0.95733 ┆ 29237  │\n",
       "│ USDEUR ┆ 2025-01-21 00:00:00 ┆ 0.9601  ┆ 0.9586  ┆ 0.9667  ┆ 0.959   ┆ 90399  │\n",
       "│ USDEUR ┆ 2025-01-20 00:00:00 ┆ 0.9734  ┆ 0.9587  ┆ 0.9738  ┆ 0.9599  ┆ 0      │\n",
       "│ USDEUR ┆ 2025-01-19 00:00:00 ┆ 0.9728  ┆ 0.9678  ┆ 0.9739  ┆ 0.9724  ┆ null   │\n",
       "│ USDEUR ┆ 2025-01-17 00:00:00 ┆ 0.9706  ┆ 0.9685  ┆ 0.9738  ┆ 0.9735  ┆ 76186  │\n",
       "│ …      ┆ …                   ┆ …       ┆ …       ┆ …       ┆ …       ┆ …      │\n",
       "│ USDJPY ┆ 2020-01-31 00:00:00 ┆ 108.939 ┆ 108.311 ┆ 109.135 ┆ 108.351 ┆ 285730 │\n",
       "│ USDJPY ┆ 2020-01-30 00:00:00 ┆ 109.012 ┆ 108.583 ┆ 109.063 ┆ 108.939 ┆ 322242 │\n",
       "│ USDJPY ┆ 2020-01-29 00:00:00 ┆ 109.146 ┆ 108.975 ┆ 109.267 ┆ 109.012 ┆ 199021 │\n",
       "│ USDJPY ┆ 2020-01-28 00:00:00 ┆ 108.892 ┆ 108.757 ┆ 109.204 ┆ 109.146 ┆ 208395 │\n",
       "│ USDJPY ┆ 2020-01-27 00:00:00 ┆ 108.894 ┆ 108.729 ┆ 109.139 ┆ 108.892 ┆ 282587 │\n",
       "└────────┴─────────────────────┴─────────┴─────────┴─────────┴─────────┴────────┘"
      ]
     },
     "execution_count": 6,
     "metadata": {},
     "output_type": "execute_result"
    }
   ],
   "source": [
    "df"
   ]
  },
  {
   "cell_type": "markdown",
   "metadata": {},
   "source": [
    "## Step 4: Write Polars to Parquet"
   ]
  },
  {
   "cell_type": "code",
   "execution_count": 7,
   "metadata": {
    "execution": {
     "iopub.execute_input": "2025-01-22T10:05:08.623768Z",
     "iopub.status.busy": "2025-01-22T10:05:08.623441Z",
     "iopub.status.idle": "2025-01-22T10:05:08.630448Z",
     "shell.execute_reply": "2025-01-22T10:05:08.629978Z"
    }
   },
   "outputs": [],
   "source": [
    "# Define the output directory\n",
    "output_dir = \"../../../data/finance\"\n",
    "\n",
    "# Write the processed DataFrame to a Parquet file\n",
    "df.write_parquet(f'{output_dir}/historical_fx_quotes.parquet')"
   ]
  },
  {
   "cell_type": "markdown",
   "metadata": {},
   "source": [
    "## Step 5: Read Parquet (Validate)"
   ]
  },
  {
   "cell_type": "code",
   "execution_count": 8,
   "metadata": {
    "execution": {
     "iopub.execute_input": "2025-01-22T10:05:08.632385Z",
     "iopub.status.busy": "2025-01-22T10:05:08.632043Z",
     "iopub.status.idle": "2025-01-22T10:05:08.636955Z",
     "shell.execute_reply": "2025-01-22T10:05:08.636511Z"
    }
   },
   "outputs": [
    {
     "data": {
      "text/html": [
       "<div><style>\n",
       ".dataframe > thead > tr,\n",
       ".dataframe > tbody > tr {\n",
       "  text-align: right;\n",
       "  white-space: pre-wrap;\n",
       "}\n",
       "</style>\n",
       "<small>shape: (5, 7)</small><table border=\"1\" class=\"dataframe\"><thead><tr><th>pair</th><th>date</th><th>open</th><th>low</th><th>high</th><th>close</th><th>volume</th></tr><tr><td>str</td><td>str</td><td>f64</td><td>f64</td><td>f64</td><td>f64</td><td>i64</td></tr></thead><tbody><tr><td>&quot;USDEUR&quot;</td><td>&quot;2025-01-22 00:00:00&quot;</td><td>0.9586</td><td>0.957</td><td>0.9617</td><td>0.95733</td><td>29237</td></tr><tr><td>&quot;USDEUR&quot;</td><td>&quot;2025-01-21 00:00:00&quot;</td><td>0.9601</td><td>0.9586</td><td>0.9667</td><td>0.959</td><td>90399</td></tr><tr><td>&quot;USDEUR&quot;</td><td>&quot;2025-01-20 00:00:00&quot;</td><td>0.9734</td><td>0.9587</td><td>0.9738</td><td>0.9599</td><td>0</td></tr><tr><td>&quot;USDEUR&quot;</td><td>&quot;2025-01-19 00:00:00&quot;</td><td>0.9728</td><td>0.9678</td><td>0.9739</td><td>0.9724</td><td>null</td></tr><tr><td>&quot;USDEUR&quot;</td><td>&quot;2025-01-17 00:00:00&quot;</td><td>0.9706</td><td>0.9685</td><td>0.9738</td><td>0.9735</td><td>76186</td></tr></tbody></table></div>"
      ],
      "text/plain": [
       "shape: (5, 7)\n",
       "┌────────┬─────────────────────┬────────┬────────┬────────┬─────────┬────────┐\n",
       "│ pair   ┆ date                ┆ open   ┆ low    ┆ high   ┆ close   ┆ volume │\n",
       "│ ---    ┆ ---                 ┆ ---    ┆ ---    ┆ ---    ┆ ---     ┆ ---    │\n",
       "│ str    ┆ str                 ┆ f64    ┆ f64    ┆ f64    ┆ f64     ┆ i64    │\n",
       "╞════════╪═════════════════════╪════════╪════════╪════════╪═════════╪════════╡\n",
       "│ USDEUR ┆ 2025-01-22 00:00:00 ┆ 0.9586 ┆ 0.957  ┆ 0.9617 ┆ 0.95733 ┆ 29237  │\n",
       "│ USDEUR ┆ 2025-01-21 00:00:00 ┆ 0.9601 ┆ 0.9586 ┆ 0.9667 ┆ 0.959   ┆ 90399  │\n",
       "│ USDEUR ┆ 2025-01-20 00:00:00 ┆ 0.9734 ┆ 0.9587 ┆ 0.9738 ┆ 0.9599  ┆ 0      │\n",
       "│ USDEUR ┆ 2025-01-19 00:00:00 ┆ 0.9728 ┆ 0.9678 ┆ 0.9739 ┆ 0.9724  ┆ null   │\n",
       "│ USDEUR ┆ 2025-01-17 00:00:00 ┆ 0.9706 ┆ 0.9685 ┆ 0.9738 ┆ 0.9735  ┆ 76186  │\n",
       "└────────┴─────────────────────┴────────┴────────┴────────┴─────────┴────────┘"
      ]
     },
     "execution_count": 8,
     "metadata": {},
     "output_type": "execute_result"
    }
   ],
   "source": [
    "# Validate the output by reading the Parquet file and displaying the first few rows\n",
    "pl.scan_parquet(f'{output_dir}/historical_fx_quotes.parquet').head().collect()"
   ]
  }
 ],
 "metadata": {
  "kernelspec": {
   "display_name": ".venv",
   "language": "python",
   "name": "python3"
  },
  "language_info": {
   "codemirror_mode": {
    "name": "ipython",
    "version": 3
   },
   "file_extension": ".py",
   "mimetype": "text/x-python",
   "name": "python",
   "nbconvert_exporter": "python",
   "pygments_lexer": "ipython3",
   "version": "3.12.8"
  }
 },
 "nbformat": 4,
 "nbformat_minor": 2
}
