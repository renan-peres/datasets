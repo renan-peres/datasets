{
 "cells": [
  {
   "cell_type": "markdown",
   "metadata": {},
   "source": [
    "## Step 1: Import Libraries"
   ]
  },
  {
   "cell_type": "code",
   "execution_count": 1,
   "metadata": {
    "execution": {
<<<<<<< HEAD
     "iopub.execute_input": "2025-01-17T15:34:20.639394Z",
     "iopub.status.busy": "2025-01-17T15:34:20.638884Z",
     "iopub.status.idle": "2025-01-17T15:34:21.230653Z",
     "shell.execute_reply": "2025-01-17T15:34:21.230109Z"
=======
     "iopub.execute_input": "2025-01-17T22:59:18.745807Z",
     "iopub.status.busy": "2025-01-17T22:59:18.745666Z",
     "iopub.status.idle": "2025-01-17T22:59:19.788931Z",
     "shell.execute_reply": "2025-01-17T22:59:19.788266Z"
>>>>>>> e7e3c52 (AAPL Institutional Holders Upload)
    }
   },
   "outputs": [],
   "source": [
    "from datetime import datetime\n",
    "import polars as pl\n",
    "import pandas as pd\n",
    "import pyarrow as pa\n",
    "from typing import List\n",
    "import duckdb\n",
    "import yfinance as yf"
   ]
  },
  {
   "cell_type": "markdown",
   "metadata": {},
   "source": [
    "## Step 2: Import Symbols"
   ]
  },
  {
   "cell_type": "code",
   "execution_count": 2,
   "metadata": {
    "execution": {
<<<<<<< HEAD
     "iopub.execute_input": "2025-01-17T15:34:21.233051Z",
     "iopub.status.busy": "2025-01-17T15:34:21.232630Z",
     "iopub.status.idle": "2025-01-17T15:34:21.236986Z",
     "shell.execute_reply": "2025-01-17T15:34:21.236468Z"
=======
     "iopub.execute_input": "2025-01-17T22:59:19.791611Z",
     "iopub.status.busy": "2025-01-17T22:59:19.790942Z",
     "iopub.status.idle": "2025-01-17T22:59:19.795581Z",
     "shell.execute_reply": "2025-01-17T22:59:19.794996Z"
>>>>>>> e7e3c52 (AAPL Institutional Holders Upload)
    }
   },
   "outputs": [
    {
     "name": "stdout",
     "output_type": "stream",
     "text": [
      "Loaded 60 symbols from ../tickers.txt\n",
      "Symbols: ['AAPL', 'MSFT', 'GOOGL', 'GOOG', 'META', 'NVDA', 'AVGO', 'ORCL', 'CRM', 'ACN', 'ADBE', 'CSCO', 'INTC', 'NFLX', 'DIS', 'CMCSA', 'VZ', 'T', 'AMZN', 'TSLA', 'HD', 'MCD', 'NKE', 'SBUX', 'TGT', 'LOW', 'WMT', 'PG', 'KO', 'PEP', 'COST', 'BRK-B', 'JPM', 'BAC', 'WFC', 'GS', 'MS', 'BLK', 'UNH', 'JNJ', 'PFE', 'ABBV', 'MRK', 'LLY', 'CAT', 'BA', 'HON', 'UPS', 'RTX', 'GE', 'XOM', 'CVX', 'COP', 'SLB', 'LIN', 'APD', 'ECL', 'PLD', 'AMT', 'CCI']\n"
     ]
    }
   ],
   "source": [
    "def load_symbols(file_path: str) -> List[str]:\n",
    "    \"\"\"Load symbols from a text file\"\"\"\n",
    "    try:\n",
    "        with open(file_path, 'r') as f:\n",
    "            symbols = [line.strip() for line in f if line.strip()]\n",
    "        print(f\"Loaded {len(symbols)} symbols from {file_path}\")\n",
    "        return symbols\n",
    "    except Exception as e:\n",
    "        print(f\"Error loading symbols: {str(e)}\")\n",
    "        return []\n",
    "\n",
    "symbols_file = '../tickers.txt'\n",
    "symbols = load_symbols(symbols_file)\n",
    "\n",
    "if symbols:\n",
    "    print(\"Symbols:\", symbols)\n",
    "else:\n",
    "    print(\"No symbols loaded.\")"
   ]
  },
  {
   "cell_type": "markdown",
   "metadata": {},
   "source": [
    "## Step 3: Extract Data from Yfinance into Pandas"
   ]
  },
  {
   "cell_type": "code",
   "execution_count": 3,
   "metadata": {
    "execution": {
<<<<<<< HEAD
     "iopub.execute_input": "2025-01-17T15:34:21.274540Z",
     "iopub.status.busy": "2025-01-17T15:34:21.274319Z",
     "iopub.status.idle": "2025-01-17T15:34:25.985663Z",
     "shell.execute_reply": "2025-01-17T15:34:25.985096Z"
=======
     "iopub.execute_input": "2025-01-17T22:59:19.822102Z",
     "iopub.status.busy": "2025-01-17T22:59:19.821333Z",
     "iopub.status.idle": "2025-01-17T22:59:23.754546Z",
     "shell.execute_reply": "2025-01-17T22:59:23.753873Z"
>>>>>>> e7e3c52 (AAPL Institutional Holders Upload)
    }
   },
   "outputs": [
    {
     "name": "stderr",
     "output_type": "stream",
     "text": [
      "\r",
      "[                       0%                       ]"
     ]
    },
    {
     "name": "stderr",
     "output_type": "stream",
     "text": [
      "\r",
      "[*                      3%                       ]  2 of 60 completed"
     ]
    },
    {
     "name": "stderr",
     "output_type": "stream",
     "text": [
      "\r",
      "[**                     5%                       ]  3 of 60 completed"
     ]
    },
    {
     "name": "stderr",
     "output_type": "stream",
     "text": [
      "\r",
      "[***                    7%                       ]  4 of 60 completed"
     ]
    },
    {
     "name": "stderr",
     "output_type": "stream",
     "text": [
      "\r",
      "[***                    7%                       ]  4 of 60 completed"
     ]
    },
    {
     "name": "stderr",
     "output_type": "stream",
     "text": [
      "\r",
      "[*****                 10%                       ]  6 of 60 completed"
     ]
    },
    {
     "name": "stderr",
     "output_type": "stream",
     "text": [
      "\r",
      "[******                12%                       ]  7 of 60 completed"
     ]
    },
    {
     "name": "stderr",
     "output_type": "stream",
     "text": [
      "\r",
<<<<<<< HEAD
      "[******                13%                       ]  8 of 60 completed"
     ]
    },
    {
     "name": "stderr",
     "output_type": "stream",
     "text": [
      "\r",
      "[*******               15%                       ]  9 of 60 completed"
=======
      "[******                13%                       ]  8 of 60 completed\r",
      "[******                13%                       ]  8 of 60 completed\r",
      "[******                13%                       ]  8 of 60 completed"
>>>>>>> e7e3c52 (AAPL Institutional Holders Upload)
     ]
    },
    {
     "name": "stderr",
     "output_type": "stream",
     "text": [
      "\r",
      "[********              17%                       ]  10 of 60 completed"
     ]
    },
    {
     "name": "stderr",
     "output_type": "stream",
     "text": [
      "\r",
      "[**********            20%                       ]  12 of 60 completed"
     ]
    },
    {
     "name": "stderr",
     "output_type": "stream",
     "text": [
      "\r",
<<<<<<< HEAD
      "[**********            20%                       ]  12 of 60 completed"
     ]
    },
    {
     "name": "stderr",
     "output_type": "stream",
     "text": [
      "\r",
=======
      "[***********           22%                       ]  13 of 60 completed\r",
>>>>>>> e7e3c52 (AAPL Institutional Holders Upload)
      "[***********           22%                       ]  13 of 60 completed"
     ]
    },
    {
     "name": "stderr",
     "output_type": "stream",
     "text": [
      "\r",
<<<<<<< HEAD
      "[***********           23%                       ]  14 of 60 completed"
     ]
    },
    {
     "name": "stderr",
     "output_type": "stream",
     "text": [
      "\r",
=======
>>>>>>> e7e3c52 (AAPL Institutional Holders Upload)
      "[************          25%                       ]  15 of 60 completed"
     ]
    },
    {
     "name": "stderr",
     "output_type": "stream",
     "text": [
      "\r",
      "[*************         27%                       ]  16 of 60 completed"
     ]
    },
    {
     "name": "stderr",
     "output_type": "stream",
     "text": [
      "\r",
      "[*************         28%                       ]  17 of 60 completed"
     ]
    },
    {
     "name": "stderr",
     "output_type": "stream",
     "text": [
      "\r",
      "[**************        30%                       ]  18 of 60 completed"
     ]
    },
    {
     "name": "stderr",
     "output_type": "stream",
     "text": [
      "\r",
      "[***************       32%                       ]  19 of 60 completed"
     ]
    },
    {
     "name": "stderr",
     "output_type": "stream",
     "text": [
      "\r",
      "[****************      33%                       ]  20 of 60 completed"
     ]
    },
    {
     "name": "stderr",
     "output_type": "stream",
     "text": [
      "\r",
      "[*****************     35%                       ]  21 of 60 completed"
     ]
    },
    {
     "name": "stderr",
     "output_type": "stream",
     "text": [
      "\r",
      "[*****************     35%                       ]  21 of 60 completed"
     ]
    },
    {
     "name": "stderr",
     "output_type": "stream",
     "text": [
      "\r",
      "[******************    38%                       ]  23 of 60 completed\r",
      "[******************    38%                       ]  23 of 60 completed"
     ]
    },
    {
     "name": "stderr",
     "output_type": "stream",
     "text": [
      "\r",
      "[********************  42%                       ]  25 of 60 completed"
     ]
    },
    {
     "name": "stderr",
     "output_type": "stream",
     "text": [
      "\r",
      "[********************* 43%                       ]  26 of 60 completed"
     ]
    },
    {
     "name": "stderr",
     "output_type": "stream",
     "text": [
      "\r",
      "[**********************45%                       ]  27 of 60 completed"
     ]
    },
    {
     "name": "stderr",
     "output_type": "stream",
     "text": [
      "\r",
      "[**********************47%                       ]  28 of 60 completed"
     ]
    },
    {
     "name": "stderr",
     "output_type": "stream",
     "text": [
      "\r",
      "[**********************48%                       ]  29 of 60 completed"
     ]
    },
    {
     "name": "stderr",
     "output_type": "stream",
     "text": [
      "\r",
      "[**********************50%                       ]  30 of 60 completed"
     ]
    },
    {
     "name": "stderr",
     "output_type": "stream",
     "text": [
      "\r",
      "[**********************52%                       ]  31 of 60 completed"
     ]
    },
    {
     "name": "stderr",
     "output_type": "stream",
     "text": [
      "\r",
      "[**********************53%                       ]  32 of 60 completed"
     ]
    },
    {
     "name": "stderr",
     "output_type": "stream",
     "text": [
      "\r",
      "[**********************55%*                      ]  33 of 60 completed"
     ]
    },
    {
     "name": "stderr",
     "output_type": "stream",
     "text": [
      "\r",
      "[**********************57%**                     ]  34 of 60 completed"
     ]
    },
    {
     "name": "stderr",
     "output_type": "stream",
     "text": [
      "\r",
<<<<<<< HEAD
=======
      "[**********************58%***                    ]  35 of 60 completed\r",
>>>>>>> e7e3c52 (AAPL Institutional Holders Upload)
      "[**********************58%***                    ]  35 of 60 completed"
     ]
    },
    {
     "name": "stderr",
     "output_type": "stream",
     "text": [
      "\r",
<<<<<<< HEAD
      "[**********************60%****                   ]  36 of 60 completed"
     ]
    },
    {
     "name": "stderr",
     "output_type": "stream",
     "text": [
      "\r",
=======
>>>>>>> e7e3c52 (AAPL Institutional Holders Upload)
      "[**********************62%*****                  ]  37 of 60 completed"
     ]
    },
    {
     "name": "stderr",
     "output_type": "stream",
     "text": [
      "\r",
      "[**********************63%*****                  ]  38 of 60 completed"
     ]
    },
    {
     "name": "stderr",
     "output_type": "stream",
     "text": [
      "\r",
      "[**********************65%******                 ]  39 of 60 completed"
     ]
    },
    {
     "name": "stderr",
     "output_type": "stream",
     "text": [
      "\r",
      "[**********************67%*******                ]  40 of 60 completed"
     ]
    },
    {
     "name": "stderr",
     "output_type": "stream",
     "text": [
      "\r",
      "[**********************68%********               ]  41 of 60 completed"
     ]
    },
    {
     "name": "stderr",
     "output_type": "stream",
     "text": [
      "\r",
      "[**********************70%*********              ]  42 of 60 completed"
     ]
    },
    {
     "name": "stderr",
     "output_type": "stream",
     "text": [
      "\r",
      "[**********************72%**********             ]  43 of 60 completed"
     ]
    },
    {
     "name": "stderr",
     "output_type": "stream",
     "text": [
      "\r",
      "[**********************73%**********             ]  44 of 60 completed"
     ]
    },
    {
     "name": "stderr",
     "output_type": "stream",
     "text": [
      "\r",
      "[**********************75%***********            ]  45 of 60 completed"
     ]
    },
    {
     "name": "stderr",
     "output_type": "stream",
     "text": [
      "\r",
      "[**********************77%************           ]  46 of 60 completed"
     ]
    },
    {
     "name": "stderr",
     "output_type": "stream",
     "text": [
      "\r",
      "[**********************78%************           ]  47 of 60 completed"
     ]
    },
    {
     "name": "stderr",
     "output_type": "stream",
     "text": [
      "\r",
      "[**********************80%*************          ]  48 of 60 completed"
     ]
    },
    {
     "name": "stderr",
     "output_type": "stream",
     "text": [
      "\r",
      "[**********************82%**************         ]  49 of 60 completed"
     ]
    },
    {
     "name": "stderr",
     "output_type": "stream",
     "text": [
      "\r",
      "[**********************83%***************        ]  50 of 60 completed"
     ]
    },
    {
     "name": "stderr",
     "output_type": "stream",
     "text": [
      "\r",
      "[**********************85%****************       ]  51 of 60 completed"
     ]
    },
    {
     "name": "stderr",
     "output_type": "stream",
     "text": [
      "\r",
      "[**********************87%*****************      ]  52 of 60 completed"
     ]
    },
    {
     "name": "stderr",
     "output_type": "stream",
     "text": [
      "\r",
      "[**********************88%*****************      ]  53 of 60 completed"
     ]
    },
    {
     "name": "stderr",
     "output_type": "stream",
     "text": [
      "\r",
      "[**********************90%******************     ]  54 of 60 completed"
     ]
    },
    {
     "name": "stderr",
     "output_type": "stream",
     "text": [
      "\r",
      "[**********************92%*******************    ]  55 of 60 completed\r",
      "[**********************92%*******************    ]  55 of 60 completed"
     ]
    },
    {
     "name": "stderr",
     "output_type": "stream",
     "text": [
      "\r",
      "[**********************95%*********************  ]  57 of 60 completed"
     ]
    },
    {
     "name": "stderr",
     "output_type": "stream",
     "text": [
      "\r",
      "[**********************97%********************** ]  58 of 60 completed"
     ]
    },
    {
     "name": "stderr",
     "output_type": "stream",
     "text": [
      "\r",
      "[**********************98%********************** ]  59 of 60 completed"
     ]
    },
    {
     "name": "stderr",
     "output_type": "stream",
     "text": [
      "\r",
      "[*********************100%***********************]  60 of 60 completed"
     ]
    },
    {
     "name": "stderr",
     "output_type": "stream",
     "text": [
      "\n"
     ]
    },
    {
     "data": {
      "text/html": [
       "<div>\n",
       "<style scoped>\n",
       "    .dataframe tbody tr th:only-of-type {\n",
       "        vertical-align: middle;\n",
       "    }\n",
       "\n",
       "    .dataframe tbody tr th {\n",
       "        vertical-align: top;\n",
       "    }\n",
       "\n",
       "    .dataframe thead th {\n",
       "        text-align: right;\n",
       "    }\n",
       "</style>\n",
       "<table border=\"1\" class=\"dataframe\">\n",
       "  <thead>\n",
       "    <tr style=\"text-align: right;\">\n",
       "      <th>Metric</th>\n",
       "      <th>Date</th>\n",
       "      <th>Symbol</th>\n",
       "      <th>Close</th>\n",
       "      <th>High</th>\n",
       "      <th>Low</th>\n",
       "      <th>Open</th>\n",
       "      <th>Volume</th>\n",
       "    </tr>\n",
       "  </thead>\n",
       "  <tbody>\n",
       "    <tr>\n",
       "      <th>0</th>\n",
       "      <td>2020-01-02</td>\n",
       "      <td>AAPL</td>\n",
       "      <td>72.796013</td>\n",
       "      <td>72.856606</td>\n",
       "      <td>71.545380</td>\n",
       "      <td>71.799866</td>\n",
       "      <td>135480400.0</td>\n",
       "    </tr>\n",
       "    <tr>\n",
       "      <th>1</th>\n",
       "      <td>2020-01-02</td>\n",
       "      <td>ABBV</td>\n",
       "      <td>71.589775</td>\n",
       "      <td>71.605761</td>\n",
       "      <td>70.758358</td>\n",
       "      <td>71.214038</td>\n",
       "      <td>5639200.0</td>\n",
       "    </tr>\n",
       "    <tr>\n",
       "      <th>2</th>\n",
       "      <td>2020-01-02</td>\n",
       "      <td>ACN</td>\n",
       "      <td>195.263596</td>\n",
       "      <td>196.908218</td>\n",
       "      <td>194.018521</td>\n",
       "      <td>195.923308</td>\n",
       "      <td>2431100.0</td>\n",
       "    </tr>\n",
       "    <tr>\n",
       "      <th>3</th>\n",
       "      <td>2020-01-02</td>\n",
       "      <td>ADBE</td>\n",
       "      <td>334.429993</td>\n",
       "      <td>334.480011</td>\n",
       "      <td>329.170013</td>\n",
       "      <td>330.000000</td>\n",
       "      <td>1990100.0</td>\n",
       "    </tr>\n",
       "    <tr>\n",
       "      <th>4</th>\n",
       "      <td>2020-01-02</td>\n",
       "      <td>AMT</td>\n",
<<<<<<< HEAD
       "      <td>200.433929</td>\n",
       "      <td>202.758431</td>\n",
       "      <td>200.004110</td>\n",
       "      <td>201.468987</td>\n",
=======
       "      <td>200.433960</td>\n",
       "      <td>202.758462</td>\n",
       "      <td>200.004141</td>\n",
       "      <td>201.469017</td>\n",
>>>>>>> e7e3c52 (AAPL Institutional Holders Upload)
       "      <td>1426000.0</td>\n",
       "    </tr>\n",
       "    <tr>\n",
       "      <th>...</th>\n",
       "      <td>...</td>\n",
       "      <td>...</td>\n",
       "      <td>...</td>\n",
       "      <td>...</td>\n",
       "      <td>...</td>\n",
       "      <td>...</td>\n",
       "      <td>...</td>\n",
       "    </tr>\n",
       "    <tr>\n",
       "      <th>76075</th>\n",
       "      <td>2025-01-16</td>\n",
       "      <td>UPS</td>\n",
       "      <td>129.940002</td>\n",
       "      <td>130.660004</td>\n",
       "      <td>128.770004</td>\n",
       "      <td>129.509995</td>\n",
       "      <td>5471300.0</td>\n",
       "    </tr>\n",
       "    <tr>\n",
       "      <th>76076</th>\n",
       "      <td>2025-01-16</td>\n",
       "      <td>VZ</td>\n",
       "      <td>38.340000</td>\n",
       "      <td>38.340000</td>\n",
       "      <td>37.939999</td>\n",
       "      <td>38.130001</td>\n",
       "      <td>24678300.0</td>\n",
       "    </tr>\n",
       "    <tr>\n",
       "      <th>76077</th>\n",
       "      <td>2025-01-16</td>\n",
       "      <td>WFC</td>\n",
       "      <td>75.949997</td>\n",
       "      <td>76.440002</td>\n",
       "      <td>74.690002</td>\n",
       "      <td>75.849998</td>\n",
       "      <td>22897900.0</td>\n",
       "    </tr>\n",
       "    <tr>\n",
       "      <th>76078</th>\n",
       "      <td>2025-01-16</td>\n",
       "      <td>WMT</td>\n",
       "      <td>91.300003</td>\n",
       "      <td>91.720001</td>\n",
       "      <td>90.120003</td>\n",
       "      <td>91.500000</td>\n",
       "      <td>13267700.0</td>\n",
       "    </tr>\n",
       "    <tr>\n",
       "      <th>76079</th>\n",
       "      <td>2025-01-16</td>\n",
       "      <td>XOM</td>\n",
       "      <td>111.320000</td>\n",
       "      <td>111.690002</td>\n",
       "      <td>110.550003</td>\n",
       "      <td>111.190002</td>\n",
       "      <td>10366600.0</td>\n",
       "    </tr>\n",
       "  </tbody>\n",
       "</table>\n",
       "<p>76080 rows × 7 columns</p>\n",
       "</div>"
      ],
      "text/plain": [
       "Metric       Date Symbol       Close        High         Low        Open  \\\n",
<<<<<<< HEAD
       "0      2020-01-02   AAPL   72.796013   72.856606   71.545380   71.799866   \n",
       "1      2020-01-02   ABBV   71.589775   71.605761   70.758358   71.214038   \n",
       "2      2020-01-02    ACN  195.263596  196.908218  194.018521  195.923308   \n",
       "3      2020-01-02   ADBE  334.429993  334.480011  329.170013  330.000000   \n",
       "4      2020-01-02    AMT  200.433929  202.758431  200.004110  201.468987   \n",
=======
       "0      2020-01-02   AAPL   72.796005   72.856598   71.545372   71.799858   \n",
       "1      2020-01-02   ABBV   71.589775   71.605761   70.758358   71.214038   \n",
       "2      2020-01-02    ACN  195.263580  196.908203  194.018505  195.923292   \n",
       "3      2020-01-02   ADBE  334.429993  334.480011  329.170013  330.000000   \n",
       "4      2020-01-02    AMT  200.433960  202.758462  200.004141  201.469017   \n",
>>>>>>> e7e3c52 (AAPL Institutional Holders Upload)
       "...           ...    ...         ...         ...         ...         ...   \n",
       "76075  2025-01-16    UPS  129.940002  130.660004  128.770004  129.509995   \n",
       "76076  2025-01-16     VZ   38.340000   38.340000   37.939999   38.130001   \n",
       "76077  2025-01-16    WFC   75.949997   76.440002   74.690002   75.849998   \n",
       "76078  2025-01-16    WMT   91.300003   91.720001   90.120003   91.500000   \n",
       "76079  2025-01-16    XOM  111.320000  111.690002  110.550003  111.190002   \n",
       "\n",
       "Metric       Volume  \n",
       "0       135480400.0  \n",
       "1         5639200.0  \n",
       "2         2431100.0  \n",
       "3         1990100.0  \n",
       "4         1426000.0  \n",
       "...             ...  \n",
       "76075     5471300.0  \n",
       "76076    24678300.0  \n",
       "76077    22897900.0  \n",
       "76078    13267700.0  \n",
       "76079    10366600.0  \n",
       "\n",
       "[76080 rows x 7 columns]"
      ]
     },
     "metadata": {},
     "output_type": "display_data"
    }
   ],
   "source": [
    "start_date = '2020-01-01'\n",
    "end_date = datetime.today().strftime('%Y-%m-%d')\n",
    "\n",
    "# Download prices from yfinance\n",
    "prices = yf.download(symbols, start=start_date, end=end_date, group_by='ticker')\n",
    "\n",
    "# Check if the data has a MultiIndex (due to multiple symbols)\n",
    "if isinstance(prices.columns, pd.MultiIndex):\n",
    "    # Flatten the MultiIndex columns\n",
    "    prices.columns = ['_'.join(filter(None, map(str, col))) for col in prices.columns]\n",
    "\n",
    "# Reset index and melt the DataFrame to include a \"symbol\" column\n",
    "prices = prices.copy()  # Avoid fragmentation issues\n",
    "prices.reset_index(inplace=True)\n",
    "prices = prices.melt(id_vars=[\"Date\"], var_name=\"Metric\", value_name=\"Value\")\n",
    "prices[[\"Symbol\", \"Metric\"]] = prices[\"Metric\"].str.extract(r'([^_]+)_(.+)')\n",
    "prices = prices.pivot(index=[\"Date\", \"Symbol\"], columns=\"Metric\", values=\"Value\").reset_index()\n",
    "\n",
    "display(prices)"
   ]
  },
  {
   "cell_type": "markdown",
   "metadata": {},
   "source": [
    "## Step 4: Convert Pandas to Polars"
   ]
  },
  {
   "cell_type": "code",
   "execution_count": 4,
   "metadata": {
    "execution": {
<<<<<<< HEAD
     "iopub.execute_input": "2025-01-17T15:34:25.987636Z",
     "iopub.status.busy": "2025-01-17T15:34:25.987269Z",
     "iopub.status.idle": "2025-01-17T15:34:26.064512Z",
     "shell.execute_reply": "2025-01-17T15:34:26.063935Z"
=======
     "iopub.execute_input": "2025-01-17T22:59:23.756329Z",
     "iopub.status.busy": "2025-01-17T22:59:23.756159Z",
     "iopub.status.idle": "2025-01-17T22:59:23.797030Z",
     "shell.execute_reply": "2025-01-17T22:59:23.796011Z"
>>>>>>> e7e3c52 (AAPL Institutional Holders Upload)
    }
   },
   "outputs": [
    {
     "name": "stdout",
     "output_type": "stream",
     "text": [
      "shape: (76_080, 7)\n",
      "┌─────────────────────┬────────┬────────────┬────────────┬────────────┬────────────┬────────────┐\n",
      "│ Date                ┆ Symbol ┆ Close      ┆ High       ┆ Low        ┆ Open       ┆ Volume     │\n",
      "│ ---                 ┆ ---    ┆ ---        ┆ ---        ┆ ---        ┆ ---        ┆ ---        │\n",
      "│ datetime[ns]        ┆ str    ┆ f64        ┆ f64        ┆ f64        ┆ f64        ┆ f64        │\n",
      "╞═════════════════════╪════════╪════════════╪════════════╪════════════╪════════════╪════════════╡\n",
<<<<<<< HEAD
      "│ 2020-01-02 00:00:00 ┆ AAPL   ┆ 72.796013  ┆ 72.856606  ┆ 71.54538   ┆ 71.799866  ┆ 1.354804e8 │\n",
      "│ 2020-01-02 00:00:00 ┆ ABBV   ┆ 71.589775  ┆ 71.605761  ┆ 70.758358  ┆ 71.214038  ┆ 5.6392e6   │\n",
      "│ 2020-01-02 00:00:00 ┆ ACN    ┆ 195.263596 ┆ 196.908218 ┆ 194.018521 ┆ 195.923308 ┆ 2.4311e6   │\n",
      "│ 2020-01-02 00:00:00 ┆ ADBE   ┆ 334.429993 ┆ 334.480011 ┆ 329.170013 ┆ 330.0      ┆ 1.9901e6   │\n",
      "│ 2020-01-02 00:00:00 ┆ AMT    ┆ 200.433929 ┆ 202.758431 ┆ 200.00411  ┆ 201.468987 ┆ 1.426e6    │\n",
=======
      "│ 2020-01-02 00:00:00 ┆ AAPL   ┆ 72.796005  ┆ 72.856598  ┆ 71.545372  ┆ 71.799858  ┆ 1.354804e8 │\n",
      "│ 2020-01-02 00:00:00 ┆ ABBV   ┆ 71.589775  ┆ 71.605761  ┆ 70.758358  ┆ 71.214038  ┆ 5.6392e6   │\n",
      "│ 2020-01-02 00:00:00 ┆ ACN    ┆ 195.26358  ┆ 196.908203 ┆ 194.018505 ┆ 195.923292 ┆ 2.4311e6   │\n",
      "│ 2020-01-02 00:00:00 ┆ ADBE   ┆ 334.429993 ┆ 334.480011 ┆ 329.170013 ┆ 330.0      ┆ 1.9901e6   │\n",
      "│ 2020-01-02 00:00:00 ┆ AMT    ┆ 200.43396  ┆ 202.758462 ┆ 200.004141 ┆ 201.469017 ┆ 1.426e6    │\n",
>>>>>>> e7e3c52 (AAPL Institutional Holders Upload)
      "│ …                   ┆ …      ┆ …          ┆ …          ┆ …          ┆ …          ┆ …          │\n",
      "│ 2025-01-16 00:00:00 ┆ UPS    ┆ 129.940002 ┆ 130.660004 ┆ 128.770004 ┆ 129.509995 ┆ 5.4713e6   │\n",
      "│ 2025-01-16 00:00:00 ┆ VZ     ┆ 38.34      ┆ 38.34      ┆ 37.939999  ┆ 38.130001  ┆ 2.46783e7  │\n",
      "│ 2025-01-16 00:00:00 ┆ WFC    ┆ 75.949997  ┆ 76.440002  ┆ 74.690002  ┆ 75.849998  ┆ 2.28979e7  │\n",
      "│ 2025-01-16 00:00:00 ┆ WMT    ┆ 91.300003  ┆ 91.720001  ┆ 90.120003  ┆ 91.5       ┆ 1.32677e7  │\n",
      "│ 2025-01-16 00:00:00 ┆ XOM    ┆ 111.32     ┆ 111.690002 ┆ 110.550003 ┆ 111.190002 ┆ 1.03666e7  │\n",
      "└─────────────────────┴────────┴────────────┴────────────┴────────────┴────────────┴────────────┘\n"
     ]
    }
   ],
   "source": [
    "# Convert to Polars DataFrame\n",
    "df = pl.from_pandas(prices)\n",
    "\n",
    "# View the Polars DataFrame\n",
    "print(df)"
   ]
  },
  {
   "cell_type": "markdown",
   "metadata": {},
   "source": [
    "## Step 5: Write Polars to Parquet"
   ]
  },
  {
   "cell_type": "code",
   "execution_count": 5,
   "metadata": {
    "execution": {
<<<<<<< HEAD
     "iopub.execute_input": "2025-01-17T15:34:26.066767Z",
     "iopub.status.busy": "2025-01-17T15:34:26.066371Z",
     "iopub.status.idle": "2025-01-17T15:34:26.098671Z",
     "shell.execute_reply": "2025-01-17T15:34:26.098245Z"
=======
     "iopub.execute_input": "2025-01-17T22:59:23.798923Z",
     "iopub.status.busy": "2025-01-17T22:59:23.798594Z",
     "iopub.status.idle": "2025-01-17T22:59:23.823356Z",
     "shell.execute_reply": "2025-01-17T22:59:23.822502Z"
>>>>>>> e7e3c52 (AAPL Institutional Holders Upload)
    }
   },
   "outputs": [],
   "source": [
    "output_dir = \"../../../data/finance\"\n",
    "\n",
    "# Write DataFrame to Parquet\n",
    "df.write_parquet(f'{output_dir}/historical_stock_quotes_{start_date}_to_{end_date}.parquet')"
   ]
  },
  {
   "cell_type": "markdown",
   "metadata": {},
   "source": [
    "## Step 6: Read Parquet (Validate)"
   ]
  },
  {
   "cell_type": "code",
   "execution_count": 6,
   "metadata": {
    "execution": {
<<<<<<< HEAD
     "iopub.execute_input": "2025-01-17T15:34:26.100395Z",
     "iopub.status.busy": "2025-01-17T15:34:26.100208Z",
     "iopub.status.idle": "2025-01-17T15:34:26.109429Z",
     "shell.execute_reply": "2025-01-17T15:34:26.108883Z"
=======
     "iopub.execute_input": "2025-01-17T22:59:23.825507Z",
     "iopub.status.busy": "2025-01-17T22:59:23.825215Z",
     "iopub.status.idle": "2025-01-17T22:59:23.832857Z",
     "shell.execute_reply": "2025-01-17T22:59:23.832368Z"
>>>>>>> e7e3c52 (AAPL Institutional Holders Upload)
    }
   },
   "outputs": [
    {
     "data": {
      "text/html": [
       "<div><style>\n",
       ".dataframe > thead > tr,\n",
       ".dataframe > tbody > tr {\n",
       "  text-align: right;\n",
       "  white-space: pre-wrap;\n",
       "}\n",
       "</style>\n",
<<<<<<< HEAD
       "<small>shape: (5, 7)</small><table border=\"1\" class=\"dataframe\"><thead><tr><th>Date</th><th>Symbol</th><th>Close</th><th>High</th><th>Low</th><th>Open</th><th>Volume</th></tr><tr><td>datetime[ns]</td><td>str</td><td>f64</td><td>f64</td><td>f64</td><td>f64</td><td>f64</td></tr></thead><tbody><tr><td>2020-01-02 00:00:00</td><td>&quot;AAPL&quot;</td><td>72.796013</td><td>72.856606</td><td>71.54538</td><td>71.799866</td><td>1.354804e8</td></tr><tr><td>2020-01-02 00:00:00</td><td>&quot;ABBV&quot;</td><td>71.589775</td><td>71.605761</td><td>70.758358</td><td>71.214038</td><td>5.6392e6</td></tr><tr><td>2020-01-02 00:00:00</td><td>&quot;ACN&quot;</td><td>195.263596</td><td>196.908218</td><td>194.018521</td><td>195.923308</td><td>2.4311e6</td></tr><tr><td>2020-01-02 00:00:00</td><td>&quot;ADBE&quot;</td><td>334.429993</td><td>334.480011</td><td>329.170013</td><td>330.0</td><td>1.9901e6</td></tr><tr><td>2020-01-02 00:00:00</td><td>&quot;AMT&quot;</td><td>200.433929</td><td>202.758431</td><td>200.00411</td><td>201.468987</td><td>1.426e6</td></tr></tbody></table></div>"
=======
       "<small>shape: (5, 7)</small><table border=\"1\" class=\"dataframe\"><thead><tr><th>Date</th><th>Symbol</th><th>Close</th><th>High</th><th>Low</th><th>Open</th><th>Volume</th></tr><tr><td>datetime[ns]</td><td>str</td><td>f64</td><td>f64</td><td>f64</td><td>f64</td><td>f64</td></tr></thead><tbody><tr><td>2020-01-02 00:00:00</td><td>&quot;AAPL&quot;</td><td>72.796005</td><td>72.856598</td><td>71.545372</td><td>71.799858</td><td>1.354804e8</td></tr><tr><td>2020-01-02 00:00:00</td><td>&quot;ABBV&quot;</td><td>71.589775</td><td>71.605761</td><td>70.758358</td><td>71.214038</td><td>5.6392e6</td></tr><tr><td>2020-01-02 00:00:00</td><td>&quot;ACN&quot;</td><td>195.26358</td><td>196.908203</td><td>194.018505</td><td>195.923292</td><td>2.4311e6</td></tr><tr><td>2020-01-02 00:00:00</td><td>&quot;ADBE&quot;</td><td>334.429993</td><td>334.480011</td><td>329.170013</td><td>330.0</td><td>1.9901e6</td></tr><tr><td>2020-01-02 00:00:00</td><td>&quot;AMT&quot;</td><td>200.43396</td><td>202.758462</td><td>200.004141</td><td>201.469017</td><td>1.426e6</td></tr></tbody></table></div>"
>>>>>>> e7e3c52 (AAPL Institutional Holders Upload)
      ],
      "text/plain": [
       "shape: (5, 7)\n",
       "┌─────────────────────┬────────┬────────────┬────────────┬────────────┬────────────┬────────────┐\n",
       "│ Date                ┆ Symbol ┆ Close      ┆ High       ┆ Low        ┆ Open       ┆ Volume     │\n",
       "│ ---                 ┆ ---    ┆ ---        ┆ ---        ┆ ---        ┆ ---        ┆ ---        │\n",
       "│ datetime[ns]        ┆ str    ┆ f64        ┆ f64        ┆ f64        ┆ f64        ┆ f64        │\n",
       "╞═════════════════════╪════════╪════════════╪════════════╪════════════╪════════════╪════════════╡\n",
<<<<<<< HEAD
       "│ 2020-01-02 00:00:00 ┆ AAPL   ┆ 72.796013  ┆ 72.856606  ┆ 71.54538   ┆ 71.799866  ┆ 1.354804e8 │\n",
       "│ 2020-01-02 00:00:00 ┆ ABBV   ┆ 71.589775  ┆ 71.605761  ┆ 70.758358  ┆ 71.214038  ┆ 5.6392e6   │\n",
       "│ 2020-01-02 00:00:00 ┆ ACN    ┆ 195.263596 ┆ 196.908218 ┆ 194.018521 ┆ 195.923308 ┆ 2.4311e6   │\n",
       "│ 2020-01-02 00:00:00 ┆ ADBE   ┆ 334.429993 ┆ 334.480011 ┆ 329.170013 ┆ 330.0      ┆ 1.9901e6   │\n",
       "│ 2020-01-02 00:00:00 ┆ AMT    ┆ 200.433929 ┆ 202.758431 ┆ 200.00411  ┆ 201.468987 ┆ 1.426e6    │\n",
=======
       "│ 2020-01-02 00:00:00 ┆ AAPL   ┆ 72.796005  ┆ 72.856598  ┆ 71.545372  ┆ 71.799858  ┆ 1.354804e8 │\n",
       "│ 2020-01-02 00:00:00 ┆ ABBV   ┆ 71.589775  ┆ 71.605761  ┆ 70.758358  ┆ 71.214038  ┆ 5.6392e6   │\n",
       "│ 2020-01-02 00:00:00 ┆ ACN    ┆ 195.26358  ┆ 196.908203 ┆ 194.018505 ┆ 195.923292 ┆ 2.4311e6   │\n",
       "│ 2020-01-02 00:00:00 ┆ ADBE   ┆ 334.429993 ┆ 334.480011 ┆ 329.170013 ┆ 330.0      ┆ 1.9901e6   │\n",
       "│ 2020-01-02 00:00:00 ┆ AMT    ┆ 200.43396  ┆ 202.758462 ┆ 200.004141 ┆ 201.469017 ┆ 1.426e6    │\n",
>>>>>>> e7e3c52 (AAPL Institutional Holders Upload)
       "└─────────────────────┴────────┴────────────┴────────────┴────────────┴────────────┴────────────┘"
      ]
     },
     "execution_count": 6,
     "metadata": {},
     "output_type": "execute_result"
    }
   ],
   "source": [
    "pl.scan_parquet(f'{output_dir}/historical_stock_quotes_{start_date}_to_{end_date}.parquet').head().collect()"
   ]
  }
 ],
 "metadata": {
  "kernelspec": {
   "display_name": ".venv",
   "language": "python",
   "name": "python3"
  },
  "language_info": {
   "codemirror_mode": {
    "name": "ipython",
    "version": 3
   },
   "file_extension": ".py",
   "mimetype": "text/x-python",
   "name": "python",
   "nbconvert_exporter": "python",
   "pygments_lexer": "ipython3",
   "version": "3.12.8"
  }
 },
 "nbformat": 4,
 "nbformat_minor": 2
}
