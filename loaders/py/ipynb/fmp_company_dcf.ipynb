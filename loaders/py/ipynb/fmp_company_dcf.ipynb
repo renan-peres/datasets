{
 "cells": [
  {
   "cell_type": "markdown",
   "metadata": {},
   "source": [
    "## Step 1: Import Libraries"
   ]
  },
  {
   "cell_type": "code",
   "execution_count": 1,
   "metadata": {
    "execution": {
<<<<<<< HEAD
     "iopub.execute_input": "2025-01-17T15:33:43.575575Z",
     "iopub.status.busy": "2025-01-17T15:33:43.575402Z",
     "iopub.status.idle": "2025-01-17T15:33:43.638274Z",
     "shell.execute_reply": "2025-01-17T15:33:43.637745Z"
=======
     "iopub.execute_input": "2025-01-17T22:58:17.779493Z",
     "iopub.status.busy": "2025-01-17T22:58:17.779345Z",
     "iopub.status.idle": "2025-01-17T22:58:17.821205Z",
     "shell.execute_reply": "2025-01-17T22:58:17.820564Z"
>>>>>>> e7e3c52 (AAPL Institutional Holders Upload)
    }
   },
   "outputs": [],
   "source": [
    "%run ../make_clean_names.py"
   ]
  },
  {
   "cell_type": "code",
   "execution_count": 2,
   "metadata": {
    "execution": {
<<<<<<< HEAD
     "iopub.execute_input": "2025-01-17T15:33:43.640319Z",
     "iopub.status.busy": "2025-01-17T15:33:43.639946Z",
     "iopub.status.idle": "2025-01-17T15:33:43.705309Z",
     "shell.execute_reply": "2025-01-17T15:33:43.704799Z"
=======
     "iopub.execute_input": "2025-01-17T22:58:17.823264Z",
     "iopub.status.busy": "2025-01-17T22:58:17.823109Z",
     "iopub.status.idle": "2025-01-17T22:58:17.869966Z",
     "shell.execute_reply": "2025-01-17T22:58:17.869139Z"
>>>>>>> e7e3c52 (AAPL Institutional Holders Upload)
    }
   },
   "outputs": [],
   "source": [
    "import concurrent.futures\n",
    "from concurrent.futures import ThreadPoolExecutor\n",
    "import requests\n",
    "from requests.adapters import HTTPAdapter\n",
    "from urllib3.util.retry import Retry\n",
    "import logging\n",
    "\n",
    "import polars as pl\n",
    "from datetime import datetime, timedelta\n",
    "from dotenv import load_dotenv\n",
    "import os\n",
    "\n",
    "# Load environment variables\n",
    "load_dotenv()\n",
    "\n",
    "logging.basicConfig(level=logging.INFO)\n",
    "logger = logging.getLogger(__name__)\n",
    "\n",
    "def create_session():\n",
    "    session = requests.Session()\n",
    "    retries = Retry(\n",
    "        total=3,\n",
    "        backoff_factor=1,\n",
    "        status_forcelist=[429, 500, 502, 503, 504]\n",
    "    )\n",
    "    session.mount('https://', HTTPAdapter(max_retries=retries, pool_maxsize=10))\n",
    "    return session\n",
    "\n",
    "# Get API key from environment variables\n",
    "FMP_API_KEY = os.getenv('FMP_API_KEY')\n",
    "if not FMP_API_KEY:\n",
    "    raise ValueError(\"FMP_API_KEY not found in environment variables\")"
   ]
  },
  {
   "cell_type": "markdown",
   "metadata": {},
   "source": [
    "## Step 2: Import Symbols"
   ]
  },
  {
   "cell_type": "code",
   "execution_count": 3,
   "metadata": {
    "execution": {
<<<<<<< HEAD
     "iopub.execute_input": "2025-01-17T15:33:43.707192Z",
     "iopub.status.busy": "2025-01-17T15:33:43.706834Z",
     "iopub.status.idle": "2025-01-17T15:33:43.711573Z",
     "shell.execute_reply": "2025-01-17T15:33:43.710967Z"
=======
     "iopub.execute_input": "2025-01-17T22:58:17.872124Z",
     "iopub.status.busy": "2025-01-17T22:58:17.871967Z",
     "iopub.status.idle": "2025-01-17T22:58:17.876656Z",
     "shell.execute_reply": "2025-01-17T22:58:17.876206Z"
>>>>>>> e7e3c52 (AAPL Institutional Holders Upload)
    }
   },
   "outputs": [
    {
     "name": "stdout",
     "output_type": "stream",
     "text": [
      "Loaded 60 symbols from ../tickers.txt\n",
      "Symbols: ['AAPL', 'MSFT', 'GOOGL', 'GOOG', 'META', 'NVDA', 'AVGO', 'ORCL', 'CRM', 'ACN', 'ADBE', 'CSCO', 'INTC', 'NFLX', 'DIS', 'CMCSA', 'VZ', 'T', 'AMZN', 'TSLA', 'HD', 'MCD', 'NKE', 'SBUX', 'TGT', 'LOW', 'WMT', 'PG', 'KO', 'PEP', 'COST', 'BRK-B', 'JPM', 'BAC', 'WFC', 'GS', 'MS', 'BLK', 'UNH', 'JNJ', 'PFE', 'ABBV', 'MRK', 'LLY', 'CAT', 'BA', 'HON', 'UPS', 'RTX', 'GE', 'XOM', 'CVX', 'COP', 'SLB', 'LIN', 'APD', 'ECL', 'PLD', 'AMT', 'CCI']\n"
     ]
    }
   ],
   "source": [
    "def load_symbols(file_path: str) -> List[str]:\n",
    "    \"\"\"Load symbols from a text file\"\"\"\n",
    "    try:\n",
    "        with open(file_path, 'r') as f:\n",
    "            symbols = [line.strip() for line in f if line.strip()]\n",
    "        print(f\"Loaded {len(symbols)} symbols from {file_path}\")\n",
    "        return symbols\n",
    "    except Exception as e:\n",
    "        print(f\"Error loading symbols: {str(e)}\")\n",
    "        return []\n",
    "\n",
    "symbols_file = '../tickers.txt'\n",
    "symbols = load_symbols(symbols_file)\n",
    "\n",
    "if symbols:\n",
    "    print(\"Symbols:\", symbols)\n",
    "else:\n",
    "    print(\"No symbols loaded.\")"
   ]
  },
  {
   "cell_type": "markdown",
   "metadata": {},
   "source": [
    "## Step 3: Extract Data from FMP into Polars"
   ]
  },
  {
   "cell_type": "code",
   "execution_count": 4,
   "metadata": {
    "execution": {
<<<<<<< HEAD
     "iopub.execute_input": "2025-01-17T15:33:43.747383Z",
     "iopub.status.busy": "2025-01-17T15:33:43.746976Z",
     "iopub.status.idle": "2025-01-17T15:33:44.025416Z",
     "shell.execute_reply": "2025-01-17T15:33:44.024918Z"
=======
     "iopub.execute_input": "2025-01-17T22:58:17.901542Z",
     "iopub.status.busy": "2025-01-17T22:58:17.900500Z",
     "iopub.status.idle": "2025-01-17T22:58:18.224547Z",
     "shell.execute_reply": "2025-01-17T22:58:18.223753Z"
>>>>>>> e7e3c52 (AAPL Institutional Holders Upload)
    }
   },
   "outputs": [],
   "source": [
    "def fetch_dcf(symbol: str, api_key: str, session: requests.Session) -> Dict:\n",
    "    \"\"\"Fetch company profile data from FMP API\"\"\"\n",
    "    url = f\"https://financialmodelingprep.com/api/v3/discounted-cash-flow/{symbol}\"\n",
    "    params = {\"apikey\": api_key}\n",
    "    \n",
    "    try:\n",
    "        response = session.get(url, params=params, timeout=10)\n",
    "        response.raise_for_status()\n",
    "        return response.json()\n",
    "    except Exception as e:\n",
    "        logger.error(f\"Error fetching {symbol}: {str(e)}\")\n",
    "        return None\n",
    "\n",
    "def fetch_all_dcf(symbols: List[str], api_key: str) -> List[Dict]:\n",
    "    session = create_session()\n",
    "    \n",
    "    with ThreadPoolExecutor(max_workers=10) as executor:\n",
    "        futures = [\n",
    "            executor.submit(fetch_dcf, symbol, api_key, session)\n",
    "            for symbol in symbols\n",
    "        ]\n",
    "        results = [\n",
    "            f.result() for f in concurrent.futures.as_completed(futures)\n",
    "        ]\n",
    "    \n",
    "    return [r[0] for r in results if r and isinstance(r, list)]\n",
    "\n",
    "# Execute fetching\n",
    "company_profiles = fetch_all_dcf(symbols, FMP_API_KEY)\n",
    "\n",
    "# Convert to Polars DataFrame more efficiently\n",
    "if company_profiles:\n",
    "    df_dcf = pl.DataFrame(company_profiles)"
   ]
  },
  {
   "cell_type": "code",
   "execution_count": 5,
   "metadata": {
    "execution": {
<<<<<<< HEAD
     "iopub.execute_input": "2025-01-17T15:33:44.027561Z",
     "iopub.status.busy": "2025-01-17T15:33:44.027208Z",
     "iopub.status.idle": "2025-01-17T15:33:44.570993Z",
     "shell.execute_reply": "2025-01-17T15:33:44.570542Z"
=======
     "iopub.execute_input": "2025-01-17T22:58:18.226486Z",
     "iopub.status.busy": "2025-01-17T22:58:18.226346Z",
     "iopub.status.idle": "2025-01-17T22:58:18.781089Z",
     "shell.execute_reply": "2025-01-17T22:58:18.780337Z"
>>>>>>> e7e3c52 (AAPL Institutional Holders Upload)
    }
   },
   "outputs": [],
   "source": [
    "def fetch_dcf_advanced(symbol: str, api_key: str, session: requests.Session) -> Dict:\n",
    "    \"\"\"Fetch company profile data from FMP API\"\"\"\n",
    "    url = f\"https://financialmodelingprep.com/api/v4/advanced_discounted_cash_flow\"\n",
    "    params = {\n",
    "        \"symbol\": symbol,\n",
    "        \"apikey\": api_key}\n",
    "    \n",
    "    try:\n",
    "        response = session.get(url, params=params, timeout=10)\n",
    "        response.raise_for_status()\n",
    "        return response.json()\n",
    "    except Exception as e:\n",
    "        logger.error(f\"Error fetching {symbol}: {str(e)}\")\n",
    "        return None\n",
    "\n",
    "def fetch_all_dcf_advanced(symbols: List[str], api_key: str) -> List[Dict]:\n",
    "    session = create_session()\n",
    "    \n",
    "    with ThreadPoolExecutor(max_workers=10) as executor:\n",
    "        futures = [\n",
    "            executor.submit(fetch_dcf_advanced, symbol, api_key, session)\n",
    "            for symbol in symbols\n",
    "        ]\n",
    "        results = [\n",
    "            f.result() for f in concurrent.futures.as_completed(futures)\n",
    "        ]\n",
    "    \n",
    "    return [r[0] for r in results if r and isinstance(r, list)]\n",
    "\n",
    "# Execute fetching\n",
    "company_profiles = fetch_all_dcf_advanced(symbols, FMP_API_KEY)\n",
    "\n",
    "# Convert to Polars DataFrame more efficiently\n",
    "if company_profiles:\n",
    "    df_dcf_advanced = pl.DataFrame(company_profiles)"
   ]
  },
  {
   "cell_type": "markdown",
   "metadata": {},
   "source": [
    "## Step 4: Clean Column Names"
   ]
  },
  {
   "cell_type": "code",
   "execution_count": 6,
   "metadata": {
    "execution": {
<<<<<<< HEAD
     "iopub.execute_input": "2025-01-17T15:33:44.573163Z",
     "iopub.status.busy": "2025-01-17T15:33:44.572811Z",
     "iopub.status.idle": "2025-01-17T15:33:44.577828Z",
     "shell.execute_reply": "2025-01-17T15:33:44.577392Z"
=======
     "iopub.execute_input": "2025-01-17T22:58:18.783232Z",
     "iopub.status.busy": "2025-01-17T22:58:18.783092Z",
     "iopub.status.idle": "2025-01-17T22:58:18.799818Z",
     "shell.execute_reply": "2025-01-17T22:58:18.799313Z"
>>>>>>> e7e3c52 (AAPL Institutional Holders Upload)
    }
   },
   "outputs": [],
   "source": [
    "df = df_dcf.join(df_dcf_advanced, on=\"symbol\", how=\"left\")"
   ]
  },
  {
   "cell_type": "code",
   "execution_count": 7,
   "metadata": {
    "execution": {
<<<<<<< HEAD
     "iopub.execute_input": "2025-01-17T15:33:44.579904Z",
     "iopub.status.busy": "2025-01-17T15:33:44.579445Z",
     "iopub.status.idle": "2025-01-17T15:33:44.583500Z",
     "shell.execute_reply": "2025-01-17T15:33:44.583053Z"
=======
     "iopub.execute_input": "2025-01-17T22:58:18.801478Z",
     "iopub.status.busy": "2025-01-17T22:58:18.801155Z",
     "iopub.status.idle": "2025-01-17T22:58:18.804995Z",
     "shell.execute_reply": "2025-01-17T22:58:18.804298Z"
>>>>>>> e7e3c52 (AAPL Institutional Holders Upload)
    }
   },
   "outputs": [],
   "source": [
    "df = make_clean_names(df)"
   ]
  },
  {
   "cell_type": "markdown",
   "metadata": {},
   "source": [
    "## Step 5: Write Polars to Parquet"
   ]
  },
  {
   "cell_type": "code",
   "execution_count": 8,
   "metadata": {
    "execution": {
<<<<<<< HEAD
     "iopub.execute_input": "2025-01-17T15:33:44.585156Z",
     "iopub.status.busy": "2025-01-17T15:33:44.584961Z",
     "iopub.status.idle": "2025-01-17T15:33:44.590027Z",
     "shell.execute_reply": "2025-01-17T15:33:44.589512Z"
=======
     "iopub.execute_input": "2025-01-17T22:58:18.806646Z",
     "iopub.status.busy": "2025-01-17T22:58:18.806421Z",
     "iopub.status.idle": "2025-01-17T22:58:18.811706Z",
     "shell.execute_reply": "2025-01-17T22:58:18.811243Z"
>>>>>>> e7e3c52 (AAPL Institutional Holders Upload)
    }
   },
   "outputs": [],
   "source": [
    "output_dir = \"../../../data/finance\"\n",
    "\n",
    "# Write DataFrame to Parquet\n",
    "df.write_parquet(f'{output_dir}/company_dfc_advanced.parquet')"
   ]
  },
  {
   "cell_type": "markdown",
   "metadata": {},
   "source": [
    "## Step 6: Read Parquet (Validate)"
   ]
  },
  {
   "cell_type": "code",
   "execution_count": 9,
   "metadata": {
    "execution": {
<<<<<<< HEAD
     "iopub.execute_input": "2025-01-17T15:33:44.591819Z",
     "iopub.status.busy": "2025-01-17T15:33:44.591476Z",
     "iopub.status.idle": "2025-01-17T15:33:44.600379Z",
     "shell.execute_reply": "2025-01-17T15:33:44.599851Z"
=======
     "iopub.execute_input": "2025-01-17T22:58:18.813356Z",
     "iopub.status.busy": "2025-01-17T22:58:18.813031Z",
     "iopub.status.idle": "2025-01-17T22:58:18.820880Z",
     "shell.execute_reply": "2025-01-17T22:58:18.820411Z"
>>>>>>> e7e3c52 (AAPL Institutional Holders Upload)
    }
   },
   "outputs": [
    {
     "data": {
      "text/html": [
       "<div><style>\n",
       ".dataframe > thead > tr,\n",
       ".dataframe > tbody > tr {\n",
       "  text-align: right;\n",
       "  white-space: pre-wrap;\n",
       "}\n",
       "</style>\n",
<<<<<<< HEAD
       "<small>shape: (5, 50)</small><table border=\"1\" class=\"dataframe\"><thead><tr><th>symbol</th><th>date</th><th>dcf</th><th>stock_price</th><th>year</th><th>revenue</th><th>revenue_percentage</th><th>ebitda</th><th>ebitda_percentage</th><th>ebit</th><th>ebit_percentage</th><th>depreciation</th><th>depreciation_percentage</th><th>total_cash</th><th>total_cash_percentage</th><th>receivables</th><th>receivables_percentage</th><th>inventories</th><th>inventories_percentage</th><th>payable</th><th>payable_percentage</th><th>capital_expenditure</th><th>capital_expenditure_percentage</th><th>price</th><th>beta</th><th>diluted_shares_outstanding</th><th>costof_debt</th><th>tax_rate</th><th>after_tax_cost_of_debt</th><th>risk_free_rate</th><th>market_risk_premium</th><th>cost_of_equity</th><th>total_debt</th><th>total_equity</th><th>total_capital</th><th>debt_weighting</th><th>equity_weighting</th><th>wacc</th><th>tax_rate_cash</th><th>ebiat</th><th>ufcf</th><th>sum_pv_ufcf</th><th>long_term_growth_rate</th><th>terminal_value</th><th>present_terminal_value</th><th>enterprise_value</th><th>net_debt</th><th>equity_value</th><th>equity_value_per_share</th><th>free_cash_flowt1</th></tr><tr><td>str</td><td>str</td><td>f64</td><td>f64</td><td>str</td><td>i64</td><td>f64</td><td>i64</td><td>f64</td><td>i64</td><td>f64</td><td>i64</td><td>f64</td><td>i64</td><td>f64</td><td>i64</td><td>f64</td><td>f64</td><td>f64</td><td>i64</td><td>f64</td><td>i64</td><td>f64</td><td>f64</td><td>f64</td><td>i64</td><td>f64</td><td>f64</td><td>f64</td><td>f64</td><td>f64</td><td>f64</td><td>i64</td><td>i64</td><td>i64</td><td>f64</td><td>f64</td><td>f64</td><td>i64</td><td>i64</td><td>i64</td><td>i64</td><td>f64</td><td>i64</td><td>i64</td><td>i64</td><td>i64</td><td>i64</td><td>f64</td><td>i64</td></tr></thead><tbody><tr><td>&quot;META&quot;</td><td>&quot;2025-01-17&quot;</td><td>450.74105</td><td>611.3</td><td>&quot;2028&quot;</td><td>313052449124</td><td>18.34</td><td>138686926174</td><td>44.3</td><td>114523353776</td><td>36.58</td><td>24163572398</td><td>7.72</td><td>171414206869</td><td>54.76</td><td>38872999762</td><td>12.42</td><td>0.0</td><td>0.0</td><td>9274005045</td><td>2.96</td><td>-63771558124</td><td>-20.37</td><td>608.59</td><td>1.215</td><td>2629000000</td><td>4.39</td><td>17.56</td><td>3.62</td><td>4.39</td><td>4.72</td><td>10.12</td><td>37234000000</td><td>1599969965000</td><td>1637203965000</td><td>2.27</td><td>97.73</td><td>9.98</td><td>18291174</td><td>93575688865</td><td>49381215107</td><td>131963285508</td><td>4.0</td><td>859362049635</td><td>534175915935</td><td>666139201444</td><td>-4628000000</td><td>670767201444</td><td>255.14</td><td>51356463711</td></tr><tr><td>&quot;ACN&quot;</td><td>&quot;2025-01-17&quot;</td><td>302.382701</td><td>350.56</td><td>&quot;2029&quot;</td><td>105950291348</td><td>10.3</td><td>17797130243</td><td>16.8</td><td>14775615976</td><td>13.95</td><td>3021514267</td><td>2.85</td><td>14837440631</td><td>14.0</td><td>20385110820</td><td>19.24</td><td>0.47804</td><td>4.5100e-10</td><td>4198685139</td><td>3.96</td><td>-1119905369</td><td>-1.06</td><td>354.38</td><td>1.245</td><td>635940044</td><td>4.39</td><td>25.1</td><td>3.29</td><td>4.39</td><td>4.72</td><td>10.27</td><td>4120549000</td><td>225364432792</td><td>229484981792</td><td>1.8</td><td>98.2</td><td>10.14</td><td>24724559</td><td>11122410139</td><td>11512479260</td><td>36324669430</td><td>3.0</td><td>166043909876</td><td>102440116062</td><td>138764785492</td><td>-883920000</td><td>139648705492</td><td>219.59</td><td>11857853638</td></tr><tr><td>&quot;MSFT&quot;</td><td>&quot;2025-01-17&quot;</td><td>359.266415</td><td>424.58</td><td>&quot;2029&quot;</td><td>482612279172</td><td>14.51</td><td>243343429409</td><td>50.42</td><td>206653972432</td><td>42.82</td><td>36689456977</td><td>7.6</td><td>298328812038</td><td>61.82</td><td>109589014184</td><td>22.71</td><td>6.2437e9</td><td>1.29</td><td>43316742017</td><td>8.98</td><td>-64207442622</td><td>-13.3</td><td>429.47</td><td>0.904</td><td>7469000000</td><td>4.39</td><td>18.23</td><td>3.59</td><td>4.39</td><td>4.72</td><td>8.66</td><td>97852000000</td><td>3207711430000</td><td>3305563430000</td><td>2.96</td><td>97.04</td><td>8.51</td><td>16131522</td><td>173317543200</td><td>136610813702</td><td>408298255075</td><td>4.0</td><td>3150501452636</td><td>2094299184705</td><td>2502597439780</td><td>79537000000</td><td>2423060439780</td><td>324.42</td><td>142075246250</td></tr><tr><td>&quot;GOOG&quot;</td><td>&quot;2025-01-17&quot;</td><td>194.724093</td><td>192.91</td><td>&quot;2028&quot;</td><td>706109768075</td><td>18.1</td><td>240199708049</td><td>34.02</td><td>200287429124</td><td>28.36</td><td>39912278924</td><td>5.65</td><td>394484923413</td><td>55.87</td><td>111949781484</td><td>15.85</td><td>3.4094e9</td><td>0.48284</td><td>18488261260</td><td>2.62</td><td>-81828362399</td><td>-11.59</td><td>194.73</td><td>1.034</td><td>12722000000</td><td>4.39</td><td>13.91</td><td>3.78</td><td>4.39</td><td>4.72</td><td>9.27</td><td>28504000000</td><td>2477397042600</td><td>2505901042600</td><td>1.14</td><td>98.86</td><td>9.21</td><td>15122195</td><td>169999573836</td><td>113239806868</td><td>312058704022</td><td>4.0</td><td>2261571456407</td><td>1455960821538</td><td>1768019525561</td><td>4456000000</td><td>1763563525561</td><td>138.62</td><td>117769399143</td></tr><tr><td>&quot;GOOGL&quot;</td><td>&quot;2025-01-17&quot;</td><td>194.724093</td><td>192.91</td><td>&quot;2028&quot;</td><td>706109768075</td><td>18.1</td><td>240199708049</td><td>34.02</td><td>200287429124</td><td>28.36</td><td>39912278924</td><td>5.65</td><td>394484923413</td><td>55.87</td><td>111949781484</td><td>15.85</td><td>3.4094e9</td><td>0.48284</td><td>18488261260</td><td>2.62</td><td>-81828362399</td><td>-11.59</td><td>194.73</td><td>1.034</td><td>12722000000</td><td>4.39</td><td>13.91</td><td>3.78</td><td>4.39</td><td>4.72</td><td>9.27</td><td>28504000000</td><td>2477397042600</td><td>2505901042600</td><td>1.14</td><td>98.86</td><td>9.21</td><td>15122195</td><td>169999573836</td><td>113239806868</td><td>312058704022</td><td>4.0</td><td>2261571456407</td><td>1455960821538</td><td>1768019525561</td><td>4456000000</td><td>1763563525561</td><td>138.62</td><td>117769399143</td></tr></tbody></table></div>"
=======
       "<small>shape: (5, 50)</small><table border=\"1\" class=\"dataframe\"><thead><tr><th>symbol</th><th>date</th><th>dcf</th><th>stock_price</th><th>year</th><th>revenue</th><th>revenue_percentage</th><th>ebitda</th><th>ebitda_percentage</th><th>ebit</th><th>ebit_percentage</th><th>depreciation</th><th>depreciation_percentage</th><th>total_cash</th><th>total_cash_percentage</th><th>receivables</th><th>receivables_percentage</th><th>inventories</th><th>inventories_percentage</th><th>payable</th><th>payable_percentage</th><th>capital_expenditure</th><th>capital_expenditure_percentage</th><th>price</th><th>beta</th><th>diluted_shares_outstanding</th><th>costof_debt</th><th>tax_rate</th><th>after_tax_cost_of_debt</th><th>risk_free_rate</th><th>market_risk_premium</th><th>cost_of_equity</th><th>total_debt</th><th>total_equity</th><th>total_capital</th><th>debt_weighting</th><th>equity_weighting</th><th>wacc</th><th>tax_rate_cash</th><th>ebiat</th><th>ufcf</th><th>sum_pv_ufcf</th><th>long_term_growth_rate</th><th>terminal_value</th><th>present_terminal_value</th><th>enterprise_value</th><th>net_debt</th><th>equity_value</th><th>equity_value_per_share</th><th>free_cash_flowt1</th></tr><tr><td>str</td><td>str</td><td>f64</td><td>f64</td><td>str</td><td>i64</td><td>f64</td><td>i64</td><td>f64</td><td>i64</td><td>f64</td><td>i64</td><td>f64</td><td>i64</td><td>f64</td><td>i64</td><td>f64</td><td>f64</td><td>f64</td><td>i64</td><td>f64</td><td>i64</td><td>f64</td><td>f64</td><td>f64</td><td>i64</td><td>f64</td><td>f64</td><td>f64</td><td>f64</td><td>f64</td><td>f64</td><td>i64</td><td>i64</td><td>i64</td><td>f64</td><td>f64</td><td>f64</td><td>i64</td><td>i64</td><td>i64</td><td>i64</td><td>f64</td><td>i64</td><td>i64</td><td>i64</td><td>i64</td><td>i64</td><td>f64</td><td>i64</td></tr></thead><tbody><tr><td>&quot;CRM&quot;</td><td>&quot;2025-01-17&quot;</td><td>188.725201</td><td>327.75</td><td>&quot;2029&quot;</td><td>85367530420</td><td>19.62</td><td>15315079034</td><td>17.94</td><td>5131274276</td><td>6.01</td><td>10183804758</td><td>11.93</td><td>38103749554</td><td>44.63</td><td>30144526056</td><td>35.31</td><td>3.7496e9</td><td>4.39</td><td>9582770514</td><td>11.23</td><td>-2469646707</td><td>-2.89</td><td>324.56</td><td>1.288</td><td>984000000</td><td>4.42</td><td>16.44</td><td>3.69</td><td>4.42</td><td>4.72</td><td>10.5</td><td>13562000000</td><td>319367040000</td><td>332929040000</td><td>4.07</td><td>95.93</td><td>10.19</td><td>34565279</td><td>3357635029</td><td>7084413861</td><td>17038688148</td><td>2.0</td><td>88236399393</td><td>54318418040</td><td>71357106189</td><td>5090000000</td><td>66267106189</td><td>67.34</td><td>7226102138</td></tr><tr><td>&quot;MSFT&quot;</td><td>&quot;2025-01-17&quot;</td><td>359.059483</td><td>431.8887</td><td>&quot;2029&quot;</td><td>482612279172</td><td>14.51</td><td>243343429409</td><td>50.42</td><td>206653972432</td><td>42.82</td><td>36689456977</td><td>7.6</td><td>298328812038</td><td>61.82</td><td>109589014184</td><td>22.71</td><td>6.2437e9</td><td>1.29</td><td>43316742017</td><td>8.98</td><td>-64207442622</td><td>-13.3</td><td>429.03</td><td>0.904</td><td>7469000000</td><td>4.42</td><td>18.23</td><td>3.61</td><td>4.42</td><td>4.72</td><td>8.69</td><td>97852000000</td><td>3204425070000</td><td>3302277070000</td><td>2.96</td><td>97.04</td><td>8.54</td><td>16131522</td><td>173317543200</td><td>136610813702</td><td>407950735216</td><td>4.0</td><td>3129881279381</td><td>2077745900354</td><td>2485696635571</td><td>79537000000</td><td>2406159635571</td><td>322.15</td><td>142075246250</td></tr><tr><td>&quot;AVGO&quot;</td><td>&quot;2025-01-17&quot;</td><td>178.089</td><td>237.51</td><td>&quot;2029&quot;</td><td>139008851482</td><td>21.93</td><td>72607157198</td><td>52.23</td><td>45906526818</td><td>33.02</td><td>26700630380</td><td>19.21</td><td>47633557276</td><td>34.27</td><td>12076255889</td><td>8.69</td><td>6.5147e9</td><td>4.69</td><td>4743635680</td><td>3.41</td><td>-1988799375</td><td>-1.43</td><td>237.44</td><td>1.187</td><td>4778000000</td><td>5.62</td><td>40.55</td><td>3.34</td><td>4.42</td><td>4.72</td><td>10.02</td><td>67566000000</td><td>1134488320000</td><td>1202054320000</td><td>5.62</td><td>94.38</td><td>9.74</td><td>11050874</td><td>40833454730</td><td>63054429826</td><td>161670081048</td><td>4.0</td><td>1142414858598</td><td>717787035187</td><td>879457116236</td><td>58218000000</td><td>821239116236</td><td>171.88</td><td>65576607019</td></tr><tr><td>&quot;AAPL&quot;</td><td>&quot;2025-01-17&quot;</td><td>146.273189</td><td>230.2252</td><td>&quot;2029&quot;</td><td>631734147383</td><td>10.07</td><td>203936738085</td><td>32.28</td><td>183897900530</td><td>29.11</td><td>20038837554</td><td>3.17</td><td>120316909203</td><td>19.05</td><td>96053677011</td><td>15.2</td><td>1.0168e10</td><td>1.61</td><td>101845034847</td><td>16.12</td><td>-17288478562</td><td>-2.74</td><td>229.98</td><td>1.24</td><td>15408095000</td><td>4.42</td><td>24.09</td><td>3.36</td><td>4.42</td><td>4.72</td><td>10.27</td><td>106629000000</td><td>3543553688100</td><td>3650182688100</td><td>2.92</td><td>97.08</td><td>10.08</td><td>16549050</td><td>153464546253</td><td>155814583110</td><td>483770706269</td><td>4.0</td><td>2665047548540</td><td>1648746062304</td><td>2132516768573</td><td>76686000000</td><td>2055830768573</td><td>133.43</td><td>162047166435</td></tr><tr><td>&quot;META&quot;</td><td>&quot;2025-01-17&quot;</td><td>450.662755</td><td>615.515</td><td>&quot;2028&quot;</td><td>313052449124</td><td>18.34</td><td>138686926174</td><td>44.3</td><td>114523353776</td><td>36.58</td><td>24163572398</td><td>7.72</td><td>171414206869</td><td>54.76</td><td>38872999762</td><td>12.42</td><td>0.0</td><td>0.0</td><td>9274005045</td><td>2.96</td><td>-63771558124</td><td>-20.37</td><td>612.77</td><td>1.215</td><td>2629000000</td><td>4.42</td><td>17.56</td><td>3.64</td><td>4.42</td><td>4.72</td><td>10.15</td><td>37234000000</td><td>1610972330000</td><td>1648206330000</td><td>2.26</td><td>97.74</td><td>10.01</td><td>18291174</td><td>93575688865</td><td>49381215107</td><td>131846042860</td><td>4.0</td><td>854945977607</td><td>530685709913</td><td>662531752773</td><td>-4628000000</td><td>667159752773</td><td>253.77</td><td>51356463711</td></tr></tbody></table></div>"
>>>>>>> e7e3c52 (AAPL Institutional Holders Upload)
      ],
      "text/plain": [
       "shape: (5, 50)\n",
       "┌────────┬────────────┬────────────┬───────────┬───┬───────────┬───────────┬───────────┬───────────┐\n",
       "│ symbol ┆ date       ┆ dcf        ┆ stock_pri ┆ … ┆ net_debt  ┆ equity_va ┆ equity_va ┆ free_cash │\n",
       "│ ---    ┆ ---        ┆ ---        ┆ ce        ┆   ┆ ---       ┆ lue       ┆ lue_per_s ┆ _flowt1   │\n",
       "│ str    ┆ str        ┆ f64        ┆ ---       ┆   ┆ i64       ┆ ---       ┆ hare      ┆ ---       │\n",
       "│        ┆            ┆            ┆ f64       ┆   ┆           ┆ i64       ┆ ---       ┆ i64       │\n",
       "│        ┆            ┆            ┆           ┆   ┆           ┆           ┆ f64       ┆           │\n",
       "╞════════╪════════════╪════════════╪═══════════╪═══╪═══════════╪═══════════╪═══════════╪═══════════╡\n",
<<<<<<< HEAD
       "│ META   ┆ 2025-01-17 ┆ 450.74105  ┆ 611.3     ┆ … ┆ -46280000 ┆ 670767201 ┆ 255.14    ┆ 513564637 │\n",
       "│        ┆            ┆            ┆           ┆   ┆ 00        ┆ 444       ┆           ┆ 11        │\n",
       "│ ACN    ┆ 2025-01-17 ┆ 302.382701 ┆ 350.56    ┆ … ┆ -88392000 ┆ 139648705 ┆ 219.59    ┆ 118578536 │\n",
       "│        ┆            ┆            ┆           ┆   ┆ 0         ┆ 492       ┆           ┆ 38        │\n",
       "│ MSFT   ┆ 2025-01-17 ┆ 359.266415 ┆ 424.58    ┆ … ┆ 795370000 ┆ 242306043 ┆ 324.42    ┆ 142075246 │\n",
       "│        ┆            ┆            ┆           ┆   ┆ 00        ┆ 9780      ┆           ┆ 250       │\n",
       "│ GOOG   ┆ 2025-01-17 ┆ 194.724093 ┆ 192.91    ┆ … ┆ 445600000 ┆ 176356352 ┆ 138.62    ┆ 117769399 │\n",
       "│        ┆            ┆            ┆           ┆   ┆ 0         ┆ 5561      ┆           ┆ 143       │\n",
       "│ GOOGL  ┆ 2025-01-17 ┆ 194.724093 ┆ 192.91    ┆ … ┆ 445600000 ┆ 176356352 ┆ 138.62    ┆ 117769399 │\n",
       "│        ┆            ┆            ┆           ┆   ┆ 0         ┆ 5561      ┆           ┆ 143       │\n",
=======
       "│ CRM    ┆ 2025-01-17 ┆ 188.725201 ┆ 327.75    ┆ … ┆ 509000000 ┆ 662671061 ┆ 67.34     ┆ 722610213 │\n",
       "│        ┆            ┆            ┆           ┆   ┆ 0         ┆ 89        ┆           ┆ 8         │\n",
       "│ MSFT   ┆ 2025-01-17 ┆ 359.059483 ┆ 431.8887  ┆ … ┆ 795370000 ┆ 240615963 ┆ 322.15    ┆ 142075246 │\n",
       "│        ┆            ┆            ┆           ┆   ┆ 00        ┆ 5571      ┆           ┆ 250       │\n",
       "│ AVGO   ┆ 2025-01-17 ┆ 178.089    ┆ 237.51    ┆ … ┆ 582180000 ┆ 821239116 ┆ 171.88    ┆ 655766070 │\n",
       "│        ┆            ┆            ┆           ┆   ┆ 00        ┆ 236       ┆           ┆ 19        │\n",
       "│ AAPL   ┆ 2025-01-17 ┆ 146.273189 ┆ 230.2252  ┆ … ┆ 766860000 ┆ 205583076 ┆ 133.43    ┆ 162047166 │\n",
       "│        ┆            ┆            ┆           ┆   ┆ 00        ┆ 8573      ┆           ┆ 435       │\n",
       "│ META   ┆ 2025-01-17 ┆ 450.662755 ┆ 615.515   ┆ … ┆ -46280000 ┆ 667159752 ┆ 253.77    ┆ 513564637 │\n",
       "│        ┆            ┆            ┆           ┆   ┆ 00        ┆ 773       ┆           ┆ 11        │\n",
>>>>>>> e7e3c52 (AAPL Institutional Holders Upload)
       "└────────┴────────────┴────────────┴───────────┴───┴───────────┴───────────┴───────────┴───────────┘"
      ]
     },
     "execution_count": 9,
     "metadata": {},
     "output_type": "execute_result"
    }
   ],
   "source": [
    "pl.scan_parquet(f'{output_dir}/company_dfc_advanced.parquet').head().collect()"
   ]
  }
 ],
 "metadata": {
  "kernelspec": {
   "display_name": ".venv",
   "language": "python",
   "name": "python3"
  },
  "language_info": {
   "codemirror_mode": {
    "name": "ipython",
    "version": 3
   },
   "file_extension": ".py",
   "mimetype": "text/x-python",
   "name": "python",
   "nbconvert_exporter": "python",
   "pygments_lexer": "ipython3",
   "version": "3.12.8"
  }
 },
 "nbformat": 4,
 "nbformat_minor": 2
}
