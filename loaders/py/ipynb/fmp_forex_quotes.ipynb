{
 "cells": [
  {
   "cell_type": "markdown",
   "metadata": {},
   "source": [
    "## Step 1: Import Libraries"
   ]
  },
  {
   "cell_type": "code",
   "execution_count": 1,
   "metadata": {
    "execution": {
     "iopub.execute_input": "2025-01-08T17:37:24.735686Z",
     "iopub.status.busy": "2025-01-08T17:37:24.735020Z",
     "iopub.status.idle": "2025-01-08T17:37:24.783836Z",
     "shell.execute_reply": "2025-01-08T17:37:24.782750Z"
    }
   },
   "outputs": [],
   "source": [
    "%run ../make_clean_names.py"
   ]
  },
  {
   "cell_type": "code",
   "execution_count": 2,
   "metadata": {
    "execution": {
     "iopub.execute_input": "2025-01-08T17:37:24.786410Z",
     "iopub.status.busy": "2025-01-08T17:37:24.785872Z",
     "iopub.status.idle": "2025-01-08T17:37:24.841527Z",
     "shell.execute_reply": "2025-01-08T17:37:24.840808Z"
    }
   },
   "outputs": [],
   "source": [
    "import requests\n",
    "from requests.adapters import HTTPAdapter\n",
    "from requests.packages.urllib3.util.retry import Retry\n",
    "import logging\n",
    "import concurrent.futures\n",
    "from datetime import datetime\n",
    "from typing import Dict, List\n",
    "from concurrent.futures import ThreadPoolExecutor\n",
    "import polars as pl\n",
    "\n",
    "from dotenv import load_dotenv\n",
    "import os\n",
    "\n",
    "# Load environment variables\n",
    "load_dotenv()\n",
    "\n",
    "logging.basicConfig(level=logging.INFO)\n",
    "logger = logging.getLogger(__name__)\n",
    "\n",
    "def create_session():\n",
    "    session = requests.Session()\n",
    "    retries = Retry(\n",
    "        total=3,\n",
    "        backoff_factor=1,\n",
    "        status_forcelist=[429, 500, 502, 503, 504]\n",
    "    )\n",
    "    session.mount('https://', HTTPAdapter(max_retries=retries, pool_maxsize=10))\n",
    "    return session\n",
    "\n",
    "# Get API key from environment variables\n",
    "FMP_API_KEY = os.getenv('FMP_API_KEY')\n",
    "if not FMP_API_KEY:\n",
    "    raise ValueError(\"FMP_API_KEY not found in environment variables\")"
   ]
  },
  {
   "cell_type": "markdown",
   "metadata": {},
   "source": [
    "## Step 2: Import Forex Pairs"
   ]
  },
  {
   "cell_type": "code",
   "execution_count": 3,
   "metadata": {
    "execution": {
     "iopub.execute_input": "2025-01-08T17:37:24.844320Z",
     "iopub.status.busy": "2025-01-08T17:37:24.844070Z",
     "iopub.status.idle": "2025-01-08T17:37:24.848835Z",
     "shell.execute_reply": "2025-01-08T17:37:24.848313Z"
    }
   },
   "outputs": [
    {
     "name": "stdout",
     "output_type": "stream",
     "text": [
      "Loaded 4 pairs from ../fx_pairs.txt\n",
      "pairs: ['USDEUR', 'USDBRL', 'USDGBP', 'USDJPY']\n"
     ]
    }
   ],
   "source": [
    "def load_pairs(file_path: str) -> List[str]:\n",
    "    \"\"\"Load pairs from a text file\"\"\"\n",
    "    try:\n",
    "        with open(file_path, 'r') as f:\n",
    "            pairs = [line.strip() for line in f if line.strip()]\n",
    "        print(f\"Loaded {len(pairs)} pairs from {file_path}\")\n",
    "        return pairs\n",
    "    except Exception as e:\n",
    "        print(f\"Error loading pairs: {str(e)}\")\n",
    "        return []\n",
    "\n",
    "pairs_file = '../fx_pairs.txt'\n",
    "pairs = load_pairs(pairs_file)\n",
    "\n",
    "if pairs:\n",
    "    print(\"pairs:\", pairs)\n",
    "else:\n",
    "    print(\"No pairs loaded.\")"
   ]
  },
  {
   "cell_type": "markdown",
   "metadata": {},
   "source": [
    "## Step 2: Extract Data from FMP into Polars"
   ]
  },
  {
   "cell_type": "code",
   "execution_count": 4,
   "metadata": {
    "execution": {
     "iopub.execute_input": "2025-01-08T17:37:24.873984Z",
     "iopub.status.busy": "2025-01-08T17:37:24.873753Z",
     "iopub.status.idle": "2025-01-08T17:37:25.383425Z",
     "shell.execute_reply": "2025-01-08T17:37:25.382642Z"
    }
   },
   "outputs": [],
   "source": [
    "start_date = '2020-01-01'\n",
    "end_date = datetime.today().strftime('%Y-%m-%d')\n",
    "\n",
    "def fetch_forex_data(pair: str, api_key: str, session: requests.Session) -> Dict:\n",
    "    \"\"\"Fetch historical forex data for a single pair with pair identifier\"\"\"\n",
    "    url = f\"https://financialmodelingprep.com/api/v3/historical-chart/1day/{pair}\"\n",
    "    params = {\n",
    "        \"from\": start_date,\n",
    "        \"to\": end_date,\n",
    "        \"apikey\": api_key\n",
    "    }\n",
    "        \n",
    "    try:\n",
    "        response = session.get(url, params=params, timeout=10)\n",
    "        response.raise_for_status()\n",
    "        data = response.json()\n",
    "        # Add pair identifier to each record\n",
    "        return [{\"pair\": pair, **record} for record in data] if data else None\n",
    "    except Exception as e:\n",
    "        logger.error(f\"Error fetching {pair}: {str(e)}\")\n",
    "        return None\n",
    "\n",
    "def fetch_all_forex_data(pairs: List[str], api_key: str) -> List[Dict]:\n",
    "    \"\"\"Fetch and combine forex data for multiple pairs\"\"\"\n",
    "    session = create_session()\n",
    "    \n",
    "    with ThreadPoolExecutor(max_workers=10) as executor:\n",
    "        futures = [\n",
    "            executor.submit(fetch_forex_data, pair, api_key, session)\n",
    "            for pair in pairs\n",
    "        ]\n",
    "        results = [\n",
    "            f.result() for f in concurrent.futures.as_completed(futures)\n",
    "        ]\n",
    "    \n",
    "    # Flatten results list and remove None values\n",
    "    all_data = []\n",
    "    for result in results:\n",
    "        if result:\n",
    "            all_data.extend(result)\n",
    "    return all_data\n",
    "\n",
    "# Execute fetching\n",
    "fx_data = fetch_all_forex_data(pairs, FMP_API_KEY)\n",
    "\n",
    "# Convert to Polars DataFrame if data exists\n",
    "if fx_data:\n",
    "    df = pl.DataFrame(fx_data)"
   ]
  },
  {
   "cell_type": "markdown",
   "metadata": {},
   "source": [
    "## Step 3: Clean Column Names"
   ]
  },
  {
   "cell_type": "code",
   "execution_count": 5,
   "metadata": {
    "execution": {
     "iopub.execute_input": "2025-01-08T17:37:25.385947Z",
     "iopub.status.busy": "2025-01-08T17:37:25.385795Z",
     "iopub.status.idle": "2025-01-08T17:37:25.389758Z",
     "shell.execute_reply": "2025-01-08T17:37:25.388956Z"
    }
   },
   "outputs": [],
   "source": [
    "df = make_clean_names(df)"
   ]
  },
  {
   "cell_type": "code",
   "execution_count": 6,
   "metadata": {
    "execution": {
     "iopub.execute_input": "2025-01-08T17:37:25.391718Z",
     "iopub.status.busy": "2025-01-08T17:37:25.391283Z",
     "iopub.status.idle": "2025-01-08T17:37:25.398774Z",
     "shell.execute_reply": "2025-01-08T17:37:25.398306Z"
    }
   },
   "outputs": [
    {
     "data": {
      "text/html": [
       "<div><style>\n",
       ".dataframe > thead > tr,\n",
       ".dataframe > tbody > tr {\n",
       "  text-align: right;\n",
       "  white-space: pre-wrap;\n",
       "}\n",
       "</style>\n",
       "<small>shape: (5_366, 7)</small><table border=\"1\" class=\"dataframe\"><thead><tr><th>pair</th><th>date</th><th>open</th><th>low</th><th>high</th><th>close</th><th>volume</th></tr><tr><td>str</td><td>str</td><td>f64</td><td>f64</td><td>f64</td><td>f64</td><td>i64</td></tr></thead><tbody><tr><td>&quot;USDBRL&quot;</td><td>&quot;2025-01-08 00:00:00&quot;</td><td>6.1029</td><td>6.0692</td><td>6.15681</td><td>6.1308</td><td>4966</td></tr><tr><td>&quot;USDBRL&quot;</td><td>&quot;2025-01-07 00:00:00&quot;</td><td>6.1152</td><td>6.0552</td><td>6.1182</td><td>6.101</td><td>7551</td></tr><tr><td>&quot;USDBRL&quot;</td><td>&quot;2025-01-06 00:00:00&quot;</td><td>6.1798</td><td>6.0937</td><td>6.1811</td><td>6.1152</td><td>0</td></tr><tr><td>&quot;USDBRL&quot;</td><td>&quot;2025-01-05 00:00:00&quot;</td><td>6.1798</td><td>6.1798</td><td>6.1811</td><td>6.1811</td><td>0</td></tr><tr><td>&quot;USDBRL&quot;</td><td>&quot;2025-01-03 00:00:00&quot;</td><td>6.1519</td><td>6.1374</td><td>6.2005</td><td>6.1798</td><td>7079</td></tr><tr><td>&hellip;</td><td>&hellip;</td><td>&hellip;</td><td>&hellip;</td><td>&hellip;</td><td>&hellip;</td><td>&hellip;</td></tr><tr><td>&quot;USDJPY&quot;</td><td>&quot;2020-01-17 00:00:00&quot;</td><td>110.16</td><td>110.046</td><td>110.29</td><td>110.149</td><td>129811</td></tr><tr><td>&quot;USDJPY&quot;</td><td>&quot;2020-01-16 00:00:00&quot;</td><td>109.897</td><td>109.85</td><td>110.179</td><td>110.16</td><td>129501</td></tr><tr><td>&quot;USDJPY&quot;</td><td>&quot;2020-01-15 00:00:00&quot;</td><td>109.982</td><td>109.789</td><td>110.011</td><td>109.897</td><td>155661</td></tr><tr><td>&quot;USDJPY&quot;</td><td>&quot;2020-01-14 00:00:00&quot;</td><td>109.944</td><td>109.852</td><td>110.214</td><td>109.982</td><td>186928</td></tr><tr><td>&quot;USDJPY&quot;</td><td>&quot;2020-01-13 00:00:00&quot;</td><td>109.503</td><td>109.503</td><td>109.947</td><td>109.944</td><td>125486</td></tr></tbody></table></div>"
      ],
      "text/plain": [
       "shape: (5_366, 7)\n",
       "┌────────┬─────────────────────┬─────────┬─────────┬─────────┬─────────┬────────┐\n",
       "│ pair   ┆ date                ┆ open    ┆ low     ┆ high    ┆ close   ┆ volume │\n",
       "│ ---    ┆ ---                 ┆ ---     ┆ ---     ┆ ---     ┆ ---     ┆ ---    │\n",
       "│ str    ┆ str                 ┆ f64     ┆ f64     ┆ f64     ┆ f64     ┆ i64    │\n",
       "╞════════╪═════════════════════╪═════════╪═════════╪═════════╪═════════╪════════╡\n",
       "│ USDBRL ┆ 2025-01-08 00:00:00 ┆ 6.1029  ┆ 6.0692  ┆ 6.15681 ┆ 6.1308  ┆ 4966   │\n",
       "│ USDBRL ┆ 2025-01-07 00:00:00 ┆ 6.1152  ┆ 6.0552  ┆ 6.1182  ┆ 6.101   ┆ 7551   │\n",
       "│ USDBRL ┆ 2025-01-06 00:00:00 ┆ 6.1798  ┆ 6.0937  ┆ 6.1811  ┆ 6.1152  ┆ 0      │\n",
       "│ USDBRL ┆ 2025-01-05 00:00:00 ┆ 6.1798  ┆ 6.1798  ┆ 6.1811  ┆ 6.1811  ┆ 0      │\n",
       "│ USDBRL ┆ 2025-01-03 00:00:00 ┆ 6.1519  ┆ 6.1374  ┆ 6.2005  ┆ 6.1798  ┆ 7079   │\n",
       "│ …      ┆ …                   ┆ …       ┆ …       ┆ …       ┆ …       ┆ …      │\n",
       "│ USDJPY ┆ 2020-01-17 00:00:00 ┆ 110.16  ┆ 110.046 ┆ 110.29  ┆ 110.149 ┆ 129811 │\n",
       "│ USDJPY ┆ 2020-01-16 00:00:00 ┆ 109.897 ┆ 109.85  ┆ 110.179 ┆ 110.16  ┆ 129501 │\n",
       "│ USDJPY ┆ 2020-01-15 00:00:00 ┆ 109.982 ┆ 109.789 ┆ 110.011 ┆ 109.897 ┆ 155661 │\n",
       "│ USDJPY ┆ 2020-01-14 00:00:00 ┆ 109.944 ┆ 109.852 ┆ 110.214 ┆ 109.982 ┆ 186928 │\n",
       "│ USDJPY ┆ 2020-01-13 00:00:00 ┆ 109.503 ┆ 109.503 ┆ 109.947 ┆ 109.944 ┆ 125486 │\n",
       "└────────┴─────────────────────┴─────────┴─────────┴─────────┴─────────┴────────┘"
      ]
     },
     "execution_count": 6,
     "metadata": {},
     "output_type": "execute_result"
    }
   ],
   "source": [
    "df"
   ]
  },
  {
   "cell_type": "markdown",
   "metadata": {},
   "source": [
    "## Step 4: Write Polars to Parquet"
   ]
  },
  {
   "cell_type": "code",
   "execution_count": 7,
   "metadata": {
    "execution": {
     "iopub.execute_input": "2025-01-08T17:37:25.400936Z",
     "iopub.status.busy": "2025-01-08T17:37:25.400462Z",
     "iopub.status.idle": "2025-01-08T17:37:25.421564Z",
     "shell.execute_reply": "2025-01-08T17:37:25.420920Z"
    }
   },
   "outputs": [],
   "source": [
    "# Define the output directory\n",
    "output_dir = \"../../../data/finance\"\n",
    "\n",
    "# Write the processed DataFrame to a Parquet file\n",
    "df.write_parquet(f'{output_dir}/historical_fx_quotes.parquet')"
   ]
  },
  {
   "cell_type": "markdown",
   "metadata": {},
   "source": [
    "## Step 5: Read Parquet (Validate)"
   ]
  },
  {
   "cell_type": "code",
   "execution_count": 8,
   "metadata": {
    "execution": {
     "iopub.execute_input": "2025-01-08T17:37:25.423935Z",
     "iopub.status.busy": "2025-01-08T17:37:25.423632Z",
     "iopub.status.idle": "2025-01-08T17:37:25.429941Z",
     "shell.execute_reply": "2025-01-08T17:37:25.429383Z"
    }
   },
   "outputs": [
    {
     "data": {
      "text/html": [
       "<div><style>\n",
       ".dataframe > thead > tr,\n",
       ".dataframe > tbody > tr {\n",
       "  text-align: right;\n",
       "  white-space: pre-wrap;\n",
       "}\n",
       "</style>\n",
       "<small>shape: (5, 7)</small><table border=\"1\" class=\"dataframe\"><thead><tr><th>pair</th><th>date</th><th>open</th><th>low</th><th>high</th><th>close</th><th>volume</th></tr><tr><td>str</td><td>str</td><td>f64</td><td>f64</td><td>f64</td><td>f64</td><td>i64</td></tr></thead><tbody><tr><td>&quot;USDBRL&quot;</td><td>&quot;2025-01-08 00:00:00&quot;</td><td>6.1029</td><td>6.0692</td><td>6.15681</td><td>6.1308</td><td>4966</td></tr><tr><td>&quot;USDBRL&quot;</td><td>&quot;2025-01-07 00:00:00&quot;</td><td>6.1152</td><td>6.0552</td><td>6.1182</td><td>6.101</td><td>7551</td></tr><tr><td>&quot;USDBRL&quot;</td><td>&quot;2025-01-06 00:00:00&quot;</td><td>6.1798</td><td>6.0937</td><td>6.1811</td><td>6.1152</td><td>0</td></tr><tr><td>&quot;USDBRL&quot;</td><td>&quot;2025-01-05 00:00:00&quot;</td><td>6.1798</td><td>6.1798</td><td>6.1811</td><td>6.1811</td><td>0</td></tr><tr><td>&quot;USDBRL&quot;</td><td>&quot;2025-01-03 00:00:00&quot;</td><td>6.1519</td><td>6.1374</td><td>6.2005</td><td>6.1798</td><td>7079</td></tr></tbody></table></div>"
      ],
      "text/plain": [
       "shape: (5, 7)\n",
       "┌────────┬─────────────────────┬────────┬────────┬─────────┬────────┬────────┐\n",
       "│ pair   ┆ date                ┆ open   ┆ low    ┆ high    ┆ close  ┆ volume │\n",
       "│ ---    ┆ ---                 ┆ ---    ┆ ---    ┆ ---     ┆ ---    ┆ ---    │\n",
       "│ str    ┆ str                 ┆ f64    ┆ f64    ┆ f64     ┆ f64    ┆ i64    │\n",
       "╞════════╪═════════════════════╪════════╪════════╪═════════╪════════╪════════╡\n",
       "│ USDBRL ┆ 2025-01-08 00:00:00 ┆ 6.1029 ┆ 6.0692 ┆ 6.15681 ┆ 6.1308 ┆ 4966   │\n",
       "│ USDBRL ┆ 2025-01-07 00:00:00 ┆ 6.1152 ┆ 6.0552 ┆ 6.1182  ┆ 6.101  ┆ 7551   │\n",
       "│ USDBRL ┆ 2025-01-06 00:00:00 ┆ 6.1798 ┆ 6.0937 ┆ 6.1811  ┆ 6.1152 ┆ 0      │\n",
       "│ USDBRL ┆ 2025-01-05 00:00:00 ┆ 6.1798 ┆ 6.1798 ┆ 6.1811  ┆ 6.1811 ┆ 0      │\n",
       "│ USDBRL ┆ 2025-01-03 00:00:00 ┆ 6.1519 ┆ 6.1374 ┆ 6.2005  ┆ 6.1798 ┆ 7079   │\n",
       "└────────┴─────────────────────┴────────┴────────┴─────────┴────────┴────────┘"
      ]
     },
     "execution_count": 8,
     "metadata": {},
     "output_type": "execute_result"
    }
   ],
   "source": [
    "# Validate the output by reading the Parquet file and displaying the first few rows\n",
    "pl.scan_parquet(f'{output_dir}/historical_fx_quotes.parquet').head().collect()"
   ]
  }
 ],
 "metadata": {
  "kernelspec": {
   "display_name": ".venv",
   "language": "python",
   "name": "python3"
  },
  "language_info": {
   "codemirror_mode": {
    "name": "ipython",
    "version": 3
   },
   "file_extension": ".py",
   "mimetype": "text/x-python",
   "name": "python",
   "nbconvert_exporter": "python",
   "pygments_lexer": "ipython3",
   "version": "3.12.3"
  }
 },
 "nbformat": 4,
 "nbformat_minor": 2
}
