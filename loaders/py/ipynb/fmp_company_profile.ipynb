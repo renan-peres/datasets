{
 "cells": [
  {
   "cell_type": "markdown",
   "metadata": {},
   "source": [
    "## Step 1: Import Libraries"
   ]
  },
  {
   "cell_type": "code",
   "execution_count": 17,
   "metadata": {},
   "outputs": [],
   "source": [
    "%run ../make_clean_names.py"
   ]
  },
  {
   "cell_type": "code",
   "execution_count": 18,
   "metadata": {
    "execution": {
     "iopub.execute_input": "2025-01-05T18:29:46.482204Z",
     "iopub.status.busy": "2025-01-05T18:29:46.481610Z",
     "iopub.status.idle": "2025-01-05T18:29:46.909642Z",
     "shell.execute_reply": "2025-01-05T18:29:46.909065Z"
    }
   },
   "outputs": [],
   "source": [
    "import requests\n",
    "import openbb\n",
    "import polars as pl\n",
    "from datetime import datetime, timedelta\n",
    "from typing import List, Dict, Any\n",
    "import re\n",
    "from dotenv import load_dotenv\n",
    "import os\n",
    "import sys\n",
    "\n",
    "# Load environment variables\n",
    "load_dotenv()\n",
    "\n",
    "# Get API key from environment variables\n",
    "FMP_API_KEY = os.getenv('FMP_API_KEY')\n",
    "if not FMP_API_KEY:\n",
    "    raise ValueError(\"FMP_API_KEY not found in environment variables\")"
   ]
  },
  {
   "cell_type": "markdown",
   "metadata": {},
   "source": [
    "## Step 2: Import Symbols"
   ]
  },
  {
   "cell_type": "code",
   "execution_count": null,
   "metadata": {
    "execution": {
     "iopub.execute_input": "2025-01-05T18:29:46.912191Z",
     "iopub.status.busy": "2025-01-05T18:29:46.911734Z",
     "iopub.status.idle": "2025-01-05T18:29:46.916240Z",
     "shell.execute_reply": "2025-01-05T18:29:46.915775Z"
    }
   },
   "outputs": [],
   "source": [
    "def load_symbols(file_path: str) -> List[str]:\n",
    "    \"\"\"Load symbols from a text file\"\"\"\n",
    "    try:\n",
    "        with open(file_path, 'r') as f:\n",
    "            symbols = [line.strip() for line in f if line.strip()]\n",
    "        print(f\"Loaded {len(symbols)} symbols from {file_path}\")\n",
    "        return symbols\n",
    "    except Exception as e:\n",
    "        print(f\"Error loading symbols: {str(e)}\")\n",
    "        return []\n",
    "\n",
    "symbols_file = '../tickers.txt'\n",
    "symbols = load_symbols(symbols_file)\n",
    "\n",
    "if symbols:\n",
    "    print(\"Symbols:\", symbols)\n",
    "else:\n",
    "    print(\"No symbols loaded.\")"
   ]
  },
  {
   "cell_type": "markdown",
   "metadata": {},
   "source": [
    "## Step 3: Extract Data from FMP into Polars"
   ]
  },
  {
   "cell_type": "code",
   "execution_count": 14,
   "metadata": {},
   "outputs": [],
   "source": [
    "def fetch_company_profile(symbol: str, api_key: str) -> Dict:\n",
    "    \"\"\"Fetch company profile data from FMP API\"\"\"\n",
    "    url = f\"https://financialmodelingprep.com/api/v3/profile/{symbol}\"\n",
    "    params = {\"apikey\": api_key}\n",
    "    \n",
    "    response = requests.get(url, params=params)\n",
    "    response.raise_for_status()\n",
    "    return response.json()\n",
    "\n",
    "def load_symbols(file_path: str) -> List[str]:\n",
    "    \"\"\"Load symbols from text file\"\"\"\n",
    "    with open(file_path, 'r') as f:\n",
    "        return [line.strip() for line in f if line.strip()]\n",
    "    \n",
    "# Fetch data for each symbol\n",
    "company_profiles = []\n",
    "for symbol in symbols:\n",
    "    try:\n",
    "        profile = fetch_company_profile(symbol, FMP_API_KEY)\n",
    "        if profile:  # Some symbols might return empty data\n",
    "            company_profiles.extend(profile)\n",
    "    except Exception as e:\n",
    "        print(f\"Error fetching data for {symbol}: {e}\")\n",
    "\n",
    "if company_profiles:\n",
    "    # Convert to Polars DataFrame\n",
    "    df = pl.DataFrame(company_profiles)"
   ]
  },
  {
   "cell_type": "markdown",
   "metadata": {},
   "source": [
    "## Step 4: Clean Column Names"
   ]
  },
  {
   "cell_type": "code",
   "execution_count": null,
   "metadata": {},
   "outputs": [],
   "source": [
    "df = make_clean_names(df)"
   ]
  },
  {
   "cell_type": "markdown",
   "metadata": {},
   "source": [
    "## Step 5: Write Polars to Parquet"
   ]
  },
  {
   "cell_type": "code",
   "execution_count": null,
   "metadata": {
    "execution": {
     "iopub.execute_input": "2025-01-05T18:29:50.960072Z",
     "iopub.status.busy": "2025-01-05T18:29:50.959746Z",
     "iopub.status.idle": "2025-01-05T18:29:50.985405Z",
     "shell.execute_reply": "2025-01-05T18:29:50.984691Z"
    }
   },
   "outputs": [],
   "source": [
    "output_dir = \"../../../data/finance\"\n",
    "\n",
    "# Write DataFrame to Parquet\n",
    "df.write_parquet(f'{output_dir}/company_profile.parquet')"
   ]
  },
  {
   "cell_type": "markdown",
   "metadata": {},
   "source": [
    "## Step 6: Read Parquet (Validate)"
   ]
  },
  {
   "cell_type": "code",
   "execution_count": null,
   "metadata": {
    "execution": {
     "iopub.execute_input": "2025-01-05T18:29:50.987472Z",
     "iopub.status.busy": "2025-01-05T18:29:50.987198Z",
     "iopub.status.idle": "2025-01-05T18:29:50.994960Z",
     "shell.execute_reply": "2025-01-05T18:29:50.994472Z"
    }
   },
   "outputs": [],
   "source": [
    "pl.scan_parquet(f'{output_dir}/company_profile.parquet').head().collect()"
   ]
  }
 ],
 "metadata": {
  "kernelspec": {
   "display_name": ".venv",
   "language": "python",
   "name": "python3"
  },
  "language_info": {
   "codemirror_mode": {
    "name": "ipython",
    "version": 3
   },
   "file_extension": ".py",
   "mimetype": "text/x-python",
   "name": "python",
   "nbconvert_exporter": "python",
   "pygments_lexer": "ipython3",
   "version": "3.12.3"
  }
 },
 "nbformat": 4,
 "nbformat_minor": 2
}
