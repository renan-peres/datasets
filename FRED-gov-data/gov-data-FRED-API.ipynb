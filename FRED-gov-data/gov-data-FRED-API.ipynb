{
 "cells": [
  {
   "cell_type": "markdown",
   "metadata": {},
   "source": [
    "### **Step 1: Extract Data from API**"
   ]
  },
  {
   "cell_type": "code",
   "execution_count": 1,
   "metadata": {},
   "outputs": [
    {
     "data": {
      "text/html": [
       "<div><style>\n",
       ".dataframe > thead > tr,\n",
       ".dataframe > tbody > tr {\n",
       "  text-align: right;\n",
       "  white-space: pre-wrap;\n",
       "}\n",
       "</style>\n",
       "<small>shape: (84_159, 3)</small><table border=\"1\" class=\"dataframe\"><thead><tr><th>date</th><th>value</th><th>series_id</th></tr><tr><td>date</td><td>f64</td><td>str</td></tr></thead><tbody><tr><td>1947-01-01</td><td>1.48</td><td>&quot;CPIAUCSL&quot;</td></tr><tr><td>1947-02-01</td><td>1.62</td><td>&quot;CPIAUCSL&quot;</td></tr><tr><td>1947-03-01</td><td>2.0</td><td>&quot;CPIAUCSL&quot;</td></tr><tr><td>1947-04-01</td><td>2.0</td><td>&quot;CPIAUCSL&quot;</td></tr><tr><td>1947-05-01</td><td>1.95</td><td>&quot;CPIAUCSL&quot;</td></tr><tr><td>&hellip;</td><td>&hellip;</td><td>&hellip;</td></tr><tr><td>2024-05-06</td><td>0.0779</td><td>&quot;DEXUSEU&quot;</td></tr><tr><td>2024-05-07</td><td>0.0767</td><td>&quot;DEXUSEU&quot;</td></tr><tr><td>2024-05-08</td><td>0.0755</td><td>&quot;DEXUSEU&quot;</td></tr><tr><td>2024-05-09</td><td>0.0771</td><td>&quot;DEXUSEU&quot;</td></tr><tr><td>2024-05-10</td><td>0.0773</td><td>&quot;DEXUSEU&quot;</td></tr></tbody></table></div>"
      ],
      "text/plain": [
       "shape: (84_159, 3)\n",
       "┌────────────┬────────┬───────────┐\n",
       "│ date       ┆ value  ┆ series_id │\n",
       "│ ---        ┆ ---    ┆ ---       │\n",
       "│ date       ┆ f64    ┆ str       │\n",
       "╞════════════╪════════╪═══════════╡\n",
       "│ 1947-01-01 ┆ 1.48   ┆ CPIAUCSL  │\n",
       "│ 1947-02-01 ┆ 1.62   ┆ CPIAUCSL  │\n",
       "│ 1947-03-01 ┆ 2.0    ┆ CPIAUCSL  │\n",
       "│ 1947-04-01 ┆ 2.0    ┆ CPIAUCSL  │\n",
       "│ 1947-05-01 ┆ 1.95   ┆ CPIAUCSL  │\n",
       "│ …          ┆ …      ┆ …         │\n",
       "│ 2024-05-06 ┆ 0.0779 ┆ DEXUSEU   │\n",
       "│ 2024-05-07 ┆ 0.0767 ┆ DEXUSEU   │\n",
       "│ 2024-05-08 ┆ 0.0755 ┆ DEXUSEU   │\n",
       "│ 2024-05-09 ┆ 0.0771 ┆ DEXUSEU   │\n",
       "│ 2024-05-10 ┆ 0.0773 ┆ DEXUSEU   │\n",
       "└────────────┴────────┴───────────┘"
      ]
     },
     "execution_count": 1,
     "metadata": {},
     "output_type": "execute_result"
    }
   ],
   "source": [
    "import requests\n",
    "import polars as pl\n",
    "\n",
    "series_ids = [\"CPIAUCSL\", \"FPCPITOTLZGUSA\", \"UNRATE\", \"GDP\", \"GDPC1\", \"FEDFUNDS\", \"WM2NS\", \"DEXUSEU\"]\n",
    "\n",
    "def fetch_series(series_id):\n",
    "    params = {\n",
    "        \"series_id\": series_id,\n",
    "        \"realtime_start\": \"1900-01-01\",\n",
    "        \"api_key\": \"d27ebbc022a3f8d1a5f9eb6918560e09\",\n",
    "        \"file_type\": \"json\"\n",
    "    }\n",
    "    response = requests.get(\"https://api.stlouisfed.org/fred/series/observations\", params=params)\n",
    "    response.raise_for_status()  # Raise an exception for bad status codes\n",
    "    data = response.json()\n",
    "    df = pl.DataFrame(data[\"observations\"]).select([\n",
    "        pl.col(\"date\").cast(pl.Date).alias(\"date\"),\n",
    "        pl.col(\"value\").str.replace(\".\", '0').cast(pl.Float64).alias(\"value\")\n",
    "    ])\n",
    "    df = df.select([\n",
    "        \"*\",\n",
    "        pl.lit(series_id).alias(\"series_id\")\n",
    "    ])\n",
    "    return df\n",
    "\n",
    "dfs = [fetch_series(series_id) for series_id in series_ids]\n",
    "\n",
    "# Concatenate the DataFrames\n",
    "fact_Data = pl.concat(dfs)\n",
    "\n",
    "fact_Data"
   ]
  },
  {
   "cell_type": "markdown",
   "metadata": {},
   "source": [
    "### **Step 2: Create Dimension Table**"
   ]
  },
  {
   "cell_type": "code",
   "execution_count": 2,
   "metadata": {},
   "outputs": [
    {
     "data": {
      "text/html": [
       "<div><style>\n",
       ".dataframe > thead > tr,\n",
       ".dataframe > tbody > tr {\n",
       "  text-align: right;\n",
       "  white-space: pre-wrap;\n",
       "}\n",
       "</style>\n",
       "<small>shape: (8, 5)</small><table border=\"1\" class=\"dataframe\"><thead><tr><th>series_id</th><th>name</th><th>unit</th><th>frequency</th><th>url</th></tr><tr><td>str</td><td>str</td><td>str</td><td>str</td><td>str</td></tr></thead><tbody><tr><td>&quot;CPIAUCSL&quot;</td><td>&quot;Consumer Price…</td><td>&quot;Index 1982-198…</td><td>&quot;Monthly&quot;</td><td>&quot;https://fred.s…</td></tr><tr><td>&quot;FPCPITOTLZGUSA…</td><td>&quot;Inflation, con…</td><td>&quot;Percent, Not S…</td><td>&quot;Annual&quot;</td><td>&quot;https://fred.s…</td></tr><tr><td>&quot;UNRATE&quot;</td><td>&quot;Unemployment R…</td><td>&quot;Percent, Seaso…</td><td>&quot;Monthly&quot;</td><td>&quot;https://fred.s…</td></tr><tr><td>&quot;GDP&quot;</td><td>&quot;Gross Domestic…</td><td>&quot;Billions of Do…</td><td>&quot;Quarterly&quot;</td><td>&quot;https://fred.s…</td></tr><tr><td>&quot;GDPC1&quot;</td><td>&quot;Real Gross Dom…</td><td>&quot;Billions of Ch…</td><td>&quot;Quarterly&quot;</td><td>&quot;https://fred.s…</td></tr><tr><td>&quot;FEDFUNDS&quot;</td><td>&quot;Federal Funds …</td><td>&quot;Percent, Not S…</td><td>&quot;Monthly&quot;</td><td>&quot;https://fred.s…</td></tr><tr><td>&quot;WM2NS&quot;</td><td>&quot;M2&quot;</td><td>&quot;Billions of Do…</td><td>&quot;Weekly, Ending…</td><td>&quot;https://fred.s…</td></tr><tr><td>&quot;DEXUSEU&quot;</td><td>&quot;U.S. Dollars t…</td><td>&quot;U.S. Dollars t…</td><td>&quot;Daily&quot;</td><td>&quot;https://fred.s…</td></tr></tbody></table></div>"
      ],
      "text/plain": [
       "shape: (8, 5)\n",
       "┌────────────────┬─────────────────────┬─────────────────────┬────────────────┬────────────────────┐\n",
       "│ series_id      ┆ name                ┆ unit                ┆ frequency      ┆ url                │\n",
       "│ ---            ┆ ---                 ┆ ---                 ┆ ---            ┆ ---                │\n",
       "│ str            ┆ str                 ┆ str                 ┆ str            ┆ str                │\n",
       "╞════════════════╪═════════════════════╪═════════════════════╪════════════════╪════════════════════╡\n",
       "│ CPIAUCSL       ┆ Consumer Price      ┆ Index               ┆ Monthly        ┆ https://fred.stlou │\n",
       "│                ┆ Index for All Urb…  ┆ 1982-1984=100,      ┆                ┆ isfed.org/seri…    │\n",
       "│                ┆                     ┆ Seasonally …        ┆                ┆                    │\n",
       "│ FPCPITOTLZGUSA ┆ Inflation, consumer ┆ Percent, Not        ┆ Annual         ┆ https://fred.stlou │\n",
       "│                ┆ prices for t…       ┆ Seasonally Adjusted ┆                ┆ isfed.org/seri…    │\n",
       "│ UNRATE         ┆ Unemployment Rate   ┆ Percent, Seasonally ┆ Monthly        ┆ https://fred.stlou │\n",
       "│                ┆                     ┆ Adjusted            ┆                ┆ isfed.org/seri…    │\n",
       "│ GDP            ┆ Gross Domestic      ┆ Billions of         ┆ Quarterly      ┆ https://fred.stlou │\n",
       "│                ┆ Product             ┆ Dollars, Seasonally ┆                ┆ isfed.org/seri…    │\n",
       "│                ┆                     ┆ …                   ┆                ┆                    │\n",
       "│ GDPC1          ┆ Real Gross Domestic ┆ Billions of Chained ┆ Quarterly      ┆ https://fred.stlou │\n",
       "│                ┆ Product             ┆ 2017 Dollars…       ┆                ┆ isfed.org/seri…    │\n",
       "│ FEDFUNDS       ┆ Federal Funds       ┆ Percent, Not        ┆ Monthly        ┆ https://fred.stlou │\n",
       "│                ┆ Effective Rate      ┆ Seasonally Adjusted ┆                ┆ isfed.org/seri…    │\n",
       "│ WM2NS          ┆ M2                  ┆ Billions of         ┆ Weekly, Ending ┆ https://fred.stlou │\n",
       "│                ┆                     ┆ Dollars, Not        ┆ Monday         ┆ isfed.org/seri…    │\n",
       "│                ┆                     ┆ Seasona…            ┆                ┆                    │\n",
       "│ DEXUSEU        ┆ U.S. Dollars to     ┆ U.S. Dollars to One ┆ Daily          ┆ https://fred.stlou │\n",
       "│                ┆ Euro Spot Exchan…   ┆ Euro, Not Se…       ┆                ┆ isfed.org/seri…    │\n",
       "└────────────────┴─────────────────────┴─────────────────────┴────────────────┴────────────────────┘"
      ]
     },
     "execution_count": 2,
     "metadata": {},
     "output_type": "execute_result"
    }
   ],
   "source": [
    "url_dict = {series_id: f\"https://fred.stlouisfed.org/series/{series_id}\" for series_id in series_ids}\n",
    "\n",
    "units_dict = {\n",
    "    \"CPIAUCSL\": \"Index 1982-1984=100, Seasonally Adjusted\",\n",
    "    \"FPCPITOTLZGUSA\": \"Percent, Not Seasonally Adjusted\",\n",
    "    \"UNRATE\": \"Percent, Seasonally Adjusted\",\n",
    "    \"GDP\": \"Billions of Dollars, Seasonally Adjusted Annual Rate\",\n",
    "    \"GDPC1\": \"Billions of Chained 2017 Dollars, Seasonally Adjusted Annual\",\n",
    "    \"FEDFUNDS\": \"Percent, Not Seasonally Adjusted\",\n",
    "    \"WM2NS\": \"Billions of Dollars, Not Seasonally Adjusted\",\n",
    "    \"DEXUSEU\": \"U.S. Dollars to One Euro, Not Seasonally Adjusted\"\n",
    "}\n",
    "\n",
    "frequency_dict = {\n",
    "    \"CPIAUCSL\": \"Monthly\",\n",
    "    \"FPCPITOTLZGUSA\": \"Annual\",\n",
    "    \"UNRATE\": \"Monthly\",\n",
    "    \"GDP\": \"Quarterly\",\n",
    "    \"GDPC1\": \"Quarterly\",\n",
    "    \"FEDFUNDS\": \"Monthly\",\n",
    "    \"WM2NS\": \"Weekly, Ending Monday\",\n",
    "    \"DEXUSEU\": \"Daily\"\n",
    "}\n",
    "\n",
    "name_dict = {\n",
    "    \"CPIAUCSL\": \"Consumer Price Index for All Urban Consumers: All Items in U.S. City Average\",\n",
    "    \"FPCPITOTLZGUSA\": \"Inflation, consumer prices for the United States\",\n",
    "    \"UNRATE\": \"Unemployment Rate\",\n",
    "    \"GDP\": \"Gross Domestic Product\",\n",
    "    \"GDPC1\": \"Real Gross Domestic Product\",\n",
    "    \"FEDFUNDS\": \"Federal Funds Effective Rate\",\n",
    "    \"WM2NS\": \"M2\",\n",
    "    \"DEXUSEU\": \"U.S. Dollars to Euro Spot Exchange Rate\"\n",
    "}\n",
    "\n",
    "dim_SeriesDesc = pl.DataFrame({\n",
    "    \"series_id\": series_ids,\n",
    "    \"name\": [name_dict[series_id] for series_id in series_ids],\n",
    "    \"unit\": [units_dict[series_id] for series_id in series_ids],\n",
    "    \"frequency\": [frequency_dict[series_id] for series_id in series_ids],\n",
    "    \"url\": [url_dict[series_id] for series_id in series_ids]\n",
    "})\n",
    "\n",
    "dim_SeriesDesc"
   ]
  },
  {
   "cell_type": "markdown",
   "metadata": {},
   "source": [
    "### **Step 3: Load Data to a DuckDB Database**"
   ]
  },
  {
   "cell_type": "code",
   "execution_count": 36,
   "metadata": {},
   "outputs": [
    {
     "name": "stdout",
     "output_type": "stream",
     "text": [
      "The magic_duckdb extension is already loaded. To reload it, use:\n",
      "  %reload_ext magic_duckdb\n"
     ]
    }
   ],
   "source": [
    "import duckdb\n",
    "%load_ext magic_duckdb\n",
    "\n",
    "con = duckdb.connect('data.db') #Connect to .db File\n",
    "%dql -co con\n",
    "\n",
    "con.sql(\"CREATE OR REPLACE TABLE fact_FRED AS SELECT * FROM fact_Data;\")\n",
    "con.sql(\"CREATE OR REPLACE TABLE dim_SRDESC AS SELECT * FROM dim_SeriesDesc;\")"
   ]
  },
  {
   "cell_type": "code",
   "execution_count": 32,
   "metadata": {},
   "outputs": [
    {
     "data": {
      "text/plain": [
       "┌───────────────┬──────────────┬────────────┬────────────┐\n",
       "│ table_catalog │ table_schema │ table_name │ table_type │\n",
       "│    varchar    │   varchar    │  varchar   │  varchar   │\n",
       "├───────────────┼──────────────┼────────────┼────────────┤\n",
       "│ data          │ main         │ dim_SRDESC │ BASE TABLE │\n",
       "│ data          │ main         │ fact_FRED  │ BASE TABLE │\n",
       "└───────────────┴──────────────┴────────────┴────────────┘"
      ]
     },
     "execution_count": 32,
     "metadata": {},
     "output_type": "execute_result"
    }
   ],
   "source": [
    "con.sql('select table_catalog,table_schema,table_name,table_type from information_schema.tables')"
   ]
  },
  {
   "cell_type": "code",
   "execution_count": 37,
   "metadata": {},
   "outputs": [
    {
     "data": {
      "text/html": [
       "<div>\n",
       "<style scoped>\n",
       "    .dataframe tbody tr th:only-of-type {\n",
       "        vertical-align: middle;\n",
       "    }\n",
       "\n",
       "    .dataframe tbody tr th {\n",
       "        vertical-align: top;\n",
       "    }\n",
       "\n",
       "    .dataframe thead th {\n",
       "        text-align: right;\n",
       "    }\n",
       "</style>\n",
       "<table border=\"1\" class=\"dataframe\">\n",
       "  <thead>\n",
       "    <tr style=\"text-align: right;\">\n",
       "      <th></th>\n",
       "      <th>date</th>\n",
       "      <th>value</th>\n",
       "      <th>series_id</th>\n",
       "      <th>name</th>\n",
       "    </tr>\n",
       "  </thead>\n",
       "  <tbody>\n",
       "    <tr>\n",
       "      <th>0</th>\n",
       "      <td>1947-01-01</td>\n",
       "      <td>1.4800</td>\n",
       "      <td>CPIAUCSL</td>\n",
       "      <td>Consumer Price Index for All Urban Consumers: ...</td>\n",
       "    </tr>\n",
       "    <tr>\n",
       "      <th>1</th>\n",
       "      <td>1947-02-01</td>\n",
       "      <td>1.6200</td>\n",
       "      <td>CPIAUCSL</td>\n",
       "      <td>Consumer Price Index for All Urban Consumers: ...</td>\n",
       "    </tr>\n",
       "    <tr>\n",
       "      <th>2</th>\n",
       "      <td>1947-03-01</td>\n",
       "      <td>2.0000</td>\n",
       "      <td>CPIAUCSL</td>\n",
       "      <td>Consumer Price Index for All Urban Consumers: ...</td>\n",
       "    </tr>\n",
       "    <tr>\n",
       "      <th>3</th>\n",
       "      <td>1947-04-01</td>\n",
       "      <td>2.0000</td>\n",
       "      <td>CPIAUCSL</td>\n",
       "      <td>Consumer Price Index for All Urban Consumers: ...</td>\n",
       "    </tr>\n",
       "    <tr>\n",
       "      <th>4</th>\n",
       "      <td>1947-05-01</td>\n",
       "      <td>1.9500</td>\n",
       "      <td>CPIAUCSL</td>\n",
       "      <td>Consumer Price Index for All Urban Consumers: ...</td>\n",
       "    </tr>\n",
       "    <tr>\n",
       "      <th>...</th>\n",
       "      <td>...</td>\n",
       "      <td>...</td>\n",
       "      <td>...</td>\n",
       "      <td>...</td>\n",
       "    </tr>\n",
       "    <tr>\n",
       "      <th>84154</th>\n",
       "      <td>2024-05-06</td>\n",
       "      <td>0.0779</td>\n",
       "      <td>DEXUSEU</td>\n",
       "      <td>U.S. Dollars to Euro Spot Exchange Rate</td>\n",
       "    </tr>\n",
       "    <tr>\n",
       "      <th>84155</th>\n",
       "      <td>2024-05-07</td>\n",
       "      <td>0.0767</td>\n",
       "      <td>DEXUSEU</td>\n",
       "      <td>U.S. Dollars to Euro Spot Exchange Rate</td>\n",
       "    </tr>\n",
       "    <tr>\n",
       "      <th>84156</th>\n",
       "      <td>2024-05-08</td>\n",
       "      <td>0.0755</td>\n",
       "      <td>DEXUSEU</td>\n",
       "      <td>U.S. Dollars to Euro Spot Exchange Rate</td>\n",
       "    </tr>\n",
       "    <tr>\n",
       "      <th>84157</th>\n",
       "      <td>2024-05-09</td>\n",
       "      <td>0.0771</td>\n",
       "      <td>DEXUSEU</td>\n",
       "      <td>U.S. Dollars to Euro Spot Exchange Rate</td>\n",
       "    </tr>\n",
       "    <tr>\n",
       "      <th>84158</th>\n",
       "      <td>2024-05-10</td>\n",
       "      <td>0.0773</td>\n",
       "      <td>DEXUSEU</td>\n",
       "      <td>U.S. Dollars to Euro Spot Exchange Rate</td>\n",
       "    </tr>\n",
       "  </tbody>\n",
       "</table>\n",
       "<p>84159 rows × 4 columns</p>\n",
       "</div>"
      ],
      "text/plain": [
       "            date   value series_id  \\\n",
       "0     1947-01-01  1.4800  CPIAUCSL   \n",
       "1     1947-02-01  1.6200  CPIAUCSL   \n",
       "2     1947-03-01  2.0000  CPIAUCSL   \n",
       "3     1947-04-01  2.0000  CPIAUCSL   \n",
       "4     1947-05-01  1.9500  CPIAUCSL   \n",
       "...          ...     ...       ...   \n",
       "84154 2024-05-06  0.0779   DEXUSEU   \n",
       "84155 2024-05-07  0.0767   DEXUSEU   \n",
       "84156 2024-05-08  0.0755   DEXUSEU   \n",
       "84157 2024-05-09  0.0771   DEXUSEU   \n",
       "84158 2024-05-10  0.0773   DEXUSEU   \n",
       "\n",
       "                                                    name  \n",
       "0      Consumer Price Index for All Urban Consumers: ...  \n",
       "1      Consumer Price Index for All Urban Consumers: ...  \n",
       "2      Consumer Price Index for All Urban Consumers: ...  \n",
       "3      Consumer Price Index for All Urban Consumers: ...  \n",
       "4      Consumer Price Index for All Urban Consumers: ...  \n",
       "...                                                  ...  \n",
       "84154            U.S. Dollars to Euro Spot Exchange Rate  \n",
       "84155            U.S. Dollars to Euro Spot Exchange Rate  \n",
       "84156            U.S. Dollars to Euro Spot Exchange Rate  \n",
       "84157            U.S. Dollars to Euro Spot Exchange Rate  \n",
       "84158            U.S. Dollars to Euro Spot Exchange Rate  \n",
       "\n",
       "[84159 rows x 4 columns]"
      ]
     },
     "execution_count": 37,
     "metadata": {},
     "output_type": "execute_result"
    }
   ],
   "source": [
    "%%dql\n",
    "SELECT \n",
    "    f.*\n",
    "    ,d.name\n",
    "FROM fact_FRED f\n",
    "INNER JOIN dim_SRDESC d ON f.series_id = d.series_id;"
   ]
  },
  {
   "cell_type": "markdown",
   "metadata": {},
   "source": [
    "### **Step 4: Save Tables to CSV**"
   ]
  },
  {
   "cell_type": "code",
   "execution_count": 81,
   "metadata": {},
   "outputs": [
    {
     "name": "stdout",
     "output_type": "stream",
     "text": [
      "shape: (2,)\n",
      "Series: 'table_name' [str]\n",
      "[\n",
      "\t\"dim_SRDESC\"\n",
      "\t\"fact_FRED\"\n",
      "]\n"
     ]
    }
   ],
   "source": [
    "df_arrow = con.sql('select table_name from information_schema.tables').arrow() # Extract to Arrow DF\n",
    "df_table_names = pl.DataFrame(df_arrow).get_column('table_name') # Convert Arrow to Polars DF\n",
    "print(df_table_names)\n",
    "\n",
    "for table_name in df_table_names:\n",
    "    con.sql(f'''COPY {table_name} TO {table_name + '.csv'}''')"
   ]
  },
  {
   "cell_type": "code",
   "execution_count": 82,
   "metadata": {},
   "outputs": [],
   "source": [
    "con.close()"
   ]
  }
 ],
 "metadata": {
  "kernelspec": {
   "display_name": "Python 3",
   "language": "python",
   "name": "python3"
  },
  "language_info": {
   "codemirror_mode": {
    "name": "ipython",
    "version": 3
   },
   "file_extension": ".py",
   "mimetype": "text/x-python",
   "name": "python",
   "nbconvert_exporter": "python",
   "pygments_lexer": "ipython3",
   "version": "3.12.3"
  }
 },
 "nbformat": 4,
 "nbformat_minor": 2
}
