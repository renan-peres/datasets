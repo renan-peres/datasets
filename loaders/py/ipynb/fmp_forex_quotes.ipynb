{
 "cells": [
  {
   "cell_type": "markdown",
   "metadata": {},
   "source": [
    "## Step 1: Import Libraries"
   ]
  },
  {
   "cell_type": "code",
   "execution_count": 1,
   "metadata": {
    "execution": {
     "iopub.execute_input": "2025-01-07T10:05:18.196385Z",
     "iopub.status.busy": "2025-01-07T10:05:18.195954Z",
     "iopub.status.idle": "2025-01-07T10:05:18.259398Z",
     "shell.execute_reply": "2025-01-07T10:05:18.258917Z"
    }
   },
   "outputs": [],
   "source": [
    "%run ../make_clean_names.py"
   ]
  },
  {
   "cell_type": "code",
   "execution_count": 2,
   "metadata": {
    "execution": {
     "iopub.execute_input": "2025-01-07T10:05:18.261570Z",
     "iopub.status.busy": "2025-01-07T10:05:18.261246Z",
     "iopub.status.idle": "2025-01-07T10:05:18.327072Z",
     "shell.execute_reply": "2025-01-07T10:05:18.326427Z"
    }
   },
   "outputs": [],
   "source": [
    "import requests\n",
    "from requests.adapters import HTTPAdapter\n",
    "from requests.packages.urllib3.util.retry import Retry\n",
    "import logging\n",
    "import concurrent.futures\n",
    "from datetime import datetime\n",
    "from typing import Dict, List\n",
    "from concurrent.futures import ThreadPoolExecutor\n",
    "import polars as pl\n",
    "\n",
    "from dotenv import load_dotenv\n",
    "import os\n",
    "\n",
    "# Load environment variables\n",
    "load_dotenv()\n",
    "\n",
    "logging.basicConfig(level=logging.INFO)\n",
    "logger = logging.getLogger(__name__)\n",
    "\n",
    "def create_session():\n",
    "    session = requests.Session()\n",
    "    retries = Retry(\n",
    "        total=3,\n",
    "        backoff_factor=1,\n",
    "        status_forcelist=[429, 500, 502, 503, 504]\n",
    "    )\n",
    "    session.mount('https://', HTTPAdapter(max_retries=retries, pool_maxsize=10))\n",
    "    return session\n",
    "\n",
    "# Get API key from environment variables\n",
    "FMP_API_KEY = os.getenv('FMP_API_KEY')\n",
    "if not FMP_API_KEY:\n",
    "    raise ValueError(\"FMP_API_KEY not found in environment variables\")"
   ]
  },
  {
   "cell_type": "markdown",
   "metadata": {},
   "source": [
    "## Step 2: Import Forex Pairs"
   ]
  },
  {
   "cell_type": "code",
   "execution_count": 3,
   "metadata": {
    "execution": {
     "iopub.execute_input": "2025-01-07T10:05:18.329485Z",
     "iopub.status.busy": "2025-01-07T10:05:18.329057Z",
     "iopub.status.idle": "2025-01-07T10:05:18.333698Z",
     "shell.execute_reply": "2025-01-07T10:05:18.333161Z"
    }
   },
   "outputs": [
    {
     "name": "stdout",
     "output_type": "stream",
     "text": [
      "Loaded 4 pairs from ../fx_pairs.txt\n",
      "pairs: ['USDEUR', 'USDBRL', 'USDGBP', 'USDJPY']\n"
     ]
    }
   ],
   "source": [
    "def load_pairs(file_path: str) -> List[str]:\n",
    "    \"\"\"Load pairs from a text file\"\"\"\n",
    "    try:\n",
    "        with open(file_path, 'r') as f:\n",
    "            pairs = [line.strip() for line in f if line.strip()]\n",
    "        print(f\"Loaded {len(pairs)} pairs from {file_path}\")\n",
    "        return pairs\n",
    "    except Exception as e:\n",
    "        print(f\"Error loading pairs: {str(e)}\")\n",
    "        return []\n",
    "\n",
    "pairs_file = '../fx_pairs.txt'\n",
    "pairs = load_pairs(pairs_file)\n",
    "\n",
    "if pairs:\n",
    "    print(\"pairs:\", pairs)\n",
    "else:\n",
    "    print(\"No pairs loaded.\")"
   ]
  },
  {
   "cell_type": "markdown",
   "metadata": {},
   "source": [
    "## Step 2: Extract Data from FMP into Polars"
   ]
  },
  {
   "cell_type": "code",
   "execution_count": 4,
   "metadata": {
    "execution": {
     "iopub.execute_input": "2025-01-07T10:05:18.372476Z",
     "iopub.status.busy": "2025-01-07T10:05:18.372089Z",
     "iopub.status.idle": "2025-01-07T10:05:18.621765Z",
     "shell.execute_reply": "2025-01-07T10:05:18.621296Z"
    }
   },
   "outputs": [],
   "source": [
    "start_date = '2020-01-01'\n",
    "end_date = datetime.today().strftime('%Y-%m-%d')\n",
    "\n",
    "def fetch_forex_data(pair: str, api_key: str, session: requests.Session) -> Dict:\n",
    "    \"\"\"Fetch historical forex data for a single pair with pair identifier\"\"\"\n",
    "    url = f\"https://financialmodelingprep.com/api/v3/historical-chart/1day/{pair}\"\n",
    "    params = {\n",
    "        \"from\": start_date,\n",
    "        \"to\": end_date,\n",
    "        \"apikey\": api_key\n",
    "    }\n",
    "        \n",
    "    try:\n",
    "        response = session.get(url, params=params, timeout=10)\n",
    "        response.raise_for_status()\n",
    "        data = response.json()\n",
    "        # Add pair identifier to each record\n",
    "        return [{\"pair\": pair, **record} for record in data] if data else None\n",
    "    except Exception as e:\n",
    "        logger.error(f\"Error fetching {pair}: {str(e)}\")\n",
    "        return None\n",
    "\n",
    "def fetch_all_forex_data(pairs: List[str], api_key: str) -> List[Dict]:\n",
    "    \"\"\"Fetch and combine forex data for multiple pairs\"\"\"\n",
    "    session = create_session()\n",
    "    \n",
    "    with ThreadPoolExecutor(max_workers=10) as executor:\n",
    "        futures = [\n",
    "            executor.submit(fetch_forex_data, pair, api_key, session)\n",
    "            for pair in pairs\n",
    "        ]\n",
    "        results = [\n",
    "            f.result() for f in concurrent.futures.as_completed(futures)\n",
    "        ]\n",
    "    \n",
    "    # Flatten results list and remove None values\n",
    "    all_data = []\n",
    "    for result in results:\n",
    "        if result:\n",
    "            all_data.extend(result)\n",
    "    return all_data\n",
    "\n",
    "# Execute fetching\n",
    "fx_data = fetch_all_forex_data(pairs, FMP_API_KEY)\n",
    "\n",
    "# Convert to Polars DataFrame if data exists\n",
    "if fx_data:\n",
    "    df = pl.DataFrame(fx_data)"
   ]
  },
  {
   "cell_type": "markdown",
   "metadata": {},
   "source": [
    "## Step 3: Clean Column Names"
   ]
  },
  {
   "cell_type": "code",
   "execution_count": 5,
   "metadata": {
    "execution": {
     "iopub.execute_input": "2025-01-07T10:05:18.624157Z",
     "iopub.status.busy": "2025-01-07T10:05:18.623638Z",
     "iopub.status.idle": "2025-01-07T10:05:18.628442Z",
     "shell.execute_reply": "2025-01-07T10:05:18.627876Z"
    }
   },
   "outputs": [],
   "source": [
    "df = make_clean_names(df)"
   ]
  },
  {
   "cell_type": "code",
   "execution_count": 6,
   "metadata": {
    "execution": {
     "iopub.execute_input": "2025-01-07T10:05:18.630176Z",
     "iopub.status.busy": "2025-01-07T10:05:18.629839Z",
     "iopub.status.idle": "2025-01-07T10:05:18.636526Z",
     "shell.execute_reply": "2025-01-07T10:05:18.635982Z"
    }
   },
   "outputs": [
    {
     "data": {
      "text/html": [
       "<div><style>\n",
       ".dataframe > thead > tr,\n",
       ".dataframe > tbody > tr {\n",
       "  text-align: right;\n",
       "  white-space: pre-wrap;\n",
       "}\n",
       "</style>\n",
       "<small>shape: (5_366, 7)</small><table border=\"1\" class=\"dataframe\"><thead><tr><th>pair</th><th>date</th><th>open</th><th>low</th><th>high</th><th>close</th><th>volume</th></tr><tr><td>str</td><td>str</td><td>f64</td><td>f64</td><td>f64</td><td>f64</td><td>i64</td></tr></thead><tbody><tr><td>&quot;USDJPY&quot;</td><td>&quot;2025-01-07 00:00:00&quot;</td><td>157.584</td><td>157.35</td><td>158.416</td><td>157.584</td><td>52309</td></tr><tr><td>&quot;USDJPY&quot;</td><td>&quot;2025-01-06 00:00:00&quot;</td><td>157.145</td><td>156.233</td><td>157.958</td><td>157.598</td><td>492763</td></tr><tr><td>&quot;USDJPY&quot;</td><td>&quot;2025-01-05 00:00:00&quot;</td><td>156.976</td><td>156.976</td><td>156.976</td><td>156.976</td><td>0</td></tr><tr><td>&quot;USDJPY&quot;</td><td>&quot;2025-01-03 00:00:00&quot;</td><td>157.524</td><td>156.869</td><td>157.56</td><td>157.266</td><td>246888</td></tr><tr><td>&quot;USDJPY&quot;</td><td>&quot;2025-01-02 00:00:00&quot;</td><td>157.312</td><td>156.43</td><td>157.847</td><td>157.524</td><td>562676</td></tr><tr><td>&hellip;</td><td>&hellip;</td><td>&hellip;</td><td>&hellip;</td><td>&hellip;</td><td>&hellip;</td><td>&hellip;</td></tr><tr><td>&quot;USDGBP&quot;</td><td>&quot;2020-01-16 00:00:00&quot;</td><td>0.76697</td><td>0.76441</td><td>0.76756</td><td>0.76459</td><td>0</td></tr><tr><td>&quot;USDGBP&quot;</td><td>&quot;2020-01-15 00:00:00&quot;</td><td>0.768</td><td>0.76677</td><td>0.76997</td><td>0.76699</td><td>0</td></tr><tr><td>&quot;USDGBP&quot;</td><td>&quot;2020-01-14 00:00:00&quot;</td><td>0.76995</td><td>0.7673</td><td>0.77185</td><td>0.76834</td><td>0</td></tr><tr><td>&quot;USDGBP&quot;</td><td>&quot;2020-01-13 00:00:00&quot;</td><td>0.76556</td><td>0.7655</td><td>0.77156</td><td>0.76988</td><td>0</td></tr><tr><td>&quot;USDGBP&quot;</td><td>&quot;2020-01-10 00:00:00&quot;</td><td>0.76528</td><td>0.7638</td><td>0.76634</td><td>0.76562</td><td>0</td></tr></tbody></table></div>"
      ],
      "text/plain": [
       "shape: (5_366, 7)\n",
       "┌────────┬─────────────────────┬─────────┬─────────┬─────────┬─────────┬────────┐\n",
       "│ pair   ┆ date                ┆ open    ┆ low     ┆ high    ┆ close   ┆ volume │\n",
       "│ ---    ┆ ---                 ┆ ---     ┆ ---     ┆ ---     ┆ ---     ┆ ---    │\n",
       "│ str    ┆ str                 ┆ f64     ┆ f64     ┆ f64     ┆ f64     ┆ i64    │\n",
       "╞════════╪═════════════════════╪═════════╪═════════╪═════════╪═════════╪════════╡\n",
       "│ USDJPY ┆ 2025-01-07 00:00:00 ┆ 157.584 ┆ 157.35  ┆ 158.416 ┆ 157.584 ┆ 52309  │\n",
       "│ USDJPY ┆ 2025-01-06 00:00:00 ┆ 157.145 ┆ 156.233 ┆ 157.958 ┆ 157.598 ┆ 492763 │\n",
       "│ USDJPY ┆ 2025-01-05 00:00:00 ┆ 156.976 ┆ 156.976 ┆ 156.976 ┆ 156.976 ┆ 0      │\n",
       "│ USDJPY ┆ 2025-01-03 00:00:00 ┆ 157.524 ┆ 156.869 ┆ 157.56  ┆ 157.266 ┆ 246888 │\n",
       "│ USDJPY ┆ 2025-01-02 00:00:00 ┆ 157.312 ┆ 156.43  ┆ 157.847 ┆ 157.524 ┆ 562676 │\n",
       "│ …      ┆ …                   ┆ …       ┆ …       ┆ …       ┆ …       ┆ …      │\n",
       "│ USDGBP ┆ 2020-01-16 00:00:00 ┆ 0.76697 ┆ 0.76441 ┆ 0.76756 ┆ 0.76459 ┆ 0      │\n",
       "│ USDGBP ┆ 2020-01-15 00:00:00 ┆ 0.768   ┆ 0.76677 ┆ 0.76997 ┆ 0.76699 ┆ 0      │\n",
       "│ USDGBP ┆ 2020-01-14 00:00:00 ┆ 0.76995 ┆ 0.7673  ┆ 0.77185 ┆ 0.76834 ┆ 0      │\n",
       "│ USDGBP ┆ 2020-01-13 00:00:00 ┆ 0.76556 ┆ 0.7655  ┆ 0.77156 ┆ 0.76988 ┆ 0      │\n",
       "│ USDGBP ┆ 2020-01-10 00:00:00 ┆ 0.76528 ┆ 0.7638  ┆ 0.76634 ┆ 0.76562 ┆ 0      │\n",
       "└────────┴─────────────────────┴─────────┴─────────┴─────────┴─────────┴────────┘"
      ]
     },
     "execution_count": 6,
     "metadata": {},
     "output_type": "execute_result"
    }
   ],
   "source": [
    "df"
   ]
  },
  {
   "cell_type": "markdown",
   "metadata": {},
   "source": [
    "## Step 4: Write Polars to Parquet"
   ]
  },
  {
   "cell_type": "code",
   "execution_count": 7,
   "metadata": {
    "execution": {
     "iopub.execute_input": "2025-01-07T10:05:18.638507Z",
     "iopub.status.busy": "2025-01-07T10:05:18.638098Z",
     "iopub.status.idle": "2025-01-07T10:05:18.645811Z",
     "shell.execute_reply": "2025-01-07T10:05:18.645219Z"
    }
   },
   "outputs": [],
   "source": [
    "# Define the output directory\n",
    "output_dir = \"../../../data/finance\"\n",
    "\n",
    "# Write the processed DataFrame to a Parquet file\n",
    "df.write_parquet(f'{output_dir}/historical_fx_quotes.parquet')"
   ]
  },
  {
   "cell_type": "markdown",
   "metadata": {},
   "source": [
    "## Step 5: Read Parquet (Validate)"
   ]
  },
  {
   "cell_type": "code",
   "execution_count": 8,
   "metadata": {
    "execution": {
     "iopub.execute_input": "2025-01-07T10:05:18.648020Z",
     "iopub.status.busy": "2025-01-07T10:05:18.647505Z",
     "iopub.status.idle": "2025-01-07T10:05:18.652715Z",
     "shell.execute_reply": "2025-01-07T10:05:18.652261Z"
    }
   },
   "outputs": [
    {
     "data": {
      "text/html": [
       "<div><style>\n",
       ".dataframe > thead > tr,\n",
       ".dataframe > tbody > tr {\n",
       "  text-align: right;\n",
       "  white-space: pre-wrap;\n",
       "}\n",
       "</style>\n",
       "<small>shape: (5, 7)</small><table border=\"1\" class=\"dataframe\"><thead><tr><th>pair</th><th>date</th><th>open</th><th>low</th><th>high</th><th>close</th><th>volume</th></tr><tr><td>str</td><td>str</td><td>f64</td><td>f64</td><td>f64</td><td>f64</td><td>i64</td></tr></thead><tbody><tr><td>&quot;USDJPY&quot;</td><td>&quot;2025-01-07 00:00:00&quot;</td><td>157.584</td><td>157.35</td><td>158.416</td><td>157.584</td><td>52309</td></tr><tr><td>&quot;USDJPY&quot;</td><td>&quot;2025-01-06 00:00:00&quot;</td><td>157.145</td><td>156.233</td><td>157.958</td><td>157.598</td><td>492763</td></tr><tr><td>&quot;USDJPY&quot;</td><td>&quot;2025-01-05 00:00:00&quot;</td><td>156.976</td><td>156.976</td><td>156.976</td><td>156.976</td><td>0</td></tr><tr><td>&quot;USDJPY&quot;</td><td>&quot;2025-01-03 00:00:00&quot;</td><td>157.524</td><td>156.869</td><td>157.56</td><td>157.266</td><td>246888</td></tr><tr><td>&quot;USDJPY&quot;</td><td>&quot;2025-01-02 00:00:00&quot;</td><td>157.312</td><td>156.43</td><td>157.847</td><td>157.524</td><td>562676</td></tr></tbody></table></div>"
      ],
      "text/plain": [
       "shape: (5, 7)\n",
       "┌────────┬─────────────────────┬─────────┬─────────┬─────────┬─────────┬────────┐\n",
       "│ pair   ┆ date                ┆ open    ┆ low     ┆ high    ┆ close   ┆ volume │\n",
       "│ ---    ┆ ---                 ┆ ---     ┆ ---     ┆ ---     ┆ ---     ┆ ---    │\n",
       "│ str    ┆ str                 ┆ f64     ┆ f64     ┆ f64     ┆ f64     ┆ i64    │\n",
       "╞════════╪═════════════════════╪═════════╪═════════╪═════════╪═════════╪════════╡\n",
       "│ USDJPY ┆ 2025-01-07 00:00:00 ┆ 157.584 ┆ 157.35  ┆ 158.416 ┆ 157.584 ┆ 52309  │\n",
       "│ USDJPY ┆ 2025-01-06 00:00:00 ┆ 157.145 ┆ 156.233 ┆ 157.958 ┆ 157.598 ┆ 492763 │\n",
       "│ USDJPY ┆ 2025-01-05 00:00:00 ┆ 156.976 ┆ 156.976 ┆ 156.976 ┆ 156.976 ┆ 0      │\n",
       "│ USDJPY ┆ 2025-01-03 00:00:00 ┆ 157.524 ┆ 156.869 ┆ 157.56  ┆ 157.266 ┆ 246888 │\n",
       "│ USDJPY ┆ 2025-01-02 00:00:00 ┆ 157.312 ┆ 156.43  ┆ 157.847 ┆ 157.524 ┆ 562676 │\n",
       "└────────┴─────────────────────┴─────────┴─────────┴─────────┴─────────┴────────┘"
      ]
     },
     "execution_count": 8,
     "metadata": {},
     "output_type": "execute_result"
    }
   ],
   "source": [
    "# Validate the output by reading the Parquet file and displaying the first few rows\n",
    "pl.scan_parquet(f'{output_dir}/historical_fx_quotes.parquet').head().collect()"
   ]
  }
 ],
 "metadata": {
  "kernelspec": {
   "display_name": ".venv",
   "language": "python",
   "name": "python3"
  },
  "language_info": {
   "codemirror_mode": {
    "name": "ipython",
    "version": 3
   },
   "file_extension": ".py",
   "mimetype": "text/x-python",
   "name": "python",
   "nbconvert_exporter": "python",
   "pygments_lexer": "ipython3",
   "version": "3.12.8"
  }
 },
 "nbformat": 4,
 "nbformat_minor": 2
}
