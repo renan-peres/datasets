{
 "cells": [
  {
   "cell_type": "markdown",
   "metadata": {},
   "source": [
    "## Step 1: Import Libraries"
   ]
  },
  {
   "cell_type": "code",
   "execution_count": 1,
   "metadata": {
    "execution": {
     "iopub.execute_input": "2025-01-27T10:05:33.220815Z",
     "iopub.status.busy": "2025-01-27T10:05:33.220633Z",
     "iopub.status.idle": "2025-01-27T10:05:33.288818Z",
     "shell.execute_reply": "2025-01-27T10:05:33.288219Z"
    }
   },
   "outputs": [],
   "source": [
    "%run ../make_clean_names.py"
   ]
  },
  {
   "cell_type": "code",
   "execution_count": 2,
   "metadata": {
    "execution": {
     "iopub.execute_input": "2025-01-27T10:05:33.291243Z",
     "iopub.status.busy": "2025-01-27T10:05:33.290865Z",
     "iopub.status.idle": "2025-01-27T10:05:33.359568Z",
     "shell.execute_reply": "2025-01-27T10:05:33.358910Z"
    }
   },
   "outputs": [],
   "source": [
    "import concurrent.futures\n",
    "from concurrent.futures import ThreadPoolExecutor\n",
    "import requests\n",
    "from requests.adapters import HTTPAdapter\n",
    "from urllib3.util.retry import Retry\n",
    "import logging\n",
    "\n",
    "import polars as pl\n",
    "from datetime import datetime, timedelta\n",
    "from dotenv import load_dotenv\n",
    "import os\n",
    "\n",
    "# Load environment variables\n",
    "load_dotenv()\n",
    "\n",
    "logging.basicConfig(level=logging.INFO)\n",
    "logger = logging.getLogger(__name__)\n",
    "\n",
    "def create_session():\n",
    "    session = requests.Session()\n",
    "    retries = Retry(\n",
    "        total=3,\n",
    "        backoff_factor=1,\n",
    "        status_forcelist=[429, 500, 502, 503, 504]\n",
    "    )\n",
    "    session.mount('https://', HTTPAdapter(max_retries=retries, pool_maxsize=10))\n",
    "    return session\n",
    "\n",
    "# Get API key from environment variables\n",
    "FMP_API_KEY = os.getenv('FMP_API_KEY')\n",
    "if not FMP_API_KEY:\n",
    "    raise ValueError(\"FMP_API_KEY not found in environment variables\")"
   ]
  },
  {
   "cell_type": "markdown",
   "metadata": {},
   "source": [
    "## Step 2: Import Symbols"
   ]
  },
  {
   "cell_type": "code",
   "execution_count": 3,
   "metadata": {
    "execution": {
     "iopub.execute_input": "2025-01-27T10:05:33.361786Z",
     "iopub.status.busy": "2025-01-27T10:05:33.361591Z",
     "iopub.status.idle": "2025-01-27T10:05:33.366281Z",
     "shell.execute_reply": "2025-01-27T10:05:33.365703Z"
    }
   },
   "outputs": [
    {
     "name": "stdout",
     "output_type": "stream",
     "text": [
      "Loaded 61 symbols from ../tickers.txt\n",
      "Symbols: ['AAPL', 'MSFT', 'GOOGL', 'GOOG', 'META', 'NVDA', 'AVGO', 'ORCL', 'CRM', 'ACN', 'ADBE', 'CSCO', 'INTC', 'NFLX', 'DIS', 'CMCSA', 'VZ', 'T', 'AMZN', 'TSLA', 'HD', 'MCD', 'NKE', 'SBUX', 'TGT', 'LOW', 'WMT', 'PG', 'KO', 'PEP', 'COST', 'BRK-B', 'JPM', 'BAC', 'WFC', 'GS', 'MS', 'BLK', 'UNH', 'JNJ', 'PFE', 'ABBV', 'MRK', 'LLY', 'CAT', 'BA', 'HON', 'UPS', 'RTX', 'GE', 'XOM', 'CVX', 'COP', 'SLB', 'LIN', 'APD', 'ECL', 'PLD', 'AMT', 'CCI', 'OSW']\n"
     ]
    }
   ],
   "source": [
    "def load_symbols(file_path: str) -> List[str]:\n",
    "    \"\"\"Load symbols from a text file\"\"\"\n",
    "    try:\n",
    "        with open(file_path, 'r') as f:\n",
    "            symbols = [line.strip() for line in f if line.strip()]\n",
    "        print(f\"Loaded {len(symbols)} symbols from {file_path}\")\n",
    "        return symbols\n",
    "    except Exception as e:\n",
    "        print(f\"Error loading symbols: {str(e)}\")\n",
    "        return []\n",
    "\n",
    "symbols_file = '../tickers.txt'\n",
    "symbols = load_symbols(symbols_file)\n",
    "\n",
    "if symbols:\n",
    "    print(\"Symbols:\", symbols)\n",
    "else:\n",
    "    print(\"No symbols loaded.\")"
   ]
  },
  {
   "cell_type": "markdown",
   "metadata": {},
   "source": [
    "## Step 3: Extract Data from FMP into Polars"
   ]
  },
  {
   "cell_type": "code",
   "execution_count": 4,
   "metadata": {
    "execution": {
     "iopub.execute_input": "2025-01-27T10:05:33.405112Z",
     "iopub.status.busy": "2025-01-27T10:05:33.404695Z",
     "iopub.status.idle": "2025-01-27T10:06:04.339294Z",
     "shell.execute_reply": "2025-01-27T10:06:04.338789Z"
    }
   },
   "outputs": [
    {
     "name": "stderr",
     "output_type": "stream",
     "text": [
      "ERROR:__main__:Error fetching MSFT: HTTPSConnectionPool(host='financialmodelingprep.com', port=443): Max retries exceeded with url: /api/v3/profile/MSFT?apikey=PBkrv7HEcbYqq5BmXIRgFjfxzbLzuKmI (Caused by ResponseError('too many 429 error responses'))\n"
     ]
    },
    {
     "name": "stderr",
     "output_type": "stream",
     "text": [
      "ERROR:__main__:Error fetching GOOGL: HTTPSConnectionPool(host='financialmodelingprep.com', port=443): Max retries exceeded with url: /api/v3/profile/GOOGL?apikey=PBkrv7HEcbYqq5BmXIRgFjfxzbLzuKmI (Caused by ResponseError('too many 429 error responses'))\n"
     ]
    },
    {
     "name": "stderr",
     "output_type": "stream",
     "text": [
      "ERROR:__main__:Error fetching AAPL: HTTPSConnectionPool(host='financialmodelingprep.com', port=443): Max retries exceeded with url: /api/v3/profile/AAPL?apikey=PBkrv7HEcbYqq5BmXIRgFjfxzbLzuKmI (Caused by ResponseError('too many 429 error responses'))\n"
     ]
    },
    {
     "name": "stderr",
     "output_type": "stream",
     "text": [
      "ERROR:__main__:Error fetching ACN: HTTPSConnectionPool(host='financialmodelingprep.com', port=443): Max retries exceeded with url: /api/v3/profile/ACN?apikey=PBkrv7HEcbYqq5BmXIRgFjfxzbLzuKmI (Caused by ResponseError('too many 429 error responses'))\n"
     ]
    },
    {
     "name": "stderr",
     "output_type": "stream",
     "text": [
      "ERROR:__main__:Error fetching AVGO: HTTPSConnectionPool(host='financialmodelingprep.com', port=443): Max retries exceeded with url: /api/v3/profile/AVGO?apikey=PBkrv7HEcbYqq5BmXIRgFjfxzbLzuKmI (Caused by ResponseError('too many 429 error responses'))\n"
     ]
    },
    {
     "name": "stderr",
     "output_type": "stream",
     "text": [
      "ERROR:__main__:Error fetching CRM: HTTPSConnectionPool(host='financialmodelingprep.com', port=443): Max retries exceeded with url: /api/v3/profile/CRM?apikey=PBkrv7HEcbYqq5BmXIRgFjfxzbLzuKmI (Caused by ResponseError('too many 429 error responses'))\n"
     ]
    },
    {
     "name": "stderr",
     "output_type": "stream",
     "text": [
      "ERROR:__main__:Error fetching ORCL: HTTPSConnectionPool(host='financialmodelingprep.com', port=443): Max retries exceeded with url: /api/v3/profile/ORCL?apikey=PBkrv7HEcbYqq5BmXIRgFjfxzbLzuKmI (Caused by ResponseError('too many 429 error responses'))\n"
     ]
    },
    {
     "name": "stderr",
     "output_type": "stream",
     "text": [
      "ERROR:__main__:Error fetching NVDA: HTTPSConnectionPool(host='financialmodelingprep.com', port=443): Max retries exceeded with url: /api/v3/profile/NVDA?apikey=PBkrv7HEcbYqq5BmXIRgFjfxzbLzuKmI (Caused by ResponseError('too many 429 error responses'))\n"
     ]
    },
    {
     "name": "stderr",
     "output_type": "stream",
     "text": [
      "ERROR:__main__:Error fetching GOOG: HTTPSConnectionPool(host='financialmodelingprep.com', port=443): Max retries exceeded with url: /api/v3/profile/GOOG?apikey=PBkrv7HEcbYqq5BmXIRgFjfxzbLzuKmI (Caused by ResponseError('too many 429 error responses'))\n"
     ]
    },
    {
     "name": "stderr",
     "output_type": "stream",
     "text": [
      "ERROR:__main__:Error fetching META: HTTPSConnectionPool(host='financialmodelingprep.com', port=443): Max retries exceeded with url: /api/v3/profile/META?apikey=PBkrv7HEcbYqq5BmXIRgFjfxzbLzuKmI (Caused by ResponseError('too many 429 error responses'))\n"
     ]
    },
    {
     "name": "stderr",
     "output_type": "stream",
     "text": [
      "ERROR:__main__:Error fetching CSCO: HTTPSConnectionPool(host='financialmodelingprep.com', port=443): Max retries exceeded with url: /api/v3/profile/CSCO?apikey=PBkrv7HEcbYqq5BmXIRgFjfxzbLzuKmI (Caused by ResponseError('too many 429 error responses'))\n"
     ]
    },
    {
     "name": "stderr",
     "output_type": "stream",
     "text": [
      "ERROR:__main__:Error fetching ADBE: HTTPSConnectionPool(host='financialmodelingprep.com', port=443): Max retries exceeded with url: /api/v3/profile/ADBE?apikey=PBkrv7HEcbYqq5BmXIRgFjfxzbLzuKmI (Caused by ResponseError('too many 429 error responses'))\n"
     ]
    },
    {
     "name": "stderr",
     "output_type": "stream",
     "text": [
      "ERROR:__main__:Error fetching INTC: HTTPSConnectionPool(host='financialmodelingprep.com', port=443): Max retries exceeded with url: /api/v3/profile/INTC?apikey=PBkrv7HEcbYqq5BmXIRgFjfxzbLzuKmI (Caused by ResponseError('too many 429 error responses'))\n"
     ]
    },
    {
     "name": "stderr",
     "output_type": "stream",
     "text": [
      "ERROR:__main__:Error fetching VZ: HTTPSConnectionPool(host='financialmodelingprep.com', port=443): Max retries exceeded with url: /api/v3/profile/VZ?apikey=PBkrv7HEcbYqq5BmXIRgFjfxzbLzuKmI (Caused by ResponseError('too many 429 error responses'))\n"
     ]
    },
    {
     "name": "stderr",
     "output_type": "stream",
     "text": [
      "ERROR:__main__:Error fetching T: HTTPSConnectionPool(host='financialmodelingprep.com', port=443): Max retries exceeded with url: /api/v3/profile/T?apikey=PBkrv7HEcbYqq5BmXIRgFjfxzbLzuKmI (Caused by ResponseError('too many 429 error responses'))\n"
     ]
    },
    {
     "name": "stderr",
     "output_type": "stream",
     "text": [
      "ERROR:__main__:Error fetching NFLX: HTTPSConnectionPool(host='financialmodelingprep.com', port=443): Max retries exceeded with url: /api/v3/profile/NFLX?apikey=PBkrv7HEcbYqq5BmXIRgFjfxzbLzuKmI (Caused by ResponseError('too many 429 error responses'))\n"
     ]
    },
    {
     "name": "stderr",
     "output_type": "stream",
     "text": [
      "ERROR:__main__:Error fetching AMZN: HTTPSConnectionPool(host='financialmodelingprep.com', port=443): Max retries exceeded with url: /api/v3/profile/AMZN?apikey=PBkrv7HEcbYqq5BmXIRgFjfxzbLzuKmI (Caused by ResponseError('too many 429 error responses'))\n"
     ]
    },
    {
     "name": "stderr",
     "output_type": "stream",
     "text": [
      "ERROR:__main__:Error fetching DIS: HTTPSConnectionPool(host='financialmodelingprep.com', port=443): Max retries exceeded with url: /api/v3/profile/DIS?apikey=PBkrv7HEcbYqq5BmXIRgFjfxzbLzuKmI (Caused by ResponseError('too many 429 error responses'))\n"
     ]
    },
    {
     "name": "stderr",
     "output_type": "stream",
     "text": [
      "ERROR:__main__:Error fetching CMCSA: HTTPSConnectionPool(host='financialmodelingprep.com', port=443): Max retries exceeded with url: /api/v3/profile/CMCSA?apikey=PBkrv7HEcbYqq5BmXIRgFjfxzbLzuKmI (Caused by ResponseError('too many 429 error responses'))\n"
     ]
    },
    {
     "name": "stderr",
     "output_type": "stream",
     "text": [
      "ERROR:__main__:Error fetching TSLA: HTTPSConnectionPool(host='financialmodelingprep.com', port=443): Max retries exceeded with url: /api/v3/profile/TSLA?apikey=PBkrv7HEcbYqq5BmXIRgFjfxzbLzuKmI (Caused by ResponseError('too many 429 error responses'))\n"
     ]
    },
    {
     "name": "stderr",
     "output_type": "stream",
     "text": [
      "ERROR:__main__:Error fetching HD: HTTPSConnectionPool(host='financialmodelingprep.com', port=443): Max retries exceeded with url: /api/v3/profile/HD?apikey=PBkrv7HEcbYqq5BmXIRgFjfxzbLzuKmI (Caused by ResponseError('too many 429 error responses'))\n"
     ]
    },
    {
     "name": "stderr",
     "output_type": "stream",
     "text": [
      "ERROR:__main__:Error fetching WMT: HTTPSConnectionPool(host='financialmodelingprep.com', port=443): Max retries exceeded with url: /api/v3/profile/WMT?apikey=PBkrv7HEcbYqq5BmXIRgFjfxzbLzuKmI (Caused by ResponseError('too many 429 error responses'))\n"
     ]
    },
    {
     "name": "stderr",
     "output_type": "stream",
     "text": [
      "ERROR:__main__:Error fetching LOW: HTTPSConnectionPool(host='financialmodelingprep.com', port=443): Max retries exceeded with url: /api/v3/profile/LOW?apikey=PBkrv7HEcbYqq5BmXIRgFjfxzbLzuKmI (Caused by ResponseError('too many 429 error responses'))\n"
     ]
    },
    {
     "name": "stderr",
     "output_type": "stream",
     "text": [
      "ERROR:__main__:Error fetching SBUX: HTTPSConnectionPool(host='financialmodelingprep.com', port=443): Max retries exceeded with url: /api/v3/profile/SBUX?apikey=PBkrv7HEcbYqq5BmXIRgFjfxzbLzuKmI (Caused by ResponseError('too many 429 error responses'))\n"
     ]
    },
    {
     "name": "stderr",
     "output_type": "stream",
     "text": [
      "ERROR:__main__:Error fetching PG: HTTPSConnectionPool(host='financialmodelingprep.com', port=443): Max retries exceeded with url: /api/v3/profile/PG?apikey=PBkrv7HEcbYqq5BmXIRgFjfxzbLzuKmI (Caused by ResponseError('too many 429 error responses'))\n"
     ]
    },
    {
     "name": "stderr",
     "output_type": "stream",
     "text": [
      "ERROR:__main__:Error fetching MCD: HTTPSConnectionPool(host='financialmodelingprep.com', port=443): Max retries exceeded with url: /api/v3/profile/MCD?apikey=PBkrv7HEcbYqq5BmXIRgFjfxzbLzuKmI (Caused by ResponseError('too many 429 error responses'))\n"
     ]
    },
    {
     "name": "stderr",
     "output_type": "stream",
     "text": [
      "ERROR:__main__:Error fetching TGT: HTTPSConnectionPool(host='financialmodelingprep.com', port=443): Max retries exceeded with url: /api/v3/profile/TGT?apikey=PBkrv7HEcbYqq5BmXIRgFjfxzbLzuKmI (Caused by ResponseError('too many 429 error responses'))\n"
     ]
    },
    {
     "name": "stderr",
     "output_type": "stream",
     "text": [
      "ERROR:__main__:Error fetching NKE: HTTPSConnectionPool(host='financialmodelingprep.com', port=443): Max retries exceeded with url: /api/v3/profile/NKE?apikey=PBkrv7HEcbYqq5BmXIRgFjfxzbLzuKmI (Caused by ResponseError('too many 429 error responses'))\n"
     ]
    },
    {
     "name": "stderr",
     "output_type": "stream",
     "text": [
      "ERROR:__main__:Error fetching PEP: HTTPSConnectionPool(host='financialmodelingprep.com', port=443): Max retries exceeded with url: /api/v3/profile/PEP?apikey=PBkrv7HEcbYqq5BmXIRgFjfxzbLzuKmI (Caused by ResponseError('too many 429 error responses'))\n"
     ]
    },
    {
     "name": "stderr",
     "output_type": "stream",
     "text": [
      "ERROR:__main__:Error fetching KO: HTTPSConnectionPool(host='financialmodelingprep.com', port=443): Max retries exceeded with url: /api/v3/profile/KO?apikey=PBkrv7HEcbYqq5BmXIRgFjfxzbLzuKmI (Caused by ResponseError('too many 429 error responses'))\n"
     ]
    },
    {
     "name": "stderr",
     "output_type": "stream",
     "text": [
      "ERROR:__main__:Error fetching COST: HTTPSConnectionPool(host='financialmodelingprep.com', port=443): Max retries exceeded with url: /api/v3/profile/COST?apikey=PBkrv7HEcbYqq5BmXIRgFjfxzbLzuKmI (Caused by ResponseError('too many 429 error responses'))\n"
     ]
    },
    {
     "name": "stderr",
     "output_type": "stream",
     "text": [
      "ERROR:__main__:Error fetching JPM: HTTPSConnectionPool(host='financialmodelingprep.com', port=443): Max retries exceeded with url: /api/v3/profile/JPM?apikey=PBkrv7HEcbYqq5BmXIRgFjfxzbLzuKmI (Caused by ResponseError('too many 429 error responses'))\n"
     ]
    },
    {
     "name": "stderr",
     "output_type": "stream",
     "text": [
      "ERROR:__main__:Error fetching GS: HTTPSConnectionPool(host='financialmodelingprep.com', port=443): Max retries exceeded with url: /api/v3/profile/GS?apikey=PBkrv7HEcbYqq5BmXIRgFjfxzbLzuKmI (Caused by ResponseError('too many 429 error responses'))\n"
     ]
    },
    {
     "name": "stderr",
     "output_type": "stream",
     "text": [
      "ERROR:__main__:Error fetching BAC: HTTPSConnectionPool(host='financialmodelingprep.com', port=443): Max retries exceeded with url: /api/v3/profile/BAC?apikey=PBkrv7HEcbYqq5BmXIRgFjfxzbLzuKmI (Caused by ResponseError('too many 429 error responses'))\n"
     ]
    },
    {
     "name": "stderr",
     "output_type": "stream",
     "text": [
      "ERROR:__main__:Error fetching BRK-B: HTTPSConnectionPool(host='financialmodelingprep.com', port=443): Max retries exceeded with url: /api/v3/profile/BRK-B?apikey=PBkrv7HEcbYqq5BmXIRgFjfxzbLzuKmI (Caused by ResponseError('too many 429 error responses'))\n"
     ]
    },
    {
     "name": "stderr",
     "output_type": "stream",
     "text": [
      "ERROR:__main__:Error fetching WFC: HTTPSConnectionPool(host='financialmodelingprep.com', port=443): Max retries exceeded with url: /api/v3/profile/WFC?apikey=PBkrv7HEcbYqq5BmXIRgFjfxzbLzuKmI (Caused by ResponseError('too many 429 error responses'))\n"
     ]
    },
    {
     "name": "stderr",
     "output_type": "stream",
     "text": [
      "ERROR:__main__:Error fetching BLK: HTTPSConnectionPool(host='financialmodelingprep.com', port=443): Max retries exceeded with url: /api/v3/profile/BLK?apikey=PBkrv7HEcbYqq5BmXIRgFjfxzbLzuKmI (Caused by ResponseError('too many 429 error responses'))\n"
     ]
    },
    {
     "name": "stderr",
     "output_type": "stream",
     "text": [
      "ERROR:__main__:Error fetching MS: HTTPSConnectionPool(host='financialmodelingprep.com', port=443): Max retries exceeded with url: /api/v3/profile/MS?apikey=PBkrv7HEcbYqq5BmXIRgFjfxzbLzuKmI (Caused by ResponseError('too many 429 error responses'))\n"
     ]
    },
    {
     "name": "stderr",
     "output_type": "stream",
     "text": [
      "ERROR:__main__:Error fetching UNH: HTTPSConnectionPool(host='financialmodelingprep.com', port=443): Max retries exceeded with url: /api/v3/profile/UNH?apikey=PBkrv7HEcbYqq5BmXIRgFjfxzbLzuKmI (Caused by ResponseError('too many 429 error responses'))\n"
     ]
    },
    {
     "name": "stderr",
     "output_type": "stream",
     "text": [
      "ERROR:__main__:Error fetching JNJ: HTTPSConnectionPool(host='financialmodelingprep.com', port=443): Max retries exceeded with url: /api/v3/profile/JNJ?apikey=PBkrv7HEcbYqq5BmXIRgFjfxzbLzuKmI (Caused by ResponseError('too many 429 error responses'))\n"
     ]
    }
   ],
   "source": [
    "def fetch_company_profile(symbol: str, api_key: str, session: requests.Session) -> Dict:\n",
    "    \"\"\"Fetch company profile data from FMP API\"\"\"\n",
    "    url = f\"https://financialmodelingprep.com/api/v3/profile/{symbol}\"\n",
    "    params = {\"apikey\": api_key}\n",
    "    \n",
    "    try:\n",
    "        response = session.get(url, params=params, timeout=10)\n",
    "        response.raise_for_status()\n",
    "        return response.json()\n",
    "    except Exception as e:\n",
    "        logger.error(f\"Error fetching {symbol}: {str(e)}\")\n",
    "        return None\n",
    "\n",
    "def fetch_all_profiles(symbols: List[str], api_key: str) -> List[Dict]:\n",
    "    session = create_session()\n",
    "    \n",
    "    with ThreadPoolExecutor(max_workers=10) as executor:\n",
    "        futures = [\n",
    "            executor.submit(fetch_company_profile, symbol, api_key, session)\n",
    "            for symbol in symbols\n",
    "        ]\n",
    "        results = [\n",
    "            f.result() for f in concurrent.futures.as_completed(futures)\n",
    "        ]\n",
    "    \n",
    "    return [r[0] for r in results if r and isinstance(r, list)]\n",
    "\n",
    "# Execute fetching\n",
    "company_profiles = fetch_all_profiles(symbols, FMP_API_KEY)\n",
    "\n",
    "# Convert to Polars DataFrame more efficiently\n",
    "if company_profiles:\n",
    "    df = pl.DataFrame(company_profiles)"
   ]
  },
  {
   "cell_type": "markdown",
   "metadata": {},
   "source": [
    "## Step 4: Clean Column Names"
   ]
  },
  {
   "cell_type": "code",
   "execution_count": 5,
   "metadata": {
    "execution": {
     "iopub.execute_input": "2025-01-27T10:06:04.341439Z",
     "iopub.status.busy": "2025-01-27T10:06:04.341091Z",
     "iopub.status.idle": "2025-01-27T10:06:04.346254Z",
     "shell.execute_reply": "2025-01-27T10:06:04.345693Z"
    }
   },
   "outputs": [],
   "source": [
    "df = make_clean_names(df)"
   ]
  },
  {
   "cell_type": "markdown",
   "metadata": {},
   "source": [
    "## Step 5: Write Polars to Parquet"
   ]
  },
  {
   "cell_type": "code",
   "execution_count": 6,
   "metadata": {
    "execution": {
     "iopub.execute_input": "2025-01-27T10:06:04.348096Z",
     "iopub.status.busy": "2025-01-27T10:06:04.347809Z",
     "iopub.status.idle": "2025-01-27T10:06:04.353539Z",
     "shell.execute_reply": "2025-01-27T10:06:04.353098Z"
    }
   },
   "outputs": [],
   "source": [
    "output_dir = \"../../../data/finance\"\n",
    "\n",
    "# Write DataFrame to Parquet\n",
    "df.write_parquet(f'{output_dir}/company_profile.parquet')"
   ]
  },
  {
   "cell_type": "markdown",
   "metadata": {},
   "source": [
    "## Step 6: Read Parquet (Validate)"
   ]
  },
  {
   "cell_type": "code",
   "execution_count": 7,
   "metadata": {
    "execution": {
     "iopub.execute_input": "2025-01-27T10:06:04.355334Z",
     "iopub.status.busy": "2025-01-27T10:06:04.355160Z",
     "iopub.status.idle": "2025-01-27T10:06:04.363269Z",
     "shell.execute_reply": "2025-01-27T10:06:04.362782Z"
    }
   },
   "outputs": [
    {
     "data": {
      "text/html": [
       "<div><style>\n",
       ".dataframe > thead > tr,\n",
       ".dataframe > tbody > tr {\n",
       "  text-align: right;\n",
       "  white-space: pre-wrap;\n",
       "}\n",
       "</style>\n",
       "<small>shape: (5, 36)</small><table border=\"1\" class=\"dataframe\"><thead><tr><th>symbol</th><th>price</th><th>beta</th><th>vol_avg</th><th>mkt_cap</th><th>last_div</th><th>range</th><th>changes</th><th>company_name</th><th>currency</th><th>cik</th><th>isin</th><th>cusip</th><th>exchange</th><th>exchange_short_name</th><th>industry</th><th>website</th><th>description</th><th>ceo</th><th>sector</th><th>country</th><th>full_time_employees</th><th>phone</th><th>address</th><th>city</th><th>state</th><th>zip</th><th>dcf_diff</th><th>dcf</th><th>image</th><th>ipo_date</th><th>default_image</th><th>is_etf</th><th>is_actively_trading</th><th>is_adr</th><th>is_fund</th></tr><tr><td>str</td><td>f64</td><td>f64</td><td>i64</td><td>i64</td><td>f64</td><td>str</td><td>f64</td><td>str</td><td>str</td><td>str</td><td>str</td><td>str</td><td>str</td><td>str</td><td>str</td><td>str</td><td>str</td><td>str</td><td>str</td><td>str</td><td>str</td><td>str</td><td>str</td><td>str</td><td>str</td><td>str</td><td>f64</td><td>f64</td><td>str</td><td>str</td><td>bool</td><td>bool</td><td>bool</td><td>bool</td><td>bool</td></tr></thead><tbody><tr><td>&quot;PFE&quot;</td><td>26.09</td><td>0.615</td><td>44575221</td><td>147851769100</td><td>1.69</td><td>&quot;24.48-31.54&quot;</td><td>0.08</td><td>&quot;Pfizer Inc.&quot;</td><td>&quot;USD&quot;</td><td>&quot;0000078003&quot;</td><td>&quot;US7170811035&quot;</td><td>&quot;717081103&quot;</td><td>&quot;New York Stock Exchange&quot;</td><td>&quot;NYSE&quot;</td><td>&quot;Drug Manufacturers - General&quot;</td><td>&quot;https://www.pfizer.com&quot;</td><td>&quot;Pfizer Inc. discovers, develop…</td><td>&quot;Dr. Albert&nbsp;&nbsp;Bourla D.V.M., Ph.…</td><td>&quot;Healthcare&quot;</td><td>&quot;US&quot;</td><td>&quot;88000&quot;</td><td>&quot;212 733 2323&quot;</td><td>&quot;235 East 42nd Street&quot;</td><td>&quot;New York&quot;</td><td>&quot;NY&quot;</td><td>&quot;10017&quot;</td><td>-36.86176</td><td>62.951759</td><td>&quot;https://images.financialmodeli…</td><td>&quot;1972-06-01&quot;</td><td>false</td><td>false</td><td>true</td><td>false</td><td>false</td></tr><tr><td>&quot;ABBV&quot;</td><td>170.3</td><td>0.613</td><td>6607618</td><td>300943942000</td><td>6.56</td><td>&quot;153.58-207.32&quot;</td><td>-0.37</td><td>&quot;AbbVie Inc.&quot;</td><td>&quot;USD&quot;</td><td>&quot;0001551152&quot;</td><td>&quot;US00287Y1091&quot;</td><td>&quot;00287Y109&quot;</td><td>&quot;New York Stock Exchange&quot;</td><td>&quot;NYSE&quot;</td><td>&quot;Drug Manufacturers - General&quot;</td><td>&quot;https://www.abbvie.com&quot;</td><td>&quot;AbbVie Inc. discovers, develop…</td><td>&quot;Mr. Robert A. Michael CPA&quot;</td><td>&quot;Healthcare&quot;</td><td>&quot;US&quot;</td><td>&quot;50000&quot;</td><td>&quot;847 932 7900&quot;</td><td>&quot;1 North Waukegan Road&quot;</td><td>&quot;North Chicago&quot;</td><td>&quot;IL&quot;</td><td>&quot;60064-6400&quot;</td><td>-394.85006</td><td>596.350064</td><td>&quot;https://images.financialmodeli…</td><td>&quot;2013-01-02&quot;</td><td>false</td><td>false</td><td>true</td><td>false</td><td>false</td></tr><tr><td>&quot;MRK&quot;</td><td>95.55</td><td>0.411</td><td>11503355</td><td>241707102000</td><td>3.12</td><td>&quot;94.48-134.63&quot;</td><td>-1.08</td><td>&quot;Merck &amp; Co., Inc.&quot;</td><td>&quot;USD&quot;</td><td>&quot;0000310158&quot;</td><td>&quot;US58933Y1055&quot;</td><td>&quot;58933Y105&quot;</td><td>&quot;New York Stock Exchange&quot;</td><td>&quot;NYSE&quot;</td><td>&quot;Drug Manufacturers - General&quot;</td><td>&quot;https://www.merck.com&quot;</td><td>&quot;Merck &amp; Co., Inc. operates as …</td><td>&quot;Mr. Robert M. Davis J.D.&quot;</td><td>&quot;Healthcare&quot;</td><td>&quot;US&quot;</td><td>&quot;70000&quot;</td><td>&quot;908 740 4000&quot;</td><td>&quot;2000 Galloping Hill Road&quot;</td><td>&quot;Kenilworth&quot;</td><td>&quot;NJ&quot;</td><td>&quot;07033&quot;</td><td>-38.03551</td><td>133.585513</td><td>&quot;https://images.financialmodeli…</td><td>&quot;1978-01-13&quot;</td><td>false</td><td>false</td><td>true</td><td>false</td><td>false</td></tr><tr><td>&quot;XOM&quot;</td><td>108.66</td><td>0.88</td><td>15504991</td><td>477570479400</td><td>3.84</td><td>&quot;100.42-126.34&quot;</td><td>-1.49</td><td>&quot;Exxon Mobil Corporation&quot;</td><td>&quot;USD&quot;</td><td>&quot;0000034088&quot;</td><td>&quot;US30231G1022&quot;</td><td>&quot;30231G102&quot;</td><td>&quot;New York Stock Exchange&quot;</td><td>&quot;NYSE&quot;</td><td>&quot;Oil &amp; Gas Integrated&quot;</td><td>&quot;https://corporate.exxonmobil.c…</td><td>&quot;Exxon Mobil Corporation explor…</td><td>&quot;Mr. Darren W. Woods&quot;</td><td>&quot;Energy&quot;</td><td>&quot;US&quot;</td><td>&quot;62000&quot;</td><td>&quot;972-940-6000&quot;</td><td>&quot;5959 Las Colinas Boulevard&quot;</td><td>&quot;Irving&quot;</td><td>&quot;TX&quot;</td><td>&quot;75039-2298&quot;</td><td>-55.41192</td><td>164.071922</td><td>&quot;https://images.financialmodeli…</td><td>&quot;1978-01-13&quot;</td><td>false</td><td>false</td><td>true</td><td>false</td><td>false</td></tr><tr><td>&quot;CVX&quot;</td><td>155.65</td><td>1.078</td><td>8313670</td><td>279717058500</td><td>6.52</td><td>&quot;135.37-167.11&quot;</td><td>-0.36</td><td>&quot;Chevron Corporation&quot;</td><td>&quot;USD&quot;</td><td>&quot;0000093410&quot;</td><td>&quot;US1667641005&quot;</td><td>&quot;166764100&quot;</td><td>&quot;New York Stock Exchange&quot;</td><td>&quot;NYSE&quot;</td><td>&quot;Oil &amp; Gas Integrated&quot;</td><td>&quot;https://www.chevron.com&quot;</td><td>&quot;Chevron Corporation, through i…</td><td>&quot;Mr. Michael K. Wirth&quot;</td><td>&quot;Energy&quot;</td><td>&quot;US&quot;</td><td>&quot;45600&quot;</td><td>&quot;925 842 1000&quot;</td><td>&quot;6001 Bollinger Canyon Road&quot;</td><td>&quot;San Ramon&quot;</td><td>&quot;CA&quot;</td><td>&quot;94583-2324&quot;</td><td>-120.26789</td><td>275.917887</td><td>&quot;https://images.financialmodeli…</td><td>&quot;1921-06-24&quot;</td><td>false</td><td>false</td><td>true</td><td>false</td><td>false</td></tr></tbody></table></div>"
      ],
      "text/plain": [
       "shape: (5, 36)\n",
       "┌────────┬────────┬───────┬──────────┬───┬────────┬─────────────────────┬────────┬─────────┐\n",
       "│ symbol ┆ price  ┆ beta  ┆ vol_avg  ┆ … ┆ is_etf ┆ is_actively_trading ┆ is_adr ┆ is_fund │\n",
       "│ ---    ┆ ---    ┆ ---   ┆ ---      ┆   ┆ ---    ┆ ---                 ┆ ---    ┆ ---     │\n",
       "│ str    ┆ f64    ┆ f64   ┆ i64      ┆   ┆ bool   ┆ bool                ┆ bool   ┆ bool    │\n",
       "╞════════╪════════╪═══════╪══════════╪═══╪════════╪═════════════════════╪════════╪═════════╡\n",
       "│ PFE    ┆ 26.09  ┆ 0.615 ┆ 44575221 ┆ … ┆ false  ┆ true                ┆ false  ┆ false   │\n",
       "│ ABBV   ┆ 170.3  ┆ 0.613 ┆ 6607618  ┆ … ┆ false  ┆ true                ┆ false  ┆ false   │\n",
       "│ MRK    ┆ 95.55  ┆ 0.411 ┆ 11503355 ┆ … ┆ false  ┆ true                ┆ false  ┆ false   │\n",
       "│ XOM    ┆ 108.66 ┆ 0.88  ┆ 15504991 ┆ … ┆ false  ┆ true                ┆ false  ┆ false   │\n",
       "│ CVX    ┆ 155.65 ┆ 1.078 ┆ 8313670  ┆ … ┆ false  ┆ true                ┆ false  ┆ false   │\n",
       "└────────┴────────┴───────┴──────────┴───┴────────┴─────────────────────┴────────┴─────────┘"
      ]
     },
     "execution_count": 7,
     "metadata": {},
     "output_type": "execute_result"
    }
   ],
   "source": [
    "pl.scan_parquet(f'{output_dir}/company_profile.parquet').head().collect()"
   ]
  }
 ],
 "metadata": {
  "kernelspec": {
   "display_name": ".venv",
   "language": "python",
   "name": "python3"
  },
  "language_info": {
   "codemirror_mode": {
    "name": "ipython",
    "version": 3
   },
   "file_extension": ".py",
   "mimetype": "text/x-python",
   "name": "python",
   "nbconvert_exporter": "python",
   "pygments_lexer": "ipython3",
   "version": "3.12.8"
  }
 },
 "nbformat": 4,
 "nbformat_minor": 2
}
