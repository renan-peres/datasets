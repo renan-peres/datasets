{
 "cells": [
  {
   "cell_type": "markdown",
   "metadata": {},
   "source": [
    "## Step 1: Import Libraries"
   ]
  },
  {
   "cell_type": "code",
   "execution_count": 1,
   "metadata": {
    "execution": {
     "iopub.execute_input": "2025-01-23T10:06:22.997976Z",
     "iopub.status.busy": "2025-01-23T10:06:22.997548Z",
     "iopub.status.idle": "2025-01-23T10:06:23.608757Z",
     "shell.execute_reply": "2025-01-23T10:06:23.608162Z"
    }
   },
   "outputs": [],
   "source": [
    "from datetime import datetime\n",
    "import polars as pl\n",
    "import pandas as pd\n",
    "import pyarrow as pa\n",
    "from typing import List\n",
    "import duckdb\n",
    "import yfinance as yf"
   ]
  },
  {
   "cell_type": "markdown",
   "metadata": {},
   "source": [
    "## Step 2: Import Symbols"
   ]
  },
  {
   "cell_type": "code",
   "execution_count": 2,
   "metadata": {
    "execution": {
     "iopub.execute_input": "2025-01-23T10:06:23.611230Z",
     "iopub.status.busy": "2025-01-23T10:06:23.610784Z",
     "iopub.status.idle": "2025-01-23T10:06:23.615974Z",
     "shell.execute_reply": "2025-01-23T10:06:23.615372Z"
    }
   },
   "outputs": [
    {
     "name": "stdout",
     "output_type": "stream",
     "text": [
      "Loaded 61 symbols from ../tickers.txt\n",
      "Symbols: ['AAPL', 'MSFT', 'GOOGL', 'GOOG', 'META', 'NVDA', 'AVGO', 'ORCL', 'CRM', 'ACN', 'ADBE', 'CSCO', 'INTC', 'NFLX', 'DIS', 'CMCSA', 'VZ', 'T', 'AMZN', 'TSLA', 'HD', 'MCD', 'NKE', 'SBUX', 'TGT', 'LOW', 'WMT', 'PG', 'KO', 'PEP', 'COST', 'BRK-B', 'JPM', 'BAC', 'WFC', 'GS', 'MS', 'BLK', 'UNH', 'JNJ', 'PFE', 'ABBV', 'MRK', 'LLY', 'CAT', 'BA', 'HON', 'UPS', 'RTX', 'GE', 'XOM', 'CVX', 'COP', 'SLB', 'LIN', 'APD', 'ECL', 'PLD', 'AMT', 'CCI', 'OSW']\n"
     ]
    }
   ],
   "source": [
    "def load_symbols(file_path: str) -> List[str]:\n",
    "    \"\"\"Load symbols from a text file\"\"\"\n",
    "    try:\n",
    "        with open(file_path, 'r') as f:\n",
    "            symbols = [line.strip() for line in f if line.strip()]\n",
    "        print(f\"Loaded {len(symbols)} symbols from {file_path}\")\n",
    "        return symbols\n",
    "    except Exception as e:\n",
    "        print(f\"Error loading symbols: {str(e)}\")\n",
    "        return []\n",
    "\n",
    "symbols_file = '../tickers.txt'\n",
    "symbols = load_symbols(symbols_file)\n",
    "\n",
    "if symbols:\n",
    "    print(\"Symbols:\", symbols)\n",
    "else:\n",
    "    print(\"No symbols loaded.\")"
   ]
  },
  {
   "cell_type": "markdown",
   "metadata": {},
   "source": [
    "## Step 3: Extract Data from Yfinance into Pandas"
   ]
  },
  {
   "cell_type": "code",
   "execution_count": 3,
   "metadata": {
    "execution": {
     "iopub.execute_input": "2025-01-23T10:06:23.655699Z",
     "iopub.status.busy": "2025-01-23T10:06:23.655200Z",
     "iopub.status.idle": "2025-01-23T10:06:27.967033Z",
     "shell.execute_reply": "2025-01-23T10:06:27.966462Z"
    }
   },
   "outputs": [
    {
     "name": "stderr",
     "output_type": "stream",
     "text": [
      "\r",
      "[                       0%                       ]"
     ]
    },
    {
     "name": "stderr",
     "output_type": "stream",
     "text": [
      "\r",
      "[*                      3%                       ]  2 of 61 completed"
     ]
    },
    {
     "name": "stderr",
     "output_type": "stream",
     "text": [
      "\r",
      "[**                     5%                       ]  3 of 61 completed"
     ]
    },
    {
     "name": "stderr",
     "output_type": "stream",
     "text": [
      "\r",
      "[***                    7%                       ]  4 of 61 completed"
     ]
    },
    {
     "name": "stderr",
     "output_type": "stream",
     "text": [
      "\r",
      "[****                   8%                       ]  5 of 61 completed"
     ]
    },
    {
     "name": "stderr",
     "output_type": "stream",
     "text": [
      "\r",
      "[*****                 10%                       ]  6 of 61 completed"
     ]
    },
    {
     "name": "stderr",
     "output_type": "stream",
     "text": [
      "\r",
      "[*****                 11%                       ]  7 of 61 completed"
     ]
    },
    {
     "name": "stderr",
     "output_type": "stream",
     "text": [
      "\r",
      "[******                13%                       ]  8 of 61 completed"
     ]
    },
    {
     "name": "stderr",
     "output_type": "stream",
     "text": [
      "\r",
      "[*******               15%                       ]  9 of 61 completed"
     ]
    },
    {
     "name": "stderr",
     "output_type": "stream",
     "text": [
      "\r",
      "[********              16%                       ]  10 of 61 completed"
     ]
    },
    {
     "name": "stderr",
     "output_type": "stream",
     "text": [
      "\r",
      "[*********             18%                       ]  11 of 61 completed"
     ]
    },
    {
     "name": "stderr",
     "output_type": "stream",
     "text": [
      "\r",
      "[**********            20%                       ]  12 of 61 completed"
     ]
    },
    {
     "name": "stderr",
     "output_type": "stream",
     "text": [
      "\r",
      "[**********            21%                       ]  13 of 61 completed"
     ]
    },
    {
     "name": "stderr",
     "output_type": "stream",
     "text": [
      "\r",
      "[***********           23%                       ]  14 of 61 completed"
     ]
    },
    {
     "name": "stderr",
     "output_type": "stream",
     "text": [
      "\r",
      "[************          25%                       ]  15 of 61 completed"
     ]
    },
    {
     "name": "stderr",
     "output_type": "stream",
     "text": [
      "\r",
      "[************          26%                       ]  16 of 61 completed"
     ]
    },
    {
     "name": "stderr",
     "output_type": "stream",
     "text": [
      "\r",
      "[*************         28%                       ]  17 of 61 completed"
     ]
    },
    {
     "name": "stderr",
     "output_type": "stream",
     "text": [
      "\r",
      "[**************        30%                       ]  18 of 61 completed"
     ]
    },
    {
     "name": "stderr",
     "output_type": "stream",
     "text": [
      "\r",
      "[***************       31%                       ]  19 of 61 completed"
     ]
    },
    {
     "name": "stderr",
     "output_type": "stream",
     "text": [
      "\r",
      "[****************      33%                       ]  20 of 61 completed"
     ]
    },
    {
     "name": "stderr",
     "output_type": "stream",
     "text": [
      "\r",
      "[****************      34%                       ]  21 of 61 completed"
     ]
    },
    {
     "name": "stderr",
     "output_type": "stream",
     "text": [
      "\r",
      "[*****************     36%                       ]  22 of 61 completed"
     ]
    },
    {
     "name": "stderr",
     "output_type": "stream",
     "text": [
      "\r",
      "[******************    38%                       ]  23 of 61 completed"
     ]
    },
    {
     "name": "stderr",
     "output_type": "stream",
     "text": [
      "\r",
      "[*******************   39%                       ]  24 of 61 completed"
     ]
    },
    {
     "name": "stderr",
     "output_type": "stream",
     "text": [
      "\r",
      "[********************  41%                       ]  25 of 61 completed"
     ]
    },
    {
     "name": "stderr",
     "output_type": "stream",
     "text": [
      "\r",
      "[********************* 43%                       ]  26 of 61 completed"
     ]
    },
    {
     "name": "stderr",
     "output_type": "stream",
     "text": [
      "\r",
      "[********************* 44%                       ]  27 of 61 completed"
     ]
    },
    {
     "name": "stderr",
     "output_type": "stream",
     "text": [
      "\r",
      "[**********************46%                       ]  28 of 61 completed"
     ]
    },
    {
     "name": "stderr",
     "output_type": "stream",
     "text": [
      "\r",
      "[**********************48%                       ]  29 of 61 completed"
     ]
    },
    {
     "name": "stderr",
     "output_type": "stream",
     "text": [
      "\r",
      "[**********************49%                       ]  30 of 61 completed"
     ]
    },
    {
     "name": "stderr",
     "output_type": "stream",
     "text": [
      "\r",
      "[**********************51%                       ]  31 of 61 completed"
     ]
    },
    {
     "name": "stderr",
     "output_type": "stream",
     "text": [
      "\r",
      "[**********************52%                       ]  32 of 61 completed"
     ]
    },
    {
     "name": "stderr",
     "output_type": "stream",
     "text": [
      "\r",
      "[**********************54%*                      ]  33 of 61 completed"
     ]
    },
    {
     "name": "stderr",
     "output_type": "stream",
     "text": [
      "\r",
      "[**********************56%**                     ]  34 of 61 completed"
     ]
    },
    {
     "name": "stderr",
     "output_type": "stream",
     "text": [
      "\r",
      "[**********************57%**                     ]  35 of 61 completed"
     ]
    },
    {
     "name": "stderr",
     "output_type": "stream",
     "text": [
      "\r",
      "[**********************59%***                    ]  36 of 61 completed"
     ]
    },
    {
     "name": "stderr",
     "output_type": "stream",
     "text": [
      "\r",
      "[**********************61%****                   ]  37 of 61 completed"
     ]
    },
    {
     "name": "stderr",
     "output_type": "stream",
     "text": [
      "\r",
      "[**********************62%*****                  ]  38 of 61 completed"
     ]
    },
    {
     "name": "stderr",
     "output_type": "stream",
     "text": [
      "\r",
      "[**********************64%******                 ]  39 of 61 completed"
     ]
    },
    {
     "name": "stderr",
     "output_type": "stream",
     "text": [
      "\r",
      "[**********************66%*******                ]  40 of 61 completed"
     ]
    },
    {
     "name": "stderr",
     "output_type": "stream",
     "text": [
      "\r",
      "[**********************67%*******                ]  41 of 61 completed"
     ]
    },
    {
     "name": "stderr",
     "output_type": "stream",
     "text": [
      "\r",
      "[**********************69%********               ]  42 of 61 completed"
     ]
    },
    {
     "name": "stderr",
     "output_type": "stream",
     "text": [
      "\r",
      "[**********************70%*********              ]  43 of 61 completed"
     ]
    },
    {
     "name": "stderr",
     "output_type": "stream",
     "text": [
      "\r",
      "[**********************72%**********             ]  44 of 61 completed"
     ]
    },
    {
     "name": "stderr",
     "output_type": "stream",
     "text": [
      "\r",
      "[**********************74%***********            ]  45 of 61 completed"
     ]
    },
    {
     "name": "stderr",
     "output_type": "stream",
     "text": [
      "\r",
      "[**********************75%***********            ]  46 of 61 completed"
     ]
    },
    {
     "name": "stderr",
     "output_type": "stream",
     "text": [
      "\r",
      "[**********************77%************           ]  47 of 61 completed"
     ]
    },
    {
     "name": "stderr",
     "output_type": "stream",
     "text": [
      "\r",
      "[**********************79%*************          ]  48 of 61 completed"
     ]
    },
    {
     "name": "stderr",
     "output_type": "stream",
     "text": [
      "\r",
      "[**********************80%*************          ]  49 of 61 completed"
     ]
    },
    {
     "name": "stderr",
     "output_type": "stream",
     "text": [
      "\r",
      "[**********************82%**************         ]  50 of 61 completed"
     ]
    },
    {
     "name": "stderr",
     "output_type": "stream",
     "text": [
      "\r",
      "[**********************84%***************        ]  51 of 61 completed"
     ]
    },
    {
     "name": "stderr",
     "output_type": "stream",
     "text": [
      "\r",
      "[**********************85%****************       ]  52 of 61 completed"
     ]
    },
    {
     "name": "stderr",
     "output_type": "stream",
     "text": [
      "\r",
      "[**********************87%*****************      ]  53 of 61 completed"
     ]
    },
    {
     "name": "stderr",
     "output_type": "stream",
     "text": [
      "\r",
      "[**********************89%******************     ]  54 of 61 completed"
     ]
    },
    {
     "name": "stderr",
     "output_type": "stream",
     "text": [
      "\r",
      "[**********************90%******************     ]  55 of 61 completed"
     ]
    },
    {
     "name": "stderr",
     "output_type": "stream",
     "text": [
      "\r",
      "[**********************92%*******************    ]  56 of 61 completed"
     ]
    },
    {
     "name": "stderr",
     "output_type": "stream",
     "text": [
      "\r",
      "[**********************93%********************   ]  57 of 61 completed"
     ]
    },
    {
     "name": "stderr",
     "output_type": "stream",
     "text": [
      "\r",
      "[**********************95%*********************  ]  58 of 61 completed"
     ]
    },
    {
     "name": "stderr",
     "output_type": "stream",
     "text": [
      "\r",
      "[**********************97%********************** ]  59 of 61 completed"
     ]
    },
    {
     "name": "stderr",
     "output_type": "stream",
     "text": [
      "\r",
      "[**********************98%********************** ]  60 of 61 completed"
     ]
    },
    {
     "name": "stderr",
     "output_type": "stream",
     "text": [
      "\r",
      "[*********************100%***********************]  61 of 61 completed"
     ]
    },
    {
     "name": "stderr",
     "output_type": "stream",
     "text": [
      "\n"
     ]
    },
    {
     "data": {
      "text/html": [
       "<div>\n",
       "<style scoped>\n",
       "    .dataframe tbody tr th:only-of-type {\n",
       "        vertical-align: middle;\n",
       "    }\n",
       "\n",
       "    .dataframe tbody tr th {\n",
       "        vertical-align: top;\n",
       "    }\n",
       "\n",
       "    .dataframe thead th {\n",
       "        text-align: right;\n",
       "    }\n",
       "</style>\n",
       "<table border=\"1\" class=\"dataframe\">\n",
       "  <thead>\n",
       "    <tr style=\"text-align: right;\">\n",
       "      <th>Metric</th>\n",
       "      <th>Date</th>\n",
       "      <th>Symbol</th>\n",
       "      <th>Close</th>\n",
       "      <th>High</th>\n",
       "      <th>Low</th>\n",
       "      <th>Open</th>\n",
       "      <th>Volume</th>\n",
       "    </tr>\n",
       "  </thead>\n",
       "  <tbody>\n",
       "    <tr>\n",
       "      <th>0</th>\n",
       "      <td>2020-01-02</td>\n",
       "      <td>AAPL</td>\n",
       "      <td>72.796051</td>\n",
       "      <td>72.856644</td>\n",
       "      <td>71.545417</td>\n",
       "      <td>71.799903</td>\n",
       "      <td>135480400.0</td>\n",
       "    </tr>\n",
       "    <tr>\n",
       "      <th>1</th>\n",
       "      <td>2020-01-02</td>\n",
       "      <td>ABBV</td>\n",
       "      <td>71.589775</td>\n",
       "      <td>71.605761</td>\n",
       "      <td>70.758358</td>\n",
       "      <td>71.214038</td>\n",
       "      <td>5639200.0</td>\n",
       "    </tr>\n",
       "    <tr>\n",
       "      <th>2</th>\n",
       "      <td>2020-01-02</td>\n",
       "      <td>ACN</td>\n",
       "      <td>195.263596</td>\n",
       "      <td>196.908218</td>\n",
       "      <td>194.018521</td>\n",
       "      <td>195.923308</td>\n",
       "      <td>2431100.0</td>\n",
       "    </tr>\n",
       "    <tr>\n",
       "      <th>3</th>\n",
       "      <td>2020-01-02</td>\n",
       "      <td>ADBE</td>\n",
       "      <td>334.429993</td>\n",
       "      <td>334.480011</td>\n",
       "      <td>329.170013</td>\n",
       "      <td>330.000000</td>\n",
       "      <td>1990100.0</td>\n",
       "    </tr>\n",
       "    <tr>\n",
       "      <th>4</th>\n",
       "      <td>2020-01-02</td>\n",
       "      <td>AMT</td>\n",
       "      <td>200.433945</td>\n",
       "      <td>202.758447</td>\n",
       "      <td>200.004125</td>\n",
       "      <td>201.469002</td>\n",
       "      <td>1426000.0</td>\n",
       "    </tr>\n",
       "    <tr>\n",
       "      <th>...</th>\n",
       "      <td>...</td>\n",
       "      <td>...</td>\n",
       "      <td>...</td>\n",
       "      <td>...</td>\n",
       "      <td>...</td>\n",
       "      <td>...</td>\n",
       "      <td>...</td>\n",
       "    </tr>\n",
       "    <tr>\n",
       "      <th>77526</th>\n",
       "      <td>2025-01-22</td>\n",
       "      <td>UPS</td>\n",
       "      <td>132.550003</td>\n",
       "      <td>133.429993</td>\n",
       "      <td>131.250000</td>\n",
       "      <td>132.660004</td>\n",
       "      <td>4419100.0</td>\n",
       "    </tr>\n",
       "    <tr>\n",
       "      <th>77527</th>\n",
       "      <td>2025-01-22</td>\n",
       "      <td>VZ</td>\n",
       "      <td>38.950001</td>\n",
       "      <td>39.340000</td>\n",
       "      <td>38.590000</td>\n",
       "      <td>38.889999</td>\n",
       "      <td>31479400.0</td>\n",
       "    </tr>\n",
       "    <tr>\n",
       "      <th>77528</th>\n",
       "      <td>2025-01-22</td>\n",
       "      <td>WFC</td>\n",
       "      <td>77.540001</td>\n",
       "      <td>77.809998</td>\n",
       "      <td>76.860001</td>\n",
       "      <td>77.570000</td>\n",
       "      <td>11668500.0</td>\n",
       "    </tr>\n",
       "    <tr>\n",
       "      <th>77529</th>\n",
       "      <td>2025-01-22</td>\n",
       "      <td>WMT</td>\n",
       "      <td>93.230003</td>\n",
       "      <td>94.000000</td>\n",
       "      <td>92.519997</td>\n",
       "      <td>93.769997</td>\n",
       "      <td>15561600.0</td>\n",
       "    </tr>\n",
       "    <tr>\n",
       "      <th>77530</th>\n",
       "      <td>2025-01-22</td>\n",
       "      <td>XOM</td>\n",
       "      <td>109.529999</td>\n",
       "      <td>111.570000</td>\n",
       "      <td>109.400002</td>\n",
       "      <td>111.199997</td>\n",
       "      <td>15714600.0</td>\n",
       "    </tr>\n",
       "  </tbody>\n",
       "</table>\n",
       "<p>77531 rows × 7 columns</p>\n",
       "</div>"
      ],
      "text/plain": [
       "Metric       Date Symbol       Close        High         Low        Open  \\\n",
       "0      2020-01-02   AAPL   72.796051   72.856644   71.545417   71.799903   \n",
       "1      2020-01-02   ABBV   71.589775   71.605761   70.758358   71.214038   \n",
       "2      2020-01-02    ACN  195.263596  196.908218  194.018521  195.923308   \n",
       "3      2020-01-02   ADBE  334.429993  334.480011  329.170013  330.000000   \n",
       "4      2020-01-02    AMT  200.433945  202.758447  200.004125  201.469002   \n",
       "...           ...    ...         ...         ...         ...         ...   \n",
       "77526  2025-01-22    UPS  132.550003  133.429993  131.250000  132.660004   \n",
       "77527  2025-01-22     VZ   38.950001   39.340000   38.590000   38.889999   \n",
       "77528  2025-01-22    WFC   77.540001   77.809998   76.860001   77.570000   \n",
       "77529  2025-01-22    WMT   93.230003   94.000000   92.519997   93.769997   \n",
       "77530  2025-01-22    XOM  109.529999  111.570000  109.400002  111.199997   \n",
       "\n",
       "Metric       Volume  \n",
       "0       135480400.0  \n",
       "1         5639200.0  \n",
       "2         2431100.0  \n",
       "3         1990100.0  \n",
       "4         1426000.0  \n",
       "...             ...  \n",
       "77526     4419100.0  \n",
       "77527    31479400.0  \n",
       "77528    11668500.0  \n",
       "77529    15561600.0  \n",
       "77530    15714600.0  \n",
       "\n",
       "[77531 rows x 7 columns]"
      ]
     },
     "metadata": {},
     "output_type": "display_data"
    }
   ],
   "source": [
    "start_date = '2020-01-01'\n",
    "end_date = datetime.today().strftime('%Y-%m-%d')\n",
    "\n",
    "# Download prices from yfinance\n",
    "prices = yf.download(symbols, start=start_date, end=end_date, group_by='ticker')\n",
    "\n",
    "# Check if the data has a MultiIndex (due to multiple symbols)\n",
    "if isinstance(prices.columns, pd.MultiIndex):\n",
    "    # Flatten the MultiIndex columns\n",
    "    prices.columns = ['_'.join(filter(None, map(str, col))) for col in prices.columns]\n",
    "\n",
    "# Reset index and melt the DataFrame to include a \"symbol\" column\n",
    "prices = prices.copy()  # Avoid fragmentation issues\n",
    "prices.reset_index(inplace=True)\n",
    "prices = prices.melt(id_vars=[\"Date\"], var_name=\"Metric\", value_name=\"Value\")\n",
    "prices[[\"Symbol\", \"Metric\"]] = prices[\"Metric\"].str.extract(r'([^_]+)_(.+)')\n",
    "prices = prices.pivot(index=[\"Date\", \"Symbol\"], columns=\"Metric\", values=\"Value\").reset_index()\n",
    "\n",
    "display(prices)"
   ]
  },
  {
   "cell_type": "markdown",
   "metadata": {},
   "source": [
    "## Step 4: Convert Pandas to Polars"
   ]
  },
  {
   "cell_type": "code",
   "execution_count": 4,
   "metadata": {
    "execution": {
     "iopub.execute_input": "2025-01-23T10:06:27.968978Z",
     "iopub.status.busy": "2025-01-23T10:06:27.968779Z",
     "iopub.status.idle": "2025-01-23T10:06:28.019598Z",
     "shell.execute_reply": "2025-01-23T10:06:28.019004Z"
    }
   },
   "outputs": [
    {
     "name": "stdout",
     "output_type": "stream",
     "text": [
      "shape: (77_531, 7)\n",
      "┌─────────────────────┬────────┬────────────┬────────────┬────────────┬────────────┬────────────┐\n",
      "│ Date                ┆ Symbol ┆ Close      ┆ High       ┆ Low        ┆ Open       ┆ Volume     │\n",
      "│ ---                 ┆ ---    ┆ ---        ┆ ---        ┆ ---        ┆ ---        ┆ ---        │\n",
      "│ datetime[ns]        ┆ str    ┆ f64        ┆ f64        ┆ f64        ┆ f64        ┆ f64        │\n",
      "╞═════════════════════╪════════╪════════════╪════════════╪════════════╪════════════╪════════════╡\n",
      "│ 2020-01-02 00:00:00 ┆ AAPL   ┆ 72.796051  ┆ 72.856644  ┆ 71.545417  ┆ 71.799903  ┆ 1.354804e8 │\n",
      "│ 2020-01-02 00:00:00 ┆ ABBV   ┆ 71.589775  ┆ 71.605761  ┆ 70.758358  ┆ 71.214038  ┆ 5.6392e6   │\n",
      "│ 2020-01-02 00:00:00 ┆ ACN    ┆ 195.263596 ┆ 196.908218 ┆ 194.018521 ┆ 195.923308 ┆ 2.4311e6   │\n",
      "│ 2020-01-02 00:00:00 ┆ ADBE   ┆ 334.429993 ┆ 334.480011 ┆ 329.170013 ┆ 330.0      ┆ 1.9901e6   │\n",
      "│ 2020-01-02 00:00:00 ┆ AMT    ┆ 200.433945 ┆ 202.758447 ┆ 200.004125 ┆ 201.469002 ┆ 1.426e6    │\n",
      "│ …                   ┆ …      ┆ …          ┆ …          ┆ …          ┆ …          ┆ …          │\n",
      "│ 2025-01-22 00:00:00 ┆ UPS    ┆ 132.550003 ┆ 133.429993 ┆ 131.25     ┆ 132.660004 ┆ 4.4191e6   │\n",
      "│ 2025-01-22 00:00:00 ┆ VZ     ┆ 38.950001  ┆ 39.34      ┆ 38.59      ┆ 38.889999  ┆ 3.14794e7  │\n",
      "│ 2025-01-22 00:00:00 ┆ WFC    ┆ 77.540001  ┆ 77.809998  ┆ 76.860001  ┆ 77.57      ┆ 1.16685e7  │\n",
      "│ 2025-01-22 00:00:00 ┆ WMT    ┆ 93.230003  ┆ 94.0       ┆ 92.519997  ┆ 93.769997  ┆ 1.55616e7  │\n",
      "│ 2025-01-22 00:00:00 ┆ XOM    ┆ 109.529999 ┆ 111.57     ┆ 109.400002 ┆ 111.199997 ┆ 1.57146e7  │\n",
      "└─────────────────────┴────────┴────────────┴────────────┴────────────┴────────────┴────────────┘\n"
     ]
    }
   ],
   "source": [
    "# Convert to Polars DataFrame\n",
    "df = pl.from_pandas(prices)\n",
    "\n",
    "# View the Polars DataFrame\n",
    "print(df)"
   ]
  },
  {
   "cell_type": "markdown",
   "metadata": {},
   "source": [
    "## Step 5: Write Polars to Parquet"
   ]
  },
  {
   "cell_type": "code",
   "execution_count": 5,
   "metadata": {
    "execution": {
     "iopub.execute_input": "2025-01-23T10:06:28.021593Z",
     "iopub.status.busy": "2025-01-23T10:06:28.021233Z",
     "iopub.status.idle": "2025-01-23T10:06:28.054572Z",
     "shell.execute_reply": "2025-01-23T10:06:28.054044Z"
    }
   },
   "outputs": [],
   "source": [
    "output_dir = \"../../../data/finance\"\n",
    "\n",
    "# Write DataFrame to Parquet\n",
    "df.write_parquet(f'{output_dir}/historical_stock_quotes_{start_date}_to_{end_date}.parquet')"
   ]
  },
  {
   "cell_type": "markdown",
   "metadata": {},
   "source": [
    "## Step 6: Read Parquet (Validate)"
   ]
  },
  {
   "cell_type": "code",
   "execution_count": 6,
   "metadata": {
    "execution": {
     "iopub.execute_input": "2025-01-23T10:06:28.056820Z",
     "iopub.status.busy": "2025-01-23T10:06:28.056485Z",
     "iopub.status.idle": "2025-01-23T10:06:28.066410Z",
     "shell.execute_reply": "2025-01-23T10:06:28.065820Z"
    }
   },
   "outputs": [
    {
     "data": {
      "text/html": [
       "<div><style>\n",
       ".dataframe > thead > tr,\n",
       ".dataframe > tbody > tr {\n",
       "  text-align: right;\n",
       "  white-space: pre-wrap;\n",
       "}\n",
       "</style>\n",
       "<small>shape: (5, 7)</small><table border=\"1\" class=\"dataframe\"><thead><tr><th>Date</th><th>Symbol</th><th>Close</th><th>High</th><th>Low</th><th>Open</th><th>Volume</th></tr><tr><td>datetime[ns]</td><td>str</td><td>f64</td><td>f64</td><td>f64</td><td>f64</td><td>f64</td></tr></thead><tbody><tr><td>2020-01-02 00:00:00</td><td>&quot;AAPL&quot;</td><td>72.796051</td><td>72.856644</td><td>71.545417</td><td>71.799903</td><td>1.354804e8</td></tr><tr><td>2020-01-02 00:00:00</td><td>&quot;ABBV&quot;</td><td>71.589775</td><td>71.605761</td><td>70.758358</td><td>71.214038</td><td>5.6392e6</td></tr><tr><td>2020-01-02 00:00:00</td><td>&quot;ACN&quot;</td><td>195.263596</td><td>196.908218</td><td>194.018521</td><td>195.923308</td><td>2.4311e6</td></tr><tr><td>2020-01-02 00:00:00</td><td>&quot;ADBE&quot;</td><td>334.429993</td><td>334.480011</td><td>329.170013</td><td>330.0</td><td>1.9901e6</td></tr><tr><td>2020-01-02 00:00:00</td><td>&quot;AMT&quot;</td><td>200.433945</td><td>202.758447</td><td>200.004125</td><td>201.469002</td><td>1.426e6</td></tr></tbody></table></div>"
      ],
      "text/plain": [
       "shape: (5, 7)\n",
       "┌─────────────────────┬────────┬────────────┬────────────┬────────────┬────────────┬────────────┐\n",
       "│ Date                ┆ Symbol ┆ Close      ┆ High       ┆ Low        ┆ Open       ┆ Volume     │\n",
       "│ ---                 ┆ ---    ┆ ---        ┆ ---        ┆ ---        ┆ ---        ┆ ---        │\n",
       "│ datetime[ns]        ┆ str    ┆ f64        ┆ f64        ┆ f64        ┆ f64        ┆ f64        │\n",
       "╞═════════════════════╪════════╪════════════╪════════════╪════════════╪════════════╪════════════╡\n",
       "│ 2020-01-02 00:00:00 ┆ AAPL   ┆ 72.796051  ┆ 72.856644  ┆ 71.545417  ┆ 71.799903  ┆ 1.354804e8 │\n",
       "│ 2020-01-02 00:00:00 ┆ ABBV   ┆ 71.589775  ┆ 71.605761  ┆ 70.758358  ┆ 71.214038  ┆ 5.6392e6   │\n",
       "│ 2020-01-02 00:00:00 ┆ ACN    ┆ 195.263596 ┆ 196.908218 ┆ 194.018521 ┆ 195.923308 ┆ 2.4311e6   │\n",
       "│ 2020-01-02 00:00:00 ┆ ADBE   ┆ 334.429993 ┆ 334.480011 ┆ 329.170013 ┆ 330.0      ┆ 1.9901e6   │\n",
       "│ 2020-01-02 00:00:00 ┆ AMT    ┆ 200.433945 ┆ 202.758447 ┆ 200.004125 ┆ 201.469002 ┆ 1.426e6    │\n",
       "└─────────────────────┴────────┴────────────┴────────────┴────────────┴────────────┴────────────┘"
      ]
     },
     "execution_count": 6,
     "metadata": {},
     "output_type": "execute_result"
    }
   ],
   "source": [
    "pl.scan_parquet(f'{output_dir}/historical_stock_quotes_{start_date}_to_{end_date}.parquet').head().collect()"
   ]
  }
 ],
 "metadata": {
  "kernelspec": {
   "display_name": ".venv",
   "language": "python",
   "name": "python3"
  },
  "language_info": {
   "codemirror_mode": {
    "name": "ipython",
    "version": 3
   },
   "file_extension": ".py",
   "mimetype": "text/x-python",
   "name": "python",
   "nbconvert_exporter": "python",
   "pygments_lexer": "ipython3",
   "version": "3.12.8"
  }
 },
 "nbformat": 4,
 "nbformat_minor": 2
}
