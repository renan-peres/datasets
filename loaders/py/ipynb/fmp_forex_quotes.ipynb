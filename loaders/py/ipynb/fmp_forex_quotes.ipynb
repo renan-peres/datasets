{
 "cells": [
  {
   "cell_type": "markdown",
   "metadata": {},
   "source": [
    "## Step 1: Import Libraries"
   ]
  },
  {
   "cell_type": "code",
   "execution_count": 1,
   "metadata": {
    "execution": {
     "iopub.execute_input": "2025-01-06T10:05:21.024796Z",
     "iopub.status.busy": "2025-01-06T10:05:21.024364Z",
     "iopub.status.idle": "2025-01-06T10:05:21.087364Z",
     "shell.execute_reply": "2025-01-06T10:05:21.086741Z"
    }
   },
   "outputs": [],
   "source": [
    "%run ../make_clean_names.py"
   ]
  },
  {
   "cell_type": "code",
   "execution_count": 2,
   "metadata": {
    "execution": {
     "iopub.execute_input": "2025-01-06T10:05:21.089461Z",
     "iopub.status.busy": "2025-01-06T10:05:21.089280Z",
     "iopub.status.idle": "2025-01-06T10:05:21.155829Z",
     "shell.execute_reply": "2025-01-06T10:05:21.155177Z"
    }
   },
   "outputs": [],
   "source": [
    "import requests\n",
    "from requests.adapters import HTTPAdapter\n",
    "from requests.packages.urllib3.util.retry import Retry\n",
    "import logging\n",
    "import concurrent.futures\n",
    "from datetime import datetime\n",
    "from typing import Dict, List\n",
    "from concurrent.futures import ThreadPoolExecutor\n",
    "import polars as pl\n",
    "\n",
    "from dotenv import load_dotenv\n",
    "import os\n",
    "\n",
    "# Load environment variables\n",
    "load_dotenv()\n",
    "\n",
    "logging.basicConfig(level=logging.INFO)\n",
    "logger = logging.getLogger(__name__)\n",
    "\n",
    "def create_session():\n",
    "    session = requests.Session()\n",
    "    retries = Retry(\n",
    "        total=3,\n",
    "        backoff_factor=1,\n",
    "        status_forcelist=[429, 500, 502, 503, 504]\n",
    "    )\n",
    "    session.mount('https://', HTTPAdapter(max_retries=retries, pool_maxsize=10))\n",
    "    return session\n",
    "\n",
    "# Get API key from environment variables\n",
    "FMP_API_KEY = os.getenv('FMP_API_KEY')\n",
    "if not FMP_API_KEY:\n",
    "    raise ValueError(\"FMP_API_KEY not found in environment variables\")"
   ]
  },
  {
   "cell_type": "markdown",
   "metadata": {},
   "source": [
    "## Step 2: Import Forex Pairs"
   ]
  },
  {
   "cell_type": "code",
   "execution_count": 3,
   "metadata": {
    "execution": {
     "iopub.execute_input": "2025-01-06T10:05:21.158042Z",
     "iopub.status.busy": "2025-01-06T10:05:21.157852Z",
     "iopub.status.idle": "2025-01-06T10:05:21.162765Z",
     "shell.execute_reply": "2025-01-06T10:05:21.162143Z"
    }
   },
   "outputs": [
    {
     "name": "stdout",
     "output_type": "stream",
     "text": [
      "Loaded 4 pairs from ../fx_pairs.txt\n",
      "pairs: ['USDEUR', 'USDBRL', 'USDGBP', 'USDJPY']\n"
     ]
    }
   ],
   "source": [
    "def load_pairs(file_path: str) -> List[str]:\n",
    "    \"\"\"Load pairs from a text file\"\"\"\n",
    "    try:\n",
    "        with open(file_path, 'r') as f:\n",
    "            pairs = [line.strip() for line in f if line.strip()]\n",
    "        print(f\"Loaded {len(pairs)} pairs from {file_path}\")\n",
    "        return pairs\n",
    "    except Exception as e:\n",
    "        print(f\"Error loading pairs: {str(e)}\")\n",
    "        return []\n",
    "\n",
    "pairs_file = '../fx_pairs.txt'\n",
    "pairs = load_pairs(pairs_file)\n",
    "\n",
    "if pairs:\n",
    "    print(\"pairs:\", pairs)\n",
    "else:\n",
    "    print(\"No pairs loaded.\")"
   ]
  },
  {
   "cell_type": "markdown",
   "metadata": {},
   "source": [
    "## Step 2: Extract Data from FMP into Polars"
   ]
  },
  {
   "cell_type": "code",
   "execution_count": 4,
   "metadata": {
    "execution": {
     "iopub.execute_input": "2025-01-06T10:05:21.200427Z",
     "iopub.status.busy": "2025-01-06T10:05:21.199904Z",
     "iopub.status.idle": "2025-01-06T10:05:21.620576Z",
     "shell.execute_reply": "2025-01-06T10:05:21.620084Z"
    }
   },
   "outputs": [],
   "source": [
    "start_date = '2020-01-01'\n",
    "end_date = datetime.today().strftime('%Y-%m-%d')\n",
    "\n",
    "def fetch_forex_data(pair: str, api_key: str, session: requests.Session) -> Dict:\n",
    "    \"\"\"Fetch historical forex data for a single pair with pair identifier\"\"\"\n",
    "    url = f\"https://financialmodelingprep.com/api/v3/historical-chart/1day/{pair}\"\n",
    "    params = {\n",
    "        \"from\": start_date,\n",
    "        \"to\": end_date,\n",
    "        \"apikey\": api_key\n",
    "    }\n",
    "        \n",
    "    try:\n",
    "        response = session.get(url, params=params, timeout=10)\n",
    "        response.raise_for_status()\n",
    "        data = response.json()\n",
    "        # Add pair identifier to each record\n",
    "        return [{\"pair\": pair, **record} for record in data] if data else None\n",
    "    except Exception as e:\n",
    "        logger.error(f\"Error fetching {pair}: {str(e)}\")\n",
    "        return None\n",
    "\n",
    "def fetch_all_forex_data(pairs: List[str], api_key: str) -> List[Dict]:\n",
    "    \"\"\"Fetch and combine forex data for multiple pairs\"\"\"\n",
    "    session = create_session()\n",
    "    \n",
    "    with ThreadPoolExecutor(max_workers=10) as executor:\n",
    "        futures = [\n",
    "            executor.submit(fetch_forex_data, pair, api_key, session)\n",
    "            for pair in pairs\n",
    "        ]\n",
    "        results = [\n",
    "            f.result() for f in concurrent.futures.as_completed(futures)\n",
    "        ]\n",
    "    \n",
    "    # Flatten results list and remove None values\n",
    "    all_data = []\n",
    "    for result in results:\n",
    "        if result:\n",
    "            all_data.extend(result)\n",
    "    return all_data\n",
    "\n",
    "# Execute fetching\n",
    "fx_data = fetch_all_forex_data(pairs, FMP_API_KEY)\n",
    "\n",
    "# Convert to Polars DataFrame if data exists\n",
    "if fx_data:\n",
    "    df = pl.DataFrame(fx_data)"
   ]
  },
  {
   "cell_type": "markdown",
   "metadata": {},
   "source": [
    "## Step 3: Clean Column Names"
   ]
  },
  {
   "cell_type": "code",
   "execution_count": 5,
   "metadata": {
    "execution": {
     "iopub.execute_input": "2025-01-06T10:05:21.622650Z",
     "iopub.status.busy": "2025-01-06T10:05:21.622465Z",
     "iopub.status.idle": "2025-01-06T10:05:21.627042Z",
     "shell.execute_reply": "2025-01-06T10:05:21.626586Z"
    }
   },
   "outputs": [],
   "source": [
    "df = make_clean_names(df)"
   ]
  },
  {
   "cell_type": "code",
   "execution_count": 6,
   "metadata": {
    "execution": {
     "iopub.execute_input": "2025-01-06T10:05:21.628629Z",
     "iopub.status.busy": "2025-01-06T10:05:21.628459Z",
     "iopub.status.idle": "2025-01-06T10:05:21.635064Z",
     "shell.execute_reply": "2025-01-06T10:05:21.634519Z"
    }
   },
   "outputs": [
    {
     "data": {
      "text/html": [
       "<div><style>\n",
       ".dataframe > thead > tr,\n",
       ".dataframe > tbody > tr {\n",
       "  text-align: right;\n",
       "  white-space: pre-wrap;\n",
       "}\n",
       "</style>\n",
       "<small>shape: (5_366, 7)</small><table border=\"1\" class=\"dataframe\"><thead><tr><th>pair</th><th>date</th><th>open</th><th>low</th><th>high</th><th>close</th><th>volume</th></tr><tr><td>str</td><td>str</td><td>f64</td><td>f64</td><td>f64</td><td>f64</td><td>i64</td></tr></thead><tbody><tr><td>&quot;USDEUR&quot;</td><td>&quot;2025-01-06 00:00:00&quot;</td><td>0.9697</td><td>0.9697</td><td>0.9702</td><td>0.9702</td><td>0</td></tr><tr><td>&quot;USDEUR&quot;</td><td>&quot;2025-01-05 00:00:00&quot;</td><td>0.9702</td><td>0.9701</td><td>0.9702</td><td>0.9702</td><td>0</td></tr><tr><td>&quot;USDEUR&quot;</td><td>&quot;2025-01-03 00:00:00&quot;</td><td>0.9742</td><td>0.9698</td><td>0.9743</td><td>0.9698</td><td>68388</td></tr><tr><td>&quot;USDEUR&quot;</td><td>&quot;2025-01-02 00:00:00&quot;</td><td>0.9656</td><td>0.9641</td><td>0.9769</td><td>0.9738</td><td>81700</td></tr><tr><td>&quot;USDEUR&quot;</td><td>&quot;2025-01-01 00:00:00&quot;</td><td>0.9663</td><td>0.9652</td><td>0.9669</td><td>0.9654</td><td>0</td></tr><tr><td>&hellip;</td><td>&hellip;</td><td>&hellip;</td><td>&hellip;</td><td>&hellip;</td><td>&hellip;</td><td>&hellip;</td></tr><tr><td>&quot;USDJPY&quot;</td><td>&quot;2020-01-15 00:00:00&quot;</td><td>109.982</td><td>109.789</td><td>110.011</td><td>109.897</td><td>155661</td></tr><tr><td>&quot;USDJPY&quot;</td><td>&quot;2020-01-14 00:00:00&quot;</td><td>109.944</td><td>109.852</td><td>110.214</td><td>109.982</td><td>186928</td></tr><tr><td>&quot;USDJPY&quot;</td><td>&quot;2020-01-13 00:00:00&quot;</td><td>109.503</td><td>109.503</td><td>109.947</td><td>109.944</td><td>125486</td></tr><tr><td>&quot;USDJPY&quot;</td><td>&quot;2020-01-10 00:00:00&quot;</td><td>109.518</td><td>109.433</td><td>109.689</td><td>109.478</td><td>142791</td></tr><tr><td>&quot;USDJPY&quot;</td><td>&quot;2020-01-09 00:00:00&quot;</td><td>109.106</td><td>109.011</td><td>109.582</td><td>109.518</td><td>197606</td></tr></tbody></table></div>"
      ],
      "text/plain": [
       "shape: (5_366, 7)\n",
       "┌────────┬─────────────────────┬─────────┬─────────┬─────────┬─────────┬────────┐\n",
       "│ pair   ┆ date                ┆ open    ┆ low     ┆ high    ┆ close   ┆ volume │\n",
       "│ ---    ┆ ---                 ┆ ---     ┆ ---     ┆ ---     ┆ ---     ┆ ---    │\n",
       "│ str    ┆ str                 ┆ f64     ┆ f64     ┆ f64     ┆ f64     ┆ i64    │\n",
       "╞════════╪═════════════════════╪═════════╪═════════╪═════════╪═════════╪════════╡\n",
       "│ USDEUR ┆ 2025-01-06 00:00:00 ┆ 0.9697  ┆ 0.9697  ┆ 0.9702  ┆ 0.9702  ┆ 0      │\n",
       "│ USDEUR ┆ 2025-01-05 00:00:00 ┆ 0.9702  ┆ 0.9701  ┆ 0.9702  ┆ 0.9702  ┆ 0      │\n",
       "│ USDEUR ┆ 2025-01-03 00:00:00 ┆ 0.9742  ┆ 0.9698  ┆ 0.9743  ┆ 0.9698  ┆ 68388  │\n",
       "│ USDEUR ┆ 2025-01-02 00:00:00 ┆ 0.9656  ┆ 0.9641  ┆ 0.9769  ┆ 0.9738  ┆ 81700  │\n",
       "│ USDEUR ┆ 2025-01-01 00:00:00 ┆ 0.9663  ┆ 0.9652  ┆ 0.9669  ┆ 0.9654  ┆ 0      │\n",
       "│ …      ┆ …                   ┆ …       ┆ …       ┆ …       ┆ …       ┆ …      │\n",
       "│ USDJPY ┆ 2020-01-15 00:00:00 ┆ 109.982 ┆ 109.789 ┆ 110.011 ┆ 109.897 ┆ 155661 │\n",
       "│ USDJPY ┆ 2020-01-14 00:00:00 ┆ 109.944 ┆ 109.852 ┆ 110.214 ┆ 109.982 ┆ 186928 │\n",
       "│ USDJPY ┆ 2020-01-13 00:00:00 ┆ 109.503 ┆ 109.503 ┆ 109.947 ┆ 109.944 ┆ 125486 │\n",
       "│ USDJPY ┆ 2020-01-10 00:00:00 ┆ 109.518 ┆ 109.433 ┆ 109.689 ┆ 109.478 ┆ 142791 │\n",
       "│ USDJPY ┆ 2020-01-09 00:00:00 ┆ 109.106 ┆ 109.011 ┆ 109.582 ┆ 109.518 ┆ 197606 │\n",
       "└────────┴─────────────────────┴─────────┴─────────┴─────────┴─────────┴────────┘"
      ]
     },
     "execution_count": 6,
     "metadata": {},
     "output_type": "execute_result"
    }
   ],
   "source": [
    "df"
   ]
  },
  {
   "cell_type": "markdown",
   "metadata": {},
   "source": [
    "## Step 4: Write Polars to Parquet"
   ]
  },
  {
   "cell_type": "code",
   "execution_count": 7,
   "metadata": {
    "execution": {
     "iopub.execute_input": "2025-01-06T10:05:21.636756Z",
     "iopub.status.busy": "2025-01-06T10:05:21.636584Z",
     "iopub.status.idle": "2025-01-06T10:05:21.643737Z",
     "shell.execute_reply": "2025-01-06T10:05:21.643176Z"
    }
   },
   "outputs": [],
   "source": [
    "# Define the output directory\n",
    "output_dir = \"../../../data/finance\"\n",
    "\n",
    "# Write the processed DataFrame to a Parquet file\n",
    "df.write_parquet(f'{output_dir}/historical_fx_quotes.parquet')"
   ]
  },
  {
   "cell_type": "markdown",
   "metadata": {},
   "source": [
    "## Step 5: Read Parquet (Validate)"
   ]
  },
  {
   "cell_type": "code",
   "execution_count": 8,
   "metadata": {
    "execution": {
     "iopub.execute_input": "2025-01-06T10:05:21.645824Z",
     "iopub.status.busy": "2025-01-06T10:05:21.645489Z",
     "iopub.status.idle": "2025-01-06T10:05:21.650411Z",
     "shell.execute_reply": "2025-01-06T10:05:21.649961Z"
    }
   },
   "outputs": [
    {
     "data": {
      "text/html": [
       "<div><style>\n",
       ".dataframe > thead > tr,\n",
       ".dataframe > tbody > tr {\n",
       "  text-align: right;\n",
       "  white-space: pre-wrap;\n",
       "}\n",
       "</style>\n",
       "<small>shape: (5, 7)</small><table border=\"1\" class=\"dataframe\"><thead><tr><th>pair</th><th>date</th><th>open</th><th>low</th><th>high</th><th>close</th><th>volume</th></tr><tr><td>str</td><td>str</td><td>f64</td><td>f64</td><td>f64</td><td>f64</td><td>i64</td></tr></thead><tbody><tr><td>&quot;USDEUR&quot;</td><td>&quot;2025-01-06 00:00:00&quot;</td><td>0.9697</td><td>0.9697</td><td>0.9702</td><td>0.9702</td><td>0</td></tr><tr><td>&quot;USDEUR&quot;</td><td>&quot;2025-01-05 00:00:00&quot;</td><td>0.9702</td><td>0.9701</td><td>0.9702</td><td>0.9702</td><td>0</td></tr><tr><td>&quot;USDEUR&quot;</td><td>&quot;2025-01-03 00:00:00&quot;</td><td>0.9742</td><td>0.9698</td><td>0.9743</td><td>0.9698</td><td>68388</td></tr><tr><td>&quot;USDEUR&quot;</td><td>&quot;2025-01-02 00:00:00&quot;</td><td>0.9656</td><td>0.9641</td><td>0.9769</td><td>0.9738</td><td>81700</td></tr><tr><td>&quot;USDEUR&quot;</td><td>&quot;2025-01-01 00:00:00&quot;</td><td>0.9663</td><td>0.9652</td><td>0.9669</td><td>0.9654</td><td>0</td></tr></tbody></table></div>"
      ],
      "text/plain": [
       "shape: (5, 7)\n",
       "┌────────┬─────────────────────┬────────┬────────┬────────┬────────┬────────┐\n",
       "│ pair   ┆ date                ┆ open   ┆ low    ┆ high   ┆ close  ┆ volume │\n",
       "│ ---    ┆ ---                 ┆ ---    ┆ ---    ┆ ---    ┆ ---    ┆ ---    │\n",
       "│ str    ┆ str                 ┆ f64    ┆ f64    ┆ f64    ┆ f64    ┆ i64    │\n",
       "╞════════╪═════════════════════╪════════╪════════╪════════╪════════╪════════╡\n",
       "│ USDEUR ┆ 2025-01-06 00:00:00 ┆ 0.9697 ┆ 0.9697 ┆ 0.9702 ┆ 0.9702 ┆ 0      │\n",
       "│ USDEUR ┆ 2025-01-05 00:00:00 ┆ 0.9702 ┆ 0.9701 ┆ 0.9702 ┆ 0.9702 ┆ 0      │\n",
       "│ USDEUR ┆ 2025-01-03 00:00:00 ┆ 0.9742 ┆ 0.9698 ┆ 0.9743 ┆ 0.9698 ┆ 68388  │\n",
       "│ USDEUR ┆ 2025-01-02 00:00:00 ┆ 0.9656 ┆ 0.9641 ┆ 0.9769 ┆ 0.9738 ┆ 81700  │\n",
       "│ USDEUR ┆ 2025-01-01 00:00:00 ┆ 0.9663 ┆ 0.9652 ┆ 0.9669 ┆ 0.9654 ┆ 0      │\n",
       "└────────┴─────────────────────┴────────┴────────┴────────┴────────┴────────┘"
      ]
     },
     "execution_count": 8,
     "metadata": {},
     "output_type": "execute_result"
    }
   ],
   "source": [
    "# Validate the output by reading the Parquet file and displaying the first few rows\n",
    "pl.scan_parquet(f'{output_dir}/historical_fx_quotes.parquet').head().collect()"
   ]
  }
 ],
 "metadata": {
  "kernelspec": {
   "display_name": ".venv",
   "language": "python",
   "name": "python3"
  },
  "language_info": {
   "codemirror_mode": {
    "name": "ipython",
    "version": 3
   },
   "file_extension": ".py",
   "mimetype": "text/x-python",
   "name": "python",
   "nbconvert_exporter": "python",
   "pygments_lexer": "ipython3",
   "version": "3.12.8"
  }
 },
 "nbformat": 4,
 "nbformat_minor": 2
}
