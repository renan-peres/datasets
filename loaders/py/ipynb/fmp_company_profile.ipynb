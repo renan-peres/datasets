{
 "cells": [
  {
   "cell_type": "markdown",
   "metadata": {},
   "source": [
    "## Step 1: Import Libraries"
   ]
  },
  {
   "cell_type": "code",
   "execution_count": 1,
   "metadata": {
    "execution": {
     "iopub.execute_input": "2025-01-23T10:06:06.129548Z",
     "iopub.status.busy": "2025-01-23T10:06:06.129364Z",
     "iopub.status.idle": "2025-01-23T10:06:06.197638Z",
     "shell.execute_reply": "2025-01-23T10:06:06.197107Z"
    }
   },
   "outputs": [],
   "source": [
    "%run ../make_clean_names.py"
   ]
  },
  {
   "cell_type": "code",
   "execution_count": 2,
   "metadata": {
    "execution": {
     "iopub.execute_input": "2025-01-23T10:06:06.199773Z",
     "iopub.status.busy": "2025-01-23T10:06:06.199581Z",
     "iopub.status.idle": "2025-01-23T10:06:06.268138Z",
     "shell.execute_reply": "2025-01-23T10:06:06.267568Z"
    }
   },
   "outputs": [],
   "source": [
    "import concurrent.futures\n",
    "from concurrent.futures import ThreadPoolExecutor\n",
    "import requests\n",
    "from requests.adapters import HTTPAdapter\n",
    "from urllib3.util.retry import Retry\n",
    "import logging\n",
    "\n",
    "import polars as pl\n",
    "from datetime import datetime, timedelta\n",
    "from dotenv import load_dotenv\n",
    "import os\n",
    "\n",
    "# Load environment variables\n",
    "load_dotenv()\n",
    "\n",
    "logging.basicConfig(level=logging.INFO)\n",
    "logger = logging.getLogger(__name__)\n",
    "\n",
    "def create_session():\n",
    "    session = requests.Session()\n",
    "    retries = Retry(\n",
    "        total=3,\n",
    "        backoff_factor=1,\n",
    "        status_forcelist=[429, 500, 502, 503, 504]\n",
    "    )\n",
    "    session.mount('https://', HTTPAdapter(max_retries=retries, pool_maxsize=10))\n",
    "    return session\n",
    "\n",
    "# Get API key from environment variables\n",
    "FMP_API_KEY = os.getenv('FMP_API_KEY')\n",
    "if not FMP_API_KEY:\n",
    "    raise ValueError(\"FMP_API_KEY not found in environment variables\")"
   ]
  },
  {
   "cell_type": "markdown",
   "metadata": {},
   "source": [
    "## Step 2: Import Symbols"
   ]
  },
  {
   "cell_type": "code",
   "execution_count": 3,
   "metadata": {
    "execution": {
     "iopub.execute_input": "2025-01-23T10:06:06.270301Z",
     "iopub.status.busy": "2025-01-23T10:06:06.270099Z",
     "iopub.status.idle": "2025-01-23T10:06:06.275187Z",
     "shell.execute_reply": "2025-01-23T10:06:06.274569Z"
    }
   },
   "outputs": [
    {
     "name": "stdout",
     "output_type": "stream",
     "text": [
      "Loaded 61 symbols from ../tickers.txt\n",
      "Symbols: ['AAPL', 'MSFT', 'GOOGL', 'GOOG', 'META', 'NVDA', 'AVGO', 'ORCL', 'CRM', 'ACN', 'ADBE', 'CSCO', 'INTC', 'NFLX', 'DIS', 'CMCSA', 'VZ', 'T', 'AMZN', 'TSLA', 'HD', 'MCD', 'NKE', 'SBUX', 'TGT', 'LOW', 'WMT', 'PG', 'KO', 'PEP', 'COST', 'BRK-B', 'JPM', 'BAC', 'WFC', 'GS', 'MS', 'BLK', 'UNH', 'JNJ', 'PFE', 'ABBV', 'MRK', 'LLY', 'CAT', 'BA', 'HON', 'UPS', 'RTX', 'GE', 'XOM', 'CVX', 'COP', 'SLB', 'LIN', 'APD', 'ECL', 'PLD', 'AMT', 'CCI', 'OSW']\n"
     ]
    }
   ],
   "source": [
    "def load_symbols(file_path: str) -> List[str]:\n",
    "    \"\"\"Load symbols from a text file\"\"\"\n",
    "    try:\n",
    "        with open(file_path, 'r') as f:\n",
    "            symbols = [line.strip() for line in f if line.strip()]\n",
    "        print(f\"Loaded {len(symbols)} symbols from {file_path}\")\n",
    "        return symbols\n",
    "    except Exception as e:\n",
    "        print(f\"Error loading symbols: {str(e)}\")\n",
    "        return []\n",
    "\n",
    "symbols_file = '../tickers.txt'\n",
    "symbols = load_symbols(symbols_file)\n",
    "\n",
    "if symbols:\n",
    "    print(\"Symbols:\", symbols)\n",
    "else:\n",
    "    print(\"No symbols loaded.\")"
   ]
  },
  {
   "cell_type": "markdown",
   "metadata": {},
   "source": [
    "## Step 3: Extract Data from FMP into Polars"
   ]
  },
  {
   "cell_type": "code",
   "execution_count": 4,
   "metadata": {
    "execution": {
     "iopub.execute_input": "2025-01-23T10:06:06.314917Z",
     "iopub.status.busy": "2025-01-23T10:06:06.314670Z",
     "iopub.status.idle": "2025-01-23T10:06:07.305023Z",
     "shell.execute_reply": "2025-01-23T10:06:07.304430Z"
    }
   },
   "outputs": [],
   "source": [
    "def fetch_company_profile(symbol: str, api_key: str, session: requests.Session) -> Dict:\n",
    "    \"\"\"Fetch company profile data from FMP API\"\"\"\n",
    "    url = f\"https://financialmodelingprep.com/api/v3/profile/{symbol}\"\n",
    "    params = {\"apikey\": api_key}\n",
    "    \n",
    "    try:\n",
    "        response = session.get(url, params=params, timeout=10)\n",
    "        response.raise_for_status()\n",
    "        return response.json()\n",
    "    except Exception as e:\n",
    "        logger.error(f\"Error fetching {symbol}: {str(e)}\")\n",
    "        return None\n",
    "\n",
    "def fetch_all_profiles(symbols: List[str], api_key: str) -> List[Dict]:\n",
    "    session = create_session()\n",
    "    \n",
    "    with ThreadPoolExecutor(max_workers=10) as executor:\n",
    "        futures = [\n",
    "            executor.submit(fetch_company_profile, symbol, api_key, session)\n",
    "            for symbol in symbols\n",
    "        ]\n",
    "        results = [\n",
    "            f.result() for f in concurrent.futures.as_completed(futures)\n",
    "        ]\n",
    "    \n",
    "    return [r[0] for r in results if r and isinstance(r, list)]\n",
    "\n",
    "# Execute fetching\n",
    "company_profiles = fetch_all_profiles(symbols, FMP_API_KEY)\n",
    "\n",
    "# Convert to Polars DataFrame more efficiently\n",
    "if company_profiles:\n",
    "    df = pl.DataFrame(company_profiles)"
   ]
  },
  {
   "cell_type": "markdown",
   "metadata": {},
   "source": [
    "## Step 4: Clean Column Names"
   ]
  },
  {
   "cell_type": "code",
   "execution_count": 5,
   "metadata": {
    "execution": {
     "iopub.execute_input": "2025-01-23T10:06:07.307291Z",
     "iopub.status.busy": "2025-01-23T10:06:07.306895Z",
     "iopub.status.idle": "2025-01-23T10:06:07.312039Z",
     "shell.execute_reply": "2025-01-23T10:06:07.311577Z"
    }
   },
   "outputs": [],
   "source": [
    "df = make_clean_names(df)"
   ]
  },
  {
   "cell_type": "markdown",
   "metadata": {},
   "source": [
    "## Step 5: Write Polars to Parquet"
   ]
  },
  {
   "cell_type": "code",
   "execution_count": 6,
   "metadata": {
    "execution": {
     "iopub.execute_input": "2025-01-23T10:06:07.314193Z",
     "iopub.status.busy": "2025-01-23T10:06:07.313589Z",
     "iopub.status.idle": "2025-01-23T10:06:07.320829Z",
     "shell.execute_reply": "2025-01-23T10:06:07.320302Z"
    }
   },
   "outputs": [],
   "source": [
    "output_dir = \"../../../data/finance\"\n",
    "\n",
    "# Write DataFrame to Parquet\n",
    "df.write_parquet(f'{output_dir}/company_profile.parquet')"
   ]
  },
  {
   "cell_type": "markdown",
   "metadata": {},
   "source": [
    "## Step 6: Read Parquet (Validate)"
   ]
  },
  {
   "cell_type": "code",
   "execution_count": 7,
   "metadata": {
    "execution": {
     "iopub.execute_input": "2025-01-23T10:06:07.323165Z",
     "iopub.status.busy": "2025-01-23T10:06:07.322794Z",
     "iopub.status.idle": "2025-01-23T10:06:07.331456Z",
     "shell.execute_reply": "2025-01-23T10:06:07.330899Z"
    }
   },
   "outputs": [
    {
     "data": {
      "text/html": [
       "<div><style>\n",
       ".dataframe > thead > tr,\n",
       ".dataframe > tbody > tr {\n",
       "  text-align: right;\n",
       "  white-space: pre-wrap;\n",
       "}\n",
       "</style>\n",
       "<small>shape: (5, 36)</small><table border=\"1\" class=\"dataframe\"><thead><tr><th>symbol</th><th>price</th><th>beta</th><th>vol_avg</th><th>mkt_cap</th><th>last_div</th><th>range</th><th>changes</th><th>company_name</th><th>currency</th><th>cik</th><th>isin</th><th>cusip</th><th>exchange</th><th>exchange_short_name</th><th>industry</th><th>website</th><th>description</th><th>ceo</th><th>sector</th><th>country</th><th>full_time_employees</th><th>phone</th><th>address</th><th>city</th><th>state</th><th>zip</th><th>dcf_diff</th><th>dcf</th><th>image</th><th>ipo_date</th><th>default_image</th><th>is_etf</th><th>is_actively_trading</th><th>is_adr</th><th>is_fund</th></tr><tr><td>str</td><td>f64</td><td>f64</td><td>i64</td><td>i64</td><td>f64</td><td>str</td><td>f64</td><td>str</td><td>str</td><td>str</td><td>str</td><td>str</td><td>str</td><td>str</td><td>str</td><td>str</td><td>str</td><td>str</td><td>str</td><td>str</td><td>str</td><td>str</td><td>str</td><td>str</td><td>str</td><td>str</td><td>f64</td><td>f64</td><td>str</td><td>str</td><td>bool</td><td>bool</td><td>bool</td><td>bool</td><td>bool</td></tr></thead><tbody><tr><td>&quot;GOOGL&quot;</td><td>198.37</td><td>1.034</td><td>28448020</td><td>2437005065252</td><td>0.6</td><td>&quot;130.67-202.29&quot;</td><td>0.32</td><td>&quot;Alphabet Inc.&quot;</td><td>&quot;USD&quot;</td><td>&quot;0001652044&quot;</td><td>&quot;US02079K3059&quot;</td><td>&quot;02079K305&quot;</td><td>&quot;NASDAQ Global Select&quot;</td><td>&quot;NASDAQ&quot;</td><td>&quot;Internet Content &amp; Information&quot;</td><td>&quot;https://www.abc.xyz&quot;</td><td>&quot;Alphabet Inc. provides various…</td><td>&quot;Mr. Sundar&nbsp;&nbsp;Pichai&quot;</td><td>&quot;Communication Services&quot;</td><td>&quot;US&quot;</td><td>&quot;181269&quot;</td><td>&quot;650 253 0000&quot;</td><td>&quot;1600 Amphitheatre Parkway&quot;</td><td>&quot;Mountain View&quot;</td><td>&quot;CA&quot;</td><td>&quot;94043&quot;</td><td>5.26507</td><td>193.104934</td><td>&quot;https://images.financialmodeli…</td><td>&quot;2004-08-19&quot;</td><td>false</td><td>false</td><td>true</td><td>false</td><td>false</td></tr><tr><td>&quot;META&quot;</td><td>623.5</td><td>1.215</td><td>12812046</td><td>1573714506282</td><td>2.0</td><td>&quot;385.66-638.4&quot;</td><td>7.04</td><td>&quot;Meta Platforms, Inc.&quot;</td><td>&quot;USD&quot;</td><td>&quot;0001326801&quot;</td><td>&quot;US30303M1027&quot;</td><td>&quot;30303M102&quot;</td><td>&quot;NASDAQ Global Select&quot;</td><td>&quot;NASDAQ&quot;</td><td>&quot;Internet Content &amp; Information&quot;</td><td>&quot;https://investor.fb.com&quot;</td><td>&quot;Meta Platforms, Inc. engages i…</td><td>&quot;Mr. Mark Elliot Zuckerberg&quot;</td><td>&quot;Communication Services&quot;</td><td>&quot;US&quot;</td><td>&quot;72404&quot;</td><td>&quot;650 543 4800&quot;</td><td>&quot;1601 Willow Road&quot;</td><td>&quot;Menlo Park&quot;</td><td>&quot;CA&quot;</td><td>&quot;94025&quot;</td><td>176.10675</td><td>447.393245</td><td>&quot;https://images.financialmodeli…</td><td>&quot;2012-05-18&quot;</td><td>false</td><td>false</td><td>true</td><td>false</td><td>false</td></tr><tr><td>&quot;NVDA&quot;</td><td>147.07</td><td>1.657</td><td>211656380</td><td>3601744300000</td><td>0.04</td><td>&quot;59.938-153.13&quot;</td><td>6.24</td><td>&quot;NVIDIA Corporation&quot;</td><td>&quot;USD&quot;</td><td>&quot;0001045810&quot;</td><td>&quot;US67066G1040&quot;</td><td>&quot;67066G104&quot;</td><td>&quot;NASDAQ Global Select&quot;</td><td>&quot;NASDAQ&quot;</td><td>&quot;Semiconductors&quot;</td><td>&quot;https://www.nvidia.com&quot;</td><td>&quot;NVIDIA Corporation provides gr…</td><td>&quot;Mr. Jen-Hsun&nbsp;&nbsp;Huang&quot;</td><td>&quot;Technology&quot;</td><td>&quot;US&quot;</td><td>&quot;29600&quot;</td><td>&quot;408 486 2000&quot;</td><td>&quot;2788 San Tomas Expressway&quot;</td><td>&quot;Santa Clara&quot;</td><td>&quot;CA&quot;</td><td>&quot;95051&quot;</td><td>90.22544</td><td>56.844559</td><td>&quot;https://images.financialmodeli…</td><td>&quot;1999-01-22&quot;</td><td>false</td><td>false</td><td>true</td><td>false</td><td>false</td></tr><tr><td>&quot;MSFT&quot;</td><td>446.2</td><td>0.904</td><td>21296040</td><td>3317443456000</td><td>3.08</td><td>&quot;385.58-468.35&quot;</td><td>17.7</td><td>&quot;Microsoft Corporation&quot;</td><td>&quot;USD&quot;</td><td>&quot;0000789019&quot;</td><td>&quot;US5949181045&quot;</td><td>&quot;594918104&quot;</td><td>&quot;NASDAQ Global Select&quot;</td><td>&quot;NASDAQ&quot;</td><td>&quot;Software - Infrastructure&quot;</td><td>&quot;https://www.microsoft.com&quot;</td><td>&quot;Microsoft Corporation develops…</td><td>&quot;Mr. Satya&nbsp;&nbsp;Nadella&quot;</td><td>&quot;Technology&quot;</td><td>&quot;US&quot;</td><td>&quot;228000&quot;</td><td>&quot;425 882 8080&quot;</td><td>&quot;One Microsoft Way&quot;</td><td>&quot;Redmond&quot;</td><td>&quot;WA&quot;</td><td>&quot;98052-6399&quot;</td><td>90.85654</td><td>355.34346</td><td>&quot;https://images.financialmodeli…</td><td>&quot;1986-03-13&quot;</td><td>false</td><td>false</td><td>true</td><td>false</td><td>false</td></tr><tr><td>&quot;AAPL&quot;</td><td>223.83</td><td>1.24</td><td>47048363</td><td>3365933157000</td><td>0.99</td><td>&quot;164.08-260.1&quot;</td><td>1.19</td><td>&quot;Apple Inc.&quot;</td><td>&quot;USD&quot;</td><td>&quot;0000320193&quot;</td><td>&quot;US0378331005&quot;</td><td>&quot;037833100&quot;</td><td>&quot;NASDAQ Global Select&quot;</td><td>&quot;NASDAQ&quot;</td><td>&quot;Consumer Electronics&quot;</td><td>&quot;https://www.apple.com&quot;</td><td>&quot;Apple Inc. designs, manufactur…</td><td>&quot;Mr. Timothy D. Cook&quot;</td><td>&quot;Technology&quot;</td><td>&quot;US&quot;</td><td>&quot;164000&quot;</td><td>&quot;(408) 996-1010&quot;</td><td>&quot;One Apple Park Way&quot;</td><td>&quot;Cupertino&quot;</td><td>&quot;CA&quot;</td><td>&quot;95014&quot;</td><td>78.4351</td><td>145.394896</td><td>&quot;https://images.financialmodeli…</td><td>&quot;1980-12-12&quot;</td><td>false</td><td>false</td><td>true</td><td>false</td><td>false</td></tr></tbody></table></div>"
      ],
      "text/plain": [
       "shape: (5, 36)\n",
       "┌────────┬────────┬───────┬───────────┬───┬────────┬─────────────────────┬────────┬─────────┐\n",
       "│ symbol ┆ price  ┆ beta  ┆ vol_avg   ┆ … ┆ is_etf ┆ is_actively_trading ┆ is_adr ┆ is_fund │\n",
       "│ ---    ┆ ---    ┆ ---   ┆ ---       ┆   ┆ ---    ┆ ---                 ┆ ---    ┆ ---     │\n",
       "│ str    ┆ f64    ┆ f64   ┆ i64       ┆   ┆ bool   ┆ bool                ┆ bool   ┆ bool    │\n",
       "╞════════╪════════╪═══════╪═══════════╪═══╪════════╪═════════════════════╪════════╪═════════╡\n",
       "│ GOOGL  ┆ 198.37 ┆ 1.034 ┆ 28448020  ┆ … ┆ false  ┆ true                ┆ false  ┆ false   │\n",
       "│ META   ┆ 623.5  ┆ 1.215 ┆ 12812046  ┆ … ┆ false  ┆ true                ┆ false  ┆ false   │\n",
       "│ NVDA   ┆ 147.07 ┆ 1.657 ┆ 211656380 ┆ … ┆ false  ┆ true                ┆ false  ┆ false   │\n",
       "│ MSFT   ┆ 446.2  ┆ 0.904 ┆ 21296040  ┆ … ┆ false  ┆ true                ┆ false  ┆ false   │\n",
       "│ AAPL   ┆ 223.83 ┆ 1.24  ┆ 47048363  ┆ … ┆ false  ┆ true                ┆ false  ┆ false   │\n",
       "└────────┴────────┴───────┴───────────┴───┴────────┴─────────────────────┴────────┴─────────┘"
      ]
     },
     "execution_count": 7,
     "metadata": {},
     "output_type": "execute_result"
    }
   ],
   "source": [
    "pl.scan_parquet(f'{output_dir}/company_profile.parquet').head().collect()"
   ]
  }
 ],
 "metadata": {
  "kernelspec": {
   "display_name": ".venv",
   "language": "python",
   "name": "python3"
  },
  "language_info": {
   "codemirror_mode": {
    "name": "ipython",
    "version": 3
   },
   "file_extension": ".py",
   "mimetype": "text/x-python",
   "name": "python",
   "nbconvert_exporter": "python",
   "pygments_lexer": "ipython3",
   "version": "3.12.8"
  }
 },
 "nbformat": 4,
 "nbformat_minor": 2
}
