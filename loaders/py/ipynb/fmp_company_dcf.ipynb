{
 "cells": [
  {
   "cell_type": "markdown",
   "metadata": {},
   "source": [
    "## Step 1: Import Libraries"
   ]
  },
  {
   "cell_type": "code",
   "execution_count": 1,
   "metadata": {
    "execution": {
     "iopub.execute_input": "2025-01-17T11:36:28.760112Z",
     "iopub.status.busy": "2025-01-17T11:36:28.759964Z",
     "iopub.status.idle": "2025-01-17T11:36:28.811299Z",
     "shell.execute_reply": "2025-01-17T11:36:28.810387Z"
    }
   },
   "outputs": [],
   "source": [
    "%run ../make_clean_names.py"
   ]
  },
  {
   "cell_type": "code",
   "execution_count": 2,
   "metadata": {
    "execution": {
     "iopub.execute_input": "2025-01-17T11:36:28.815136Z",
     "iopub.status.busy": "2025-01-17T11:36:28.814881Z",
     "iopub.status.idle": "2025-01-17T11:36:28.870555Z",
     "shell.execute_reply": "2025-01-17T11:36:28.870038Z"
    }
   },
   "outputs": [],
   "source": [
    "import concurrent.futures\n",
    "from concurrent.futures import ThreadPoolExecutor\n",
    "import requests\n",
    "from requests.adapters import HTTPAdapter\n",
    "from urllib3.util.retry import Retry\n",
    "import logging\n",
    "\n",
    "import polars as pl\n",
    "from datetime import datetime, timedelta\n",
    "from dotenv import load_dotenv\n",
    "import os\n",
    "\n",
    "# Load environment variables\n",
    "load_dotenv()\n",
    "\n",
    "logging.basicConfig(level=logging.INFO)\n",
    "logger = logging.getLogger(__name__)\n",
    "\n",
    "def create_session():\n",
    "    session = requests.Session()\n",
    "    retries = Retry(\n",
    "        total=3,\n",
    "        backoff_factor=1,\n",
    "        status_forcelist=[429, 500, 502, 503, 504]\n",
    "    )\n",
    "    session.mount('https://', HTTPAdapter(max_retries=retries, pool_maxsize=10))\n",
    "    return session\n",
    "\n",
    "# Get API key from environment variables\n",
    "FMP_API_KEY = os.getenv('FMP_API_KEY')\n",
    "if not FMP_API_KEY:\n",
    "    raise ValueError(\"FMP_API_KEY not found in environment variables\")"
   ]
  },
  {
   "cell_type": "markdown",
   "metadata": {},
   "source": [
    "## Step 2: Import Symbols"
   ]
  },
  {
   "cell_type": "code",
   "execution_count": 3,
   "metadata": {
    "execution": {
     "iopub.execute_input": "2025-01-17T11:36:28.874662Z",
     "iopub.status.busy": "2025-01-17T11:36:28.873735Z",
     "iopub.status.idle": "2025-01-17T11:36:28.879073Z",
     "shell.execute_reply": "2025-01-17T11:36:28.878576Z"
    }
   },
   "outputs": [
    {
     "name": "stdout",
     "output_type": "stream",
     "text": [
      "Loaded 60 symbols from ../tickers.txt\n",
      "Symbols: ['AAPL', 'MSFT', 'GOOGL', 'GOOG', 'META', 'NVDA', 'AVGO', 'ORCL', 'CRM', 'ACN', 'ADBE', 'CSCO', 'INTC', 'NFLX', 'DIS', 'CMCSA', 'VZ', 'T', 'AMZN', 'TSLA', 'HD', 'MCD', 'NKE', 'SBUX', 'TGT', 'LOW', 'WMT', 'PG', 'KO', 'PEP', 'COST', 'BRK-B', 'JPM', 'BAC', 'WFC', 'GS', 'MS', 'BLK', 'UNH', 'JNJ', 'PFE', 'ABBV', 'MRK', 'LLY', 'CAT', 'BA', 'HON', 'UPS', 'RTX', 'GE', 'XOM', 'CVX', 'COP', 'SLB', 'LIN', 'APD', 'ECL', 'PLD', 'AMT', 'CCI']\n"
     ]
    }
   ],
   "source": [
    "def load_symbols(file_path: str) -> List[str]:\n",
    "    \"\"\"Load symbols from a text file\"\"\"\n",
    "    try:\n",
    "        with open(file_path, 'r') as f:\n",
    "            symbols = [line.strip() for line in f if line.strip()]\n",
    "        print(f\"Loaded {len(symbols)} symbols from {file_path}\")\n",
    "        return symbols\n",
    "    except Exception as e:\n",
    "        print(f\"Error loading symbols: {str(e)}\")\n",
    "        return []\n",
    "\n",
    "symbols_file = '../tickers.txt'\n",
    "symbols = load_symbols(symbols_file)\n",
    "\n",
    "if symbols:\n",
    "    print(\"Symbols:\", symbols)\n",
    "else:\n",
    "    print(\"No symbols loaded.\")"
   ]
  },
  {
   "cell_type": "markdown",
   "metadata": {},
   "source": [
    "## Step 3: Extract Data from FMP into Polars"
   ]
  },
  {
   "cell_type": "code",
   "execution_count": 4,
   "metadata": {
    "execution": {
     "iopub.execute_input": "2025-01-17T11:36:28.908799Z",
     "iopub.status.busy": "2025-01-17T11:36:28.908581Z",
     "iopub.status.idle": "2025-01-17T11:36:30.396306Z",
     "shell.execute_reply": "2025-01-17T11:36:30.395397Z"
    }
   },
   "outputs": [],
   "source": [
    "def fetch_dcf(symbol: str, api_key: str, session: requests.Session) -> Dict:\n",
    "    \"\"\"Fetch company profile data from FMP API\"\"\"\n",
    "    url = f\"https://financialmodelingprep.com/api/v3/discounted-cash-flow/{symbol}\"\n",
    "    params = {\"apikey\": api_key}\n",
    "    \n",
    "    try:\n",
    "        response = session.get(url, params=params, timeout=10)\n",
    "        response.raise_for_status()\n",
    "        return response.json()\n",
    "    except Exception as e:\n",
    "        logger.error(f\"Error fetching {symbol}: {str(e)}\")\n",
    "        return None\n",
    "\n",
    "def fetch_all_dcf(symbols: List[str], api_key: str) -> List[Dict]:\n",
    "    session = create_session()\n",
    "    \n",
    "    with ThreadPoolExecutor(max_workers=10) as executor:\n",
    "        futures = [\n",
    "            executor.submit(fetch_dcf, symbol, api_key, session)\n",
    "            for symbol in symbols\n",
    "        ]\n",
    "        results = [\n",
    "            f.result() for f in concurrent.futures.as_completed(futures)\n",
    "        ]\n",
    "    \n",
    "    return [r[0] for r in results if r and isinstance(r, list)]\n",
    "\n",
    "# Execute fetching\n",
    "company_profiles = fetch_all_dcf(symbols, FMP_API_KEY)\n",
    "\n",
    "# Convert to Polars DataFrame more efficiently\n",
    "if company_profiles:\n",
    "    df_dcf = pl.DataFrame(company_profiles)"
   ]
  },
  {
   "cell_type": "code",
   "execution_count": 5,
   "metadata": {
    "execution": {
     "iopub.execute_input": "2025-01-17T11:36:30.399137Z",
     "iopub.status.busy": "2025-01-17T11:36:30.398993Z",
     "iopub.status.idle": "2025-01-17T11:36:31.715459Z",
     "shell.execute_reply": "2025-01-17T11:36:31.714808Z"
    }
   },
   "outputs": [],
   "source": [
    "def fetch_dcf_advanced(symbol: str, api_key: str, session: requests.Session) -> Dict:\n",
    "    \"\"\"Fetch company profile data from FMP API\"\"\"\n",
    "    url = f\"https://financialmodelingprep.com/api/v4/advanced_discounted_cash_flow\"\n",
    "    params = {\n",
    "        \"symbol\": symbol,\n",
    "        \"apikey\": api_key}\n",
    "    \n",
    "    try:\n",
    "        response = session.get(url, params=params, timeout=10)\n",
    "        response.raise_for_status()\n",
    "        return response.json()\n",
    "    except Exception as e:\n",
    "        logger.error(f\"Error fetching {symbol}: {str(e)}\")\n",
    "        return None\n",
    "\n",
    "def fetch_all_dcf_advanced(symbols: List[str], api_key: str) -> List[Dict]:\n",
    "    session = create_session()\n",
    "    \n",
    "    with ThreadPoolExecutor(max_workers=10) as executor:\n",
    "        futures = [\n",
    "            executor.submit(fetch_dcf_advanced, symbol, api_key, session)\n",
    "            for symbol in symbols\n",
    "        ]\n",
    "        results = [\n",
    "            f.result() for f in concurrent.futures.as_completed(futures)\n",
    "        ]\n",
    "    \n",
    "    return [r[0] for r in results if r and isinstance(r, list)]\n",
    "\n",
    "# Execute fetching\n",
    "company_profiles = fetch_all_dcf_advanced(symbols, FMP_API_KEY)\n",
    "\n",
    "# Convert to Polars DataFrame more efficiently\n",
    "if company_profiles:\n",
    "    df_dcf_advanced = pl.DataFrame(company_profiles)"
   ]
  },
  {
   "cell_type": "markdown",
   "metadata": {},
   "source": [
    "## Step 4: Clean Column Names"
   ]
  },
  {
   "cell_type": "code",
   "execution_count": 6,
   "metadata": {
    "execution": {
     "iopub.execute_input": "2025-01-17T11:36:31.717367Z",
     "iopub.status.busy": "2025-01-17T11:36:31.717235Z",
     "iopub.status.idle": "2025-01-17T11:36:31.756730Z",
     "shell.execute_reply": "2025-01-17T11:36:31.756089Z"
    }
   },
   "outputs": [],
   "source": [
    "df = df_dcf.join(df_dcf_advanced, on=\"symbol\", how=\"left\")"
   ]
  },
  {
   "cell_type": "code",
   "execution_count": 7,
   "metadata": {
    "execution": {
     "iopub.execute_input": "2025-01-17T11:36:31.758497Z",
     "iopub.status.busy": "2025-01-17T11:36:31.758283Z",
     "iopub.status.idle": "2025-01-17T11:36:31.761946Z",
     "shell.execute_reply": "2025-01-17T11:36:31.761423Z"
    }
   },
   "outputs": [],
   "source": [
    "df = make_clean_names(df)"
   ]
  },
  {
   "cell_type": "markdown",
   "metadata": {},
   "source": [
    "## Step 5: Write Polars to Parquet"
   ]
  },
  {
   "cell_type": "code",
   "execution_count": 8,
   "metadata": {
    "execution": {
     "iopub.execute_input": "2025-01-17T11:36:31.763628Z",
     "iopub.status.busy": "2025-01-17T11:36:31.763223Z",
     "iopub.status.idle": "2025-01-17T11:36:31.769235Z",
     "shell.execute_reply": "2025-01-17T11:36:31.768755Z"
    }
   },
   "outputs": [],
   "source": [
    "output_dir = \"../../../data/finance\"\n",
    "\n",
    "# Write DataFrame to Parquet\n",
    "df.write_parquet(f'{output_dir}/company_dfc_advanced.parquet')"
   ]
  },
  {
   "cell_type": "markdown",
   "metadata": {},
   "source": [
    "## Step 6: Read Parquet (Validate)"
   ]
  },
  {
   "cell_type": "code",
   "execution_count": 9,
   "metadata": {
    "execution": {
     "iopub.execute_input": "2025-01-17T11:36:31.770776Z",
     "iopub.status.busy": "2025-01-17T11:36:31.770553Z",
     "iopub.status.idle": "2025-01-17T11:36:31.798720Z",
     "shell.execute_reply": "2025-01-17T11:36:31.798253Z"
    }
   },
   "outputs": [
    {
     "data": {
      "text/html": [
       "<div><style>\n",
       ".dataframe > thead > tr,\n",
       ".dataframe > tbody > tr {\n",
       "  text-align: right;\n",
       "  white-space: pre-wrap;\n",
       "}\n",
       "</style>\n",
       "<small>shape: (5, 50)</small><table border=\"1\" class=\"dataframe\"><thead><tr><th>symbol</th><th>date</th><th>dcf</th><th>stock_price</th><th>year</th><th>revenue</th><th>revenue_percentage</th><th>ebitda</th><th>ebitda_percentage</th><th>ebit</th><th>ebit_percentage</th><th>depreciation</th><th>depreciation_percentage</th><th>total_cash</th><th>total_cash_percentage</th><th>receivables</th><th>receivables_percentage</th><th>inventories</th><th>inventories_percentage</th><th>payable</th><th>payable_percentage</th><th>capital_expenditure</th><th>capital_expenditure_percentage</th><th>price</th><th>beta</th><th>diluted_shares_outstanding</th><th>costof_debt</th><th>tax_rate</th><th>after_tax_cost_of_debt</th><th>risk_free_rate</th><th>market_risk_premium</th><th>cost_of_equity</th><th>total_debt</th><th>total_equity</th><th>total_capital</th><th>debt_weighting</th><th>equity_weighting</th><th>wacc</th><th>tax_rate_cash</th><th>ebiat</th><th>ufcf</th><th>sum_pv_ufcf</th><th>long_term_growth_rate</th><th>terminal_value</th><th>present_terminal_value</th><th>enterprise_value</th><th>net_debt</th><th>equity_value</th><th>equity_value_per_share</th><th>free_cash_flowt1</th></tr><tr><td>str</td><td>str</td><td>f64</td><td>f64</td><td>str</td><td>i64</td><td>f64</td><td>i64</td><td>f64</td><td>i64</td><td>f64</td><td>i64</td><td>f64</td><td>i64</td><td>f64</td><td>i64</td><td>f64</td><td>f64</td><td>f64</td><td>i64</td><td>f64</td><td>i64</td><td>f64</td><td>f64</td><td>f64</td><td>i64</td><td>f64</td><td>f64</td><td>f64</td><td>f64</td><td>f64</td><td>f64</td><td>i64</td><td>i64</td><td>i64</td><td>f64</td><td>f64</td><td>f64</td><td>i64</td><td>i64</td><td>i64</td><td>i64</td><td>f64</td><td>i64</td><td>i64</td><td>i64</td><td>i64</td><td>i64</td><td>f64</td><td>i64</td></tr></thead><tbody><tr><td>&quot;GOOGL&quot;</td><td>&quot;2025-01-17&quot;</td><td>194.724093</td><td>192.91</td><td>&quot;2028&quot;</td><td>706109768075</td><td>18.1</td><td>240199708049</td><td>34.02</td><td>200287429124</td><td>28.36</td><td>39912278924</td><td>5.65</td><td>394484923413</td><td>55.87</td><td>111949781484</td><td>15.85</td><td>3.4094e9</td><td>0.48284</td><td>18488261260</td><td>2.62</td><td>-81828362399</td><td>-11.59</td><td>192.91</td><td>1.034</td><td>12722000000</td><td>4.39</td><td>13.91</td><td>3.78</td><td>4.39</td><td>4.72</td><td>9.27</td><td>28504000000</td><td>2454201020000</td><td>2482705020000</td><td>1.15</td><td>98.85</td><td>9.21</td><td>15122195</td><td>169999573836</td><td>113239806868</td><td>312064036102</td><td>4.0</td><td>2261827384407</td><td>1456164866547</td><td>1768228902649</td><td>4456000000</td><td>1763772902649</td><td>138.64</td><td>117769399143</td></tr><tr><td>&quot;AVGO&quot;</td><td>&quot;2025-01-17&quot;</td><td>178.419078</td><td>229.41</td><td>&quot;2029&quot;</td><td>139008851482</td><td>21.93</td><td>72607157198</td><td>52.23</td><td>45906526818</td><td>33.02</td><td>26700630380</td><td>19.21</td><td>47633557276</td><td>34.27</td><td>12076255889</td><td>8.69</td><td>6.5147e9</td><td>4.69</td><td>4743635680</td><td>3.41</td><td>-1988799375</td><td>-1.43</td><td>229.41</td><td>1.187</td><td>4778000000</td><td>5.62</td><td>40.55</td><td>3.34</td><td>4.39</td><td>4.72</td><td>9.99</td><td>67566000000</td><td>1096120980000</td><td>1163686980000</td><td>5.81</td><td>94.19</td><td>9.7</td><td>11050874</td><td>40833454730</td><td>63054429826</td><td>161848316065</td><td>4.0</td><td>1149941571549</td><td>723754211757</td><td>885602527823</td><td>58218000000</td><td>827384527823</td><td>173.17</td><td>65576607019</td></tr><tr><td>&quot;CRM&quot;</td><td>&quot;2025-01-17&quot;</td><td>188.908171</td><td>320.0</td><td>&quot;2029&quot;</td><td>85367530420</td><td>19.62</td><td>15315079034</td><td>17.94</td><td>5131274276</td><td>6.01</td><td>10183804758</td><td>11.93</td><td>38103749554</td><td>44.63</td><td>30144526056</td><td>35.31</td><td>3.7496e9</td><td>4.39</td><td>9582770514</td><td>11.23</td><td>-2469646707</td><td>-2.89</td><td>320.0</td><td>1.288</td><td>984000000</td><td>4.39</td><td>16.44</td><td>3.67</td><td>4.39</td><td>4.72</td><td>10.47</td><td>13562000000</td><td>314880000000</td><td>328442000000</td><td>4.13</td><td>95.87</td><td>10.16</td><td>34565279</td><td>3357635029</td><td>7084413861</td><td>17056294555</td><td>2.0</td><td>88602139320</td><td>54627312688</td><td>71683607244</td><td>5090000000</td><td>66593607244</td><td>67.68</td><td>7226102138</td></tr><tr><td>&quot;NVDA&quot;</td><td>&quot;2025-01-17&quot;</td><td>57.186829</td><td>133.57</td><td>&quot;2029&quot;</td><td>520683174055</td><td>53.59</td><td>195855645765</td><td>37.62</td><td>172283561763</td><td>33.09</td><td>23572084002</td><td>4.53</td><td>353940947259</td><td>67.98</td><td>80832177311</td><td>15.52</td><td>5.9766e10</td><td>11.48</td><td>29846344169</td><td>5.73</td><td>-24388759055</td><td>-4.68</td><td>133.57</td><td>1.657</td><td>24940000000</td><td>4.39</td><td>12.0</td><td>3.86</td><td>4.39</td><td>4.72</td><td>12.21</td><td>11056000000</td><td>3331235800000</td><td>3342291800000</td><td>0.33079</td><td>99.67</td><td>12.18</td><td>4301152</td><td>164873384699</td><td>125414004138</td><td>207046706641</td><td>4.0</td><td>1593620397887</td><td>896849856525</td><td>1103896563167</td><td>3776000000</td><td>1100120563167</td><td>44.11</td><td>130430564304</td></tr><tr><td>&quot;ORCL&quot;</td><td>&quot;2025-01-17&quot;</td><td>95.281707</td><td>159.54</td><td>&quot;2029&quot;</td><td>77979944616</td><td>8.05</td><td>33211898875</td><td>42.59</td><td>26041516507</td><td>33.4</td><td>7170382367</td><td>9.2</td><td>45560506733</td><td>58.43</td><td>10965256666</td><td>14.06</td><td>4.45725995e8</td><td>0.57159</td><td>2095292649</td><td>2.69</td><td>-7841196885</td><td>-10.06</td><td>159.54</td><td>1.013</td><td>2823000000</td><td>4.39</td><td>10.85</td><td>3.91</td><td>4.39</td><td>4.72</td><td>9.17</td><td>94469000000</td><td>450381420000</td><td>544850420000</td><td>17.34</td><td>82.66</td><td>8.27</td><td>9168975</td><td>23653776623</td><td>22289305066</td><td>74775180463</td><td>4.0</td><td>542553391557</td><td>364628499886</td><td>439403680349</td><td>84015000000</td><td>355388680349</td><td>125.89</td><td>23180877269</td></tr></tbody></table></div>"
      ],
      "text/plain": [
       "shape: (5, 50)\n",
       "┌────────┬────────────┬────────────┬───────────┬───┬───────────┬───────────┬───────────┬───────────┐\n",
       "│ symbol ┆ date       ┆ dcf        ┆ stock_pri ┆ … ┆ net_debt  ┆ equity_va ┆ equity_va ┆ free_cash │\n",
       "│ ---    ┆ ---        ┆ ---        ┆ ce        ┆   ┆ ---       ┆ lue       ┆ lue_per_s ┆ _flowt1   │\n",
       "│ str    ┆ str        ┆ f64        ┆ ---       ┆   ┆ i64       ┆ ---       ┆ hare      ┆ ---       │\n",
       "│        ┆            ┆            ┆ f64       ┆   ┆           ┆ i64       ┆ ---       ┆ i64       │\n",
       "│        ┆            ┆            ┆           ┆   ┆           ┆           ┆ f64       ┆           │\n",
       "╞════════╪════════════╪════════════╪═══════════╪═══╪═══════════╪═══════════╪═══════════╪═══════════╡\n",
       "│ GOOGL  ┆ 2025-01-17 ┆ 194.724093 ┆ 192.91    ┆ … ┆ 445600000 ┆ 176377290 ┆ 138.64    ┆ 117769399 │\n",
       "│        ┆            ┆            ┆           ┆   ┆ 0         ┆ 2649      ┆           ┆ 143       │\n",
       "│ AVGO   ┆ 2025-01-17 ┆ 178.419078 ┆ 229.41    ┆ … ┆ 582180000 ┆ 827384527 ┆ 173.17    ┆ 655766070 │\n",
       "│        ┆            ┆            ┆           ┆   ┆ 00        ┆ 823       ┆           ┆ 19        │\n",
       "│ CRM    ┆ 2025-01-17 ┆ 188.908171 ┆ 320.0     ┆ … ┆ 509000000 ┆ 665936072 ┆ 67.68     ┆ 722610213 │\n",
       "│        ┆            ┆            ┆           ┆   ┆ 0         ┆ 44        ┆           ┆ 8         │\n",
       "│ NVDA   ┆ 2025-01-17 ┆ 57.186829  ┆ 133.57    ┆ … ┆ 377600000 ┆ 110012056 ┆ 44.11     ┆ 130430564 │\n",
       "│        ┆            ┆            ┆           ┆   ┆ 0         ┆ 3167      ┆           ┆ 304       │\n",
       "│ ORCL   ┆ 2025-01-17 ┆ 95.281707  ┆ 159.54    ┆ … ┆ 840150000 ┆ 355388680 ┆ 125.89    ┆ 231808772 │\n",
       "│        ┆            ┆            ┆           ┆   ┆ 00        ┆ 349       ┆           ┆ 69        │\n",
       "└────────┴────────────┴────────────┴───────────┴───┴───────────┴───────────┴───────────┴───────────┘"
      ]
     },
     "execution_count": 9,
     "metadata": {},
     "output_type": "execute_result"
    }
   ],
   "source": [
    "pl.scan_parquet(f'{output_dir}/company_dfc_advanced.parquet').head().collect()"
   ]
  }
 ],
 "metadata": {
  "kernelspec": {
   "display_name": ".venv",
   "language": "python",
   "name": "python3"
  },
  "language_info": {
   "codemirror_mode": {
    "name": "ipython",
    "version": 3
   },
   "file_extension": ".py",
   "mimetype": "text/x-python",
   "name": "python",
   "nbconvert_exporter": "python",
   "pygments_lexer": "ipython3",
   "version": "3.12.3"
  }
 },
 "nbformat": 4,
 "nbformat_minor": 2
}
