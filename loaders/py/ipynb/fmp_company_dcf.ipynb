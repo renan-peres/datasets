{
 "cells": [
  {
   "cell_type": "markdown",
   "metadata": {},
   "source": [
    "## Step 1: Import Libraries"
   ]
  },
  {
   "cell_type": "code",
   "execution_count": 1,
   "metadata": {
    "execution": {
     "iopub.execute_input": "2025-01-07T10:05:10.444561Z",
     "iopub.status.busy": "2025-01-07T10:05:10.444384Z",
     "iopub.status.idle": "2025-01-07T10:05:10.508666Z",
     "shell.execute_reply": "2025-01-07T10:05:10.508088Z"
    }
   },
   "outputs": [],
   "source": [
    "%run ../make_clean_names.py"
   ]
  },
  {
   "cell_type": "code",
   "execution_count": 2,
   "metadata": {
    "execution": {
     "iopub.execute_input": "2025-01-07T10:05:10.511170Z",
     "iopub.status.busy": "2025-01-07T10:05:10.510790Z",
     "iopub.status.idle": "2025-01-07T10:05:10.576795Z",
     "shell.execute_reply": "2025-01-07T10:05:10.576284Z"
    }
   },
   "outputs": [],
   "source": [
    "import concurrent.futures\n",
    "from concurrent.futures import ThreadPoolExecutor\n",
    "import requests\n",
    "from requests.adapters import HTTPAdapter\n",
    "from urllib3.util.retry import Retry\n",
    "import logging\n",
    "\n",
    "import polars as pl\n",
    "from datetime import datetime, timedelta\n",
    "from dotenv import load_dotenv\n",
    "import os\n",
    "\n",
    "# Load environment variables\n",
    "load_dotenv()\n",
    "\n",
    "logging.basicConfig(level=logging.INFO)\n",
    "logger = logging.getLogger(__name__)\n",
    "\n",
    "def create_session():\n",
    "    session = requests.Session()\n",
    "    retries = Retry(\n",
    "        total=3,\n",
    "        backoff_factor=1,\n",
    "        status_forcelist=[429, 500, 502, 503, 504]\n",
    "    )\n",
    "    session.mount('https://', HTTPAdapter(max_retries=retries, pool_maxsize=10))\n",
    "    return session\n",
    "\n",
    "# Get API key from environment variables\n",
    "FMP_API_KEY = os.getenv('FMP_API_KEY')\n",
    "if not FMP_API_KEY:\n",
    "    raise ValueError(\"FMP_API_KEY not found in environment variables\")"
   ]
  },
  {
   "cell_type": "markdown",
   "metadata": {},
   "source": [
    "## Step 2: Import Symbols"
   ]
  },
  {
   "cell_type": "code",
   "execution_count": 3,
   "metadata": {
    "execution": {
     "iopub.execute_input": "2025-01-07T10:05:10.579211Z",
     "iopub.status.busy": "2025-01-07T10:05:10.578821Z",
     "iopub.status.idle": "2025-01-07T10:05:10.583713Z",
     "shell.execute_reply": "2025-01-07T10:05:10.583118Z"
    }
   },
   "outputs": [
    {
     "name": "stdout",
     "output_type": "stream",
     "text": [
      "Loaded 60 symbols from ../tickers.txt\n",
      "Symbols: ['AAPL', 'MSFT', 'GOOGL', 'GOOG', 'META', 'NVDA', 'AVGO', 'ORCL', 'CRM', 'ACN', 'ADBE', 'CSCO', 'INTC', 'NFLX', 'DIS', 'CMCSA', 'VZ', 'T', 'AMZN', 'TSLA', 'HD', 'MCD', 'NKE', 'SBUX', 'TGT', 'LOW', 'WMT', 'PG', 'KO', 'PEP', 'COST', 'BRK-B', 'JPM', 'BAC', 'WFC', 'GS', 'MS', 'BLK', 'UNH', 'JNJ', 'PFE', 'ABBV', 'MRK', 'LLY', 'CAT', 'BA', 'HON', 'UPS', 'RTX', 'GE', 'XOM', 'CVX', 'COP', 'SLB', 'LIN', 'APD', 'ECL', 'PLD', 'AMT', 'CCI']\n"
     ]
    }
   ],
   "source": [
    "def load_symbols(file_path: str) -> List[str]:\n",
    "    \"\"\"Load symbols from a text file\"\"\"\n",
    "    try:\n",
    "        with open(file_path, 'r') as f:\n",
    "            symbols = [line.strip() for line in f if line.strip()]\n",
    "        print(f\"Loaded {len(symbols)} symbols from {file_path}\")\n",
    "        return symbols\n",
    "    except Exception as e:\n",
    "        print(f\"Error loading symbols: {str(e)}\")\n",
    "        return []\n",
    "\n",
    "symbols_file = '../tickers.txt'\n",
    "symbols = load_symbols(symbols_file)\n",
    "\n",
    "if symbols:\n",
    "    print(\"Symbols:\", symbols)\n",
    "else:\n",
    "    print(\"No symbols loaded.\")"
   ]
  },
  {
   "cell_type": "markdown",
   "metadata": {},
   "source": [
    "## Step 3: Extract Data from FMP into Polars"
   ]
  },
  {
   "cell_type": "code",
   "execution_count": 4,
   "metadata": {
    "execution": {
     "iopub.execute_input": "2025-01-07T10:05:10.620874Z",
     "iopub.status.busy": "2025-01-07T10:05:10.620466Z",
     "iopub.status.idle": "2025-01-07T10:05:10.821144Z",
     "shell.execute_reply": "2025-01-07T10:05:10.820561Z"
    }
   },
   "outputs": [],
   "source": [
    "def fetch_dcf(symbol: str, api_key: str, session: requests.Session) -> Dict:\n",
    "    \"\"\"Fetch company profile data from FMP API\"\"\"\n",
    "    url = f\"https://financialmodelingprep.com/api/v3/discounted-cash-flow/{symbol}\"\n",
    "    params = {\"apikey\": api_key}\n",
    "    \n",
    "    try:\n",
    "        response = session.get(url, params=params, timeout=10)\n",
    "        response.raise_for_status()\n",
    "        return response.json()\n",
    "    except Exception as e:\n",
    "        logger.error(f\"Error fetching {symbol}: {str(e)}\")\n",
    "        return None\n",
    "\n",
    "def fetch_all_dcf(symbols: List[str], api_key: str) -> List[Dict]:\n",
    "    session = create_session()\n",
    "    \n",
    "    with ThreadPoolExecutor(max_workers=10) as executor:\n",
    "        futures = [\n",
    "            executor.submit(fetch_dcf, symbol, api_key, session)\n",
    "            for symbol in symbols\n",
    "        ]\n",
    "        results = [\n",
    "            f.result() for f in concurrent.futures.as_completed(futures)\n",
    "        ]\n",
    "    \n",
    "    return [r[0] for r in results if r and isinstance(r, list)]\n",
    "\n",
    "# Execute fetching\n",
    "company_profiles = fetch_all_dcf(symbols, FMP_API_KEY)\n",
    "\n",
    "# Convert to Polars DataFrame more efficiently\n",
    "if company_profiles:\n",
    "    df_dcf = pl.DataFrame(company_profiles)"
   ]
  },
  {
   "cell_type": "code",
   "execution_count": 5,
   "metadata": {
    "execution": {
     "iopub.execute_input": "2025-01-07T10:05:10.823329Z",
     "iopub.status.busy": "2025-01-07T10:05:10.823029Z",
     "iopub.status.idle": "2025-01-07T10:05:12.634536Z",
     "shell.execute_reply": "2025-01-07T10:05:12.634038Z"
    }
   },
   "outputs": [],
   "source": [
    "def fetch_dcf_advanced(symbol: str, api_key: str, session: requests.Session) -> Dict:\n",
    "    \"\"\"Fetch company profile data from FMP API\"\"\"\n",
    "    url = f\"https://financialmodelingprep.com/api/v4/advanced_discounted_cash_flow\"\n",
    "    params = {\n",
    "        \"symbol\": symbol,\n",
    "        \"apikey\": api_key}\n",
    "    \n",
    "    try:\n",
    "        response = session.get(url, params=params, timeout=10)\n",
    "        response.raise_for_status()\n",
    "        return response.json()\n",
    "    except Exception as e:\n",
    "        logger.error(f\"Error fetching {symbol}: {str(e)}\")\n",
    "        return None\n",
    "\n",
    "def fetch_all_dcf_advanced(symbols: List[str], api_key: str) -> List[Dict]:\n",
    "    session = create_session()\n",
    "    \n",
    "    with ThreadPoolExecutor(max_workers=10) as executor:\n",
    "        futures = [\n",
    "            executor.submit(fetch_dcf_advanced, symbol, api_key, session)\n",
    "            for symbol in symbols\n",
    "        ]\n",
    "        results = [\n",
    "            f.result() for f in concurrent.futures.as_completed(futures)\n",
    "        ]\n",
    "    \n",
    "    return [r[0] for r in results if r and isinstance(r, list)]\n",
    "\n",
    "# Execute fetching\n",
    "company_profiles = fetch_all_dcf_advanced(symbols, FMP_API_KEY)\n",
    "\n",
    "# Convert to Polars DataFrame more efficiently\n",
    "if company_profiles:\n",
    "    df_dcf_advanced = pl.DataFrame(company_profiles)"
   ]
  },
  {
   "cell_type": "markdown",
   "metadata": {},
   "source": [
    "## Step 4: Clean Column Names"
   ]
  },
  {
   "cell_type": "code",
   "execution_count": 6,
   "metadata": {
    "execution": {
     "iopub.execute_input": "2025-01-07T10:05:12.636785Z",
     "iopub.status.busy": "2025-01-07T10:05:12.636446Z",
     "iopub.status.idle": "2025-01-07T10:05:12.642069Z",
     "shell.execute_reply": "2025-01-07T10:05:12.641561Z"
    }
   },
   "outputs": [],
   "source": [
    "df = df_dcf.join(df_dcf_advanced, on=\"symbol\", how=\"left\")"
   ]
  },
  {
   "cell_type": "code",
   "execution_count": 7,
   "metadata": {
    "execution": {
     "iopub.execute_input": "2025-01-07T10:05:12.644061Z",
     "iopub.status.busy": "2025-01-07T10:05:12.643783Z",
     "iopub.status.idle": "2025-01-07T10:05:12.647907Z",
     "shell.execute_reply": "2025-01-07T10:05:12.647473Z"
    }
   },
   "outputs": [],
   "source": [
    "df = make_clean_names(df)"
   ]
  },
  {
   "cell_type": "markdown",
   "metadata": {},
   "source": [
    "## Step 5: Write Polars to Parquet"
   ]
  },
  {
   "cell_type": "code",
   "execution_count": 8,
   "metadata": {
    "execution": {
     "iopub.execute_input": "2025-01-07T10:05:12.649782Z",
     "iopub.status.busy": "2025-01-07T10:05:12.649436Z",
     "iopub.status.idle": "2025-01-07T10:05:12.654675Z",
     "shell.execute_reply": "2025-01-07T10:05:12.654249Z"
    }
   },
   "outputs": [],
   "source": [
    "output_dir = \"../../../data/finance\"\n",
    "\n",
    "# Write DataFrame to Parquet\n",
    "df.write_parquet(f'{output_dir}/company_dfc_advanced.parquet')"
   ]
  },
  {
   "cell_type": "markdown",
   "metadata": {},
   "source": [
    "## Step 6: Read Parquet (Validate)"
   ]
  },
  {
   "cell_type": "code",
   "execution_count": 9,
   "metadata": {
    "execution": {
     "iopub.execute_input": "2025-01-07T10:05:12.656289Z",
     "iopub.status.busy": "2025-01-07T10:05:12.656117Z",
     "iopub.status.idle": "2025-01-07T10:05:12.664751Z",
     "shell.execute_reply": "2025-01-07T10:05:12.664234Z"
    }
   },
   "outputs": [
    {
     "data": {
      "text/html": [
       "<div><style>\n",
       ".dataframe > thead > tr,\n",
       ".dataframe > tbody > tr {\n",
       "  text-align: right;\n",
       "  white-space: pre-wrap;\n",
       "}\n",
       "</style>\n",
       "<small>shape: (5, 50)</small><table border=\"1\" class=\"dataframe\"><thead><tr><th>symbol</th><th>date</th><th>dcf</th><th>stock_price</th><th>year</th><th>revenue</th><th>revenue_percentage</th><th>ebitda</th><th>ebitda_percentage</th><th>ebit</th><th>ebit_percentage</th><th>depreciation</th><th>depreciation_percentage</th><th>total_cash</th><th>total_cash_percentage</th><th>receivables</th><th>receivables_percentage</th><th>inventories</th><th>inventories_percentage</th><th>payable</th><th>payable_percentage</th><th>capital_expenditure</th><th>capital_expenditure_percentage</th><th>price</th><th>beta</th><th>diluted_shares_outstanding</th><th>costof_debt</th><th>tax_rate</th><th>after_tax_cost_of_debt</th><th>risk_free_rate</th><th>market_risk_premium</th><th>cost_of_equity</th><th>total_debt</th><th>total_equity</th><th>total_capital</th><th>debt_weighting</th><th>equity_weighting</th><th>wacc</th><th>tax_rate_cash</th><th>ebiat</th><th>ufcf</th><th>sum_pv_ufcf</th><th>long_term_growth_rate</th><th>terminal_value</th><th>present_terminal_value</th><th>enterprise_value</th><th>net_debt</th><th>equity_value</th><th>equity_value_per_share</th><th>free_cash_flowt1</th></tr><tr><td>str</td><td>str</td><td>f64</td><td>f64</td><td>str</td><td>i64</td><td>f64</td><td>i64</td><td>f64</td><td>i64</td><td>f64</td><td>i64</td><td>f64</td><td>i64</td><td>f64</td><td>i64</td><td>f64</td><td>f64</td><td>f64</td><td>i64</td><td>f64</td><td>i64</td><td>f64</td><td>f64</td><td>f64</td><td>i64</td><td>f64</td><td>f64</td><td>f64</td><td>f64</td><td>f64</td><td>f64</td><td>i64</td><td>i64</td><td>i64</td><td>f64</td><td>f64</td><td>f64</td><td>i64</td><td>i64</td><td>i64</td><td>i64</td><td>f64</td><td>i64</td><td>i64</td><td>i64</td><td>i64</td><td>i64</td><td>f64</td><td>i64</td></tr></thead><tbody><tr><td>&quot;MSFT&quot;</td><td>&quot;2025-01-07&quot;</td><td>356.663519</td><td>427.85</td><td>&quot;2029&quot;</td><td>482612279172</td><td>14.51</td><td>243343429409</td><td>50.42</td><td>206653972432</td><td>42.82</td><td>36689456977</td><td>7.6</td><td>298328812038</td><td>61.82</td><td>109589014184</td><td>22.71</td><td>6.2437e9</td><td>1.29</td><td>43316742017</td><td>8.98</td><td>-64207442622</td><td>-13.3</td><td>427.85</td><td>0.904</td><td>7469000000</td><td>4.42</td><td>18.23</td><td>3.61</td><td>4.42</td><td>4.72</td><td>8.69</td><td>97852000000</td><td>3195611650000</td><td>3293463650000</td><td>2.97</td><td>97.03</td><td>8.54</td><td>16131522</td><td>173317543200</td><td>136610813702</td><td>407955351215</td><td>4.0</td><td>3130153576417</td><td>2077964461967</td><td>2485919813182</td><td>79537000000</td><td>2406382813182</td><td>322.18</td><td>142075246250</td></tr><tr><td>&quot;AAPL&quot;</td><td>&quot;2025-01-07&quot;</td><td>145.226815</td><td>245.0</td><td>&quot;2029&quot;</td><td>631734147383</td><td>10.07</td><td>203936738085</td><td>32.28</td><td>183897900530</td><td>29.11</td><td>20038837554</td><td>3.17</td><td>120316909203</td><td>19.05</td><td>96053677011</td><td>15.2</td><td>1.0168e10</td><td>1.61</td><td>101845034847</td><td>16.12</td><td>-17288478562</td><td>-2.74</td><td>245.0</td><td>1.24</td><td>15408095000</td><td>4.42</td><td>24.09</td><td>3.36</td><td>4.42</td><td>4.72</td><td>10.27</td><td>106629000000</td><td>3774983275000</td><td>3881612275000</td><td>2.75</td><td>97.25</td><td>10.09</td><td>16549050</td><td>153464546253</td><td>155814583110</td><td>483619914864</td><td>4.0</td><td>2660030767554</td><td>1644785495088</td><td>2128405409953</td><td>76686000000</td><td>2051719409953</td><td>133.16</td><td>162047166435</td></tr><tr><td>&quot;ADBE&quot;</td><td>&quot;2025-01-07&quot;</td><td>471.953018</td><td>431.18</td><td>&quot;2029&quot;</td><td>41064323524</td><td>13.81</td><td>15428428985</td><td>37.57</td><td>14003754815</td><td>34.1</td><td>1424674169</td><td>3.47</td><td>16014694786</td><td>39.0</td><td>4565043350</td><td>11.12</td><td>0.0</td><td>0.0</td><td>805165661</td><td>1.96</td><td>-886239379</td><td>-2.16</td><td>431.18</td><td>1.299</td><td>450000000</td><td>4.42</td><td>19.78</td><td>3.55</td><td>4.42</td><td>4.72</td><td>10.55</td><td>6056000000</td><td>194031000000</td><td>200087000000</td><td>3.03</td><td>96.97</td><td>10.35</td><td>15252392</td><td>11867847286</td><td>11950013627</td><td>34131630423</td><td>4.0</td><td>195861696039</td><td>119723744755</td><td>153855375178</td><td>-1557000000</td><td>155412375178</td><td>345.36</td><td>12428014172</td></tr><tr><td>&quot;CSCO&quot;</td><td>&quot;2025-01-07&quot;</td><td>59.423674</td><td>58.77</td><td>&quot;2029&quot;</td><td>60493482400</td><td>2.37</td><td>18984447679</td><td>31.38</td><td>16699192651</td><td>27.6</td><td>2285255027</td><td>3.78</td><td>27259991422</td><td>45.06</td><td>11724752623</td><td>19.38</td><td>2.8278e9</td><td>4.67</td><td>2662282884</td><td>4.4</td><td>-799831500</td><td>-1.32</td><td>58.77</td><td>0.819</td><td>4062000000</td><td>4.42</td><td>15.64</td><td>3.73</td><td>4.42</td><td>4.72</td><td>8.29</td><td>30962000000</td><td>238723740000</td><td>269685740000</td><td>11.48</td><td>88.52</td><td>7.75</td><td>18316128</td><td>13640547275</td><td>14850488398</td><td>57266537196</td><td>2.0</td><td>263484012240</td><td>181421828193</td><td>238688365389</td><td>23454000000</td><td>215234365389</td><td>52.99</td><td>15147498166</td></tr><tr><td>&quot;INTC&quot;</td><td>&quot;2025-01-07&quot;</td><td>0.108916</td><td>19.87</td><td>&quot;2028&quot;</td><td>39523970402</td><td>-6.13</td><td>14303088100</td><td>36.19</td><td>7658098767</td><td>19.38</td><td>6644989332</td><td>16.81</td><td>13911162302</td><td>35.2</td><td>3489797262</td><td>8.83</td><td>6.1737e9</td><td>15.62</td><td>4048160241</td><td>10.24</td><td>-12175579325</td><td>-30.81</td><td>19.87</td><td>1.026</td><td>4212000000</td><td>4.42</td><td>-121.65</td><td>4.42</td><td>4.42</td><td>4.72</td><td>9.26</td><td>49278000000</td><td>83692440000</td><td>132970440000</td><td>37.06</td><td>62.94</td><td>7.34</td><td>7526099</td><td>7081742728</td><td>1917842167</td><td>7323731674</td><td>4.0</td><td>59632265966</td><td>41838593538</td><td>49162325212</td><td>42199000000</td><td>6963325212</td><td>1.65</td><td>1994555854</td></tr></tbody></table></div>"
      ],
      "text/plain": [
       "shape: (5, 50)\n",
       "┌────────┬────────────┬────────────┬───────────┬───┬───────────┬───────────┬───────────┬───────────┐\n",
       "│ symbol ┆ date       ┆ dcf        ┆ stock_pri ┆ … ┆ net_debt  ┆ equity_va ┆ equity_va ┆ free_cash │\n",
       "│ ---    ┆ ---        ┆ ---        ┆ ce        ┆   ┆ ---       ┆ lue       ┆ lue_per_s ┆ _flowt1   │\n",
       "│ str    ┆ str        ┆ f64        ┆ ---       ┆   ┆ i64       ┆ ---       ┆ hare      ┆ ---       │\n",
       "│        ┆            ┆            ┆ f64       ┆   ┆           ┆ i64       ┆ ---       ┆ i64       │\n",
       "│        ┆            ┆            ┆           ┆   ┆           ┆           ┆ f64       ┆           │\n",
       "╞════════╪════════════╪════════════╪═══════════╪═══╪═══════════╪═══════════╪═══════════╪═══════════╡\n",
       "│ MSFT   ┆ 2025-01-07 ┆ 356.663519 ┆ 427.85    ┆ … ┆ 795370000 ┆ 240638281 ┆ 322.18    ┆ 142075246 │\n",
       "│        ┆            ┆            ┆           ┆   ┆ 00        ┆ 3182      ┆           ┆ 250       │\n",
       "│ AAPL   ┆ 2025-01-07 ┆ 145.226815 ┆ 245.0     ┆ … ┆ 766860000 ┆ 205171940 ┆ 133.16    ┆ 162047166 │\n",
       "│        ┆            ┆            ┆           ┆   ┆ 00        ┆ 9953      ┆           ┆ 435       │\n",
       "│ ADBE   ┆ 2025-01-07 ┆ 471.953018 ┆ 431.18    ┆ … ┆ -15570000 ┆ 155412375 ┆ 345.36    ┆ 124280141 │\n",
       "│        ┆            ┆            ┆           ┆   ┆ 00        ┆ 178       ┆           ┆ 72        │\n",
       "│ CSCO   ┆ 2025-01-07 ┆ 59.423674  ┆ 58.77     ┆ … ┆ 234540000 ┆ 215234365 ┆ 52.99     ┆ 151474981 │\n",
       "│        ┆            ┆            ┆           ┆   ┆ 00        ┆ 389       ┆           ┆ 66        │\n",
       "│ INTC   ┆ 2025-01-07 ┆ 0.108916   ┆ 19.87     ┆ … ┆ 421990000 ┆ 696332521 ┆ 1.65      ┆ 199455585 │\n",
       "│        ┆            ┆            ┆           ┆   ┆ 00        ┆ 2         ┆           ┆ 4         │\n",
       "└────────┴────────────┴────────────┴───────────┴───┴───────────┴───────────┴───────────┴───────────┘"
      ]
     },
     "execution_count": 9,
     "metadata": {},
     "output_type": "execute_result"
    }
   ],
   "source": [
    "pl.scan_parquet(f'{output_dir}/company_dfc_advanced.parquet').head().collect()"
   ]
  }
 ],
 "metadata": {
  "kernelspec": {
   "display_name": ".venv",
   "language": "python",
   "name": "python3"
  },
  "language_info": {
   "codemirror_mode": {
    "name": "ipython",
    "version": 3
   },
   "file_extension": ".py",
   "mimetype": "text/x-python",
   "name": "python",
   "nbconvert_exporter": "python",
   "pygments_lexer": "ipython3",
   "version": "3.12.8"
  }
 },
 "nbformat": 4,
 "nbformat_minor": 2
}
