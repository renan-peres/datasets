{
 "cells": [
  {
   "cell_type": "markdown",
   "metadata": {},
   "source": [
    "## Step 1: Import Libraries"
   ]
  },
  {
   "cell_type": "code",
   "execution_count": 1,
   "metadata": {
    "execution": {
<<<<<<< HEAD
     "iopub.execute_input": "2025-01-17T12:18:19.658938Z",
     "iopub.status.busy": "2025-01-17T12:18:19.658431Z",
     "iopub.status.idle": "2025-01-17T12:18:19.723070Z",
     "shell.execute_reply": "2025-01-17T12:18:19.722413Z"
=======
     "iopub.execute_input": "2025-01-17T12:35:00.866093Z",
     "iopub.status.busy": "2025-01-17T12:35:00.865894Z",
     "iopub.status.idle": "2025-01-17T12:35:00.913127Z",
     "shell.execute_reply": "2025-01-17T12:35:00.912379Z"
>>>>>>> 473925d (Notebooks Update)
    }
   },
   "outputs": [],
   "source": [
    "%run ../make_clean_names.py"
   ]
  },
  {
   "cell_type": "code",
   "execution_count": 2,
   "metadata": {
    "execution": {
<<<<<<< HEAD
     "iopub.execute_input": "2025-01-17T12:18:19.725345Z",
     "iopub.status.busy": "2025-01-17T12:18:19.725151Z",
     "iopub.status.idle": "2025-01-17T12:18:19.793472Z",
     "shell.execute_reply": "2025-01-17T12:18:19.792849Z"
=======
     "iopub.execute_input": "2025-01-17T12:35:00.915680Z",
     "iopub.status.busy": "2025-01-17T12:35:00.915374Z",
     "iopub.status.idle": "2025-01-17T12:35:00.969600Z",
     "shell.execute_reply": "2025-01-17T12:35:00.968894Z"
>>>>>>> 473925d (Notebooks Update)
    }
   },
   "outputs": [],
   "source": [
    "import requests\n",
    "from requests.adapters import HTTPAdapter\n",
    "from requests.packages.urllib3.util.retry import Retry\n",
    "import logging\n",
    "import concurrent.futures\n",
    "from datetime import datetime\n",
    "from typing import Dict, List\n",
    "from concurrent.futures import ThreadPoolExecutor\n",
    "import polars as pl\n",
    "\n",
    "from dotenv import load_dotenv\n",
    "import os\n",
    "\n",
    "# Load environment variables\n",
    "load_dotenv()\n",
    "\n",
    "logging.basicConfig(level=logging.INFO)\n",
    "logger = logging.getLogger(__name__)\n",
    "\n",
    "def create_session():\n",
    "    session = requests.Session()\n",
    "    retries = Retry(\n",
    "        total=3,\n",
    "        backoff_factor=1,\n",
    "        status_forcelist=[429, 500, 502, 503, 504]\n",
    "    )\n",
    "    session.mount('https://', HTTPAdapter(max_retries=retries, pool_maxsize=10))\n",
    "    return session\n",
    "\n",
    "# Get API key from environment variables\n",
    "FMP_API_KEY = os.getenv('FMP_API_KEY')\n",
    "if not FMP_API_KEY:\n",
    "    raise ValueError(\"FMP_API_KEY not found in environment variables\")"
   ]
  },
  {
   "cell_type": "markdown",
   "metadata": {},
   "source": [
    "## Step 2: Import Forex Pairs"
   ]
  },
  {
   "cell_type": "code",
   "execution_count": 3,
   "metadata": {
    "execution": {
<<<<<<< HEAD
     "iopub.execute_input": "2025-01-17T12:18:19.795752Z",
     "iopub.status.busy": "2025-01-17T12:18:19.795571Z",
     "iopub.status.idle": "2025-01-17T12:18:19.800300Z",
     "shell.execute_reply": "2025-01-17T12:18:19.799747Z"
=======
     "iopub.execute_input": "2025-01-17T12:35:00.972216Z",
     "iopub.status.busy": "2025-01-17T12:35:00.972047Z",
     "iopub.status.idle": "2025-01-17T12:35:00.976977Z",
     "shell.execute_reply": "2025-01-17T12:35:00.976515Z"
>>>>>>> 473925d (Notebooks Update)
    }
   },
   "outputs": [
    {
     "name": "stdout",
     "output_type": "stream",
     "text": [
      "Loaded 4 pairs from ../fx_pairs.txt\n",
      "pairs: ['USDEUR', 'USDBRL', 'USDGBP', 'USDJPY']\n"
     ]
    }
   ],
   "source": [
    "def load_pairs(file_path: str) -> List[str]:\n",
    "    \"\"\"Load pairs from a text file\"\"\"\n",
    "    try:\n",
    "        with open(file_path, 'r') as f:\n",
    "            pairs = [line.strip() for line in f if line.strip()]\n",
    "        print(f\"Loaded {len(pairs)} pairs from {file_path}\")\n",
    "        return pairs\n",
    "    except Exception as e:\n",
    "        print(f\"Error loading pairs: {str(e)}\")\n",
    "        return []\n",
    "\n",
    "pairs_file = '../fx_pairs.txt'\n",
    "pairs = load_pairs(pairs_file)\n",
    "\n",
    "if pairs:\n",
    "    print(\"pairs:\", pairs)\n",
    "else:\n",
    "    print(\"No pairs loaded.\")"
   ]
  },
  {
   "cell_type": "markdown",
   "metadata": {},
   "source": [
    "## Step 2: Extract Data from FMP into Polars"
   ]
  },
  {
   "cell_type": "code",
   "execution_count": 4,
   "metadata": {
    "execution": {
<<<<<<< HEAD
     "iopub.execute_input": "2025-01-17T12:18:19.837828Z",
     "iopub.status.busy": "2025-01-17T12:18:19.837280Z",
     "iopub.status.idle": "2025-01-17T12:18:19.989093Z",
     "shell.execute_reply": "2025-01-17T12:18:19.988538Z"
=======
     "iopub.execute_input": "2025-01-17T12:35:01.003051Z",
     "iopub.status.busy": "2025-01-17T12:35:01.002634Z",
     "iopub.status.idle": "2025-01-17T12:35:01.958280Z",
     "shell.execute_reply": "2025-01-17T12:35:01.957765Z"
>>>>>>> 473925d (Notebooks Update)
    }
   },
   "outputs": [],
   "source": [
    "start_date = '2020-01-01'\n",
    "end_date = datetime.today().strftime('%Y-%m-%d')\n",
    "\n",
    "def fetch_forex_data(pair: str, api_key: str, session: requests.Session) -> Dict:\n",
    "    \"\"\"Fetch historical forex data for a single pair with pair identifier\"\"\"\n",
    "    url = f\"https://financialmodelingprep.com/api/v3/historical-chart/1day/{pair}\"\n",
    "    params = {\n",
    "        \"from\": start_date,\n",
    "        \"to\": end_date,\n",
    "        \"apikey\": api_key\n",
    "    }\n",
    "        \n",
    "    try:\n",
    "        response = session.get(url, params=params, timeout=10)\n",
    "        response.raise_for_status()\n",
    "        data = response.json()\n",
    "        # Add pair identifier to each record\n",
    "        return [{\"pair\": pair, **record} for record in data] if data else None\n",
    "    except Exception as e:\n",
    "        logger.error(f\"Error fetching {pair}: {str(e)}\")\n",
    "        return None\n",
    "\n",
    "def fetch_all_forex_data(pairs: List[str], api_key: str) -> List[Dict]:\n",
    "    \"\"\"Fetch and combine forex data for multiple pairs\"\"\"\n",
    "    session = create_session()\n",
    "    \n",
    "    with ThreadPoolExecutor(max_workers=10) as executor:\n",
    "        futures = [\n",
    "            executor.submit(fetch_forex_data, pair, api_key, session)\n",
    "            for pair in pairs\n",
    "        ]\n",
    "        results = [\n",
    "            f.result() for f in concurrent.futures.as_completed(futures)\n",
    "        ]\n",
    "    \n",
    "    # Flatten results list and remove None values\n",
    "    all_data = []\n",
    "    for result in results:\n",
    "        if result:\n",
    "            all_data.extend(result)\n",
    "    return all_data\n",
    "\n",
    "# Execute fetching\n",
    "fx_data = fetch_all_forex_data(pairs, FMP_API_KEY)\n",
    "\n",
    "# Convert to Polars DataFrame if data exists\n",
    "if fx_data:\n",
    "    df = pl.DataFrame(fx_data)"
   ]
  },
  {
   "cell_type": "markdown",
   "metadata": {},
   "source": [
    "## Step 3: Clean Column Names"
   ]
  },
  {
   "cell_type": "code",
   "execution_count": 5,
   "metadata": {
    "execution": {
<<<<<<< HEAD
     "iopub.execute_input": "2025-01-17T12:18:19.991139Z",
     "iopub.status.busy": "2025-01-17T12:18:19.990953Z",
     "iopub.status.idle": "2025-01-17T12:18:19.995604Z",
     "shell.execute_reply": "2025-01-17T12:18:19.995150Z"
=======
     "iopub.execute_input": "2025-01-17T12:35:01.962158Z",
     "iopub.status.busy": "2025-01-17T12:35:01.961315Z",
     "iopub.status.idle": "2025-01-17T12:35:01.966718Z",
     "shell.execute_reply": "2025-01-17T12:35:01.966031Z"
>>>>>>> 473925d (Notebooks Update)
    }
   },
   "outputs": [],
   "source": [
    "df = make_clean_names(df)"
   ]
  },
  {
   "cell_type": "code",
   "execution_count": 6,
   "metadata": {
    "execution": {
<<<<<<< HEAD
     "iopub.execute_input": "2025-01-17T12:18:19.997399Z",
     "iopub.status.busy": "2025-01-17T12:18:19.997075Z",
     "iopub.status.idle": "2025-01-17T12:18:20.003603Z",
     "shell.execute_reply": "2025-01-17T12:18:20.003062Z"
=======
     "iopub.execute_input": "2025-01-17T12:35:01.968807Z",
     "iopub.status.busy": "2025-01-17T12:35:01.968629Z",
     "iopub.status.idle": "2025-01-17T12:35:01.975616Z",
     "shell.execute_reply": "2025-01-17T12:35:01.975151Z"
>>>>>>> 473925d (Notebooks Update)
    }
   },
   "outputs": [
    {
     "data": {
      "text/html": [
       "<div><style>\n",
       ".dataframe > thead > tr,\n",
       ".dataframe > tbody > tr {\n",
       "  text-align: right;\n",
       "  white-space: pre-wrap;\n",
       "}\n",
       "</style>\n",
<<<<<<< HEAD
       "<small>shape: (5_379, 7)</small><table border=\"1\" class=\"dataframe\"><thead><tr><th>pair</th><th>date</th><th>open</th><th>low</th><th>high</th><th>close</th><th>volume</th></tr><tr><td>str</td><td>str</td><td>f64</td><td>f64</td><td>f64</td><td>f64</td><td>i64</td></tr></thead><tbody><tr><td>&quot;USDGBP&quot;</td><td>&quot;2025-01-17 00:00:00&quot;</td><td>0.81722</td><td>0.81653</td><td>0.8223</td><td>0.81996</td><td>29397</td></tr><tr><td>&quot;USDGBP&quot;</td><td>&quot;2025-01-16 00:00:00&quot;</td><td>0.81723</td><td>0.81567</td><td>0.82118</td><td>0.81748</td><td>68409</td></tr><tr><td>&quot;USDGBP&quot;</td><td>&quot;2025-01-15 00:00:00&quot;</td><td>0.81845</td><td>0.81281</td><td>0.82138</td><td>0.81678</td><td>69302</td></tr><tr><td>&quot;USDGBP&quot;</td><td>&quot;2025-01-14 00:00:00&quot;</td><td>0.81907</td><td>0.81649</td><td>0.82366</td><td>0.81865</td><td>74711</td></tr><tr><td>&quot;USDGBP&quot;</td><td>&quot;2025-01-13 00:00:00&quot;</td><td>0.81919</td><td>0.81865</td><td>0.82634</td><td>0.81943</td><td>0</td></tr><tr><td>&hellip;</td><td>&hellip;</td><td>&hellip;</td><td>&hellip;</td><td>&hellip;</td><td>&hellip;</td><td>&hellip;</td></tr><tr><td>&quot;USDBRL&quot;</td><td>&quot;2020-01-24 00:00:00&quot;</td><td>4.1701</td><td>4.1665</td><td>4.1912</td><td>4.1812</td><td>0</td></tr><tr><td>&quot;USDBRL&quot;</td><td>&quot;2020-01-23 00:00:00&quot;</td><td>4.1824</td><td>4.1565</td><td>4.1898</td><td>4.1703</td><td>0</td></tr><tr><td>&quot;USDBRL&quot;</td><td>&quot;2020-01-22 00:00:00&quot;</td><td>4.2121</td><td>4.1737</td><td>4.2121</td><td>4.1813</td><td>0</td></tr><tr><td>&quot;USDBRL&quot;</td><td>&quot;2020-01-21 00:00:00&quot;</td><td>4.1896</td><td>4.1858</td><td>4.2164</td><td>4.212</td><td>0</td></tr><tr><td>&quot;USDBRL&quot;</td><td>&quot;2020-01-20 00:00:00&quot;</td><td>4.1614</td><td>4.1614</td><td>4.1912</td><td>4.1902</td><td>0</td></tr></tbody></table></div>"
      ],
      "text/plain": [
       "shape: (5_379, 7)\n",
       "┌────────┬─────────────────────┬─────────┬─────────┬─────────┬─────────┬────────┐\n",
       "│ pair   ┆ date                ┆ open    ┆ low     ┆ high    ┆ close   ┆ volume │\n",
       "│ ---    ┆ ---                 ┆ ---     ┆ ---     ┆ ---     ┆ ---     ┆ ---    │\n",
       "│ str    ┆ str                 ┆ f64     ┆ f64     ┆ f64     ┆ f64     ┆ i64    │\n",
       "╞════════╪═════════════════════╪═════════╪═════════╪═════════╪═════════╪════════╡\n",
       "│ USDGBP ┆ 2025-01-17 00:00:00 ┆ 0.81722 ┆ 0.81653 ┆ 0.8223  ┆ 0.81996 ┆ 29397  │\n",
       "│ USDGBP ┆ 2025-01-16 00:00:00 ┆ 0.81723 ┆ 0.81567 ┆ 0.82118 ┆ 0.81748 ┆ 68409  │\n",
       "│ USDGBP ┆ 2025-01-15 00:00:00 ┆ 0.81845 ┆ 0.81281 ┆ 0.82138 ┆ 0.81678 ┆ 69302  │\n",
       "│ USDGBP ┆ 2025-01-14 00:00:00 ┆ 0.81907 ┆ 0.81649 ┆ 0.82366 ┆ 0.81865 ┆ 74711  │\n",
       "│ USDGBP ┆ 2025-01-13 00:00:00 ┆ 0.81919 ┆ 0.81865 ┆ 0.82634 ┆ 0.81943 ┆ 0      │\n",
       "│ …      ┆ …                   ┆ …       ┆ …       ┆ …       ┆ …       ┆ …      │\n",
       "│ USDBRL ┆ 2020-01-24 00:00:00 ┆ 4.1701  ┆ 4.1665  ┆ 4.1912  ┆ 4.1812  ┆ 0      │\n",
       "│ USDBRL ┆ 2020-01-23 00:00:00 ┆ 4.1824  ┆ 4.1565  ┆ 4.1898  ┆ 4.1703  ┆ 0      │\n",
       "│ USDBRL ┆ 2020-01-22 00:00:00 ┆ 4.2121  ┆ 4.1737  ┆ 4.2121  ┆ 4.1813  ┆ 0      │\n",
       "│ USDBRL ┆ 2020-01-21 00:00:00 ┆ 4.1896  ┆ 4.1858  ┆ 4.2164  ┆ 4.212   ┆ 0      │\n",
       "│ USDBRL ┆ 2020-01-20 00:00:00 ┆ 4.1614  ┆ 4.1614  ┆ 4.1912  ┆ 4.1902  ┆ 0      │\n",
       "└────────┴─────────────────────┴─────────┴─────────┴─────────┴─────────┴────────┘"
=======
       "<small>shape: (5_379, 7)</small><table border=\"1\" class=\"dataframe\"><thead><tr><th>pair</th><th>date</th><th>open</th><th>low</th><th>high</th><th>close</th><th>volume</th></tr><tr><td>str</td><td>str</td><td>f64</td><td>f64</td><td>f64</td><td>f64</td><td>i64</td></tr></thead><tbody><tr><td>&quot;USDJPY&quot;</td><td>&quot;2025-01-17 00:00:00&quot;</td><td>155.198</td><td>154.973</td><td>155.85001</td><td>155.611</td><td>59468</td></tr><tr><td>&quot;USDJPY&quot;</td><td>&quot;2025-01-16 00:00:00&quot;</td><td>156.433</td><td>155.099</td><td>156.525</td><td>155.197</td><td>376483</td></tr><tr><td>&quot;USDJPY&quot;</td><td>&quot;2025-01-15 00:00:00&quot;</td><td>157.941</td><td>155.927</td><td>158.077</td><td>156.433</td><td>347596</td></tr><tr><td>&quot;USDJPY&quot;</td><td>&quot;2025-01-14 00:00:00&quot;</td><td>157.452</td><td>157.078</td><td>158.194</td><td>157.941</td><td>358759</td></tr><tr><td>&quot;USDJPY&quot;</td><td>&quot;2025-01-13 00:00:00&quot;</td><td>157.692</td><td>156.905</td><td>157.961</td><td>157.452</td><td>311826</td></tr><tr><td>&hellip;</td><td>&hellip;</td><td>&hellip;</td><td>&hellip;</td><td>&hellip;</td><td>&hellip;</td><td>&hellip;</td></tr><tr><td>&quot;USDBRL&quot;</td><td>&quot;2020-01-24 00:00:00&quot;</td><td>4.1701</td><td>4.1665</td><td>4.1912</td><td>4.1812</td><td>0</td></tr><tr><td>&quot;USDBRL&quot;</td><td>&quot;2020-01-23 00:00:00&quot;</td><td>4.1824</td><td>4.1565</td><td>4.1898</td><td>4.1703</td><td>0</td></tr><tr><td>&quot;USDBRL&quot;</td><td>&quot;2020-01-22 00:00:00&quot;</td><td>4.2121</td><td>4.1737</td><td>4.2121</td><td>4.1813</td><td>0</td></tr><tr><td>&quot;USDBRL&quot;</td><td>&quot;2020-01-21 00:00:00&quot;</td><td>4.1896</td><td>4.1858</td><td>4.2164</td><td>4.212</td><td>0</td></tr><tr><td>&quot;USDBRL&quot;</td><td>&quot;2020-01-20 00:00:00&quot;</td><td>4.1614</td><td>4.1614</td><td>4.1912</td><td>4.1902</td><td>0</td></tr></tbody></table></div>"
      ],
      "text/plain": [
       "shape: (5_379, 7)\n",
       "┌────────┬─────────────────────┬─────────┬─────────┬───────────┬─────────┬────────┐\n",
       "│ pair   ┆ date                ┆ open    ┆ low     ┆ high      ┆ close   ┆ volume │\n",
       "│ ---    ┆ ---                 ┆ ---     ┆ ---     ┆ ---       ┆ ---     ┆ ---    │\n",
       "│ str    ┆ str                 ┆ f64     ┆ f64     ┆ f64       ┆ f64     ┆ i64    │\n",
       "╞════════╪═════════════════════╪═════════╪═════════╪═══════════╪═════════╪════════╡\n",
       "│ USDJPY ┆ 2025-01-17 00:00:00 ┆ 155.198 ┆ 154.973 ┆ 155.85001 ┆ 155.611 ┆ 59468  │\n",
       "│ USDJPY ┆ 2025-01-16 00:00:00 ┆ 156.433 ┆ 155.099 ┆ 156.525   ┆ 155.197 ┆ 376483 │\n",
       "│ USDJPY ┆ 2025-01-15 00:00:00 ┆ 157.941 ┆ 155.927 ┆ 158.077   ┆ 156.433 ┆ 347596 │\n",
       "│ USDJPY ┆ 2025-01-14 00:00:00 ┆ 157.452 ┆ 157.078 ┆ 158.194   ┆ 157.941 ┆ 358759 │\n",
       "│ USDJPY ┆ 2025-01-13 00:00:00 ┆ 157.692 ┆ 156.905 ┆ 157.961   ┆ 157.452 ┆ 311826 │\n",
       "│ …      ┆ …                   ┆ …       ┆ …       ┆ …         ┆ …       ┆ …      │\n",
       "│ USDBRL ┆ 2020-01-24 00:00:00 ┆ 4.1701  ┆ 4.1665  ┆ 4.1912    ┆ 4.1812  ┆ 0      │\n",
       "│ USDBRL ┆ 2020-01-23 00:00:00 ┆ 4.1824  ┆ 4.1565  ┆ 4.1898    ┆ 4.1703  ┆ 0      │\n",
       "│ USDBRL ┆ 2020-01-22 00:00:00 ┆ 4.2121  ┆ 4.1737  ┆ 4.2121    ┆ 4.1813  ┆ 0      │\n",
       "│ USDBRL ┆ 2020-01-21 00:00:00 ┆ 4.1896  ┆ 4.1858  ┆ 4.2164    ┆ 4.212   ┆ 0      │\n",
       "│ USDBRL ┆ 2020-01-20 00:00:00 ┆ 4.1614  ┆ 4.1614  ┆ 4.1912    ┆ 4.1902  ┆ 0      │\n",
       "└────────┴─────────────────────┴─────────┴─────────┴───────────┴─────────┴────────┘"
>>>>>>> 473925d (Notebooks Update)
      ]
     },
     "execution_count": 6,
     "metadata": {},
     "output_type": "execute_result"
    }
   ],
   "source": [
    "df"
   ]
  },
  {
   "cell_type": "markdown",
   "metadata": {},
   "source": [
    "## Step 4: Write Polars to Parquet"
   ]
  },
  {
   "cell_type": "code",
   "execution_count": 7,
   "metadata": {
    "execution": {
<<<<<<< HEAD
     "iopub.execute_input": "2025-01-17T12:18:20.005449Z",
     "iopub.status.busy": "2025-01-17T12:18:20.005127Z",
     "iopub.status.idle": "2025-01-17T12:18:20.012667Z",
     "shell.execute_reply": "2025-01-17T12:18:20.012162Z"
=======
     "iopub.execute_input": "2025-01-17T12:35:01.977300Z",
     "iopub.status.busy": "2025-01-17T12:35:01.976969Z",
     "iopub.status.idle": "2025-01-17T12:35:01.997179Z",
     "shell.execute_reply": "2025-01-17T12:35:01.996290Z"
>>>>>>> 473925d (Notebooks Update)
    }
   },
   "outputs": [],
   "source": [
    "# Define the output directory\n",
    "output_dir = \"../../../data/finance\"\n",
    "\n",
    "# Write the processed DataFrame to a Parquet file\n",
    "df.write_parquet(f'{output_dir}/historical_fx_quotes.parquet')"
   ]
  },
  {
   "cell_type": "markdown",
   "metadata": {},
   "source": [
    "## Step 5: Read Parquet (Validate)"
   ]
  },
  {
   "cell_type": "code",
   "execution_count": 8,
   "metadata": {
    "execution": {
<<<<<<< HEAD
     "iopub.execute_input": "2025-01-17T12:18:20.014758Z",
     "iopub.status.busy": "2025-01-17T12:18:20.014343Z",
     "iopub.status.idle": "2025-01-17T12:18:20.019454Z",
     "shell.execute_reply": "2025-01-17T12:18:20.019012Z"
=======
     "iopub.execute_input": "2025-01-17T12:35:02.000089Z",
     "iopub.status.busy": "2025-01-17T12:35:01.999775Z",
     "iopub.status.idle": "2025-01-17T12:35:02.004802Z",
     "shell.execute_reply": "2025-01-17T12:35:02.004392Z"
>>>>>>> 473925d (Notebooks Update)
    }
   },
   "outputs": [
    {
     "data": {
      "text/html": [
       "<div><style>\n",
       ".dataframe > thead > tr,\n",
       ".dataframe > tbody > tr {\n",
       "  text-align: right;\n",
       "  white-space: pre-wrap;\n",
       "}\n",
       "</style>\n",
<<<<<<< HEAD
       "<small>shape: (5, 7)</small><table border=\"1\" class=\"dataframe\"><thead><tr><th>pair</th><th>date</th><th>open</th><th>low</th><th>high</th><th>close</th><th>volume</th></tr><tr><td>str</td><td>str</td><td>f64</td><td>f64</td><td>f64</td><td>f64</td><td>i64</td></tr></thead><tbody><tr><td>&quot;USDGBP&quot;</td><td>&quot;2025-01-17 00:00:00&quot;</td><td>0.81722</td><td>0.81653</td><td>0.8223</td><td>0.81996</td><td>29397</td></tr><tr><td>&quot;USDGBP&quot;</td><td>&quot;2025-01-16 00:00:00&quot;</td><td>0.81723</td><td>0.81567</td><td>0.82118</td><td>0.81748</td><td>68409</td></tr><tr><td>&quot;USDGBP&quot;</td><td>&quot;2025-01-15 00:00:00&quot;</td><td>0.81845</td><td>0.81281</td><td>0.82138</td><td>0.81678</td><td>69302</td></tr><tr><td>&quot;USDGBP&quot;</td><td>&quot;2025-01-14 00:00:00&quot;</td><td>0.81907</td><td>0.81649</td><td>0.82366</td><td>0.81865</td><td>74711</td></tr><tr><td>&quot;USDGBP&quot;</td><td>&quot;2025-01-13 00:00:00&quot;</td><td>0.81919</td><td>0.81865</td><td>0.82634</td><td>0.81943</td><td>0</td></tr></tbody></table></div>"
      ],
      "text/plain": [
       "shape: (5, 7)\n",
       "┌────────┬─────────────────────┬─────────┬─────────┬─────────┬─────────┬────────┐\n",
       "│ pair   ┆ date                ┆ open    ┆ low     ┆ high    ┆ close   ┆ volume │\n",
       "│ ---    ┆ ---                 ┆ ---     ┆ ---     ┆ ---     ┆ ---     ┆ ---    │\n",
       "│ str    ┆ str                 ┆ f64     ┆ f64     ┆ f64     ┆ f64     ┆ i64    │\n",
       "╞════════╪═════════════════════╪═════════╪═════════╪═════════╪═════════╪════════╡\n",
       "│ USDGBP ┆ 2025-01-17 00:00:00 ┆ 0.81722 ┆ 0.81653 ┆ 0.8223  ┆ 0.81996 ┆ 29397  │\n",
       "│ USDGBP ┆ 2025-01-16 00:00:00 ┆ 0.81723 ┆ 0.81567 ┆ 0.82118 ┆ 0.81748 ┆ 68409  │\n",
       "│ USDGBP ┆ 2025-01-15 00:00:00 ┆ 0.81845 ┆ 0.81281 ┆ 0.82138 ┆ 0.81678 ┆ 69302  │\n",
       "│ USDGBP ┆ 2025-01-14 00:00:00 ┆ 0.81907 ┆ 0.81649 ┆ 0.82366 ┆ 0.81865 ┆ 74711  │\n",
       "│ USDGBP ┆ 2025-01-13 00:00:00 ┆ 0.81919 ┆ 0.81865 ┆ 0.82634 ┆ 0.81943 ┆ 0      │\n",
       "└────────┴─────────────────────┴─────────┴─────────┴─────────┴─────────┴────────┘"
=======
       "<small>shape: (5, 7)</small><table border=\"1\" class=\"dataframe\"><thead><tr><th>pair</th><th>date</th><th>open</th><th>low</th><th>high</th><th>close</th><th>volume</th></tr><tr><td>str</td><td>str</td><td>f64</td><td>f64</td><td>f64</td><td>f64</td><td>i64</td></tr></thead><tbody><tr><td>&quot;USDJPY&quot;</td><td>&quot;2025-01-17 00:00:00&quot;</td><td>155.198</td><td>154.973</td><td>155.85001</td><td>155.611</td><td>59468</td></tr><tr><td>&quot;USDJPY&quot;</td><td>&quot;2025-01-16 00:00:00&quot;</td><td>156.433</td><td>155.099</td><td>156.525</td><td>155.197</td><td>376483</td></tr><tr><td>&quot;USDJPY&quot;</td><td>&quot;2025-01-15 00:00:00&quot;</td><td>157.941</td><td>155.927</td><td>158.077</td><td>156.433</td><td>347596</td></tr><tr><td>&quot;USDJPY&quot;</td><td>&quot;2025-01-14 00:00:00&quot;</td><td>157.452</td><td>157.078</td><td>158.194</td><td>157.941</td><td>358759</td></tr><tr><td>&quot;USDJPY&quot;</td><td>&quot;2025-01-13 00:00:00&quot;</td><td>157.692</td><td>156.905</td><td>157.961</td><td>157.452</td><td>311826</td></tr></tbody></table></div>"
      ],
      "text/plain": [
       "shape: (5, 7)\n",
       "┌────────┬─────────────────────┬─────────┬─────────┬───────────┬─────────┬────────┐\n",
       "│ pair   ┆ date                ┆ open    ┆ low     ┆ high      ┆ close   ┆ volume │\n",
       "│ ---    ┆ ---                 ┆ ---     ┆ ---     ┆ ---       ┆ ---     ┆ ---    │\n",
       "│ str    ┆ str                 ┆ f64     ┆ f64     ┆ f64       ┆ f64     ┆ i64    │\n",
       "╞════════╪═════════════════════╪═════════╪═════════╪═══════════╪═════════╪════════╡\n",
       "│ USDJPY ┆ 2025-01-17 00:00:00 ┆ 155.198 ┆ 154.973 ┆ 155.85001 ┆ 155.611 ┆ 59468  │\n",
       "│ USDJPY ┆ 2025-01-16 00:00:00 ┆ 156.433 ┆ 155.099 ┆ 156.525   ┆ 155.197 ┆ 376483 │\n",
       "│ USDJPY ┆ 2025-01-15 00:00:00 ┆ 157.941 ┆ 155.927 ┆ 158.077   ┆ 156.433 ┆ 347596 │\n",
       "│ USDJPY ┆ 2025-01-14 00:00:00 ┆ 157.452 ┆ 157.078 ┆ 158.194   ┆ 157.941 ┆ 358759 │\n",
       "│ USDJPY ┆ 2025-01-13 00:00:00 ┆ 157.692 ┆ 156.905 ┆ 157.961   ┆ 157.452 ┆ 311826 │\n",
       "└────────┴─────────────────────┴─────────┴─────────┴───────────┴─────────┴────────┘"
>>>>>>> 473925d (Notebooks Update)
      ]
     },
     "execution_count": 8,
     "metadata": {},
     "output_type": "execute_result"
    }
   ],
   "source": [
    "# Validate the output by reading the Parquet file and displaying the first few rows\n",
    "pl.scan_parquet(f'{output_dir}/historical_fx_quotes.parquet').head().collect()"
   ]
  }
 ],
 "metadata": {
  "kernelspec": {
   "display_name": ".venv",
   "language": "python",
   "name": "python3"
  },
  "language_info": {
   "codemirror_mode": {
    "name": "ipython",
    "version": 3
   },
   "file_extension": ".py",
   "mimetype": "text/x-python",
   "name": "python",
   "nbconvert_exporter": "python",
   "pygments_lexer": "ipython3",
   "version": "3.12.8"
  }
 },
 "nbformat": 4,
 "nbformat_minor": 2
}
