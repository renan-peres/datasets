{
 "cells": [
  {
   "cell_type": "markdown",
   "metadata": {},
   "source": [
    "## Step 1: Import Libraries"
   ]
  },
  {
   "cell_type": "code",
   "execution_count": 1,
   "metadata": {
    "execution": {
     "iopub.execute_input": "2025-01-17T15:30:58.112978Z",
     "iopub.status.busy": "2025-01-17T15:30:58.112771Z",
     "iopub.status.idle": "2025-01-17T15:30:58.159148Z",
     "shell.execute_reply": "2025-01-17T15:30:58.158233Z"
    }
   },
   "outputs": [],
   "source": [
    "%run ../make_clean_names.py"
   ]
  },
  {
   "cell_type": "code",
   "execution_count": 2,
   "metadata": {
    "execution": {
     "iopub.execute_input": "2025-01-17T15:30:58.162285Z",
     "iopub.status.busy": "2025-01-17T15:30:58.161992Z",
     "iopub.status.idle": "2025-01-17T15:30:58.216907Z",
     "shell.execute_reply": "2025-01-17T15:30:58.216082Z"
    }
   },
   "outputs": [],
   "source": [
    "import concurrent.futures\n",
    "from concurrent.futures import ThreadPoolExecutor\n",
    "import requests\n",
    "from requests.adapters import HTTPAdapter\n",
    "from urllib3.util.retry import Retry\n",
    "import logging\n",
    "\n",
    "import polars as pl\n",
    "from datetime import datetime, timedelta\n",
    "from dotenv import load_dotenv\n",
    "import os\n",
    "\n",
    "# Load environment variables\n",
    "load_dotenv()\n",
    "\n",
    "logging.basicConfig(level=logging.INFO)\n",
    "logger = logging.getLogger(__name__)\n",
    "\n",
    "def create_session():\n",
    "    session = requests.Session()\n",
    "    retries = Retry(\n",
    "        total=3,\n",
    "        backoff_factor=1,\n",
    "        status_forcelist=[429, 500, 502, 503, 504]\n",
    "    )\n",
    "    session.mount('https://', HTTPAdapter(max_retries=retries, pool_maxsize=10))\n",
    "    return session\n",
    "\n",
    "# Get API key from environment variables\n",
    "FMP_API_KEY = os.getenv('FMP_API_KEY')\n",
    "if not FMP_API_KEY:\n",
    "    raise ValueError(\"FMP_API_KEY not found in environment variables\")"
   ]
  },
  {
   "cell_type": "markdown",
   "metadata": {},
   "source": [
    "## Step 2: Import Symbols"
   ]
  },
  {
   "cell_type": "code",
   "execution_count": 3,
   "metadata": {
    "execution": {
     "iopub.execute_input": "2025-01-17T15:30:58.219301Z",
     "iopub.status.busy": "2025-01-17T15:30:58.219141Z",
     "iopub.status.idle": "2025-01-17T15:30:58.225116Z",
     "shell.execute_reply": "2025-01-17T15:30:58.224323Z"
    }
   },
   "outputs": [
    {
     "name": "stdout",
     "output_type": "stream",
     "text": [
      "Loaded 60 symbols from ../tickers.txt\n",
      "Symbols: ['AAPL', 'MSFT', 'GOOGL', 'GOOG', 'META', 'NVDA', 'AVGO', 'ORCL', 'CRM', 'ACN', 'ADBE', 'CSCO', 'INTC', 'NFLX', 'DIS', 'CMCSA', 'VZ', 'T', 'AMZN', 'TSLA', 'HD', 'MCD', 'NKE', 'SBUX', 'TGT', 'LOW', 'WMT', 'PG', 'KO', 'PEP', 'COST', 'BRK-B', 'JPM', 'BAC', 'WFC', 'GS', 'MS', 'BLK', 'UNH', 'JNJ', 'PFE', 'ABBV', 'MRK', 'LLY', 'CAT', 'BA', 'HON', 'UPS', 'RTX', 'GE', 'XOM', 'CVX', 'COP', 'SLB', 'LIN', 'APD', 'ECL', 'PLD', 'AMT', 'CCI']\n"
     ]
    }
   ],
   "source": [
    "def load_symbols(file_path: str) -> List[str]:\n",
    "    \"\"\"Load symbols from a text file\"\"\"\n",
    "    try:\n",
    "        with open(file_path, 'r') as f:\n",
    "            symbols = [line.strip() for line in f if line.strip()]\n",
    "        print(f\"Loaded {len(symbols)} symbols from {file_path}\")\n",
    "        return symbols\n",
    "    except Exception as e:\n",
    "        print(f\"Error loading symbols: {str(e)}\")\n",
    "        return []\n",
    "\n",
    "symbols_file = '../tickers.txt'\n",
    "symbols = load_symbols(symbols_file)\n",
    "\n",
    "if symbols:\n",
    "    print(\"Symbols:\", symbols)\n",
    "else:\n",
    "    print(\"No symbols loaded.\")"
   ]
  },
  {
   "cell_type": "markdown",
   "metadata": {},
   "source": [
    "## Step 3: Extract Data from FMP into Polars"
   ]
  },
  {
   "cell_type": "code",
   "execution_count": 4,
   "metadata": {
    "execution": {
     "iopub.execute_input": "2025-01-17T15:30:58.250966Z",
     "iopub.status.busy": "2025-01-17T15:30:58.250736Z",
     "iopub.status.idle": "2025-01-17T15:31:05.728957Z",
     "shell.execute_reply": "2025-01-17T15:31:05.728242Z"
    }
   },
   "outputs": [],
   "source": [
    "def fetch_company_profile(symbol: str, api_key: str, session: requests.Session) -> Dict:\n",
    "    \"\"\"Fetch company profile data from FMP API\"\"\"\n",
    "    url = f\"https://financialmodelingprep.com/api/v3/profile/{symbol}\"\n",
    "    params = {\"apikey\": api_key}\n",
    "    \n",
    "    try:\n",
    "        response = session.get(url, params=params, timeout=10)\n",
    "        response.raise_for_status()\n",
    "        return response.json()\n",
    "    except Exception as e:\n",
    "        logger.error(f\"Error fetching {symbol}: {str(e)}\")\n",
    "        return None\n",
    "\n",
    "def fetch_all_profiles(symbols: List[str], api_key: str) -> List[Dict]:\n",
    "    session = create_session()\n",
    "    \n",
    "    with ThreadPoolExecutor(max_workers=10) as executor:\n",
    "        futures = [\n",
    "            executor.submit(fetch_company_profile, symbol, api_key, session)\n",
    "            for symbol in symbols\n",
    "        ]\n",
    "        results = [\n",
    "            f.result() for f in concurrent.futures.as_completed(futures)\n",
    "        ]\n",
    "    \n",
    "    return [r[0] for r in results if r and isinstance(r, list)]\n",
    "\n",
    "# Execute fetching\n",
    "company_profiles = fetch_all_profiles(symbols, FMP_API_KEY)\n",
    "\n",
    "# Convert to Polars DataFrame more efficiently\n",
    "if company_profiles:\n",
    "    df = pl.DataFrame(company_profiles)"
   ]
  },
  {
   "cell_type": "markdown",
   "metadata": {},
   "source": [
    "## Step 4: Clean Column Names"
   ]
  },
  {
   "cell_type": "code",
   "execution_count": 5,
   "metadata": {
    "execution": {
     "iopub.execute_input": "2025-01-17T15:31:05.731152Z",
     "iopub.status.busy": "2025-01-17T15:31:05.730976Z",
     "iopub.status.idle": "2025-01-17T15:31:05.735129Z",
     "shell.execute_reply": "2025-01-17T15:31:05.734621Z"
    }
   },
   "outputs": [],
   "source": [
    "df = make_clean_names(df)"
   ]
  },
  {
   "cell_type": "markdown",
   "metadata": {},
   "source": [
    "## Step 5: Write Polars to Parquet"
   ]
  },
  {
   "cell_type": "code",
   "execution_count": 6,
   "metadata": {
    "execution": {
     "iopub.execute_input": "2025-01-17T15:31:05.737313Z",
     "iopub.status.busy": "2025-01-17T15:31:05.737150Z",
     "iopub.status.idle": "2025-01-17T15:31:05.766523Z",
     "shell.execute_reply": "2025-01-17T15:31:05.765710Z"
    }
   },
   "outputs": [],
   "source": [
    "output_dir = \"../../../data/finance\"\n",
    "\n",
    "# Write DataFrame to Parquet\n",
    "df.write_parquet(f'{output_dir}/company_profile.parquet')"
   ]
  },
  {
   "cell_type": "markdown",
   "metadata": {},
   "source": [
    "## Step 6: Read Parquet (Validate)"
   ]
  },
  {
   "cell_type": "code",
   "execution_count": 7,
   "metadata": {
    "execution": {
     "iopub.execute_input": "2025-01-17T15:31:05.768882Z",
     "iopub.status.busy": "2025-01-17T15:31:05.768523Z",
     "iopub.status.idle": "2025-01-17T15:31:05.778646Z",
     "shell.execute_reply": "2025-01-17T15:31:05.777926Z"
    }
   },
   "outputs": [
    {
     "data": {
      "text/html": [
       "<div><style>\n",
       ".dataframe > thead > tr,\n",
       ".dataframe > tbody > tr {\n",
       "  text-align: right;\n",
       "  white-space: pre-wrap;\n",
       "}\n",
       "</style>\n",
       "<small>shape: (5, 36)</small><table border=\"1\" class=\"dataframe\"><thead><tr><th>symbol</th><th>price</th><th>beta</th><th>vol_avg</th><th>mkt_cap</th><th>last_div</th><th>range</th><th>changes</th><th>company_name</th><th>currency</th><th>cik</th><th>isin</th><th>cusip</th><th>exchange</th><th>exchange_short_name</th><th>industry</th><th>website</th><th>description</th><th>ceo</th><th>sector</th><th>country</th><th>full_time_employees</th><th>phone</th><th>address</th><th>city</th><th>state</th><th>zip</th><th>dcf_diff</th><th>dcf</th><th>image</th><th>ipo_date</th><th>default_image</th><th>is_etf</th><th>is_actively_trading</th><th>is_adr</th><th>is_fund</th></tr><tr><td>str</td><td>f64</td><td>f64</td><td>i64</td><td>i64</td><td>f64</td><td>str</td><td>f64</td><td>str</td><td>str</td><td>str</td><td>str</td><td>str</td><td>str</td><td>str</td><td>str</td><td>str</td><td>str</td><td>str</td><td>str</td><td>str</td><td>str</td><td>str</td><td>str</td><td>str</td><td>str</td><td>str</td><td>f64</td><td>f64</td><td>str</td><td>str</td><td>bool</td><td>bool</td><td>bool</td><td>bool</td><td>bool</td></tr></thead><tbody><tr><td>&quot;AVGO&quot;</td><td>233.633</td><td>1.187</td><td>28595178</td><td>1095121978880</td><td>2.17</td><td>&quot;115.6-251.88&quot;</td><td>4.223</td><td>&quot;Broadcom Inc.&quot;</td><td>&quot;USD&quot;</td><td>&quot;0001730168&quot;</td><td>&quot;US11135F1012&quot;</td><td>&quot;11135F101&quot;</td><td>&quot;NASDAQ Global Select&quot;</td><td>&quot;NASDAQ&quot;</td><td>&quot;Semiconductors&quot;</td><td>&quot;https://www.broadcom.com&quot;</td><td>&quot;Broadcom Inc. designs, develop…</td><td>&quot;Mr. Hock E. Tan&quot;</td><td>&quot;Technology&quot;</td><td>&quot;US&quot;</td><td>&quot;20000&quot;</td><td>&quot;408 433 8000&quot;</td><td>&quot;1320 Ridder Park Drive&quot;</td><td>&quot;San Jose&quot;</td><td>&quot;CA&quot;</td><td>&quot;95131-2313&quot;</td><td>50.99092</td><td>178.419078</td><td>&quot;https://images.financialmodeli…</td><td>&quot;2009-08-06&quot;</td><td>false</td><td>false</td><td>true</td><td>false</td><td>false</td></tr><tr><td>&quot;AAPL&quot;</td><td>230.4</td><td>1.24</td><td>45540367</td><td>3464732160000</td><td>0.99</td><td>&quot;164.08-260.1&quot;</td><td>2.14</td><td>&quot;Apple Inc.&quot;</td><td>&quot;USD&quot;</td><td>&quot;0000320193&quot;</td><td>&quot;US0378331005&quot;</td><td>&quot;037833100&quot;</td><td>&quot;NASDAQ Global Select&quot;</td><td>&quot;NASDAQ&quot;</td><td>&quot;Consumer Electronics&quot;</td><td>&quot;https://www.apple.com&quot;</td><td>&quot;Apple Inc. designs, manufactur…</td><td>&quot;Mr. Timothy D. Cook&quot;</td><td>&quot;Technology&quot;</td><td>&quot;US&quot;</td><td>&quot;164000&quot;</td><td>&quot;(408) 996-1010&quot;</td><td>&quot;One Apple Park Way&quot;</td><td>&quot;Cupertino&quot;</td><td>&quot;CA&quot;</td><td>&quot;95014&quot;</td><td>81.9457</td><td>146.3143</td><td>&quot;https://images.financialmodeli…</td><td>&quot;1980-12-12&quot;</td><td>false</td><td>false</td><td>true</td><td>false</td><td>false</td></tr><tr><td>&quot;ACN&quot;</td><td>354.7467</td><td>1.245</td><td>2478170</td><td>221886965916</td><td>5.92</td><td>&quot;278.69-387.51&quot;</td><td>4.1867</td><td>&quot;Accenture plc&quot;</td><td>&quot;USD&quot;</td><td>&quot;0001467373&quot;</td><td>&quot;IE00B4BNMY34&quot;</td><td>&quot;G1151C101&quot;</td><td>&quot;New York Stock Exchange&quot;</td><td>&quot;NYSE&quot;</td><td>&quot;Information Technology Service…</td><td>&quot;https://www.accenture.com&quot;</td><td>&quot;Accenture plc, a professional …</td><td>&quot;Ms. Julie T. Spellman Sweet J.…</td><td>&quot;Technology&quot;</td><td>&quot;IE&quot;</td><td>&quot;774000&quot;</td><td>&quot;353 1 646 2000&quot;</td><td>&quot;1 Grand Canal Square&quot;</td><td>&quot;Dublin&quot;</td><td>null</td><td>&quot;2&quot;</td><td>48.1773</td><td>302.382701</td><td>&quot;https://images.financialmodeli…</td><td>&quot;2001-07-19&quot;</td><td>false</td><td>false</td><td>true</td><td>false</td><td>false</td></tr><tr><td>&quot;NVDA&quot;</td><td>136.79</td><td>1.657</td><td>212602686</td><td>3349987100000</td><td>0.04</td><td>&quot;57.225-153.13&quot;</td><td>3.22</td><td>&quot;NVIDIA Corporation&quot;</td><td>&quot;USD&quot;</td><td>&quot;0001045810&quot;</td><td>&quot;US67066G1040&quot;</td><td>&quot;67066G104&quot;</td><td>&quot;NASDAQ Global Select&quot;</td><td>&quot;NASDAQ&quot;</td><td>&quot;Semiconductors&quot;</td><td>&quot;https://www.nvidia.com&quot;</td><td>&quot;NVIDIA Corporation provides gr…</td><td>&quot;Mr. Jen-Hsun&nbsp;&nbsp;Huang&quot;</td><td>&quot;Technology&quot;</td><td>&quot;US&quot;</td><td>&quot;29600&quot;</td><td>&quot;408 486 2000&quot;</td><td>&quot;2788 San Tomas Expressway&quot;</td><td>&quot;Santa Clara&quot;</td><td>&quot;CA&quot;</td><td>&quot;95051&quot;</td><td>76.38317</td><td>57.186829</td><td>&quot;https://images.financialmodeli…</td><td>&quot;1999-01-22&quot;</td><td>false</td><td>false</td><td>true</td><td>false</td><td>false</td></tr><tr><td>&quot;ADBE&quot;</td><td>427.96</td><td>1.299</td><td>3672226</td><td>186290988000</td><td>0.0</td><td>&quot;403.75-638.25&quot;</td><td>1.03</td><td>&quot;Adobe Inc.&quot;</td><td>&quot;USD&quot;</td><td>&quot;0000796343&quot;</td><td>&quot;US00724F1012&quot;</td><td>&quot;00724F101&quot;</td><td>&quot;NASDAQ Global Select&quot;</td><td>&quot;NASDAQ&quot;</td><td>&quot;Software - Infrastructure&quot;</td><td>&quot;https://www.adobe.com&quot;</td><td>&quot;Adobe Inc. operates as a diver…</td><td>&quot;Mr. Shantanu&nbsp;&nbsp;Narayen&quot;</td><td>&quot;Technology&quot;</td><td>&quot;US&quot;</td><td>&quot;29945&quot;</td><td>&quot;408 536 6000&quot;</td><td>&quot;345 Park Avenue&quot;</td><td>&quot;San Jose&quot;</td><td>&quot;CA&quot;</td><td>&quot;95110-2704&quot;</td><td>-47.48005</td><td>474.410051</td><td>&quot;https://images.financialmodeli…</td><td>&quot;1986-08-13&quot;</td><td>false</td><td>false</td><td>true</td><td>false</td><td>false</td></tr></tbody></table></div>"
      ],
      "text/plain": [
       "shape: (5, 36)\n",
       "┌────────┬──────────┬───────┬───────────┬───┬────────┬─────────────────────┬────────┬─────────┐\n",
       "│ symbol ┆ price    ┆ beta  ┆ vol_avg   ┆ … ┆ is_etf ┆ is_actively_trading ┆ is_adr ┆ is_fund │\n",
       "│ ---    ┆ ---      ┆ ---   ┆ ---       ┆   ┆ ---    ┆ ---                 ┆ ---    ┆ ---     │\n",
       "│ str    ┆ f64      ┆ f64   ┆ i64       ┆   ┆ bool   ┆ bool                ┆ bool   ┆ bool    │\n",
       "╞════════╪══════════╪═══════╪═══════════╪═══╪════════╪═════════════════════╪════════╪═════════╡\n",
       "│ AVGO   ┆ 233.633  ┆ 1.187 ┆ 28595178  ┆ … ┆ false  ┆ true                ┆ false  ┆ false   │\n",
       "│ AAPL   ┆ 230.4    ┆ 1.24  ┆ 45540367  ┆ … ┆ false  ┆ true                ┆ false  ┆ false   │\n",
       "│ ACN    ┆ 354.7467 ┆ 1.245 ┆ 2478170   ┆ … ┆ false  ┆ true                ┆ false  ┆ false   │\n",
       "│ NVDA   ┆ 136.79   ┆ 1.657 ┆ 212602686 ┆ … ┆ false  ┆ true                ┆ false  ┆ false   │\n",
       "│ ADBE   ┆ 427.96   ┆ 1.299 ┆ 3672226   ┆ … ┆ false  ┆ true                ┆ false  ┆ false   │\n",
       "└────────┴──────────┴───────┴───────────┴───┴────────┴─────────────────────┴────────┴─────────┘"
      ]
     },
     "execution_count": 7,
     "metadata": {},
     "output_type": "execute_result"
    }
   ],
   "source": [
    "pl.scan_parquet(f'{output_dir}/company_profile.parquet').head().collect()"
   ]
  }
 ],
 "metadata": {
  "kernelspec": {
   "display_name": ".venv",
   "language": "python",
   "name": "python3"
  },
  "language_info": {
   "codemirror_mode": {
    "name": "ipython",
    "version": 3
   },
   "file_extension": ".py",
   "mimetype": "text/x-python",
   "name": "python",
   "nbconvert_exporter": "python",
   "pygments_lexer": "ipython3",
   "version": "3.12.3"
  }
 },
 "nbformat": 4,
 "nbformat_minor": 2
}
