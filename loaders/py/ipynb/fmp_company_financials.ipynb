{
 "cells": [
  {
   "cell_type": "markdown",
   "metadata": {},
   "source": [
    "# Financial Statements\n",
    "- **Reference**: https://site.financialmodelingprep.com/developer/docs#income-statements-financial-statements"
   ]
  },
  {
   "cell_type": "markdown",
   "metadata": {},
   "source": [
    "## Step 1: Import Libraries"
   ]
  },
  {
   "cell_type": "code",
   "execution_count": 1,
   "metadata": {
    "execution": {
     "iopub.execute_input": "2025-01-17T12:39:12.329478Z",
     "iopub.status.busy": "2025-01-17T12:39:12.329304Z",
     "iopub.status.idle": "2025-01-17T12:39:12.392555Z",
     "shell.execute_reply": "2025-01-17T12:39:12.391939Z"
    }
   },
   "outputs": [],
   "source": [
    "%run ../make_clean_names.py"
   ]
  },
  {
   "cell_type": "code",
   "execution_count": 2,
   "metadata": {
    "execution": {
     "iopub.execute_input": "2025-01-17T12:39:12.394637Z",
     "iopub.status.busy": "2025-01-17T12:39:12.394303Z",
     "iopub.status.idle": "2025-01-17T12:39:12.458776Z",
     "shell.execute_reply": "2025-01-17T12:39:12.458310Z"
    }
   },
   "outputs": [],
   "source": [
    "import concurrent.futures\n",
    "from concurrent.futures import ThreadPoolExecutor\n",
    "import requests\n",
    "from requests.adapters import HTTPAdapter\n",
    "from urllib3.util.retry import Retry\n",
    "import logging\n",
    "\n",
    "import polars as pl\n",
    "from datetime import datetime, timedelta\n",
    "from dotenv import load_dotenv\n",
    "import os\n",
    "\n",
    "# Load environment variables\n",
    "load_dotenv()\n",
    "\n",
    "logging.basicConfig(level=logging.INFO)\n",
    "logger = logging.getLogger(__name__)\n",
    "\n",
    "def create_session():\n",
    "    session = requests.Session()\n",
    "    retries = Retry(\n",
    "        total=3,\n",
    "        backoff_factor=1,\n",
    "        status_forcelist=[429, 500, 502, 503, 504]\n",
    "    )\n",
    "    session.mount('https://', HTTPAdapter(max_retries=retries, pool_maxsize=10))\n",
    "    return session\n",
    "\n",
    "# Get API key from environment variables\n",
    "FMP_API_KEY = os.getenv('FMP_API_KEY')\n",
    "if not FMP_API_KEY:\n",
    "    raise ValueError(\"FMP_API_KEY not found in environment variables\")"
   ]
  },
  {
   "cell_type": "markdown",
   "metadata": {},
   "source": [
    "## Step 2: Import Symbols"
   ]
  },
  {
   "cell_type": "code",
   "execution_count": 3,
   "metadata": {
    "execution": {
     "iopub.execute_input": "2025-01-17T12:39:12.460843Z",
     "iopub.status.busy": "2025-01-17T12:39:12.460502Z",
     "iopub.status.idle": "2025-01-17T12:39:12.464761Z",
     "shell.execute_reply": "2025-01-17T12:39:12.464356Z"
    }
   },
   "outputs": [
    {
     "name": "stdout",
     "output_type": "stream",
     "text": [
      "Loaded 60 symbols from ../tickers.txt\n",
      "Symbols: ['AAPL', 'MSFT', 'GOOGL', 'GOOG', 'META', 'NVDA', 'AVGO', 'ORCL', 'CRM', 'ACN', 'ADBE', 'CSCO', 'INTC', 'NFLX', 'DIS', 'CMCSA', 'VZ', 'T', 'AMZN', 'TSLA', 'HD', 'MCD', 'NKE', 'SBUX', 'TGT', 'LOW', 'WMT', 'PG', 'KO', 'PEP', 'COST', 'BRK-B', 'JPM', 'BAC', 'WFC', 'GS', 'MS', 'BLK', 'UNH', 'JNJ', 'PFE', 'ABBV', 'MRK', 'LLY', 'CAT', 'BA', 'HON', 'UPS', 'RTX', 'GE', 'XOM', 'CVX', 'COP', 'SLB', 'LIN', 'APD', 'ECL', 'PLD', 'AMT', 'CCI']\n"
     ]
    }
   ],
   "source": [
    "def load_symbols(file_path: str) -> List[str]:\n",
    "    \"\"\"Load symbols from a text file\"\"\"\n",
    "    try:\n",
    "        with open(file_path, 'r') as f:\n",
    "            symbols = [line.strip() for line in f if line.strip()]\n",
    "        print(f\"Loaded {len(symbols)} symbols from {file_path}\")\n",
    "        return symbols\n",
    "    except Exception as e:\n",
    "        print(f\"Error loading symbols: {str(e)}\")\n",
    "        return []\n",
    "\n",
    "symbols_file = '../tickers.txt'\n",
    "symbols = load_symbols(symbols_file)\n",
    "\n",
    "if symbols:\n",
    "    print(\"Symbols:\", symbols)\n",
    "else:\n",
    "    print(\"No symbols loaded.\")"
   ]
  },
  {
   "cell_type": "markdown",
   "metadata": {},
   "source": [
    "## **Income Statement**"
   ]
  },
  {
   "cell_type": "code",
   "execution_count": 4,
   "metadata": {
    "execution": {
     "iopub.execute_input": "2025-01-17T12:39:12.501559Z",
     "iopub.status.busy": "2025-01-17T12:39:12.500994Z",
     "iopub.status.idle": "2025-01-17T12:39:14.608575Z",
     "shell.execute_reply": "2025-01-17T12:39:14.608097Z"
    }
   },
   "outputs": [],
   "source": [
    "def fetch_data(symbol: str, api_key: str, session: requests.Session) -> Dict:\n",
    "    \"\"\"Fetch company profile data from FMP API\"\"\"\n",
    "    url = f\"https://financialmodelingprep.com/api/v3/income-statement/{symbol}\"\n",
    "    params = {\"apikey\": api_key,\n",
    "              \"period\": \"annual\"}\n",
    "\n",
    "    try:\n",
    "        response = session.get(url, params=params, timeout=10)\n",
    "        response.raise_for_status()\n",
    "        return response.json()\n",
    "    except Exception as e:\n",
    "        logger.error(f\"Error fetching {symbol}: {str(e)}\")\n",
    "        return None\n",
    "\n",
    "def fetch_all_data(symbols: List[str], api_key: str) -> List[Dict]:\n",
    "    session = create_session()\n",
    "    \n",
    "    with ThreadPoolExecutor(max_workers=10) as executor:\n",
    "        futures = [\n",
    "            executor.submit(fetch_data, symbol, api_key, session)\n",
    "            for symbol in symbols\n",
    "        ]\n",
    "        results = [\n",
    "            f.result() for f in concurrent.futures.as_completed(futures)\n",
    "        ]\n",
    "    \n",
    "    return [r[0] for r in results if r and isinstance(r, list)]\n",
    "\n",
    "# Execute fetching\n",
    "data = fetch_all_data(symbols, FMP_API_KEY)\n",
    "\n",
    "# Convert to Polars DataFrame more efficiently\n",
    "if data:\n",
    "    df = pl.DataFrame(data)"
   ]
  },
  {
   "cell_type": "code",
   "execution_count": 5,
   "metadata": {
    "execution": {
     "iopub.execute_input": "2025-01-17T12:39:14.610650Z",
     "iopub.status.busy": "2025-01-17T12:39:14.610320Z",
     "iopub.status.idle": "2025-01-17T12:39:14.615394Z",
     "shell.execute_reply": "2025-01-17T12:39:14.614923Z"
    }
   },
   "outputs": [],
   "source": [
    "df = make_clean_names(df)"
   ]
  },
  {
   "cell_type": "code",
   "execution_count": 6,
   "metadata": {
    "execution": {
     "iopub.execute_input": "2025-01-17T12:39:14.617168Z",
     "iopub.status.busy": "2025-01-17T12:39:14.616838Z",
     "iopub.status.idle": "2025-01-17T12:39:14.622879Z",
     "shell.execute_reply": "2025-01-17T12:39:14.622324Z"
    }
   },
   "outputs": [],
   "source": [
    "output_dir = \"../../../data/finance\"\n",
    "\n",
    "# Write DataFrame to Parquet\n",
    "df.write_parquet(f'{output_dir}/company_income_statement.parquet')"
   ]
  },
  {
   "cell_type": "code",
   "execution_count": 7,
   "metadata": {
    "execution": {
     "iopub.execute_input": "2025-01-17T12:39:14.624760Z",
     "iopub.status.busy": "2025-01-17T12:39:14.624430Z",
     "iopub.status.idle": "2025-01-17T12:39:14.632626Z",
     "shell.execute_reply": "2025-01-17T12:39:14.632113Z"
    }
   },
   "outputs": [
    {
     "data": {
      "text/html": [
       "<div><style>\n",
       ".dataframe > thead > tr,\n",
       ".dataframe > tbody > tr {\n",
       "  text-align: right;\n",
       "  white-space: pre-wrap;\n",
       "}\n",
       "</style>\n",
       "<small>shape: (5, 38)</small><table border=\"1\" class=\"dataframe\"><thead><tr><th>date</th><th>symbol</th><th>reported_currency</th><th>cik</th><th>filling_date</th><th>accepted_date</th><th>calendar_year</th><th>period</th><th>revenue</th><th>cost_of_revenue</th><th>gross_profit</th><th>gross_profit_ratio</th><th>research_and_development_expenses</th><th>general_and_administrative_expenses</th><th>selling_and_marketing_expenses</th><th>selling_general_and_administrative_expenses</th><th>other_expenses</th><th>operating_expenses</th><th>cost_and_expenses</th><th>interest_income</th><th>interest_expense</th><th>depreciation_and_amortization</th><th>ebitda</th><th>ebitdaratio</th><th>operating_income</th><th>operating_income_ratio</th><th>total_other_income_expenses_net</th><th>income_before_tax</th><th>income_before_tax_ratio</th><th>income_tax_expense</th><th>net_income</th><th>net_income_ratio</th><th>eps</th><th>epsdiluted</th><th>weighted_average_shs_out</th><th>weighted_average_shs_out_dil</th><th>link</th><th>final_link</th></tr><tr><td>str</td><td>str</td><td>str</td><td>str</td><td>str</td><td>str</td><td>str</td><td>str</td><td>i64</td><td>i64</td><td>i64</td><td>f64</td><td>i64</td><td>i64</td><td>i64</td><td>i64</td><td>i64</td><td>i64</td><td>i64</td><td>i64</td><td>i64</td><td>i64</td><td>i64</td><td>f64</td><td>i64</td><td>f64</td><td>i64</td><td>i64</td><td>f64</td><td>i64</td><td>i64</td><td>f64</td><td>f64</td><td>f64</td><td>i64</td><td>i64</td><td>str</td><td>str</td></tr></thead><tbody><tr><td>&quot;2024-01-28&quot;</td><td>&quot;NVDA&quot;</td><td>&quot;USD&quot;</td><td>&quot;0001045810&quot;</td><td>&quot;2024-02-21&quot;</td><td>&quot;2024-02-21 16:36:57&quot;</td><td>&quot;2024&quot;</td><td>&quot;FY&quot;</td><td>60922000000</td><td>16621000000</td><td>44301000000</td><td>0.727176</td><td>8675000000</td><td>0</td><td>0</td><td>2654000000</td><td>0</td><td>11329000000</td><td>27950000000</td><td>866000000</td><td>257000000</td><td>1508000000</td><td>35583000000</td><td>0.584075</td><td>32972000000</td><td>0.541217</td><td>846000000</td><td>33818000000</td><td>0.555103</td><td>4058000000</td><td>29760000000</td><td>0.488493</td><td>1.21</td><td>1.19</td><td>24690000000</td><td>24940000000</td><td>&quot;https://www.sec.gov/Archives/e…</td><td>&quot;https://www.sec.gov/Archives/e…</td></tr><tr><td>&quot;2024-08-31&quot;</td><td>&quot;ACN&quot;</td><td>&quot;USD&quot;</td><td>&quot;0001467373&quot;</td><td>&quot;2024-10-10&quot;</td><td>&quot;2024-10-10 06:43:59&quot;</td><td>&quot;2024&quot;</td><td>&quot;FY&quot;</td><td>64896464000</td><td>43734147000</td><td>21162317000</td><td>0.326094</td><td>1150430000</td><td>4281316000</td><td>6846714000</td><td>11128030000</td><td>-711990000</td><td>11566470000</td><td>55300617000</td><td>272256000</td><td>58969000</td><td>1430042000</td><td>11188334000</td><td>0.172403</td><td>9595847000</td><td>0.147864</td><td>103476000</td><td>9699323000</td><td>0.149458</td><td>2280126000</td><td>7264787000</td><td>0.111944</td><td>11.58</td><td>11.44</td><td>627852613</td><td>635940044</td><td>&quot;https://www.sec.gov/Archives/e…</td><td>&quot;https://www.sec.gov/Archives/e…</td></tr><tr><td>&quot;2024-05-31&quot;</td><td>&quot;ORCL&quot;</td><td>&quot;USD&quot;</td><td>&quot;0001341439&quot;</td><td>&quot;2024-06-20&quot;</td><td>&quot;2024-06-20 16:21:35&quot;</td><td>&quot;2024&quot;</td><td>&quot;FY&quot;</td><td>52961000000</td><td>15143000000</td><td>37818000000</td><td>0.714073</td><td>8915000000</td><td>1548000000</td><td>8274000000</td><td>9822000000</td><td>3728000000</td><td>22465000000</td><td>37608000000</td><td>451000000</td><td>3514000000</td><td>6139000000</td><td>21580000000</td><td>0.40747</td><td>15353000000</td><td>0.289893</td><td>-3612000000</td><td>11741000000</td><td>0.221691</td><td>1274000000</td><td>10467000000</td><td>0.197636</td><td>3.81</td><td>3.71</td><td>2744000000</td><td>2823000000</td><td>&quot;https://www.sec.gov/Archives/e…</td><td>&quot;https://www.sec.gov/Archives/e…</td></tr><tr><td>&quot;2024-06-30&quot;</td><td>&quot;MSFT&quot;</td><td>&quot;USD&quot;</td><td>&quot;0000789019&quot;</td><td>&quot;2024-07-30&quot;</td><td>&quot;2024-07-30 16:06:22&quot;</td><td>&quot;2024&quot;</td><td>&quot;FY&quot;</td><td>245122000000</td><td>74114000000</td><td>171008000000</td><td>0.697644</td><td>29510000000</td><td>7609000000</td><td>24456000000</td><td>32065000000</td><td>0</td><td>61575000000</td><td>135689000000</td><td>3157000000</td><td>2935000000</td><td>22287000000</td><td>133009000000</td><td>0.542624</td><td>109433000000</td><td>0.446443</td><td>-1646000000</td><td>107787000000</td><td>0.439728</td><td>19651000000</td><td>88136000000</td><td>0.35956</td><td>11.86</td><td>11.8</td><td>7431000000</td><td>7469000000</td><td>&quot;https://www.sec.gov/Archives/e…</td><td>&quot;https://www.sec.gov/Archives/e…</td></tr><tr><td>&quot;2023-12-31&quot;</td><td>&quot;GOOGL&quot;</td><td>&quot;USD&quot;</td><td>&quot;0001652044&quot;</td><td>&quot;2024-01-31&quot;</td><td>&quot;2024-01-30 21:43:43&quot;</td><td>&quot;2023&quot;</td><td>&quot;FY&quot;</td><td>307394000000</td><td>133332000000</td><td>174062000000</td><td>0.56625</td><td>45427000000</td><td>16425000000</td><td>27917000000</td><td>44342000000</td><td>0</td><td>89769000000</td><td>223101000000</td><td>3865000000</td><td>308000000</td><td>11946000000</td><td>97971000000</td><td>0.318715</td><td>84293000000</td><td>0.274218</td><td>1424000000</td><td>85717000000</td><td>0.278851</td><td>11922000000</td><td>73795000000</td><td>0.240066</td><td>5.84</td><td>5.8</td><td>12630000000</td><td>12722000000</td><td>&quot;https://www.sec.gov/Archives/e…</td><td>&quot;https://www.sec.gov/Archives/e…</td></tr></tbody></table></div>"
      ],
      "text/plain": [
       "shape: (5, 38)\n",
       "┌────────────┬────────┬────────────┬───────────┬───┬───────────┬───────────┬───────────┬───────────┐\n",
       "│ date       ┆ symbol ┆ reported_c ┆ cik       ┆ … ┆ weighted_ ┆ weighted_ ┆ link      ┆ final_lin │\n",
       "│ ---        ┆ ---    ┆ urrency    ┆ ---       ┆   ┆ average_s ┆ average_s ┆ ---       ┆ k         │\n",
       "│ str        ┆ str    ┆ ---        ┆ str       ┆   ┆ hs_out    ┆ hs_out_di ┆ str       ┆ ---       │\n",
       "│            ┆        ┆ str        ┆           ┆   ┆ ---       ┆ l         ┆           ┆ str       │\n",
       "│            ┆        ┆            ┆           ┆   ┆ i64       ┆ ---       ┆           ┆           │\n",
       "│            ┆        ┆            ┆           ┆   ┆           ┆ i64       ┆           ┆           │\n",
       "╞════════════╪════════╪════════════╪═══════════╪═══╪═══════════╪═══════════╪═══════════╪═══════════╡\n",
       "│ 2024-01-28 ┆ NVDA   ┆ USD        ┆ 000104581 ┆ … ┆ 246900000 ┆ 249400000 ┆ https://w ┆ https://w │\n",
       "│            ┆        ┆            ┆ 0         ┆   ┆ 00        ┆ 00        ┆ ww.sec.go ┆ ww.sec.go │\n",
       "│            ┆        ┆            ┆           ┆   ┆           ┆           ┆ v/Archive ┆ v/Archive │\n",
       "│            ┆        ┆            ┆           ┆   ┆           ┆           ┆ s/e…      ┆ s/e…      │\n",
       "│ 2024-08-31 ┆ ACN    ┆ USD        ┆ 000146737 ┆ … ┆ 627852613 ┆ 635940044 ┆ https://w ┆ https://w │\n",
       "│            ┆        ┆            ┆ 3         ┆   ┆           ┆           ┆ ww.sec.go ┆ ww.sec.go │\n",
       "│            ┆        ┆            ┆           ┆   ┆           ┆           ┆ v/Archive ┆ v/Archive │\n",
       "│            ┆        ┆            ┆           ┆   ┆           ┆           ┆ s/e…      ┆ s/e…      │\n",
       "│ 2024-05-31 ┆ ORCL   ┆ USD        ┆ 000134143 ┆ … ┆ 274400000 ┆ 282300000 ┆ https://w ┆ https://w │\n",
       "│            ┆        ┆            ┆ 9         ┆   ┆ 0         ┆ 0         ┆ ww.sec.go ┆ ww.sec.go │\n",
       "│            ┆        ┆            ┆           ┆   ┆           ┆           ┆ v/Archive ┆ v/Archive │\n",
       "│            ┆        ┆            ┆           ┆   ┆           ┆           ┆ s/e…      ┆ s/e…      │\n",
       "│ 2024-06-30 ┆ MSFT   ┆ USD        ┆ 000078901 ┆ … ┆ 743100000 ┆ 746900000 ┆ https://w ┆ https://w │\n",
       "│            ┆        ┆            ┆ 9         ┆   ┆ 0         ┆ 0         ┆ ww.sec.go ┆ ww.sec.go │\n",
       "│            ┆        ┆            ┆           ┆   ┆           ┆           ┆ v/Archive ┆ v/Archive │\n",
       "│            ┆        ┆            ┆           ┆   ┆           ┆           ┆ s/e…      ┆ s/e…      │\n",
       "│ 2023-12-31 ┆ GOOGL  ┆ USD        ┆ 000165204 ┆ … ┆ 126300000 ┆ 127220000 ┆ https://w ┆ https://w │\n",
       "│            ┆        ┆            ┆ 4         ┆   ┆ 00        ┆ 00        ┆ ww.sec.go ┆ ww.sec.go │\n",
       "│            ┆        ┆            ┆           ┆   ┆           ┆           ┆ v/Archive ┆ v/Archive │\n",
       "│            ┆        ┆            ┆           ┆   ┆           ┆           ┆ s/e…      ┆ s/e…      │\n",
       "└────────────┴────────┴────────────┴───────────┴───┴───────────┴───────────┴───────────┴───────────┘"
      ]
     },
     "execution_count": 7,
     "metadata": {},
     "output_type": "execute_result"
    }
   ],
   "source": [
    "pl.scan_parquet(f'{output_dir}/company_income_statement.parquet').head().collect()"
   ]
  },
  {
   "cell_type": "markdown",
   "metadata": {},
   "source": [
    "## **Balance Sheet**"
   ]
  },
  {
   "cell_type": "code",
   "execution_count": 8,
   "metadata": {
    "execution": {
     "iopub.execute_input": "2025-01-17T12:39:14.634302Z",
     "iopub.status.busy": "2025-01-17T12:39:14.634119Z",
     "iopub.status.idle": "2025-01-17T12:39:15.939744Z",
     "shell.execute_reply": "2025-01-17T12:39:15.939158Z"
    }
   },
   "outputs": [],
   "source": [
    "def fetch_data(symbol: str, api_key: str, session: requests.Session) -> Dict:\n",
    "    \"\"\"Fetch company profile data from FMP API\"\"\"\n",
    "    url = f\"https://financialmodelingprep.com/api/v3/balance-sheet-statement/{symbol}\"\n",
    "    params = {\"apikey\": api_key,\n",
    "              \"period\": \"annual\"}\n",
    "\n",
    "    try:\n",
    "        response = session.get(url, params=params, timeout=10)\n",
    "        response.raise_for_status()\n",
    "        return response.json()\n",
    "    except Exception as e:\n",
    "        logger.error(f\"Error fetching {symbol}: {str(e)}\")\n",
    "        return None\n",
    "\n",
    "def fetch_all_data(symbols: List[str], api_key: str) -> List[Dict]:\n",
    "    session = create_session()\n",
    "    \n",
    "    with ThreadPoolExecutor(max_workers=10) as executor:\n",
    "        futures = [\n",
    "            executor.submit(fetch_data, symbol, api_key, session)\n",
    "            for symbol in symbols\n",
    "        ]\n",
    "        results = [\n",
    "            f.result() for f in concurrent.futures.as_completed(futures)\n",
    "        ]\n",
    "    \n",
    "    return [r[0] for r in results if r and isinstance(r, list)]\n",
    "\n",
    "# Execute fetching\n",
    "data = fetch_all_data(symbols, FMP_API_KEY)\n",
    "\n",
    "# Convert to Polars DataFrame more efficiently\n",
    "if data:\n",
    "    df = pl.DataFrame(data)"
   ]
  },
  {
   "cell_type": "code",
   "execution_count": 9,
   "metadata": {
    "execution": {
     "iopub.execute_input": "2025-01-17T12:39:15.941860Z",
     "iopub.status.busy": "2025-01-17T12:39:15.941685Z",
     "iopub.status.idle": "2025-01-17T12:39:15.945086Z",
     "shell.execute_reply": "2025-01-17T12:39:15.944675Z"
    }
   },
   "outputs": [],
   "source": [
    "df = make_clean_names(df)"
   ]
  },
  {
   "cell_type": "code",
   "execution_count": 10,
   "metadata": {
    "execution": {
     "iopub.execute_input": "2025-01-17T12:39:15.946786Z",
     "iopub.status.busy": "2025-01-17T12:39:15.946442Z",
     "iopub.status.idle": "2025-01-17T12:39:15.951055Z",
     "shell.execute_reply": "2025-01-17T12:39:15.950518Z"
    }
   },
   "outputs": [],
   "source": [
    "output_dir = \"../../../data/finance\"\n",
    "\n",
    "# Write DataFrame to Parquet\n",
    "df.write_parquet(f'{output_dir}/company_balance_sheet.parquet')"
   ]
  },
  {
   "cell_type": "code",
   "execution_count": 11,
   "metadata": {
    "execution": {
     "iopub.execute_input": "2025-01-17T12:39:15.952603Z",
     "iopub.status.busy": "2025-01-17T12:39:15.952435Z",
     "iopub.status.idle": "2025-01-17T12:39:15.959018Z",
     "shell.execute_reply": "2025-01-17T12:39:15.958577Z"
    }
   },
   "outputs": [
    {
     "data": {
      "text/html": [
       "<div><style>\n",
       ".dataframe > thead > tr,\n",
       ".dataframe > tbody > tr {\n",
       "  text-align: right;\n",
       "  white-space: pre-wrap;\n",
       "}\n",
       "</style>\n",
       "<small>shape: (5, 54)</small><table border=\"1\" class=\"dataframe\"><thead><tr><th>date</th><th>symbol</th><th>reported_currency</th><th>cik</th><th>filling_date</th><th>accepted_date</th><th>calendar_year</th><th>period</th><th>cash_and_cash_equivalents</th><th>short_term_investments</th><th>cash_and_short_term_investments</th><th>net_receivables</th><th>inventory</th><th>other_current_assets</th><th>total_current_assets</th><th>property_plant_equipment_net</th><th>goodwill</th><th>intangible_assets</th><th>goodwill_and_intangible_assets</th><th>long_term_investments</th><th>tax_assets</th><th>other_non_current_assets</th><th>total_non_current_assets</th><th>other_assets</th><th>total_assets</th><th>account_payables</th><th>short_term_debt</th><th>tax_payables</th><th>deferred_revenue</th><th>other_current_liabilities</th><th>total_current_liabilities</th><th>long_term_debt</th><th>deferred_revenue_non_current</th><th>deferred_tax_liabilities_non_current</th><th>other_non_current_liabilities</th><th>total_non_current_liabilities</th><th>other_liabilities</th><th>capital_lease_obligations</th><th>total_liabilities</th><th>preferred_stock</th><th>common_stock</th><th>retained_earnings</th><th>accumulated_other_comprehensive_income_loss</th><th>othertotal_stockholders_equity</th><th>total_stockholders_equity</th><th>total_equity</th><th>total_liabilities_and_stockholders_equity</th><th>minority_interest</th><th>total_liabilities_and_total_equity</th><th>total_investments</th><th>total_debt</th><th>net_debt</th><th>link</th><th>final_link</th></tr><tr><td>str</td><td>str</td><td>str</td><td>str</td><td>str</td><td>str</td><td>str</td><td>str</td><td>i64</td><td>i64</td><td>i64</td><td>i64</td><td>i64</td><td>i64</td><td>i64</td><td>i64</td><td>i64</td><td>i64</td><td>i64</td><td>i64</td><td>i64</td><td>i64</td><td>i64</td><td>i64</td><td>i64</td><td>i64</td><td>i64</td><td>i64</td><td>i64</td><td>i64</td><td>i64</td><td>i64</td><td>i64</td><td>i64</td><td>i64</td><td>i64</td><td>i64</td><td>i64</td><td>i64</td><td>i64</td><td>i64</td><td>i64</td><td>i64</td><td>i64</td><td>i64</td><td>i64</td><td>i64</td><td>i64</td><td>i64</td><td>i64</td><td>i64</td><td>i64</td><td>str</td><td>str</td></tr></thead><tbody><tr><td>&quot;2024-08-31&quot;</td><td>&quot;ACN&quot;</td><td>&quot;USD&quot;</td><td>&quot;0001467373&quot;</td><td>&quot;2024-10-10&quot;</td><td>&quot;2024-10-10 06:43:59&quot;</td><td>&quot;2024&quot;</td><td>&quot;FY&quot;</td><td>5004469000</td><td>5396000</td><td>5009865000</td><td>13664847000</td><td>0</td><td>2183069000</td><td>20857781000</td><td>4278515000</td><td>21120179000</td><td>2904031000</td><td>24024210000</td><td>334664000</td><td>4147496000</td><td>2289697000</td><td>35074582000</td><td>0</td><td>55932363000</td><td>2743807000</td><td>1672431000</td><td>719084000</td><td>5174923000</td><td>8665882000</td><td>18976127000</td><td>2448118000</td><td>641091000</td><td>428845000</td><td>4269934000</td><td>7787988000</td><td>0</td><td>3095692000</td><td>26764115000</td><td>0</td><td>72000</td><td>23082423000</td><td>-1554742000</td><td>6760893000</td><td>28288646000</td><td>29168248000</td><td>55932363000</td><td>879602000</td><td>55932363000</td><td>340060000</td><td>4120549000</td><td>-883920000</td><td>&quot;https://www.sec.gov/Archives/e…</td><td>&quot;https://www.sec.gov/Archives/e…</td></tr><tr><td>&quot;2023-12-31&quot;</td><td>&quot;GOOGL&quot;</td><td>&quot;USD&quot;</td><td>&quot;0001652044&quot;</td><td>&quot;2024-01-31&quot;</td><td>&quot;2024-01-30 21:43:43&quot;</td><td>&quot;2023&quot;</td><td>&quot;FY&quot;</td><td>24048000000</td><td>86868000000</td><td>110916000000</td><td>47964000000</td><td>0</td><td>12650000000</td><td>171530000000</td><td>148436000000</td><td>29198000000</td><td>0</td><td>29198000000</td><td>31008000000</td><td>12169000000</td><td>10051000000</td><td>230862000000</td><td>0</td><td>402392000000</td><td>7493000000</td><td>2791000000</td><td>2748000000</td><td>4137000000</td><td>64645000000</td><td>81814000000</td><td>25350000000</td><td>911000000</td><td>485000000</td><td>10453000000</td><td>37199000000</td><td>0</td><td>16634000000</td><td>119013000000</td><td>0</td><td>76534000000</td><td>211247000000</td><td>-4402000000</td><td>0</td><td>283379000000</td><td>283379000000</td><td>402392000000</td><td>0</td><td>402392000000</td><td>117876000000</td><td>28504000000</td><td>4456000000</td><td>&quot;https://www.sec.gov/Archives/e…</td><td>&quot;https://www.sec.gov/Archives/e…</td></tr><tr><td>&quot;2024-01-31&quot;</td><td>&quot;CRM&quot;</td><td>&quot;USD&quot;</td><td>&quot;0001108524&quot;</td><td>&quot;2024-03-06&quot;</td><td>&quot;2024-03-06 16:32:48&quot;</td><td>&quot;2024&quot;</td><td>&quot;FY&quot;</td><td>8472000000</td><td>5722000000</td><td>14194000000</td><td>11414000000</td><td>0</td><td>3466000000</td><td>29074000000</td><td>6055000000</td><td>48620000000</td><td>5278000000</td><td>53898000000</td><td>4848000000</td><td>3433000000</td><td>2515000000</td><td>70749000000</td><td>0</td><td>99823000000</td><td>3239000000</td><td>1517000000</td><td>0</td><td>19003000000</td><td>3244000000</td><td>26631000000</td><td>11673000000</td><td>0</td><td>0</td><td>1873000000</td><td>13546000000</td><td>0</td><td>3764000000</td><td>40177000000</td><td>0</td><td>1000000</td><td>11721000000</td><td>-225000000</td><td>48149000000</td><td>59646000000</td><td>59646000000</td><td>99823000000</td><td>0</td><td>99823000000</td><td>10570000000</td><td>13562000000</td><td>5090000000</td><td>&quot;https://www.sec.gov/Archives/e…</td><td>&quot;https://www.sec.gov/Archives/e…</td></tr><tr><td>&quot;2024-11-03&quot;</td><td>&quot;AVGO&quot;</td><td>&quot;USD&quot;</td><td>&quot;0001730168&quot;</td><td>&quot;2024-12-20&quot;</td><td>&quot;2024-12-20 17:26:46&quot;</td><td>&quot;2024&quot;</td><td>&quot;FY&quot;</td><td>9348000000</td><td>0</td><td>9348000000</td><td>4416000000</td><td>1760000000</td><td>4071000000</td><td>19595000000</td><td>2521000000</td><td>97873000000</td><td>40583000000</td><td>138456000000</td><td>0</td><td>0</td><td>5073000000</td><td>146050000000</td><td>0</td><td>165645000000</td><td>1662000000</td><td>1271000000</td><td>0</td><td>0</td><td>13764000000</td><td>16697000000</td><td>66295000000</td><td>0</td><td>0</td><td>14975000000</td><td>81270000000</td><td>0</td><td>0</td><td>97967000000</td><td>0</td><td>5000000</td><td>0</td><td>207000000</td><td>67466000000</td><td>67678000000</td><td>67678000000</td><td>165645000000</td><td>0</td><td>165645000000</td><td>0</td><td>67566000000</td><td>58218000000</td><td>&quot;https://www.sec.gov/Archives/e…</td><td>&quot;https://www.sec.gov/Archives/e…</td></tr><tr><td>&quot;2024-05-31&quot;</td><td>&quot;ORCL&quot;</td><td>&quot;USD&quot;</td><td>&quot;0001341439&quot;</td><td>&quot;2024-06-20&quot;</td><td>&quot;2024-06-20 16:21:35&quot;</td><td>&quot;2024&quot;</td><td>&quot;FY&quot;</td><td>10454000000</td><td>207000000</td><td>10661000000</td><td>7874000000</td><td>334000000</td><td>3685000000</td><td>22554000000</td><td>28836000000</td><td>62230000000</td><td>6890000000</td><td>69120000000</td><td>2179000000</td><td>12273000000</td><td>6014000000</td><td>118422000000</td><td>0</td><td>140976000000</td><td>2357000000</td><td>11905000000</td><td>0</td><td>9313000000</td><td>7969000000</td><td>31544000000</td><td>82509000000</td><td>0</td><td>3692000000</td><td>13992000000</td><td>100193000000</td><td>0</td><td>7545000000</td><td>131737000000</td><td>0</td><td>32764000000</td><td>-22628000000</td><td>-1432000000</td><td>0</td><td>8704000000</td><td>9239000000</td><td>140976000000</td><td>535000000</td><td>140976000000</td><td>2386000000</td><td>94469000000</td><td>84015000000</td><td>&quot;https://www.sec.gov/Archives/e…</td><td>&quot;https://www.sec.gov/Archives/e…</td></tr></tbody></table></div>"
      ],
      "text/plain": [
       "shape: (5, 54)\n",
       "┌────────────┬────────┬────────────┬───────────┬───┬───────────┬───────────┬───────────┬───────────┐\n",
       "│ date       ┆ symbol ┆ reported_c ┆ cik       ┆ … ┆ total_deb ┆ net_debt  ┆ link      ┆ final_lin │\n",
       "│ ---        ┆ ---    ┆ urrency    ┆ ---       ┆   ┆ t         ┆ ---       ┆ ---       ┆ k         │\n",
       "│ str        ┆ str    ┆ ---        ┆ str       ┆   ┆ ---       ┆ i64       ┆ str       ┆ ---       │\n",
       "│            ┆        ┆ str        ┆           ┆   ┆ i64       ┆           ┆           ┆ str       │\n",
       "╞════════════╪════════╪════════════╪═══════════╪═══╪═══════════╪═══════════╪═══════════╪═══════════╡\n",
       "│ 2024-08-31 ┆ ACN    ┆ USD        ┆ 000146737 ┆ … ┆ 412054900 ┆ -88392000 ┆ https://w ┆ https://w │\n",
       "│            ┆        ┆            ┆ 3         ┆   ┆ 0         ┆ 0         ┆ ww.sec.go ┆ ww.sec.go │\n",
       "│            ┆        ┆            ┆           ┆   ┆           ┆           ┆ v/Archive ┆ v/Archive │\n",
       "│            ┆        ┆            ┆           ┆   ┆           ┆           ┆ s/e…      ┆ s/e…      │\n",
       "│ 2023-12-31 ┆ GOOGL  ┆ USD        ┆ 000165204 ┆ … ┆ 285040000 ┆ 445600000 ┆ https://w ┆ https://w │\n",
       "│            ┆        ┆            ┆ 4         ┆   ┆ 00        ┆ 0         ┆ ww.sec.go ┆ ww.sec.go │\n",
       "│            ┆        ┆            ┆           ┆   ┆           ┆           ┆ v/Archive ┆ v/Archive │\n",
       "│            ┆        ┆            ┆           ┆   ┆           ┆           ┆ s/e…      ┆ s/e…      │\n",
       "│ 2024-01-31 ┆ CRM    ┆ USD        ┆ 000110852 ┆ … ┆ 135620000 ┆ 509000000 ┆ https://w ┆ https://w │\n",
       "│            ┆        ┆            ┆ 4         ┆   ┆ 00        ┆ 0         ┆ ww.sec.go ┆ ww.sec.go │\n",
       "│            ┆        ┆            ┆           ┆   ┆           ┆           ┆ v/Archive ┆ v/Archive │\n",
       "│            ┆        ┆            ┆           ┆   ┆           ┆           ┆ s/e…      ┆ s/e…      │\n",
       "│ 2024-11-03 ┆ AVGO   ┆ USD        ┆ 000173016 ┆ … ┆ 675660000 ┆ 582180000 ┆ https://w ┆ https://w │\n",
       "│            ┆        ┆            ┆ 8         ┆   ┆ 00        ┆ 00        ┆ ww.sec.go ┆ ww.sec.go │\n",
       "│            ┆        ┆            ┆           ┆   ┆           ┆           ┆ v/Archive ┆ v/Archive │\n",
       "│            ┆        ┆            ┆           ┆   ┆           ┆           ┆ s/e…      ┆ s/e…      │\n",
       "│ 2024-05-31 ┆ ORCL   ┆ USD        ┆ 000134143 ┆ … ┆ 944690000 ┆ 840150000 ┆ https://w ┆ https://w │\n",
       "│            ┆        ┆            ┆ 9         ┆   ┆ 00        ┆ 00        ┆ ww.sec.go ┆ ww.sec.go │\n",
       "│            ┆        ┆            ┆           ┆   ┆           ┆           ┆ v/Archive ┆ v/Archive │\n",
       "│            ┆        ┆            ┆           ┆   ┆           ┆           ┆ s/e…      ┆ s/e…      │\n",
       "└────────────┴────────┴────────────┴───────────┴───┴───────────┴───────────┴───────────┴───────────┘"
      ]
     },
     "execution_count": 11,
     "metadata": {},
     "output_type": "execute_result"
    }
   ],
   "source": [
    "pl.scan_parquet(f'{output_dir}/company_balance_sheet.parquet').head().collect()"
   ]
  },
  {
   "cell_type": "markdown",
   "metadata": {},
   "source": [
    "## **Cash Flow Statement**"
   ]
  },
  {
   "cell_type": "code",
   "execution_count": 12,
   "metadata": {
    "execution": {
     "iopub.execute_input": "2025-01-17T12:39:15.960855Z",
     "iopub.status.busy": "2025-01-17T12:39:15.960523Z",
     "iopub.status.idle": "2025-01-17T12:39:18.245245Z",
     "shell.execute_reply": "2025-01-17T12:39:18.244752Z"
    }
   },
   "outputs": [],
   "source": [
    "def fetch_data(symbol: str, api_key: str, session: requests.Session) -> Dict:\n",
    "    \"\"\"Fetch company profile data from FMP API\"\"\"\n",
    "    url = f\"https://financialmodelingprep.com/api/v3/cash-flow-statement/{symbol}\"\n",
    "    params = {\"apikey\": api_key,\n",
    "              \"period\": \"annual\"}\n",
    "\n",
    "    try:\n",
    "        response = session.get(url, params=params, timeout=10)\n",
    "        response.raise_for_status()\n",
    "        return response.json()\n",
    "    except Exception as e:\n",
    "        logger.error(f\"Error fetching {symbol}: {str(e)}\")\n",
    "        return None\n",
    "\n",
    "def fetch_all_data(symbols: List[str], api_key: str) -> List[Dict]:\n",
    "    session = create_session()\n",
    "    \n",
    "    with ThreadPoolExecutor(max_workers=10) as executor:\n",
    "        futures = [\n",
    "            executor.submit(fetch_data, symbol, api_key, session)\n",
    "            for symbol in symbols\n",
    "        ]\n",
    "        results = [\n",
    "            f.result() for f in concurrent.futures.as_completed(futures)\n",
    "        ]\n",
    "    \n",
    "    return [r[0] for r in results if r and isinstance(r, list)]\n",
    "\n",
    "# Execute fetching\n",
    "data = fetch_all_data(symbols, FMP_API_KEY)\n",
    "\n",
    "# Convert to Polars DataFrame more efficiently\n",
    "if data:\n",
    "    df = pl.DataFrame(data)"
   ]
  },
  {
   "cell_type": "code",
   "execution_count": 13,
   "metadata": {
    "execution": {
     "iopub.execute_input": "2025-01-17T12:39:18.247158Z",
     "iopub.status.busy": "2025-01-17T12:39:18.246985Z",
     "iopub.status.idle": "2025-01-17T12:39:18.250508Z",
     "shell.execute_reply": "2025-01-17T12:39:18.250072Z"
    }
   },
   "outputs": [],
   "source": [
    "df = make_clean_names(df)"
   ]
  },
  {
   "cell_type": "code",
   "execution_count": 14,
   "metadata": {
    "execution": {
     "iopub.execute_input": "2025-01-17T12:39:18.252016Z",
     "iopub.status.busy": "2025-01-17T12:39:18.251848Z",
     "iopub.status.idle": "2025-01-17T12:39:18.256205Z",
     "shell.execute_reply": "2025-01-17T12:39:18.255798Z"
    }
   },
   "outputs": [],
   "source": [
    "output_dir = \"../../../data/finance\"\n",
    "\n",
    "# Write DataFrame to Parquet\n",
    "df.write_parquet(f'{output_dir}/company_cash_flow_statement.parquet')"
   ]
  },
  {
   "cell_type": "code",
   "execution_count": 15,
   "metadata": {
    "execution": {
     "iopub.execute_input": "2025-01-17T12:39:18.257877Z",
     "iopub.status.busy": "2025-01-17T12:39:18.257564Z",
     "iopub.status.idle": "2025-01-17T12:39:18.263440Z",
     "shell.execute_reply": "2025-01-17T12:39:18.262984Z"
    }
   },
   "outputs": [
    {
     "data": {
      "text/html": [
       "<div><style>\n",
       ".dataframe > thead > tr,\n",
       ".dataframe > tbody > tr {\n",
       "  text-align: right;\n",
       "  white-space: pre-wrap;\n",
       "}\n",
       "</style>\n",
       "<small>shape: (5, 40)</small><table border=\"1\" class=\"dataframe\"><thead><tr><th>date</th><th>symbol</th><th>reported_currency</th><th>cik</th><th>filling_date</th><th>accepted_date</th><th>calendar_year</th><th>period</th><th>net_income</th><th>depreciation_and_amortization</th><th>deferred_income_tax</th><th>stock_based_compensation</th><th>change_in_working_capital</th><th>accounts_receivables</th><th>inventory</th><th>accounts_payables</th><th>other_working_capital</th><th>other_non_cash_items</th><th>net_cash_provided_by_operating_activities</th><th>investments_in_property_plant_and_equipment</th><th>acquisitions_net</th><th>purchases_of_investments</th><th>sales_maturities_of_investments</th><th>other_investing_activites</th><th>net_cash_used_for_investing_activites</th><th>debt_repayment</th><th>common_stock_issued</th><th>common_stock_repurchased</th><th>dividends_paid</th><th>other_financing_activites</th><th>net_cash_used_provided_by_financing_activities</th><th>effect_of_forex_changes_on_cash</th><th>net_change_in_cash</th><th>cash_at_end_of_period</th><th>cash_at_beginning_of_period</th><th>operating_cash_flow</th><th>capital_expenditure</th><th>free_cash_flow</th><th>link</th><th>final_link</th></tr><tr><td>str</td><td>str</td><td>str</td><td>str</td><td>str</td><td>str</td><td>str</td><td>str</td><td>i64</td><td>i64</td><td>i64</td><td>i64</td><td>i64</td><td>i64</td><td>i64</td><td>i64</td><td>i64</td><td>i64</td><td>i64</td><td>i64</td><td>i64</td><td>i64</td><td>i64</td><td>i64</td><td>i64</td><td>i64</td><td>i64</td><td>i64</td><td>i64</td><td>i64</td><td>i64</td><td>i64</td><td>i64</td><td>i64</td><td>i64</td><td>i64</td><td>i64</td><td>i64</td><td>str</td><td>str</td></tr></thead><tbody><tr><td>&quot;2023-12-31&quot;</td><td>&quot;GOOGL&quot;</td><td>&quot;USD&quot;</td><td>&quot;0001652044&quot;</td><td>&quot;2024-01-31&quot;</td><td>&quot;2024-01-30 21:43:43&quot;</td><td>&quot;2023&quot;</td><td>&quot;FY&quot;</td><td>73795000000</td><td>11946000000</td><td>-7763000000</td><td>22460000000</td><td>-3845000000</td><td>-7833000000</td><td>2276000000</td><td>664000000</td><td>1048000000</td><td>5153000000</td><td>101746000000</td><td>-32251000000</td><td>-495000000</td><td>-80885000000</td><td>87619000000</td><td>-1051000000</td><td>-27063000000</td><td>-760000000</td><td>0</td><td>-61504000000</td><td>0</td><td>-9829000000</td><td>-72093000000</td><td>-421000000</td><td>2169000000</td><td>24048000000</td><td>21879000000</td><td>101746000000</td><td>-32251000000</td><td>69495000000</td><td>&quot;https://www.sec.gov/Archives/e…</td><td>&quot;https://www.sec.gov/Archives/e…</td></tr><tr><td>&quot;2024-09-28&quot;</td><td>&quot;AAPL&quot;</td><td>&quot;USD&quot;</td><td>&quot;0000320193&quot;</td><td>&quot;2024-11-01&quot;</td><td>&quot;2024-11-01 06:01:36&quot;</td><td>&quot;2024&quot;</td><td>&quot;FY&quot;</td><td>93736000000</td><td>11445000000</td><td>0</td><td>11688000000</td><td>3651000000</td><td>-5144000000</td><td>-1046000000</td><td>6020000000</td><td>3821000000</td><td>-2266000000</td><td>118254000000</td><td>-9447000000</td><td>0</td><td>-48656000000</td><td>62346000000</td><td>-1308000000</td><td>2935000000</td><td>-5998000000</td><td>0</td><td>-94949000000</td><td>-15234000000</td><td>-5802000000</td><td>-121983000000</td><td>0</td><td>-794000000</td><td>29943000000</td><td>30737000000</td><td>118254000000</td><td>-9447000000</td><td>108807000000</td><td>&quot;https://www.sec.gov/Archives/e…</td><td>&quot;https://www.sec.gov/Archives/e…</td></tr><tr><td>&quot;2024-06-30&quot;</td><td>&quot;MSFT&quot;</td><td>&quot;USD&quot;</td><td>&quot;0000789019&quot;</td><td>&quot;2024-07-30&quot;</td><td>&quot;2024-07-30 16:06:22&quot;</td><td>&quot;2024&quot;</td><td>&quot;FY&quot;</td><td>88136000000</td><td>22287000000</td><td>-4738000000</td><td>10734000000</td><td>1824000000</td><td>-7191000000</td><td>1284000000</td><td>3545000000</td><td>4186000000</td><td>305000000</td><td>118548000000</td><td>-44477000000</td><td>-69132000000</td><td>-17732000000</td><td>35669000000</td><td>-1298000000</td><td>-96970000000</td><td>575000000</td><td>2002000000</td><td>-17254000000</td><td>-21771000000</td><td>-1309000000</td><td>-37757000000</td><td>-210000000</td><td>-16389000000</td><td>18315000000</td><td>34704000000</td><td>118548000000</td><td>-44477000000</td><td>74071000000</td><td>&quot;https://www.sec.gov/Archives/e…</td><td>&quot;https://www.sec.gov/Archives/e…</td></tr><tr><td>&quot;2023-12-31&quot;</td><td>&quot;GOOG&quot;</td><td>&quot;USD&quot;</td><td>&quot;0001652044&quot;</td><td>&quot;2024-01-31&quot;</td><td>&quot;2024-01-30 21:43:43&quot;</td><td>&quot;2023&quot;</td><td>&quot;FY&quot;</td><td>73795000000</td><td>11946000000</td><td>-7763000000</td><td>22460000000</td><td>-3845000000</td><td>-7833000000</td><td>2276000000</td><td>664000000</td><td>1048000000</td><td>5153000000</td><td>101746000000</td><td>-32251000000</td><td>-495000000</td><td>-80885000000</td><td>87619000000</td><td>-1051000000</td><td>-27063000000</td><td>-760000000</td><td>0</td><td>-61504000000</td><td>0</td><td>-9829000000</td><td>-72093000000</td><td>-421000000</td><td>2169000000</td><td>24048000000</td><td>21879000000</td><td>101746000000</td><td>-32251000000</td><td>69495000000</td><td>&quot;https://www.sec.gov/Archives/e…</td><td>&quot;https://www.sec.gov/Archives/e…</td></tr><tr><td>&quot;2024-08-31&quot;</td><td>&quot;ACN&quot;</td><td>&quot;USD&quot;</td><td>&quot;0001467373&quot;</td><td>&quot;2024-10-10&quot;</td><td>&quot;2024-10-10 06:43:59&quot;</td><td>&quot;2024&quot;</td><td>&quot;FY&quot;</td><td>7419197000</td><td>1430042000</td><td>-93988000</td><td>1941590000</td><td>-2158890000</td><td>0</td><td>0</td><td>46512000</td><td>-2205402000</td><td>593076000</td><td>9131027000</td><td>-516509000</td><td>-6553981000</td><td>0</td><td>0</td><td>8672000</td><td>-7061818000</td><td>827787000</td><td>1418131000</td><td>-4524646000</td><td>-3238259000</td><td>-546521000</td><td>-6063508000</td><td>-46264000</td><td>-4040563000</td><td>5004469000</td><td>9045032000</td><td>9131027000</td><td>-516509000</td><td>8614518000</td><td>&quot;https://www.sec.gov/Archives/e…</td><td>&quot;https://www.sec.gov/Archives/e…</td></tr></tbody></table></div>"
      ],
      "text/plain": [
       "shape: (5, 40)\n",
       "┌────────────┬────────┬────────────┬───────────┬───┬───────────┬───────────┬───────────┬───────────┐\n",
       "│ date       ┆ symbol ┆ reported_c ┆ cik       ┆ … ┆ capital_e ┆ free_cash ┆ link      ┆ final_lin │\n",
       "│ ---        ┆ ---    ┆ urrency    ┆ ---       ┆   ┆ xpenditur ┆ _flow     ┆ ---       ┆ k         │\n",
       "│ str        ┆ str    ┆ ---        ┆ str       ┆   ┆ e         ┆ ---       ┆ str       ┆ ---       │\n",
       "│            ┆        ┆ str        ┆           ┆   ┆ ---       ┆ i64       ┆           ┆ str       │\n",
       "│            ┆        ┆            ┆           ┆   ┆ i64       ┆           ┆           ┆           │\n",
       "╞════════════╪════════╪════════════╪═══════════╪═══╪═══════════╪═══════════╪═══════════╪═══════════╡\n",
       "│ 2023-12-31 ┆ GOOGL  ┆ USD        ┆ 000165204 ┆ … ┆ -32251000 ┆ 694950000 ┆ https://w ┆ https://w │\n",
       "│            ┆        ┆            ┆ 4         ┆   ┆ 000       ┆ 00        ┆ ww.sec.go ┆ ww.sec.go │\n",
       "│            ┆        ┆            ┆           ┆   ┆           ┆           ┆ v/Archive ┆ v/Archive │\n",
       "│            ┆        ┆            ┆           ┆   ┆           ┆           ┆ s/e…      ┆ s/e…      │\n",
       "│ 2024-09-28 ┆ AAPL   ┆ USD        ┆ 000032019 ┆ … ┆ -94470000 ┆ 108807000 ┆ https://w ┆ https://w │\n",
       "│            ┆        ┆            ┆ 3         ┆   ┆ 00        ┆ 000       ┆ ww.sec.go ┆ ww.sec.go │\n",
       "│            ┆        ┆            ┆           ┆   ┆           ┆           ┆ v/Archive ┆ v/Archive │\n",
       "│            ┆        ┆            ┆           ┆   ┆           ┆           ┆ s/e…      ┆ s/e…      │\n",
       "│ 2024-06-30 ┆ MSFT   ┆ USD        ┆ 000078901 ┆ … ┆ -44477000 ┆ 740710000 ┆ https://w ┆ https://w │\n",
       "│            ┆        ┆            ┆ 9         ┆   ┆ 000       ┆ 00        ┆ ww.sec.go ┆ ww.sec.go │\n",
       "│            ┆        ┆            ┆           ┆   ┆           ┆           ┆ v/Archive ┆ v/Archive │\n",
       "│            ┆        ┆            ┆           ┆   ┆           ┆           ┆ s/e…      ┆ s/e…      │\n",
       "│ 2023-12-31 ┆ GOOG   ┆ USD        ┆ 000165204 ┆ … ┆ -32251000 ┆ 694950000 ┆ https://w ┆ https://w │\n",
       "│            ┆        ┆            ┆ 4         ┆   ┆ 000       ┆ 00        ┆ ww.sec.go ┆ ww.sec.go │\n",
       "│            ┆        ┆            ┆           ┆   ┆           ┆           ┆ v/Archive ┆ v/Archive │\n",
       "│            ┆        ┆            ┆           ┆   ┆           ┆           ┆ s/e…      ┆ s/e…      │\n",
       "│ 2024-08-31 ┆ ACN    ┆ USD        ┆ 000146737 ┆ … ┆ -51650900 ┆ 861451800 ┆ https://w ┆ https://w │\n",
       "│            ┆        ┆            ┆ 3         ┆   ┆ 0         ┆ 0         ┆ ww.sec.go ┆ ww.sec.go │\n",
       "│            ┆        ┆            ┆           ┆   ┆           ┆           ┆ v/Archive ┆ v/Archive │\n",
       "│            ┆        ┆            ┆           ┆   ┆           ┆           ┆ s/e…      ┆ s/e…      │\n",
       "└────────────┴────────┴────────────┴───────────┴───┴───────────┴───────────┴───────────┴───────────┘"
      ]
     },
     "execution_count": 15,
     "metadata": {},
     "output_type": "execute_result"
    }
   ],
   "source": [
    "pl.scan_parquet(f'{output_dir}/company_cash_flow_statement.parquet').head().collect()"
   ]
  }
 ],
 "metadata": {
  "kernelspec": {
   "display_name": ".venv",
   "language": "python",
   "name": "python3"
  },
  "language_info": {
   "codemirror_mode": {
    "name": "ipython",
    "version": 3
   },
   "file_extension": ".py",
   "mimetype": "text/x-python",
   "name": "python",
   "nbconvert_exporter": "python",
   "pygments_lexer": "ipython3",
   "version": "3.12.8"
  }
 },
 "nbformat": 4,
 "nbformat_minor": 2
}
