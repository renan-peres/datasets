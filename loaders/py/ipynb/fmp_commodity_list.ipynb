{
 "cells": [
  {
   "cell_type": "markdown",
   "metadata": {},
   "source": [
    "# Commodity List\n",
    "- **Reference**: https://site.financialmodelingprep.com/developer/docs#full-quote-list-commodities"
   ]
  },
  {
   "cell_type": "markdown",
   "metadata": {},
   "source": [
    "## Step 1: Import Libraries"
   ]
  },
  {
   "cell_type": "code",
   "execution_count": 1,
   "metadata": {
    "execution": {
     "iopub.execute_input": "2025-01-20T18:14:52.568983Z",
     "iopub.status.busy": "2025-01-20T18:14:52.568294Z",
     "iopub.status.idle": "2025-01-20T18:14:52.631956Z",
     "shell.execute_reply": "2025-01-20T18:14:52.631420Z"
    }
   },
   "outputs": [],
   "source": [
    "%run ../make_clean_names.py"
   ]
  },
  {
   "cell_type": "code",
   "execution_count": 2,
   "metadata": {
    "execution": {
     "iopub.execute_input": "2025-01-20T18:14:52.634220Z",
     "iopub.status.busy": "2025-01-20T18:14:52.633871Z",
     "iopub.status.idle": "2025-01-20T18:14:52.699530Z",
     "shell.execute_reply": "2025-01-20T18:14:52.698906Z"
    }
   },
   "outputs": [],
   "source": [
    "import requests\n",
    "from requests.adapters import HTTPAdapter\n",
    "from requests.packages.urllib3.util.retry import Retry\n",
    "import logging\n",
    "import concurrent.futures\n",
    "from datetime import datetime\n",
    "from typing import Dict, List\n",
    "from concurrent.futures import ThreadPoolExecutor\n",
    "import polars as pl\n",
    "\n",
    "from dotenv import load_dotenv\n",
    "import os\n",
    "\n",
    "# Load environment variables\n",
    "load_dotenv()\n",
    "\n",
    "logging.basicConfig(level=logging.INFO)\n",
    "logger = logging.getLogger(__name__)\n",
    "\n",
    "def create_session():\n",
    "    session = requests.Session()\n",
    "    retries = Retry(\n",
    "        total=3,\n",
    "        backoff_factor=1,\n",
    "        status_forcelist=[429, 500, 502, 503, 504]\n",
    "    )\n",
    "    session.mount('https://', HTTPAdapter(max_retries=retries, pool_maxsize=10))\n",
    "    return session\n",
    "\n",
    "# Get API key from environment variables\n",
    "FMP_API_KEY = os.getenv('FMP_API_KEY')\n",
    "if not FMP_API_KEY:\n",
    "    raise ValueError(\"FMP_API_KEY not found in environment variables\")"
   ]
  },
  {
   "cell_type": "markdown",
   "metadata": {},
   "source": [
    "## Step 2: Extract Data from FMP into Polars"
   ]
  },
  {
   "cell_type": "code",
   "execution_count": 3,
   "metadata": {
    "execution": {
     "iopub.execute_input": "2025-01-20T18:14:52.701902Z",
     "iopub.status.busy": "2025-01-20T18:14:52.701565Z",
     "iopub.status.idle": "2025-01-20T18:14:59.473379Z",
     "shell.execute_reply": "2025-01-20T18:14:59.472788Z"
    }
   },
   "outputs": [],
   "source": [
    "start_date = '2020-01-01'\n",
    "end_date = datetime.today().strftime('%Y-%m-%d')\n",
    "\n",
    "def fetch_data(api_key: str, session: requests.Session) -> Dict:\n",
    "    \"\"\"Fetch historical forex data for a single pair with pair identifier\"\"\"\n",
    "    url = f\"https://financialmodelingprep.com/api/v3/quotes/commodity\"\n",
    "    params = {\n",
    "        \"apikey\": api_key\n",
    "    }\n",
    "        \n",
    "    try:\n",
    "        response = session.get(url, params=params, timeout=10)\n",
    "        response.raise_for_status()\n",
    "        data = response.json()\n",
    "    except Exception as e:\n",
    "        return None\n",
    "\n",
    "# Create a session\n",
    "session = create_session()\n",
    "\n",
    "# Execute fetching\n",
    "data = fetch_data(FMP_API_KEY, session)\n",
    "\n",
    "# Convert to Polars DataFrame if data exists\n",
    "df = pl.DataFrame(data)"
   ]
  },
  {
   "cell_type": "markdown",
   "metadata": {},
   "source": [
    "## Step 3: Clean Column Names"
   ]
  },
  {
   "cell_type": "code",
   "execution_count": 4,
   "metadata": {
    "execution": {
     "iopub.execute_input": "2025-01-20T18:14:59.475725Z",
     "iopub.status.busy": "2025-01-20T18:14:59.475368Z",
     "iopub.status.idle": "2025-01-20T18:14:59.478884Z",
     "shell.execute_reply": "2025-01-20T18:14:59.478457Z"
    }
   },
   "outputs": [],
   "source": [
    "df = make_clean_names(df)"
   ]
  },
  {
   "cell_type": "markdown",
   "metadata": {},
   "source": [
    "## Step 4: Write Polars to Parquet"
   ]
  },
  {
   "cell_type": "code",
   "execution_count": 5,
   "metadata": {
    "execution": {
     "iopub.execute_input": "2025-01-20T18:14:59.480685Z",
     "iopub.status.busy": "2025-01-20T18:14:59.480350Z",
     "iopub.status.idle": "2025-01-20T18:14:59.483972Z",
     "shell.execute_reply": "2025-01-20T18:14:59.483446Z"
    }
   },
   "outputs": [],
   "source": [
    "# Define the output directory\n",
    "output_dir = \"../../../data/finance\"\n",
    "\n",
    "# Write the processed DataFrame to a Parquet file\n",
    "df.write_parquet(f'{output_dir}/commodity_list.parquet')"
   ]
  },
  {
   "cell_type": "markdown",
   "metadata": {},
   "source": [
    "## Step 5: Read Parquet (Validate)"
   ]
  },
  {
   "cell_type": "code",
   "execution_count": 6,
   "metadata": {
    "execution": {
     "iopub.execute_input": "2025-01-20T18:14:59.485995Z",
     "iopub.status.busy": "2025-01-20T18:14:59.485598Z",
     "iopub.status.idle": "2025-01-20T18:14:59.492917Z",
     "shell.execute_reply": "2025-01-20T18:14:59.492474Z"
    }
   },
   "outputs": [
    {
     "data": {
      "text/html": [
       "<div><style>\n",
       ".dataframe > thead > tr,\n",
       ".dataframe > tbody > tr {\n",
       "  text-align: right;\n",
       "  white-space: pre-wrap;\n",
       "}\n",
       "</style>\n",
       "<small>shape: (0, 0)</small><table border=\"1\" class=\"dataframe\"><thead><tr></tr><tr></tr></thead><tbody></tbody></table></div>"
      ],
      "text/plain": [
       "shape: (0, 0)\n",
       "┌┐\n",
       "╞╡\n",
       "└┘"
      ]
     },
     "execution_count": 6,
     "metadata": {},
     "output_type": "execute_result"
    }
   ],
   "source": [
    "# Validate the output by reading the Parquet file and displaying the first few rows\n",
    "pl.scan_parquet(f'{output_dir}/commodity_list.parquet').head().collect()"
   ]
  }
 ],
 "metadata": {
  "kernelspec": {
   "display_name": ".venv",
   "language": "python",
   "name": "python3"
  },
  "language_info": {
   "codemirror_mode": {
    "name": "ipython",
    "version": 3
   },
   "file_extension": ".py",
   "mimetype": "text/x-python",
   "name": "python",
   "nbconvert_exporter": "python",
   "pygments_lexer": "ipython3",
   "version": "3.12.8"
  }
 },
 "nbformat": 4,
 "nbformat_minor": 2
}
