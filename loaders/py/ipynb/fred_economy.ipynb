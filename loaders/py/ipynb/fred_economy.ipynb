{
 "cells": [
  {
   "cell_type": "markdown",
   "metadata": {},
   "source": [
    "## Step 1: Import Libraries"
   ]
  },
  {
   "cell_type": "code",
   "execution_count": 1,
   "metadata": {
    "execution": {
     "iopub.execute_input": "2025-01-08T17:37:33.056831Z",
     "iopub.status.busy": "2025-01-08T17:37:33.056417Z",
     "iopub.status.idle": "2025-01-08T17:37:33.100312Z",
     "shell.execute_reply": "2025-01-08T17:37:33.099600Z"
    }
   },
   "outputs": [],
   "source": [
    "%run ../make_clean_names.py"
   ]
  },
  {
   "cell_type": "code",
   "execution_count": 2,
   "metadata": {
    "execution": {
     "iopub.execute_input": "2025-01-08T17:37:33.104151Z",
     "iopub.status.busy": "2025-01-08T17:37:33.103849Z",
     "iopub.status.idle": "2025-01-08T17:37:33.156458Z",
     "shell.execute_reply": "2025-01-08T17:37:33.155063Z"
    }
   },
   "outputs": [],
   "source": [
    "import concurrent.futures\n",
    "from concurrent.futures import ThreadPoolExecutor\n",
    "import requests\n",
    "from requests.adapters import HTTPAdapter\n",
    "from urllib3.util.retry import Retry\n",
    "import logging\n",
    "\n",
    "import polars as pl\n",
    "from datetime import datetime, timedelta\n",
    "from dotenv import load_dotenv\n",
    "import os\n",
    "\n",
    "# Load environment variables\n",
    "load_dotenv()\n",
    "\n",
    "logging.basicConfig(level=logging.INFO)\n",
    "logger = logging.getLogger(__name__)\n",
    "\n",
    "def create_session():\n",
    "    session = requests.Session()\n",
    "    retries = Retry(\n",
    "        total=3,\n",
    "        backoff_factor=1,\n",
    "        status_forcelist=[429, 500, 502, 503, 504]\n",
    "    )\n",
    "    session.mount('https://', HTTPAdapter(max_retries=retries, pool_maxsize=10))\n",
    "    return session\n",
    "\n",
    "# Get API key from environment variables\n",
    "FRED_API_KEY = os.getenv('FRED_API_KEY')\n",
    "if not FRED_API_KEY:\n",
    "    raise ValueError(\"FRED_API_KEY not found in environment variables\")"
   ]
  },
  {
   "cell_type": "markdown",
   "metadata": {},
   "source": [
    "## Step 2: Extract Data from FRED into Polars"
   ]
  },
  {
   "cell_type": "code",
   "execution_count": 3,
   "metadata": {
    "execution": {
     "iopub.execute_input": "2025-01-08T17:37:33.159048Z",
     "iopub.status.busy": "2025-01-08T17:37:33.158783Z",
     "iopub.status.idle": "2025-01-08T17:37:33.164479Z",
     "shell.execute_reply": "2025-01-08T17:37:33.163777Z"
    }
   },
   "outputs": [],
   "source": [
    "# Constants\n",
    "FRED_API_BASE_URL = \"https://api.stlouisfed.org/fred/series/observations\"\n",
    "REQUEST_TIMEOUT = 10\n",
    "\n",
    "# Series configurations with direct mapping\n",
    "FRED_SERIES_DESCRIPTIONS = {\n",
    "    'UNRATE': 'Unemployment Rate',\n",
    "    'GDP': 'Gross Domestic Product',\n",
    "    'FPCPITOTLZGUSA': 'Inflation Rate',\n",
    "    'DFF': 'Federal Funds Rate',\n",
    "    'DEXUSEU': 'USD/EUR Exchange Rate'\n",
    "}\n",
    "\n",
    "start_date = '2020-01-01'\n",
    "end_date = datetime.today().strftime('%Y-%m-%d')\n",
    "\n",
    "def fetch_data(series_id: str, api_key: str, session: requests.Session) -> Optional[List[Dict]]:\n",
    "    \"\"\"\n",
    "    Fetch economic data from FRED API for a single series.\n",
    "    \"\"\"\n",
    "    params = {\n",
    "        \"api_key\": api_key,\n",
    "        \"series_id\": series_id,\n",
    "        \"file_type\": \"json\",\n",
    "        \"sort_order\": \"desc\",\n",
    "        \"observation_start\": start_date,\n",
    "    }\n",
    "    \n",
    "    try:\n",
    "        response = session.get(\n",
    "            FRED_API_BASE_URL, \n",
    "            params=params, \n",
    "            timeout=REQUEST_TIMEOUT\n",
    "        )\n",
    "        response.raise_for_status()\n",
    "        \n",
    "        observations = response.json().get('observations', [])\n",
    "        description = FRED_SERIES_DESCRIPTIONS.get(series_id, 'Unknown')\n",
    "        \n",
    "        for obs in observations:\n",
    "            obs['series_id'] = series_id\n",
    "            obs['series_description'] = description\n",
    "                \n",
    "        return observations\n",
    "        \n",
    "    except requests.exceptions.RequestException as e:\n",
    "        logger.error(f\"Error fetching {series_id}: {str(e)}\")\n",
    "        return None\n",
    "    \n",
    "def fetch_all_data(series_ids: List[str], api_key: str) -> List[Dict]:\n",
    "    \"\"\"Fetch data for multiple series concurrently\"\"\"\n",
    "    session = requests.Session()\n",
    "    \n",
    "    with ThreadPoolExecutor(max_workers=min(10, len(series_ids))) as executor:\n",
    "        futures = [\n",
    "            executor.submit(fetch_data, series_id, api_key, session)\n",
    "            for series_id in series_ids\n",
    "        ]\n",
    "        results = []\n",
    "        for f in concurrent.futures.as_completed(futures):\n",
    "            if f.result():\n",
    "                results.extend(f.result())\n",
    "    \n",
    "    return results"
   ]
  },
  {
   "cell_type": "code",
   "execution_count": 4,
   "metadata": {
    "execution": {
     "iopub.execute_input": "2025-01-08T17:37:33.166100Z",
     "iopub.status.busy": "2025-01-08T17:37:33.165958Z",
     "iopub.status.idle": "2025-01-08T17:37:33.532137Z",
     "shell.execute_reply": "2025-01-08T17:37:33.531609Z"
    }
   },
   "outputs": [
    {
     "name": "stderr",
     "output_type": "stream",
     "text": [
      "INFO:__main__:Successfully created DataFrame with 3223 rows\n"
     ]
    },
    {
     "name": "stdout",
     "output_type": "stream",
     "text": [
      "shape: (3_223, 6)\n",
      "┌────────────────┬──────────────┬────────────┬───────┬───────────┬────────────────────┐\n",
      "│ realtime_start ┆ realtime_end ┆ date       ┆ value ┆ series_id ┆ series_description │\n",
      "│ ---            ┆ ---          ┆ ---        ┆ ---   ┆ ---       ┆ ---                │\n",
      "│ str            ┆ str          ┆ str        ┆ str   ┆ str       ┆ str                │\n",
      "╞════════════════╪══════════════╪════════════╪═══════╪═══════════╪════════════════════╡\n",
      "│ 2025-01-08     ┆ 2025-01-08   ┆ 2024-11-01 ┆ 4.2   ┆ UNRATE    ┆ Unemployment Rate  │\n",
      "│ 2025-01-08     ┆ 2025-01-08   ┆ 2024-10-01 ┆ 4.1   ┆ UNRATE    ┆ Unemployment Rate  │\n",
      "│ 2025-01-08     ┆ 2025-01-08   ┆ 2024-09-01 ┆ 4.1   ┆ UNRATE    ┆ Unemployment Rate  │\n",
      "│ 2025-01-08     ┆ 2025-01-08   ┆ 2024-08-01 ┆ 4.2   ┆ UNRATE    ┆ Unemployment Rate  │\n",
      "│ 2025-01-08     ┆ 2025-01-08   ┆ 2024-07-01 ┆ 4.3   ┆ UNRATE    ┆ Unemployment Rate  │\n",
      "│ …              ┆ …            ┆ …          ┆ …     ┆ …         ┆ …                  │\n",
      "│ 2025-01-08     ┆ 2025-01-08   ┆ 2020-01-05 ┆ 1.55  ┆ DFF       ┆ Federal Funds Rate │\n",
      "│ 2025-01-08     ┆ 2025-01-08   ┆ 2020-01-04 ┆ 1.55  ┆ DFF       ┆ Federal Funds Rate │\n",
      "│ 2025-01-08     ┆ 2025-01-08   ┆ 2020-01-03 ┆ 1.55  ┆ DFF       ┆ Federal Funds Rate │\n",
      "│ 2025-01-08     ┆ 2025-01-08   ┆ 2020-01-02 ┆ 1.55  ┆ DFF       ┆ Federal Funds Rate │\n",
      "│ 2025-01-08     ┆ 2025-01-08   ┆ 2020-01-01 ┆ 1.55  ┆ DFF       ┆ Federal Funds Rate │\n",
      "└────────────────┴──────────────┴────────────┴───────┴───────────┴────────────────────┘\n"
     ]
    }
   ],
   "source": [
    "# Execute fetching and create DataFrame\n",
    "try:\n",
    "    data = fetch_all_data(list(FRED_SERIES_DESCRIPTIONS.keys()), FRED_API_KEY)\n",
    "    if data:\n",
    "        df = pl.DataFrame(data)\n",
    "        logger.info(f\"Successfully created DataFrame with {len(df)} rows\")\n",
    "        print(df)\n",
    "    else:\n",
    "        logger.error(\"No data received from FRED API\")\n",
    "except Exception as e:\n",
    "    logger.error(f\"Error processing data: {str(e)}\")"
   ]
  },
  {
   "cell_type": "markdown",
   "metadata": {},
   "source": [
    "## Step 4: Clean Column Names"
   ]
  },
  {
   "cell_type": "code",
   "execution_count": 5,
   "metadata": {
    "execution": {
     "iopub.execute_input": "2025-01-08T17:37:33.556151Z",
     "iopub.status.busy": "2025-01-08T17:37:33.555951Z",
     "iopub.status.idle": "2025-01-08T17:37:33.560459Z",
     "shell.execute_reply": "2025-01-08T17:37:33.559958Z"
    }
   },
   "outputs": [],
   "source": [
    "df = make_clean_names(df)"
   ]
  },
  {
   "cell_type": "code",
   "execution_count": 6,
   "metadata": {
    "execution": {
     "iopub.execute_input": "2025-01-08T17:37:33.562813Z",
     "iopub.status.busy": "2025-01-08T17:37:33.562430Z",
     "iopub.status.idle": "2025-01-08T17:37:33.568559Z",
     "shell.execute_reply": "2025-01-08T17:37:33.568072Z"
    }
   },
   "outputs": [],
   "source": [
    "df = df.select(\"date\", \"series_id\", \"series_description\", \"value\")"
   ]
  },
  {
   "cell_type": "code",
   "execution_count": 7,
   "metadata": {
    "execution": {
     "iopub.execute_input": "2025-01-08T17:37:33.570604Z",
     "iopub.status.busy": "2025-01-08T17:37:33.570362Z",
     "iopub.status.idle": "2025-01-08T17:37:33.576621Z",
     "shell.execute_reply": "2025-01-08T17:37:33.575940Z"
    }
   },
   "outputs": [
    {
     "data": {
      "text/html": [
       "<div><style>\n",
       ".dataframe > thead > tr,\n",
       ".dataframe > tbody > tr {\n",
       "  text-align: right;\n",
       "  white-space: pre-wrap;\n",
       "}\n",
       "</style>\n",
       "<small>shape: (3_223, 4)</small><table border=\"1\" class=\"dataframe\"><thead><tr><th>date</th><th>series_id</th><th>series_description</th><th>value</th></tr><tr><td>str</td><td>str</td><td>str</td><td>str</td></tr></thead><tbody><tr><td>&quot;2024-11-01&quot;</td><td>&quot;UNRATE&quot;</td><td>&quot;Unemployment Rate&quot;</td><td>&quot;4.2&quot;</td></tr><tr><td>&quot;2024-10-01&quot;</td><td>&quot;UNRATE&quot;</td><td>&quot;Unemployment Rate&quot;</td><td>&quot;4.1&quot;</td></tr><tr><td>&quot;2024-09-01&quot;</td><td>&quot;UNRATE&quot;</td><td>&quot;Unemployment Rate&quot;</td><td>&quot;4.1&quot;</td></tr><tr><td>&quot;2024-08-01&quot;</td><td>&quot;UNRATE&quot;</td><td>&quot;Unemployment Rate&quot;</td><td>&quot;4.2&quot;</td></tr><tr><td>&quot;2024-07-01&quot;</td><td>&quot;UNRATE&quot;</td><td>&quot;Unemployment Rate&quot;</td><td>&quot;4.3&quot;</td></tr><tr><td>&hellip;</td><td>&hellip;</td><td>&hellip;</td><td>&hellip;</td></tr><tr><td>&quot;2020-01-05&quot;</td><td>&quot;DFF&quot;</td><td>&quot;Federal Funds Rate&quot;</td><td>&quot;1.55&quot;</td></tr><tr><td>&quot;2020-01-04&quot;</td><td>&quot;DFF&quot;</td><td>&quot;Federal Funds Rate&quot;</td><td>&quot;1.55&quot;</td></tr><tr><td>&quot;2020-01-03&quot;</td><td>&quot;DFF&quot;</td><td>&quot;Federal Funds Rate&quot;</td><td>&quot;1.55&quot;</td></tr><tr><td>&quot;2020-01-02&quot;</td><td>&quot;DFF&quot;</td><td>&quot;Federal Funds Rate&quot;</td><td>&quot;1.55&quot;</td></tr><tr><td>&quot;2020-01-01&quot;</td><td>&quot;DFF&quot;</td><td>&quot;Federal Funds Rate&quot;</td><td>&quot;1.55&quot;</td></tr></tbody></table></div>"
      ],
      "text/plain": [
       "shape: (3_223, 4)\n",
       "┌────────────┬───────────┬────────────────────┬───────┐\n",
       "│ date       ┆ series_id ┆ series_description ┆ value │\n",
       "│ ---        ┆ ---       ┆ ---                ┆ ---   │\n",
       "│ str        ┆ str       ┆ str                ┆ str   │\n",
       "╞════════════╪═══════════╪════════════════════╪═══════╡\n",
       "│ 2024-11-01 ┆ UNRATE    ┆ Unemployment Rate  ┆ 4.2   │\n",
       "│ 2024-10-01 ┆ UNRATE    ┆ Unemployment Rate  ┆ 4.1   │\n",
       "│ 2024-09-01 ┆ UNRATE    ┆ Unemployment Rate  ┆ 4.1   │\n",
       "│ 2024-08-01 ┆ UNRATE    ┆ Unemployment Rate  ┆ 4.2   │\n",
       "│ 2024-07-01 ┆ UNRATE    ┆ Unemployment Rate  ┆ 4.3   │\n",
       "│ …          ┆ …         ┆ …                  ┆ …     │\n",
       "│ 2020-01-05 ┆ DFF       ┆ Federal Funds Rate ┆ 1.55  │\n",
       "│ 2020-01-04 ┆ DFF       ┆ Federal Funds Rate ┆ 1.55  │\n",
       "│ 2020-01-03 ┆ DFF       ┆ Federal Funds Rate ┆ 1.55  │\n",
       "│ 2020-01-02 ┆ DFF       ┆ Federal Funds Rate ┆ 1.55  │\n",
       "│ 2020-01-01 ┆ DFF       ┆ Federal Funds Rate ┆ 1.55  │\n",
       "└────────────┴───────────┴────────────────────┴───────┘"
      ]
     },
     "execution_count": 7,
     "metadata": {},
     "output_type": "execute_result"
    }
   ],
   "source": [
    "df"
   ]
  },
  {
   "cell_type": "markdown",
   "metadata": {},
   "source": [
    "## Step 5: Write Polars to Parquet"
   ]
  },
  {
   "cell_type": "code",
   "execution_count": 8,
   "metadata": {
    "execution": {
     "iopub.execute_input": "2025-01-08T17:37:33.578445Z",
     "iopub.status.busy": "2025-01-08T17:37:33.578293Z",
     "iopub.status.idle": "2025-01-08T17:37:33.595282Z",
     "shell.execute_reply": "2025-01-08T17:37:33.594636Z"
    }
   },
   "outputs": [],
   "source": [
    "output_dir = \"../../../data/finance\"\n",
    "\n",
    "# Write DataFrame to Parquet\n",
    "df.write_parquet(f'{output_dir}/fred_macro_economy.parquet')"
   ]
  },
  {
   "cell_type": "markdown",
   "metadata": {},
   "source": [
    "## Step 6: Read Parquet (Validate)"
   ]
  },
  {
   "cell_type": "code",
   "execution_count": 9,
   "metadata": {
    "execution": {
     "iopub.execute_input": "2025-01-08T17:37:33.597136Z",
     "iopub.status.busy": "2025-01-08T17:37:33.596840Z",
     "iopub.status.idle": "2025-01-08T17:37:33.601448Z",
     "shell.execute_reply": "2025-01-08T17:37:33.600962Z"
    }
   },
   "outputs": [
    {
     "data": {
      "text/html": [
       "<div><style>\n",
       ".dataframe > thead > tr,\n",
       ".dataframe > tbody > tr {\n",
       "  text-align: right;\n",
       "  white-space: pre-wrap;\n",
       "}\n",
       "</style>\n",
       "<small>shape: (5, 4)</small><table border=\"1\" class=\"dataframe\"><thead><tr><th>date</th><th>series_id</th><th>series_description</th><th>value</th></tr><tr><td>str</td><td>str</td><td>str</td><td>str</td></tr></thead><tbody><tr><td>&quot;2024-11-01&quot;</td><td>&quot;UNRATE&quot;</td><td>&quot;Unemployment Rate&quot;</td><td>&quot;4.2&quot;</td></tr><tr><td>&quot;2024-10-01&quot;</td><td>&quot;UNRATE&quot;</td><td>&quot;Unemployment Rate&quot;</td><td>&quot;4.1&quot;</td></tr><tr><td>&quot;2024-09-01&quot;</td><td>&quot;UNRATE&quot;</td><td>&quot;Unemployment Rate&quot;</td><td>&quot;4.1&quot;</td></tr><tr><td>&quot;2024-08-01&quot;</td><td>&quot;UNRATE&quot;</td><td>&quot;Unemployment Rate&quot;</td><td>&quot;4.2&quot;</td></tr><tr><td>&quot;2024-07-01&quot;</td><td>&quot;UNRATE&quot;</td><td>&quot;Unemployment Rate&quot;</td><td>&quot;4.3&quot;</td></tr></tbody></table></div>"
      ],
      "text/plain": [
       "shape: (5, 4)\n",
       "┌────────────┬───────────┬────────────────────┬───────┐\n",
       "│ date       ┆ series_id ┆ series_description ┆ value │\n",
       "│ ---        ┆ ---       ┆ ---                ┆ ---   │\n",
       "│ str        ┆ str       ┆ str                ┆ str   │\n",
       "╞════════════╪═══════════╪════════════════════╪═══════╡\n",
       "│ 2024-11-01 ┆ UNRATE    ┆ Unemployment Rate  ┆ 4.2   │\n",
       "│ 2024-10-01 ┆ UNRATE    ┆ Unemployment Rate  ┆ 4.1   │\n",
       "│ 2024-09-01 ┆ UNRATE    ┆ Unemployment Rate  ┆ 4.1   │\n",
       "│ 2024-08-01 ┆ UNRATE    ┆ Unemployment Rate  ┆ 4.2   │\n",
       "│ 2024-07-01 ┆ UNRATE    ┆ Unemployment Rate  ┆ 4.3   │\n",
       "└────────────┴───────────┴────────────────────┴───────┘"
      ]
     },
     "execution_count": 9,
     "metadata": {},
     "output_type": "execute_result"
    }
   ],
   "source": [
    "pl.scan_parquet(f'{output_dir}/fred_macro_economy.parquet').head().collect()"
   ]
  }
 ],
 "metadata": {
  "kernelspec": {
   "display_name": ".venv",
   "language": "python",
   "name": "python3"
  },
  "language_info": {
   "codemirror_mode": {
    "name": "ipython",
    "version": 3
   },
   "file_extension": ".py",
   "mimetype": "text/x-python",
   "name": "python",
   "nbconvert_exporter": "python",
   "pygments_lexer": "ipython3",
   "version": "3.12.3"
  }
 },
 "nbformat": 4,
 "nbformat_minor": 2
}
