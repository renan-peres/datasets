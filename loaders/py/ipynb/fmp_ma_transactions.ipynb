{
 "cells": [
  {
   "cell_type": "markdown",
   "metadata": {},
   "source": [
    "## Step 1: Import Libraries"
   ]
  },
  {
   "cell_type": "code",
   "execution_count": 1,
   "metadata": {
    "execution": {
     "iopub.execute_input": "2025-01-28T13:44:51.958202Z",
     "iopub.status.busy": "2025-01-28T13:44:51.958029Z",
     "iopub.status.idle": "2025-01-28T13:44:52.022301Z",
     "shell.execute_reply": "2025-01-28T13:44:52.021726Z"
    }
   },
   "outputs": [],
   "source": [
    "%run ../make_clean_names.py"
   ]
  },
  {
   "cell_type": "code",
   "execution_count": 2,
   "metadata": {
    "execution": {
     "iopub.execute_input": "2025-01-28T13:44:52.024263Z",
     "iopub.status.busy": "2025-01-28T13:44:52.024080Z",
     "iopub.status.idle": "2025-01-28T13:44:52.088899Z",
     "shell.execute_reply": "2025-01-28T13:44:52.088439Z"
    }
   },
   "outputs": [],
   "source": [
    "import requests\n",
    "from requests.adapters import HTTPAdapter\n",
    "from urllib3.util.retry import Retry\n",
    "import logging\n",
    "\n",
    "import polars as pl\n",
    "from typing import List, Dict, Any\n",
    "from dotenv import load_dotenv\n",
    "import os\n",
    "\n",
    "# Load environment variables\n",
    "load_dotenv()\n",
    "\n",
    "logging.basicConfig(level=logging.INFO)\n",
    "logger = logging.getLogger(__name__)\n",
    "\n",
    "def create_session():\n",
    "    session = requests.Session()\n",
    "    retries = Retry(\n",
    "        total=3,\n",
    "        backoff_factor=1,\n",
    "        status_forcelist=[429, 500, 502, 503, 504]\n",
    "    )\n",
    "    session.mount('https://', HTTPAdapter(max_retries=retries, pool_maxsize=10))\n",
    "    return session\n",
    "\n",
    "# Get API key from environment variables\n",
    "FMP_API_KEY = os.getenv('FMP_API_KEY')\n",
    "if not FMP_API_KEY:\n",
    "    raise ValueError(\"FMP_API_KEY not found in environment variables\")"
   ]
  },
  {
   "cell_type": "markdown",
   "metadata": {},
   "source": [
    "## Step 2: Extract Data from FMP into Polars"
   ]
  },
  {
   "cell_type": "code",
   "execution_count": 3,
   "metadata": {
    "execution": {
     "iopub.execute_input": "2025-01-28T13:44:52.090866Z",
     "iopub.status.busy": "2025-01-28T13:44:52.090510Z",
     "iopub.status.idle": "2025-01-28T13:45:04.816834Z",
     "shell.execute_reply": "2025-01-28T13:45:04.816341Z"
    }
   },
   "outputs": [
    {
     "name": "stderr",
     "output_type": "stream",
     "text": [
      "INFO:__main__:Fetching page 0\n"
     ]
    },
    {
     "name": "stderr",
     "output_type": "stream",
     "text": [
      "ERROR:__main__:Error fetching page 0: HTTPSConnectionPool(host='financialmodelingprep.com', port=443): Max retries exceeded with url: /api/v4/mergers-acquisitions-rss-feed?page=0&apikey=PBkrv7HEcbYqq5BmXIRgFjfxzbLzuKmI (Caused by ResponseError('too many 429 error responses'))\n"
     ]
    },
    {
     "name": "stderr",
     "output_type": "stream",
     "text": [
      "INFO:__main__:Fetching page 1\n"
     ]
    },
    {
     "name": "stderr",
     "output_type": "stream",
     "text": [
      "INFO:__main__:Fetching page 2\n"
     ]
    },
    {
     "name": "stderr",
     "output_type": "stream",
     "text": [
      "INFO:__main__:Fetching page 3\n"
     ]
    },
    {
     "name": "stderr",
     "output_type": "stream",
     "text": [
      "INFO:__main__:Fetching page 4\n"
     ]
    },
    {
     "name": "stderr",
     "output_type": "stream",
     "text": [
      "INFO:__main__:Fetching page 5\n"
     ]
    }
   ],
   "source": [
    "def fetch_ma_data(api_key: str, session: requests.Session, start_page: int = 0, end_page: int = 5) -> List[Dict]:\n",
    "    \"\"\"\n",
    "    Fetch historical M&A data from FMP API with pagination\n",
    "    Args:\n",
    "        api_key: FMP API key\n",
    "        session: requests session\n",
    "        start_page: starting page number (default 0)\n",
    "        end_page: ending page number (default 5)\n",
    "    \"\"\"\n",
    "    all_results = []\n",
    "    url = \"https://financialmodelingprep.com/api/v4/mergers-acquisitions-rss-feed\"\n",
    "    \n",
    "    for page in range(start_page, end_page + 1):\n",
    "        params = {\n",
    "            \"page\": page,\n",
    "            \"apikey\": api_key\n",
    "        }\n",
    "        \n",
    "        try:\n",
    "            logger.info(f\"Fetching page {page}\")\n",
    "            response = session.get(url, params=params, timeout=10)\n",
    "            response.raise_for_status()\n",
    "            page_data = response.json()\n",
    "            all_results.extend(page_data)\n",
    "        except Exception as e:\n",
    "            logger.error(f\"Error fetching page {page}: {str(e)}\")\n",
    "            continue\n",
    "            \n",
    "    return all_results\n",
    "\n",
    "session = create_session()\n",
    "\n",
    "# Fetch data from all pages\n",
    "ma_data = fetch_ma_data(FMP_API_KEY, session)\n",
    "\n",
    "# Convert to Polars DataFrame if data exists\n",
    "if ma_data:\n",
    "    df = pl.DataFrame(ma_data)"
   ]
  },
  {
   "cell_type": "markdown",
   "metadata": {},
   "source": [
    "## Step 3: Clean Column Names"
   ]
  },
  {
   "cell_type": "code",
   "execution_count": 4,
   "metadata": {
    "execution": {
     "iopub.execute_input": "2025-01-28T13:45:04.819105Z",
     "iopub.status.busy": "2025-01-28T13:45:04.818670Z",
     "iopub.status.idle": "2025-01-28T13:45:04.823249Z",
     "shell.execute_reply": "2025-01-28T13:45:04.822811Z"
    }
   },
   "outputs": [],
   "source": [
    "df = make_clean_names(df)"
   ]
  },
  {
   "cell_type": "markdown",
   "metadata": {},
   "source": [
    "## Step 4: Write Polars to Parquet"
   ]
  },
  {
   "cell_type": "code",
   "execution_count": 5,
   "metadata": {
    "execution": {
     "iopub.execute_input": "2025-01-28T13:45:04.825225Z",
     "iopub.status.busy": "2025-01-28T13:45:04.824821Z",
     "iopub.status.idle": "2025-01-28T13:45:04.831073Z",
     "shell.execute_reply": "2025-01-28T13:45:04.830594Z"
    }
   },
   "outputs": [],
   "source": [
    "# Define the output directory\n",
    "output_dir = \"../../../data/finance\"\n",
    "\n",
    "# Write the processed DataFrame to a Parquet file\n",
    "df.write_parquet(f'{output_dir}/historical_ma_transactions.parquet')"
   ]
  },
  {
   "cell_type": "markdown",
   "metadata": {},
   "source": [
    "## Step 5: Read Parquet (Validate)"
   ]
  },
  {
   "cell_type": "code",
   "execution_count": 6,
   "metadata": {
    "execution": {
     "iopub.execute_input": "2025-01-28T13:45:04.833081Z",
     "iopub.status.busy": "2025-01-28T13:45:04.832741Z",
     "iopub.status.idle": "2025-01-28T13:45:04.840097Z",
     "shell.execute_reply": "2025-01-28T13:45:04.839508Z"
    }
   },
   "outputs": [
    {
     "data": {
      "text/html": [
       "<div><style>\n",
       ".dataframe > thead > tr,\n",
       ".dataframe > tbody > tr {\n",
       "  text-align: right;\n",
       "  white-space: pre-wrap;\n",
       "}\n",
       "</style>\n",
       "<small>shape: (5, 9)</small><table border=\"1\" class=\"dataframe\"><thead><tr><th>company_name</th><th>cik</th><th>symbol</th><th>targeted_company_name</th><th>targeted_cik</th><th>targeted_symbol</th><th>transaction_date</th><th>acceptance_time</th><th>url</th></tr><tr><td>str</td><td>str</td><td>str</td><td>str</td><td>str</td><td>str</td><td>str</td><td>str</td><td>str</td></tr></thead><tbody><tr><td>&quot;SWIFTMERGE ACQUISITION CORP.&quot;</td><td>&quot;0001845123&quot;</td><td>&quot;IVCPU&quot;</td><td>&quot;SPAC AT&quot;</td><td>null</td><td>&quot;ANNA&quot;</td><td>&quot;2024-07-03&quot;</td><td>&quot;2024-07-03 21:26:35&quot;</td><td>&quot;https://www.sec.gov/Archives/e…</td></tr><tr><td>&quot;SWIFTMERGE ACQUISITION CORP.&quot;</td><td>&quot;0001845123&quot;</td><td>&quot;IVCP&quot;</td><td>&quot;SPAC AT&quot;</td><td>null</td><td>&quot;ANNA&quot;</td><td>&quot;2024-07-03&quot;</td><td>&quot;2024-07-03 21:26:35&quot;</td><td>&quot;https://www.sec.gov/Archives/e…</td></tr><tr><td>&quot;SWIFTMERGE ACQUISITION CORP.&quot;</td><td>&quot;0001845123&quot;</td><td>&quot;IVCPW&quot;</td><td>&quot;SPAC AT&quot;</td><td>null</td><td>&quot;ANNA&quot;</td><td>&quot;2024-07-03&quot;</td><td>&quot;2024-07-03 21:26:35&quot;</td><td>&quot;https://www.sec.gov/Archives/e…</td></tr><tr><td>&quot;UNITED BANKSHARES INC/WV&quot;</td><td>&quot;0000729986&quot;</td><td>&quot;UBSI&quot;</td><td>&quot;PIEDMONT BANK&quot;</td><td>null</td><td>null</td><td>&quot;2024-07-03&quot;</td><td>&quot;2024-07-03 14:12:13&quot;</td><td>&quot;https://www.sec.gov/Archives/e…</td></tr><tr><td>&quot;ACRI CAPITAL MERGER SUB I INC.&quot;</td><td>&quot;0002013807&quot;</td><td>&quot;FOXX&quot;</td><td>&quot;ACRI CAPITAL ACQUISITION CORPO…</td><td>&quot;0001914023&quot;</td><td>&quot;ACACU&quot;</td><td>&quot;2024-06-28&quot;</td><td>&quot;2024-06-28 17:29:32&quot;</td><td>&quot;https://www.sec.gov/Archives/e…</td></tr></tbody></table></div>"
      ],
      "text/plain": [
       "shape: (5, 9)\n",
       "┌────────────┬────────────┬────────┬───────────┬───┬───────────┬───────────┬───────────┬───────────┐\n",
       "│ company_na ┆ cik        ┆ symbol ┆ targeted_ ┆ … ┆ targeted_ ┆ transacti ┆ acceptanc ┆ url       │\n",
       "│ me         ┆ ---        ┆ ---    ┆ company_n ┆   ┆ symbol    ┆ on_date   ┆ e_time    ┆ ---       │\n",
       "│ ---        ┆ str        ┆ str    ┆ ame       ┆   ┆ ---       ┆ ---       ┆ ---       ┆ str       │\n",
       "│ str        ┆            ┆        ┆ ---       ┆   ┆ str       ┆ str       ┆ str       ┆           │\n",
       "│            ┆            ┆        ┆ str       ┆   ┆           ┆           ┆           ┆           │\n",
       "╞════════════╪════════════╪════════╪═══════════╪═══╪═══════════╪═══════════╪═══════════╪═══════════╡\n",
       "│ SWIFTMERGE ┆ 0001845123 ┆ IVCPU  ┆ SPAC AT   ┆ … ┆ ANNA      ┆ 2024-07-0 ┆ 2024-07-0 ┆ https://w │\n",
       "│ ACQUISITIO ┆            ┆        ┆           ┆   ┆           ┆ 3         ┆ 3         ┆ ww.sec.go │\n",
       "│ N CORP.    ┆            ┆        ┆           ┆   ┆           ┆           ┆ 21:26:35  ┆ v/Archive │\n",
       "│            ┆            ┆        ┆           ┆   ┆           ┆           ┆           ┆ s/e…      │\n",
       "│ SWIFTMERGE ┆ 0001845123 ┆ IVCP   ┆ SPAC AT   ┆ … ┆ ANNA      ┆ 2024-07-0 ┆ 2024-07-0 ┆ https://w │\n",
       "│ ACQUISITIO ┆            ┆        ┆           ┆   ┆           ┆ 3         ┆ 3         ┆ ww.sec.go │\n",
       "│ N CORP.    ┆            ┆        ┆           ┆   ┆           ┆           ┆ 21:26:35  ┆ v/Archive │\n",
       "│            ┆            ┆        ┆           ┆   ┆           ┆           ┆           ┆ s/e…      │\n",
       "│ SWIFTMERGE ┆ 0001845123 ┆ IVCPW  ┆ SPAC AT   ┆ … ┆ ANNA      ┆ 2024-07-0 ┆ 2024-07-0 ┆ https://w │\n",
       "│ ACQUISITIO ┆            ┆        ┆           ┆   ┆           ┆ 3         ┆ 3         ┆ ww.sec.go │\n",
       "│ N CORP.    ┆            ┆        ┆           ┆   ┆           ┆           ┆ 21:26:35  ┆ v/Archive │\n",
       "│            ┆            ┆        ┆           ┆   ┆           ┆           ┆           ┆ s/e…      │\n",
       "│ UNITED     ┆ 0000729986 ┆ UBSI   ┆ PIEDMONT  ┆ … ┆ null      ┆ 2024-07-0 ┆ 2024-07-0 ┆ https://w │\n",
       "│ BANKSHARES ┆            ┆        ┆ BANK      ┆   ┆           ┆ 3         ┆ 3         ┆ ww.sec.go │\n",
       "│ INC/WV     ┆            ┆        ┆           ┆   ┆           ┆           ┆ 14:12:13  ┆ v/Archive │\n",
       "│            ┆            ┆        ┆           ┆   ┆           ┆           ┆           ┆ s/e…      │\n",
       "│ ACRI       ┆ 0002013807 ┆ FOXX   ┆ ACRI      ┆ … ┆ ACACU     ┆ 2024-06-2 ┆ 2024-06-2 ┆ https://w │\n",
       "│ CAPITAL    ┆            ┆        ┆ CAPITAL   ┆   ┆           ┆ 8         ┆ 8         ┆ ww.sec.go │\n",
       "│ MERGER SUB ┆            ┆        ┆ ACQUISITI ┆   ┆           ┆           ┆ 17:29:32  ┆ v/Archive │\n",
       "│ I INC.     ┆            ┆        ┆ ON CORPO… ┆   ┆           ┆           ┆           ┆ s/e…      │\n",
       "└────────────┴────────────┴────────┴───────────┴───┴───────────┴───────────┴───────────┴───────────┘"
      ]
     },
     "execution_count": 6,
     "metadata": {},
     "output_type": "execute_result"
    }
   ],
   "source": [
    "# Validate the output by reading the Parquet file and displaying the first few rows\n",
    "pl.scan_parquet(f'{output_dir}/historical_ma_transactions.parquet').head().collect()"
   ]
  }
 ],
 "metadata": {
  "kernelspec": {
   "display_name": ".venv",
   "language": "python",
   "name": "python3"
  },
  "language_info": {
   "codemirror_mode": {
    "name": "ipython",
    "version": 3
   },
   "file_extension": ".py",
   "mimetype": "text/x-python",
   "name": "python",
   "nbconvert_exporter": "python",
   "pygments_lexer": "ipython3",
   "version": "3.12.8"
  }
 },
 "nbformat": 4,
 "nbformat_minor": 2
}
