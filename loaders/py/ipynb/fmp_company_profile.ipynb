{
 "cells": [
  {
   "cell_type": "markdown",
   "metadata": {},
   "source": [
    "## Step 1: Import Libraries"
   ]
  },
  {
   "cell_type": "code",
   "execution_count": 1,
   "metadata": {
    "execution": {
     "iopub.execute_input": "2025-01-22T10:04:57.539112Z",
     "iopub.status.busy": "2025-01-22T10:04:57.538939Z",
     "iopub.status.idle": "2025-01-22T10:04:57.603757Z",
     "shell.execute_reply": "2025-01-22T10:04:57.603211Z"
    }
   },
   "outputs": [],
   "source": [
    "%run ../make_clean_names.py"
   ]
  },
  {
   "cell_type": "code",
   "execution_count": 2,
   "metadata": {
    "execution": {
     "iopub.execute_input": "2025-01-22T10:04:57.605979Z",
     "iopub.status.busy": "2025-01-22T10:04:57.605766Z",
     "iopub.status.idle": "2025-01-22T10:04:57.672151Z",
     "shell.execute_reply": "2025-01-22T10:04:57.671531Z"
    }
   },
   "outputs": [],
   "source": [
    "import concurrent.futures\n",
    "from concurrent.futures import ThreadPoolExecutor\n",
    "import requests\n",
    "from requests.adapters import HTTPAdapter\n",
    "from urllib3.util.retry import Retry\n",
    "import logging\n",
    "\n",
    "import polars as pl\n",
    "from datetime import datetime, timedelta\n",
    "from dotenv import load_dotenv\n",
    "import os\n",
    "\n",
    "# Load environment variables\n",
    "load_dotenv()\n",
    "\n",
    "logging.basicConfig(level=logging.INFO)\n",
    "logger = logging.getLogger(__name__)\n",
    "\n",
    "def create_session():\n",
    "    session = requests.Session()\n",
    "    retries = Retry(\n",
    "        total=3,\n",
    "        backoff_factor=1,\n",
    "        status_forcelist=[429, 500, 502, 503, 504]\n",
    "    )\n",
    "    session.mount('https://', HTTPAdapter(max_retries=retries, pool_maxsize=10))\n",
    "    return session\n",
    "\n",
    "# Get API key from environment variables\n",
    "FMP_API_KEY = os.getenv('FMP_API_KEY')\n",
    "if not FMP_API_KEY:\n",
    "    raise ValueError(\"FMP_API_KEY not found in environment variables\")"
   ]
  },
  {
   "cell_type": "markdown",
   "metadata": {},
   "source": [
    "## Step 2: Import Symbols"
   ]
  },
  {
   "cell_type": "code",
   "execution_count": 3,
   "metadata": {
    "execution": {
     "iopub.execute_input": "2025-01-22T10:04:57.674344Z",
     "iopub.status.busy": "2025-01-22T10:04:57.674151Z",
     "iopub.status.idle": "2025-01-22T10:04:57.678839Z",
     "shell.execute_reply": "2025-01-22T10:04:57.678327Z"
    }
   },
   "outputs": [
    {
     "name": "stdout",
     "output_type": "stream",
     "text": [
      "Loaded 61 symbols from ../tickers.txt\n",
      "Symbols: ['AAPL', 'MSFT', 'GOOGL', 'GOOG', 'META', 'NVDA', 'AVGO', 'ORCL', 'CRM', 'ACN', 'ADBE', 'CSCO', 'INTC', 'NFLX', 'DIS', 'CMCSA', 'VZ', 'T', 'AMZN', 'TSLA', 'HD', 'MCD', 'NKE', 'SBUX', 'TGT', 'LOW', 'WMT', 'PG', 'KO', 'PEP', 'COST', 'BRK-B', 'JPM', 'BAC', 'WFC', 'GS', 'MS', 'BLK', 'UNH', 'JNJ', 'PFE', 'ABBV', 'MRK', 'LLY', 'CAT', 'BA', 'HON', 'UPS', 'RTX', 'GE', 'XOM', 'CVX', 'COP', 'SLB', 'LIN', 'APD', 'ECL', 'PLD', 'AMT', 'CCI', 'OSW']\n"
     ]
    }
   ],
   "source": [
    "def load_symbols(file_path: str) -> List[str]:\n",
    "    \"\"\"Load symbols from a text file\"\"\"\n",
    "    try:\n",
    "        with open(file_path, 'r') as f:\n",
    "            symbols = [line.strip() for line in f if line.strip()]\n",
    "        print(f\"Loaded {len(symbols)} symbols from {file_path}\")\n",
    "        return symbols\n",
    "    except Exception as e:\n",
    "        print(f\"Error loading symbols: {str(e)}\")\n",
    "        return []\n",
    "\n",
    "symbols_file = '../tickers.txt'\n",
    "symbols = load_symbols(symbols_file)\n",
    "\n",
    "if symbols:\n",
    "    print(\"Symbols:\", symbols)\n",
    "else:\n",
    "    print(\"No symbols loaded.\")"
   ]
  },
  {
   "cell_type": "markdown",
   "metadata": {},
   "source": [
    "## Step 3: Extract Data from FMP into Polars"
   ]
  },
  {
   "cell_type": "code",
   "execution_count": 4,
   "metadata": {
    "execution": {
     "iopub.execute_input": "2025-01-22T10:04:57.718130Z",
     "iopub.status.busy": "2025-01-22T10:04:57.717674Z",
     "iopub.status.idle": "2025-01-22T10:05:05.635492Z",
     "shell.execute_reply": "2025-01-22T10:05:05.634903Z"
    }
   },
   "outputs": [],
   "source": [
    "def fetch_company_profile(symbol: str, api_key: str, session: requests.Session) -> Dict:\n",
    "    \"\"\"Fetch company profile data from FMP API\"\"\"\n",
    "    url = f\"https://financialmodelingprep.com/api/v3/profile/{symbol}\"\n",
    "    params = {\"apikey\": api_key}\n",
    "    \n",
    "    try:\n",
    "        response = session.get(url, params=params, timeout=10)\n",
    "        response.raise_for_status()\n",
    "        return response.json()\n",
    "    except Exception as e:\n",
    "        logger.error(f\"Error fetching {symbol}: {str(e)}\")\n",
    "        return None\n",
    "\n",
    "def fetch_all_profiles(symbols: List[str], api_key: str) -> List[Dict]:\n",
    "    session = create_session()\n",
    "    \n",
    "    with ThreadPoolExecutor(max_workers=10) as executor:\n",
    "        futures = [\n",
    "            executor.submit(fetch_company_profile, symbol, api_key, session)\n",
    "            for symbol in symbols\n",
    "        ]\n",
    "        results = [\n",
    "            f.result() for f in concurrent.futures.as_completed(futures)\n",
    "        ]\n",
    "    \n",
    "    return [r[0] for r in results if r and isinstance(r, list)]\n",
    "\n",
    "# Execute fetching\n",
    "company_profiles = fetch_all_profiles(symbols, FMP_API_KEY)\n",
    "\n",
    "# Convert to Polars DataFrame more efficiently\n",
    "if company_profiles:\n",
    "    df = pl.DataFrame(company_profiles)"
   ]
  },
  {
   "cell_type": "markdown",
   "metadata": {},
   "source": [
    "## Step 4: Clean Column Names"
   ]
  },
  {
   "cell_type": "code",
   "execution_count": 5,
   "metadata": {
    "execution": {
     "iopub.execute_input": "2025-01-22T10:05:05.637956Z",
     "iopub.status.busy": "2025-01-22T10:05:05.637483Z",
     "iopub.status.idle": "2025-01-22T10:05:05.642692Z",
     "shell.execute_reply": "2025-01-22T10:05:05.642160Z"
    }
   },
   "outputs": [],
   "source": [
    "df = make_clean_names(df)"
   ]
  },
  {
   "cell_type": "markdown",
   "metadata": {},
   "source": [
    "## Step 5: Write Polars to Parquet"
   ]
  },
  {
   "cell_type": "code",
   "execution_count": 6,
   "metadata": {
    "execution": {
     "iopub.execute_input": "2025-01-22T10:05:05.644602Z",
     "iopub.status.busy": "2025-01-22T10:05:05.644327Z",
     "iopub.status.idle": "2025-01-22T10:05:05.651587Z",
     "shell.execute_reply": "2025-01-22T10:05:05.651097Z"
    }
   },
   "outputs": [],
   "source": [
    "output_dir = \"../../../data/finance\"\n",
    "\n",
    "# Write DataFrame to Parquet\n",
    "df.write_parquet(f'{output_dir}/company_profile.parquet')"
   ]
  },
  {
   "cell_type": "markdown",
   "metadata": {},
   "source": [
    "## Step 6: Read Parquet (Validate)"
   ]
  },
  {
   "cell_type": "code",
   "execution_count": 7,
   "metadata": {
    "execution": {
     "iopub.execute_input": "2025-01-22T10:05:05.653818Z",
     "iopub.status.busy": "2025-01-22T10:05:05.653525Z",
     "iopub.status.idle": "2025-01-22T10:05:05.662351Z",
     "shell.execute_reply": "2025-01-22T10:05:05.661821Z"
    }
   },
   "outputs": [
    {
     "data": {
      "text/html": [
       "<div><style>\n",
       ".dataframe > thead > tr,\n",
       ".dataframe > tbody > tr {\n",
       "  text-align: right;\n",
       "  white-space: pre-wrap;\n",
       "}\n",
       "</style>\n",
       "<small>shape: (5, 36)</small><table border=\"1\" class=\"dataframe\"><thead><tr><th>symbol</th><th>price</th><th>beta</th><th>vol_avg</th><th>mkt_cap</th><th>last_div</th><th>range</th><th>changes</th><th>company_name</th><th>currency</th><th>cik</th><th>isin</th><th>cusip</th><th>exchange</th><th>exchange_short_name</th><th>industry</th><th>website</th><th>description</th><th>ceo</th><th>sector</th><th>country</th><th>full_time_employees</th><th>phone</th><th>address</th><th>city</th><th>state</th><th>zip</th><th>dcf_diff</th><th>dcf</th><th>image</th><th>ipo_date</th><th>default_image</th><th>is_etf</th><th>is_actively_trading</th><th>is_adr</th><th>is_fund</th></tr><tr><td>str</td><td>f64</td><td>f64</td><td>i64</td><td>i64</td><td>f64</td><td>str</td><td>f64</td><td>str</td><td>str</td><td>str</td><td>str</td><td>str</td><td>str</td><td>str</td><td>str</td><td>str</td><td>str</td><td>str</td><td>str</td><td>str</td><td>str</td><td>str</td><td>str</td><td>str</td><td>str</td><td>str</td><td>f64</td><td>f64</td><td>str</td><td>str</td><td>bool</td><td>bool</td><td>bool</td><td>bool</td><td>bool</td></tr></thead><tbody><tr><td>&quot;NVDA&quot;</td><td>140.83</td><td>1.657</td><td>212155223</td><td>3448926700000</td><td>0.04</td><td>&quot;58.585-153.13&quot;</td><td>3.12</td><td>&quot;NVIDIA Corporation&quot;</td><td>&quot;USD&quot;</td><td>&quot;0001045810&quot;</td><td>&quot;US67066G1040&quot;</td><td>&quot;67066G104&quot;</td><td>&quot;NASDAQ Global Select&quot;</td><td>&quot;NASDAQ&quot;</td><td>&quot;Semiconductors&quot;</td><td>&quot;https://www.nvidia.com&quot;</td><td>&quot;NVIDIA Corporation provides gr…</td><td>&quot;Mr. Jen-Hsun&nbsp;&nbsp;Huang&quot;</td><td>&quot;Technology&quot;</td><td>&quot;US&quot;</td><td>&quot;29600&quot;</td><td>&quot;408 486 2000&quot;</td><td>&quot;2788 San Tomas Expressway&quot;</td><td>&quot;Santa Clara&quot;</td><td>&quot;CA&quot;</td><td>&quot;95051&quot;</td><td>83.73519</td><td>57.094812</td><td>&quot;https://images.financialmodeli…</td><td>&quot;1999-01-22&quot;</td><td>false</td><td>false</td><td>true</td><td>false</td><td>false</td></tr><tr><td>&quot;AVGO&quot;</td><td>240.31</td><td>1.187</td><td>29064290</td><td>1126419481600</td><td>2.17</td><td>&quot;117.431-251.88&quot;</td><td>2.87</td><td>&quot;Broadcom Inc.&quot;</td><td>&quot;USD&quot;</td><td>&quot;0001730168&quot;</td><td>&quot;US11135F1012&quot;</td><td>&quot;11135F101&quot;</td><td>&quot;NASDAQ Global Select&quot;</td><td>&quot;NASDAQ&quot;</td><td>&quot;Semiconductors&quot;</td><td>&quot;https://www.broadcom.com&quot;</td><td>&quot;Broadcom Inc. designs, develop…</td><td>&quot;Mr. Hock E. Tan&quot;</td><td>&quot;Technology&quot;</td><td>&quot;US&quot;</td><td>&quot;20000&quot;</td><td>&quot;408 433 8000&quot;</td><td>&quot;1320 Ridder Park Drive&quot;</td><td>&quot;San Jose&quot;</td><td>&quot;CA&quot;</td><td>&quot;95131-2313&quot;</td><td>62.66243</td><td>177.647567</td><td>&quot;https://images.financialmodeli…</td><td>&quot;2009-08-06&quot;</td><td>false</td><td>false</td><td>true</td><td>false</td><td>false</td></tr><tr><td>&quot;CRM&quot;</td><td>326.84</td><td>1.288</td><td>6113183</td><td>312785880000</td><td>1.6</td><td>&quot;212.0-369.0&quot;</td><td>2.28</td><td>&quot;Salesforce, Inc.&quot;</td><td>&quot;USD&quot;</td><td>&quot;0001108524&quot;</td><td>&quot;US79466L3024&quot;</td><td>&quot;79466L302&quot;</td><td>&quot;New York Stock Exchange&quot;</td><td>&quot;NYSE&quot;</td><td>&quot;Software - Application&quot;</td><td>&quot;https://www.salesforce.com&quot;</td><td>&quot;Salesforce, Inc. provides cust…</td><td>&quot;Mr. Marc R. Benioff&quot;</td><td>&quot;Technology&quot;</td><td>&quot;US&quot;</td><td>&quot;72682&quot;</td><td>&quot;415 901 7000&quot;</td><td>&quot;Salesforce Tower&quot;</td><td>&quot;San Francisco&quot;</td><td>&quot;CA&quot;</td><td>&quot;94105&quot;</td><td>138.34674</td><td>188.493265</td><td>&quot;https://images.financialmodeli…</td><td>&quot;2004-06-23&quot;</td><td>false</td><td>false</td><td>true</td><td>false</td><td>false</td></tr><tr><td>&quot;META&quot;</td><td>616.46</td><td>1.215</td><td>12759955</td><td>1555945540566</td><td>2.0</td><td>&quot;382.08-638.4&quot;</td><td>3.69</td><td>&quot;Meta Platforms, Inc.&quot;</td><td>&quot;USD&quot;</td><td>&quot;0001326801&quot;</td><td>&quot;US30303M1027&quot;</td><td>&quot;30303M102&quot;</td><td>&quot;NASDAQ Global Select&quot;</td><td>&quot;NASDAQ&quot;</td><td>&quot;Internet Content &amp; Information&quot;</td><td>&quot;https://investor.fb.com&quot;</td><td>&quot;Meta Platforms, Inc. engages i…</td><td>&quot;Mr. Mark Elliot Zuckerberg&quot;</td><td>&quot;Communication Services&quot;</td><td>&quot;US&quot;</td><td>&quot;72404&quot;</td><td>&quot;650 543 4800&quot;</td><td>&quot;1601 Willow Road&quot;</td><td>&quot;Menlo Park&quot;</td><td>&quot;CA&quot;</td><td>&quot;94025&quot;</td><td>166.59998</td><td>449.860016</td><td>&quot;https://images.financialmodeli…</td><td>&quot;2012-05-18&quot;</td><td>false</td><td>false</td><td>true</td><td>false</td><td>false</td></tr><tr><td>&quot;ORCL&quot;</td><td>172.57</td><td>1.013</td><td>8048795</td><td>482671387200</td><td>1.6</td><td>&quot;106.51-198.31&quot;</td><td>11.54</td><td>&quot;Oracle Corporation&quot;</td><td>&quot;USD&quot;</td><td>&quot;0001341439&quot;</td><td>&quot;US68389X1054&quot;</td><td>&quot;68389X105&quot;</td><td>&quot;New York Stock Exchange&quot;</td><td>&quot;NYSE&quot;</td><td>&quot;Software - Infrastructure&quot;</td><td>&quot;https://www.oracle.com&quot;</td><td>&quot;Oracle Corporation offers prod…</td><td>&quot;Ms. Safra Ada Catz&quot;</td><td>&quot;Technology&quot;</td><td>&quot;US&quot;</td><td>&quot;159000&quot;</td><td>&quot;737 867 1000&quot;</td><td>&quot;2300 Oracle Way&quot;</td><td>&quot;Austin&quot;</td><td>&quot;TX&quot;</td><td>&quot;78741&quot;</td><td>79.2347</td><td>93.335297</td><td>&quot;https://images.financialmodeli…</td><td>&quot;1986-03-12&quot;</td><td>false</td><td>false</td><td>true</td><td>false</td><td>false</td></tr></tbody></table></div>"
      ],
      "text/plain": [
       "shape: (5, 36)\n",
       "┌────────┬────────┬───────┬───────────┬───┬────────┬─────────────────────┬────────┬─────────┐\n",
       "│ symbol ┆ price  ┆ beta  ┆ vol_avg   ┆ … ┆ is_etf ┆ is_actively_trading ┆ is_adr ┆ is_fund │\n",
       "│ ---    ┆ ---    ┆ ---   ┆ ---       ┆   ┆ ---    ┆ ---                 ┆ ---    ┆ ---     │\n",
       "│ str    ┆ f64    ┆ f64   ┆ i64       ┆   ┆ bool   ┆ bool                ┆ bool   ┆ bool    │\n",
       "╞════════╪════════╪═══════╪═══════════╪═══╪════════╪═════════════════════╪════════╪═════════╡\n",
       "│ NVDA   ┆ 140.83 ┆ 1.657 ┆ 212155223 ┆ … ┆ false  ┆ true                ┆ false  ┆ false   │\n",
       "│ AVGO   ┆ 240.31 ┆ 1.187 ┆ 29064290  ┆ … ┆ false  ┆ true                ┆ false  ┆ false   │\n",
       "│ CRM    ┆ 326.84 ┆ 1.288 ┆ 6113183   ┆ … ┆ false  ┆ true                ┆ false  ┆ false   │\n",
       "│ META   ┆ 616.46 ┆ 1.215 ┆ 12759955  ┆ … ┆ false  ┆ true                ┆ false  ┆ false   │\n",
       "│ ORCL   ┆ 172.57 ┆ 1.013 ┆ 8048795   ┆ … ┆ false  ┆ true                ┆ false  ┆ false   │\n",
       "└────────┴────────┴───────┴───────────┴───┴────────┴─────────────────────┴────────┴─────────┘"
      ]
     },
     "execution_count": 7,
     "metadata": {},
     "output_type": "execute_result"
    }
   ],
   "source": [
    "pl.scan_parquet(f'{output_dir}/company_profile.parquet').head().collect()"
   ]
  }
 ],
 "metadata": {
  "kernelspec": {
   "display_name": ".venv",
   "language": "python",
   "name": "python3"
  },
  "language_info": {
   "codemirror_mode": {
    "name": "ipython",
    "version": 3
   },
   "file_extension": ".py",
   "mimetype": "text/x-python",
   "name": "python",
   "nbconvert_exporter": "python",
   "pygments_lexer": "ipython3",
   "version": "3.12.8"
  }
 },
 "nbformat": 4,
 "nbformat_minor": 2
}
