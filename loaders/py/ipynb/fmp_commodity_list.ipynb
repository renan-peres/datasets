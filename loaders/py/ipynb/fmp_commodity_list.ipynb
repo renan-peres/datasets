{
 "cells": [
  {
   "cell_type": "markdown",
   "metadata": {},
   "source": [
    "# Commodity List\n",
    "- **Reference**: https://site.financialmodelingprep.com/developer/docs#full-quote-list-commodities"
   ]
  },
  {
   "cell_type": "markdown",
   "metadata": {},
   "source": [
    "## Step 1: Import Libraries"
   ]
  },
  {
   "cell_type": "code",
   "execution_count": 1,
   "metadata": {
    "execution": {
<<<<<<< HEAD
<<<<<<< HEAD
     "iopub.execute_input": "2025-01-17T15:33:40.685173Z",
     "iopub.status.busy": "2025-01-17T15:33:40.684722Z",
     "iopub.status.idle": "2025-01-17T15:33:40.748854Z",
     "shell.execute_reply": "2025-01-17T15:33:40.748310Z"
=======
=======
>>>>>>> e7e3c52 (AAPL Institutional Holders Upload)
     "iopub.execute_input": "2025-01-17T22:58:17.969517Z",
     "iopub.status.busy": "2025-01-17T22:58:17.969131Z",
     "iopub.status.idle": "2025-01-17T22:58:18.010516Z",
     "shell.execute_reply": "2025-01-17T22:58:18.009764Z"
<<<<<<< HEAD
>>>>>>> e7e3c52 (AAPL Institutional Holders Upload)
=======
>>>>>>> e7e3c52 (AAPL Institutional Holders Upload)
    }
   },
   "outputs": [],
   "source": [
    "%run ../make_clean_names.py"
   ]
  },
  {
   "cell_type": "code",
   "execution_count": 2,
   "metadata": {
    "execution": {
<<<<<<< HEAD
<<<<<<< HEAD
     "iopub.execute_input": "2025-01-17T15:33:40.750802Z",
     "iopub.status.busy": "2025-01-17T15:33:40.750618Z",
     "iopub.status.idle": "2025-01-17T15:33:40.817379Z",
     "shell.execute_reply": "2025-01-17T15:33:40.816818Z"
=======
=======
>>>>>>> e7e3c52 (AAPL Institutional Holders Upload)
     "iopub.execute_input": "2025-01-17T22:58:18.012651Z",
     "iopub.status.busy": "2025-01-17T22:58:18.012502Z",
     "iopub.status.idle": "2025-01-17T22:58:18.060161Z",
     "shell.execute_reply": "2025-01-17T22:58:18.059438Z"
<<<<<<< HEAD
>>>>>>> e7e3c52 (AAPL Institutional Holders Upload)
=======
>>>>>>> e7e3c52 (AAPL Institutional Holders Upload)
    }
   },
   "outputs": [],
   "source": [
    "import os\n",
    "import logging\n",
    "import requests\n",
    "import polars as pl\n",
    "from datetime import datetime\n",
    "from typing import Dict\n",
    "from requests.adapters import HTTPAdapter\n",
    "from requests.packages.urllib3.util.retry import Retry\n",
    "from dotenv import load_dotenv\n",
    "\n",
    "# Load environment variables\n",
    "load_dotenv()\n",
    "\n",
    "# Configure logging\n",
    "logging.basicConfig(level=logging.INFO)\n",
    "logger = logging.getLogger(__name__)\n",
    "\n",
    "def create_session() -> requests.Session:\n",
    "    \"\"\"Create a session with retry strategy.\"\"\"\n",
    "    session = requests.Session()\n",
    "    retries = Retry(\n",
    "        total=3,\n",
    "        backoff_factor=1,\n",
    "        status_forcelist=[429, 500, 502, 503, 504]\n",
    "    )\n",
    "    session.mount('https://', HTTPAdapter(max_retries=retries, pool_maxsize=10))\n",
    "    return session\n",
    "\n",
    "# Get API key from environment variables\n",
    "FMP_API_KEY = os.getenv('FMP_API_KEY')\n",
    "if not FMP_API_KEY:\n",
    "    raise ValueError(\"FMP_API_KEY not found in environment variables\")"
   ]
  },
  {
   "cell_type": "markdown",
   "metadata": {},
   "source": [
    "## Step 2: Extract Data from FMP into Polars"
   ]
  },
  {
   "cell_type": "code",
   "execution_count": 3,
   "metadata": {
    "execution": {
<<<<<<< HEAD
<<<<<<< HEAD
     "iopub.execute_input": "2025-01-17T15:33:40.819685Z",
     "iopub.status.busy": "2025-01-17T15:33:40.819326Z",
     "iopub.status.idle": "2025-01-17T15:33:40.994261Z",
     "shell.execute_reply": "2025-01-17T15:33:40.993749Z"
=======
=======
>>>>>>> e7e3c52 (AAPL Institutional Holders Upload)
     "iopub.execute_input": "2025-01-17T22:58:18.062276Z",
     "iopub.status.busy": "2025-01-17T22:58:18.062133Z",
     "iopub.status.idle": "2025-01-17T22:58:18.201710Z",
     "shell.execute_reply": "2025-01-17T22:58:18.201031Z"
<<<<<<< HEAD
>>>>>>> e7e3c52 (AAPL Institutional Holders Upload)
=======
>>>>>>> e7e3c52 (AAPL Institutional Holders Upload)
    }
   },
   "outputs": [],
   "source": [
    "def fetch_data(api_key: str, session: requests.Session) -> Dict:\n",
    "    \"\"\"Fetch historical forex data for a single pair with pair identifier\"\"\"\n",
    "    url = f\"https://financialmodelingprep.com/api/v3/quotes/commodity\"\n",
    "    params = {\n",
    "        \"apikey\": api_key\n",
    "    }\n",
    "        \n",
    "    try:\n",
    "        response = session.get(url, params=params, timeout=10)\n",
    "        response.raise_for_status()\n",
    "        data = response.json()\n",
    "        return data\n",
    "    except Exception as e:\n",
    "        return None\n",
    "\n",
    "# Create a session\n",
    "session = create_session()\n",
    "\n",
    "# Execute fetching\n",
    "data = fetch_data(FMP_API_KEY, session)\n",
    "\n",
    "# Convert to Polars DataFrame if data exists\n",
    "if data:\n",
    "    df = pl.DataFrame(data)"
   ]
  },
  {
   "cell_type": "markdown",
   "metadata": {},
   "source": [
    "## Step 3: Clean Column Names"
   ]
  },
  {
   "cell_type": "code",
   "execution_count": 4,
   "metadata": {
    "execution": {
<<<<<<< HEAD
<<<<<<< HEAD
     "iopub.execute_input": "2025-01-17T15:33:40.996261Z",
     "iopub.status.busy": "2025-01-17T15:33:40.995905Z",
     "iopub.status.idle": "2025-01-17T15:33:41.000826Z",
     "shell.execute_reply": "2025-01-17T15:33:41.000374Z"
=======
=======
>>>>>>> e7e3c52 (AAPL Institutional Holders Upload)
     "iopub.execute_input": "2025-01-17T22:58:18.203871Z",
     "iopub.status.busy": "2025-01-17T22:58:18.203731Z",
     "iopub.status.idle": "2025-01-17T22:58:18.207909Z",
     "shell.execute_reply": "2025-01-17T22:58:18.207243Z"
<<<<<<< HEAD
>>>>>>> e7e3c52 (AAPL Institutional Holders Upload)
=======
>>>>>>> e7e3c52 (AAPL Institutional Holders Upload)
    }
   },
   "outputs": [],
   "source": [
    "df = make_clean_names(df)"
   ]
  },
  {
   "cell_type": "markdown",
   "metadata": {},
   "source": [
    "## Step 4: Write Polars to Parquet"
   ]
  },
  {
   "cell_type": "code",
   "execution_count": 5,
   "metadata": {
    "execution": {
<<<<<<< HEAD
<<<<<<< HEAD
     "iopub.execute_input": "2025-01-17T15:33:41.002654Z",
     "iopub.status.busy": "2025-01-17T15:33:41.002305Z",
     "iopub.status.idle": "2025-01-17T15:33:41.007578Z",
     "shell.execute_reply": "2025-01-17T15:33:41.007055Z"
=======
=======
>>>>>>> e7e3c52 (AAPL Institutional Holders Upload)
     "iopub.execute_input": "2025-01-17T22:58:18.210099Z",
     "iopub.status.busy": "2025-01-17T22:58:18.209974Z",
     "iopub.status.idle": "2025-01-17T22:58:18.227217Z",
     "shell.execute_reply": "2025-01-17T22:58:18.226707Z"
<<<<<<< HEAD
>>>>>>> e7e3c52 (AAPL Institutional Holders Upload)
=======
>>>>>>> e7e3c52 (AAPL Institutional Holders Upload)
    }
   },
   "outputs": [],
   "source": [
    "# Define the output directory\n",
    "output_dir = \"../../../data/finance\"\n",
    "\n",
    "# Write the processed DataFrame to a Parquet file\n",
    "df.write_parquet(f'{output_dir}/commodity_list.parquet')"
   ]
  },
  {
   "cell_type": "markdown",
   "metadata": {},
   "source": [
    "## Step 5: Read Parquet (Validate)"
   ]
  },
  {
   "cell_type": "code",
   "execution_count": 6,
   "metadata": {
    "execution": {
<<<<<<< HEAD
<<<<<<< HEAD
     "iopub.execute_input": "2025-01-17T15:33:41.009515Z",
     "iopub.status.busy": "2025-01-17T15:33:41.009204Z",
     "iopub.status.idle": "2025-01-17T15:33:41.017046Z",
     "shell.execute_reply": "2025-01-17T15:33:41.016446Z"
=======
=======
>>>>>>> e7e3c52 (AAPL Institutional Holders Upload)
     "iopub.execute_input": "2025-01-17T22:58:18.228878Z",
     "iopub.status.busy": "2025-01-17T22:58:18.228627Z",
     "iopub.status.idle": "2025-01-17T22:58:18.236022Z",
     "shell.execute_reply": "2025-01-17T22:58:18.235553Z"
<<<<<<< HEAD
>>>>>>> e7e3c52 (AAPL Institutional Holders Upload)
=======
>>>>>>> e7e3c52 (AAPL Institutional Holders Upload)
    }
   },
   "outputs": [
    {
     "data": {
      "text/html": [
       "<div><style>\n",
       ".dataframe > thead > tr,\n",
       ".dataframe > tbody > tr {\n",
       "  text-align: right;\n",
       "  white-space: pre-wrap;\n",
       "}\n",
       "</style>\n",
<<<<<<< HEAD
<<<<<<< HEAD
       "<small>shape: (5, 22)</small><table border=\"1\" class=\"dataframe\"><thead><tr><th>symbol</th><th>name</th><th>price</th><th>changes_percentage</th><th>change</th><th>day_low</th><th>day_high</th><th>year_high</th><th>year_low</th><th>market_cap</th><th>price_avg_50</th><th>price_avg_200</th><th>exchange</th><th>volume</th><th>avg_volume</th><th>open</th><th>previous_close</th><th>eps</th><th>pe</th><th>earnings_announcement</th><th>shares_outstanding</th><th>timestamp</th></tr><tr><td>str</td><td>str</td><td>f64</td><td>f64</td><td>f64</td><td>f64</td><td>f64</td><td>f64</td><td>f64</td><td>null</td><td>f64</td><td>f64</td><td>str</td><td>i64</td><td>i64</td><td>f64</td><td>f64</td><td>null</td><td>null</td><td>null</td><td>null</td><td>i64</td></tr></thead><tbody><tr><td>&quot;DCUSD&quot;</td><td>&quot;Class III Milk Futures&quot;</td><td>19.67</td><td>-1.05634</td><td>-0.21</td><td>19.27</td><td>20.28</td><td>23.36</td><td>15.17</td><td>null</td><td>19.5758</td><td>19.8605</td><td>&quot;COMMODITY&quot;</td><td>274</td><td>232</td><td>19.61</td><td>19.88</td><td>null</td><td>null</td><td>null</td><td>null</td><td>1737127406</td></tr><tr><td>&quot;RTYUSD&quot;</td><td>&quot;Micro E-mini Russell 2000 Inde…</td><td>2291.2</td><td>0.5265</td><td>12.0</td><td>2273.9</td><td>2307.5</td><td>2477.1</td><td>1915.8</td><td>null</td><td>2336.677</td><td>2182.1152</td><td>&quot;COMMODITY&quot;</td><td>12660</td><td>159874</td><td>2275.3</td><td>2279.2</td><td>null</td><td>null</td><td>null</td><td>null</td><td>1737127420</td></tr><tr><td>&quot;ZLUSX&quot;</td><td>&quot;Soybean Oil Futures&quot;</td><td>45.15</td><td>0.26649</td><td>0.12</td><td>44.95</td><td>45.69</td><td>49.8</td><td>38.6</td><td>null</td><td>42.6814</td><td>43.55505</td><td>&quot;COMMODITY&quot;</td><td>8599</td><td>46734</td><td>45.24</td><td>45.03</td><td>null</td><td>null</td><td>null</td><td>null</td><td>1737127419</td></tr><tr><td>&quot;LEUSX&quot;</td><td>&quot;Live Cattle Futures&quot;</td><td>196.45</td><td>-0.076297</td><td>-0.15</td><td>195.725</td><td>198.525</td><td>199.1</td><td>172.7</td><td>null</td><td>189.8195</td><td>185.00862</td><td>&quot;COMMODITY&quot;</td><td>26049</td><td>15706</td><td>196.925</td><td>196.6</td><td>null</td><td>null</td><td>null</td><td>null</td><td>1737127417</td></tr><tr><td>&quot;DXUSD&quot;</td><td>&quot;US Dollar&quot;</td><td>108.83</td><td>0.011947</td><td>0.013</td><td>108.68</td><td>109.255</td><td>110.015</td><td>99.865</td><td>null</td><td>107.04008</td><td>104.4854</td><td>&quot;COMMODITY&quot;</td><td>8240</td><td>19682</td><td>108.785</td><td>108.817</td><td>null</td><td>null</td><td>null</td><td>null</td><td>1737127406</td></tr></tbody></table></div>"
      ],
      "text/plain": [
       "shape: (5, 22)\n",
       "┌────────┬──────────────┬────────┬─────────────┬───┬──────┬─────────────┬─────────────┬────────────┐\n",
       "│ symbol ┆ name         ┆ price  ┆ changes_per ┆ … ┆ pe   ┆ earnings_an ┆ shares_outs ┆ timestamp  │\n",
       "│ ---    ┆ ---          ┆ ---    ┆ centage     ┆   ┆ ---  ┆ nouncement  ┆ tanding     ┆ ---        │\n",
       "│ str    ┆ str          ┆ f64    ┆ ---         ┆   ┆ null ┆ ---         ┆ ---         ┆ i64        │\n",
       "│        ┆              ┆        ┆ f64         ┆   ┆      ┆ null        ┆ null        ┆            │\n",
       "╞════════╪══════════════╪════════╪═════════════╪═══╪══════╪═════════════╪═════════════╪════════════╡\n",
       "│ DCUSD  ┆ Class III    ┆ 19.67  ┆ -1.05634    ┆ … ┆ null ┆ null        ┆ null        ┆ 1737127406 │\n",
       "│        ┆ Milk Futures ┆        ┆             ┆   ┆      ┆             ┆             ┆            │\n",
       "│ RTYUSD ┆ Micro E-mini ┆ 2291.2 ┆ 0.5265      ┆ … ┆ null ┆ null        ┆ null        ┆ 1737127420 │\n",
       "│        ┆ Russell 2000 ┆        ┆             ┆   ┆      ┆             ┆             ┆            │\n",
       "│        ┆ Inde…        ┆        ┆             ┆   ┆      ┆             ┆             ┆            │\n",
       "│ ZLUSX  ┆ Soybean Oil  ┆ 45.15  ┆ 0.26649     ┆ … ┆ null ┆ null        ┆ null        ┆ 1737127419 │\n",
       "│        ┆ Futures      ┆        ┆             ┆   ┆      ┆             ┆             ┆            │\n",
       "│ LEUSX  ┆ Live Cattle  ┆ 196.45 ┆ -0.076297   ┆ … ┆ null ┆ null        ┆ null        ┆ 1737127417 │\n",
       "│        ┆ Futures      ┆        ┆             ┆   ┆      ┆             ┆             ┆            │\n",
       "│ DXUSD  ┆ US Dollar    ┆ 108.83 ┆ 0.011947    ┆ … ┆ null ┆ null        ┆ null        ┆ 1737127406 │\n",
       "└────────┴──────────────┴────────┴─────────────┴───┴──────┴─────────────┴─────────────┴────────────┘"
=======
       "<small>shape: (5, 22)</small><table border=\"1\" class=\"dataframe\"><thead><tr><th>symbol</th><th>name</th><th>price</th><th>changes_percentage</th><th>change</th><th>day_low</th><th>day_high</th><th>year_high</th><th>year_low</th><th>market_cap</th><th>price_avg_50</th><th>price_avg_200</th><th>exchange</th><th>volume</th><th>avg_volume</th><th>open</th><th>previous_close</th><th>eps</th><th>pe</th><th>earnings_announcement</th><th>shares_outstanding</th><th>timestamp</th></tr><tr><td>str</td><td>str</td><td>f64</td><td>f64</td><td>f64</td><td>f64</td><td>f64</td><td>f64</td><td>f64</td><td>null</td><td>f64</td><td>f64</td><td>str</td><td>i64</td><td>i64</td><td>f64</td><td>f64</td><td>null</td><td>null</td><td>null</td><td>null</td><td>i64</td></tr></thead><tbody><tr><td>&quot;DCUSD&quot;</td><td>&quot;Class III Milk Futures&quot;</td><td>19.54</td><td>-0.61038</td><td>-0.12</td><td>19.54</td><td>19.98</td><td>23.36</td><td>15.17</td><td>null</td><td>19.5758</td><td>19.8605</td><td>&quot;COMMODITY&quot;</td><td>69</td><td>232</td><td>19.61</td><td>19.66</td><td>null</td><td>null</td><td>null</td><td>null</td><td>1737143670</td></tr><tr><td>&quot;RTYUSD&quot;</td><td>&quot;Micro E-mini Russell 2000 Inde…</td><td>2288.0</td><td>0.3861</td><td>8.8</td><td>2273.9</td><td>2307.5</td><td>2477.1</td><td>1915.8</td><td>null</td><td>2336.677</td><td>2182.1152</td><td>&quot;COMMODITY&quot;</td><td>121171</td><td>159874</td><td>2275.3</td><td>2279.2</td><td>null</td><td>null</td><td>null</td><td>null</td><td>1737151198</td></tr><tr><td>&quot;ZLUSX&quot;</td><td>&quot;Soybean Oil Futures&quot;</td><td>45.72</td><td>1.53231</td><td>0.69</td><td>44.95</td><td>45.8</td><td>49.8</td><td>38.6</td><td>null</td><td>42.6814</td><td>43.55505</td><td>&quot;COMMODITY&quot;</td><td>61294</td><td>46734</td><td>45.24</td><td>45.03</td><td>null</td><td>null</td><td>null</td><td>null</td><td>1737141597</td></tr><tr><td>&quot;LEUSX&quot;</td><td>&quot;Live Cattle Futures&quot;</td><td>196.875</td><td>0.13988</td><td>0.275</td><td>195.875</td><td>197.875</td><td>199.1</td><td>172.7</td><td>null</td><td>189.8195</td><td>185.00862</td><td>&quot;COMMODITY&quot;</td><td>22370</td><td>15706</td><td>196.925</td><td>196.6</td><td>null</td><td>null</td><td>null</td><td>null</td><td>1737140699</td></tr><tr><td>&quot;DXUSD&quot;</td><td>&quot;US Dollar&quot;</td><td>109.255</td><td>0.40251</td><td>0.438</td><td>108.68</td><td>109.275</td><td>110.015</td><td>99.865</td><td>null</td><td>null</td><td>null</td><td>&quot;COMMODITY&quot;</td><td>21556</td><td>19682</td><td>108.785</td><td>108.817</td><td>null</td><td>null</td><td>null</td><td>null</td><td>1737151196</td></tr></tbody></table></div>"
      ],
      "text/plain": [
       "shape: (5, 22)\n",
=======
       "<small>shape: (5, 22)</small><table border=\"1\" class=\"dataframe\"><thead><tr><th>symbol</th><th>name</th><th>price</th><th>changes_percentage</th><th>change</th><th>day_low</th><th>day_high</th><th>year_high</th><th>year_low</th><th>market_cap</th><th>price_avg_50</th><th>price_avg_200</th><th>exchange</th><th>volume</th><th>avg_volume</th><th>open</th><th>previous_close</th><th>eps</th><th>pe</th><th>earnings_announcement</th><th>shares_outstanding</th><th>timestamp</th></tr><tr><td>str</td><td>str</td><td>f64</td><td>f64</td><td>f64</td><td>f64</td><td>f64</td><td>f64</td><td>f64</td><td>null</td><td>f64</td><td>f64</td><td>str</td><td>i64</td><td>i64</td><td>f64</td><td>f64</td><td>null</td><td>null</td><td>null</td><td>null</td><td>i64</td></tr></thead><tbody><tr><td>&quot;DCUSD&quot;</td><td>&quot;Class III Milk Futures&quot;</td><td>19.54</td><td>-0.61038</td><td>-0.12</td><td>19.54</td><td>19.98</td><td>23.36</td><td>15.17</td><td>null</td><td>19.5758</td><td>19.8605</td><td>&quot;COMMODITY&quot;</td><td>69</td><td>232</td><td>19.61</td><td>19.66</td><td>null</td><td>null</td><td>null</td><td>null</td><td>1737143670</td></tr><tr><td>&quot;RTYUSD&quot;</td><td>&quot;Micro E-mini Russell 2000 Inde…</td><td>2288.0</td><td>0.3861</td><td>8.8</td><td>2273.9</td><td>2307.5</td><td>2477.1</td><td>1915.8</td><td>null</td><td>2336.677</td><td>2182.1152</td><td>&quot;COMMODITY&quot;</td><td>121171</td><td>159874</td><td>2275.3</td><td>2279.2</td><td>null</td><td>null</td><td>null</td><td>null</td><td>1737151198</td></tr><tr><td>&quot;ZLUSX&quot;</td><td>&quot;Soybean Oil Futures&quot;</td><td>45.72</td><td>1.53231</td><td>0.69</td><td>44.95</td><td>45.8</td><td>49.8</td><td>38.6</td><td>null</td><td>42.6814</td><td>43.55505</td><td>&quot;COMMODITY&quot;</td><td>61294</td><td>46734</td><td>45.24</td><td>45.03</td><td>null</td><td>null</td><td>null</td><td>null</td><td>1737141597</td></tr><tr><td>&quot;LEUSX&quot;</td><td>&quot;Live Cattle Futures&quot;</td><td>196.875</td><td>0.13988</td><td>0.275</td><td>195.875</td><td>197.875</td><td>199.1</td><td>172.7</td><td>null</td><td>189.8195</td><td>185.00862</td><td>&quot;COMMODITY&quot;</td><td>22370</td><td>15706</td><td>196.925</td><td>196.6</td><td>null</td><td>null</td><td>null</td><td>null</td><td>1737140699</td></tr><tr><td>&quot;DXUSD&quot;</td><td>&quot;US Dollar&quot;</td><td>109.255</td><td>0.40251</td><td>0.438</td><td>108.68</td><td>109.275</td><td>110.015</td><td>99.865</td><td>null</td><td>null</td><td>null</td><td>&quot;COMMODITY&quot;</td><td>21556</td><td>19682</td><td>108.785</td><td>108.817</td><td>null</td><td>null</td><td>null</td><td>null</td><td>1737151196</td></tr></tbody></table></div>"
      ],
      "text/plain": [
       "shape: (5, 22)\n",
>>>>>>> e7e3c52 (AAPL Institutional Holders Upload)
       "┌────────┬─────────────┬─────────┬─────────────┬───┬──────┬─────────────┬─────────────┬────────────┐\n",
       "│ symbol ┆ name        ┆ price   ┆ changes_per ┆ … ┆ pe   ┆ earnings_an ┆ shares_outs ┆ timestamp  │\n",
       "│ ---    ┆ ---         ┆ ---     ┆ centage     ┆   ┆ ---  ┆ nouncement  ┆ tanding     ┆ ---        │\n",
       "│ str    ┆ str         ┆ f64     ┆ ---         ┆   ┆ null ┆ ---         ┆ ---         ┆ i64        │\n",
       "│        ┆             ┆         ┆ f64         ┆   ┆      ┆ null        ┆ null        ┆            │\n",
       "╞════════╪═════════════╪═════════╪═════════════╪═══╪══════╪═════════════╪═════════════╪════════════╡\n",
       "│ DCUSD  ┆ Class III   ┆ 19.54   ┆ -0.61038    ┆ … ┆ null ┆ null        ┆ null        ┆ 1737143670 │\n",
       "│        ┆ Milk        ┆         ┆             ┆   ┆      ┆             ┆             ┆            │\n",
       "│        ┆ Futures     ┆         ┆             ┆   ┆      ┆             ┆             ┆            │\n",
       "│ RTYUSD ┆ Micro       ┆ 2288.0  ┆ 0.3861      ┆ … ┆ null ┆ null        ┆ null        ┆ 1737151198 │\n",
       "│        ┆ E-mini      ┆         ┆             ┆   ┆      ┆             ┆             ┆            │\n",
       "│        ┆ Russell     ┆         ┆             ┆   ┆      ┆             ┆             ┆            │\n",
       "│        ┆ 2000 Inde…  ┆         ┆             ┆   ┆      ┆             ┆             ┆            │\n",
       "│ ZLUSX  ┆ Soybean Oil ┆ 45.72   ┆ 1.53231     ┆ … ┆ null ┆ null        ┆ null        ┆ 1737141597 │\n",
       "│        ┆ Futures     ┆         ┆             ┆   ┆      ┆             ┆             ┆            │\n",
       "│ LEUSX  ┆ Live Cattle ┆ 196.875 ┆ 0.13988     ┆ … ┆ null ┆ null        ┆ null        ┆ 1737140699 │\n",
       "│        ┆ Futures     ┆         ┆             ┆   ┆      ┆             ┆             ┆            │\n",
       "│ DXUSD  ┆ US Dollar   ┆ 109.255 ┆ 0.40251     ┆ … ┆ null ┆ null        ┆ null        ┆ 1737151196 │\n",
       "└────────┴─────────────┴─────────┴─────────────┴───┴──────┴─────────────┴─────────────┴────────────┘"
<<<<<<< HEAD
>>>>>>> e7e3c52 (AAPL Institutional Holders Upload)
=======
>>>>>>> e7e3c52 (AAPL Institutional Holders Upload)
      ]
     },
     "execution_count": 6,
     "metadata": {},
     "output_type": "execute_result"
    }
   ],
   "source": [
    "# Validate the output by reading the Parquet file and displaying the first few rows\n",
    "pl.scan_parquet(f'{output_dir}/commodity_list.parquet').head().collect()"
   ]
  }
 ],
 "metadata": {
  "kernelspec": {
   "display_name": ".venv",
   "language": "python",
   "name": "python3"
  },
  "language_info": {
   "codemirror_mode": {
    "name": "ipython",
    "version": 3
   },
   "file_extension": ".py",
   "mimetype": "text/x-python",
   "name": "python",
   "nbconvert_exporter": "python",
   "pygments_lexer": "ipython3",
   "version": "3.12.8"
  }
 },
 "nbformat": 4,
 "nbformat_minor": 2
}
