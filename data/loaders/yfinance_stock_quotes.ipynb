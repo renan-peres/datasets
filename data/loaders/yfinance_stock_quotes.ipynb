{
 "cells": [
  {
   "cell_type": "markdown",
   "metadata": {},
   "source": [
    "## Step 1: Import Libraries"
   ]
  },
  {
   "cell_type": "code",
   "execution_count": 1,
   "metadata": {
    "execution": {
     "iopub.execute_input": "2025-01-29T10:06:15.010033Z",
     "iopub.status.busy": "2025-01-29T10:06:15.009857Z",
     "iopub.status.idle": "2025-01-29T10:06:15.619436Z",
     "shell.execute_reply": "2025-01-29T10:06:15.618810Z"
    }
   },
   "outputs": [],
   "source": [
    "from datetime import datetime\n",
    "import polars as pl\n",
    "import pandas as pd\n",
    "import pyarrow as pa\n",
    "from typing import List\n",
    "import duckdb\n",
    "import yfinance as yf"
   ]
  },
  {
   "cell_type": "markdown",
   "metadata": {},
   "source": [
    "## Step 2: Import Symbols"
   ]
  },
  {
   "cell_type": "code",
   "execution_count": 2,
   "metadata": {
    "execution": {
     "iopub.execute_input": "2025-01-29T10:06:15.621702Z",
     "iopub.status.busy": "2025-01-29T10:06:15.621427Z",
     "iopub.status.idle": "2025-01-29T10:06:15.626222Z",
     "shell.execute_reply": "2025-01-29T10:06:15.625640Z"
    }
   },
   "outputs": [
    {
     "name": "stdout",
     "output_type": "stream",
     "text": [
      "Loaded 61 symbols from ../tickers.txt\n",
      "Symbols: ['AAPL', 'MSFT', 'GOOGL', 'GOOG', 'META', 'NVDA', 'AVGO', 'ORCL', 'CRM', 'ACN', 'ADBE', 'CSCO', 'INTC', 'NFLX', 'DIS', 'CMCSA', 'VZ', 'T', 'AMZN', 'TSLA', 'HD', 'MCD', 'NKE', 'SBUX', 'TGT', 'LOW', 'WMT', 'PG', 'KO', 'PEP', 'COST', 'BRK-B', 'JPM', 'BAC', 'WFC', 'GS', 'MS', 'BLK', 'UNH', 'JNJ', 'PFE', 'ABBV', 'MRK', 'LLY', 'CAT', 'BA', 'HON', 'UPS', 'RTX', 'GE', 'XOM', 'CVX', 'COP', 'SLB', 'LIN', 'APD', 'ECL', 'PLD', 'AMT', 'CCI', 'OSW']\n"
     ]
    }
   ],
   "source": [
    "def load_symbols(file_path: str) -> List[str]:\n",
    "    \"\"\"Load symbols from a text file\"\"\"\n",
    "    try:\n",
    "        with open(file_path, 'r') as f:\n",
    "            symbols = [line.strip() for line in f if line.strip()]\n",
    "        print(f\"Loaded {len(symbols)} symbols from {file_path}\")\n",
    "        return symbols\n",
    "    except Exception as e:\n",
    "        print(f\"Error loading symbols: {str(e)}\")\n",
    "        return []\n",
    "\n",
    "symbols_file = '../tickers.txt'\n",
    "symbols = load_symbols(symbols_file)\n",
    "\n",
    "if symbols:\n",
    "    print(\"Symbols:\", symbols)\n",
    "else:\n",
    "    print(\"No symbols loaded.\")"
   ]
  },
  {
   "cell_type": "markdown",
   "metadata": {},
   "source": [
    "## Step 3: Extract Data from Yfinance into Pandas"
   ]
  },
  {
   "cell_type": "code",
   "execution_count": 3,
   "metadata": {
    "execution": {
     "iopub.execute_input": "2025-01-29T10:06:15.663439Z",
     "iopub.status.busy": "2025-01-29T10:06:15.663062Z",
     "iopub.status.idle": "2025-01-29T10:06:19.847255Z",
     "shell.execute_reply": "2025-01-29T10:06:19.846656Z"
    }
   },
   "outputs": [
    {
     "name": "stderr",
     "output_type": "stream",
     "text": [
      "\r",
      "[                       0%                       ]"
     ]
    },
    {
     "name": "stderr",
     "output_type": "stream",
     "text": [
      "\r",
      "[*                      3%                       ]  2 of 61 completed"
     ]
    },
    {
     "name": "stderr",
     "output_type": "stream",
     "text": [
      "\r",
      "[**                     5%                       ]  3 of 61 completed"
     ]
    },
    {
     "name": "stderr",
     "output_type": "stream",
     "text": [
      "\r",
      "[***                    7%                       ]  4 of 61 completed"
     ]
    },
    {
     "name": "stderr",
     "output_type": "stream",
     "text": [
      "\r",
      "[****                   8%                       ]  5 of 61 completed"
     ]
    },
    {
     "name": "stderr",
     "output_type": "stream",
     "text": [
      "\r",
      "[*****                 10%                       ]  6 of 61 completed"
     ]
    },
    {
     "name": "stderr",
     "output_type": "stream",
     "text": [
      "\r",
      "[*****                 11%                       ]  7 of 61 completed"
     ]
    },
    {
     "name": "stderr",
     "output_type": "stream",
     "text": [
      "\r",
      "[******                13%                       ]  8 of 61 completed"
     ]
    },
    {
     "name": "stderr",
     "output_type": "stream",
     "text": [
      "\r",
      "[*******               15%                       ]  9 of 61 completed"
     ]
    },
    {
     "name": "stderr",
     "output_type": "stream",
     "text": [
      "\r",
      "[********              16%                       ]  10 of 61 completed"
     ]
    },
    {
     "name": "stderr",
     "output_type": "stream",
     "text": [
      "\r",
      "[*********             18%                       ]  11 of 61 completed"
     ]
    },
    {
     "name": "stderr",
     "output_type": "stream",
     "text": [
      "\r",
      "[**********            20%                       ]  12 of 61 completed"
     ]
    },
    {
     "name": "stderr",
     "output_type": "stream",
     "text": [
      "\r",
      "[**********            21%                       ]  13 of 61 completed"
     ]
    },
    {
     "name": "stderr",
     "output_type": "stream",
     "text": [
      "\r",
      "[***********           23%                       ]  14 of 61 completed"
     ]
    },
    {
     "name": "stderr",
     "output_type": "stream",
     "text": [
      "\r",
      "[************          25%                       ]  15 of 61 completed"
     ]
    },
    {
     "name": "stderr",
     "output_type": "stream",
     "text": [
      "\r",
      "[************          26%                       ]  16 of 61 completed"
     ]
    },
    {
     "name": "stderr",
     "output_type": "stream",
     "text": [
      "\r",
      "[*************         28%                       ]  17 of 61 completed"
     ]
    },
    {
     "name": "stderr",
     "output_type": "stream",
     "text": [
      "\r",
      "[**************        30%                       ]  18 of 61 completed"
     ]
    },
    {
     "name": "stderr",
     "output_type": "stream",
     "text": [
      "\r",
      "[***************       31%                       ]  19 of 61 completed"
     ]
    },
    {
     "name": "stderr",
     "output_type": "stream",
     "text": [
      "\r",
      "[****************      33%                       ]  20 of 61 completed"
     ]
    },
    {
     "name": "stderr",
     "output_type": "stream",
     "text": [
      "\r",
      "[****************      34%                       ]  21 of 61 completed"
     ]
    },
    {
     "name": "stderr",
     "output_type": "stream",
     "text": [
      "\r",
      "[*****************     36%                       ]  22 of 61 completed"
     ]
    },
    {
     "name": "stderr",
     "output_type": "stream",
     "text": [
      "\r",
      "[******************    38%                       ]  23 of 61 completed"
     ]
    },
    {
     "name": "stderr",
     "output_type": "stream",
     "text": [
      "\r",
      "[*******************   39%                       ]  24 of 61 completed"
     ]
    },
    {
     "name": "stderr",
     "output_type": "stream",
     "text": [
      "\r",
      "[********************  41%                       ]  25 of 61 completed"
     ]
    },
    {
     "name": "stderr",
     "output_type": "stream",
     "text": [
      "\r",
      "[********************* 43%                       ]  26 of 61 completed"
     ]
    },
    {
     "name": "stderr",
     "output_type": "stream",
     "text": [
      "\r",
      "[********************* 44%                       ]  27 of 61 completed"
     ]
    },
    {
     "name": "stderr",
     "output_type": "stream",
     "text": [
      "\r",
      "[**********************46%                       ]  28 of 61 completed"
     ]
    },
    {
     "name": "stderr",
     "output_type": "stream",
     "text": [
      "\r",
      "[**********************48%                       ]  29 of 61 completed"
     ]
    },
    {
     "name": "stderr",
     "output_type": "stream",
     "text": [
      "\r",
      "[**********************49%                       ]  30 of 61 completed"
     ]
    },
    {
     "name": "stderr",
     "output_type": "stream",
     "text": [
      "\r",
      "[**********************51%                       ]  31 of 61 completed"
     ]
    },
    {
     "name": "stderr",
     "output_type": "stream",
     "text": [
      "\r",
      "[**********************52%                       ]  32 of 61 completed"
     ]
    },
    {
     "name": "stderr",
     "output_type": "stream",
     "text": [
      "\r",
      "[**********************54%*                      ]  33 of 61 completed"
     ]
    },
    {
     "name": "stderr",
     "output_type": "stream",
     "text": [
      "\r",
      "[**********************56%**                     ]  34 of 61 completed"
     ]
    },
    {
     "name": "stderr",
     "output_type": "stream",
     "text": [
      "\r",
      "[**********************57%**                     ]  35 of 61 completed"
     ]
    },
    {
     "name": "stderr",
     "output_type": "stream",
     "text": [
      "\r",
      "[**********************59%***                    ]  36 of 61 completed"
     ]
    },
    {
     "name": "stderr",
     "output_type": "stream",
     "text": [
      "\r",
      "[**********************61%****                   ]  37 of 61 completed"
     ]
    },
    {
     "name": "stderr",
     "output_type": "stream",
     "text": [
      "\r",
      "[**********************62%*****                  ]  38 of 61 completed"
     ]
    },
    {
     "name": "stderr",
     "output_type": "stream",
     "text": [
      "\r",
      "[**********************64%******                 ]  39 of 61 completed"
     ]
    },
    {
     "name": "stderr",
     "output_type": "stream",
     "text": [
      "\r",
      "[**********************66%*******                ]  40 of 61 completed"
     ]
    },
    {
     "name": "stderr",
     "output_type": "stream",
     "text": [
      "\r",
      "[**********************67%*******                ]  41 of 61 completed"
     ]
    },
    {
     "name": "stderr",
     "output_type": "stream",
     "text": [
      "\r",
      "[**********************69%********               ]  42 of 61 completed"
     ]
    },
    {
     "name": "stderr",
     "output_type": "stream",
     "text": [
      "\r",
      "[**********************70%*********              ]  43 of 61 completed"
     ]
    },
    {
     "name": "stderr",
     "output_type": "stream",
     "text": [
      "\r",
      "[**********************72%**********             ]  44 of 61 completed"
     ]
    },
    {
     "name": "stderr",
     "output_type": "stream",
     "text": [
      "\r",
      "[**********************74%***********            ]  45 of 61 completed"
     ]
    },
    {
     "name": "stderr",
     "output_type": "stream",
     "text": [
      "\r",
      "[**********************75%***********            ]  46 of 61 completed"
     ]
    },
    {
     "name": "stderr",
     "output_type": "stream",
     "text": [
      "\r",
      "[**********************77%************           ]  47 of 61 completed"
     ]
    },
    {
     "name": "stderr",
     "output_type": "stream",
     "text": [
      "\r",
      "[**********************79%*************          ]  48 of 61 completed"
     ]
    },
    {
     "name": "stderr",
     "output_type": "stream",
     "text": [
      "\r",
      "[**********************80%*************          ]  49 of 61 completed"
     ]
    },
    {
     "name": "stderr",
     "output_type": "stream",
     "text": [
      "\r",
      "[**********************82%**************         ]  50 of 61 completed"
     ]
    },
    {
     "name": "stderr",
     "output_type": "stream",
     "text": [
      "\r",
      "[**********************84%***************        ]  51 of 61 completed"
     ]
    },
    {
     "name": "stderr",
     "output_type": "stream",
     "text": [
      "\r",
      "[**********************85%****************       ]  52 of 61 completed"
     ]
    },
    {
     "name": "stderr",
     "output_type": "stream",
     "text": [
      "\r",
      "[**********************87%*****************      ]  53 of 61 completed"
     ]
    },
    {
     "name": "stderr",
     "output_type": "stream",
     "text": [
      "\r",
      "[**********************89%******************     ]  54 of 61 completed"
     ]
    },
    {
     "name": "stderr",
     "output_type": "stream",
     "text": [
      "\r",
      "[**********************90%******************     ]  55 of 61 completed"
     ]
    },
    {
     "name": "stderr",
     "output_type": "stream",
     "text": [
      "\r",
      "[**********************92%*******************    ]  56 of 61 completed"
     ]
    },
    {
     "name": "stderr",
     "output_type": "stream",
     "text": [
      "\r",
      "[**********************93%********************   ]  57 of 61 completed"
     ]
    },
    {
     "name": "stderr",
     "output_type": "stream",
     "text": [
      "\r",
      "[**********************95%*********************  ]  58 of 61 completed"
     ]
    },
    {
     "name": "stderr",
     "output_type": "stream",
     "text": [
      "\r",
      "[**********************97%********************** ]  59 of 61 completed"
     ]
    },
    {
     "name": "stderr",
     "output_type": "stream",
     "text": [
      "\r",
      "[**********************98%********************** ]  60 of 61 completed"
     ]
    },
    {
     "name": "stderr",
     "output_type": "stream",
     "text": [
      "\r",
      "[*********************100%***********************]  61 of 61 completed"
     ]
    },
    {
     "name": "stderr",
     "output_type": "stream",
     "text": [
      "\n",
      "\n",
      "1 Failed download:\n"
     ]
    },
    {
     "name": "stderr",
     "output_type": "stream",
     "text": [
      "['NKE']: OperationalError('database is locked')\n"
     ]
    },
    {
     "data": {
      "text/html": [
       "<div>\n",
       "<style scoped>\n",
       "    .dataframe tbody tr th:only-of-type {\n",
       "        vertical-align: middle;\n",
       "    }\n",
       "\n",
       "    .dataframe tbody tr th {\n",
       "        vertical-align: top;\n",
       "    }\n",
       "\n",
       "    .dataframe thead th {\n",
       "        text-align: right;\n",
       "    }\n",
       "</style>\n",
       "<table border=\"1\" class=\"dataframe\">\n",
       "  <thead>\n",
       "    <tr style=\"text-align: right;\">\n",
       "      <th>Metric</th>\n",
       "      <th>Date</th>\n",
       "      <th>Symbol</th>\n",
       "      <th>Adj Close</th>\n",
       "      <th>Close</th>\n",
       "      <th>High</th>\n",
       "      <th>Low</th>\n",
       "      <th>Open</th>\n",
       "      <th>Volume</th>\n",
       "    </tr>\n",
       "  </thead>\n",
       "  <tbody>\n",
       "    <tr>\n",
       "      <th>0</th>\n",
       "      <td>2020-01-02</td>\n",
       "      <td>AAPL</td>\n",
       "      <td>NaN</td>\n",
       "      <td>72.796043</td>\n",
       "      <td>72.856636</td>\n",
       "      <td>71.545410</td>\n",
       "      <td>71.799896</td>\n",
       "      <td>135480400.0</td>\n",
       "    </tr>\n",
       "    <tr>\n",
       "      <th>1</th>\n",
       "      <td>2020-01-02</td>\n",
       "      <td>ABBV</td>\n",
       "      <td>NaN</td>\n",
       "      <td>71.589775</td>\n",
       "      <td>71.605761</td>\n",
       "      <td>70.758358</td>\n",
       "      <td>71.214038</td>\n",
       "      <td>5639200.0</td>\n",
       "    </tr>\n",
       "    <tr>\n",
       "      <th>2</th>\n",
       "      <td>2020-01-02</td>\n",
       "      <td>ACN</td>\n",
       "      <td>NaN</td>\n",
       "      <td>195.263580</td>\n",
       "      <td>196.908203</td>\n",
       "      <td>194.018505</td>\n",
       "      <td>195.923292</td>\n",
       "      <td>2431100.0</td>\n",
       "    </tr>\n",
       "    <tr>\n",
       "      <th>3</th>\n",
       "      <td>2020-01-02</td>\n",
       "      <td>ADBE</td>\n",
       "      <td>NaN</td>\n",
       "      <td>334.429993</td>\n",
       "      <td>334.480011</td>\n",
       "      <td>329.170013</td>\n",
       "      <td>330.000000</td>\n",
       "      <td>1990100.0</td>\n",
       "    </tr>\n",
       "    <tr>\n",
       "      <th>4</th>\n",
       "      <td>2020-01-02</td>\n",
       "      <td>AMT</td>\n",
       "      <td>NaN</td>\n",
       "      <td>200.433945</td>\n",
       "      <td>202.758447</td>\n",
       "      <td>200.004125</td>\n",
       "      <td>201.469002</td>\n",
       "      <td>1426000.0</td>\n",
       "    </tr>\n",
       "    <tr>\n",
       "      <th>...</th>\n",
       "      <td>...</td>\n",
       "      <td>...</td>\n",
       "      <td>...</td>\n",
       "      <td>...</td>\n",
       "      <td>...</td>\n",
       "      <td>...</td>\n",
       "      <td>...</td>\n",
       "      <td>...</td>\n",
       "    </tr>\n",
       "    <tr>\n",
       "      <th>77770</th>\n",
       "      <td>2025-01-28</td>\n",
       "      <td>UPS</td>\n",
       "      <td>NaN</td>\n",
       "      <td>135.419998</td>\n",
       "      <td>136.990005</td>\n",
       "      <td>135.350006</td>\n",
       "      <td>135.759995</td>\n",
       "      <td>3094000.0</td>\n",
       "    </tr>\n",
       "    <tr>\n",
       "      <th>77771</th>\n",
       "      <td>2025-01-28</td>\n",
       "      <td>VZ</td>\n",
       "      <td>NaN</td>\n",
       "      <td>40.400002</td>\n",
       "      <td>40.810001</td>\n",
       "      <td>40.349998</td>\n",
       "      <td>40.599998</td>\n",
       "      <td>21030000.0</td>\n",
       "    </tr>\n",
       "    <tr>\n",
       "      <th>77772</th>\n",
       "      <td>2025-01-28</td>\n",
       "      <td>WFC</td>\n",
       "      <td>NaN</td>\n",
       "      <td>77.879997</td>\n",
       "      <td>78.150002</td>\n",
       "      <td>77.169998</td>\n",
       "      <td>77.870003</td>\n",
       "      <td>11560800.0</td>\n",
       "    </tr>\n",
       "    <tr>\n",
       "      <th>77773</th>\n",
       "      <td>2025-01-28</td>\n",
       "      <td>WMT</td>\n",
       "      <td>NaN</td>\n",
       "      <td>97.290001</td>\n",
       "      <td>97.839996</td>\n",
       "      <td>96.730003</td>\n",
       "      <td>97.230003</td>\n",
       "      <td>14636000.0</td>\n",
       "    </tr>\n",
       "    <tr>\n",
       "      <th>77774</th>\n",
       "      <td>2025-01-28</td>\n",
       "      <td>XOM</td>\n",
       "      <td>NaN</td>\n",
       "      <td>108.040001</td>\n",
       "      <td>110.870003</td>\n",
       "      <td>107.790001</td>\n",
       "      <td>110.410004</td>\n",
       "      <td>15856100.0</td>\n",
       "    </tr>\n",
       "  </tbody>\n",
       "</table>\n",
       "<p>77775 rows × 8 columns</p>\n",
       "</div>"
      ],
      "text/plain": [
       "Metric       Date Symbol  Adj Close       Close        High         Low  \\\n",
       "0      2020-01-02   AAPL        NaN   72.796043   72.856636   71.545410   \n",
       "1      2020-01-02   ABBV        NaN   71.589775   71.605761   70.758358   \n",
       "2      2020-01-02    ACN        NaN  195.263580  196.908203  194.018505   \n",
       "3      2020-01-02   ADBE        NaN  334.429993  334.480011  329.170013   \n",
       "4      2020-01-02    AMT        NaN  200.433945  202.758447  200.004125   \n",
       "...           ...    ...        ...         ...         ...         ...   \n",
       "77770  2025-01-28    UPS        NaN  135.419998  136.990005  135.350006   \n",
       "77771  2025-01-28     VZ        NaN   40.400002   40.810001   40.349998   \n",
       "77772  2025-01-28    WFC        NaN   77.879997   78.150002   77.169998   \n",
       "77773  2025-01-28    WMT        NaN   97.290001   97.839996   96.730003   \n",
       "77774  2025-01-28    XOM        NaN  108.040001  110.870003  107.790001   \n",
       "\n",
       "Metric        Open       Volume  \n",
       "0        71.799896  135480400.0  \n",
       "1        71.214038    5639200.0  \n",
       "2       195.923292    2431100.0  \n",
       "3       330.000000    1990100.0  \n",
       "4       201.469002    1426000.0  \n",
       "...            ...          ...  \n",
       "77770   135.759995    3094000.0  \n",
       "77771    40.599998   21030000.0  \n",
       "77772    77.870003   11560800.0  \n",
       "77773    97.230003   14636000.0  \n",
       "77774   110.410004   15856100.0  \n",
       "\n",
       "[77775 rows x 8 columns]"
      ]
     },
     "metadata": {},
     "output_type": "display_data"
    }
   ],
   "source": [
    "start_date = '2020-01-01'\n",
    "end_date = datetime.today().strftime('%Y-%m-%d')\n",
    "\n",
    "# Download prices from yfinance\n",
    "prices = yf.download(symbols, start=start_date, end=end_date, group_by='ticker')\n",
    "\n",
    "# Check if the data has a MultiIndex (due to multiple symbols)\n",
    "if isinstance(prices.columns, pd.MultiIndex):\n",
    "    # Flatten the MultiIndex columns\n",
    "    prices.columns = ['_'.join(filter(None, map(str, col))) for col in prices.columns]\n",
    "\n",
    "# Reset index and melt the DataFrame to include a \"symbol\" column\n",
    "prices = prices.copy()  # Avoid fragmentation issues\n",
    "prices.reset_index(inplace=True)\n",
    "prices = prices.melt(id_vars=[\"Date\"], var_name=\"Metric\", value_name=\"Value\")\n",
    "prices[[\"Symbol\", \"Metric\"]] = prices[\"Metric\"].str.extract(r'([^_]+)_(.+)')\n",
    "prices = prices.pivot(index=[\"Date\", \"Symbol\"], columns=\"Metric\", values=\"Value\").reset_index()\n",
    "\n",
    "display(prices)"
   ]
  },
  {
   "cell_type": "markdown",
   "metadata": {},
   "source": [
    "## Step 4: Convert Pandas to Polars"
   ]
  },
  {
   "cell_type": "code",
   "execution_count": 4,
   "metadata": {
    "execution": {
     "iopub.execute_input": "2025-01-29T10:06:19.849231Z",
     "iopub.status.busy": "2025-01-29T10:06:19.849051Z",
     "iopub.status.idle": "2025-01-29T10:06:19.923868Z",
     "shell.execute_reply": "2025-01-29T10:06:19.923310Z"
    }
   },
   "outputs": [
    {
     "name": "stdout",
     "output_type": "stream",
     "text": [
      "shape: (77_775, 8)\n",
      "┌────────────┬────────┬───────────┬────────────┬────────────┬────────────┬────────────┬────────────┐\n",
      "│ Date       ┆ Symbol ┆ Adj Close ┆ Close      ┆ High       ┆ Low        ┆ Open       ┆ Volume     │\n",
      "│ ---        ┆ ---    ┆ ---       ┆ ---        ┆ ---        ┆ ---        ┆ ---        ┆ ---        │\n",
      "│ datetime[n ┆ str    ┆ f64       ┆ f64        ┆ f64        ┆ f64        ┆ f64        ┆ f64        │\n",
      "│ s]         ┆        ┆           ┆            ┆            ┆            ┆            ┆            │\n",
      "╞════════════╪════════╪═══════════╪════════════╪════════════╪════════════╪════════════╪════════════╡\n",
      "│ 2020-01-02 ┆ AAPL   ┆ null      ┆ 72.796043  ┆ 72.856636  ┆ 71.54541   ┆ 71.799896  ┆ 1.354804e8 │\n",
      "│ 00:00:00   ┆        ┆           ┆            ┆            ┆            ┆            ┆            │\n",
      "│ 2020-01-02 ┆ ABBV   ┆ null      ┆ 71.589775  ┆ 71.605761  ┆ 70.758358  ┆ 71.214038  ┆ 5.6392e6   │\n",
      "│ 00:00:00   ┆        ┆           ┆            ┆            ┆            ┆            ┆            │\n",
      "│ 2020-01-02 ┆ ACN    ┆ null      ┆ 195.26358  ┆ 196.908203 ┆ 194.018505 ┆ 195.923292 ┆ 2.4311e6   │\n",
      "│ 00:00:00   ┆        ┆           ┆            ┆            ┆            ┆            ┆            │\n",
      "│ 2020-01-02 ┆ ADBE   ┆ null      ┆ 334.429993 ┆ 334.480011 ┆ 329.170013 ┆ 330.0      ┆ 1.9901e6   │\n",
      "│ 00:00:00   ┆        ┆           ┆            ┆            ┆            ┆            ┆            │\n",
      "│ 2020-01-02 ┆ AMT    ┆ null      ┆ 200.433945 ┆ 202.758447 ┆ 200.004125 ┆ 201.469002 ┆ 1.426e6    │\n",
      "│ 00:00:00   ┆        ┆           ┆            ┆            ┆            ┆            ┆            │\n",
      "│ …          ┆ …      ┆ …         ┆ …          ┆ …          ┆ …          ┆ …          ┆ …          │\n",
      "│ 2025-01-28 ┆ UPS    ┆ null      ┆ 135.419998 ┆ 136.990005 ┆ 135.350006 ┆ 135.759995 ┆ 3.094e6    │\n",
      "│ 00:00:00   ┆        ┆           ┆            ┆            ┆            ┆            ┆            │\n",
      "│ 2025-01-28 ┆ VZ     ┆ null      ┆ 40.400002  ┆ 40.810001  ┆ 40.349998  ┆ 40.599998  ┆ 2.103e7    │\n",
      "│ 00:00:00   ┆        ┆           ┆            ┆            ┆            ┆            ┆            │\n",
      "│ 2025-01-28 ┆ WFC    ┆ null      ┆ 77.879997  ┆ 78.150002  ┆ 77.169998  ┆ 77.870003  ┆ 1.15608e7  │\n",
      "│ 00:00:00   ┆        ┆           ┆            ┆            ┆            ┆            ┆            │\n",
      "│ 2025-01-28 ┆ WMT    ┆ null      ┆ 97.290001  ┆ 97.839996  ┆ 96.730003  ┆ 97.230003  ┆ 1.4636e7   │\n",
      "│ 00:00:00   ┆        ┆           ┆            ┆            ┆            ┆            ┆            │\n",
      "│ 2025-01-28 ┆ XOM    ┆ null      ┆ 108.040001 ┆ 110.870003 ┆ 107.790001 ┆ 110.410004 ┆ 1.58561e7  │\n",
      "│ 00:00:00   ┆        ┆           ┆            ┆            ┆            ┆            ┆            │\n",
      "└────────────┴────────┴───────────┴────────────┴────────────┴────────────┴────────────┴────────────┘\n"
     ]
    }
   ],
   "source": [
    "# Convert to Polars DataFrame\n",
    "df = pl.from_pandas(prices)\n",
    "\n",
    "# View the Polars DataFrame\n",
    "print(df)"
   ]
  },
  {
   "cell_type": "markdown",
   "metadata": {},
   "source": [
    "## Step 5: Write Polars to Parquet"
   ]
  },
  {
   "cell_type": "code",
   "execution_count": 5,
   "metadata": {
    "execution": {
     "iopub.execute_input": "2025-01-29T10:06:19.925989Z",
     "iopub.status.busy": "2025-01-29T10:06:19.925600Z",
     "iopub.status.idle": "2025-01-29T10:06:19.959142Z",
     "shell.execute_reply": "2025-01-29T10:06:19.958547Z"
    }
   },
   "outputs": [],
   "source": [
    "output_dir = \"../../../data/finance\"\n",
    "\n",
    "# Write DataFrame to Parquet\n",
    "# df.write_parquet(f'{output_dir}/historical_stock_quotes_{start_date}_to_{end_date}.parquet')\n",
    "df.write_parquet(f'{output_dir}/historical_stock_quotes.parquet')"
   ]
  },
  {
   "cell_type": "markdown",
   "metadata": {},
   "source": [
    "## Step 6: Read Parquet (Validate)"
   ]
  },
  {
   "cell_type": "code",
   "execution_count": 6,
   "metadata": {
    "execution": {
     "iopub.execute_input": "2025-01-29T10:06:19.961236Z",
     "iopub.status.busy": "2025-01-29T10:06:19.960887Z",
     "iopub.status.idle": "2025-01-29T10:06:19.970632Z",
     "shell.execute_reply": "2025-01-29T10:06:19.970136Z"
    }
   },
   "outputs": [
    {
     "data": {
      "text/html": [
       "<div><style>\n",
       ".dataframe > thead > tr,\n",
       ".dataframe > tbody > tr {\n",
       "  text-align: right;\n",
       "  white-space: pre-wrap;\n",
       "}\n",
       "</style>\n",
       "<small>shape: (5, 8)</small><table border=\"1\" class=\"dataframe\"><thead><tr><th>Date</th><th>Symbol</th><th>Adj Close</th><th>Close</th><th>High</th><th>Low</th><th>Open</th><th>Volume</th></tr><tr><td>datetime[ns]</td><td>str</td><td>f64</td><td>f64</td><td>f64</td><td>f64</td><td>f64</td><td>f64</td></tr></thead><tbody><tr><td>2020-01-02 00:00:00</td><td>&quot;AAPL&quot;</td><td>null</td><td>72.796043</td><td>72.856636</td><td>71.54541</td><td>71.799896</td><td>1.354804e8</td></tr><tr><td>2020-01-02 00:00:00</td><td>&quot;ABBV&quot;</td><td>null</td><td>71.589775</td><td>71.605761</td><td>70.758358</td><td>71.214038</td><td>5.6392e6</td></tr><tr><td>2020-01-02 00:00:00</td><td>&quot;ACN&quot;</td><td>null</td><td>195.26358</td><td>196.908203</td><td>194.018505</td><td>195.923292</td><td>2.4311e6</td></tr><tr><td>2020-01-02 00:00:00</td><td>&quot;ADBE&quot;</td><td>null</td><td>334.429993</td><td>334.480011</td><td>329.170013</td><td>330.0</td><td>1.9901e6</td></tr><tr><td>2020-01-02 00:00:00</td><td>&quot;AMT&quot;</td><td>null</td><td>200.433945</td><td>202.758447</td><td>200.004125</td><td>201.469002</td><td>1.426e6</td></tr></tbody></table></div>"
      ],
      "text/plain": [
       "shape: (5, 8)\n",
       "┌────────────┬────────┬───────────┬────────────┬────────────┬────────────┬────────────┬────────────┐\n",
       "│ Date       ┆ Symbol ┆ Adj Close ┆ Close      ┆ High       ┆ Low        ┆ Open       ┆ Volume     │\n",
       "│ ---        ┆ ---    ┆ ---       ┆ ---        ┆ ---        ┆ ---        ┆ ---        ┆ ---        │\n",
       "│ datetime[n ┆ str    ┆ f64       ┆ f64        ┆ f64        ┆ f64        ┆ f64        ┆ f64        │\n",
       "│ s]         ┆        ┆           ┆            ┆            ┆            ┆            ┆            │\n",
       "╞════════════╪════════╪═══════════╪════════════╪════════════╪════════════╪════════════╪════════════╡\n",
       "│ 2020-01-02 ┆ AAPL   ┆ null      ┆ 72.796043  ┆ 72.856636  ┆ 71.54541   ┆ 71.799896  ┆ 1.354804e8 │\n",
       "│ 00:00:00   ┆        ┆           ┆            ┆            ┆            ┆            ┆            │\n",
       "│ 2020-01-02 ┆ ABBV   ┆ null      ┆ 71.589775  ┆ 71.605761  ┆ 70.758358  ┆ 71.214038  ┆ 5.6392e6   │\n",
       "│ 00:00:00   ┆        ┆           ┆            ┆            ┆            ┆            ┆            │\n",
       "│ 2020-01-02 ┆ ACN    ┆ null      ┆ 195.26358  ┆ 196.908203 ┆ 194.018505 ┆ 195.923292 ┆ 2.4311e6   │\n",
       "│ 00:00:00   ┆        ┆           ┆            ┆            ┆            ┆            ┆            │\n",
       "│ 2020-01-02 ┆ ADBE   ┆ null      ┆ 334.429993 ┆ 334.480011 ┆ 329.170013 ┆ 330.0      ┆ 1.9901e6   │\n",
       "│ 00:00:00   ┆        ┆           ┆            ┆            ┆            ┆            ┆            │\n",
       "│ 2020-01-02 ┆ AMT    ┆ null      ┆ 200.433945 ┆ 202.758447 ┆ 200.004125 ┆ 201.469002 ┆ 1.426e6    │\n",
       "│ 00:00:00   ┆        ┆           ┆            ┆            ┆            ┆            ┆            │\n",
       "└────────────┴────────┴───────────┴────────────┴────────────┴────────────┴────────────┴────────────┘"
      ]
     },
     "execution_count": 6,
     "metadata": {},
     "output_type": "execute_result"
    }
   ],
   "source": [
    "# pl.scan_parquet(f'{output_dir}/historical_stock_quotes_{start_date}_to_{end_date}.parquet').head().collect()\n",
    "pl.scan_parquet(f'{output_dir}/historical_stock_quotes.parquet').head().collect()"
   ]
  }
 ],
 "metadata": {
  "kernelspec": {
   "display_name": ".venv",
   "language": "python",
   "name": "python3"
  },
  "language_info": {
   "codemirror_mode": {
    "name": "ipython",
    "version": 3
   },
   "file_extension": ".py",
   "mimetype": "text/x-python",
   "name": "python",
   "nbconvert_exporter": "python",
   "pygments_lexer": "ipython3",
   "version": "3.12.8"
  }
 },
 "nbformat": 4,
 "nbformat_minor": 2
}
