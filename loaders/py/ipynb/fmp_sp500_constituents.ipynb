{
 "cells": [
  {
   "cell_type": "markdown",
   "metadata": {},
   "source": [
    "## Step 1: Import Libraries"
   ]
  },
  {
   "cell_type": "code",
   "execution_count": 1,
   "metadata": {
    "execution": {
<<<<<<< HEAD
     "iopub.execute_input": "2025-01-17T12:18:25.707701Z",
     "iopub.status.busy": "2025-01-17T12:18:25.707520Z",
     "iopub.status.idle": "2025-01-17T12:18:25.773175Z",
     "shell.execute_reply": "2025-01-17T12:18:25.772622Z"
=======
     "iopub.execute_input": "2025-01-17T12:35:07.629282Z",
     "iopub.status.busy": "2025-01-17T12:35:07.628937Z",
     "iopub.status.idle": "2025-01-17T12:35:07.678206Z",
     "shell.execute_reply": "2025-01-17T12:35:07.677051Z"
>>>>>>> 473925d (Notebooks Update)
    }
   },
   "outputs": [],
   "source": [
    "%run ../make_clean_names.py"
   ]
  },
  {
   "cell_type": "code",
   "execution_count": 2,
   "metadata": {
    "execution": {
<<<<<<< HEAD
     "iopub.execute_input": "2025-01-17T12:18:25.775226Z",
     "iopub.status.busy": "2025-01-17T12:18:25.775036Z",
     "iopub.status.idle": "2025-01-17T12:18:25.842588Z",
     "shell.execute_reply": "2025-01-17T12:18:25.841908Z"
=======
     "iopub.execute_input": "2025-01-17T12:35:07.680708Z",
     "iopub.status.busy": "2025-01-17T12:35:07.680508Z",
     "iopub.status.idle": "2025-01-17T12:35:07.737331Z",
     "shell.execute_reply": "2025-01-17T12:35:07.736355Z"
>>>>>>> 473925d (Notebooks Update)
    }
   },
   "outputs": [],
   "source": [
    "import requests\n",
    "from requests.adapters import HTTPAdapter\n",
    "from urllib3.util.retry import Retry\n",
    "import logging\n",
    "\n",
    "import polars as pl\n",
    "from typing import List, Dict, Any\n",
    "from dotenv import load_dotenv\n",
    "import os\n",
    "\n",
    "# Load environment variables\n",
    "load_dotenv()\n",
    "\n",
    "logging.basicConfig(level=logging.INFO)\n",
    "logger = logging.getLogger(__name__)\n",
    "\n",
    "def create_session():\n",
    "    session = requests.Session()\n",
    "    retries = Retry(\n",
    "        total=3,\n",
    "        backoff_factor=1,\n",
    "        status_forcelist=[429, 500, 502, 503, 504]\n",
    "    )\n",
    "    session.mount('https://', HTTPAdapter(max_retries=retries, pool_maxsize=10))\n",
    "    return session\n",
    "\n",
    "# Get API key from environment variables\n",
    "FMP_API_KEY = os.getenv('FMP_API_KEY')\n",
    "if not FMP_API_KEY:\n",
    "    raise ValueError(\"FMP_API_KEY not found in environment variables\")"
   ]
  },
  {
   "cell_type": "markdown",
   "metadata": {},
   "source": [
    "## Step 2: Extract Data from FMP into Polars"
   ]
  },
  {
   "cell_type": "code",
   "execution_count": 3,
   "metadata": {
    "execution": {
<<<<<<< HEAD
     "iopub.execute_input": "2025-01-17T12:18:25.844850Z",
     "iopub.status.busy": "2025-01-17T12:18:25.844660Z",
     "iopub.status.idle": "2025-01-17T12:18:26.006953Z",
     "shell.execute_reply": "2025-01-17T12:18:26.006316Z"
=======
     "iopub.execute_input": "2025-01-17T12:35:07.740137Z",
     "iopub.status.busy": "2025-01-17T12:35:07.739943Z",
     "iopub.status.idle": "2025-01-17T12:35:08.055565Z",
     "shell.execute_reply": "2025-01-17T12:35:08.055006Z"
>>>>>>> 473925d (Notebooks Update)
    }
   },
   "outputs": [],
   "source": [
    "# Fetch Historical S&P 500 Data\n",
    "\n",
    "def fetch_historical_sp500(api_key: str, session: requests.Session) -> List[Dict]:\n",
    "    \"\"\"Fetch historical S&P 500 constituent data from FMP API\"\"\"\n",
    "    url = \"https://financialmodelingprep.com/api/v3/historical/sp500_constituent\"\n",
    "    params = {\"apikey\": api_key}\n",
    "    \n",
    "    try:\n",
    "        response = session.get(url, params=params, timeout=10)\n",
    "        response.raise_for_status()\n",
    "        return response.json()\n",
    "    except Exception as e:\n",
    "        logger.error(f\"Error fetching historical S&P 500 data: {str(e)}\")\n",
    "        return []\n",
    "    \n",
    "session = create_session()\n",
    "\n",
    "# Fetch the data\n",
    "historical_sp500_data = fetch_historical_sp500(FMP_API_KEY, session)\n",
    "\n",
    "# Convert to Polars DataFrame more efficiently\n",
    "if historical_sp500_data:\n",
    "    df = pl.DataFrame(historical_sp500_data)"
   ]
  },
  {
   "cell_type": "markdown",
   "metadata": {},
   "source": [
    "## Step 3: Clean Column Names"
   ]
  },
  {
   "cell_type": "code",
   "execution_count": 4,
   "metadata": {
    "execution": {
<<<<<<< HEAD
     "iopub.execute_input": "2025-01-17T12:18:26.009412Z",
     "iopub.status.busy": "2025-01-17T12:18:26.008891Z",
     "iopub.status.idle": "2025-01-17T12:18:26.013721Z",
     "shell.execute_reply": "2025-01-17T12:18:26.013106Z"
=======
     "iopub.execute_input": "2025-01-17T12:35:08.057685Z",
     "iopub.status.busy": "2025-01-17T12:35:08.057496Z",
     "iopub.status.idle": "2025-01-17T12:35:08.061703Z",
     "shell.execute_reply": "2025-01-17T12:35:08.061223Z"
>>>>>>> 473925d (Notebooks Update)
    }
   },
   "outputs": [],
   "source": [
    "df = make_clean_names(df)"
   ]
  },
  {
   "cell_type": "markdown",
   "metadata": {},
   "source": [
    "## Step 4: Write Polars to Parquet"
   ]
  },
  {
   "cell_type": "code",
   "execution_count": 5,
   "metadata": {
    "execution": {
<<<<<<< HEAD
     "iopub.execute_input": "2025-01-17T12:18:26.015525Z",
     "iopub.status.busy": "2025-01-17T12:18:26.015187Z",
     "iopub.status.idle": "2025-01-17T12:18:26.021492Z",
     "shell.execute_reply": "2025-01-17T12:18:26.021050Z"
=======
     "iopub.execute_input": "2025-01-17T12:35:08.063919Z",
     "iopub.status.busy": "2025-01-17T12:35:08.063504Z",
     "iopub.status.idle": "2025-01-17T12:35:08.083998Z",
     "shell.execute_reply": "2025-01-17T12:35:08.083377Z"
>>>>>>> 473925d (Notebooks Update)
    }
   },
   "outputs": [],
   "source": [
    "# Define the output directory\n",
    "output_dir = \"../../../data/finance\"\n",
    "\n",
    "# Write the processed DataFrame to a Parquet file\n",
    "df.write_parquet(f'{output_dir}/historical_sp500_constituents.parquet')"
   ]
  },
  {
   "cell_type": "markdown",
   "metadata": {},
   "source": [
    "## Step 5: Read Parquet (Validate)"
   ]
  },
  {
   "cell_type": "code",
   "execution_count": 6,
   "metadata": {
    "execution": {
<<<<<<< HEAD
     "iopub.execute_input": "2025-01-17T12:18:26.023396Z",
     "iopub.status.busy": "2025-01-17T12:18:26.023062Z",
     "iopub.status.idle": "2025-01-17T12:18:26.030363Z",
     "shell.execute_reply": "2025-01-17T12:18:26.029836Z"
=======
     "iopub.execute_input": "2025-01-17T12:35:08.086028Z",
     "iopub.status.busy": "2025-01-17T12:35:08.085801Z",
     "iopub.status.idle": "2025-01-17T12:35:08.093666Z",
     "shell.execute_reply": "2025-01-17T12:35:08.093025Z"
>>>>>>> 473925d (Notebooks Update)
    }
   },
   "outputs": [
    {
     "data": {
      "text/html": [
       "<div><style>\n",
       ".dataframe > thead > tr,\n",
       ".dataframe > tbody > tr {\n",
       "  text-align: right;\n",
       "  white-space: pre-wrap;\n",
       "}\n",
       "</style>\n",
       "<small>shape: (5, 7)</small><table border=\"1\" class=\"dataframe\"><thead><tr><th>date_added</th><th>added_security</th><th>removed_ticker</th><th>removed_security</th><th>date</th><th>symbol</th><th>reason</th></tr><tr><td>str</td><td>str</td><td>str</td><td>str</td><td>str</td><td>str</td><td>str</td></tr></thead><tbody><tr><td>&quot;December 23, 2024&quot;</td><td>&quot;Lennox International&quot;</td><td>&quot;CTLT&quot;</td><td>&quot;Catalent&quot;</td><td>&quot;2024-12-22&quot;</td><td>&quot;LII&quot;</td><td>&quot;Acquired by Novo Holdings A/S …</td></tr><tr><td>&quot;November 26, 2024&quot;</td><td>&quot;Texas Pacific Land Corporation&quot;</td><td>&quot;MRO&quot;</td><td>&quot;Marathon Oil&quot;</td><td>&quot;2024-11-25&quot;</td><td>&quot;TPL&quot;</td><td>&quot;ConocoPhillips acquired Marath…</td></tr><tr><td>&quot;September 30, 2024&quot;</td><td>&quot;Amentum&quot;</td><td>&quot;BBWI&quot;</td><td>&quot;Bath &amp; Body Works, Inc.&quot;</td><td>&quot;2024-10-30&quot;</td><td>&quot;AMTM&quot;</td><td>&quot;Market capitalization change.&quot;</td></tr><tr><td>&quot;September 23, 2024&quot;</td><td>&quot;Palantir Technologies&quot;</td><td>&quot;AAL&quot;</td><td>&quot;American Airlines Group&quot;</td><td>&quot;2024-09-23&quot;</td><td>&quot;PLTR&quot;</td><td>&quot;Market capitalization change.&quot;</td></tr><tr><td>&quot;September 23, 2024&quot;</td><td>&quot;Erie Indemnity&quot;</td><td>&quot;BIO&quot;</td><td>&quot;Bio-Rad Laboratories&quot;</td><td>&quot;2024-09-23&quot;</td><td>&quot;ERIE&quot;</td><td>&quot;Market capitalization change.&quot;</td></tr></tbody></table></div>"
      ],
      "text/plain": [
       "shape: (5, 7)\n",
       "┌───────────────┬───────────────┬──────────────┬──────────────┬────────────┬────────┬──────────────┐\n",
       "│ date_added    ┆ added_securit ┆ removed_tick ┆ removed_secu ┆ date       ┆ symbol ┆ reason       │\n",
       "│ ---           ┆ y             ┆ er           ┆ rity         ┆ ---        ┆ ---    ┆ ---          │\n",
       "│ str           ┆ ---           ┆ ---          ┆ ---          ┆ str        ┆ str    ┆ str          │\n",
       "│               ┆ str           ┆ str          ┆ str          ┆            ┆        ┆              │\n",
       "╞═══════════════╪═══════════════╪══════════════╪══════════════╪════════════╪════════╪══════════════╡\n",
       "│ December 23,  ┆ Lennox        ┆ CTLT         ┆ Catalent     ┆ 2024-12-22 ┆ LII    ┆ Acquired by  │\n",
       "│ 2024          ┆ International ┆              ┆              ┆            ┆        ┆ Novo         │\n",
       "│               ┆               ┆              ┆              ┆            ┆        ┆ Holdings A/S │\n",
       "│               ┆               ┆              ┆              ┆            ┆        ┆ …            │\n",
       "│ November 26,  ┆ Texas Pacific ┆ MRO          ┆ Marathon Oil ┆ 2024-11-25 ┆ TPL    ┆ ConocoPhilli │\n",
       "│ 2024          ┆ Land          ┆              ┆              ┆            ┆        ┆ ps acquired  │\n",
       "│               ┆ Corporation   ┆              ┆              ┆            ┆        ┆ Marath…      │\n",
       "│ September 30, ┆ Amentum       ┆ BBWI         ┆ Bath & Body  ┆ 2024-10-30 ┆ AMTM   ┆ Market capit │\n",
       "│ 2024          ┆               ┆              ┆ Works, Inc.  ┆            ┆        ┆ alization    │\n",
       "│               ┆               ┆              ┆              ┆            ┆        ┆ change.      │\n",
       "│ September 23, ┆ Palantir      ┆ AAL          ┆ American     ┆ 2024-09-23 ┆ PLTR   ┆ Market capit │\n",
       "│ 2024          ┆ Technologies  ┆              ┆ Airlines     ┆            ┆        ┆ alization    │\n",
       "│               ┆               ┆              ┆ Group        ┆            ┆        ┆ change.      │\n",
       "│ September 23, ┆ Erie          ┆ BIO          ┆ Bio-Rad      ┆ 2024-09-23 ┆ ERIE   ┆ Market capit │\n",
       "│ 2024          ┆ Indemnity     ┆              ┆ Laboratories ┆            ┆        ┆ alization    │\n",
       "│               ┆               ┆              ┆              ┆            ┆        ┆ change.      │\n",
       "└───────────────┴───────────────┴──────────────┴──────────────┴────────────┴────────┴──────────────┘"
      ]
     },
     "execution_count": 6,
     "metadata": {},
     "output_type": "execute_result"
    }
   ],
   "source": [
    "# Validate the output by reading the Parquet file and displaying the first few rows\n",
    "pl.scan_parquet(f'{output_dir}/historical_sp500_constituents.parquet').head().collect()"
   ]
  }
 ],
 "metadata": {
  "kernelspec": {
   "display_name": ".venv",
   "language": "python",
   "name": "python3"
  },
  "language_info": {
   "codemirror_mode": {
    "name": "ipython",
    "version": 3
   },
   "file_extension": ".py",
   "mimetype": "text/x-python",
   "name": "python",
   "nbconvert_exporter": "python",
   "pygments_lexer": "ipython3",
   "version": "3.12.8"
  }
 },
 "nbformat": 4,
 "nbformat_minor": 2
}
