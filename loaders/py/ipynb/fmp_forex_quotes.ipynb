{
 "cells": [
  {
   "cell_type": "markdown",
   "metadata": {},
   "source": [
    "## Step 1: Import Libraries"
   ]
  },
  {
   "cell_type": "code",
   "execution_count": 1,
   "metadata": {
    "execution": {
<<<<<<< HEAD
<<<<<<< HEAD
     "iopub.execute_input": "2025-01-17T15:34:09.059175Z",
     "iopub.status.busy": "2025-01-17T15:34:09.058980Z",
     "iopub.status.idle": "2025-01-17T15:34:09.126813Z",
     "shell.execute_reply": "2025-01-17T15:34:09.126250Z"
=======
=======
>>>>>>> e7e3c52 (AAPL Institutional Holders Upload)
     "iopub.execute_input": "2025-01-17T22:59:07.666389Z",
     "iopub.status.busy": "2025-01-17T22:59:07.666248Z",
     "iopub.status.idle": "2025-01-17T22:59:07.710227Z",
     "shell.execute_reply": "2025-01-17T22:59:07.709326Z"
<<<<<<< HEAD
>>>>>>> e7e3c52 (AAPL Institutional Holders Upload)
=======
>>>>>>> e7e3c52 (AAPL Institutional Holders Upload)
    }
   },
   "outputs": [],
   "source": [
    "%run ../make_clean_names.py"
   ]
  },
  {
   "cell_type": "code",
   "execution_count": 2,
   "metadata": {
    "execution": {
<<<<<<< HEAD
<<<<<<< HEAD
     "iopub.execute_input": "2025-01-17T15:34:09.129145Z",
     "iopub.status.busy": "2025-01-17T15:34:09.128749Z",
     "iopub.status.idle": "2025-01-17T15:34:09.195469Z",
     "shell.execute_reply": "2025-01-17T15:34:09.194917Z"
=======
=======
>>>>>>> e7e3c52 (AAPL Institutional Holders Upload)
     "iopub.execute_input": "2025-01-17T22:59:07.712935Z",
     "iopub.status.busy": "2025-01-17T22:59:07.712359Z",
     "iopub.status.idle": "2025-01-17T22:59:07.762613Z",
     "shell.execute_reply": "2025-01-17T22:59:07.761173Z"
<<<<<<< HEAD
>>>>>>> e7e3c52 (AAPL Institutional Holders Upload)
=======
>>>>>>> e7e3c52 (AAPL Institutional Holders Upload)
    }
   },
   "outputs": [],
   "source": [
    "import requests\n",
    "from requests.adapters import HTTPAdapter\n",
    "from requests.packages.urllib3.util.retry import Retry\n",
    "import logging\n",
    "import concurrent.futures\n",
    "from datetime import datetime\n",
    "from typing import Dict, List\n",
    "from concurrent.futures import ThreadPoolExecutor\n",
    "import polars as pl\n",
    "\n",
    "from dotenv import load_dotenv\n",
    "import os\n",
    "\n",
    "# Load environment variables\n",
    "load_dotenv()\n",
    "\n",
    "logging.basicConfig(level=logging.INFO)\n",
    "logger = logging.getLogger(__name__)\n",
    "\n",
    "def create_session():\n",
    "    session = requests.Session()\n",
    "    retries = Retry(\n",
    "        total=3,\n",
    "        backoff_factor=1,\n",
    "        status_forcelist=[429, 500, 502, 503, 504]\n",
    "    )\n",
    "    session.mount('https://', HTTPAdapter(max_retries=retries, pool_maxsize=10))\n",
    "    return session\n",
    "\n",
    "# Get API key from environment variables\n",
    "FMP_API_KEY = os.getenv('FMP_API_KEY')\n",
    "if not FMP_API_KEY:\n",
    "    raise ValueError(\"FMP_API_KEY not found in environment variables\")"
   ]
  },
  {
   "cell_type": "markdown",
   "metadata": {},
   "source": [
    "## Step 2: Import Forex Pairs"
   ]
  },
  {
   "cell_type": "code",
   "execution_count": 3,
   "metadata": {
    "execution": {
<<<<<<< HEAD
<<<<<<< HEAD
     "iopub.execute_input": "2025-01-17T15:34:09.197487Z",
     "iopub.status.busy": "2025-01-17T15:34:09.197319Z",
     "iopub.status.idle": "2025-01-17T15:34:09.202161Z",
     "shell.execute_reply": "2025-01-17T15:34:09.201542Z"
=======
=======
>>>>>>> e7e3c52 (AAPL Institutional Holders Upload)
     "iopub.execute_input": "2025-01-17T22:59:07.765111Z",
     "iopub.status.busy": "2025-01-17T22:59:07.764958Z",
     "iopub.status.idle": "2025-01-17T22:59:07.769339Z",
     "shell.execute_reply": "2025-01-17T22:59:07.768889Z"
<<<<<<< HEAD
>>>>>>> e7e3c52 (AAPL Institutional Holders Upload)
=======
>>>>>>> e7e3c52 (AAPL Institutional Holders Upload)
    }
   },
   "outputs": [
    {
     "name": "stdout",
     "output_type": "stream",
     "text": [
      "Loaded 4 pairs from ../fx_pairs.txt\n",
      "pairs: ['USDEUR', 'USDBRL', 'USDGBP', 'USDJPY']\n"
     ]
    }
   ],
   "source": [
    "def load_pairs(file_path: str) -> List[str]:\n",
    "    \"\"\"Load pairs from a text file\"\"\"\n",
    "    try:\n",
    "        with open(file_path, 'r') as f:\n",
    "            pairs = [line.strip() for line in f if line.strip()]\n",
    "        print(f\"Loaded {len(pairs)} pairs from {file_path}\")\n",
    "        return pairs\n",
    "    except Exception as e:\n",
    "        print(f\"Error loading pairs: {str(e)}\")\n",
    "        return []\n",
    "\n",
    "pairs_file = '../fx_pairs.txt'\n",
    "pairs = load_pairs(pairs_file)\n",
    "\n",
    "if pairs:\n",
    "    print(\"pairs:\", pairs)\n",
    "else:\n",
    "    print(\"No pairs loaded.\")"
   ]
  },
  {
   "cell_type": "markdown",
   "metadata": {},
   "source": [
    "## Step 2: Extract Data from FMP into Polars"
   ]
  },
  {
   "cell_type": "code",
   "execution_count": 4,
   "metadata": {
    "execution": {
<<<<<<< HEAD
<<<<<<< HEAD
     "iopub.execute_input": "2025-01-17T15:34:09.238507Z",
     "iopub.status.busy": "2025-01-17T15:34:09.238101Z",
     "iopub.status.idle": "2025-01-17T15:34:09.403113Z",
     "shell.execute_reply": "2025-01-17T15:34:09.402617Z"
=======
=======
>>>>>>> e7e3c52 (AAPL Institutional Holders Upload)
     "iopub.execute_input": "2025-01-17T22:59:07.793275Z",
     "iopub.status.busy": "2025-01-17T22:59:07.793081Z",
     "iopub.status.idle": "2025-01-17T22:59:09.053625Z",
     "shell.execute_reply": "2025-01-17T22:59:09.052710Z"
<<<<<<< HEAD
>>>>>>> e7e3c52 (AAPL Institutional Holders Upload)
=======
>>>>>>> e7e3c52 (AAPL Institutional Holders Upload)
    }
   },
   "outputs": [],
   "source": [
    "start_date = '2020-01-01'\n",
    "end_date = datetime.today().strftime('%Y-%m-%d')\n",
    "\n",
    "def fetch_forex_data(pair: str, api_key: str, session: requests.Session) -> Dict:\n",
    "    \"\"\"Fetch historical forex data for a single pair with pair identifier\"\"\"\n",
    "    url = f\"https://financialmodelingprep.com/api/v3/historical-chart/1day/{pair}\"\n",
    "    params = {\n",
    "        \"from\": start_date,\n",
    "        \"to\": end_date,\n",
    "        \"apikey\": api_key\n",
    "    }\n",
    "        \n",
    "    try:\n",
    "        response = session.get(url, params=params, timeout=10)\n",
    "        response.raise_for_status()\n",
    "        data = response.json()\n",
    "        # Add pair identifier to each record\n",
    "        return [{\"pair\": pair, **record} for record in data] if data else None\n",
    "    except Exception as e:\n",
    "        logger.error(f\"Error fetching {pair}: {str(e)}\")\n",
    "        return None\n",
    "\n",
    "def fetch_all_forex_data(pairs: List[str], api_key: str) -> List[Dict]:\n",
    "    \"\"\"Fetch and combine forex data for multiple pairs\"\"\"\n",
    "    session = create_session()\n",
    "    \n",
    "    with ThreadPoolExecutor(max_workers=10) as executor:\n",
    "        futures = [\n",
    "            executor.submit(fetch_forex_data, pair, api_key, session)\n",
    "            for pair in pairs\n",
    "        ]\n",
    "        results = [\n",
    "            f.result() for f in concurrent.futures.as_completed(futures)\n",
    "        ]\n",
    "    \n",
    "    # Flatten results list and remove None values\n",
    "    all_data = []\n",
    "    for result in results:\n",
    "        if result:\n",
    "            all_data.extend(result)\n",
    "    return all_data\n",
    "\n",
    "# Execute fetching\n",
    "fx_data = fetch_all_forex_data(pairs, FMP_API_KEY)\n",
    "\n",
    "# Convert to Polars DataFrame if data exists\n",
    "if fx_data:\n",
    "    df = pl.DataFrame(fx_data)"
   ]
  },
  {
   "cell_type": "markdown",
   "metadata": {},
   "source": [
    "## Step 3: Clean Column Names"
   ]
  },
  {
   "cell_type": "code",
   "execution_count": 5,
   "metadata": {
    "execution": {
<<<<<<< HEAD
<<<<<<< HEAD
     "iopub.execute_input": "2025-01-17T15:34:09.405568Z",
     "iopub.status.busy": "2025-01-17T15:34:09.405002Z",
     "iopub.status.idle": "2025-01-17T15:34:09.409817Z",
     "shell.execute_reply": "2025-01-17T15:34:09.409270Z"
=======
=======
>>>>>>> e7e3c52 (AAPL Institutional Holders Upload)
     "iopub.execute_input": "2025-01-17T22:59:09.055888Z",
     "iopub.status.busy": "2025-01-17T22:59:09.055739Z",
     "iopub.status.idle": "2025-01-17T22:59:09.059457Z",
     "shell.execute_reply": "2025-01-17T22:59:09.059005Z"
<<<<<<< HEAD
>>>>>>> e7e3c52 (AAPL Institutional Holders Upload)
=======
>>>>>>> e7e3c52 (AAPL Institutional Holders Upload)
    }
   },
   "outputs": [],
   "source": [
    "df = make_clean_names(df)"
   ]
  },
  {
   "cell_type": "markdown",
   "metadata": {},
   "source": [
    "## Step 4: Write Polars to Parquet"
   ]
  },
  {
   "cell_type": "code",
   "execution_count": 6,
   "metadata": {
    "execution": {
<<<<<<< HEAD
<<<<<<< HEAD
     "iopub.execute_input": "2025-01-17T15:34:09.411635Z",
     "iopub.status.busy": "2025-01-17T15:34:09.411322Z",
     "iopub.status.idle": "2025-01-17T15:34:09.418676Z",
     "shell.execute_reply": "2025-01-17T15:34:09.418219Z"
=======
=======
>>>>>>> e7e3c52 (AAPL Institutional Holders Upload)
     "iopub.execute_input": "2025-01-17T22:59:09.061191Z",
     "iopub.status.busy": "2025-01-17T22:59:09.060944Z",
     "iopub.status.idle": "2025-01-17T22:59:09.076151Z",
     "shell.execute_reply": "2025-01-17T22:59:09.075615Z"
<<<<<<< HEAD
>>>>>>> e7e3c52 (AAPL Institutional Holders Upload)
=======
>>>>>>> e7e3c52 (AAPL Institutional Holders Upload)
    }
   },
   "outputs": [],
   "source": [
    "# Define the output directory\n",
    "output_dir = \"../../../data/finance\"\n",
    "\n",
    "# Write the processed DataFrame to a Parquet file\n",
    "df.write_parquet(f'{output_dir}/historical_fx_quotes.parquet')"
   ]
  },
  {
   "cell_type": "markdown",
   "metadata": {},
   "source": [
    "## Step 5: Read Parquet (Validate)"
   ]
  },
  {
   "cell_type": "code",
   "execution_count": 7,
   "metadata": {
    "execution": {
<<<<<<< HEAD
<<<<<<< HEAD
     "iopub.execute_input": "2025-01-17T15:34:09.420783Z",
     "iopub.status.busy": "2025-01-17T15:34:09.420340Z",
     "iopub.status.idle": "2025-01-17T15:34:09.427638Z",
     "shell.execute_reply": "2025-01-17T15:34:09.427106Z"
=======
=======
>>>>>>> e7e3c52 (AAPL Institutional Holders Upload)
     "iopub.execute_input": "2025-01-17T22:59:09.078112Z",
     "iopub.status.busy": "2025-01-17T22:59:09.077619Z",
     "iopub.status.idle": "2025-01-17T22:59:09.084006Z",
     "shell.execute_reply": "2025-01-17T22:59:09.083538Z"
<<<<<<< HEAD
>>>>>>> e7e3c52 (AAPL Institutional Holders Upload)
=======
>>>>>>> e7e3c52 (AAPL Institutional Holders Upload)
    }
   },
   "outputs": [
    {
     "data": {
      "text/html": [
       "<div><style>\n",
       ".dataframe > thead > tr,\n",
       ".dataframe > tbody > tr {\n",
       "  text-align: right;\n",
       "  white-space: pre-wrap;\n",
       "}\n",
       "</style>\n",
       "<small>shape: (5, 7)</small><table border=\"1\" class=\"dataframe\"><thead><tr><th>pair</th><th>date</th><th>open</th><th>low</th><th>high</th><th>close</th><th>volume</th></tr><tr><td>str</td><td>str</td><td>f64</td><td>f64</td><td>f64</td><td>f64</td><td>i64</td></tr></thead><tbody><tr><td>&quot;USDBRL&quot;</td><td>&quot;2025-01-17 00:00:00&quot;</td><td>6.0499</td><td>6.0283</td><td>6.0893</td><td>6.0689</td><td>7425</td></tr><tr><td>&quot;USDBRL&quot;</td><td>&quot;2025-01-16 00:00:00&quot;</td><td>6.0098</td><td>5.9955</td><td>6.0696</td><td>6.0499</td><td>7400</td></tr><tr><td>&quot;USDBRL&quot;</td><td>&quot;2025-01-15 00:00:00&quot;</td><td>6.0559</td><td>6.0058</td><td>6.0691</td><td>6.0098</td><td>7526</td></tr><tr><td>&quot;USDBRL&quot;</td><td>&quot;2025-01-14 00:00:00&quot;</td><td>6.0944</td><td>6.0423</td><td>6.0973</td><td>6.0559</td><td>7829</td></tr><tr><td>&quot;USDBRL&quot;</td><td>&quot;2025-01-13 00:00:00&quot;</td><td>6.1053</td><td>6.0783</td><td>6.1356</td><td>6.099</td><td>0</td></tr></tbody></table></div>"
      ],
      "text/plain": [
       "shape: (5, 7)\n",
       "┌────────┬─────────────────────┬────────┬────────┬────────┬────────┬────────┐\n",
       "│ pair   ┆ date                ┆ open   ┆ low    ┆ high   ┆ close  ┆ volume │\n",
       "│ ---    ┆ ---                 ┆ ---    ┆ ---    ┆ ---    ┆ ---    ┆ ---    │\n",
       "│ str    ┆ str                 ┆ f64    ┆ f64    ┆ f64    ┆ f64    ┆ i64    │\n",
       "╞════════╪═════════════════════╪════════╪════════╪════════╪════════╪════════╡\n",
       "│ USDBRL ┆ 2025-01-17 00:00:00 ┆ 6.0499 ┆ 6.0283 ┆ 6.0893 ┆ 6.0689 ┆ 7425   │\n",
       "│ USDBRL ┆ 2025-01-16 00:00:00 ┆ 6.0098 ┆ 5.9955 ┆ 6.0696 ┆ 6.0499 ┆ 7400   │\n",
       "│ USDBRL ┆ 2025-01-15 00:00:00 ┆ 6.0559 ┆ 6.0058 ┆ 6.0691 ┆ 6.0098 ┆ 7526   │\n",
       "│ USDBRL ┆ 2025-01-14 00:00:00 ┆ 6.0944 ┆ 6.0423 ┆ 6.0973 ┆ 6.0559 ┆ 7829   │\n",
       "│ USDBRL ┆ 2025-01-13 00:00:00 ┆ 6.1053 ┆ 6.0783 ┆ 6.1356 ┆ 6.099  ┆ 0      │\n",
       "└────────┴─────────────────────┴────────┴────────┴────────┴────────┴────────┘"
      ]
     },
     "execution_count": 7,
     "metadata": {},
     "output_type": "execute_result"
    }
   ],
   "source": [
    "# Validate the output by reading the Parquet file and displaying the first few rows\n",
    "pl.scan_parquet(f'{output_dir}/historical_fx_quotes.parquet').head().collect()"
   ]
  }
 ],
 "metadata": {
  "kernelspec": {
   "display_name": ".venv",
   "language": "python",
   "name": "python3"
  },
  "language_info": {
   "codemirror_mode": {
    "name": "ipython",
    "version": 3
   },
   "file_extension": ".py",
   "mimetype": "text/x-python",
   "name": "python",
   "nbconvert_exporter": "python",
   "pygments_lexer": "ipython3",
   "version": "3.12.8"
  }
 },
 "nbformat": 4,
 "nbformat_minor": 2
}
