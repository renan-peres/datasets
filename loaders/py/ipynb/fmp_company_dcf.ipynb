{
 "cells": [
  {
   "cell_type": "markdown",
   "metadata": {},
   "source": [
    "## Step 1: Import Libraries"
   ]
  },
  {
   "cell_type": "code",
   "execution_count": 1,
   "metadata": {
    "execution": {
     "iopub.execute_input": "2025-01-20T18:20:38.598687Z",
     "iopub.status.busy": "2025-01-20T18:20:38.598382Z",
     "iopub.status.idle": "2025-01-20T18:20:38.643869Z",
     "shell.execute_reply": "2025-01-20T18:20:38.643177Z"
    }
   },
   "outputs": [],
   "source": [
    "%run ../make_clean_names.py"
   ]
  },
  {
   "cell_type": "code",
   "execution_count": 2,
   "metadata": {
    "execution": {
     "iopub.execute_input": "2025-01-20T18:20:38.646155Z",
     "iopub.status.busy": "2025-01-20T18:20:38.645988Z",
     "iopub.status.idle": "2025-01-20T18:20:38.696954Z",
     "shell.execute_reply": "2025-01-20T18:20:38.696471Z"
    }
   },
   "outputs": [],
   "source": [
    "import concurrent.futures\n",
    "from concurrent.futures import ThreadPoolExecutor\n",
    "import requests\n",
    "from requests.adapters import HTTPAdapter\n",
    "from urllib3.util.retry import Retry\n",
    "import logging\n",
    "\n",
    "import polars as pl\n",
    "from datetime import datetime, timedelta\n",
    "from dotenv import load_dotenv\n",
    "import os\n",
    "\n",
    "# Load environment variables\n",
    "load_dotenv()\n",
    "\n",
    "logging.basicConfig(level=logging.INFO)\n",
    "logger = logging.getLogger(__name__)\n",
    "\n",
    "def create_session():\n",
    "    session = requests.Session()\n",
    "    retries = Retry(\n",
    "        total=3,\n",
    "        backoff_factor=1,\n",
    "        status_forcelist=[429, 500, 502, 503, 504]\n",
    "    )\n",
    "    session.mount('https://', HTTPAdapter(max_retries=retries, pool_maxsize=10))\n",
    "    return session\n",
    "\n",
    "# Get API key from environment variables\n",
    "FMP_API_KEY = os.getenv('FMP_API_KEY')\n",
    "if not FMP_API_KEY:\n",
    "    raise ValueError(\"FMP_API_KEY not found in environment variables\")"
   ]
  },
  {
   "cell_type": "markdown",
   "metadata": {},
   "source": [
    "## Step 2: Import Symbols"
   ]
  },
  {
   "cell_type": "code",
   "execution_count": 3,
   "metadata": {
    "execution": {
     "iopub.execute_input": "2025-01-20T18:20:38.699967Z",
     "iopub.status.busy": "2025-01-20T18:20:38.699494Z",
     "iopub.status.idle": "2025-01-20T18:20:38.703287Z",
     "shell.execute_reply": "2025-01-20T18:20:38.702810Z"
    }
   },
   "outputs": [
    {
     "name": "stdout",
     "output_type": "stream",
     "text": [
      "Loaded 61 symbols from ../tickers.txt\n",
      "Symbols: ['AAPL', 'MSFT', 'GOOGL', 'GOOG', 'META', 'NVDA', 'AVGO', 'ORCL', 'CRM', 'ACN', 'ADBE', 'CSCO', 'INTC', 'NFLX', 'DIS', 'CMCSA', 'VZ', 'T', 'AMZN', 'TSLA', 'HD', 'MCD', 'NKE', 'SBUX', 'TGT', 'LOW', 'WMT', 'PG', 'KO', 'PEP', 'COST', 'BRK-B', 'JPM', 'BAC', 'WFC', 'GS', 'MS', 'BLK', 'UNH', 'JNJ', 'PFE', 'ABBV', 'MRK', 'LLY', 'CAT', 'BA', 'HON', 'UPS', 'RTX', 'GE', 'XOM', 'CVX', 'COP', 'SLB', 'LIN', 'APD', 'ECL', 'PLD', 'AMT', 'CCI', 'OSW']\n"
     ]
    }
   ],
   "source": [
    "def load_symbols(file_path: str) -> List[str]:\n",
    "    \"\"\"Load symbols from a text file\"\"\"\n",
    "    try:\n",
    "        with open(file_path, 'r') as f:\n",
    "            symbols = [line.strip() for line in f if line.strip()]\n",
    "        print(f\"Loaded {len(symbols)} symbols from {file_path}\")\n",
    "        return symbols\n",
    "    except Exception as e:\n",
    "        print(f\"Error loading symbols: {str(e)}\")\n",
    "        return []\n",
    "\n",
    "symbols_file = '../tickers.txt'\n",
    "symbols = load_symbols(symbols_file)\n",
    "\n",
    "if symbols:\n",
    "    print(\"Symbols:\", symbols)\n",
    "else:\n",
    "    print(\"No symbols loaded.\")"
   ]
  },
  {
   "cell_type": "markdown",
   "metadata": {},
   "source": [
    "## Step 3: Extract Data from FMP into Polars"
   ]
  },
  {
   "cell_type": "code",
   "execution_count": 4,
   "metadata": {
    "execution": {
     "iopub.execute_input": "2025-01-20T18:20:38.729071Z",
     "iopub.status.busy": "2025-01-20T18:20:38.727974Z",
     "iopub.status.idle": "2025-01-20T18:20:39.491983Z",
     "shell.execute_reply": "2025-01-20T18:20:39.491285Z"
    }
   },
   "outputs": [],
   "source": [
    "def fetch_dcf(symbol: str, api_key: str, session: requests.Session) -> Dict:\n",
    "    \"\"\"Fetch company profile data from FMP API\"\"\"\n",
    "    url = f\"https://financialmodelingprep.com/api/v3/discounted-cash-flow/{symbol}\"\n",
    "    params = {\"apikey\": api_key}\n",
    "    \n",
    "    try:\n",
    "        response = session.get(url, params=params, timeout=10)\n",
    "        response.raise_for_status()\n",
    "        return response.json()\n",
    "    except Exception as e:\n",
    "        logger.error(f\"Error fetching {symbol}: {str(e)}\")\n",
    "        return None\n",
    "\n",
    "def fetch_all_dcf(symbols: List[str], api_key: str) -> List[Dict]:\n",
    "    session = create_session()\n",
    "    \n",
    "    with ThreadPoolExecutor(max_workers=10) as executor:\n",
    "        futures = [\n",
    "            executor.submit(fetch_dcf, symbol, api_key, session)\n",
    "            for symbol in symbols\n",
    "        ]\n",
    "        results = [\n",
    "            f.result() for f in concurrent.futures.as_completed(futures)\n",
    "        ]\n",
    "    \n",
    "    return [r[0] for r in results if r and isinstance(r, list)]\n",
    "\n",
    "# Execute fetching\n",
    "company_profiles = fetch_all_dcf(symbols, FMP_API_KEY)\n",
    "\n",
    "# Convert to Polars DataFrame more efficiently\n",
    "if company_profiles:\n",
    "    df_dcf = pl.DataFrame(company_profiles)"
   ]
  },
  {
   "cell_type": "code",
   "execution_count": 5,
   "metadata": {
    "execution": {
     "iopub.execute_input": "2025-01-20T18:20:39.494397Z",
     "iopub.status.busy": "2025-01-20T18:20:39.494203Z",
     "iopub.status.idle": "2025-01-20T18:20:40.347650Z",
     "shell.execute_reply": "2025-01-20T18:20:40.346316Z"
    }
   },
   "outputs": [],
   "source": [
    "def fetch_dcf_advanced(symbol: str, api_key: str, session: requests.Session) -> Dict:\n",
    "    \"\"\"Fetch company profile data from FMP API\"\"\"\n",
    "    url = f\"https://financialmodelingprep.com/api/v4/advanced_discounted_cash_flow\"\n",
    "    params = {\n",
    "        \"symbol\": symbol,\n",
    "        \"apikey\": api_key}\n",
    "    \n",
    "    try:\n",
    "        response = session.get(url, params=params, timeout=10)\n",
    "        response.raise_for_status()\n",
    "        return response.json()\n",
    "    except Exception as e:\n",
    "        logger.error(f\"Error fetching {symbol}: {str(e)}\")\n",
    "        return None\n",
    "\n",
    "def fetch_all_dcf_advanced(symbols: List[str], api_key: str) -> List[Dict]:\n",
    "    session = create_session()\n",
    "    \n",
    "    with ThreadPoolExecutor(max_workers=10) as executor:\n",
    "        futures = [\n",
    "            executor.submit(fetch_dcf_advanced, symbol, api_key, session)\n",
    "            for symbol in symbols\n",
    "        ]\n",
    "        results = [\n",
    "            f.result() for f in concurrent.futures.as_completed(futures)\n",
    "        ]\n",
    "    \n",
    "    return [r[0] for r in results if r and isinstance(r, list)]\n",
    "\n",
    "# Execute fetching\n",
    "company_profiles = fetch_all_dcf_advanced(symbols, FMP_API_KEY)\n",
    "\n",
    "# Convert to Polars DataFrame more efficiently\n",
    "if company_profiles:\n",
    "    df_dcf_advanced = pl.DataFrame(company_profiles)"
   ]
  },
  {
   "cell_type": "markdown",
   "metadata": {},
   "source": [
    "## Step 4: Clean Column Names"
   ]
  },
  {
   "cell_type": "code",
   "execution_count": 6,
   "metadata": {
    "execution": {
     "iopub.execute_input": "2025-01-20T18:20:40.350248Z",
     "iopub.status.busy": "2025-01-20T18:20:40.349983Z",
     "iopub.status.idle": "2025-01-20T18:20:40.375603Z",
     "shell.execute_reply": "2025-01-20T18:20:40.375016Z"
    }
   },
   "outputs": [],
   "source": [
    "df = df_dcf.join(df_dcf_advanced, on=\"symbol\", how=\"left\")"
   ]
  },
  {
   "cell_type": "code",
   "execution_count": 7,
   "metadata": {
    "execution": {
     "iopub.execute_input": "2025-01-20T18:20:40.377615Z",
     "iopub.status.busy": "2025-01-20T18:20:40.377390Z",
     "iopub.status.idle": "2025-01-20T18:20:40.381157Z",
     "shell.execute_reply": "2025-01-20T18:20:40.380691Z"
    }
   },
   "outputs": [],
   "source": [
    "df = make_clean_names(df)"
   ]
  },
  {
   "cell_type": "markdown",
   "metadata": {},
   "source": [
    "## Step 5: Write Polars to Parquet"
   ]
  },
  {
   "cell_type": "code",
   "execution_count": 8,
   "metadata": {
    "execution": {
     "iopub.execute_input": "2025-01-20T18:20:40.382784Z",
     "iopub.status.busy": "2025-01-20T18:20:40.382559Z",
     "iopub.status.idle": "2025-01-20T18:20:40.388674Z",
     "shell.execute_reply": "2025-01-20T18:20:40.388114Z"
    }
   },
   "outputs": [],
   "source": [
    "output_dir = \"../../../data/finance\"\n",
    "\n",
    "# Write DataFrame to Parquet\n",
    "df.write_parquet(f'{output_dir}/company_dfc_advanced.parquet')"
   ]
  },
  {
   "cell_type": "markdown",
   "metadata": {},
   "source": [
    "## Step 6: Read Parquet (Validate)"
   ]
  },
  {
   "cell_type": "code",
   "execution_count": 9,
   "metadata": {
    "execution": {
     "iopub.execute_input": "2025-01-20T18:20:40.390822Z",
     "iopub.status.busy": "2025-01-20T18:20:40.390380Z",
     "iopub.status.idle": "2025-01-20T18:20:40.399346Z",
     "shell.execute_reply": "2025-01-20T18:20:40.398720Z"
    }
   },
   "outputs": [
    {
     "data": {
      "text/html": [
       "<div><style>\n",
       ".dataframe > thead > tr,\n",
       ".dataframe > tbody > tr {\n",
       "  text-align: right;\n",
       "  white-space: pre-wrap;\n",
       "}\n",
       "</style>\n",
       "<small>shape: (5, 50)</small><table border=\"1\" class=\"dataframe\"><thead><tr><th>symbol</th><th>date</th><th>dcf</th><th>stock_price</th><th>year</th><th>revenue</th><th>revenue_percentage</th><th>ebitda</th><th>ebitda_percentage</th><th>ebit</th><th>ebit_percentage</th><th>depreciation</th><th>depreciation_percentage</th><th>total_cash</th><th>total_cash_percentage</th><th>receivables</th><th>receivables_percentage</th><th>inventories</th><th>inventories_percentage</th><th>payable</th><th>payable_percentage</th><th>capital_expenditure</th><th>capital_expenditure_percentage</th><th>price</th><th>beta</th><th>diluted_shares_outstanding</th><th>costof_debt</th><th>tax_rate</th><th>after_tax_cost_of_debt</th><th>risk_free_rate</th><th>market_risk_premium</th><th>cost_of_equity</th><th>total_debt</th><th>total_equity</th><th>total_capital</th><th>debt_weighting</th><th>equity_weighting</th><th>wacc</th><th>tax_rate_cash</th><th>ebiat</th><th>ufcf</th><th>sum_pv_ufcf</th><th>long_term_growth_rate</th><th>terminal_value</th><th>present_terminal_value</th><th>enterprise_value</th><th>net_debt</th><th>equity_value</th><th>equity_value_per_share</th><th>free_cash_flowt1</th></tr><tr><td>str</td><td>str</td><td>f64</td><td>f64</td><td>str</td><td>i64</td><td>f64</td><td>i64</td><td>f64</td><td>i64</td><td>f64</td><td>i64</td><td>f64</td><td>i64</td><td>f64</td><td>i64</td><td>f64</td><td>f64</td><td>f64</td><td>i64</td><td>f64</td><td>i64</td><td>f64</td><td>f64</td><td>f64</td><td>i64</td><td>f64</td><td>f64</td><td>f64</td><td>f64</td><td>f64</td><td>f64</td><td>i64</td><td>i64</td><td>i64</td><td>f64</td><td>f64</td><td>f64</td><td>i64</td><td>i64</td><td>i64</td><td>i64</td><td>f64</td><td>i64</td><td>i64</td><td>i64</td><td>i64</td><td>i64</td><td>f64</td><td>i64</td></tr></thead><tbody><tr><td>&quot;ORCL&quot;</td><td>&quot;2025-01-20&quot;</td><td>94.211557</td><td>161.03</td><td>&quot;2029&quot;</td><td>77979944616</td><td>8.05</td><td>33211898875</td><td>42.59</td><td>26041516507</td><td>33.4</td><td>7170382367</td><td>9.2</td><td>45560506733</td><td>58.43</td><td>10965256666</td><td>14.06</td><td>4.45725995e8</td><td>0.57159</td><td>2095292649</td><td>2.69</td><td>-7841196885</td><td>-10.06</td><td>161.03</td><td>1.013</td><td>2823000000</td><td>4.42</td><td>10.85</td><td>3.94</td><td>4.42</td><td>4.72</td><td>9.2</td><td>94469000000</td><td>454587690000</td><td>549056690000</td><td>17.21</td><td>82.79</td><td>8.31</td><td>9168975</td><td>23653776623</td><td>22289305066</td><td>74699609147</td><td>4.0</td><td>537968607441</td><td>360939914745</td><td>435639523893</td><td>84015000000</td><td>351624523893</td><td>124.56</td><td>23180877269</td></tr><tr><td>&quot;CRM&quot;</td><td>&quot;2025-01-20&quot;</td><td>188.042073</td><td>324.56</td><td>&quot;2029&quot;</td><td>85367530420</td><td>19.62</td><td>15315079034</td><td>17.94</td><td>5131274276</td><td>6.01</td><td>10183804758</td><td>11.93</td><td>38103749554</td><td>44.63</td><td>30144526056</td><td>35.31</td><td>3.7496e9</td><td>4.39</td><td>9582770514</td><td>11.23</td><td>-2469646707</td><td>-2.89</td><td>324.56</td><td>1.288</td><td>984000000</td><td>4.42</td><td>16.44</td><td>3.69</td><td>4.42</td><td>4.72</td><td>10.5</td><td>13562000000</td><td>319367040000</td><td>332929040000</td><td>4.07</td><td>95.93</td><td>10.19</td><td>34565279</td><td>3357635029</td><td>7084413861</td><td>17038688148</td><td>2.0</td><td>88236399393</td><td>54318418040</td><td>71357106189</td><td>5090000000</td><td>66267106189</td><td>67.34</td><td>7226102138</td></tr><tr><td>&quot;AAPL&quot;</td><td>&quot;2025-01-20&quot;</td><td>145.517176</td><td>229.98</td><td>&quot;2029&quot;</td><td>631734147383</td><td>10.07</td><td>203936738085</td><td>32.28</td><td>183897900530</td><td>29.11</td><td>20038837554</td><td>3.17</td><td>120316909203</td><td>19.05</td><td>96053677011</td><td>15.2</td><td>1.0168e10</td><td>1.61</td><td>101845034847</td><td>16.12</td><td>-17288478562</td><td>-2.74</td><td>229.98</td><td>1.24</td><td>15408095000</td><td>4.42</td><td>24.09</td><td>3.36</td><td>4.42</td><td>4.72</td><td>10.27</td><td>106629000000</td><td>3543553688100</td><td>3650182688100</td><td>2.92</td><td>97.08</td><td>10.08</td><td>16549050</td><td>153464546253</td><td>155814583110</td><td>483770706269</td><td>4.0</td><td>2665047548540</td><td>1648746062304</td><td>2132516768573</td><td>76686000000</td><td>2055830768573</td><td>133.43</td><td>162047166435</td></tr><tr><td>&quot;ACN&quot;</td><td>&quot;2025-01-20&quot;</td><td>301.055387</td><td>352.59</td><td>&quot;2029&quot;</td><td>105950291348</td><td>10.3</td><td>17797130243</td><td>16.8</td><td>14775615976</td><td>13.95</td><td>3021514267</td><td>2.85</td><td>14837440631</td><td>14.0</td><td>20385110820</td><td>19.24</td><td>0.47804</td><td>4.5100e-10</td><td>4198685139</td><td>3.96</td><td>-1119905369</td><td>-1.06</td><td>352.59</td><td>1.245</td><td>635940044</td><td>4.42</td><td>25.1</td><td>3.31</td><td>4.42</td><td>4.72</td><td>10.3</td><td>4120549000</td><td>224226100113</td><td>228346649113</td><td>1.8</td><td>98.2</td><td>10.17</td><td>24724559</td><td>11122410139</td><td>11512479260</td><td>36296212125</td><td>3.0</td><td>165366756679</td><td>101887020181</td><td>138183232307</td><td>-883920000</td><td>139067152307</td><td>218.68</td><td>11857853638</td></tr><tr><td>&quot;ADBE&quot;</td><td>&quot;2025-01-20&quot;</td><td>471.99545</td><td>429.99</td><td>&quot;2029&quot;</td><td>41064323524</td><td>13.81</td><td>15892825334</td><td>38.7</td><td>14140858672</td><td>34.44</td><td>1751966662</td><td>4.27</td><td>16014694786</td><td>39.0</td><td>4565043350</td><td>11.12</td><td>0.0</td><td>0.0</td><td>805165661</td><td>1.96</td><td>-886239379</td><td>-2.16</td><td>429.99</td><td>1.299</td><td>450000000</td><td>4.42</td><td>19.78</td><td>3.55</td><td>4.42</td><td>4.72</td><td>10.55</td><td>6056000000</td><td>193495500000</td><td>199551500000</td><td>3.03</td><td>96.97</td><td>10.34</td><td>15252392</td><td>11984039525</td><td>12393498359</td><td>35407534600</td><td>4.0</td><td>203148143434</td><td>124180818100</td><td>159588352701</td><td>-1557000000</td><td>161145352701</td><td>358.1</td><td>12889238294</td></tr></tbody></table></div>"
      ],
      "text/plain": [
       "shape: (5, 50)\n",
       "┌────────┬────────────┬────────────┬───────────┬───┬───────────┬───────────┬───────────┬───────────┐\n",
       "│ symbol ┆ date       ┆ dcf        ┆ stock_pri ┆ … ┆ net_debt  ┆ equity_va ┆ equity_va ┆ free_cash │\n",
       "│ ---    ┆ ---        ┆ ---        ┆ ce        ┆   ┆ ---       ┆ lue       ┆ lue_per_s ┆ _flowt1   │\n",
       "│ str    ┆ str        ┆ f64        ┆ ---       ┆   ┆ i64       ┆ ---       ┆ hare      ┆ ---       │\n",
       "│        ┆            ┆            ┆ f64       ┆   ┆           ┆ i64       ┆ ---       ┆ i64       │\n",
       "│        ┆            ┆            ┆           ┆   ┆           ┆           ┆ f64       ┆           │\n",
       "╞════════╪════════════╪════════════╪═══════════╪═══╪═══════════╪═══════════╪═══════════╪═══════════╡\n",
       "│ ORCL   ┆ 2025-01-20 ┆ 94.211557  ┆ 161.03    ┆ … ┆ 840150000 ┆ 351624523 ┆ 124.56    ┆ 231808772 │\n",
       "│        ┆            ┆            ┆           ┆   ┆ 00        ┆ 893       ┆           ┆ 69        │\n",
       "│ CRM    ┆ 2025-01-20 ┆ 188.042073 ┆ 324.56    ┆ … ┆ 509000000 ┆ 662671061 ┆ 67.34     ┆ 722610213 │\n",
       "│        ┆            ┆            ┆           ┆   ┆ 0         ┆ 89        ┆           ┆ 8         │\n",
       "│ AAPL   ┆ 2025-01-20 ┆ 145.517176 ┆ 229.98    ┆ … ┆ 766860000 ┆ 205583076 ┆ 133.43    ┆ 162047166 │\n",
       "│        ┆            ┆            ┆           ┆   ┆ 00        ┆ 8573      ┆           ┆ 435       │\n",
       "│ ACN    ┆ 2025-01-20 ┆ 301.055387 ┆ 352.59    ┆ … ┆ -88392000 ┆ 139067152 ┆ 218.68    ┆ 118578536 │\n",
       "│        ┆            ┆            ┆           ┆   ┆ 0         ┆ 307       ┆           ┆ 38        │\n",
       "│ ADBE   ┆ 2025-01-20 ┆ 471.99545  ┆ 429.99    ┆ … ┆ -15570000 ┆ 161145352 ┆ 358.1     ┆ 128892382 │\n",
       "│        ┆            ┆            ┆           ┆   ┆ 00        ┆ 701       ┆           ┆ 94        │\n",
       "└────────┴────────────┴────────────┴───────────┴───┴───────────┴───────────┴───────────┴───────────┘"
      ]
     },
     "execution_count": 9,
     "metadata": {},
     "output_type": "execute_result"
    }
   ],
   "source": [
    "pl.scan_parquet(f'{output_dir}/company_dfc_advanced.parquet').head().collect()"
   ]
  }
 ],
 "metadata": {
  "kernelspec": {
   "display_name": ".venv",
   "language": "python",
   "name": "python3"
  },
  "language_info": {
   "codemirror_mode": {
    "name": "ipython",
    "version": 3
   },
   "file_extension": ".py",
   "mimetype": "text/x-python",
   "name": "python",
   "nbconvert_exporter": "python",
   "pygments_lexer": "ipython3",
   "version": "3.12.3"
  }
 },
 "nbformat": 4,
 "nbformat_minor": 2
}
