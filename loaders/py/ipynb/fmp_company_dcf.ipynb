{
 "cells": [
  {
   "cell_type": "markdown",
   "metadata": {},
   "source": [
    "## Step 1: Import Libraries"
   ]
  },
  {
   "cell_type": "code",
   "execution_count": 1,
   "metadata": {
    "execution": {
     "iopub.execute_input": "2025-01-08T17:37:13.111520Z",
     "iopub.status.busy": "2025-01-08T17:37:13.110750Z",
     "iopub.status.idle": "2025-01-08T17:37:13.160670Z",
     "shell.execute_reply": "2025-01-08T17:37:13.159974Z"
    }
   },
   "outputs": [],
   "source": [
    "%run ../make_clean_names.py"
   ]
  },
  {
   "cell_type": "code",
   "execution_count": 2,
   "metadata": {
    "execution": {
     "iopub.execute_input": "2025-01-08T17:37:13.163725Z",
     "iopub.status.busy": "2025-01-08T17:37:13.163398Z",
     "iopub.status.idle": "2025-01-08T17:37:13.216760Z",
     "shell.execute_reply": "2025-01-08T17:37:13.215187Z"
    }
   },
   "outputs": [],
   "source": [
    "import concurrent.futures\n",
    "from concurrent.futures import ThreadPoolExecutor\n",
    "import requests\n",
    "from requests.adapters import HTTPAdapter\n",
    "from urllib3.util.retry import Retry\n",
    "import logging\n",
    "\n",
    "import polars as pl\n",
    "from datetime import datetime, timedelta\n",
    "from dotenv import load_dotenv\n",
    "import os\n",
    "\n",
    "# Load environment variables\n",
    "load_dotenv()\n",
    "\n",
    "logging.basicConfig(level=logging.INFO)\n",
    "logger = logging.getLogger(__name__)\n",
    "\n",
    "def create_session():\n",
    "    session = requests.Session()\n",
    "    retries = Retry(\n",
    "        total=3,\n",
    "        backoff_factor=1,\n",
    "        status_forcelist=[429, 500, 502, 503, 504]\n",
    "    )\n",
    "    session.mount('https://', HTTPAdapter(max_retries=retries, pool_maxsize=10))\n",
    "    return session\n",
    "\n",
    "# Get API key from environment variables\n",
    "FMP_API_KEY = os.getenv('FMP_API_KEY')\n",
    "if not FMP_API_KEY:\n",
    "    raise ValueError(\"FMP_API_KEY not found in environment variables\")"
   ]
  },
  {
   "cell_type": "markdown",
   "metadata": {},
   "source": [
    "## Step 2: Import Symbols"
   ]
  },
  {
   "cell_type": "code",
   "execution_count": 3,
   "metadata": {
    "execution": {
     "iopub.execute_input": "2025-01-08T17:37:13.219311Z",
     "iopub.status.busy": "2025-01-08T17:37:13.219037Z",
     "iopub.status.idle": "2025-01-08T17:37:13.224339Z",
     "shell.execute_reply": "2025-01-08T17:37:13.223315Z"
    }
   },
   "outputs": [
    {
     "name": "stdout",
     "output_type": "stream",
     "text": [
      "Loaded 60 symbols from ../tickers.txt\n",
      "Symbols: ['AAPL', 'MSFT', 'GOOGL', 'GOOG', 'META', 'NVDA', 'AVGO', 'ORCL', 'CRM', 'ACN', 'ADBE', 'CSCO', 'INTC', 'NFLX', 'DIS', 'CMCSA', 'VZ', 'T', 'AMZN', 'TSLA', 'HD', 'MCD', 'NKE', 'SBUX', 'TGT', 'LOW', 'WMT', 'PG', 'KO', 'PEP', 'COST', 'BRK-B', 'JPM', 'BAC', 'WFC', 'GS', 'MS', 'BLK', 'UNH', 'JNJ', 'PFE', 'ABBV', 'MRK', 'LLY', 'CAT', 'BA', 'HON', 'UPS', 'RTX', 'GE', 'XOM', 'CVX', 'COP', 'SLB', 'LIN', 'APD', 'ECL', 'PLD', 'AMT', 'CCI']\n"
     ]
    }
   ],
   "source": [
    "def load_symbols(file_path: str) -> List[str]:\n",
    "    \"\"\"Load symbols from a text file\"\"\"\n",
    "    try:\n",
    "        with open(file_path, 'r') as f:\n",
    "            symbols = [line.strip() for line in f if line.strip()]\n",
    "        print(f\"Loaded {len(symbols)} symbols from {file_path}\")\n",
    "        return symbols\n",
    "    except Exception as e:\n",
    "        print(f\"Error loading symbols: {str(e)}\")\n",
    "        return []\n",
    "\n",
    "symbols_file = '../tickers.txt'\n",
    "symbols = load_symbols(symbols_file)\n",
    "\n",
    "if symbols:\n",
    "    print(\"Symbols:\", symbols)\n",
    "else:\n",
    "    print(\"No symbols loaded.\")"
   ]
  },
  {
   "cell_type": "markdown",
   "metadata": {},
   "source": [
    "## Step 3: Extract Data from FMP into Polars"
   ]
  },
  {
   "cell_type": "code",
   "execution_count": 4,
   "metadata": {
    "execution": {
     "iopub.execute_input": "2025-01-08T17:37:13.249938Z",
     "iopub.status.busy": "2025-01-08T17:37:13.249321Z",
     "iopub.status.idle": "2025-01-08T17:37:14.651372Z",
     "shell.execute_reply": "2025-01-08T17:37:14.650724Z"
    }
   },
   "outputs": [],
   "source": [
    "def fetch_dcf(symbol: str, api_key: str, session: requests.Session) -> Dict:\n",
    "    \"\"\"Fetch company profile data from FMP API\"\"\"\n",
    "    url = f\"https://financialmodelingprep.com/api/v3/discounted-cash-flow/{symbol}\"\n",
    "    params = {\"apikey\": api_key}\n",
    "    \n",
    "    try:\n",
    "        response = session.get(url, params=params, timeout=10)\n",
    "        response.raise_for_status()\n",
    "        return response.json()\n",
    "    except Exception as e:\n",
    "        logger.error(f\"Error fetching {symbol}: {str(e)}\")\n",
    "        return None\n",
    "\n",
    "def fetch_all_dcf(symbols: List[str], api_key: str) -> List[Dict]:\n",
    "    session = create_session()\n",
    "    \n",
    "    with ThreadPoolExecutor(max_workers=10) as executor:\n",
    "        futures = [\n",
    "            executor.submit(fetch_dcf, symbol, api_key, session)\n",
    "            for symbol in symbols\n",
    "        ]\n",
    "        results = [\n",
    "            f.result() for f in concurrent.futures.as_completed(futures)\n",
    "        ]\n",
    "    \n",
    "    return [r[0] for r in results if r and isinstance(r, list)]\n",
    "\n",
    "# Execute fetching\n",
    "company_profiles = fetch_all_dcf(symbols, FMP_API_KEY)\n",
    "\n",
    "# Convert to Polars DataFrame more efficiently\n",
    "if company_profiles:\n",
    "    df_dcf = pl.DataFrame(company_profiles)"
   ]
  },
  {
   "cell_type": "code",
   "execution_count": 5,
   "metadata": {
    "execution": {
     "iopub.execute_input": "2025-01-08T17:37:14.653415Z",
     "iopub.status.busy": "2025-01-08T17:37:14.653271Z",
     "iopub.status.idle": "2025-01-08T17:37:15.502385Z",
     "shell.execute_reply": "2025-01-08T17:37:15.501515Z"
    }
   },
   "outputs": [],
   "source": [
    "def fetch_dcf_advanced(symbol: str, api_key: str, session: requests.Session) -> Dict:\n",
    "    \"\"\"Fetch company profile data from FMP API\"\"\"\n",
    "    url = f\"https://financialmodelingprep.com/api/v4/advanced_discounted_cash_flow\"\n",
    "    params = {\n",
    "        \"symbol\": symbol,\n",
    "        \"apikey\": api_key}\n",
    "    \n",
    "    try:\n",
    "        response = session.get(url, params=params, timeout=10)\n",
    "        response.raise_for_status()\n",
    "        return response.json()\n",
    "    except Exception as e:\n",
    "        logger.error(f\"Error fetching {symbol}: {str(e)}\")\n",
    "        return None\n",
    "\n",
    "def fetch_all_dcf_advanced(symbols: List[str], api_key: str) -> List[Dict]:\n",
    "    session = create_session()\n",
    "    \n",
    "    with ThreadPoolExecutor(max_workers=10) as executor:\n",
    "        futures = [\n",
    "            executor.submit(fetch_dcf_advanced, symbol, api_key, session)\n",
    "            for symbol in symbols\n",
    "        ]\n",
    "        results = [\n",
    "            f.result() for f in concurrent.futures.as_completed(futures)\n",
    "        ]\n",
    "    \n",
    "    return [r[0] for r in results if r and isinstance(r, list)]\n",
    "\n",
    "# Execute fetching\n",
    "company_profiles = fetch_all_dcf_advanced(symbols, FMP_API_KEY)\n",
    "\n",
    "# Convert to Polars DataFrame more efficiently\n",
    "if company_profiles:\n",
    "    df_dcf_advanced = pl.DataFrame(company_profiles)"
   ]
  },
  {
   "cell_type": "markdown",
   "metadata": {},
   "source": [
    "## Step 4: Clean Column Names"
   ]
  },
  {
   "cell_type": "code",
   "execution_count": 6,
   "metadata": {
    "execution": {
     "iopub.execute_input": "2025-01-08T17:37:15.504345Z",
     "iopub.status.busy": "2025-01-08T17:37:15.504199Z",
     "iopub.status.idle": "2025-01-08T17:37:15.544529Z",
     "shell.execute_reply": "2025-01-08T17:37:15.543987Z"
    }
   },
   "outputs": [],
   "source": [
    "df = df_dcf.join(df_dcf_advanced, on=\"symbol\", how=\"left\")"
   ]
  },
  {
   "cell_type": "code",
   "execution_count": 7,
   "metadata": {
    "execution": {
     "iopub.execute_input": "2025-01-08T17:37:15.546149Z",
     "iopub.status.busy": "2025-01-08T17:37:15.545956Z",
     "iopub.status.idle": "2025-01-08T17:37:15.549586Z",
     "shell.execute_reply": "2025-01-08T17:37:15.549123Z"
    }
   },
   "outputs": [],
   "source": [
    "df = make_clean_names(df)"
   ]
  },
  {
   "cell_type": "markdown",
   "metadata": {},
   "source": [
    "## Step 5: Write Polars to Parquet"
   ]
  },
  {
   "cell_type": "code",
   "execution_count": 8,
   "metadata": {
    "execution": {
     "iopub.execute_input": "2025-01-08T17:37:15.551234Z",
     "iopub.status.busy": "2025-01-08T17:37:15.550852Z",
     "iopub.status.idle": "2025-01-08T17:37:15.557839Z",
     "shell.execute_reply": "2025-01-08T17:37:15.556876Z"
    }
   },
   "outputs": [],
   "source": [
    "output_dir = \"../../../data/finance\"\n",
    "\n",
    "# Write DataFrame to Parquet\n",
    "df.write_parquet(f'{output_dir}/company_dfc_advanced.parquet')"
   ]
  },
  {
   "cell_type": "markdown",
   "metadata": {},
   "source": [
    "## Step 6: Read Parquet (Validate)"
   ]
  },
  {
   "cell_type": "code",
   "execution_count": 9,
   "metadata": {
    "execution": {
     "iopub.execute_input": "2025-01-08T17:37:15.559752Z",
     "iopub.status.busy": "2025-01-08T17:37:15.559390Z",
     "iopub.status.idle": "2025-01-08T17:37:15.584610Z",
     "shell.execute_reply": "2025-01-08T17:37:15.584133Z"
    }
   },
   "outputs": [
    {
     "data": {
      "text/html": [
       "<div><style>\n",
       ".dataframe > thead > tr,\n",
       ".dataframe > tbody > tr {\n",
       "  text-align: right;\n",
       "  white-space: pre-wrap;\n",
       "}\n",
       "</style>\n",
       "<small>shape: (5, 50)</small><table border=\"1\" class=\"dataframe\"><thead><tr><th>symbol</th><th>date</th><th>dcf</th><th>stock_price</th><th>year</th><th>revenue</th><th>revenue_percentage</th><th>ebitda</th><th>ebitda_percentage</th><th>ebit</th><th>ebit_percentage</th><th>depreciation</th><th>depreciation_percentage</th><th>total_cash</th><th>total_cash_percentage</th><th>receivables</th><th>receivables_percentage</th><th>inventories</th><th>inventories_percentage</th><th>payable</th><th>payable_percentage</th><th>capital_expenditure</th><th>capital_expenditure_percentage</th><th>price</th><th>beta</th><th>diluted_shares_outstanding</th><th>costof_debt</th><th>tax_rate</th><th>after_tax_cost_of_debt</th><th>risk_free_rate</th><th>market_risk_premium</th><th>cost_of_equity</th><th>total_debt</th><th>total_equity</th><th>total_capital</th><th>debt_weighting</th><th>equity_weighting</th><th>wacc</th><th>tax_rate_cash</th><th>ebiat</th><th>ufcf</th><th>sum_pv_ufcf</th><th>long_term_growth_rate</th><th>terminal_value</th><th>present_terminal_value</th><th>enterprise_value</th><th>net_debt</th><th>equity_value</th><th>equity_value_per_share</th><th>free_cash_flowt1</th></tr><tr><td>str</td><td>str</td><td>f64</td><td>f64</td><td>str</td><td>i64</td><td>f64</td><td>i64</td><td>f64</td><td>i64</td><td>f64</td><td>i64</td><td>f64</td><td>i64</td><td>f64</td><td>i64</td><td>f64</td><td>f64</td><td>f64</td><td>i64</td><td>f64</td><td>i64</td><td>f64</td><td>f64</td><td>f64</td><td>i64</td><td>f64</td><td>f64</td><td>f64</td><td>f64</td><td>f64</td><td>f64</td><td>i64</td><td>i64</td><td>i64</td><td>f64</td><td>f64</td><td>f64</td><td>i64</td><td>i64</td><td>i64</td><td>i64</td><td>f64</td><td>i64</td><td>i64</td><td>i64</td><td>i64</td><td>i64</td><td>f64</td><td>i64</td></tr></thead><tbody><tr><td>&quot;ORCL&quot;</td><td>&quot;2025-01-08&quot;</td><td>92.94412</td><td>162.03</td><td>&quot;2029&quot;</td><td>77979944616</td><td>8.05</td><td>33211898875</td><td>42.59</td><td>26041516507</td><td>33.4</td><td>7170382367</td><td>9.2</td><td>45560506733</td><td>58.43</td><td>10965256666</td><td>14.06</td><td>4.45725995e8</td><td>0.57159</td><td>2095292649</td><td>2.69</td><td>-7841196885</td><td>-10.06</td><td>162.27</td><td>1.013</td><td>2823000000</td><td>4.46</td><td>10.85</td><td>3.98</td><td>4.46</td><td>4.72</td><td>9.24</td><td>94469000000</td><td>458088210000</td><td>552557210000</td><td>17.1</td><td>82.9</td><td>8.35</td><td>9168975</td><td>23653776623</td><td>22289305066</td><td>74606323948</td><td>4.0</td><td>532405254222</td><td>356465718361</td><td>431072042310</td><td>84015000000</td><td>347057042310</td><td>122.94</td><td>23180877269</td></tr><tr><td>&quot;NVDA&quot;</td><td>&quot;2025-01-08&quot;</td><td>56.614156</td><td>140.14</td><td>&quot;2029&quot;</td><td>520683174055</td><td>53.59</td><td>195855645765</td><td>37.62</td><td>172283561763</td><td>33.09</td><td>23572084002</td><td>4.53</td><td>353940947259</td><td>67.98</td><td>80832177311</td><td>15.52</td><td>5.9766e10</td><td>11.48</td><td>29846344169</td><td>5.73</td><td>-24388759055</td><td>-4.68</td><td>138.71</td><td>1.657</td><td>24940000000</td><td>4.46</td><td>12.0</td><td>3.92</td><td>4.46</td><td>4.72</td><td>12.28</td><td>11056000000</td><td>3459427400000</td><td>3470483400000</td><td>0.31857</td><td>99.68</td><td>12.26</td><td>4301152</td><td>164873384699</td><td>125414004138</td><td>206575008042</td><td>4.0</td><td>1579920727013</td><td>886332956685</td><td>1092907964728</td><td>3776000000</td><td>1089131964728</td><td>43.67</td><td>130430564304</td></tr><tr><td>&quot;GOOG&quot;</td><td>&quot;2025-01-08&quot;</td><td>191.991365</td><td>195.49</td><td>&quot;2028&quot;</td><td>706109768075</td><td>18.1</td><td>240199708049</td><td>34.02</td><td>200287429124</td><td>28.36</td><td>39912278924</td><td>5.65</td><td>394484923413</td><td>55.87</td><td>111949781484</td><td>15.85</td><td>3.4094e9</td><td>0.48284</td><td>18488261260</td><td>2.62</td><td>-81828362399</td><td>-11.59</td><td>194.19</td><td>1.034</td><td>12722000000</td><td>4.46</td><td>13.91</td><td>3.84</td><td>4.46</td><td>4.72</td><td>9.34</td><td>28504000000</td><td>2470421570000</td><td>2498925570000</td><td>1.14</td><td>98.86</td><td>9.28</td><td>15122195</td><td>169999573836</td><td>113239806868</td><td>311428907940</td><td>4.0</td><td>2231699315505</td><td>1432153349551</td><td>1743582257492</td><td>4456000000</td><td>1739126257492</td><td>136.7</td><td>117769399143</td></tr><tr><td>&quot;ACN&quot;</td><td>&quot;2025-01-08&quot;</td><td>299.287561</td><td>356.39</td><td>&quot;2029&quot;</td><td>105950291348</td><td>10.3</td><td>17797130243</td><td>16.8</td><td>14775615976</td><td>13.95</td><td>3021514267</td><td>2.85</td><td>14837440631</td><td>14.0</td><td>20385110820</td><td>19.24</td><td>0.47804</td><td>4.5100e-10</td><td>4198685139</td><td>3.96</td><td>-1119905369</td><td>-1.06</td><td>357.38</td><td>1.245</td><td>635940044</td><td>4.46</td><td>25.1</td><td>3.34</td><td>4.46</td><td>4.72</td><td>10.34</td><td>4120549000</td><td>227272252924</td><td>231392801924</td><td>1.78</td><td>98.22</td><td>10.21</td><td>24724559</td><td>11122410139</td><td>11512479260</td><td>36255907266</td><td>3.0</td><td>164415673803</td><td>101110546849</td><td>137366454116</td><td>-883920000</td><td>138250374116</td><td>217.4</td><td>11857853638</td></tr><tr><td>&quot;CSCO&quot;</td><td>&quot;2025-01-08&quot;</td><td>58.967379</td><td>58.93</td><td>&quot;2029&quot;</td><td>60493482400</td><td>2.37</td><td>18984447679</td><td>31.38</td><td>16699192651</td><td>27.6</td><td>2285255027</td><td>3.78</td><td>27259991422</td><td>45.06</td><td>11724752623</td><td>19.38</td><td>2.8278e9</td><td>4.67</td><td>2662282884</td><td>4.4</td><td>-799831500</td><td>-1.32</td><td>58.65</td><td>0.819</td><td>4062000000</td><td>4.46</td><td>15.64</td><td>3.76</td><td>4.46</td><td>4.72</td><td>8.33</td><td>30962000000</td><td>238236300000</td><td>269198300000</td><td>11.5</td><td>88.5</td><td>7.79</td><td>18316128</td><td>13640547275</td><td>14850488398</td><td>57208098138</td><td>2.0</td><td>261745449939</td><td>179905729254</td><td>237113827393</td><td>23454000000</td><td>213659827393</td><td>52.6</td><td>15147498166</td></tr></tbody></table></div>"
      ],
      "text/plain": [
       "shape: (5, 50)\n",
       "┌────────┬────────────┬────────────┬───────────┬───┬───────────┬───────────┬───────────┬───────────┐\n",
       "│ symbol ┆ date       ┆ dcf        ┆ stock_pri ┆ … ┆ net_debt  ┆ equity_va ┆ equity_va ┆ free_cash │\n",
       "│ ---    ┆ ---        ┆ ---        ┆ ce        ┆   ┆ ---       ┆ lue       ┆ lue_per_s ┆ _flowt1   │\n",
       "│ str    ┆ str        ┆ f64        ┆ ---       ┆   ┆ i64       ┆ ---       ┆ hare      ┆ ---       │\n",
       "│        ┆            ┆            ┆ f64       ┆   ┆           ┆ i64       ┆ ---       ┆ i64       │\n",
       "│        ┆            ┆            ┆           ┆   ┆           ┆           ┆ f64       ┆           │\n",
       "╞════════╪════════════╪════════════╪═══════════╪═══╪═══════════╪═══════════╪═══════════╪═══════════╡\n",
       "│ ORCL   ┆ 2025-01-08 ┆ 92.94412   ┆ 162.03    ┆ … ┆ 840150000 ┆ 347057042 ┆ 122.94    ┆ 231808772 │\n",
       "│        ┆            ┆            ┆           ┆   ┆ 00        ┆ 310       ┆           ┆ 69        │\n",
       "│ NVDA   ┆ 2025-01-08 ┆ 56.614156  ┆ 140.14    ┆ … ┆ 377600000 ┆ 108913196 ┆ 43.67     ┆ 130430564 │\n",
       "│        ┆            ┆            ┆           ┆   ┆ 0         ┆ 4728      ┆           ┆ 304       │\n",
       "│ GOOG   ┆ 2025-01-08 ┆ 191.991365 ┆ 195.49    ┆ … ┆ 445600000 ┆ 173912625 ┆ 136.7     ┆ 117769399 │\n",
       "│        ┆            ┆            ┆           ┆   ┆ 0         ┆ 7492      ┆           ┆ 143       │\n",
       "│ ACN    ┆ 2025-01-08 ┆ 299.287561 ┆ 356.39    ┆ … ┆ -88392000 ┆ 138250374 ┆ 217.4     ┆ 118578536 │\n",
       "│        ┆            ┆            ┆           ┆   ┆ 0         ┆ 116       ┆           ┆ 38        │\n",
       "│ CSCO   ┆ 2025-01-08 ┆ 58.967379  ┆ 58.93     ┆ … ┆ 234540000 ┆ 213659827 ┆ 52.6      ┆ 151474981 │\n",
       "│        ┆            ┆            ┆           ┆   ┆ 00        ┆ 393       ┆           ┆ 66        │\n",
       "└────────┴────────────┴────────────┴───────────┴───┴───────────┴───────────┴───────────┴───────────┘"
      ]
     },
     "execution_count": 9,
     "metadata": {},
     "output_type": "execute_result"
    }
   ],
   "source": [
    "pl.scan_parquet(f'{output_dir}/company_dfc_advanced.parquet').head().collect()"
   ]
  }
 ],
 "metadata": {
  "kernelspec": {
   "display_name": ".venv",
   "language": "python",
   "name": "python3"
  },
  "language_info": {
   "codemirror_mode": {
    "name": "ipython",
    "version": 3
   },
   "file_extension": ".py",
   "mimetype": "text/x-python",
   "name": "python",
   "nbconvert_exporter": "python",
   "pygments_lexer": "ipython3",
   "version": "3.12.3"
  }
 },
 "nbformat": 4,
 "nbformat_minor": 2
}
