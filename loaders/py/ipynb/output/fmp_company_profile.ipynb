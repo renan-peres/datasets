{
 "cells": [
  {
   "cell_type": "markdown",
   "metadata": {},
   "source": [
    "## Step 1: Import Libraries"
   ]
  },
  {
   "cell_type": "code",
   "execution_count": 1,
   "metadata": {
    "execution": {
     "iopub.execute_input": "2025-01-05T19:18:03.849751Z",
     "iopub.status.busy": "2025-01-05T19:18:03.849295Z",
     "iopub.status.idle": "2025-01-05T19:18:03.912318Z",
     "shell.execute_reply": "2025-01-05T19:18:03.911787Z"
    }
   },
   "outputs": [],
   "source": [
    "%run ../make_clean_names.py"
   ]
  },
  {
   "cell_type": "code",
   "execution_count": 2,
   "metadata": {
    "execution": {
     "iopub.execute_input": "2025-01-05T19:18:03.914471Z",
     "iopub.status.busy": "2025-01-05T19:18:03.914123Z",
     "iopub.status.idle": "2025-01-05T19:18:12.935195Z",
     "shell.execute_reply": "2025-01-05T19:18:12.934730Z"
    }
   },
   "outputs": [],
   "source": [
    "import requests\n",
    "import openbb\n",
    "import polars as pl\n",
    "from datetime import datetime, timedelta\n",
    "from typing import List, Dict, Any\n",
    "import re\n",
    "from dotenv import load_dotenv\n",
    "import os\n",
    "import sys\n",
    "\n",
    "# Load environment variables\n",
    "load_dotenv()\n",
    "\n",
    "# Get API key from environment variables\n",
    "FMP_API_KEY = os.getenv('FMP_API_KEY')\n",
    "if not FMP_API_KEY:\n",
    "    raise ValueError(\"FMP_API_KEY not found in environment variables\")"
   ]
  },
  {
   "cell_type": "markdown",
   "metadata": {},
   "source": [
    "## Step 2: Import Symbols"
   ]
  },
  {
   "cell_type": "code",
   "execution_count": 3,
   "metadata": {
    "execution": {
     "iopub.execute_input": "2025-01-05T19:18:12.937407Z",
     "iopub.status.busy": "2025-01-05T19:18:12.937039Z",
     "iopub.status.idle": "2025-01-05T19:18:12.941565Z",
     "shell.execute_reply": "2025-01-05T19:18:12.941130Z"
    }
   },
   "outputs": [
    {
     "name": "stdout",
     "output_type": "stream",
     "text": [
      "Loaded 60 symbols from ../tickers.txt\n",
      "Symbols: ['AAPL', 'MSFT', 'GOOGL', 'GOOG', 'META', 'NVDA', 'AVGO', 'ORCL', 'CRM', 'ACN', 'ADBE', 'CSCO', 'INTC', 'NFLX', 'DIS', 'CMCSA', 'VZ', 'T', 'AMZN', 'TSLA', 'HD', 'MCD', 'NKE', 'SBUX', 'TGT', 'LOW', 'WMT', 'PG', 'KO', 'PEP', 'COST', 'BRK-B', 'JPM', 'BAC', 'WFC', 'GS', 'MS', 'BLK', 'UNH', 'JNJ', 'PFE', 'ABBV', 'MRK', 'LLY', 'CAT', 'BA', 'HON', 'UPS', 'RTX', 'GE', 'XOM', 'CVX', 'COP', 'SLB', 'LIN', 'APD', 'ECL', 'PLD', 'AMT', 'CCI']\n"
     ]
    }
   ],
   "source": [
    "def load_symbols(file_path: str) -> List[str]:\n",
    "    \"\"\"Load symbols from a text file\"\"\"\n",
    "    try:\n",
    "        with open(file_path, 'r') as f:\n",
    "            symbols = [line.strip() for line in f if line.strip()]\n",
    "        print(f\"Loaded {len(symbols)} symbols from {file_path}\")\n",
    "        return symbols\n",
    "    except Exception as e:\n",
    "        print(f\"Error loading symbols: {str(e)}\")\n",
    "        return []\n",
    "\n",
    "symbols_file = '../tickers.txt'\n",
    "symbols = load_symbols(symbols_file)\n",
    "\n",
    "if symbols:\n",
    "    print(\"Symbols:\", symbols)\n",
    "else:\n",
    "    print(\"No symbols loaded.\")"
   ]
  },
  {
   "cell_type": "markdown",
   "metadata": {},
   "source": [
    "## Step 3: Extract Data from FMP into Polars"
   ]
  },
  {
   "cell_type": "code",
   "execution_count": 4,
   "metadata": {
    "execution": {
     "iopub.execute_input": "2025-01-05T19:18:12.978245Z",
     "iopub.status.busy": "2025-01-05T19:18:12.977881Z",
     "iopub.status.idle": "2025-01-05T19:18:16.563552Z",
     "shell.execute_reply": "2025-01-05T19:18:16.563048Z"
    }
   },
   "outputs": [
    {
     "name": "stdout",
     "output_type": "stream",
     "text": [
      "Error fetching data for CRM: 429 Client Error: Too Many Requests for url: https://financialmodelingprep.com/api/v3/profile/CRM?apikey=Bxi37jp53ErGcAcSYtRzqPHbgX6AuQTU\n",
      "Error fetching data for ACN: 429 Client Error: Too Many Requests for url: https://financialmodelingprep.com/api/v3/profile/ACN?apikey=Bxi37jp53ErGcAcSYtRzqPHbgX6AuQTU\n",
      "Error fetching data for ADBE: 429 Client Error: Too Many Requests for url: https://financialmodelingprep.com/api/v3/profile/ADBE?apikey=Bxi37jp53ErGcAcSYtRzqPHbgX6AuQTU\n",
      "Error fetching data for CSCO: 429 Client Error: Too Many Requests for url: https://financialmodelingprep.com/api/v3/profile/CSCO?apikey=Bxi37jp53ErGcAcSYtRzqPHbgX6AuQTU\n"
     ]
    },
    {
     "name": "stdout",
     "output_type": "stream",
     "text": [
      "Error fetching data for INTC: 429 Client Error: Too Many Requests for url: https://financialmodelingprep.com/api/v3/profile/INTC?apikey=Bxi37jp53ErGcAcSYtRzqPHbgX6AuQTU\n",
      "Error fetching data for NFLX: 429 Client Error: Too Many Requests for url: https://financialmodelingprep.com/api/v3/profile/NFLX?apikey=Bxi37jp53ErGcAcSYtRzqPHbgX6AuQTU\n",
      "Error fetching data for DIS: 429 Client Error: Too Many Requests for url: https://financialmodelingprep.com/api/v3/profile/DIS?apikey=Bxi37jp53ErGcAcSYtRzqPHbgX6AuQTU\n"
     ]
    },
    {
     "name": "stdout",
     "output_type": "stream",
     "text": [
      "Error fetching data for CMCSA: 429 Client Error: Too Many Requests for url: https://financialmodelingprep.com/api/v3/profile/CMCSA?apikey=Bxi37jp53ErGcAcSYtRzqPHbgX6AuQTU\n",
      "Error fetching data for VZ: 429 Client Error: Too Many Requests for url: https://financialmodelingprep.com/api/v3/profile/VZ?apikey=Bxi37jp53ErGcAcSYtRzqPHbgX6AuQTU\n",
      "Error fetching data for T: 429 Client Error: Too Many Requests for url: https://financialmodelingprep.com/api/v3/profile/T?apikey=Bxi37jp53ErGcAcSYtRzqPHbgX6AuQTU\n",
      "Error fetching data for AMZN: 429 Client Error: Too Many Requests for url: https://financialmodelingprep.com/api/v3/profile/AMZN?apikey=Bxi37jp53ErGcAcSYtRzqPHbgX6AuQTU\n",
      "Error fetching data for TSLA: 429 Client Error: Too Many Requests for url: https://financialmodelingprep.com/api/v3/profile/TSLA?apikey=Bxi37jp53ErGcAcSYtRzqPHbgX6AuQTU\n"
     ]
    },
    {
     "name": "stdout",
     "output_type": "stream",
     "text": [
      "Error fetching data for HD: 429 Client Error: Too Many Requests for url: https://financialmodelingprep.com/api/v3/profile/HD?apikey=Bxi37jp53ErGcAcSYtRzqPHbgX6AuQTU\n",
      "Error fetching data for MCD: 429 Client Error: Too Many Requests for url: https://financialmodelingprep.com/api/v3/profile/MCD?apikey=Bxi37jp53ErGcAcSYtRzqPHbgX6AuQTU\n",
      "Error fetching data for NKE: 429 Client Error: Too Many Requests for url: https://financialmodelingprep.com/api/v3/profile/NKE?apikey=Bxi37jp53ErGcAcSYtRzqPHbgX6AuQTU\n",
      "Error fetching data for SBUX: 429 Client Error: Too Many Requests for url: https://financialmodelingprep.com/api/v3/profile/SBUX?apikey=Bxi37jp53ErGcAcSYtRzqPHbgX6AuQTU\n",
      "Error fetching data for TGT: 429 Client Error: Too Many Requests for url: https://financialmodelingprep.com/api/v3/profile/TGT?apikey=Bxi37jp53ErGcAcSYtRzqPHbgX6AuQTU\n"
     ]
    },
    {
     "name": "stdout",
     "output_type": "stream",
     "text": [
      "Error fetching data for LOW: 429 Client Error: Too Many Requests for url: https://financialmodelingprep.com/api/v3/profile/LOW?apikey=Bxi37jp53ErGcAcSYtRzqPHbgX6AuQTU\n",
      "Error fetching data for WMT: 429 Client Error: Too Many Requests for url: https://financialmodelingprep.com/api/v3/profile/WMT?apikey=Bxi37jp53ErGcAcSYtRzqPHbgX6AuQTU\n",
      "Error fetching data for PG: 429 Client Error: Too Many Requests for url: https://financialmodelingprep.com/api/v3/profile/PG?apikey=Bxi37jp53ErGcAcSYtRzqPHbgX6AuQTU\n"
     ]
    },
    {
     "name": "stdout",
     "output_type": "stream",
     "text": [
      "Error fetching data for KO: 429 Client Error: Too Many Requests for url: https://financialmodelingprep.com/api/v3/profile/KO?apikey=Bxi37jp53ErGcAcSYtRzqPHbgX6AuQTU\n",
      "Error fetching data for PEP: 429 Client Error: Too Many Requests for url: https://financialmodelingprep.com/api/v3/profile/PEP?apikey=Bxi37jp53ErGcAcSYtRzqPHbgX6AuQTU\n",
      "Error fetching data for COST: 429 Client Error: Too Many Requests for url: https://financialmodelingprep.com/api/v3/profile/COST?apikey=Bxi37jp53ErGcAcSYtRzqPHbgX6AuQTU\n",
      "Error fetching data for BRK-B: 429 Client Error: Too Many Requests for url: https://financialmodelingprep.com/api/v3/profile/BRK-B?apikey=Bxi37jp53ErGcAcSYtRzqPHbgX6AuQTU\n",
      "Error fetching data for JPM: 429 Client Error: Too Many Requests for url: https://financialmodelingprep.com/api/v3/profile/JPM?apikey=Bxi37jp53ErGcAcSYtRzqPHbgX6AuQTU\n"
     ]
    },
    {
     "name": "stdout",
     "output_type": "stream",
     "text": [
      "Error fetching data for BAC: 429 Client Error: Too Many Requests for url: https://financialmodelingprep.com/api/v3/profile/BAC?apikey=Bxi37jp53ErGcAcSYtRzqPHbgX6AuQTU\n",
      "Error fetching data for WFC: 429 Client Error: Too Many Requests for url: https://financialmodelingprep.com/api/v3/profile/WFC?apikey=Bxi37jp53ErGcAcSYtRzqPHbgX6AuQTU\n",
      "Error fetching data for GS: 429 Client Error: Too Many Requests for url: https://financialmodelingprep.com/api/v3/profile/GS?apikey=Bxi37jp53ErGcAcSYtRzqPHbgX6AuQTU\n"
     ]
    },
    {
     "name": "stdout",
     "output_type": "stream",
     "text": [
      "Error fetching data for MS: 429 Client Error: Too Many Requests for url: https://financialmodelingprep.com/api/v3/profile/MS?apikey=Bxi37jp53ErGcAcSYtRzqPHbgX6AuQTU\n",
      "Error fetching data for BLK: 429 Client Error: Too Many Requests for url: https://financialmodelingprep.com/api/v3/profile/BLK?apikey=Bxi37jp53ErGcAcSYtRzqPHbgX6AuQTU\n",
      "Error fetching data for UNH: 429 Client Error: Too Many Requests for url: https://financialmodelingprep.com/api/v3/profile/UNH?apikey=Bxi37jp53ErGcAcSYtRzqPHbgX6AuQTU\n",
      "Error fetching data for JNJ: 429 Client Error: Too Many Requests for url: https://financialmodelingprep.com/api/v3/profile/JNJ?apikey=Bxi37jp53ErGcAcSYtRzqPHbgX6AuQTU\n"
     ]
    },
    {
     "name": "stdout",
     "output_type": "stream",
     "text": [
      "Error fetching data for PFE: 429 Client Error: Too Many Requests for url: https://financialmodelingprep.com/api/v3/profile/PFE?apikey=Bxi37jp53ErGcAcSYtRzqPHbgX6AuQTU\n",
      "Error fetching data for ABBV: 429 Client Error: Too Many Requests for url: https://financialmodelingprep.com/api/v3/profile/ABBV?apikey=Bxi37jp53ErGcAcSYtRzqPHbgX6AuQTU\n",
      "Error fetching data for MRK: 429 Client Error: Too Many Requests for url: https://financialmodelingprep.com/api/v3/profile/MRK?apikey=Bxi37jp53ErGcAcSYtRzqPHbgX6AuQTU\n",
      "Error fetching data for LLY: 429 Client Error: Too Many Requests for url: https://financialmodelingprep.com/api/v3/profile/LLY?apikey=Bxi37jp53ErGcAcSYtRzqPHbgX6AuQTU\n",
      "Error fetching data for CAT: 429 Client Error: Too Many Requests for url: https://financialmodelingprep.com/api/v3/profile/CAT?apikey=Bxi37jp53ErGcAcSYtRzqPHbgX6AuQTU\n"
     ]
    },
    {
     "name": "stdout",
     "output_type": "stream",
     "text": [
      "Error fetching data for BA: 429 Client Error: Too Many Requests for url: https://financialmodelingprep.com/api/v3/profile/BA?apikey=Bxi37jp53ErGcAcSYtRzqPHbgX6AuQTU\n",
      "Error fetching data for HON: 429 Client Error: Too Many Requests for url: https://financialmodelingprep.com/api/v3/profile/HON?apikey=Bxi37jp53ErGcAcSYtRzqPHbgX6AuQTU\n",
      "Error fetching data for UPS: 429 Client Error: Too Many Requests for url: https://financialmodelingprep.com/api/v3/profile/UPS?apikey=Bxi37jp53ErGcAcSYtRzqPHbgX6AuQTU\n",
      "Error fetching data for RTX: 429 Client Error: Too Many Requests for url: https://financialmodelingprep.com/api/v3/profile/RTX?apikey=Bxi37jp53ErGcAcSYtRzqPHbgX6AuQTU\n",
      "Error fetching data for GE: 429 Client Error: Too Many Requests for url: https://financialmodelingprep.com/api/v3/profile/GE?apikey=Bxi37jp53ErGcAcSYtRzqPHbgX6AuQTU\n"
     ]
    },
    {
     "name": "stdout",
     "output_type": "stream",
     "text": [
      "Error fetching data for XOM: 429 Client Error: Too Many Requests for url: https://financialmodelingprep.com/api/v3/profile/XOM?apikey=Bxi37jp53ErGcAcSYtRzqPHbgX6AuQTU\n",
      "Error fetching data for CVX: 429 Client Error: Too Many Requests for url: https://financialmodelingprep.com/api/v3/profile/CVX?apikey=Bxi37jp53ErGcAcSYtRzqPHbgX6AuQTU\n",
      "Error fetching data for COP: 429 Client Error: Too Many Requests for url: https://financialmodelingprep.com/api/v3/profile/COP?apikey=Bxi37jp53ErGcAcSYtRzqPHbgX6AuQTU\n",
      "Error fetching data for SLB: 429 Client Error: Too Many Requests for url: https://financialmodelingprep.com/api/v3/profile/SLB?apikey=Bxi37jp53ErGcAcSYtRzqPHbgX6AuQTU\n"
     ]
    },
    {
     "name": "stdout",
     "output_type": "stream",
     "text": [
      "Error fetching data for LIN: 429 Client Error: Too Many Requests for url: https://financialmodelingprep.com/api/v3/profile/LIN?apikey=Bxi37jp53ErGcAcSYtRzqPHbgX6AuQTU\n",
      "Error fetching data for APD: 429 Client Error: Too Many Requests for url: https://financialmodelingprep.com/api/v3/profile/APD?apikey=Bxi37jp53ErGcAcSYtRzqPHbgX6AuQTU\n",
      "Error fetching data for ECL: 429 Client Error: Too Many Requests for url: https://financialmodelingprep.com/api/v3/profile/ECL?apikey=Bxi37jp53ErGcAcSYtRzqPHbgX6AuQTU\n",
      "Error fetching data for PLD: 429 Client Error: Too Many Requests for url: https://financialmodelingprep.com/api/v3/profile/PLD?apikey=Bxi37jp53ErGcAcSYtRzqPHbgX6AuQTU\n",
      "Error fetching data for AMT: 429 Client Error: Too Many Requests for url: https://financialmodelingprep.com/api/v3/profile/AMT?apikey=Bxi37jp53ErGcAcSYtRzqPHbgX6AuQTU\n"
     ]
    },
    {
     "name": "stdout",
     "output_type": "stream",
     "text": [
      "Error fetching data for CCI: 429 Client Error: Too Many Requests for url: https://financialmodelingprep.com/api/v3/profile/CCI?apikey=Bxi37jp53ErGcAcSYtRzqPHbgX6AuQTU\n"
     ]
    }
   ],
   "source": [
    "def fetch_company_profile(symbol: str, api_key: str) -> Dict:\n",
    "    \"\"\"Fetch company profile data from FMP API\"\"\"\n",
    "    url = f\"https://financialmodelingprep.com/api/v3/profile/{symbol}\"\n",
    "    params = {\"apikey\": api_key}\n",
    "    \n",
    "    response = requests.get(url, params=params)\n",
    "    response.raise_for_status()\n",
    "    return response.json()\n",
    "\n",
    "def load_symbols(file_path: str) -> List[str]:\n",
    "    \"\"\"Load symbols from text file\"\"\"\n",
    "    with open(file_path, 'r') as f:\n",
    "        return [line.strip() for line in f if line.strip()]\n",
    "    \n",
    "# Fetch data for each symbol\n",
    "company_profiles = []\n",
    "for symbol in symbols:\n",
    "    try:\n",
    "        profile = fetch_company_profile(symbol, FMP_API_KEY)\n",
    "        if profile:  # Some symbols might return empty data\n",
    "            company_profiles.extend(profile)\n",
    "    except Exception as e:\n",
    "        print(f\"Error fetching data for {symbol}: {e}\")\n",
    "\n",
    "if company_profiles:\n",
    "    # Convert to Polars DataFrame\n",
    "    df = pl.DataFrame(company_profiles)"
   ]
  },
  {
   "cell_type": "markdown",
   "metadata": {},
   "source": [
    "## Step 4: Clean Column Names"
   ]
  },
  {
   "cell_type": "code",
   "execution_count": 5,
   "metadata": {
    "execution": {
     "iopub.execute_input": "2025-01-05T19:18:16.565561Z",
     "iopub.status.busy": "2025-01-05T19:18:16.565216Z",
     "iopub.status.idle": "2025-01-05T19:18:16.570353Z",
     "shell.execute_reply": "2025-01-05T19:18:16.569909Z"
    }
   },
   "outputs": [],
   "source": [
    "df = make_clean_names(df)"
   ]
  },
  {
   "cell_type": "markdown",
   "metadata": {},
   "source": [
    "## Step 5: Write Polars to Parquet"
   ]
  },
  {
   "cell_type": "code",
   "execution_count": 6,
   "metadata": {
    "execution": {
     "iopub.execute_input": "2025-01-05T19:18:16.571980Z",
     "iopub.status.busy": "2025-01-05T19:18:16.571807Z",
     "iopub.status.idle": "2025-01-05T19:18:16.577860Z",
     "shell.execute_reply": "2025-01-05T19:18:16.577290Z"
    }
   },
   "outputs": [],
   "source": [
    "output_dir = \"../../../data/finance\"\n",
    "\n",
    "# Write DataFrame to Parquet\n",
    "df.write_parquet(f'{output_dir}/company_profile.parquet')"
   ]
  },
  {
   "cell_type": "markdown",
   "metadata": {},
   "source": [
    "## Step 6: Read Parquet (Validate)"
   ]
  },
  {
   "cell_type": "code",
   "execution_count": 7,
   "metadata": {
    "execution": {
     "iopub.execute_input": "2025-01-05T19:18:16.579737Z",
     "iopub.status.busy": "2025-01-05T19:18:16.579416Z",
     "iopub.status.idle": "2025-01-05T19:18:16.587745Z",
     "shell.execute_reply": "2025-01-05T19:18:16.587189Z"
    }
   },
   "outputs": [
    {
     "data": {
      "text/html": [
       "<div><style>\n",
       ".dataframe > thead > tr,\n",
       ".dataframe > tbody > tr {\n",
       "  text-align: right;\n",
       "  white-space: pre-wrap;\n",
       "}\n",
       "</style>\n",
       "<small>shape: (5, 36)</small><table border=\"1\" class=\"dataframe\"><thead><tr><th>symbol</th><th>price</th><th>beta</th><th>vol_avg</th><th>mkt_cap</th><th>last_div</th><th>range</th><th>changes</th><th>company_name</th><th>currency</th><th>cik</th><th>isin</th><th>cusip</th><th>exchange</th><th>exchange_short_name</th><th>industry</th><th>website</th><th>description</th><th>ceo</th><th>sector</th><th>country</th><th>full_time_employees</th><th>phone</th><th>address</th><th>city</th><th>state</th><th>zip</th><th>dcf_diff</th><th>dcf</th><th>image</th><th>ipo_date</th><th>default_image</th><th>is_etf</th><th>is_actively_trading</th><th>is_adr</th><th>is_fund</th></tr><tr><td>str</td><td>f64</td><td>f64</td><td>i64</td><td>i64</td><td>f64</td><td>str</td><td>f64</td><td>str</td><td>str</td><td>str</td><td>str</td><td>str</td><td>str</td><td>str</td><td>str</td><td>str</td><td>str</td><td>str</td><td>str</td><td>str</td><td>str</td><td>str</td><td>str</td><td>str</td><td>str</td><td>str</td><td>f64</td><td>f64</td><td>str</td><td>str</td><td>bool</td><td>bool</td><td>bool</td><td>bool</td><td>bool</td></tr></thead><tbody><tr><td>&quot;AAPL&quot;</td><td>243.36</td><td>1.24</td><td>43961950</td><td>3678581088000</td><td>0.99</td><td>&quot;164.08-260.1&quot;</td><td>-0.49</td><td>&quot;Apple Inc.&quot;</td><td>&quot;USD&quot;</td><td>&quot;0000320193&quot;</td><td>&quot;US0378331005&quot;</td><td>&quot;037833100&quot;</td><td>&quot;NASDAQ Global Select&quot;</td><td>&quot;NASDAQ&quot;</td><td>&quot;Consumer Electronics&quot;</td><td>&quot;https://www.apple.com&quot;</td><td>&quot;Apple Inc. designs, manufactur…</td><td>&quot;Mr. Timothy D. Cook&quot;</td><td>&quot;Technology&quot;</td><td>&quot;US&quot;</td><td>&quot;164000&quot;</td><td>&quot;408 996 1010&quot;</td><td>&quot;One Apple Park Way&quot;</td><td>&quot;Cupertino&quot;</td><td>&quot;CA&quot;</td><td>&quot;95014&quot;</td><td>97.85115</td><td>145.50885</td><td>&quot;https://images.financialmodeli…</td><td>&quot;1980-12-12&quot;</td><td>false</td><td>false</td><td>true</td><td>false</td><td>false</td></tr><tr><td>&quot;MSFT&quot;</td><td>423.35</td><td>0.904</td><td>20813803</td><td>3147556448000</td><td>3.08</td><td>&quot;366.5-468.35&quot;</td><td>4.77</td><td>&quot;Microsoft Corporation&quot;</td><td>&quot;USD&quot;</td><td>&quot;0000789019&quot;</td><td>&quot;US5949181045&quot;</td><td>&quot;594918104&quot;</td><td>&quot;NASDAQ Global Select&quot;</td><td>&quot;NASDAQ&quot;</td><td>&quot;Software - Infrastructure&quot;</td><td>&quot;https://www.microsoft.com&quot;</td><td>&quot;Microsoft Corporation develops…</td><td>&quot;Mr. Satya&nbsp;&nbsp;Nadella&quot;</td><td>&quot;Technology&quot;</td><td>&quot;US&quot;</td><td>&quot;228000&quot;</td><td>&quot;425 882 8080&quot;</td><td>&quot;One Microsoft Way&quot;</td><td>&quot;Redmond&quot;</td><td>&quot;WA&quot;</td><td>&quot;98052-6399&quot;</td><td>65.72575</td><td>357.62425</td><td>&quot;https://images.financialmodeli…</td><td>&quot;1986-03-13&quot;</td><td>false</td><td>false</td><td>true</td><td>false</td><td>false</td></tr><tr><td>&quot;GOOGL&quot;</td><td>191.79</td><td>1.034</td><td>27485129</td><td>2354466537334</td><td>0.6</td><td>&quot;130.67-201.42&quot;</td><td>2.36</td><td>&quot;Alphabet Inc.&quot;</td><td>&quot;USD&quot;</td><td>&quot;0001652044&quot;</td><td>&quot;US02079K3059&quot;</td><td>&quot;02079K305&quot;</td><td>&quot;NASDAQ Global Select&quot;</td><td>&quot;NASDAQ&quot;</td><td>&quot;Internet Content &amp; Information&quot;</td><td>&quot;https://www.abc.xyz&quot;</td><td>&quot;Alphabet Inc. provides various…</td><td>&quot;Mr. Sundar&nbsp;&nbsp;Pichai&quot;</td><td>&quot;Communication Services&quot;</td><td>&quot;US&quot;</td><td>&quot;181269&quot;</td><td>&quot;650 253 0000&quot;</td><td>&quot;1600 Amphitheatre Parkway&quot;</td><td>&quot;Mountain View&quot;</td><td>&quot;CA&quot;</td><td>&quot;94043&quot;</td><td>-2.16927</td><td>193.959271</td><td>&quot;https://images.financialmodeli…</td><td>&quot;2004-08-19&quot;</td><td>false</td><td>false</td><td>true</td><td>false</td><td>false</td></tr><tr><td>&quot;GOOG&quot;</td><td>193.13</td><td>1.034</td><td>18791154</td><td>2354371139429</td><td>0.6</td><td>&quot;131.55-202.88&quot;</td><td>2.5</td><td>&quot;Alphabet Inc.&quot;</td><td>&quot;USD&quot;</td><td>&quot;0001652044&quot;</td><td>&quot;US02079K1079&quot;</td><td>&quot;02079K107&quot;</td><td>&quot;NASDAQ Global Select&quot;</td><td>&quot;NASDAQ&quot;</td><td>&quot;Internet Content &amp; Information&quot;</td><td>&quot;https://abc.xyz&quot;</td><td>&quot;Alphabet Inc. offers various p…</td><td>&quot;Mr. Sundar&nbsp;&nbsp;Pichai&quot;</td><td>&quot;Communication Services&quot;</td><td>&quot;US&quot;</td><td>&quot;181269&quot;</td><td>&quot;650 253 0000&quot;</td><td>&quot;1600 Amphitheatre Parkway&quot;</td><td>&quot;Mountain View&quot;</td><td>&quot;CA&quot;</td><td>&quot;94043&quot;</td><td>-2.16927</td><td>193.959271</td><td>&quot;https://images.financialmodeli…</td><td>&quot;2004-08-19&quot;</td><td>false</td><td>false</td><td>true</td><td>false</td><td>false</td></tr><tr><td>&quot;META&quot;</td><td>604.63</td><td>1.215</td><td>12035529</td><td>1526086587984</td><td>2.0</td><td>&quot;346.26-638.4&quot;</td><td>5.39</td><td>&quot;Meta Platforms, Inc.&quot;</td><td>&quot;USD&quot;</td><td>&quot;0001326801&quot;</td><td>&quot;US30303M1027&quot;</td><td>&quot;30303M102&quot;</td><td>&quot;NASDAQ Global Select&quot;</td><td>&quot;NASDAQ&quot;</td><td>&quot;Internet Content &amp; Information&quot;</td><td>&quot;https://investor.fb.com&quot;</td><td>&quot;Meta Platforms, Inc. engages i…</td><td>&quot;Mr. Mark Elliot Zuckerberg&quot;</td><td>&quot;Communication Services&quot;</td><td>&quot;US&quot;</td><td>&quot;72404&quot;</td><td>&quot;650 543 4800&quot;</td><td>&quot;1601 Willow Road&quot;</td><td>&quot;Menlo Park&quot;</td><td>&quot;CA&quot;</td><td>&quot;94025&quot;</td><td>155.33222</td><td>449.297781</td><td>&quot;https://images.financialmodeli…</td><td>&quot;2012-05-18&quot;</td><td>false</td><td>false</td><td>true</td><td>false</td><td>false</td></tr></tbody></table></div>"
      ],
      "text/plain": [
       "shape: (5, 36)\n",
       "┌────────┬────────┬───────┬──────────┬───┬────────┬─────────────────────┬────────┬─────────┐\n",
       "│ symbol ┆ price  ┆ beta  ┆ vol_avg  ┆ … ┆ is_etf ┆ is_actively_trading ┆ is_adr ┆ is_fund │\n",
       "│ ---    ┆ ---    ┆ ---   ┆ ---      ┆   ┆ ---    ┆ ---                 ┆ ---    ┆ ---     │\n",
       "│ str    ┆ f64    ┆ f64   ┆ i64      ┆   ┆ bool   ┆ bool                ┆ bool   ┆ bool    │\n",
       "╞════════╪════════╪═══════╪══════════╪═══╪════════╪═════════════════════╪════════╪═════════╡\n",
       "│ AAPL   ┆ 243.36 ┆ 1.24  ┆ 43961950 ┆ … ┆ false  ┆ true                ┆ false  ┆ false   │\n",
       "│ MSFT   ┆ 423.35 ┆ 0.904 ┆ 20813803 ┆ … ┆ false  ┆ true                ┆ false  ┆ false   │\n",
       "│ GOOGL  ┆ 191.79 ┆ 1.034 ┆ 27485129 ┆ … ┆ false  ┆ true                ┆ false  ┆ false   │\n",
       "│ GOOG   ┆ 193.13 ┆ 1.034 ┆ 18791154 ┆ … ┆ false  ┆ true                ┆ false  ┆ false   │\n",
       "│ META   ┆ 604.63 ┆ 1.215 ┆ 12035529 ┆ … ┆ false  ┆ true                ┆ false  ┆ false   │\n",
       "└────────┴────────┴───────┴──────────┴───┴────────┴─────────────────────┴────────┴─────────┘"
      ]
     },
     "execution_count": 7,
     "metadata": {},
     "output_type": "execute_result"
    }
   ],
   "source": [
    "pl.scan_parquet(f'{output_dir}/company_profile.parquet').head().collect()"
   ]
  }
 ],
 "metadata": {
  "kernelspec": {
   "display_name": ".venv",
   "language": "python",
   "name": "python3"
  },
  "language_info": {
   "codemirror_mode": {
    "name": "ipython",
    "version": 3
   },
   "file_extension": ".py",
   "mimetype": "text/x-python",
   "name": "python",
   "nbconvert_exporter": "python",
   "pygments_lexer": "ipython3",
   "version": "3.12.8"
  }
 },
 "nbformat": 4,
 "nbformat_minor": 2
}
