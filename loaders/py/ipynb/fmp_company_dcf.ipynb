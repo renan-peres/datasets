{
 "cells": [
  {
   "cell_type": "markdown",
   "metadata": {},
   "source": [
    "## Step 1: Import Libraries"
   ]
  },
  {
   "cell_type": "code",
   "execution_count": 1,
   "metadata": {
    "execution": {
     "iopub.execute_input": "2025-01-17T15:22:05.313661Z",
     "iopub.status.busy": "2025-01-17T15:22:05.313147Z",
     "iopub.status.idle": "2025-01-17T15:22:05.376563Z",
     "shell.execute_reply": "2025-01-17T15:22:05.376046Z"
    }
   },
   "outputs": [],
   "source": [
    "%run ../make_clean_names.py"
   ]
  },
  {
   "cell_type": "code",
   "execution_count": 2,
   "metadata": {
    "execution": {
     "iopub.execute_input": "2025-01-17T15:22:05.378745Z",
     "iopub.status.busy": "2025-01-17T15:22:05.378390Z",
     "iopub.status.idle": "2025-01-17T15:22:05.444580Z",
     "shell.execute_reply": "2025-01-17T15:22:05.444072Z"
    }
   },
   "outputs": [],
   "source": [
    "import concurrent.futures\n",
    "from concurrent.futures import ThreadPoolExecutor\n",
    "import requests\n",
    "from requests.adapters import HTTPAdapter\n",
    "from urllib3.util.retry import Retry\n",
    "import logging\n",
    "\n",
    "import polars as pl\n",
    "from datetime import datetime, timedelta\n",
    "from dotenv import load_dotenv\n",
    "import os\n",
    "\n",
    "# Load environment variables\n",
    "load_dotenv()\n",
    "\n",
    "logging.basicConfig(level=logging.INFO)\n",
    "logger = logging.getLogger(__name__)\n",
    "\n",
    "def create_session():\n",
    "    session = requests.Session()\n",
    "    retries = Retry(\n",
    "        total=3,\n",
    "        backoff_factor=1,\n",
    "        status_forcelist=[429, 500, 502, 503, 504]\n",
    "    )\n",
    "    session.mount('https://', HTTPAdapter(max_retries=retries, pool_maxsize=10))\n",
    "    return session\n",
    "\n",
    "# Get API key from environment variables\n",
    "FMP_API_KEY = os.getenv('FMP_API_KEY')\n",
    "if not FMP_API_KEY:\n",
    "    raise ValueError(\"FMP_API_KEY not found in environment variables\")"
   ]
  },
  {
   "cell_type": "markdown",
   "metadata": {},
   "source": [
    "## Step 2: Import Symbols"
   ]
  },
  {
   "cell_type": "code",
   "execution_count": 3,
   "metadata": {
    "execution": {
     "iopub.execute_input": "2025-01-17T15:22:05.446636Z",
     "iopub.status.busy": "2025-01-17T15:22:05.446291Z",
     "iopub.status.idle": "2025-01-17T15:22:05.450864Z",
     "shell.execute_reply": "2025-01-17T15:22:05.450311Z"
    }
   },
   "outputs": [
    {
     "name": "stdout",
     "output_type": "stream",
     "text": [
      "Loaded 60 symbols from ../tickers.txt\n",
      "Symbols: ['AAPL', 'MSFT', 'GOOGL', 'GOOG', 'META', 'NVDA', 'AVGO', 'ORCL', 'CRM', 'ACN', 'ADBE', 'CSCO', 'INTC', 'NFLX', 'DIS', 'CMCSA', 'VZ', 'T', 'AMZN', 'TSLA', 'HD', 'MCD', 'NKE', 'SBUX', 'TGT', 'LOW', 'WMT', 'PG', 'KO', 'PEP', 'COST', 'BRK-B', 'JPM', 'BAC', 'WFC', 'GS', 'MS', 'BLK', 'UNH', 'JNJ', 'PFE', 'ABBV', 'MRK', 'LLY', 'CAT', 'BA', 'HON', 'UPS', 'RTX', 'GE', 'XOM', 'CVX', 'COP', 'SLB', 'LIN', 'APD', 'ECL', 'PLD', 'AMT', 'CCI']\n"
     ]
    }
   ],
   "source": [
    "def load_symbols(file_path: str) -> List[str]:\n",
    "    \"\"\"Load symbols from a text file\"\"\"\n",
    "    try:\n",
    "        with open(file_path, 'r') as f:\n",
    "            symbols = [line.strip() for line in f if line.strip()]\n",
    "        print(f\"Loaded {len(symbols)} symbols from {file_path}\")\n",
    "        return symbols\n",
    "    except Exception as e:\n",
    "        print(f\"Error loading symbols: {str(e)}\")\n",
    "        return []\n",
    "\n",
    "symbols_file = '../tickers.txt'\n",
    "symbols = load_symbols(symbols_file)\n",
    "\n",
    "if symbols:\n",
    "    print(\"Symbols:\", symbols)\n",
    "else:\n",
    "    print(\"No symbols loaded.\")"
   ]
  },
  {
   "cell_type": "markdown",
   "metadata": {},
   "source": [
    "## Step 3: Extract Data from FMP into Polars"
   ]
  },
  {
   "cell_type": "code",
   "execution_count": 4,
   "metadata": {
    "execution": {
     "iopub.execute_input": "2025-01-17T15:22:05.488204Z",
     "iopub.status.busy": "2025-01-17T15:22:05.487869Z",
     "iopub.status.idle": "2025-01-17T15:22:05.927618Z",
     "shell.execute_reply": "2025-01-17T15:22:05.926937Z"
    }
   },
   "outputs": [],
   "source": [
    "def fetch_dcf(symbol: str, api_key: str, session: requests.Session) -> Dict:\n",
    "    \"\"\"Fetch company profile data from FMP API\"\"\"\n",
    "    url = f\"https://financialmodelingprep.com/api/v3/discounted-cash-flow/{symbol}\"\n",
    "    params = {\"apikey\": api_key}\n",
    "    \n",
    "    try:\n",
    "        response = session.get(url, params=params, timeout=10)\n",
    "        response.raise_for_status()\n",
    "        return response.json()\n",
    "    except Exception as e:\n",
    "        logger.error(f\"Error fetching {symbol}: {str(e)}\")\n",
    "        return None\n",
    "\n",
    "def fetch_all_dcf(symbols: List[str], api_key: str) -> List[Dict]:\n",
    "    session = create_session()\n",
    "    \n",
    "    with ThreadPoolExecutor(max_workers=10) as executor:\n",
    "        futures = [\n",
    "            executor.submit(fetch_dcf, symbol, api_key, session)\n",
    "            for symbol in symbols\n",
    "        ]\n",
    "        results = [\n",
    "            f.result() for f in concurrent.futures.as_completed(futures)\n",
    "        ]\n",
    "    \n",
    "    return [r[0] for r in results if r and isinstance(r, list)]\n",
    "\n",
    "# Execute fetching\n",
    "company_profiles = fetch_all_dcf(symbols, FMP_API_KEY)\n",
    "\n",
    "# Convert to Polars DataFrame more efficiently\n",
    "if company_profiles:\n",
    "    df_dcf = pl.DataFrame(company_profiles)"
   ]
  },
  {
   "cell_type": "code",
   "execution_count": 5,
   "metadata": {
    "execution": {
     "iopub.execute_input": "2025-01-17T15:22:05.930082Z",
     "iopub.status.busy": "2025-01-17T15:22:05.929618Z",
     "iopub.status.idle": "2025-01-17T15:22:06.983750Z",
     "shell.execute_reply": "2025-01-17T15:22:06.983234Z"
    }
   },
   "outputs": [],
   "source": [
    "def fetch_dcf_advanced(symbol: str, api_key: str, session: requests.Session) -> Dict:\n",
    "    \"\"\"Fetch company profile data from FMP API\"\"\"\n",
    "    url = f\"https://financialmodelingprep.com/api/v4/advanced_discounted_cash_flow\"\n",
    "    params = {\n",
    "        \"symbol\": symbol,\n",
    "        \"apikey\": api_key}\n",
    "    \n",
    "    try:\n",
    "        response = session.get(url, params=params, timeout=10)\n",
    "        response.raise_for_status()\n",
    "        return response.json()\n",
    "    except Exception as e:\n",
    "        logger.error(f\"Error fetching {symbol}: {str(e)}\")\n",
    "        return None\n",
    "\n",
    "def fetch_all_dcf_advanced(symbols: List[str], api_key: str) -> List[Dict]:\n",
    "    session = create_session()\n",
    "    \n",
    "    with ThreadPoolExecutor(max_workers=10) as executor:\n",
    "        futures = [\n",
    "            executor.submit(fetch_dcf_advanced, symbol, api_key, session)\n",
    "            for symbol in symbols\n",
    "        ]\n",
    "        results = [\n",
    "            f.result() for f in concurrent.futures.as_completed(futures)\n",
    "        ]\n",
    "    \n",
    "    return [r[0] for r in results if r and isinstance(r, list)]\n",
    "\n",
    "# Execute fetching\n",
    "company_profiles = fetch_all_dcf_advanced(symbols, FMP_API_KEY)\n",
    "\n",
    "# Convert to Polars DataFrame more efficiently\n",
    "if company_profiles:\n",
    "    df_dcf_advanced = pl.DataFrame(company_profiles)"
   ]
  },
  {
   "cell_type": "markdown",
   "metadata": {},
   "source": [
    "## Step 4: Clean Column Names"
   ]
  },
  {
   "cell_type": "code",
   "execution_count": 6,
   "metadata": {
    "execution": {
     "iopub.execute_input": "2025-01-17T15:22:06.986115Z",
     "iopub.status.busy": "2025-01-17T15:22:06.985594Z",
     "iopub.status.idle": "2025-01-17T15:22:06.991599Z",
     "shell.execute_reply": "2025-01-17T15:22:06.991120Z"
    }
   },
   "outputs": [],
   "source": [
    "df = df_dcf.join(df_dcf_advanced, on=\"symbol\", how=\"left\")"
   ]
  },
  {
   "cell_type": "code",
   "execution_count": 7,
   "metadata": {
    "execution": {
     "iopub.execute_input": "2025-01-17T15:22:06.993620Z",
     "iopub.status.busy": "2025-01-17T15:22:06.993284Z",
     "iopub.status.idle": "2025-01-17T15:22:06.997594Z",
     "shell.execute_reply": "2025-01-17T15:22:06.997131Z"
    }
   },
   "outputs": [],
   "source": [
    "df = make_clean_names(df)"
   ]
  },
  {
   "cell_type": "markdown",
   "metadata": {},
   "source": [
    "## Step 5: Write Polars to Parquet"
   ]
  },
  {
   "cell_type": "code",
   "execution_count": 8,
   "metadata": {
    "execution": {
     "iopub.execute_input": "2025-01-17T15:22:06.999422Z",
     "iopub.status.busy": "2025-01-17T15:22:06.999245Z",
     "iopub.status.idle": "2025-01-17T15:22:07.004529Z",
     "shell.execute_reply": "2025-01-17T15:22:07.004116Z"
    }
   },
   "outputs": [],
   "source": [
    "output_dir = \"../../../data/finance\"\n",
    "\n",
    "# Write DataFrame to Parquet\n",
    "df.write_parquet(f'{output_dir}/company_dfc_advanced.parquet')"
   ]
  },
  {
   "cell_type": "markdown",
   "metadata": {},
   "source": [
    "## Step 6: Read Parquet (Validate)"
   ]
  },
  {
   "cell_type": "code",
   "execution_count": 9,
   "metadata": {
    "execution": {
     "iopub.execute_input": "2025-01-17T15:22:07.006260Z",
     "iopub.status.busy": "2025-01-17T15:22:07.006093Z",
     "iopub.status.idle": "2025-01-17T15:22:07.014869Z",
     "shell.execute_reply": "2025-01-17T15:22:07.014311Z"
    }
   },
   "outputs": [
    {
     "data": {
      "text/html": [
       "<div><style>\n",
       ".dataframe > thead > tr,\n",
       ".dataframe > tbody > tr {\n",
       "  text-align: right;\n",
       "  white-space: pre-wrap;\n",
       "}\n",
       "</style>\n",
       "<small>shape: (5, 50)</small><table border=\"1\" class=\"dataframe\"><thead><tr><th>symbol</th><th>date</th><th>dcf</th><th>stock_price</th><th>year</th><th>revenue</th><th>revenue_percentage</th><th>ebitda</th><th>ebitda_percentage</th><th>ebit</th><th>ebit_percentage</th><th>depreciation</th><th>depreciation_percentage</th><th>total_cash</th><th>total_cash_percentage</th><th>receivables</th><th>receivables_percentage</th><th>inventories</th><th>inventories_percentage</th><th>payable</th><th>payable_percentage</th><th>capital_expenditure</th><th>capital_expenditure_percentage</th><th>price</th><th>beta</th><th>diluted_shares_outstanding</th><th>costof_debt</th><th>tax_rate</th><th>after_tax_cost_of_debt</th><th>risk_free_rate</th><th>market_risk_premium</th><th>cost_of_equity</th><th>total_debt</th><th>total_equity</th><th>total_capital</th><th>debt_weighting</th><th>equity_weighting</th><th>wacc</th><th>tax_rate_cash</th><th>ebiat</th><th>ufcf</th><th>sum_pv_ufcf</th><th>long_term_growth_rate</th><th>terminal_value</th><th>present_terminal_value</th><th>enterprise_value</th><th>net_debt</th><th>equity_value</th><th>equity_value_per_share</th><th>free_cash_flowt1</th></tr><tr><td>str</td><td>str</td><td>f64</td><td>f64</td><td>str</td><td>i64</td><td>f64</td><td>i64</td><td>f64</td><td>i64</td><td>f64</td><td>i64</td><td>f64</td><td>i64</td><td>f64</td><td>i64</td><td>f64</td><td>f64</td><td>f64</td><td>i64</td><td>f64</td><td>i64</td><td>f64</td><td>f64</td><td>f64</td><td>i64</td><td>f64</td><td>f64</td><td>f64</td><td>f64</td><td>f64</td><td>f64</td><td>i64</td><td>i64</td><td>i64</td><td>f64</td><td>f64</td><td>f64</td><td>i64</td><td>i64</td><td>i64</td><td>i64</td><td>f64</td><td>i64</td><td>i64</td><td>i64</td><td>i64</td><td>i64</td><td>f64</td><td>i64</td></tr></thead><tbody><tr><td>&quot;NVDA&quot;</td><td>&quot;2025-01-17&quot;</td><td>57.186829</td><td>133.57</td><td>&quot;2029&quot;</td><td>520683174055</td><td>53.59</td><td>195855645765</td><td>37.62</td><td>172283561763</td><td>33.09</td><td>23572084002</td><td>4.53</td><td>353940947259</td><td>67.98</td><td>80832177311</td><td>15.52</td><td>5.9766e10</td><td>11.48</td><td>29846344169</td><td>5.73</td><td>-24388759055</td><td>-4.68</td><td>136.9</td><td>1.657</td><td>24940000000</td><td>4.39</td><td>12.0</td><td>3.86</td><td>4.39</td><td>4.72</td><td>12.21</td><td>11056000000</td><td>3414161300000</td><td>3425217300000</td><td>0.32278</td><td>99.68</td><td>12.19</td><td>4301152</td><td>164873384699</td><td>125414004138</td><td>207042436256</td><td>4.0</td><td>1593495505795</td><td>896753931796</td><td>1103796368053</td><td>3776000000</td><td>1100020368053</td><td>44.11</td><td>130430564304</td></tr><tr><td>&quot;META&quot;</td><td>&quot;2025-01-17&quot;</td><td>450.74105</td><td>611.3</td><td>&quot;2028&quot;</td><td>313052449124</td><td>18.34</td><td>138686926174</td><td>44.3</td><td>114523353776</td><td>36.58</td><td>24163572398</td><td>7.72</td><td>171414206869</td><td>54.76</td><td>38872999762</td><td>12.42</td><td>0.0</td><td>0.0</td><td>9274005045</td><td>2.96</td><td>-63771558124</td><td>-20.37</td><td>608.78</td><td>1.215</td><td>2629000000</td><td>4.39</td><td>17.56</td><td>3.62</td><td>4.39</td><td>4.72</td><td>10.12</td><td>37234000000</td><td>1600482620000</td><td>1637716620000</td><td>2.27</td><td>97.73</td><td>9.98</td><td>18291174</td><td>93575688865</td><td>49381215107</td><td>131963108614</td><td>4.0</td><td>859355356838</td><td>534170625388</td><td>666133734003</td><td>-4628000000</td><td>670761734003</td><td>255.14</td><td>51356463711</td></tr><tr><td>&quot;MSFT&quot;</td><td>&quot;2025-01-17&quot;</td><td>359.266415</td><td>424.58</td><td>&quot;2029&quot;</td><td>482612279172</td><td>14.51</td><td>243343429409</td><td>50.42</td><td>206653972432</td><td>42.82</td><td>36689456977</td><td>7.6</td><td>298328812038</td><td>61.82</td><td>109589014184</td><td>22.71</td><td>6.2437e9</td><td>1.29</td><td>43316742017</td><td>8.98</td><td>-64207442622</td><td>-13.3</td><td>429.06</td><td>0.904</td><td>7469000000</td><td>4.39</td><td>18.23</td><td>3.59</td><td>4.39</td><td>4.72</td><td>8.66</td><td>97852000000</td><td>3204660343500</td><td>3302512343500</td><td>2.96</td><td>97.04</td><td>8.51</td><td>16131522</td><td>173317543200</td><td>136610813702</td><td>408299847621</td><td>4.0</td><td>3150596510076</td><td>2094375504923</td><td>2502675352544</td><td>79537000000</td><td>2423138352544</td><td>324.43</td><td>142075246250</td></tr><tr><td>&quot;CRM&quot;</td><td>&quot;2025-01-17&quot;</td><td>188.908171</td><td>320.0</td><td>&quot;2029&quot;</td><td>85367530420</td><td>19.62</td><td>15315079034</td><td>17.94</td><td>5131274276</td><td>6.01</td><td>10183804758</td><td>11.93</td><td>38103749554</td><td>44.63</td><td>30144526056</td><td>35.31</td><td>3.7496e9</td><td>4.39</td><td>9582770514</td><td>11.23</td><td>-2469646707</td><td>-2.89</td><td>323.69</td><td>1.288</td><td>984000000</td><td>4.39</td><td>16.44</td><td>3.67</td><td>4.39</td><td>4.72</td><td>10.47</td><td>13562000000</td><td>318511058400</td><td>332073058400</td><td>4.08</td><td>95.92</td><td>10.16</td><td>34565279</td><td>3357635029</td><td>7084413861</td><td>17054506950</td><td>2.0</td><td>88564891946</td><td>54595847475</td><td>71650354426</td><td>5090000000</td><td>66560354426</td><td>67.64</td><td>7226102138</td></tr><tr><td>&quot;ORCL&quot;</td><td>&quot;2025-01-17&quot;</td><td>95.281707</td><td>159.54</td><td>&quot;2029&quot;</td><td>77979944616</td><td>8.05</td><td>33211898875</td><td>42.59</td><td>26041516507</td><td>33.4</td><td>7170382367</td><td>9.2</td><td>45560506733</td><td>58.43</td><td>10965256666</td><td>14.06</td><td>4.45725995e8</td><td>0.57159</td><td>2095292649</td><td>2.69</td><td>-7841196885</td><td>-10.06</td><td>161.71</td><td>1.013</td><td>2823000000</td><td>4.39</td><td>10.85</td><td>3.91</td><td>4.39</td><td>4.72</td><td>9.17</td><td>94469000000</td><td>456504224700</td><td>550973224700</td><td>17.15</td><td>82.85</td><td>8.28</td><td>9168975</td><td>23653776623</td><td>22289305066</td><td>74754438891</td><td>4.0</td><td>541287991886</td><td>363610328258</td><td>438364767149</td><td>84015000000</td><td>354349767149</td><td>125.52</td><td>23180877269</td></tr></tbody></table></div>"
      ],
      "text/plain": [
       "shape: (5, 50)\n",
       "┌────────┬────────────┬────────────┬───────────┬───┬───────────┬───────────┬───────────┬───────────┐\n",
       "│ symbol ┆ date       ┆ dcf        ┆ stock_pri ┆ … ┆ net_debt  ┆ equity_va ┆ equity_va ┆ free_cash │\n",
       "│ ---    ┆ ---        ┆ ---        ┆ ce        ┆   ┆ ---       ┆ lue       ┆ lue_per_s ┆ _flowt1   │\n",
       "│ str    ┆ str        ┆ f64        ┆ ---       ┆   ┆ i64       ┆ ---       ┆ hare      ┆ ---       │\n",
       "│        ┆            ┆            ┆ f64       ┆   ┆           ┆ i64       ┆ ---       ┆ i64       │\n",
       "│        ┆            ┆            ┆           ┆   ┆           ┆           ┆ f64       ┆           │\n",
       "╞════════╪════════════╪════════════╪═══════════╪═══╪═══════════╪═══════════╪═══════════╪═══════════╡\n",
       "│ NVDA   ┆ 2025-01-17 ┆ 57.186829  ┆ 133.57    ┆ … ┆ 377600000 ┆ 110002036 ┆ 44.11     ┆ 130430564 │\n",
       "│        ┆            ┆            ┆           ┆   ┆ 0         ┆ 8053      ┆           ┆ 304       │\n",
       "│ META   ┆ 2025-01-17 ┆ 450.74105  ┆ 611.3     ┆ … ┆ -46280000 ┆ 670761734 ┆ 255.14    ┆ 513564637 │\n",
       "│        ┆            ┆            ┆           ┆   ┆ 00        ┆ 003       ┆           ┆ 11        │\n",
       "│ MSFT   ┆ 2025-01-17 ┆ 359.266415 ┆ 424.58    ┆ … ┆ 795370000 ┆ 242313835 ┆ 324.43    ┆ 142075246 │\n",
       "│        ┆            ┆            ┆           ┆   ┆ 00        ┆ 2544      ┆           ┆ 250       │\n",
       "│ CRM    ┆ 2025-01-17 ┆ 188.908171 ┆ 320.0     ┆ … ┆ 509000000 ┆ 665603544 ┆ 67.64     ┆ 722610213 │\n",
       "│        ┆            ┆            ┆           ┆   ┆ 0         ┆ 26        ┆           ┆ 8         │\n",
       "│ ORCL   ┆ 2025-01-17 ┆ 95.281707  ┆ 159.54    ┆ … ┆ 840150000 ┆ 354349767 ┆ 125.52    ┆ 231808772 │\n",
       "│        ┆            ┆            ┆           ┆   ┆ 00        ┆ 149       ┆           ┆ 69        │\n",
       "└────────┴────────────┴────────────┴───────────┴───┴───────────┴───────────┴───────────┴───────────┘"
      ]
     },
     "execution_count": 9,
     "metadata": {},
     "output_type": "execute_result"
    }
   ],
   "source": [
    "pl.scan_parquet(f'{output_dir}/company_dfc_advanced.parquet').head().collect()"
   ]
  }
 ],
 "metadata": {
  "kernelspec": {
   "display_name": ".venv",
   "language": "python",
   "name": "python3"
  },
  "language_info": {
   "codemirror_mode": {
    "name": "ipython",
    "version": 3
   },
   "file_extension": ".py",
   "mimetype": "text/x-python",
   "name": "python",
   "nbconvert_exporter": "python",
   "pygments_lexer": "ipython3",
   "version": "3.12.8"
  }
 },
 "nbformat": 4,
 "nbformat_minor": 2
}
